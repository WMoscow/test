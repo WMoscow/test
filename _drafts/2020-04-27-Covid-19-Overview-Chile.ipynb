{
 "cells": [
  {
   "cell_type": "markdown",
   "metadata": {
    "papermill": {
     "duration": 0.090332,
     "end_time": "2020-04-28T12:16:27.987316",
     "exception": false,
     "start_time": "2020-04-28T12:16:27.896984",
     "status": "completed"
    },
    "tags": []
   },
   "source": [
    "# COVID-19 status in Chile\n",
    "> COVID-19 overview in Chile\n",
    "\n",
    "- toc: true\n",
    "- badges: true\n",
    "- comments: true\n",
    "- author: Alonso Silva Allende\n",
    "- categories: [jupyter]\n",
    "- image: images/Chile-total-confirmed-cases.png"
   ]
  },
  {
   "cell_type": "code",
   "execution_count": 1,
   "metadata": {
    "execution": {
     "iopub.execute_input": "2020-04-28T12:16:28.153150Z",
     "iopub.status.busy": "2020-04-28T12:16:28.152543Z",
     "iopub.status.idle": "2020-04-28T12:16:28.577700Z",
     "shell.execute_reply": "2020-04-28T12:16:28.576813Z"
    },
    "papermill": {
     "duration": 0.509291,
     "end_time": "2020-04-28T12:16:28.577900",
     "exception": false,
     "start_time": "2020-04-28T12:16:28.068609",
     "status": "completed"
    },
    "tags": []
   },
   "outputs": [],
   "source": [
    "#hide\n",
    "import numpy as np\n",
    "import pandas as pd\n",
    "import altair as alt"
   ]
  },
  {
   "cell_type": "code",
   "execution_count": 2,
   "metadata": {
    "execution": {
     "iopub.execute_input": "2020-04-28T12:16:28.743578Z",
     "iopub.status.busy": "2020-04-28T12:16:28.742830Z",
     "iopub.status.idle": "2020-04-28T12:16:28.744682Z",
     "shell.execute_reply": "2020-04-28T12:16:28.745193Z"
    },
    "papermill": {
     "duration": 0.086639,
     "end_time": "2020-04-28T12:16:28.745326",
     "exception": false,
     "start_time": "2020-04-28T12:16:28.658687",
     "status": "completed"
    },
    "tags": []
   },
   "outputs": [],
   "source": [
    "#hide\n",
    "from IPython.display import display_html, HTML"
   ]
  },
  {
   "cell_type": "code",
   "execution_count": 3,
   "metadata": {
    "execution": {
     "iopub.execute_input": "2020-04-28T12:16:28.916116Z",
     "iopub.status.busy": "2020-04-28T12:16:28.915491Z",
     "iopub.status.idle": "2020-04-28T12:16:28.925854Z",
     "shell.execute_reply": "2020-04-28T12:16:28.926339Z"
    },
    "papermill": {
     "duration": 0.098105,
     "end_time": "2020-04-28T12:16:28.926470",
     "exception": false,
     "start_time": "2020-04-28T12:16:28.828365",
     "status": "completed"
    },
    "tags": []
   },
   "outputs": [
    {
     "data": {
      "text/plain": [
       "'2020-04-27'"
      ]
     },
     "execution_count": 3,
     "metadata": {},
     "output_type": "execute_result"
    }
   ],
   "source": [
    "#hide\n",
    "update_date = pd.to_datetime('today') - pd.offsets.Hour(48)\n",
    "today = update_date.strftime('%Y-%m-%d')\n",
    "today"
   ]
  },
  {
   "cell_type": "code",
   "execution_count": 4,
   "metadata": {
    "execution": {
     "iopub.execute_input": "2020-04-28T12:16:29.090437Z",
     "iopub.status.busy": "2020-04-28T12:16:29.089838Z",
     "iopub.status.idle": "2020-04-28T12:16:29.092044Z",
     "shell.execute_reply": "2020-04-28T12:16:29.092605Z"
    },
    "papermill": {
     "duration": 0.086545,
     "end_time": "2020-04-28T12:16:29.092733",
     "exception": false,
     "start_time": "2020-04-28T12:16:29.006188",
     "status": "completed"
    },
    "tags": []
   },
   "outputs": [
    {
     "data": {
      "text/plain": [
       "'2020-04-20'"
      ]
     },
     "execution_count": 4,
     "metadata": {},
     "output_type": "execute_result"
    }
   ],
   "source": [
    "#hide\n",
    "date_one_week_ago = (update_date - pd.offsets.Day(7)).strftime('%Y-%m-%d')\n",
    "date_one_week_ago"
   ]
  },
  {
   "cell_type": "code",
   "execution_count": 5,
   "metadata": {
    "execution": {
     "iopub.execute_input": "2020-04-28T12:16:29.260413Z",
     "iopub.status.busy": "2020-04-28T12:16:29.259792Z",
     "iopub.status.idle": "2020-04-28T12:16:29.261976Z",
     "shell.execute_reply": "2020-04-28T12:16:29.262451Z"
    },
    "papermill": {
     "duration": 0.088391,
     "end_time": "2020-04-28T12:16:29.262577",
     "exception": false,
     "start_time": "2020-04-28T12:16:29.174186",
     "status": "completed"
    },
    "tags": []
   },
   "outputs": [
    {
     "name": "stdout",
     "output_type": "stream",
     "text": [
      "Updated on April 27, 2020.\n"
     ]
    }
   ],
   "source": [
    "#hide_input\n",
    "print(f\"Updated on {update_date.strftime('%B %d, %Y')}.\")"
   ]
  },
  {
   "cell_type": "code",
   "execution_count": 6,
   "metadata": {
    "execution": {
     "iopub.execute_input": "2020-04-28T12:16:29.428170Z",
     "iopub.status.busy": "2020-04-28T12:16:29.427421Z",
     "iopub.status.idle": "2020-04-28T12:16:29.534325Z",
     "shell.execute_reply": "2020-04-28T12:16:29.533620Z"
    },
    "papermill": {
     "duration": 0.191721,
     "end_time": "2020-04-28T12:16:29.534478",
     "exception": false,
     "start_time": "2020-04-28T12:16:29.342757",
     "status": "completed"
    },
    "tags": []
   },
   "outputs": [],
   "source": [
    "#hide\n",
    "casos_raw = pd.read_csv(\n",
    "    \"https://raw.githubusercontent.com/MinCiencia/Datos-COVID19/master/output/producto3/CasosTotalesCumulativo.csv\",\n",
    "    index_col='Region')"
   ]
  },
  {
   "cell_type": "code",
   "execution_count": 7,
   "metadata": {
    "execution": {
     "iopub.execute_input": "2020-04-28T12:16:29.706319Z",
     "iopub.status.busy": "2020-04-28T12:16:29.705167Z",
     "iopub.status.idle": "2020-04-28T12:16:29.951376Z",
     "shell.execute_reply": "2020-04-28T12:16:29.950737Z"
    },
    "papermill": {
     "duration": 0.330996,
     "end_time": "2020-04-28T12:16:29.951502",
     "exception": false,
     "start_time": "2020-04-28T12:16:29.620506",
     "status": "completed"
    },
    "tags": []
   },
   "outputs": [],
   "source": [
    "#hide\n",
    "s = \"https://raw.githubusercontent.com/MinCiencia/Datos-COVID19/master/output/producto4/\" \\\n",
    "+ today + \"-CasosConfirmados-totalRegional.csv\"\n",
    "deaths_raw = pd.read_csv(s, index_col='Region')"
   ]
  },
  {
   "cell_type": "code",
   "execution_count": 8,
   "metadata": {
    "execution": {
     "iopub.execute_input": "2020-04-28T12:16:30.125941Z",
     "iopub.status.busy": "2020-04-28T12:16:30.125334Z",
     "iopub.status.idle": "2020-04-28T12:16:30.278134Z",
     "shell.execute_reply": "2020-04-28T12:16:30.277066Z"
    },
    "papermill": {
     "duration": 0.242196,
     "end_time": "2020-04-28T12:16:30.278343",
     "exception": false,
     "start_time": "2020-04-28T12:16:30.036147",
     "status": "completed"
    },
    "tags": []
   },
   "outputs": [],
   "source": [
    "#hide\n",
    "s = \"https://raw.githubusercontent.com/MinCiencia/Datos-COVID19/master/output/producto4/\" \\\n",
    "+ date_one_week_ago + \"-CasosConfirmados-totalRegional.csv\"\n",
    "deaths_one_week_ago = pd.read_csv(s, index_col='Region')"
   ]
  },
  {
   "cell_type": "code",
   "execution_count": 9,
   "metadata": {
    "execution": {
     "iopub.execute_input": "2020-04-28T12:16:30.478687Z",
     "iopub.status.busy": "2020-04-28T12:16:30.477969Z",
     "iopub.status.idle": "2020-04-28T12:16:30.496723Z",
     "shell.execute_reply": "2020-04-28T12:16:30.496063Z"
    },
    "papermill": {
     "duration": 0.10577,
     "end_time": "2020-04-28T12:16:30.496872",
     "exception": false,
     "start_time": "2020-04-28T12:16:30.391102",
     "status": "completed"
    },
    "tags": []
   },
   "outputs": [],
   "source": [
    "#hide\n",
    "tests_raw = pd.read_csv(\n",
    "    'https://raw.githubusercontent.com/MinCiencia/Datos-COVID19/master/output/producto7/PCR.csv',\n",
    "    index_col='Region')"
   ]
  },
  {
   "cell_type": "code",
   "execution_count": 10,
   "metadata": {
    "execution": {
     "iopub.execute_input": "2020-04-28T12:16:30.661457Z",
     "iopub.status.busy": "2020-04-28T12:16:30.660852Z",
     "iopub.status.idle": "2020-04-28T12:16:30.680972Z",
     "shell.execute_reply": "2020-04-28T12:16:30.680434Z"
    },
    "papermill": {
     "duration": 0.103544,
     "end_time": "2020-04-28T12:16:30.681086",
     "exception": false,
     "start_time": "2020-04-28T12:16:30.577542",
     "status": "completed"
    },
    "tags": []
   },
   "outputs": [],
   "source": [
    "#hide\n",
    "data_table = pd.DataFrame()\n",
    "data_table[\"Region\"] = casos_raw[today].drop(\"Total\").reset_index()[\"Region\"]\n",
    "data_table[\"Confirmed cases\"] = casos_raw[today].drop(\"Total\").reset_index()[today]\n",
    "data_table[\"Confirmed cases per 100,000 people\"] = np.round(100000*(casos_raw[today]/tests_raw['Poblacion']).drop('Total'), decimals=1).values\n",
    "data_table[\"Confirmed deaths\"] = deaths_raw[\"Fallecidos\"].drop(\"Total\").values\n",
    "data_table[\"Confirmed deaths per 100.000 people\"] = \\\n",
    "np.round(100000*deaths_raw['Fallecidos'].drop('Total')/(tests_raw['Poblacion'].values), decimals=1).values"
   ]
  },
  {
   "cell_type": "code",
   "execution_count": 11,
   "metadata": {
    "execution": {
     "iopub.execute_input": "2020-04-28T12:16:30.847944Z",
     "iopub.status.busy": "2020-04-28T12:16:30.846680Z",
     "iopub.status.idle": "2020-04-28T12:16:30.848604Z",
     "shell.execute_reply": "2020-04-28T12:16:30.849077Z"
    },
    "papermill": {
     "duration": 0.089057,
     "end_time": "2020-04-28T12:16:30.849204",
     "exception": false,
     "start_time": "2020-04-28T12:16:30.760147",
     "status": "completed"
    },
    "tags": []
   },
   "outputs": [],
   "source": [
    "#hide\n",
    "total_confirmed = casos_raw.iloc[-1,-1]\n",
    "total_deaths = deaths_raw.iloc[-1,-1]"
   ]
  },
  {
   "cell_type": "code",
   "execution_count": 12,
   "metadata": {
    "execution": {
     "iopub.execute_input": "2020-04-28T12:16:31.015540Z",
     "iopub.status.busy": "2020-04-28T12:16:31.014859Z",
     "iopub.status.idle": "2020-04-28T12:16:31.019869Z",
     "shell.execute_reply": "2020-04-28T12:16:31.019266Z"
    },
    "papermill": {
     "duration": 0.089985,
     "end_time": "2020-04-28T12:16:31.019983",
     "exception": false,
     "start_time": "2020-04-28T12:16:30.929998",
     "status": "completed"
    },
    "tags": []
   },
   "outputs": [],
   "source": [
    "#hide\n",
    "total_confirmed_one_week_ago = casos_raw.iloc[-1,-8]\n",
    "total_deaths_one_week_ago = deaths_one_week_ago.loc[\"Total\", \"Fallecidos\"]"
   ]
  },
  {
   "cell_type": "code",
   "execution_count": 13,
   "metadata": {
    "execution": {
     "iopub.execute_input": "2020-04-28T12:16:31.184353Z",
     "iopub.status.busy": "2020-04-28T12:16:31.183124Z",
     "iopub.status.idle": "2020-04-28T12:16:31.185010Z",
     "shell.execute_reply": "2020-04-28T12:16:31.185483Z"
    },
    "papermill": {
     "duration": 0.086319,
     "end_time": "2020-04-28T12:16:31.185611",
     "exception": false,
     "start_time": "2020-04-28T12:16:31.099292",
     "status": "completed"
    },
    "tags": []
   },
   "outputs": [],
   "source": [
    "#hide\n",
    "diff_cases = total_confirmed-total_confirmed_one_week_ago\n",
    "diff_deaths = total_deaths-total_deaths_one_week_ago"
   ]
  },
  {
   "cell_type": "code",
   "execution_count": 14,
   "metadata": {
    "execution": {
     "iopub.execute_input": "2020-04-28T12:16:31.359979Z",
     "iopub.status.busy": "2020-04-28T12:16:31.359371Z",
     "iopub.status.idle": "2020-04-28T12:16:31.362256Z",
     "shell.execute_reply": "2020-04-28T12:16:31.361743Z"
    },
    "papermill": {
     "duration": 0.097559,
     "end_time": "2020-04-28T12:16:31.362365",
     "exception": false,
     "start_time": "2020-04-28T12:16:31.264806",
     "status": "completed"
    },
    "tags": []
   },
   "outputs": [],
   "source": [
    "#hide\n",
    "total_confirmed = '{:,}'.format(total_confirmed) #.replace(',', '.')\n",
    "total_deaths = '{:,}'.format(total_deaths) #.replace(',', '.')"
   ]
  },
  {
   "cell_type": "code",
   "execution_count": 15,
   "metadata": {
    "execution": {
     "iopub.execute_input": "2020-04-28T12:16:31.526463Z",
     "iopub.status.busy": "2020-04-28T12:16:31.525851Z",
     "iopub.status.idle": "2020-04-28T12:16:31.527553Z",
     "shell.execute_reply": "2020-04-28T12:16:31.528061Z"
    },
    "papermill": {
     "duration": 0.086965,
     "end_time": "2020-04-28T12:16:31.528190",
     "exception": false,
     "start_time": "2020-04-28T12:16:31.441225",
     "status": "completed"
    },
    "tags": []
   },
   "outputs": [],
   "source": [
    "#hide\n",
    "diff_cases = '{:,}'.format(diff_cases) #.replace(',', '.')\n",
    "diff_deaths = '{:,}'.format(diff_deaths) #.replace(',', '.')"
   ]
  },
  {
   "cell_type": "code",
   "execution_count": 16,
   "metadata": {
    "execution": {
     "iopub.execute_input": "2020-04-28T12:16:31.691841Z",
     "iopub.status.busy": "2020-04-28T12:16:31.691225Z",
     "iopub.status.idle": "2020-04-28T12:16:31.693561Z",
     "shell.execute_reply": "2020-04-28T12:16:31.694080Z"
    },
    "papermill": {
     "duration": 0.086837,
     "end_time": "2020-04-28T12:16:31.694210",
     "exception": false,
     "start_time": "2020-04-28T12:16:31.607373",
     "status": "completed"
    },
    "scrolled": false,
    "tags": []
   },
   "outputs": [
    {
     "data": {
      "text/html": [
       "<p style=\"color:#3361ff;\"><span style=\"font-weight:bold;\">Confirmed cases:</span> 14,365 (+3,533 since 7 days ago)</p><p style=\"color:#FF3F3F;\"><span style=\"font-weight:bold;\">Confirmed deaths:</span> 198 (+59 since 7 days ago)</p>"
      ],
      "text/plain": [
       "<IPython.core.display.HTML object>"
      ]
     },
     "execution_count": 16,
     "metadata": {},
     "output_type": "execute_result"
    }
   ],
   "source": [
    "#hide_input\n",
    "HTML(f'<p style=\"color:#3361ff;\"><span style=\"font-weight:bold;\">Confirmed cases:</span> {total_confirmed} (+{diff_cases} since 7 days ago)</p><p style=\"color:#FF3F3F;\"><span style=\"font-weight:bold;\">Confirmed deaths:</span> {total_deaths} (+{diff_deaths} since 7 days ago)</p>')"
   ]
  },
  {
   "cell_type": "code",
   "execution_count": 17,
   "metadata": {
    "execution": {
     "iopub.execute_input": "2020-04-28T12:16:31.864465Z",
     "iopub.status.busy": "2020-04-28T12:16:31.863859Z",
     "iopub.status.idle": "2020-04-28T12:16:32.290292Z",
     "shell.execute_reply": "2020-04-28T12:16:32.289431Z"
    },
    "papermill": {
     "duration": 0.51628,
     "end_time": "2020-04-28T12:16:32.290479",
     "exception": false,
     "start_time": "2020-04-28T12:16:31.774199",
     "status": "completed"
    },
    "scrolled": false,
    "tags": []
   },
   "outputs": [
    {
     "data": {
      "text/html": [
       "<style  type=\"text/css\" >\n",
       "    #T_2bf539da_8a59_11ea_9f98_8c8590579279row0_col0 {\n",
       "            text-align:  right;\n",
       "        }    #T_2bf539da_8a59_11ea_9f98_8c8590579279row0_col1 {\n",
       "            text-align:  right;\n",
       "            background-color:  #fff0e8;\n",
       "            color:  #000000;\n",
       "        }    #T_2bf539da_8a59_11ea_9f98_8c8590579279row0_col2 {\n",
       "            text-align:  right;\n",
       "            background-color:  #fdd5c4;\n",
       "            color:  #000000;\n",
       "        }    #T_2bf539da_8a59_11ea_9f98_8c8590579279row0_col3 {\n",
       "            text-align:  right;\n",
       "            background-color:  #fff0e8;\n",
       "            color:  #000000;\n",
       "        }    #T_2bf539da_8a59_11ea_9f98_8c8590579279row0_col4 {\n",
       "            text-align:  right;\n",
       "            background-color:  #fdc6b0;\n",
       "            color:  #000000;\n",
       "        }    #T_2bf539da_8a59_11ea_9f98_8c8590579279row1_col0 {\n",
       "            text-align:  right;\n",
       "        }    #T_2bf539da_8a59_11ea_9f98_8c8590579279row1_col1 {\n",
       "            text-align:  right;\n",
       "            background-color:  #fff2eb;\n",
       "            color:  #000000;\n",
       "        }    #T_2bf539da_8a59_11ea_9f98_8c8590579279row1_col2 {\n",
       "            text-align:  right;\n",
       "            background-color:  #fca78b;\n",
       "            color:  #000000;\n",
       "        }    #T_2bf539da_8a59_11ea_9f98_8c8590579279row1_col3 {\n",
       "            text-align:  right;\n",
       "            background-color:  #fff4ee;\n",
       "            color:  #000000;\n",
       "        }    #T_2bf539da_8a59_11ea_9f98_8c8590579279row1_col4 {\n",
       "            text-align:  right;\n",
       "            background-color:  #ffece4;\n",
       "            color:  #000000;\n",
       "        }    #T_2bf539da_8a59_11ea_9f98_8c8590579279row2_col0 {\n",
       "            text-align:  right;\n",
       "        }    #T_2bf539da_8a59_11ea_9f98_8c8590579279row2_col1 {\n",
       "            text-align:  right;\n",
       "            background-color:  #ffece3;\n",
       "            color:  #000000;\n",
       "        }    #T_2bf539da_8a59_11ea_9f98_8c8590579279row2_col2 {\n",
       "            text-align:  right;\n",
       "            background-color:  #fcb69b;\n",
       "            color:  #000000;\n",
       "        }    #T_2bf539da_8a59_11ea_9f98_8c8590579279row2_col3 {\n",
       "            text-align:  right;\n",
       "            background-color:  #ffeee7;\n",
       "            color:  #000000;\n",
       "        }    #T_2bf539da_8a59_11ea_9f98_8c8590579279row2_col4 {\n",
       "            text-align:  right;\n",
       "            background-color:  #fee3d7;\n",
       "            color:  #000000;\n",
       "        }    #T_2bf539da_8a59_11ea_9f98_8c8590579279row3_col0 {\n",
       "            text-align:  right;\n",
       "        }    #T_2bf539da_8a59_11ea_9f98_8c8590579279row3_col1 {\n",
       "            text-align:  right;\n",
       "            background-color:  #fff5f0;\n",
       "            color:  #000000;\n",
       "        }    #T_2bf539da_8a59_11ea_9f98_8c8590579279row3_col2 {\n",
       "            text-align:  right;\n",
       "            background-color:  #fff3ed;\n",
       "            color:  #000000;\n",
       "        }    #T_2bf539da_8a59_11ea_9f98_8c8590579279row3_col3 {\n",
       "            text-align:  right;\n",
       "            background-color:  #fff5f0;\n",
       "            color:  #000000;\n",
       "        }    #T_2bf539da_8a59_11ea_9f98_8c8590579279row3_col4 {\n",
       "            text-align:  right;\n",
       "            background-color:  #fff5f0;\n",
       "            color:  #000000;\n",
       "        }    #T_2bf539da_8a59_11ea_9f98_8c8590579279row4_col0 {\n",
       "            text-align:  right;\n",
       "        }    #T_2bf539da_8a59_11ea_9f98_8c8590579279row4_col1 {\n",
       "            text-align:  right;\n",
       "            background-color:  #fff4ee;\n",
       "            color:  #000000;\n",
       "        }    #T_2bf539da_8a59_11ea_9f98_8c8590579279row4_col2 {\n",
       "            text-align:  right;\n",
       "            background-color:  #fff5f0;\n",
       "            color:  #000000;\n",
       "        }    #T_2bf539da_8a59_11ea_9f98_8c8590579279row4_col3 {\n",
       "            text-align:  right;\n",
       "            background-color:  #fff5f0;\n",
       "            color:  #000000;\n",
       "        }    #T_2bf539da_8a59_11ea_9f98_8c8590579279row4_col4 {\n",
       "            text-align:  right;\n",
       "            background-color:  #fff5f0;\n",
       "            color:  #000000;\n",
       "        }    #T_2bf539da_8a59_11ea_9f98_8c8590579279row5_col0 {\n",
       "            text-align:  right;\n",
       "        }    #T_2bf539da_8a59_11ea_9f98_8c8590579279row5_col1 {\n",
       "            text-align:  right;\n",
       "            background-color:  #ffebe2;\n",
       "            color:  #000000;\n",
       "        }    #T_2bf539da_8a59_11ea_9f98_8c8590579279row5_col2 {\n",
       "            text-align:  right;\n",
       "            background-color:  #fee5d9;\n",
       "            color:  #000000;\n",
       "        }    #T_2bf539da_8a59_11ea_9f98_8c8590579279row5_col3 {\n",
       "            text-align:  right;\n",
       "            background-color:  #fee5d9;\n",
       "            color:  #000000;\n",
       "        }    #T_2bf539da_8a59_11ea_9f98_8c8590579279row5_col4 {\n",
       "            text-align:  right;\n",
       "            background-color:  #fee7db;\n",
       "            color:  #000000;\n",
       "        }    #T_2bf539da_8a59_11ea_9f98_8c8590579279row6_col0 {\n",
       "            text-align:  right;\n",
       "        }    #T_2bf539da_8a59_11ea_9f98_8c8590579279row6_col1 {\n",
       "            text-align:  right;\n",
       "            background-color:  #67000d;\n",
       "            color:  #f1f1f1;\n",
       "        }    #T_2bf539da_8a59_11ea_9f98_8c8590579279row6_col2 {\n",
       "            text-align:  right;\n",
       "            background-color:  #fff4ef;\n",
       "            color:  #000000;\n",
       "        }    #T_2bf539da_8a59_11ea_9f98_8c8590579279row6_col3 {\n",
       "            text-align:  right;\n",
       "            background-color:  #67000d;\n",
       "            color:  #f1f1f1;\n",
       "        }    #T_2bf539da_8a59_11ea_9f98_8c8590579279row6_col4 {\n",
       "            text-align:  right;\n",
       "            background-color:  #fdc6b0;\n",
       "            color:  #000000;\n",
       "        }    #T_2bf539da_8a59_11ea_9f98_8c8590579279row7_col0 {\n",
       "            text-align:  right;\n",
       "        }    #T_2bf539da_8a59_11ea_9f98_8c8590579279row7_col1 {\n",
       "            text-align:  right;\n",
       "            background-color:  #fff4ee;\n",
       "            color:  #000000;\n",
       "        }    #T_2bf539da_8a59_11ea_9f98_8c8590579279row7_col2 {\n",
       "            text-align:  right;\n",
       "            background-color:  #fee0d2;\n",
       "            color:  #000000;\n",
       "        }    #T_2bf539da_8a59_11ea_9f98_8c8590579279row7_col3 {\n",
       "            text-align:  right;\n",
       "            background-color:  #fff4ee;\n",
       "            color:  #000000;\n",
       "        }    #T_2bf539da_8a59_11ea_9f98_8c8590579279row7_col4 {\n",
       "            text-align:  right;\n",
       "            background-color:  #fff2ec;\n",
       "            color:  #000000;\n",
       "        }    #T_2bf539da_8a59_11ea_9f98_8c8590579279row8_col0 {\n",
       "            text-align:  right;\n",
       "        }    #T_2bf539da_8a59_11ea_9f98_8c8590579279row8_col1 {\n",
       "            text-align:  right;\n",
       "            background-color:  #ffeee6;\n",
       "            color:  #000000;\n",
       "        }    #T_2bf539da_8a59_11ea_9f98_8c8590579279row8_col2 {\n",
       "            text-align:  right;\n",
       "            background-color:  #fee4d8;\n",
       "            color:  #000000;\n",
       "        }    #T_2bf539da_8a59_11ea_9f98_8c8590579279row8_col3 {\n",
       "            text-align:  right;\n",
       "            background-color:  #fee0d2;\n",
       "            color:  #000000;\n",
       "        }    #T_2bf539da_8a59_11ea_9f98_8c8590579279row8_col4 {\n",
       "            text-align:  right;\n",
       "            background-color:  #fdcbb6;\n",
       "            color:  #000000;\n",
       "        }    #T_2bf539da_8a59_11ea_9f98_8c8590579279row9_col0 {\n",
       "            text-align:  right;\n",
       "        }    #T_2bf539da_8a59_11ea_9f98_8c8590579279row9_col1 {\n",
       "            text-align:  right;\n",
       "            background-color:  #fee6da;\n",
       "            color:  #000000;\n",
       "        }    #T_2bf539da_8a59_11ea_9f98_8c8590579279row9_col2 {\n",
       "            text-align:  right;\n",
       "            background-color:  #67000d;\n",
       "            color:  #f1f1f1;\n",
       "        }    #T_2bf539da_8a59_11ea_9f98_8c8590579279row9_col3 {\n",
       "            text-align:  right;\n",
       "            background-color:  #fedaca;\n",
       "            color:  #000000;\n",
       "        }    #T_2bf539da_8a59_11ea_9f98_8c8590579279row9_col4 {\n",
       "            text-align:  right;\n",
       "            background-color:  #fb7050;\n",
       "            color:  #000000;\n",
       "        }    #T_2bf539da_8a59_11ea_9f98_8c8590579279row10_col0 {\n",
       "            text-align:  right;\n",
       "        }    #T_2bf539da_8a59_11ea_9f98_8c8590579279row10_col1 {\n",
       "            text-align:  right;\n",
       "            background-color:  #fee7db;\n",
       "            color:  #000000;\n",
       "        }    #T_2bf539da_8a59_11ea_9f98_8c8590579279row10_col2 {\n",
       "            text-align:  right;\n",
       "            background-color:  #feeae0;\n",
       "            color:  #000000;\n",
       "        }    #T_2bf539da_8a59_11ea_9f98_8c8590579279row10_col3 {\n",
       "            text-align:  right;\n",
       "            background-color:  #feeae1;\n",
       "            color:  #000000;\n",
       "        }    #T_2bf539da_8a59_11ea_9f98_8c8590579279row10_col4 {\n",
       "            text-align:  right;\n",
       "            background-color:  #fee9df;\n",
       "            color:  #000000;\n",
       "        }    #T_2bf539da_8a59_11ea_9f98_8c8590579279row11_col0 {\n",
       "            text-align:  right;\n",
       "        }    #T_2bf539da_8a59_11ea_9f98_8c8590579279row11_col1 {\n",
       "            text-align:  right;\n",
       "            background-color:  #fdd7c6;\n",
       "            color:  #000000;\n",
       "        }    #T_2bf539da_8a59_11ea_9f98_8c8590579279row11_col2 {\n",
       "            text-align:  right;\n",
       "            background-color:  #fcbda4;\n",
       "            color:  #000000;\n",
       "        }    #T_2bf539da_8a59_11ea_9f98_8c8590579279row11_col3 {\n",
       "            text-align:  right;\n",
       "            background-color:  #fc9e80;\n",
       "            color:  #000000;\n",
       "        }    #T_2bf539da_8a59_11ea_9f98_8c8590579279row11_col4 {\n",
       "            text-align:  right;\n",
       "            background-color:  #f44f39;\n",
       "            color:  #000000;\n",
       "        }    #T_2bf539da_8a59_11ea_9f98_8c8590579279row12_col0 {\n",
       "            text-align:  right;\n",
       "        }    #T_2bf539da_8a59_11ea_9f98_8c8590579279row12_col1 {\n",
       "            text-align:  right;\n",
       "            background-color:  #fff2eb;\n",
       "            color:  #000000;\n",
       "        }    #T_2bf539da_8a59_11ea_9f98_8c8590579279row12_col2 {\n",
       "            text-align:  right;\n",
       "            background-color:  #fff4ee;\n",
       "            color:  #000000;\n",
       "        }    #T_2bf539da_8a59_11ea_9f98_8c8590579279row12_col3 {\n",
       "            text-align:  right;\n",
       "            background-color:  #fff0e8;\n",
       "            color:  #000000;\n",
       "        }    #T_2bf539da_8a59_11ea_9f98_8c8590579279row12_col4 {\n",
       "            text-align:  right;\n",
       "            background-color:  #fee0d2;\n",
       "            color:  #000000;\n",
       "        }    #T_2bf539da_8a59_11ea_9f98_8c8590579279row13_col0 {\n",
       "            text-align:  right;\n",
       "        }    #T_2bf539da_8a59_11ea_9f98_8c8590579279row13_col1 {\n",
       "            text-align:  right;\n",
       "            background-color:  #ffebe2;\n",
       "            color:  #000000;\n",
       "        }    #T_2bf539da_8a59_11ea_9f98_8c8590579279row13_col2 {\n",
       "            text-align:  right;\n",
       "            background-color:  #fee5d8;\n",
       "            color:  #000000;\n",
       "        }    #T_2bf539da_8a59_11ea_9f98_8c8590579279row13_col3 {\n",
       "            text-align:  right;\n",
       "            background-color:  #fee7dc;\n",
       "            color:  #000000;\n",
       "        }    #T_2bf539da_8a59_11ea_9f98_8c8590579279row13_col4 {\n",
       "            text-align:  right;\n",
       "            background-color:  #fdd5c4;\n",
       "            color:  #000000;\n",
       "        }    #T_2bf539da_8a59_11ea_9f98_8c8590579279row14_col0 {\n",
       "            text-align:  right;\n",
       "        }    #T_2bf539da_8a59_11ea_9f98_8c8590579279row14_col1 {\n",
       "            text-align:  right;\n",
       "            background-color:  #fff5f0;\n",
       "            color:  #000000;\n",
       "        }    #T_2bf539da_8a59_11ea_9f98_8c8590579279row14_col2 {\n",
       "            text-align:  right;\n",
       "            background-color:  #ffede5;\n",
       "            color:  #000000;\n",
       "        }    #T_2bf539da_8a59_11ea_9f98_8c8590579279row14_col3 {\n",
       "            text-align:  right;\n",
       "            background-color:  #fff5f0;\n",
       "            color:  #000000;\n",
       "        }    #T_2bf539da_8a59_11ea_9f98_8c8590579279row14_col4 {\n",
       "            text-align:  right;\n",
       "            background-color:  #fff5f0;\n",
       "            color:  #000000;\n",
       "        }    #T_2bf539da_8a59_11ea_9f98_8c8590579279row15_col0 {\n",
       "            text-align:  right;\n",
       "        }    #T_2bf539da_8a59_11ea_9f98_8c8590579279row15_col1 {\n",
       "            text-align:  right;\n",
       "            background-color:  #fee7dc;\n",
       "            color:  #000000;\n",
       "        }    #T_2bf539da_8a59_11ea_9f98_8c8590579279row15_col2 {\n",
       "            text-align:  right;\n",
       "            background-color:  #fc9373;\n",
       "            color:  #000000;\n",
       "        }    #T_2bf539da_8a59_11ea_9f98_8c8590579279row15_col3 {\n",
       "            text-align:  right;\n",
       "            background-color:  #fee4d8;\n",
       "            color:  #000000;\n",
       "        }    #T_2bf539da_8a59_11ea_9f98_8c8590579279row15_col4 {\n",
       "            text-align:  right;\n",
       "            background-color:  #67000d;\n",
       "            color:  #f1f1f1;\n",
       "        }</style><table id=\"T_2bf539da_8a59_11ea_9f98_8c8590579279\" ><caption>Statistics by region: Confirmed cases and confirmed deaths</caption><thead>    <tr>        <th class=\"col_heading level0 col0\" >Region</th>        <th class=\"col_heading level0 col1\" >Confirmed cases</th>        <th class=\"col_heading level0 col2\" >Confirmed cases per 100,000 people</th>        <th class=\"col_heading level0 col3\" >Confirmed deaths</th>        <th class=\"col_heading level0 col4\" >Confirmed deaths per 100.000 people</th>    </tr></thead><tbody>\n",
       "                <tr>\n",
       "                                <td id=\"T_2bf539da_8a59_11ea_9f98_8c8590579279row0_col0\" class=\"data row0 col0\" >Arica y Parinacota</td>\n",
       "                        <td id=\"T_2bf539da_8a59_11ea_9f98_8c8590579279row0_col1\" class=\"data row0 col1\" >265</td>\n",
       "                        <td id=\"T_2bf539da_8a59_11ea_9f98_8c8590579279row0_col2\" class=\"data row0 col2\" >66.100000</td>\n",
       "                        <td id=\"T_2bf539da_8a59_11ea_9f98_8c8590579279row0_col3\" class=\"data row0 col3\" >3</td>\n",
       "                        <td id=\"T_2bf539da_8a59_11ea_9f98_8c8590579279row0_col4\" class=\"data row0 col4\" >1.200000</td>\n",
       "            </tr>\n",
       "            <tr>\n",
       "                                <td id=\"T_2bf539da_8a59_11ea_9f98_8c8590579279row1_col0\" class=\"data row1 col0\" >Tarapacá</td>\n",
       "                        <td id=\"T_2bf539da_8a59_11ea_9f98_8c8590579279row1_col1\" class=\"data row1 col1\" >164</td>\n",
       "                        <td id=\"T_2bf539da_8a59_11ea_9f98_8c8590579279row1_col2\" class=\"data row1 col2\" >121.900000</td>\n",
       "                        <td id=\"T_2bf539da_8a59_11ea_9f98_8c8590579279row1_col3\" class=\"data row1 col3\" >1</td>\n",
       "                        <td id=\"T_2bf539da_8a59_11ea_9f98_8c8590579279row1_col4\" class=\"data row1 col4\" >0.300000</td>\n",
       "            </tr>\n",
       "            <tr>\n",
       "                                <td id=\"T_2bf539da_8a59_11ea_9f98_8c8590579279row2_col0\" class=\"data row2 col0\" >Antofagasta</td>\n",
       "                        <td id=\"T_2bf539da_8a59_11ea_9f98_8c8590579279row2_col1\" class=\"data row2 col1\" >457</td>\n",
       "                        <td id=\"T_2bf539da_8a59_11ea_9f98_8c8590579279row2_col2\" class=\"data row2 col2\" >105.100000</td>\n",
       "                        <td id=\"T_2bf539da_8a59_11ea_9f98_8c8590579279row2_col3\" class=\"data row2 col3\" >4</td>\n",
       "                        <td id=\"T_2bf539da_8a59_11ea_9f98_8c8590579279row2_col4\" class=\"data row2 col4\" >0.600000</td>\n",
       "            </tr>\n",
       "            <tr>\n",
       "                                <td id=\"T_2bf539da_8a59_11ea_9f98_8c8590579279row3_col0\" class=\"data row3 col0\" >Atacama</td>\n",
       "                        <td id=\"T_2bf539da_8a59_11ea_9f98_8c8590579279row3_col1\" class=\"data row3 col1\" >35</td>\n",
       "                        <td id=\"T_2bf539da_8a59_11ea_9f98_8c8590579279row3_col2\" class=\"data row3 col2\" >11.100000</td>\n",
       "                        <td id=\"T_2bf539da_8a59_11ea_9f98_8c8590579279row3_col3\" class=\"data row3 col3\" >0</td>\n",
       "                        <td id=\"T_2bf539da_8a59_11ea_9f98_8c8590579279row3_col4\" class=\"data row3 col4\" >0.000000</td>\n",
       "            </tr>\n",
       "            <tr>\n",
       "                                <td id=\"T_2bf539da_8a59_11ea_9f98_8c8590579279row4_col0\" class=\"data row4 col0\" >Coquimbo</td>\n",
       "                        <td id=\"T_2bf539da_8a59_11ea_9f98_8c8590579279row4_col1\" class=\"data row4 col1\" >74</td>\n",
       "                        <td id=\"T_2bf539da_8a59_11ea_9f98_8c8590579279row4_col2\" class=\"data row4 col2\" >6.500000</td>\n",
       "                        <td id=\"T_2bf539da_8a59_11ea_9f98_8c8590579279row4_col3\" class=\"data row4 col3\" >0</td>\n",
       "                        <td id=\"T_2bf539da_8a59_11ea_9f98_8c8590579279row4_col4\" class=\"data row4 col4\" >0.000000</td>\n",
       "            </tr>\n",
       "            <tr>\n",
       "                                <td id=\"T_2bf539da_8a59_11ea_9f98_8c8590579279row5_col0\" class=\"data row5 col0\" >Valparaíso</td>\n",
       "                        <td id=\"T_2bf539da_8a59_11ea_9f98_8c8590579279row5_col1\" class=\"data row5 col1\" >485</td>\n",
       "                        <td id=\"T_2bf539da_8a59_11ea_9f98_8c8590579279row5_col2\" class=\"data row5 col2\" >42.400000</td>\n",
       "                        <td id=\"T_2bf539da_8a59_11ea_9f98_8c8590579279row5_col3\" class=\"data row5 col3\" >9</td>\n",
       "                        <td id=\"T_2bf539da_8a59_11ea_9f98_8c8590579279row5_col4\" class=\"data row5 col4\" >0.500000</td>\n",
       "            </tr>\n",
       "            <tr>\n",
       "                                <td id=\"T_2bf539da_8a59_11ea_9f98_8c8590579279row6_col0\" class=\"data row6 col0\" >Metropolitana</td>\n",
       "                        <td id=\"T_2bf539da_8a59_11ea_9f98_8c8590579279row6_col1\" class=\"data row6 col1\" >7858</td>\n",
       "                        <td id=\"T_2bf539da_8a59_11ea_9f98_8c8590579279row6_col2\" class=\"data row6 col2\" >8.900000</td>\n",
       "                        <td id=\"T_2bf539da_8a59_11ea_9f98_8c8590579279row6_col3\" class=\"data row6 col3\" >95</td>\n",
       "                        <td id=\"T_2bf539da_8a59_11ea_9f98_8c8590579279row6_col4\" class=\"data row6 col4\" >1.200000</td>\n",
       "            </tr>\n",
       "            <tr>\n",
       "                                <td id=\"T_2bf539da_8a59_11ea_9f98_8c8590579279row7_col0\" class=\"data row7 col0\" >O’Higgins</td>\n",
       "                        <td id=\"T_2bf539da_8a59_11ea_9f98_8c8590579279row7_col1\" class=\"data row7 col1\" >94</td>\n",
       "                        <td id=\"T_2bf539da_8a59_11ea_9f98_8c8590579279row7_col2\" class=\"data row7 col2\" >53.500000</td>\n",
       "                        <td id=\"T_2bf539da_8a59_11ea_9f98_8c8590579279row7_col3\" class=\"data row7 col3\" >1</td>\n",
       "                        <td id=\"T_2bf539da_8a59_11ea_9f98_8c8590579279row7_col4\" class=\"data row7 col4\" >0.100000</td>\n",
       "            </tr>\n",
       "            <tr>\n",
       "                                <td id=\"T_2bf539da_8a59_11ea_9f98_8c8590579279row8_col0\" class=\"data row8 col0\" >Maule</td>\n",
       "                        <td id=\"T_2bf539da_8a59_11ea_9f98_8c8590579279row8_col1\" class=\"data row8 col1\" >363</td>\n",
       "                        <td id=\"T_2bf539da_8a59_11ea_9f98_8c8590579279row8_col2\" class=\"data row8 col2\" >44.400000</td>\n",
       "                        <td id=\"T_2bf539da_8a59_11ea_9f98_8c8590579279row8_col3\" class=\"data row8 col3\" >12</td>\n",
       "                        <td id=\"T_2bf539da_8a59_11ea_9f98_8c8590579279row8_col4\" class=\"data row8 col4\" >1.100000</td>\n",
       "            </tr>\n",
       "            <tr>\n",
       "                                <td id=\"T_2bf539da_8a59_11ea_9f98_8c8590579279row9_col0\" class=\"data row9 col0\" >Ñuble</td>\n",
       "                        <td id=\"T_2bf539da_8a59_11ea_9f98_8c8590579279row9_col1\" class=\"data row9 col1\" >741</td>\n",
       "                        <td id=\"T_2bf539da_8a59_11ea_9f98_8c8590579279row9_col2\" class=\"data row9 col2\" >376.200000</td>\n",
       "                        <td id=\"T_2bf539da_8a59_11ea_9f98_8c8590579279row9_col3\" class=\"data row9 col3\" >14</td>\n",
       "                        <td id=\"T_2bf539da_8a59_11ea_9f98_8c8590579279row9_col4\" class=\"data row9 col4\" >2.700000</td>\n",
       "            </tr>\n",
       "            <tr>\n",
       "                                <td id=\"T_2bf539da_8a59_11ea_9f98_8c8590579279row10_col0\" class=\"data row10 col0\" >Biobío</td>\n",
       "                        <td id=\"T_2bf539da_8a59_11ea_9f98_8c8590579279row10_col1\" class=\"data row10 col1\" >706</td>\n",
       "                        <td id=\"T_2bf539da_8a59_11ea_9f98_8c8590579279row10_col2\" class=\"data row10 col2\" >32.100000</td>\n",
       "                        <td id=\"T_2bf539da_8a59_11ea_9f98_8c8590579279row10_col3\" class=\"data row10 col3\" >6</td>\n",
       "                        <td id=\"T_2bf539da_8a59_11ea_9f98_8c8590579279row10_col4\" class=\"data row10 col4\" >0.400000</td>\n",
       "            </tr>\n",
       "            <tr>\n",
       "                                <td id=\"T_2bf539da_8a59_11ea_9f98_8c8590579279row11_col0\" class=\"data row11 col0\" >Araucanía</td>\n",
       "                        <td id=\"T_2bf539da_8a59_11ea_9f98_8c8590579279row11_col1\" class=\"data row11 col1\" >1236</td>\n",
       "                        <td id=\"T_2bf539da_8a59_11ea_9f98_8c8590579279row11_col2\" class=\"data row11 col2\" >96.700000</td>\n",
       "                        <td id=\"T_2bf539da_8a59_11ea_9f98_8c8590579279row11_col3\" class=\"data row11 col3\" >32</td>\n",
       "                        <td id=\"T_2bf539da_8a59_11ea_9f98_8c8590579279row11_col4\" class=\"data row11 col4\" >3.200000</td>\n",
       "            </tr>\n",
       "            <tr>\n",
       "                                <td id=\"T_2bf539da_8a59_11ea_9f98_8c8590579279row12_col0\" class=\"data row12 col0\" >Los Ríos</td>\n",
       "                        <td id=\"T_2bf539da_8a59_11ea_9f98_8c8590579279row12_col1\" class=\"data row12 col1\" >180</td>\n",
       "                        <td id=\"T_2bf539da_8a59_11ea_9f98_8c8590579279row12_col2\" class=\"data row12 col2\" >9.500000</td>\n",
       "                        <td id=\"T_2bf539da_8a59_11ea_9f98_8c8590579279row12_col3\" class=\"data row12 col3\" >3</td>\n",
       "                        <td id=\"T_2bf539da_8a59_11ea_9f98_8c8590579279row12_col4\" class=\"data row12 col4\" >0.700000</td>\n",
       "            </tr>\n",
       "            <tr>\n",
       "                                <td id=\"T_2bf539da_8a59_11ea_9f98_8c8590579279row13_col0\" class=\"data row13 col0\" >Los Lagos</td>\n",
       "                        <td id=\"T_2bf539da_8a59_11ea_9f98_8c8590579279row13_col1\" class=\"data row13 col1\" >477</td>\n",
       "                        <td id=\"T_2bf539da_8a59_11ea_9f98_8c8590579279row13_col2\" class=\"data row13 col2\" >42.800000</td>\n",
       "                        <td id=\"T_2bf539da_8a59_11ea_9f98_8c8590579279row13_col3\" class=\"data row13 col3\" >8</td>\n",
       "                        <td id=\"T_2bf539da_8a59_11ea_9f98_8c8590579279row13_col4\" class=\"data row13 col4\" >0.900000</td>\n",
       "            </tr>\n",
       "            <tr>\n",
       "                                <td id=\"T_2bf539da_8a59_11ea_9f98_8c8590579279row14_col0\" class=\"data row14 col0\" >Aysén</td>\n",
       "                        <td id=\"T_2bf539da_8a59_11ea_9f98_8c8590579279row14_col1\" class=\"data row14 col1\" >7</td>\n",
       "                        <td id=\"T_2bf539da_8a59_11ea_9f98_8c8590579279row14_col2\" class=\"data row14 col2\" >24.700000</td>\n",
       "                        <td id=\"T_2bf539da_8a59_11ea_9f98_8c8590579279row14_col3\" class=\"data row14 col3\" >0</td>\n",
       "                        <td id=\"T_2bf539da_8a59_11ea_9f98_8c8590579279row14_col4\" class=\"data row14 col4\" >0.000000</td>\n",
       "            </tr>\n",
       "            <tr>\n",
       "                                <td id=\"T_2bf539da_8a59_11ea_9f98_8c8590579279row15_col0\" class=\"data row15 col0\" >Magallanes</td>\n",
       "                        <td id=\"T_2bf539da_8a59_11ea_9f98_8c8590579279row15_col1\" class=\"data row15 col1\" >671</td>\n",
       "                        <td id=\"T_2bf539da_8a59_11ea_9f98_8c8590579279row15_col2\" class=\"data row15 col2\" >144.900000</td>\n",
       "                        <td id=\"T_2bf539da_8a59_11ea_9f98_8c8590579279row15_col3\" class=\"data row15 col3\" >10</td>\n",
       "                        <td id=\"T_2bf539da_8a59_11ea_9f98_8c8590579279row15_col4\" class=\"data row15 col4\" >5.600000</td>\n",
       "            </tr>\n",
       "    </tbody></table>"
      ],
      "text/plain": [
       "<pandas.io.formats.style.Styler at 0x113a8b4a8>"
      ]
     },
     "execution_count": 17,
     "metadata": {},
     "output_type": "execute_result"
    }
   ],
   "source": [
    "#hide_input\n",
    "(data_table.style.set_properties(**{'text-align': 'right'}).background_gradient(cmap='Reds').hide_index()).set_caption(\n",
    "    'Statistics by region: Confirmed cases and confirmed deaths')"
   ]
  },
  {
   "cell_type": "markdown",
   "metadata": {
    "papermill": {
     "duration": 0.082645,
     "end_time": "2020-04-28T12:16:32.457166",
     "exception": false,
     "start_time": "2020-04-28T12:16:32.374521",
     "status": "completed"
    },
    "tags": []
   },
   "source": [
    "# Evolution of total confirmed cases by region"
   ]
  },
  {
   "cell_type": "code",
   "execution_count": 18,
   "metadata": {
    "execution": {
     "iopub.execute_input": "2020-04-28T12:16:32.630112Z",
     "iopub.status.busy": "2020-04-28T12:16:32.629494Z",
     "iopub.status.idle": "2020-04-28T12:16:32.649508Z",
     "shell.execute_reply": "2020-04-28T12:16:32.648939Z"
    },
    "papermill": {
     "duration": 0.110939,
     "end_time": "2020-04-28T12:16:32.649626",
     "exception": false,
     "start_time": "2020-04-28T12:16:32.538687",
     "status": "completed"
    },
    "tags": []
   },
   "outputs": [],
   "source": [
    "#hide\n",
    "data_raw = pd.read_csv(\n",
    "    \"https://raw.githubusercontent.com/MinCiencia/Datos-COVID19/master/output/producto3/CasosTotalesCumulativo.csv\",\n",
    "    index_col='Region')"
   ]
  },
  {
   "cell_type": "code",
   "execution_count": 19,
   "metadata": {
    "execution": {
     "iopub.execute_input": "2020-04-28T12:16:32.819320Z",
     "iopub.status.busy": "2020-04-28T12:16:32.818663Z",
     "iopub.status.idle": "2020-04-28T12:16:32.820978Z",
     "shell.execute_reply": "2020-04-28T12:16:32.820464Z"
    },
    "papermill": {
     "duration": 0.089772,
     "end_time": "2020-04-28T12:16:32.821088",
     "exception": false,
     "start_time": "2020-04-28T12:16:32.731316",
     "status": "completed"
    },
    "tags": []
   },
   "outputs": [],
   "source": [
    "#hide\n",
    "data_raw = data_raw.drop(\"Total\")"
   ]
  },
  {
   "cell_type": "code",
   "execution_count": 20,
   "metadata": {
    "execution": {
     "iopub.execute_input": "2020-04-28T12:16:32.993705Z",
     "iopub.status.busy": "2020-04-28T12:16:32.988020Z",
     "iopub.status.idle": "2020-04-28T12:16:33.523491Z",
     "shell.execute_reply": "2020-04-28T12:16:33.522359Z"
    },
    "papermill": {
     "duration": 0.619644,
     "end_time": "2020-04-28T12:16:33.523625",
     "exception": false,
     "start_time": "2020-04-28T12:16:32.903981",
     "status": "completed"
    },
    "tags": []
   },
   "outputs": [],
   "source": [
    "#hide\n",
    "data = pd.DataFrame()\n",
    "i = 0\n",
    "for date in data_raw.keys():\n",
    "    for n, region in enumerate(data_raw.index):\n",
    "        data[i] = date, region, data_raw[date].loc[region], n\n",
    "        i += 1"
   ]
  },
  {
   "cell_type": "code",
   "execution_count": 21,
   "metadata": {
    "execution": {
     "iopub.execute_input": "2020-04-28T12:16:33.701677Z",
     "iopub.status.busy": "2020-04-28T12:16:33.700563Z",
     "iopub.status.idle": "2020-04-28T12:16:33.705651Z",
     "shell.execute_reply": "2020-04-28T12:16:33.706168Z"
    },
    "papermill": {
     "duration": 0.100896,
     "end_time": "2020-04-28T12:16:33.706357",
     "exception": false,
     "start_time": "2020-04-28T12:16:33.605461",
     "status": "completed"
    },
    "tags": []
   },
   "outputs": [],
   "source": [
    "#hide\n",
    "data_raw = data_raw.reset_index()\n",
    "regiones = data_raw['Region'].values\n",
    "data = data.T\n",
    "data = data.rename(columns={0: \"date\", 1: \"region\", 2: \"casos\", 3: \"codigo region\"})"
   ]
  },
  {
   "cell_type": "code",
   "execution_count": 22,
   "metadata": {
    "execution": {
     "iopub.execute_input": "2020-04-28T12:16:33.876387Z",
     "iopub.status.busy": "2020-04-28T12:16:33.875759Z",
     "iopub.status.idle": "2020-04-28T12:16:33.878181Z",
     "shell.execute_reply": "2020-04-28T12:16:33.878755Z"
    },
    "papermill": {
     "duration": 0.090828,
     "end_time": "2020-04-28T12:16:33.878888",
     "exception": false,
     "start_time": "2020-04-28T12:16:33.788060",
     "status": "completed"
    },
    "tags": []
   },
   "outputs": [],
   "source": [
    "#hide\n",
    "data[\"casos\"] = data[\"casos\"].astype(int)"
   ]
  },
  {
   "cell_type": "code",
   "execution_count": 23,
   "metadata": {
    "execution": {
     "iopub.execute_input": "2020-04-28T12:16:34.053128Z",
     "iopub.status.busy": "2020-04-28T12:16:34.048039Z",
     "iopub.status.idle": "2020-04-28T12:16:34.162754Z",
     "shell.execute_reply": "2020-04-28T12:16:34.163451Z"
    },
    "papermill": {
     "duration": 0.201012,
     "end_time": "2020-04-28T12:16:34.163626",
     "exception": false,
     "start_time": "2020-04-28T12:16:33.962614",
     "status": "completed"
    },
    "tags": []
   },
   "outputs": [
    {
     "data": {
      "text/html": [
       "\n",
       "<div id=\"altair-viz-d5ba1b8c69a340478ecdfa2605013fe2\"></div>\n",
       "<script type=\"text/javascript\">\n",
       "  (function(spec, embedOpt){\n",
       "    let outputDiv = document.currentScript.previousElementSibling;\n",
       "    if (outputDiv.id !== \"altair-viz-d5ba1b8c69a340478ecdfa2605013fe2\") {\n",
       "      outputDiv = document.getElementById(\"altair-viz-d5ba1b8c69a340478ecdfa2605013fe2\");\n",
       "    }\n",
       "    const paths = {\n",
       "      \"vega\": \"https://cdn.jsdelivr.net/npm//vega@5?noext\",\n",
       "      \"vega-lib\": \"https://cdn.jsdelivr.net/npm//vega-lib?noext\",\n",
       "      \"vega-lite\": \"https://cdn.jsdelivr.net/npm//vega-lite@4.8.1?noext\",\n",
       "      \"vega-embed\": \"https://cdn.jsdelivr.net/npm//vega-embed@6?noext\",\n",
       "    };\n",
       "\n",
       "    function loadScript(lib) {\n",
       "      return new Promise(function(resolve, reject) {\n",
       "        var s = document.createElement('script');\n",
       "        s.src = paths[lib];\n",
       "        s.async = true;\n",
       "        s.onload = () => resolve(paths[lib]);\n",
       "        s.onerror = () => reject(`Error loading script: ${paths[lib]}`);\n",
       "        document.getElementsByTagName(\"head\")[0].appendChild(s);\n",
       "      });\n",
       "    }\n",
       "\n",
       "    function showError(err) {\n",
       "      outputDiv.innerHTML = `<div class=\"error\" style=\"color:red;\">${err}</div>`;\n",
       "      throw err;\n",
       "    }\n",
       "\n",
       "    function displayChart(vegaEmbed) {\n",
       "      vegaEmbed(outputDiv, spec, embedOpt)\n",
       "        .catch(err => showError(`Javascript Error: ${err.message}<br>This usually means there's a typo in your chart specification. See the javascript console for the full traceback.`));\n",
       "    }\n",
       "\n",
       "    if(typeof define === \"function\" && define.amd) {\n",
       "      requirejs.config({paths});\n",
       "      require([\"vega-embed\"], displayChart, err => showError(`Error loading script: ${err.message}`));\n",
       "    } else if (typeof vegaEmbed === \"function\") {\n",
       "      displayChart(vegaEmbed);\n",
       "    } else {\n",
       "      loadScript(\"vega\")\n",
       "        .then(() => loadScript(\"vega-lite\"))\n",
       "        .then(() => loadScript(\"vega-embed\"))\n",
       "        .catch(showError)\n",
       "        .then(() => displayChart(vegaEmbed));\n",
       "    }\n",
       "  })({\"config\": {\"view\": {\"continuousWidth\": 400, \"continuousHeight\": 300}}, \"hconcat\": [{\"mark\": \"bar\", \"encoding\": {\"color\": {\"condition\": {\"type\": \"nominal\", \"field\": \"region\", \"legend\": null, \"scale\": {\"scheme\": \"tableau20\"}, \"selection\": {\"or\": [\" \", \"selector001\"]}}, \"value\": \"lightgray\"}, \"order\": {\"type\": \"quantitative\", \"field\": \"codigo region\", \"sort\": \"descending\"}, \"tooltip\": [{\"type\": \"nominal\", \"field\": \"date\"}, {\"type\": \"nominal\", \"field\": \"region\"}, {\"type\": \"quantitative\", \"field\": \"casos\"}], \"x\": {\"type\": \"ordinal\", \"axis\": {\"title\": \"Date\"}, \"field\": \"date\"}, \"y\": {\"type\": \"quantitative\", \"axis\": {\"title\": \"Confirmed cases\"}, \"field\": \"casos\"}}, \"height\": 400, \"selection\": {\" \": {\"type\": \"single\", \"fields\": [\"region\"], \"bind\": {\"input\": \"select\", \"options\": [\"Arica y Parinacota\", \"Tarapac\\u00e1\", \"Antofagasta\", \"Atacama\", \"Coquimbo\", \"Valpara\\u00edso\", \"Metropolitana\", \"O\\u2019Higgins\", \"Maule\", \"\\u00d1uble\", \"Biob\\u00edo\", \"Araucan\\u00eda\", \"Los R\\u00edos\", \"Los Lagos\", \"Ays\\u00e9n\", \"Magallanes\"]}}, \"selector001\": {\"type\": \"multi\", \"fields\": [\"region\"], \"on\": \"mouseover\"}}, \"title\": \"COVID-19 in Chile: Total confirmed cases by regi\\u00f3n\", \"transform\": [{\"filter\": {\"selection\": \" \"}}], \"width\": 600}, {\"mark\": \"point\", \"encoding\": {\"color\": {\"condition\": {\"type\": \"nominal\", \"field\": \"region\", \"legend\": null, \"scale\": {\"scheme\": \"tableau20\"}, \"selection\": {\"or\": [\" \", \"selector001\"]}}, \"value\": \"lightgray\"}, \"y\": {\"type\": \"nominal\", \"axis\": {\"orient\": \"right\"}, \"field\": \"region\", \"sort\": [\"Arica y Parinacota\", \"Tarapac\\u00e1\", \"Antofagasta\", \"Atacama\", \"Coquimbo\", \"Valpara\\u00edso\", \"Metropolitana\", \"O\\u2019Higgins\", \"Maule\", \"\\u00d1uble\", \"Biob\\u00edo\", \"Araucan\\u00eda\", \"Los R\\u00edos\", \"Los Lagos\", \"Ays\\u00e9n\", \"Magallanes\"]}}, \"selection\": {\" \": {\"type\": \"single\", \"fields\": [\"region\"], \"bind\": {\"input\": \"select\", \"options\": [\"Arica y Parinacota\", \"Tarapac\\u00e1\", \"Antofagasta\", \"Atacama\", \"Coquimbo\", \"Valpara\\u00edso\", \"Metropolitana\", \"O\\u2019Higgins\", \"Maule\", \"\\u00d1uble\", \"Biob\\u00edo\", \"Araucan\\u00eda\", \"Los R\\u00edos\", \"Los Lagos\", \"Ays\\u00e9n\", \"Magallanes\"]}}, \"selector001\": {\"type\": \"multi\", \"fields\": [\"region\"], \"on\": \"mouseover\"}}}], \"data\": {\"name\": \"data-e3f70110b0e900f4992e29e8cd061a4f\"}, \"$schema\": \"https://vega.github.io/schema/vega-lite/v4.8.1.json\", \"datasets\": {\"data-e3f70110b0e900f4992e29e8cd061a4f\": [{\"date\": \"2020-03-03\", \"region\": \"Arica y Parinacota\", \"casos\": 0, \"codigo region\": 0}, {\"date\": \"2020-03-03\", \"region\": \"Tarapac\\u00e1\", \"casos\": 0, \"codigo region\": 1}, {\"date\": \"2020-03-03\", \"region\": \"Antofagasta\", \"casos\": 0, \"codigo region\": 2}, {\"date\": \"2020-03-03\", \"region\": \"Atacama\", \"casos\": 0, \"codigo region\": 3}, {\"date\": \"2020-03-03\", \"region\": \"Coquimbo\", \"casos\": 0, \"codigo region\": 4}, {\"date\": \"2020-03-03\", \"region\": \"Valpara\\u00edso\", \"casos\": 0, \"codigo region\": 5}, {\"date\": \"2020-03-03\", \"region\": \"Metropolitana\", \"casos\": 0, \"codigo region\": 6}, {\"date\": \"2020-03-03\", \"region\": \"O\\u2019Higgins\", \"casos\": 0, \"codigo region\": 7}, {\"date\": \"2020-03-03\", \"region\": \"Maule\", \"casos\": 1, \"codigo region\": 8}, {\"date\": \"2020-03-03\", \"region\": \"\\u00d1uble\", \"casos\": 0, \"codigo region\": 9}, {\"date\": \"2020-03-03\", \"region\": \"Biob\\u00edo\", \"casos\": 0, \"codigo region\": 10}, {\"date\": \"2020-03-03\", \"region\": \"Araucan\\u00eda\", \"casos\": 0, \"codigo region\": 11}, {\"date\": \"2020-03-03\", \"region\": \"Los R\\u00edos\", \"casos\": 0, \"codigo region\": 12}, {\"date\": \"2020-03-03\", \"region\": \"Los Lagos\", \"casos\": 0, \"codigo region\": 13}, {\"date\": \"2020-03-03\", \"region\": \"Ays\\u00e9n\", \"casos\": 0, \"codigo region\": 14}, {\"date\": \"2020-03-03\", \"region\": \"Magallanes\", \"casos\": 0, \"codigo region\": 15}, {\"date\": \"2020-03-04\", \"region\": \"Arica y Parinacota\", \"casos\": 0, \"codigo region\": 0}, {\"date\": \"2020-03-04\", \"region\": \"Tarapac\\u00e1\", \"casos\": 0, \"codigo region\": 1}, {\"date\": \"2020-03-04\", \"region\": \"Antofagasta\", \"casos\": 0, \"codigo region\": 2}, {\"date\": \"2020-03-04\", \"region\": \"Atacama\", \"casos\": 0, \"codigo region\": 3}, {\"date\": \"2020-03-04\", \"region\": \"Coquimbo\", \"casos\": 0, \"codigo region\": 4}, {\"date\": \"2020-03-04\", \"region\": \"Valpara\\u00edso\", \"casos\": 0, \"codigo region\": 5}, {\"date\": \"2020-03-04\", \"region\": \"Metropolitana\", \"casos\": 1, \"codigo region\": 6}, {\"date\": \"2020-03-04\", \"region\": \"O\\u2019Higgins\", \"casos\": 0, \"codigo region\": 7}, {\"date\": \"2020-03-04\", \"region\": \"Maule\", \"casos\": 2, \"codigo region\": 8}, {\"date\": \"2020-03-04\", \"region\": \"\\u00d1uble\", \"casos\": 0, \"codigo region\": 9}, {\"date\": \"2020-03-04\", \"region\": \"Biob\\u00edo\", \"casos\": 0, \"codigo region\": 10}, {\"date\": \"2020-03-04\", \"region\": \"Araucan\\u00eda\", \"casos\": 0, \"codigo region\": 11}, {\"date\": \"2020-03-04\", \"region\": \"Los R\\u00edos\", \"casos\": 0, \"codigo region\": 12}, {\"date\": \"2020-03-04\", \"region\": \"Los Lagos\", \"casos\": 0, \"codigo region\": 13}, {\"date\": \"2020-03-04\", \"region\": \"Ays\\u00e9n\", \"casos\": 0, \"codigo region\": 14}, {\"date\": \"2020-03-04\", \"region\": \"Magallanes\", \"casos\": 0, \"codigo region\": 15}, {\"date\": \"2020-03-05\", \"region\": \"Arica y Parinacota\", \"casos\": 0, \"codigo region\": 0}, {\"date\": \"2020-03-05\", \"region\": \"Tarapac\\u00e1\", \"casos\": 0, \"codigo region\": 1}, {\"date\": \"2020-03-05\", \"region\": \"Antofagasta\", \"casos\": 0, \"codigo region\": 2}, {\"date\": \"2020-03-05\", \"region\": \"Atacama\", \"casos\": 0, \"codigo region\": 3}, {\"date\": \"2020-03-05\", \"region\": \"Coquimbo\", \"casos\": 0, \"codigo region\": 4}, {\"date\": \"2020-03-05\", \"region\": \"Valpara\\u00edso\", \"casos\": 0, \"codigo region\": 5}, {\"date\": \"2020-03-05\", \"region\": \"Metropolitana\", \"casos\": 2, \"codigo region\": 6}, {\"date\": \"2020-03-05\", \"region\": \"O\\u2019Higgins\", \"casos\": 0, \"codigo region\": 7}, {\"date\": \"2020-03-05\", \"region\": \"Maule\", \"casos\": 2, \"codigo region\": 8}, {\"date\": \"2020-03-05\", \"region\": \"\\u00d1uble\", \"casos\": 0, \"codigo region\": 9}, {\"date\": \"2020-03-05\", \"region\": \"Biob\\u00edo\", \"casos\": 0, \"codigo region\": 10}, {\"date\": \"2020-03-05\", \"region\": \"Araucan\\u00eda\", \"casos\": 0, \"codigo region\": 11}, {\"date\": \"2020-03-05\", \"region\": \"Los R\\u00edos\", \"casos\": 0, \"codigo region\": 12}, {\"date\": \"2020-03-05\", \"region\": \"Los Lagos\", \"casos\": 0, \"codigo region\": 13}, {\"date\": \"2020-03-05\", \"region\": \"Ays\\u00e9n\", \"casos\": 0, \"codigo region\": 14}, {\"date\": \"2020-03-05\", \"region\": \"Magallanes\", \"casos\": 0, \"codigo region\": 15}, {\"date\": \"2020-03-06\", \"region\": \"Arica y Parinacota\", \"casos\": 0, \"codigo region\": 0}, {\"date\": \"2020-03-06\", \"region\": \"Tarapac\\u00e1\", \"casos\": 0, \"codigo region\": 1}, {\"date\": \"2020-03-06\", \"region\": \"Antofagasta\", \"casos\": 0, \"codigo region\": 2}, {\"date\": \"2020-03-06\", \"region\": \"Atacama\", \"casos\": 0, \"codigo region\": 3}, {\"date\": \"2020-03-06\", \"region\": \"Coquimbo\", \"casos\": 0, \"codigo region\": 4}, {\"date\": \"2020-03-06\", \"region\": \"Valpara\\u00edso\", \"casos\": 0, \"codigo region\": 5}, {\"date\": \"2020-03-06\", \"region\": \"Metropolitana\", \"casos\": 3, \"codigo region\": 6}, {\"date\": \"2020-03-06\", \"region\": \"O\\u2019Higgins\", \"casos\": 0, \"codigo region\": 7}, {\"date\": \"2020-03-06\", \"region\": \"Maule\", \"casos\": 2, \"codigo region\": 8}, {\"date\": \"2020-03-06\", \"region\": \"\\u00d1uble\", \"casos\": 0, \"codigo region\": 9}, {\"date\": \"2020-03-06\", \"region\": \"Biob\\u00edo\", \"casos\": 0, \"codigo region\": 10}, {\"date\": \"2020-03-06\", \"region\": \"Araucan\\u00eda\", \"casos\": 0, \"codigo region\": 11}, {\"date\": \"2020-03-06\", \"region\": \"Los R\\u00edos\", \"casos\": 0, \"codigo region\": 12}, {\"date\": \"2020-03-06\", \"region\": \"Los Lagos\", \"casos\": 0, \"codigo region\": 13}, {\"date\": \"2020-03-06\", \"region\": \"Ays\\u00e9n\", \"casos\": 0, \"codigo region\": 14}, {\"date\": \"2020-03-06\", \"region\": \"Magallanes\", \"casos\": 0, \"codigo region\": 15}, {\"date\": \"2020-03-07\", \"region\": \"Arica y Parinacota\", \"casos\": 0, \"codigo region\": 0}, {\"date\": \"2020-03-07\", \"region\": \"Tarapac\\u00e1\", \"casos\": 0, \"codigo region\": 1}, {\"date\": \"2020-03-07\", \"region\": \"Antofagasta\", \"casos\": 0, \"codigo region\": 2}, {\"date\": \"2020-03-07\", \"region\": \"Atacama\", \"casos\": 0, \"codigo region\": 3}, {\"date\": \"2020-03-07\", \"region\": \"Coquimbo\", \"casos\": 0, \"codigo region\": 4}, {\"date\": \"2020-03-07\", \"region\": \"Valpara\\u00edso\", \"casos\": 0, \"codigo region\": 5}, {\"date\": \"2020-03-07\", \"region\": \"Metropolitana\", \"casos\": 4, \"codigo region\": 6}, {\"date\": \"2020-03-07\", \"region\": \"O\\u2019Higgins\", \"casos\": 0, \"codigo region\": 7}, {\"date\": \"2020-03-07\", \"region\": \"Maule\", \"casos\": 2, \"codigo region\": 8}, {\"date\": \"2020-03-07\", \"region\": \"\\u00d1uble\", \"casos\": 0, \"codigo region\": 9}, {\"date\": \"2020-03-07\", \"region\": \"Biob\\u00edo\", \"casos\": 0, \"codigo region\": 10}, {\"date\": \"2020-03-07\", \"region\": \"Araucan\\u00eda\", \"casos\": 0, \"codigo region\": 11}, {\"date\": \"2020-03-07\", \"region\": \"Los R\\u00edos\", \"casos\": 0, \"codigo region\": 12}, {\"date\": \"2020-03-07\", \"region\": \"Los Lagos\", \"casos\": 1, \"codigo region\": 13}, {\"date\": \"2020-03-07\", \"region\": \"Ays\\u00e9n\", \"casos\": 0, \"codigo region\": 14}, {\"date\": \"2020-03-07\", \"region\": \"Magallanes\", \"casos\": 0, \"codigo region\": 15}, {\"date\": \"2020-03-08\", \"region\": \"Arica y Parinacota\", \"casos\": 0, \"codigo region\": 0}, {\"date\": \"2020-03-08\", \"region\": \"Tarapac\\u00e1\", \"casos\": 0, \"codigo region\": 1}, {\"date\": \"2020-03-08\", \"region\": \"Antofagasta\", \"casos\": 0, \"codigo region\": 2}, {\"date\": \"2020-03-08\", \"region\": \"Atacama\", \"casos\": 0, \"codigo region\": 3}, {\"date\": \"2020-03-08\", \"region\": \"Coquimbo\", \"casos\": 0, \"codigo region\": 4}, {\"date\": \"2020-03-08\", \"region\": \"Valpara\\u00edso\", \"casos\": 0, \"codigo region\": 5}, {\"date\": \"2020-03-08\", \"region\": \"Metropolitana\", \"casos\": 6, \"codigo region\": 6}, {\"date\": \"2020-03-08\", \"region\": \"O\\u2019Higgins\", \"casos\": 0, \"codigo region\": 7}, {\"date\": \"2020-03-08\", \"region\": \"Maule\", \"casos\": 3, \"codigo region\": 8}, {\"date\": \"2020-03-08\", \"region\": \"\\u00d1uble\", \"casos\": 0, \"codigo region\": 9}, {\"date\": \"2020-03-08\", \"region\": \"Biob\\u00edo\", \"casos\": 0, \"codigo region\": 10}, {\"date\": \"2020-03-08\", \"region\": \"Araucan\\u00eda\", \"casos\": 0, \"codigo region\": 11}, {\"date\": \"2020-03-08\", \"region\": \"Los R\\u00edos\", \"casos\": 0, \"codigo region\": 12}, {\"date\": \"2020-03-08\", \"region\": \"Los Lagos\", \"casos\": 1, \"codigo region\": 13}, {\"date\": \"2020-03-08\", \"region\": \"Ays\\u00e9n\", \"casos\": 0, \"codigo region\": 14}, {\"date\": \"2020-03-08\", \"region\": \"Magallanes\", \"casos\": 0, \"codigo region\": 15}, {\"date\": \"2020-03-09\", \"region\": \"Arica y Parinacota\", \"casos\": 0, \"codigo region\": 0}, {\"date\": \"2020-03-09\", \"region\": \"Tarapac\\u00e1\", \"casos\": 0, \"codigo region\": 1}, {\"date\": \"2020-03-09\", \"region\": \"Antofagasta\", \"casos\": 0, \"codigo region\": 2}, {\"date\": \"2020-03-09\", \"region\": \"Atacama\", \"casos\": 0, \"codigo region\": 3}, {\"date\": \"2020-03-09\", \"region\": \"Coquimbo\", \"casos\": 0, \"codigo region\": 4}, {\"date\": \"2020-03-09\", \"region\": \"Valpara\\u00edso\", \"casos\": 0, \"codigo region\": 5}, {\"date\": \"2020-03-09\", \"region\": \"Metropolitana\", \"casos\": 9, \"codigo region\": 6}, {\"date\": \"2020-03-09\", \"region\": \"O\\u2019Higgins\", \"casos\": 0, \"codigo region\": 7}, {\"date\": \"2020-03-09\", \"region\": \"Maule\", \"casos\": 4, \"codigo region\": 8}, {\"date\": \"2020-03-09\", \"region\": \"\\u00d1uble\", \"casos\": 0, \"codigo region\": 9}, {\"date\": \"2020-03-09\", \"region\": \"Biob\\u00edo\", \"casos\": 1, \"codigo region\": 10}, {\"date\": \"2020-03-09\", \"region\": \"Araucan\\u00eda\", \"casos\": 0, \"codigo region\": 11}, {\"date\": \"2020-03-09\", \"region\": \"Los R\\u00edos\", \"casos\": 0, \"codigo region\": 12}, {\"date\": \"2020-03-09\", \"region\": \"Los Lagos\", \"casos\": 1, \"codigo region\": 13}, {\"date\": \"2020-03-09\", \"region\": \"Ays\\u00e9n\", \"casos\": 0, \"codigo region\": 14}, {\"date\": \"2020-03-09\", \"region\": \"Magallanes\", \"casos\": 0, \"codigo region\": 15}, {\"date\": \"2020-03-10\", \"region\": \"Arica y Parinacota\", \"casos\": 0, \"codigo region\": 0}, {\"date\": \"2020-03-10\", \"region\": \"Tarapac\\u00e1\", \"casos\": 0, \"codigo region\": 1}, {\"date\": \"2020-03-10\", \"region\": \"Antofagasta\", \"casos\": 0, \"codigo region\": 2}, {\"date\": \"2020-03-10\", \"region\": \"Atacama\", \"casos\": 0, \"codigo region\": 3}, {\"date\": \"2020-03-10\", \"region\": \"Coquimbo\", \"casos\": 0, \"codigo region\": 4}, {\"date\": \"2020-03-10\", \"region\": \"Valpara\\u00edso\", \"casos\": 0, \"codigo region\": 5}, {\"date\": \"2020-03-10\", \"region\": \"Metropolitana\", \"casos\": 10, \"codigo region\": 6}, {\"date\": \"2020-03-10\", \"region\": \"O\\u2019Higgins\", \"casos\": 0, \"codigo region\": 7}, {\"date\": \"2020-03-10\", \"region\": \"Maule\", \"casos\": 5, \"codigo region\": 8}, {\"date\": \"2020-03-10\", \"region\": \"\\u00d1uble\", \"casos\": 0, \"codigo region\": 9}, {\"date\": \"2020-03-10\", \"region\": \"Biob\\u00edo\", \"casos\": 1, \"codigo region\": 10}, {\"date\": \"2020-03-10\", \"region\": \"Araucan\\u00eda\", \"casos\": 0, \"codigo region\": 11}, {\"date\": \"2020-03-10\", \"region\": \"Los R\\u00edos\", \"casos\": 0, \"codigo region\": 12}, {\"date\": \"2020-03-10\", \"region\": \"Los Lagos\", \"casos\": 1, \"codigo region\": 13}, {\"date\": \"2020-03-10\", \"region\": \"Ays\\u00e9n\", \"casos\": 0, \"codigo region\": 14}, {\"date\": \"2020-03-10\", \"region\": \"Magallanes\", \"casos\": 0, \"codigo region\": 15}, {\"date\": \"2020-03-11\", \"region\": \"Arica y Parinacota\", \"casos\": 0, \"codigo region\": 0}, {\"date\": \"2020-03-11\", \"region\": \"Tarapac\\u00e1\", \"casos\": 0, \"codigo region\": 1}, {\"date\": \"2020-03-11\", \"region\": \"Antofagasta\", \"casos\": 0, \"codigo region\": 2}, {\"date\": \"2020-03-11\", \"region\": \"Atacama\", \"casos\": 0, \"codigo region\": 3}, {\"date\": \"2020-03-11\", \"region\": \"Coquimbo\", \"casos\": 0, \"codigo region\": 4}, {\"date\": \"2020-03-11\", \"region\": \"Valpara\\u00edso\", \"casos\": 0, \"codigo region\": 5}, {\"date\": \"2020-03-11\", \"region\": \"Metropolitana\", \"casos\": 14, \"codigo region\": 6}, {\"date\": \"2020-03-11\", \"region\": \"O\\u2019Higgins\", \"casos\": 0, \"codigo region\": 7}, {\"date\": \"2020-03-11\", \"region\": \"Maule\", \"casos\": 7, \"codigo region\": 8}, {\"date\": \"2020-03-11\", \"region\": \"\\u00d1uble\", \"casos\": 0, \"codigo region\": 9}, {\"date\": \"2020-03-11\", \"region\": \"Biob\\u00edo\", \"casos\": 1, \"codigo region\": 10}, {\"date\": \"2020-03-11\", \"region\": \"Araucan\\u00eda\", \"casos\": 0, \"codigo region\": 11}, {\"date\": \"2020-03-11\", \"region\": \"Los R\\u00edos\", \"casos\": 0, \"codigo region\": 12}, {\"date\": \"2020-03-11\", \"region\": \"Los Lagos\", \"casos\": 1, \"codigo region\": 13}, {\"date\": \"2020-03-11\", \"region\": \"Ays\\u00e9n\", \"casos\": 0, \"codigo region\": 14}, {\"date\": \"2020-03-11\", \"region\": \"Magallanes\", \"casos\": 0, \"codigo region\": 15}, {\"date\": \"2020-03-12\", \"region\": \"Arica y Parinacota\", \"casos\": 0, \"codigo region\": 0}, {\"date\": \"2020-03-12\", \"region\": \"Tarapac\\u00e1\", \"casos\": 0, \"codigo region\": 1}, {\"date\": \"2020-03-12\", \"region\": \"Antofagasta\", \"casos\": 0, \"codigo region\": 2}, {\"date\": \"2020-03-12\", \"region\": \"Atacama\", \"casos\": 0, \"codigo region\": 3}, {\"date\": \"2020-03-12\", \"region\": \"Coquimbo\", \"casos\": 0, \"codigo region\": 4}, {\"date\": \"2020-03-12\", \"region\": \"Valpara\\u00edso\", \"casos\": 0, \"codigo region\": 5}, {\"date\": \"2020-03-12\", \"region\": \"Metropolitana\", \"casos\": 23, \"codigo region\": 6}, {\"date\": \"2020-03-12\", \"region\": \"O\\u2019Higgins\", \"casos\": 0, \"codigo region\": 7}, {\"date\": \"2020-03-12\", \"region\": \"Maule\", \"casos\": 7, \"codigo region\": 8}, {\"date\": \"2020-03-12\", \"region\": \"\\u00d1uble\", \"casos\": 1, \"codigo region\": 9}, {\"date\": \"2020-03-12\", \"region\": \"Biob\\u00edo\", \"casos\": 1, \"codigo region\": 10}, {\"date\": \"2020-03-12\", \"region\": \"Araucan\\u00eda\", \"casos\": 0, \"codigo region\": 11}, {\"date\": \"2020-03-12\", \"region\": \"Los R\\u00edos\", \"casos\": 0, \"codigo region\": 12}, {\"date\": \"2020-03-12\", \"region\": \"Los Lagos\", \"casos\": 1, \"codigo region\": 13}, {\"date\": \"2020-03-12\", \"region\": \"Ays\\u00e9n\", \"casos\": 0, \"codigo region\": 14}, {\"date\": \"2020-03-12\", \"region\": \"Magallanes\", \"casos\": 0, \"codigo region\": 15}, {\"date\": \"2020-03-13\", \"region\": \"Arica y Parinacota\", \"casos\": 0, \"codigo region\": 0}, {\"date\": \"2020-03-13\", \"region\": \"Tarapac\\u00e1\", \"casos\": 0, \"codigo region\": 1}, {\"date\": \"2020-03-13\", \"region\": \"Antofagasta\", \"casos\": 0, \"codigo region\": 2}, {\"date\": \"2020-03-13\", \"region\": \"Atacama\", \"casos\": 0, \"codigo region\": 3}, {\"date\": \"2020-03-13\", \"region\": \"Coquimbo\", \"casos\": 0, \"codigo region\": 4}, {\"date\": \"2020-03-13\", \"region\": \"Valpara\\u00edso\", \"casos\": 0, \"codigo region\": 5}, {\"date\": \"2020-03-13\", \"region\": \"Metropolitana\", \"casos\": 29, \"codigo region\": 6}, {\"date\": \"2020-03-13\", \"region\": \"O\\u2019Higgins\", \"casos\": 0, \"codigo region\": 7}, {\"date\": \"2020-03-13\", \"region\": \"Maule\", \"casos\": 8, \"codigo region\": 8}, {\"date\": \"2020-03-13\", \"region\": \"\\u00d1uble\", \"casos\": 2, \"codigo region\": 9}, {\"date\": \"2020-03-13\", \"region\": \"Biob\\u00edo\", \"casos\": 3, \"codigo region\": 10}, {\"date\": \"2020-03-13\", \"region\": \"Araucan\\u00eda\", \"casos\": 0, \"codigo region\": 11}, {\"date\": \"2020-03-13\", \"region\": \"Los R\\u00edos\", \"casos\": 0, \"codigo region\": 12}, {\"date\": \"2020-03-13\", \"region\": \"Los Lagos\", \"casos\": 1, \"codigo region\": 13}, {\"date\": \"2020-03-13\", \"region\": \"Ays\\u00e9n\", \"casos\": 0, \"codigo region\": 14}, {\"date\": \"2020-03-13\", \"region\": \"Magallanes\", \"casos\": 0, \"codigo region\": 15}, {\"date\": \"2020-03-14\", \"region\": \"Arica y Parinacota\", \"casos\": 0, \"codigo region\": 0}, {\"date\": \"2020-03-14\", \"region\": \"Tarapac\\u00e1\", \"casos\": 0, \"codigo region\": 1}, {\"date\": \"2020-03-14\", \"region\": \"Antofagasta\", \"casos\": 2, \"codigo region\": 2}, {\"date\": \"2020-03-14\", \"region\": \"Atacama\", \"casos\": 1, \"codigo region\": 3}, {\"date\": \"2020-03-14\", \"region\": \"Coquimbo\", \"casos\": 0, \"codigo region\": 4}, {\"date\": \"2020-03-14\", \"region\": \"Valpara\\u00edso\", \"casos\": 0, \"codigo region\": 5}, {\"date\": \"2020-03-14\", \"region\": \"Metropolitana\", \"casos\": 40, \"codigo region\": 6}, {\"date\": \"2020-03-14\", \"region\": \"O\\u2019Higgins\", \"casos\": 0, \"codigo region\": 7}, {\"date\": \"2020-03-14\", \"region\": \"Maule\", \"casos\": 9, \"codigo region\": 8}, {\"date\": \"2020-03-14\", \"region\": \"\\u00d1uble\", \"casos\": 4, \"codigo region\": 9}, {\"date\": \"2020-03-14\", \"region\": \"Biob\\u00edo\", \"casos\": 3, \"codigo region\": 10}, {\"date\": \"2020-03-14\", \"region\": \"Araucan\\u00eda\", \"casos\": 0, \"codigo region\": 11}, {\"date\": \"2020-03-14\", \"region\": \"Los R\\u00edos\", \"casos\": 0, \"codigo region\": 12}, {\"date\": \"2020-03-14\", \"region\": \"Los Lagos\", \"casos\": 1, \"codigo region\": 13}, {\"date\": \"2020-03-14\", \"region\": \"Ays\\u00e9n\", \"casos\": 1, \"codigo region\": 14}, {\"date\": \"2020-03-14\", \"region\": \"Magallanes\", \"casos\": 0, \"codigo region\": 15}, {\"date\": \"2020-03-15\", \"region\": \"Arica y Parinacota\", \"casos\": 0, \"codigo region\": 0}, {\"date\": \"2020-03-15\", \"region\": \"Tarapac\\u00e1\", \"casos\": 0, \"codigo region\": 1}, {\"date\": \"2020-03-15\", \"region\": \"Antofagasta\", \"casos\": 2, \"codigo region\": 2}, {\"date\": \"2020-03-15\", \"region\": \"Atacama\", \"casos\": 1, \"codigo region\": 3}, {\"date\": \"2020-03-15\", \"region\": \"Coquimbo\", \"casos\": 0, \"codigo region\": 4}, {\"date\": \"2020-03-15\", \"region\": \"Valpara\\u00edso\", \"casos\": 0, \"codigo region\": 5}, {\"date\": \"2020-03-15\", \"region\": \"Metropolitana\", \"casos\": 54, \"codigo region\": 6}, {\"date\": \"2020-03-15\", \"region\": \"O\\u2019Higgins\", \"casos\": 0, \"codigo region\": 7}, {\"date\": \"2020-03-15\", \"region\": \"Maule\", \"casos\": 9, \"codigo region\": 8}, {\"date\": \"2020-03-15\", \"region\": \"\\u00d1uble\", \"casos\": 4, \"codigo region\": 9}, {\"date\": \"2020-03-15\", \"region\": \"Biob\\u00edo\", \"casos\": 3, \"codigo region\": 10}, {\"date\": \"2020-03-15\", \"region\": \"Araucan\\u00eda\", \"casos\": 0, \"codigo region\": 11}, {\"date\": \"2020-03-15\", \"region\": \"Los R\\u00edos\", \"casos\": 0, \"codigo region\": 12}, {\"date\": \"2020-03-15\", \"region\": \"Los Lagos\", \"casos\": 1, \"codigo region\": 13}, {\"date\": \"2020-03-15\", \"region\": \"Ays\\u00e9n\", \"casos\": 1, \"codigo region\": 14}, {\"date\": \"2020-03-15\", \"region\": \"Magallanes\", \"casos\": 0, \"codigo region\": 15}, {\"date\": \"2020-03-16\", \"region\": \"Arica y Parinacota\", \"casos\": 0, \"codigo region\": 0}, {\"date\": \"2020-03-16\", \"region\": \"Tarapac\\u00e1\", \"casos\": 0, \"codigo region\": 1}, {\"date\": \"2020-03-16\", \"region\": \"Antofagasta\", \"casos\": 2, \"codigo region\": 2}, {\"date\": \"2020-03-16\", \"region\": \"Atacama\", \"casos\": 1, \"codigo region\": 3}, {\"date\": \"2020-03-16\", \"region\": \"Coquimbo\", \"casos\": 0, \"codigo region\": 4}, {\"date\": \"2020-03-16\", \"region\": \"Valpara\\u00edso\", \"casos\": 1, \"codigo region\": 5}, {\"date\": \"2020-03-16\", \"region\": \"Metropolitana\", \"casos\": 123, \"codigo region\": 6}, {\"date\": \"2020-03-16\", \"region\": \"O\\u2019Higgins\", \"casos\": 0, \"codigo region\": 7}, {\"date\": \"2020-03-16\", \"region\": \"Maule\", \"casos\": 9, \"codigo region\": 8}, {\"date\": \"2020-03-16\", \"region\": \"\\u00d1uble\", \"casos\": 12, \"codigo region\": 9}, {\"date\": \"2020-03-16\", \"region\": \"Biob\\u00edo\", \"casos\": 4, \"codigo region\": 10}, {\"date\": \"2020-03-16\", \"region\": \"Araucan\\u00eda\", \"casos\": 1, \"codigo region\": 11}, {\"date\": \"2020-03-16\", \"region\": \"Los R\\u00edos\", \"casos\": 1, \"codigo region\": 12}, {\"date\": \"2020-03-16\", \"region\": \"Los Lagos\", \"casos\": 1, \"codigo region\": 13}, {\"date\": \"2020-03-16\", \"region\": \"Ays\\u00e9n\", \"casos\": 1, \"codigo region\": 14}, {\"date\": \"2020-03-16\", \"region\": \"Magallanes\", \"casos\": 0, \"codigo region\": 15}, {\"date\": \"2020-03-17\", \"region\": \"Arica y Parinacota\", \"casos\": 0, \"codigo region\": 0}, {\"date\": \"2020-03-17\", \"region\": \"Tarapac\\u00e1\", \"casos\": 0, \"codigo region\": 1}, {\"date\": \"2020-03-17\", \"region\": \"Antofagasta\", \"casos\": 2, \"codigo region\": 2}, {\"date\": \"2020-03-17\", \"region\": \"Atacama\", \"casos\": 1, \"codigo region\": 3}, {\"date\": \"2020-03-17\", \"region\": \"Coquimbo\", \"casos\": 0, \"codigo region\": 4}, {\"date\": \"2020-03-17\", \"region\": \"Valpara\\u00edso\", \"casos\": 1, \"codigo region\": 5}, {\"date\": \"2020-03-17\", \"region\": \"Metropolitana\", \"casos\": 152, \"codigo region\": 6}, {\"date\": \"2020-03-17\", \"region\": \"O\\u2019Higgins\", \"casos\": 0, \"codigo region\": 7}, {\"date\": \"2020-03-17\", \"region\": \"Maule\", \"casos\": 9, \"codigo region\": 8}, {\"date\": \"2020-03-17\", \"region\": \"\\u00d1uble\", \"casos\": 26, \"codigo region\": 9}, {\"date\": \"2020-03-17\", \"region\": \"Biob\\u00edo\", \"casos\": 4, \"codigo region\": 10}, {\"date\": \"2020-03-17\", \"region\": \"Araucan\\u00eda\", \"casos\": 1, \"codigo region\": 11}, {\"date\": \"2020-03-17\", \"region\": \"Los R\\u00edos\", \"casos\": 1, \"codigo region\": 12}, {\"date\": \"2020-03-17\", \"region\": \"Los Lagos\", \"casos\": 1, \"codigo region\": 13}, {\"date\": \"2020-03-17\", \"region\": \"Ays\\u00e9n\", \"casos\": 1, \"codigo region\": 14}, {\"date\": \"2020-03-17\", \"region\": \"Magallanes\", \"casos\": 2, \"codigo region\": 15}, {\"date\": \"2020-03-18\", \"region\": \"Arica y Parinacota\", \"casos\": 0, \"codigo region\": 0}, {\"date\": \"2020-03-18\", \"region\": \"Tarapac\\u00e1\", \"casos\": 0, \"codigo region\": 1}, {\"date\": \"2020-03-18\", \"region\": \"Antofagasta\", \"casos\": 2, \"codigo region\": 2}, {\"date\": \"2020-03-18\", \"region\": \"Atacama\", \"casos\": 1, \"codigo region\": 3}, {\"date\": \"2020-03-18\", \"region\": \"Coquimbo\", \"casos\": 0, \"codigo region\": 4}, {\"date\": \"2020-03-18\", \"region\": \"Valpara\\u00edso\", \"casos\": 1, \"codigo region\": 5}, {\"date\": \"2020-03-18\", \"region\": \"Metropolitana\", \"casos\": 174, \"codigo region\": 6}, {\"date\": \"2020-03-18\", \"region\": \"O\\u2019Higgins\", \"casos\": 0, \"codigo region\": 7}, {\"date\": \"2020-03-18\", \"region\": \"Maule\", \"casos\": 11, \"codigo region\": 8}, {\"date\": \"2020-03-18\", \"region\": \"\\u00d1uble\", \"casos\": 26, \"codigo region\": 9}, {\"date\": \"2020-03-18\", \"region\": \"Biob\\u00edo\", \"casos\": 7, \"codigo region\": 10}, {\"date\": \"2020-03-18\", \"region\": \"Araucan\\u00eda\", \"casos\": 4, \"codigo region\": 11}, {\"date\": \"2020-03-18\", \"region\": \"Los R\\u00edos\", \"casos\": 1, \"codigo region\": 12}, {\"date\": \"2020-03-18\", \"region\": \"Los Lagos\", \"casos\": 8, \"codigo region\": 13}, {\"date\": \"2020-03-18\", \"region\": \"Ays\\u00e9n\", \"casos\": 1, \"codigo region\": 14}, {\"date\": \"2020-03-18\", \"region\": \"Magallanes\", \"casos\": 2, \"codigo region\": 15}, {\"date\": \"2020-03-19\", \"region\": \"Arica y Parinacota\", \"casos\": 1, \"codigo region\": 0}, {\"date\": \"2020-03-19\", \"region\": \"Tarapac\\u00e1\", \"casos\": 0, \"codigo region\": 1}, {\"date\": \"2020-03-19\", \"region\": \"Antofagasta\", \"casos\": 2, \"codigo region\": 2}, {\"date\": \"2020-03-19\", \"region\": \"Atacama\", \"casos\": 1, \"codigo region\": 3}, {\"date\": \"2020-03-19\", \"region\": \"Coquimbo\", \"casos\": 2, \"codigo region\": 4}, {\"date\": \"2020-03-19\", \"region\": \"Valpara\\u00edso\", \"casos\": 4, \"codigo region\": 5}, {\"date\": \"2020-03-19\", \"region\": \"Metropolitana\", \"casos\": 247, \"codigo region\": 6}, {\"date\": \"2020-03-19\", \"region\": \"O\\u2019Higgins\", \"casos\": 2, \"codigo region\": 7}, {\"date\": \"2020-03-19\", \"region\": \"Maule\", \"casos\": 14, \"codigo region\": 8}, {\"date\": \"2020-03-19\", \"region\": \"\\u00d1uble\", \"casos\": 28, \"codigo region\": 9}, {\"date\": \"2020-03-19\", \"region\": \"Biob\\u00edo\", \"casos\": 14, \"codigo region\": 10}, {\"date\": \"2020-03-19\", \"region\": \"Araucan\\u00eda\", \"casos\": 7, \"codigo region\": 11}, {\"date\": \"2020-03-19\", \"region\": \"Los R\\u00edos\", \"casos\": 1, \"codigo region\": 12}, {\"date\": \"2020-03-19\", \"region\": \"Los Lagos\", \"casos\": 16, \"codigo region\": 13}, {\"date\": \"2020-03-19\", \"region\": \"Ays\\u00e9n\", \"casos\": 1, \"codigo region\": 14}, {\"date\": \"2020-03-19\", \"region\": \"Magallanes\", \"casos\": 2, \"codigo region\": 15}, {\"date\": \"2020-03-20\", \"region\": \"Arica y Parinacota\", \"casos\": 1, \"codigo region\": 0}, {\"date\": \"2020-03-20\", \"region\": \"Tarapac\\u00e1\", \"casos\": 0, \"codigo region\": 1}, {\"date\": \"2020-03-20\", \"region\": \"Antofagasta\", \"casos\": 6, \"codigo region\": 2}, {\"date\": \"2020-03-20\", \"region\": \"Atacama\", \"casos\": 1, \"codigo region\": 3}, {\"date\": \"2020-03-20\", \"region\": \"Coquimbo\", \"casos\": 3, \"codigo region\": 4}, {\"date\": \"2020-03-20\", \"region\": \"Valpara\\u00edso\", \"casos\": 5, \"codigo region\": 5}, {\"date\": \"2020-03-20\", \"region\": \"Metropolitana\", \"casos\": 304, \"codigo region\": 6}, {\"date\": \"2020-03-20\", \"region\": \"O\\u2019Higgins\", \"casos\": 6, \"codigo region\": 7}, {\"date\": \"2020-03-20\", \"region\": \"Maule\", \"casos\": 14, \"codigo region\": 8}, {\"date\": \"2020-03-20\", \"region\": \"\\u00d1uble\", \"casos\": 44, \"codigo region\": 9}, {\"date\": \"2020-03-20\", \"region\": \"Biob\\u00edo\", \"casos\": 19, \"codigo region\": 10}, {\"date\": \"2020-03-20\", \"region\": \"Araucan\\u00eda\", \"casos\": 9, \"codigo region\": 11}, {\"date\": \"2020-03-20\", \"region\": \"Los R\\u00edos\", \"casos\": 1, \"codigo region\": 12}, {\"date\": \"2020-03-20\", \"region\": \"Los Lagos\", \"casos\": 18, \"codigo region\": 13}, {\"date\": \"2020-03-20\", \"region\": \"Ays\\u00e9n\", \"casos\": 1, \"codigo region\": 14}, {\"date\": \"2020-03-20\", \"region\": \"Magallanes\", \"casos\": 2, \"codigo region\": 15}, {\"date\": \"2020-03-21\", \"region\": \"Arica y Parinacota\", \"casos\": 1, \"codigo region\": 0}, {\"date\": \"2020-03-21\", \"region\": \"Tarapac\\u00e1\", \"casos\": 0, \"codigo region\": 1}, {\"date\": \"2020-03-21\", \"region\": \"Antofagasta\", \"casos\": 10, \"codigo region\": 2}, {\"date\": \"2020-03-21\", \"region\": \"Atacama\", \"casos\": 1, \"codigo region\": 3}, {\"date\": \"2020-03-21\", \"region\": \"Coquimbo\", \"casos\": 3, \"codigo region\": 4}, {\"date\": \"2020-03-21\", \"region\": \"Valpara\\u00edso\", \"casos\": 13, \"codigo region\": 5}, {\"date\": \"2020-03-21\", \"region\": \"Metropolitana\", \"casos\": 359, \"codigo region\": 6}, {\"date\": \"2020-03-21\", \"region\": \"O\\u2019Higgins\", \"casos\": 7, \"codigo region\": 7}, {\"date\": \"2020-03-21\", \"region\": \"Maule\", \"casos\": 15, \"codigo region\": 8}, {\"date\": \"2020-03-21\", \"region\": \"\\u00d1uble\", \"casos\": 58, \"codigo region\": 9}, {\"date\": \"2020-03-21\", \"region\": \"Biob\\u00edo\", \"casos\": 30, \"codigo region\": 10}, {\"date\": \"2020-03-21\", \"region\": \"Araucan\\u00eda\", \"casos\": 15, \"codigo region\": 11}, {\"date\": \"2020-03-21\", \"region\": \"Los R\\u00edos\", \"casos\": 1, \"codigo region\": 12}, {\"date\": \"2020-03-21\", \"region\": \"Los Lagos\", \"casos\": 20, \"codigo region\": 13}, {\"date\": \"2020-03-21\", \"region\": \"Ays\\u00e9n\", \"casos\": 1, \"codigo region\": 14}, {\"date\": \"2020-03-21\", \"region\": \"Magallanes\", \"casos\": 3, \"codigo region\": 15}, {\"date\": \"2020-03-22\", \"region\": \"Arica y Parinacota\", \"casos\": 2, \"codigo region\": 0}, {\"date\": \"2020-03-22\", \"region\": \"Tarapac\\u00e1\", \"casos\": 0, \"codigo region\": 1}, {\"date\": \"2020-03-22\", \"region\": \"Antofagasta\", \"casos\": 11, \"codigo region\": 2}, {\"date\": \"2020-03-22\", \"region\": \"Atacama\", \"casos\": 1, \"codigo region\": 3}, {\"date\": \"2020-03-22\", \"region\": \"Coquimbo\", \"casos\": 5, \"codigo region\": 4}, {\"date\": \"2020-03-22\", \"region\": \"Valpara\\u00edso\", \"casos\": 16, \"codigo region\": 5}, {\"date\": \"2020-03-22\", \"region\": \"Metropolitana\", \"casos\": 409, \"codigo region\": 6}, {\"date\": \"2020-03-22\", \"region\": \"O\\u2019Higgins\", \"casos\": 8, \"codigo region\": 7}, {\"date\": \"2020-03-22\", \"region\": \"Maule\", \"casos\": 25, \"codigo region\": 8}, {\"date\": \"2020-03-22\", \"region\": \"\\u00d1uble\", \"casos\": 64, \"codigo region\": 9}, {\"date\": \"2020-03-22\", \"region\": \"Biob\\u00edo\", \"casos\": 35, \"codigo region\": 10}, {\"date\": \"2020-03-22\", \"region\": \"Araucan\\u00eda\", \"casos\": 27, \"codigo region\": 11}, {\"date\": \"2020-03-22\", \"region\": \"Los R\\u00edos\", \"casos\": 1, \"codigo region\": 12}, {\"date\": \"2020-03-22\", \"region\": \"Los Lagos\", \"casos\": 23, \"codigo region\": 13}, {\"date\": \"2020-03-22\", \"region\": \"Ays\\u00e9n\", \"casos\": 1, \"codigo region\": 14}, {\"date\": \"2020-03-22\", \"region\": \"Magallanes\", \"casos\": 4, \"codigo region\": 15}, {\"date\": \"2020-03-23\", \"region\": \"Arica y Parinacota\", \"casos\": 2, \"codigo region\": 0}, {\"date\": \"2020-03-23\", \"region\": \"Tarapac\\u00e1\", \"casos\": 1, \"codigo region\": 1}, {\"date\": \"2020-03-23\", \"region\": \"Antofagasta\", \"casos\": 11, \"codigo region\": 2}, {\"date\": \"2020-03-23\", \"region\": \"Atacama\", \"casos\": 1, \"codigo region\": 3}, {\"date\": \"2020-03-23\", \"region\": \"Coquimbo\", \"casos\": 6, \"codigo region\": 4}, {\"date\": \"2020-03-23\", \"region\": \"Valpara\\u00edso\", \"casos\": 19, \"codigo region\": 5}, {\"date\": \"2020-03-23\", \"region\": \"Metropolitana\", \"casos\": 459, \"codigo region\": 6}, {\"date\": \"2020-03-23\", \"region\": \"O\\u2019Higgins\", \"casos\": 8, \"codigo region\": 7}, {\"date\": \"2020-03-23\", \"region\": \"Maule\", \"casos\": 28, \"codigo region\": 8}, {\"date\": \"2020-03-23\", \"region\": \"\\u00d1uble\", \"casos\": 81, \"codigo region\": 9}, {\"date\": \"2020-03-23\", \"region\": \"Biob\\u00edo\", \"casos\": 46, \"codigo region\": 10}, {\"date\": \"2020-03-23\", \"region\": \"Araucan\\u00eda\", \"casos\": 40, \"codigo region\": 11}, {\"date\": \"2020-03-23\", \"region\": \"Los R\\u00edos\", \"casos\": 4, \"codigo region\": 12}, {\"date\": \"2020-03-23\", \"region\": \"Los Lagos\", \"casos\": 33, \"codigo region\": 13}, {\"date\": \"2020-03-23\", \"region\": \"Ays\\u00e9n\", \"casos\": 1, \"codigo region\": 14}, {\"date\": \"2020-03-23\", \"region\": \"Magallanes\", \"casos\": 6, \"codigo region\": 15}, {\"date\": \"2020-03-24\", \"region\": \"Arica y Parinacota\", \"casos\": 2, \"codigo region\": 0}, {\"date\": \"2020-03-24\", \"region\": \"Tarapac\\u00e1\", \"casos\": 4, \"codigo region\": 1}, {\"date\": \"2020-03-24\", \"region\": \"Antofagasta\", \"casos\": 13, \"codigo region\": 2}, {\"date\": \"2020-03-24\", \"region\": \"Atacama\", \"casos\": 1, \"codigo region\": 3}, {\"date\": \"2020-03-24\", \"region\": \"Coquimbo\", \"casos\": 11, \"codigo region\": 4}, {\"date\": \"2020-03-24\", \"region\": \"Valpara\\u00edso\", \"casos\": 25, \"codigo region\": 5}, {\"date\": \"2020-03-24\", \"region\": \"Metropolitana\", \"casos\": 540, \"codigo region\": 6}, {\"date\": \"2020-03-24\", \"region\": \"O\\u2019Higgins\", \"casos\": 9, \"codigo region\": 7}, {\"date\": \"2020-03-24\", \"region\": \"Maule\", \"casos\": 29, \"codigo region\": 8}, {\"date\": \"2020-03-24\", \"region\": \"\\u00d1uble\", \"casos\": 105, \"codigo region\": 9}, {\"date\": \"2020-03-24\", \"region\": \"Biob\\u00edo\", \"casos\": 73, \"codigo region\": 10}, {\"date\": \"2020-03-24\", \"region\": \"Araucan\\u00eda\", \"casos\": 59, \"codigo region\": 11}, {\"date\": \"2020-03-24\", \"region\": \"Los R\\u00edos\", \"casos\": 6, \"codigo region\": 12}, {\"date\": \"2020-03-24\", \"region\": \"Los Lagos\", \"casos\": 36, \"codigo region\": 13}, {\"date\": \"2020-03-24\", \"region\": \"Ays\\u00e9n\", \"casos\": 1, \"codigo region\": 14}, {\"date\": \"2020-03-24\", \"region\": \"Magallanes\", \"casos\": 8, \"codigo region\": 15}, {\"date\": \"2020-03-25\", \"region\": \"Arica y Parinacota\", \"casos\": 2, \"codigo region\": 0}, {\"date\": \"2020-03-25\", \"region\": \"Tarapac\\u00e1\", \"casos\": 4, \"codigo region\": 1}, {\"date\": \"2020-03-25\", \"region\": \"Antofagasta\", \"casos\": 19, \"codigo region\": 2}, {\"date\": \"2020-03-25\", \"region\": \"Atacama\", \"casos\": 1, \"codigo region\": 3}, {\"date\": \"2020-03-25\", \"region\": \"Coquimbo\", \"casos\": 12, \"codigo region\": 4}, {\"date\": \"2020-03-25\", \"region\": \"Valpara\\u00edso\", \"casos\": 32, \"codigo region\": 5}, {\"date\": \"2020-03-25\", \"region\": \"Metropolitana\", \"casos\": 682, \"codigo region\": 6}, {\"date\": \"2020-03-25\", \"region\": \"O\\u2019Higgins\", \"casos\": 11, \"codigo region\": 7}, {\"date\": \"2020-03-25\", \"region\": \"Maule\", \"casos\": 30, \"codigo region\": 8}, {\"date\": \"2020-03-25\", \"region\": \"\\u00d1uble\", \"casos\": 111, \"codigo region\": 9}, {\"date\": \"2020-03-25\", \"region\": \"Biob\\u00edo\", \"casos\": 95, \"codigo region\": 10}, {\"date\": \"2020-03-25\", \"region\": \"Araucan\\u00eda\", \"casos\": 74, \"codigo region\": 11}, {\"date\": \"2020-03-25\", \"region\": \"Los R\\u00edos\", \"casos\": 11, \"codigo region\": 12}, {\"date\": \"2020-03-25\", \"region\": \"Los Lagos\", \"casos\": 44, \"codigo region\": 13}, {\"date\": \"2020-03-25\", \"region\": \"Ays\\u00e9n\", \"casos\": 1, \"codigo region\": 14}, {\"date\": \"2020-03-25\", \"region\": \"Magallanes\", \"casos\": 13, \"codigo region\": 15}, {\"date\": \"2020-03-26\", \"region\": \"Arica y Parinacota\", \"casos\": 3, \"codigo region\": 0}, {\"date\": \"2020-03-26\", \"region\": \"Tarapac\\u00e1\", \"casos\": 5, \"codigo region\": 1}, {\"date\": \"2020-03-26\", \"region\": \"Antofagasta\", \"casos\": 20, \"codigo region\": 2}, {\"date\": \"2020-03-26\", \"region\": \"Atacama\", \"casos\": 1, \"codigo region\": 3}, {\"date\": \"2020-03-26\", \"region\": \"Coquimbo\", \"casos\": 13, \"codigo region\": 4}, {\"date\": \"2020-03-26\", \"region\": \"Valpara\\u00edso\", \"casos\": 44, \"codigo region\": 5}, {\"date\": \"2020-03-26\", \"region\": \"Metropolitana\", \"casos\": 746, \"codigo region\": 6}, {\"date\": \"2020-03-26\", \"region\": \"O\\u2019Higgins\", \"casos\": 14, \"codigo region\": 7}, {\"date\": \"2020-03-26\", \"region\": \"Maule\", \"casos\": 31, \"codigo region\": 8}, {\"date\": \"2020-03-26\", \"region\": \"\\u00d1uble\", \"casos\": 114, \"codigo region\": 9}, {\"date\": \"2020-03-26\", \"region\": \"Biob\\u00edo\", \"casos\": 109, \"codigo region\": 10}, {\"date\": \"2020-03-26\", \"region\": \"Araucan\\u00eda\", \"casos\": 111, \"codigo region\": 11}, {\"date\": \"2020-03-26\", \"region\": \"Los R\\u00edos\", \"casos\": 14, \"codigo region\": 12}, {\"date\": \"2020-03-26\", \"region\": \"Los Lagos\", \"casos\": 60, \"codigo region\": 13}, {\"date\": \"2020-03-26\", \"region\": \"Ays\\u00e9n\", \"casos\": 2, \"codigo region\": 14}, {\"date\": \"2020-03-26\", \"region\": \"Magallanes\", \"casos\": 19, \"codigo region\": 15}, {\"date\": \"2020-03-27\", \"region\": \"Arica y Parinacota\", \"casos\": 3, \"codigo region\": 0}, {\"date\": \"2020-03-27\", \"region\": \"Tarapac\\u00e1\", \"casos\": 5, \"codigo region\": 1}, {\"date\": \"2020-03-27\", \"region\": \"Antofagasta\", \"casos\": 21, \"codigo region\": 2}, {\"date\": \"2020-03-27\", \"region\": \"Atacama\", \"casos\": 1, \"codigo region\": 3}, {\"date\": \"2020-03-27\", \"region\": \"Coquimbo\", \"casos\": 14, \"codigo region\": 4}, {\"date\": \"2020-03-27\", \"region\": \"Valpara\\u00edso\", \"casos\": 49, \"codigo region\": 5}, {\"date\": \"2020-03-27\", \"region\": \"Metropolitana\", \"casos\": 938, \"codigo region\": 6}, {\"date\": \"2020-03-27\", \"region\": \"O\\u2019Higgins\", \"casos\": 16, \"codigo region\": 7}, {\"date\": \"2020-03-27\", \"region\": \"Maule\", \"casos\": 32, \"codigo region\": 8}, {\"date\": \"2020-03-27\", \"region\": \"\\u00d1uble\", \"casos\": 144, \"codigo region\": 9}, {\"date\": \"2020-03-27\", \"region\": \"Biob\\u00edo\", \"casos\": 135, \"codigo region\": 10}, {\"date\": \"2020-03-27\", \"region\": \"Araucan\\u00eda\", \"casos\": 143, \"codigo region\": 11}, {\"date\": \"2020-03-27\", \"region\": \"Los R\\u00edos\", \"casos\": 22, \"codigo region\": 12}, {\"date\": \"2020-03-27\", \"region\": \"Los Lagos\", \"casos\": 63, \"codigo region\": 13}, {\"date\": \"2020-03-27\", \"region\": \"Ays\\u00e9n\", \"casos\": 2, \"codigo region\": 14}, {\"date\": \"2020-03-27\", \"region\": \"Magallanes\", \"casos\": 22, \"codigo region\": 15}, {\"date\": \"2020-03-28\", \"region\": \"Arica y Parinacota\", \"casos\": 3, \"codigo region\": 0}, {\"date\": \"2020-03-28\", \"region\": \"Tarapac\\u00e1\", \"casos\": 5, \"codigo region\": 1}, {\"date\": \"2020-03-28\", \"region\": \"Antofagasta\", \"casos\": 25, \"codigo region\": 2}, {\"date\": \"2020-03-28\", \"region\": \"Atacama\", \"casos\": 1, \"codigo region\": 3}, {\"date\": \"2020-03-28\", \"region\": \"Coquimbo\", \"casos\": 15, \"codigo region\": 4}, {\"date\": \"2020-03-28\", \"region\": \"Valpara\\u00edso\", \"casos\": 71, \"codigo region\": 5}, {\"date\": \"2020-03-28\", \"region\": \"Metropolitana\", \"casos\": 1084, \"codigo region\": 6}, {\"date\": \"2020-03-28\", \"region\": \"O\\u2019Higgins\", \"casos\": 20, \"codigo region\": 7}, {\"date\": \"2020-03-28\", \"region\": \"Maule\", \"casos\": 37, \"codigo region\": 8}, {\"date\": \"2020-03-28\", \"region\": \"\\u00d1uble\", \"casos\": 172, \"codigo region\": 9}, {\"date\": \"2020-03-28\", \"region\": \"Biob\\u00edo\", \"casos\": 151, \"codigo region\": 10}, {\"date\": \"2020-03-28\", \"region\": \"Araucan\\u00eda\", \"casos\": 177, \"codigo region\": 11}, {\"date\": \"2020-03-28\", \"region\": \"Los R\\u00edos\", \"casos\": 27, \"codigo region\": 12}, {\"date\": \"2020-03-28\", \"region\": \"Los Lagos\", \"casos\": 93, \"codigo region\": 13}, {\"date\": \"2020-03-28\", \"region\": \"Ays\\u00e9n\", \"casos\": 2, \"codigo region\": 14}, {\"date\": \"2020-03-28\", \"region\": \"Magallanes\", \"casos\": 26, \"codigo region\": 15}, {\"date\": \"2020-03-29\", \"region\": \"Arica y Parinacota\", \"casos\": 4, \"codigo region\": 0}, {\"date\": \"2020-03-29\", \"region\": \"Tarapac\\u00e1\", \"casos\": 6, \"codigo region\": 1}, {\"date\": \"2020-03-29\", \"region\": \"Antofagasta\", \"casos\": 27, \"codigo region\": 2}, {\"date\": \"2020-03-29\", \"region\": \"Atacama\", \"casos\": 2, \"codigo region\": 3}, {\"date\": \"2020-03-29\", \"region\": \"Coquimbo\", \"casos\": 18, \"codigo region\": 4}, {\"date\": \"2020-03-29\", \"region\": \"Valpara\\u00edso\", \"casos\": 80, \"codigo region\": 5}, {\"date\": \"2020-03-29\", \"region\": \"Metropolitana\", \"casos\": 1167, \"codigo region\": 6}, {\"date\": \"2020-03-29\", \"region\": \"O\\u2019Higgins\", \"casos\": 21, \"codigo region\": 7}, {\"date\": \"2020-03-29\", \"region\": \"Maule\", \"casos\": 42, \"codigo region\": 8}, {\"date\": \"2020-03-29\", \"region\": \"\\u00d1uble\", \"casos\": 197, \"codigo region\": 9}, {\"date\": \"2020-03-29\", \"region\": \"Biob\\u00edo\", \"casos\": 185, \"codigo region\": 10}, {\"date\": \"2020-03-29\", \"region\": \"Araucan\\u00eda\", \"casos\": 205, \"codigo region\": 11}, {\"date\": \"2020-03-29\", \"region\": \"Los R\\u00edos\", \"casos\": 40, \"codigo region\": 12}, {\"date\": \"2020-03-29\", \"region\": \"Los Lagos\", \"casos\": 104, \"codigo region\": 13}, {\"date\": \"2020-03-29\", \"region\": \"Ays\\u00e9n\", \"casos\": 2, \"codigo region\": 14}, {\"date\": \"2020-03-29\", \"region\": \"Magallanes\", \"casos\": 39, \"codigo region\": 15}, {\"date\": \"2020-03-30\", \"region\": \"Arica y Parinacota\", \"casos\": 6, \"codigo region\": 0}, {\"date\": \"2020-03-30\", \"region\": \"Tarapac\\u00e1\", \"casos\": 8, \"codigo region\": 1}, {\"date\": \"2020-03-30\", \"region\": \"Antofagasta\", \"casos\": 35, \"codigo region\": 2}, {\"date\": \"2020-03-30\", \"region\": \"Atacama\", \"casos\": 2, \"codigo region\": 3}, {\"date\": \"2020-03-30\", \"region\": \"Coquimbo\", \"casos\": 27, \"codigo region\": 4}, {\"date\": \"2020-03-30\", \"region\": \"Valpara\\u00edso\", \"casos\": 108, \"codigo region\": 5}, {\"date\": \"2020-03-30\", \"region\": \"Metropolitana\", \"casos\": 1295, \"codigo region\": 6}, {\"date\": \"2020-03-30\", \"region\": \"O\\u2019Higgins\", \"casos\": 21, \"codigo region\": 7}, {\"date\": \"2020-03-30\", \"region\": \"Maule\", \"casos\": 54, \"codigo region\": 8}, {\"date\": \"2020-03-30\", \"region\": \"\\u00d1uble\", \"casos\": 229, \"codigo region\": 9}, {\"date\": \"2020-03-30\", \"region\": \"Biob\\u00edo\", \"casos\": 201, \"codigo region\": 10}, {\"date\": \"2020-03-30\", \"region\": \"Araucan\\u00eda\", \"casos\": 247, \"codigo region\": 11}, {\"date\": \"2020-03-30\", \"region\": \"Los R\\u00edos\", \"casos\": 47, \"codigo region\": 12}, {\"date\": \"2020-03-30\", \"region\": \"Los Lagos\", \"casos\": 128, \"codigo region\": 13}, {\"date\": \"2020-03-30\", \"region\": \"Ays\\u00e9n\", \"casos\": 2, \"codigo region\": 14}, {\"date\": \"2020-03-30\", \"region\": \"Magallanes\", \"casos\": 39, \"codigo region\": 15}, {\"date\": \"2020-03-31\", \"region\": \"Arica y Parinacota\", \"casos\": 6, \"codigo region\": 0}, {\"date\": \"2020-03-31\", \"region\": \"Tarapac\\u00e1\", \"casos\": 10, \"codigo region\": 1}, {\"date\": \"2020-03-31\", \"region\": \"Antofagasta\", \"casos\": 35, \"codigo region\": 2}, {\"date\": \"2020-03-31\", \"region\": \"Atacama\", \"casos\": 2, \"codigo region\": 3}, {\"date\": \"2020-03-31\", \"region\": \"Coquimbo\", \"casos\": 28, \"codigo region\": 4}, {\"date\": \"2020-03-31\", \"region\": \"Valpara\\u00edso\", \"casos\": 115, \"codigo region\": 5}, {\"date\": \"2020-03-31\", \"region\": \"Metropolitana\", \"casos\": 1420, \"codigo region\": 6}, {\"date\": \"2020-03-31\", \"region\": \"O\\u2019Higgins\", \"casos\": 23, \"codigo region\": 7}, {\"date\": \"2020-03-31\", \"region\": \"Maule\", \"casos\": 62, \"codigo region\": 8}, {\"date\": \"2020-03-31\", \"region\": \"\\u00d1uble\", \"casos\": 245, \"codigo region\": 9}, {\"date\": \"2020-03-31\", \"region\": \"Biob\\u00edo\", \"casos\": 216, \"codigo region\": 10}, {\"date\": \"2020-03-31\", \"region\": \"Araucan\\u00eda\", \"casos\": 302, \"codigo region\": 11}, {\"date\": \"2020-03-31\", \"region\": \"Los R\\u00edos\", \"casos\": 58, \"codigo region\": 12}, {\"date\": \"2020-03-31\", \"region\": \"Los Lagos\", \"casos\": 151, \"codigo region\": 13}, {\"date\": \"2020-03-31\", \"region\": \"Ays\\u00e9n\", \"casos\": 2, \"codigo region\": 14}, {\"date\": \"2020-03-31\", \"region\": \"Magallanes\", \"casos\": 63, \"codigo region\": 15}, {\"date\": \"2020-04-01\", \"region\": \"Arica y Parinacota\", \"casos\": 6, \"codigo region\": 0}, {\"date\": \"2020-04-01\", \"region\": \"Tarapac\\u00e1\", \"casos\": 10, \"codigo region\": 1}, {\"date\": \"2020-04-01\", \"region\": \"Antofagasta\", \"casos\": 39, \"codigo region\": 2}, {\"date\": \"2020-04-01\", \"region\": \"Atacama\", \"casos\": 3, \"codigo region\": 3}, {\"date\": \"2020-04-01\", \"region\": \"Coquimbo\", \"casos\": 30, \"codigo region\": 4}, {\"date\": \"2020-04-01\", \"region\": \"Valpara\\u00edso\", \"casos\": 136, \"codigo region\": 5}, {\"date\": \"2020-04-01\", \"region\": \"Metropolitana\", \"casos\": 1521, \"codigo region\": 6}, {\"date\": \"2020-04-01\", \"region\": \"O\\u2019Higgins\", \"casos\": 26, \"codigo region\": 7}, {\"date\": \"2020-04-01\", \"region\": \"Maule\", \"casos\": 71, \"codigo region\": 8}, {\"date\": \"2020-04-01\", \"region\": \"\\u00d1uble\", \"casos\": 259, \"codigo region\": 9}, {\"date\": \"2020-04-01\", \"region\": \"Biob\\u00edo\", \"casos\": 240, \"codigo region\": 10}, {\"date\": \"2020-04-01\", \"region\": \"Araucan\\u00eda\", \"casos\": 343, \"codigo region\": 11}, {\"date\": \"2020-04-01\", \"region\": \"Los R\\u00edos\", \"casos\": 64, \"codigo region\": 12}, {\"date\": \"2020-04-01\", \"region\": \"Los Lagos\", \"casos\": 181, \"codigo region\": 13}, {\"date\": \"2020-04-01\", \"region\": \"Ays\\u00e9n\", \"casos\": 3, \"codigo region\": 14}, {\"date\": \"2020-04-01\", \"region\": \"Magallanes\", \"casos\": 99, \"codigo region\": 15}, {\"date\": \"2020-04-02\", \"region\": \"Arica y Parinacota\", \"casos\": 7, \"codigo region\": 0}, {\"date\": \"2020-04-02\", \"region\": \"Tarapac\\u00e1\", \"casos\": 12, \"codigo region\": 1}, {\"date\": \"2020-04-02\", \"region\": \"Antofagasta\", \"casos\": 47, \"codigo region\": 2}, {\"date\": \"2020-04-02\", \"region\": \"Atacama\", \"casos\": 3, \"codigo region\": 3}, {\"date\": \"2020-04-02\", \"region\": \"Coquimbo\", \"casos\": 34, \"codigo region\": 4}, {\"date\": \"2020-04-02\", \"region\": \"Valpara\\u00edso\", \"casos\": 156, \"codigo region\": 5}, {\"date\": \"2020-04-02\", \"region\": \"Metropolitana\", \"casos\": 1636, \"codigo region\": 6}, {\"date\": \"2020-04-02\", \"region\": \"O\\u2019Higgins\", \"casos\": 32, \"codigo region\": 7}, {\"date\": \"2020-04-02\", \"region\": \"Maule\", \"casos\": 82, \"codigo region\": 8}, {\"date\": \"2020-04-02\", \"region\": \"\\u00d1uble\", \"casos\": 341, \"codigo region\": 9}, {\"date\": \"2020-04-02\", \"region\": \"Biob\\u00edo\", \"casos\": 275, \"codigo region\": 10}, {\"date\": \"2020-04-02\", \"region\": \"Araucan\\u00eda\", \"casos\": 389, \"codigo region\": 11}, {\"date\": \"2020-04-02\", \"region\": \"Los R\\u00edos\", \"casos\": 68, \"codigo region\": 12}, {\"date\": \"2020-04-02\", \"region\": \"Los Lagos\", \"casos\": 203, \"codigo region\": 13}, {\"date\": \"2020-04-02\", \"region\": \"Ays\\u00e9n\", \"casos\": 5, \"codigo region\": 14}, {\"date\": \"2020-04-02\", \"region\": \"Magallanes\", \"casos\": 114, \"codigo region\": 15}, {\"date\": \"2020-04-03\", \"region\": \"Arica y Parinacota\", \"casos\": 12, \"codigo region\": 0}, {\"date\": \"2020-04-03\", \"region\": \"Tarapac\\u00e1\", \"casos\": 13, \"codigo region\": 1}, {\"date\": \"2020-04-03\", \"region\": \"Antofagasta\", \"casos\": 54, \"codigo region\": 2}, {\"date\": \"2020-04-03\", \"region\": \"Atacama\", \"casos\": 5, \"codigo region\": 3}, {\"date\": \"2020-04-03\", \"region\": \"Coquimbo\", \"casos\": 35, \"codigo region\": 4}, {\"date\": \"2020-04-03\", \"region\": \"Valpara\\u00edso\", \"casos\": 176, \"codigo region\": 5}, {\"date\": \"2020-04-03\", \"region\": \"Metropolitana\", \"casos\": 1742, \"codigo region\": 6}, {\"date\": \"2020-04-03\", \"region\": \"O\\u2019Higgins\", \"casos\": 33, \"codigo region\": 7}, {\"date\": \"2020-04-03\", \"region\": \"Maule\", \"casos\": 89, \"codigo region\": 8}, {\"date\": \"2020-04-03\", \"region\": \"\\u00d1uble\", \"casos\": 370, \"codigo region\": 9}, {\"date\": \"2020-04-03\", \"region\": \"Biob\\u00edo\", \"casos\": 302, \"codigo region\": 10}, {\"date\": \"2020-04-03\", \"region\": \"Araucan\\u00eda\", \"casos\": 432, \"codigo region\": 11}, {\"date\": \"2020-04-03\", \"region\": \"Los R\\u00edos\", \"casos\": 78, \"codigo region\": 12}, {\"date\": \"2020-04-03\", \"region\": \"Los Lagos\", \"casos\": 234, \"codigo region\": 13}, {\"date\": \"2020-04-03\", \"region\": \"Ays\\u00e9n\", \"casos\": 6, \"codigo region\": 14}, {\"date\": \"2020-04-03\", \"region\": \"Magallanes\", \"casos\": 156, \"codigo region\": 15}, {\"date\": \"2020-04-04\", \"region\": \"Arica y Parinacota\", \"casos\": 12, \"codigo region\": 0}, {\"date\": \"2020-04-04\", \"region\": \"Tarapac\\u00e1\", \"casos\": 17, \"codigo region\": 1}, {\"date\": \"2020-04-04\", \"region\": \"Antofagasta\", \"casos\": 55, \"codigo region\": 2}, {\"date\": \"2020-04-04\", \"region\": \"Atacama\", \"casos\": 5, \"codigo region\": 3}, {\"date\": \"2020-04-04\", \"region\": \"Coquimbo\", \"casos\": 44, \"codigo region\": 4}, {\"date\": \"2020-04-04\", \"region\": \"Valpara\\u00edso\", \"casos\": 185, \"codigo region\": 5}, {\"date\": \"2020-04-04\", \"region\": \"Metropolitana\", \"casos\": 1957, \"codigo region\": 6}, {\"date\": \"2020-04-04\", \"region\": \"O\\u2019Higgins\", \"casos\": 38, \"codigo region\": 7}, {\"date\": \"2020-04-04\", \"region\": \"Maule\", \"casos\": 97, \"codigo region\": 8}, {\"date\": \"2020-04-04\", \"region\": \"\\u00d1uble\", \"casos\": 401, \"codigo region\": 9}, {\"date\": \"2020-04-04\", \"region\": \"Biob\\u00edo\", \"casos\": 347, \"codigo region\": 10}, {\"date\": \"2020-04-04\", \"region\": \"Araucan\\u00eda\", \"casos\": 477, \"codigo region\": 11}, {\"date\": \"2020-04-04\", \"region\": \"Los R\\u00edos\", \"casos\": 89, \"codigo region\": 12}, {\"date\": \"2020-04-04\", \"region\": \"Los Lagos\", \"casos\": 259, \"codigo region\": 13}, {\"date\": \"2020-04-04\", \"region\": \"Ays\\u00e9n\", \"casos\": 6, \"codigo region\": 14}, {\"date\": \"2020-04-04\", \"region\": \"Magallanes\", \"casos\": 172, \"codigo region\": 15}, {\"date\": \"2020-04-05\", \"region\": \"Arica y Parinacota\", \"casos\": 28, \"codigo region\": 0}, {\"date\": \"2020-04-05\", \"region\": \"Tarapac\\u00e1\", \"casos\": 20, \"codigo region\": 1}, {\"date\": \"2020-04-05\", \"region\": \"Antofagasta\", \"casos\": 60, \"codigo region\": 2}, {\"date\": \"2020-04-05\", \"region\": \"Atacama\", \"casos\": 5, \"codigo region\": 3}, {\"date\": \"2020-04-05\", \"region\": \"Coquimbo\", \"casos\": 50, \"codigo region\": 4}, {\"date\": \"2020-04-05\", \"region\": \"Valpara\\u00edso\", \"casos\": 191, \"codigo region\": 5}, {\"date\": \"2020-04-05\", \"region\": \"Metropolitana\", \"casos\": 2102, \"codigo region\": 6}, {\"date\": \"2020-04-05\", \"region\": \"O\\u2019Higgins\", \"casos\": 41, \"codigo region\": 7}, {\"date\": \"2020-04-05\", \"region\": \"Maule\", \"casos\": 103, \"codigo region\": 8}, {\"date\": \"2020-04-05\", \"region\": \"\\u00d1uble\", \"casos\": 425, \"codigo region\": 9}, {\"date\": \"2020-04-05\", \"region\": \"Biob\\u00edo\", \"casos\": 365, \"codigo region\": 10}, {\"date\": \"2020-04-05\", \"region\": \"Araucan\\u00eda\", \"casos\": 509, \"codigo region\": 11}, {\"date\": \"2020-04-05\", \"region\": \"Los R\\u00edos\", \"casos\": 99, \"codigo region\": 12}, {\"date\": \"2020-04-05\", \"region\": \"Los Lagos\", \"casos\": 276, \"codigo region\": 13}, {\"date\": \"2020-04-05\", \"region\": \"Ays\\u00e9n\", \"casos\": 7, \"codigo region\": 14}, {\"date\": \"2020-04-05\", \"region\": \"Magallanes\", \"casos\": 190, \"codigo region\": 15}, {\"date\": \"2020-04-06\", \"region\": \"Arica y Parinacota\", \"casos\": 41, \"codigo region\": 0}, {\"date\": \"2020-04-06\", \"region\": \"Tarapac\\u00e1\", \"casos\": 21, \"codigo region\": 1}, {\"date\": \"2020-04-06\", \"region\": \"Antofagasta\", \"casos\": 68, \"codigo region\": 2}, {\"date\": \"2020-04-06\", \"region\": \"Atacama\", \"casos\": 5, \"codigo region\": 3}, {\"date\": \"2020-04-06\", \"region\": \"Coquimbo\", \"casos\": 51, \"codigo region\": 4}, {\"date\": \"2020-04-06\", \"region\": \"Valpara\\u00edso\", \"casos\": 198, \"codigo region\": 5}, {\"date\": \"2020-04-06\", \"region\": \"Metropolitana\", \"casos\": 2244, \"codigo region\": 6}, {\"date\": \"2020-04-06\", \"region\": \"O\\u2019Higgins\", \"casos\": 42, \"codigo region\": 7}, {\"date\": \"2020-04-06\", \"region\": \"Maule\", \"casos\": 108, \"codigo region\": 8}, {\"date\": \"2020-04-06\", \"region\": \"\\u00d1uble\", \"casos\": 474, \"codigo region\": 9}, {\"date\": \"2020-04-06\", \"region\": \"Biob\\u00edo\", \"casos\": 383, \"codigo region\": 10}, {\"date\": \"2020-04-06\", \"region\": \"Araucan\\u00eda\", \"casos\": 562, \"codigo region\": 11}, {\"date\": \"2020-04-06\", \"region\": \"Los R\\u00edos\", \"casos\": 104, \"codigo region\": 12}, {\"date\": \"2020-04-06\", \"region\": \"Los Lagos\", \"casos\": 286, \"codigo region\": 13}, {\"date\": \"2020-04-06\", \"region\": \"Ays\\u00e9n\", \"casos\": 7, \"codigo region\": 14}, {\"date\": \"2020-04-06\", \"region\": \"Magallanes\", \"casos\": 221, \"codigo region\": 15}, {\"date\": \"2020-04-07\", \"region\": \"Arica y Parinacota\", \"casos\": 53, \"codigo region\": 0}, {\"date\": \"2020-04-07\", \"region\": \"Tarapac\\u00e1\", \"casos\": 23, \"codigo region\": 1}, {\"date\": \"2020-04-07\", \"region\": \"Antofagasta\", \"casos\": 69, \"codigo region\": 2}, {\"date\": \"2020-04-07\", \"region\": \"Atacama\", \"casos\": 6, \"codigo region\": 3}, {\"date\": \"2020-04-07\", \"region\": \"Coquimbo\", \"casos\": 52, \"codigo region\": 4}, {\"date\": \"2020-04-07\", \"region\": \"Valpara\\u00edso\", \"casos\": 214, \"codigo region\": 5}, {\"date\": \"2020-04-07\", \"region\": \"Metropolitana\", \"casos\": 2350, \"codigo region\": 6}, {\"date\": \"2020-04-07\", \"region\": \"O\\u2019Higgins\", \"casos\": 42, \"codigo region\": 7}, {\"date\": \"2020-04-07\", \"region\": \"Maule\", \"casos\": 108, \"codigo region\": 8}, {\"date\": \"2020-04-07\", \"region\": \"\\u00d1uble\", \"casos\": 522, \"codigo region\": 9}, {\"date\": \"2020-04-07\", \"region\": \"Biob\\u00edo\", \"casos\": 410, \"codigo region\": 10}, {\"date\": \"2020-04-07\", \"region\": \"Araucan\\u00eda\", \"casos\": 612, \"codigo region\": 11}, {\"date\": \"2020-04-07\", \"region\": \"Los R\\u00edos\", \"casos\": 109, \"codigo region\": 12}, {\"date\": \"2020-04-07\", \"region\": \"Los Lagos\", \"casos\": 299, \"codigo region\": 13}, {\"date\": \"2020-04-07\", \"region\": \"Ays\\u00e9n\", \"casos\": 7, \"codigo region\": 14}, {\"date\": \"2020-04-07\", \"region\": \"Magallanes\", \"casos\": 240, \"codigo region\": 15}, {\"date\": \"2020-04-08\", \"region\": \"Arica y Parinacota\", \"casos\": 63, \"codigo region\": 0}, {\"date\": \"2020-04-08\", \"region\": \"Tarapac\\u00e1\", \"casos\": 26, \"codigo region\": 1}, {\"date\": \"2020-04-08\", \"region\": \"Antofagasta\", \"casos\": 77, \"codigo region\": 2}, {\"date\": \"2020-04-08\", \"region\": \"Atacama\", \"casos\": 8, \"codigo region\": 3}, {\"date\": \"2020-04-08\", \"region\": \"Coquimbo\", \"casos\": 56, \"codigo region\": 4}, {\"date\": \"2020-04-08\", \"region\": \"Valpara\\u00edso\", \"casos\": 225, \"codigo region\": 5}, {\"date\": \"2020-04-08\", \"region\": \"Metropolitana\", \"casos\": 2548, \"codigo region\": 6}, {\"date\": \"2020-04-08\", \"region\": \"O\\u2019Higgins\", \"casos\": 43, \"codigo region\": 7}, {\"date\": \"2020-04-08\", \"region\": \"Maule\", \"casos\": 119, \"codigo region\": 8}, {\"date\": \"2020-04-08\", \"region\": \"\\u00d1uble\", \"casos\": 561, \"codigo region\": 9}, {\"date\": \"2020-04-08\", \"region\": \"Biob\\u00edo\", \"casos\": 439, \"codigo region\": 10}, {\"date\": \"2020-04-08\", \"region\": \"Araucan\\u00eda\", \"casos\": 669, \"codigo region\": 11}, {\"date\": \"2020-04-08\", \"region\": \"Los R\\u00edos\", \"casos\": 114, \"codigo region\": 12}, {\"date\": \"2020-04-08\", \"region\": \"Los Lagos\", \"casos\": 325, \"codigo region\": 13}, {\"date\": \"2020-04-08\", \"region\": \"Ays\\u00e9n\", \"casos\": 7, \"codigo region\": 14}, {\"date\": \"2020-04-08\", \"region\": \"Magallanes\", \"casos\": 266, \"codigo region\": 15}, {\"date\": \"2020-04-09\", \"region\": \"Arica y Parinacota\", \"casos\": 75, \"codigo region\": 0}, {\"date\": \"2020-04-09\", \"region\": \"Tarapac\\u00e1\", \"casos\": 29, \"codigo region\": 1}, {\"date\": \"2020-04-09\", \"region\": \"Antofagasta\", \"casos\": 92, \"codigo region\": 2}, {\"date\": \"2020-04-09\", \"region\": \"Atacama\", \"casos\": 10, \"codigo region\": 3}, {\"date\": \"2020-04-09\", \"region\": \"Coquimbo\", \"casos\": 61, \"codigo region\": 4}, {\"date\": \"2020-04-09\", \"region\": \"Valpara\\u00edso\", \"casos\": 230, \"codigo region\": 5}, {\"date\": \"2020-04-09\", \"region\": \"Metropolitana\", \"casos\": 2832, \"codigo region\": 6}, {\"date\": \"2020-04-09\", \"region\": \"O\\u2019Higgins\", \"casos\": 44, \"codigo region\": 7}, {\"date\": \"2020-04-09\", \"region\": \"Maule\", \"casos\": 128, \"codigo region\": 8}, {\"date\": \"2020-04-09\", \"region\": \"\\u00d1uble\", \"casos\": 571, \"codigo region\": 9}, {\"date\": \"2020-04-09\", \"region\": \"Biob\\u00edo\", \"casos\": 460, \"codigo region\": 10}, {\"date\": \"2020-04-09\", \"region\": \"Araucan\\u00eda\", \"casos\": 689, \"codigo region\": 11}, {\"date\": \"2020-04-09\", \"region\": \"Los R\\u00edos\", \"casos\": 118, \"codigo region\": 12}, {\"date\": \"2020-04-09\", \"region\": \"Los Lagos\", \"casos\": 340, \"codigo region\": 13}, {\"date\": \"2020-04-09\", \"region\": \"Ays\\u00e9n\", \"casos\": 7, \"codigo region\": 14}, {\"date\": \"2020-04-09\", \"region\": \"Magallanes\", \"casos\": 286, \"codigo region\": 15}, {\"date\": \"2020-04-10\", \"region\": \"Arica y Parinacota\", \"casos\": 87, \"codigo region\": 0}, {\"date\": \"2020-04-10\", \"region\": \"Tarapac\\u00e1\", \"casos\": 35, \"codigo region\": 1}, {\"date\": \"2020-04-10\", \"region\": \"Antofagasta\", \"casos\": 110, \"codigo region\": 2}, {\"date\": \"2020-04-10\", \"region\": \"Atacama\", \"casos\": 13, \"codigo region\": 3}, {\"date\": \"2020-04-10\", \"region\": \"Coquimbo\", \"casos\": 61, \"codigo region\": 4}, {\"date\": \"2020-04-10\", \"region\": \"Valpara\\u00edso\", \"casos\": 241, \"codigo region\": 5}, {\"date\": \"2020-04-10\", \"region\": \"Metropolitana\", \"casos\": 3193, \"codigo region\": 6}, {\"date\": \"2020-04-10\", \"region\": \"O\\u2019Higgins\", \"casos\": 44, \"codigo region\": 7}, {\"date\": \"2020-04-10\", \"region\": \"Maule\", \"casos\": 131, \"codigo region\": 8}, {\"date\": \"2020-04-10\", \"region\": \"\\u00d1uble\", \"casos\": 589, \"codigo region\": 9}, {\"date\": \"2020-04-10\", \"region\": \"Biob\\u00edo\", \"casos\": 474, \"codigo region\": 10}, {\"date\": \"2020-04-10\", \"region\": \"Araucan\\u00eda\", \"casos\": 712, \"codigo region\": 11}, {\"date\": \"2020-04-10\", \"region\": \"Los R\\u00edos\", \"casos\": 124, \"codigo region\": 12}, {\"date\": \"2020-04-10\", \"region\": \"Los Lagos\", \"casos\": 349, \"codigo region\": 13}, {\"date\": \"2020-04-10\", \"region\": \"Ays\\u00e9n\", \"casos\": 7, \"codigo region\": 14}, {\"date\": \"2020-04-10\", \"region\": \"Magallanes\", \"casos\": 331, \"codigo region\": 15}, {\"date\": \"2020-04-11\", \"region\": \"Arica y Parinacota\", \"casos\": 107, \"codigo region\": 0}, {\"date\": \"2020-04-11\", \"region\": \"Tarapac\\u00e1\", \"casos\": 38, \"codigo region\": 1}, {\"date\": \"2020-04-11\", \"region\": \"Antofagasta\", \"casos\": 117, \"codigo region\": 2}, {\"date\": \"2020-04-11\", \"region\": \"Atacama\", \"casos\": 13, \"codigo region\": 3}, {\"date\": \"2020-04-11\", \"region\": \"Coquimbo\", \"casos\": 64, \"codigo region\": 4}, {\"date\": \"2020-04-11\", \"region\": \"Valpara\\u00edso\", \"casos\": 248, \"codigo region\": 5}, {\"date\": \"2020-04-11\", \"region\": \"Metropolitana\", \"casos\": 3448, \"codigo region\": 6}, {\"date\": \"2020-04-11\", \"region\": \"O\\u2019Higgins\", \"casos\": 45, \"codigo region\": 7}, {\"date\": \"2020-04-11\", \"region\": \"Maule\", \"casos\": 134, \"codigo region\": 8}, {\"date\": \"2020-04-11\", \"region\": \"\\u00d1uble\", \"casos\": 606, \"codigo region\": 9}, {\"date\": \"2020-04-11\", \"region\": \"Biob\\u00edo\", \"casos\": 490, \"codigo region\": 10}, {\"date\": \"2020-04-11\", \"region\": \"Araucan\\u00eda\", \"casos\": 739, \"codigo region\": 11}, {\"date\": \"2020-04-11\", \"region\": \"Los R\\u00edos\", \"casos\": 130, \"codigo region\": 12}, {\"date\": \"2020-04-11\", \"region\": \"Los Lagos\", \"casos\": 364, \"codigo region\": 13}, {\"date\": \"2020-04-11\", \"region\": \"Ays\\u00e9n\", \"casos\": 7, \"codigo region\": 14}, {\"date\": \"2020-04-11\", \"region\": \"Magallanes\", \"casos\": 377, \"codigo region\": 15}, {\"date\": \"2020-04-12\", \"region\": \"Arica y Parinacota\", \"casos\": 115, \"codigo region\": 0}, {\"date\": \"2020-04-12\", \"region\": \"Tarapac\\u00e1\", \"casos\": 46, \"codigo region\": 1}, {\"date\": \"2020-04-12\", \"region\": \"Antofagasta\", \"casos\": 138, \"codigo region\": 2}, {\"date\": \"2020-04-12\", \"region\": \"Atacama\", \"casos\": 13, \"codigo region\": 3}, {\"date\": \"2020-04-12\", \"region\": \"Coquimbo\", \"casos\": 66, \"codigo region\": 4}, {\"date\": \"2020-04-12\", \"region\": \"Valpara\\u00edso\", \"casos\": 254, \"codigo region\": 5}, {\"date\": \"2020-04-12\", \"region\": \"Metropolitana\", \"casos\": 3599, \"codigo region\": 6}, {\"date\": \"2020-04-12\", \"region\": \"O\\u2019Higgins\", \"casos\": 46, \"codigo region\": 7}, {\"date\": \"2020-04-12\", \"region\": \"Maule\", \"casos\": 138, \"codigo region\": 8}, {\"date\": \"2020-04-12\", \"region\": \"\\u00d1uble\", \"casos\": 613, \"codigo region\": 9}, {\"date\": \"2020-04-12\", \"region\": \"Biob\\u00edo\", \"casos\": 500, \"codigo region\": 10}, {\"date\": \"2020-04-12\", \"region\": \"Araucan\\u00eda\", \"casos\": 775, \"codigo region\": 11}, {\"date\": \"2020-04-12\", \"region\": \"Los R\\u00edos\", \"casos\": 135, \"codigo region\": 12}, {\"date\": \"2020-04-12\", \"region\": \"Los Lagos\", \"casos\": 372, \"codigo region\": 13}, {\"date\": \"2020-04-12\", \"region\": \"Ays\\u00e9n\", \"casos\": 7, \"codigo region\": 14}, {\"date\": \"2020-04-12\", \"region\": \"Magallanes\", \"casos\": 396, \"codigo region\": 15}, {\"date\": \"2020-04-13\", \"region\": \"Arica y Parinacota\", \"casos\": 115, \"codigo region\": 0}, {\"date\": \"2020-04-13\", \"region\": \"Tarapac\\u00e1\", \"casos\": 52, \"codigo region\": 1}, {\"date\": \"2020-04-13\", \"region\": \"Antofagasta\", \"casos\": 149, \"codigo region\": 2}, {\"date\": \"2020-04-13\", \"region\": \"Atacama\", \"casos\": 13, \"codigo region\": 3}, {\"date\": \"2020-04-13\", \"region\": \"Coquimbo\", \"casos\": 66, \"codigo region\": 4}, {\"date\": \"2020-04-13\", \"region\": \"Valpara\\u00edso\", \"casos\": 273, \"codigo region\": 5}, {\"date\": \"2020-04-13\", \"region\": \"Metropolitana\", \"casos\": 3803, \"codigo region\": 6}, {\"date\": \"2020-04-13\", \"region\": \"O\\u2019Higgins\", \"casos\": 48, \"codigo region\": 7}, {\"date\": \"2020-04-13\", \"region\": \"Maule\", \"casos\": 141, \"codigo region\": 8}, {\"date\": \"2020-04-13\", \"region\": \"\\u00d1uble\", \"casos\": 618, \"codigo region\": 9}, {\"date\": \"2020-04-13\", \"region\": \"Biob\\u00edo\", \"casos\": 512, \"codigo region\": 10}, {\"date\": \"2020-04-13\", \"region\": \"Araucan\\u00eda\", \"casos\": 795, \"codigo region\": 11}, {\"date\": \"2020-04-13\", \"region\": \"Los R\\u00edos\", \"casos\": 138, \"codigo region\": 12}, {\"date\": \"2020-04-13\", \"region\": \"Los Lagos\", \"casos\": 380, \"codigo region\": 13}, {\"date\": \"2020-04-13\", \"region\": \"Ays\\u00e9n\", \"casos\": 7, \"codigo region\": 14}, {\"date\": \"2020-04-13\", \"region\": \"Magallanes\", \"casos\": 415, \"codigo region\": 15}, {\"date\": \"2020-04-14\", \"region\": \"Arica y Parinacota\", \"casos\": 120, \"codigo region\": 0}, {\"date\": \"2020-04-14\", \"region\": \"Tarapac\\u00e1\", \"casos\": 62, \"codigo region\": 1}, {\"date\": \"2020-04-14\", \"region\": \"Antofagasta\", \"casos\": 155, \"codigo region\": 2}, {\"date\": \"2020-04-14\", \"region\": \"Atacama\", \"casos\": 13, \"codigo region\": 3}, {\"date\": \"2020-04-14\", \"region\": \"Coquimbo\", \"casos\": 66, \"codigo region\": 4}, {\"date\": \"2020-04-14\", \"region\": \"Valpara\\u00edso\", \"casos\": 285, \"codigo region\": 5}, {\"date\": \"2020-04-14\", \"region\": \"Metropolitana\", \"casos\": 4086, \"codigo region\": 6}, {\"date\": \"2020-04-14\", \"region\": \"O\\u2019Higgins\", \"casos\": 53, \"codigo region\": 7}, {\"date\": \"2020-04-14\", \"region\": \"Maule\", \"casos\": 142, \"codigo region\": 8}, {\"date\": \"2020-04-14\", \"region\": \"\\u00d1uble\", \"casos\": 622, \"codigo region\": 9}, {\"date\": \"2020-04-14\", \"region\": \"Biob\\u00edo\", \"casos\": 528, \"codigo region\": 10}, {\"date\": \"2020-04-14\", \"region\": \"Araucan\\u00eda\", \"casos\": 816, \"codigo region\": 11}, {\"date\": \"2020-04-14\", \"region\": \"Los R\\u00edos\", \"casos\": 148, \"codigo region\": 12}, {\"date\": \"2020-04-14\", \"region\": \"Los Lagos\", \"casos\": 385, \"codigo region\": 13}, {\"date\": \"2020-04-14\", \"region\": \"Ays\\u00e9n\", \"casos\": 7, \"codigo region\": 14}, {\"date\": \"2020-04-14\", \"region\": \"Magallanes\", \"casos\": 429, \"codigo region\": 15}, {\"date\": \"2020-04-15\", \"region\": \"Arica y Parinacota\", \"casos\": 124, \"codigo region\": 0}, {\"date\": \"2020-04-15\", \"region\": \"Tarapac\\u00e1\", \"casos\": 62, \"codigo region\": 1}, {\"date\": \"2020-04-15\", \"region\": \"Antofagasta\", \"casos\": 176, \"codigo region\": 2}, {\"date\": \"2020-04-15\", \"region\": \"Atacama\", \"casos\": 13, \"codigo region\": 3}, {\"date\": \"2020-04-15\", \"region\": \"Coquimbo\", \"casos\": 66, \"codigo region\": 4}, {\"date\": \"2020-04-15\", \"region\": \"Valpara\\u00edso\", \"casos\": 299, \"codigo region\": 5}, {\"date\": \"2020-04-15\", \"region\": \"Metropolitana\", \"casos\": 4334, \"codigo region\": 6}, {\"date\": \"2020-04-15\", \"region\": \"O\\u2019Higgins\", \"casos\": 54, \"codigo region\": 7}, {\"date\": \"2020-04-15\", \"region\": \"Maule\", \"casos\": 152, \"codigo region\": 8}, {\"date\": \"2020-04-15\", \"region\": \"\\u00d1uble\", \"casos\": 634, \"codigo region\": 9}, {\"date\": \"2020-04-15\", \"region\": \"Biob\\u00edo\", \"casos\": 542, \"codigo region\": 10}, {\"date\": \"2020-04-15\", \"region\": \"Araucan\\u00eda\", \"casos\": 826, \"codigo region\": 11}, {\"date\": \"2020-04-15\", \"region\": \"Los R\\u00edos\", \"casos\": 150, \"codigo region\": 12}, {\"date\": \"2020-04-15\", \"region\": \"Los Lagos\", \"casos\": 390, \"codigo region\": 13}, {\"date\": \"2020-04-15\", \"region\": \"Ays\\u00e9n\", \"casos\": 7, \"codigo region\": 14}, {\"date\": \"2020-04-15\", \"region\": \"Magallanes\", \"casos\": 444, \"codigo region\": 15}, {\"date\": \"2020-04-16\", \"region\": \"Arica y Parinacota\", \"casos\": 129, \"codigo region\": 0}, {\"date\": \"2020-04-16\", \"region\": \"Tarapac\\u00e1\", \"casos\": 66, \"codigo region\": 1}, {\"date\": \"2020-04-16\", \"region\": \"Antofagasta\", \"casos\": 192, \"codigo region\": 2}, {\"date\": \"2020-04-16\", \"region\": \"Atacama\", \"casos\": 13, \"codigo region\": 3}, {\"date\": \"2020-04-16\", \"region\": \"Coquimbo\", \"casos\": 68, \"codigo region\": 4}, {\"date\": \"2020-04-16\", \"region\": \"Valpara\\u00edso\", \"casos\": 330, \"codigo region\": 5}, {\"date\": \"2020-04-16\", \"region\": \"Metropolitana\", \"casos\": 4682, \"codigo region\": 6}, {\"date\": \"2020-04-16\", \"region\": \"O\\u2019Higgins\", \"casos\": 54, \"codigo region\": 7}, {\"date\": \"2020-04-16\", \"region\": \"Maule\", \"casos\": 167, \"codigo region\": 8}, {\"date\": \"2020-04-16\", \"region\": \"\\u00d1uble\", \"casos\": 639, \"codigo region\": 9}, {\"date\": \"2020-04-16\", \"region\": \"Biob\\u00edo\", \"casos\": 559, \"codigo region\": 10}, {\"date\": \"2020-04-16\", \"region\": \"Araucan\\u00eda\", \"casos\": 882, \"codigo region\": 11}, {\"date\": \"2020-04-16\", \"region\": \"Los R\\u00edos\", \"casos\": 153, \"codigo region\": 12}, {\"date\": \"2020-04-16\", \"region\": \"Los Lagos\", \"casos\": 399, \"codigo region\": 13}, {\"date\": \"2020-04-16\", \"region\": \"Ays\\u00e9n\", \"casos\": 7, \"codigo region\": 14}, {\"date\": \"2020-04-16\", \"region\": \"Magallanes\", \"casos\": 467, \"codigo region\": 15}, {\"date\": \"2020-04-17\", \"region\": \"Arica y Parinacota\", \"casos\": 134, \"codigo region\": 0}, {\"date\": \"2020-04-17\", \"region\": \"Tarapac\\u00e1\", \"casos\": 73, \"codigo region\": 1}, {\"date\": \"2020-04-17\", \"region\": \"Antofagasta\", \"casos\": 211, \"codigo region\": 2}, {\"date\": \"2020-04-17\", \"region\": \"Atacama\", \"casos\": 13, \"codigo region\": 3}, {\"date\": \"2020-04-17\", \"region\": \"Coquimbo\", \"casos\": 68, \"codigo region\": 4}, {\"date\": \"2020-04-17\", \"region\": \"Valpara\\u00edso\", \"casos\": 345, \"codigo region\": 5}, {\"date\": \"2020-04-17\", \"region\": \"Metropolitana\", \"casos\": 4915, \"codigo region\": 6}, {\"date\": \"2020-04-17\", \"region\": \"O\\u2019Higgins\", \"casos\": 55, \"codigo region\": 7}, {\"date\": \"2020-04-17\", \"region\": \"Maule\", \"casos\": 223, \"codigo region\": 8}, {\"date\": \"2020-04-17\", \"region\": \"\\u00d1uble\", \"casos\": 656, \"codigo region\": 9}, {\"date\": \"2020-04-17\", \"region\": \"Biob\\u00edo\", \"casos\": 578, \"codigo region\": 10}, {\"date\": \"2020-04-17\", \"region\": \"Araucan\\u00eda\", \"casos\": 907, \"codigo region\": 11}, {\"date\": \"2020-04-17\", \"region\": \"Los R\\u00edos\", \"casos\": 154, \"codigo region\": 12}, {\"date\": \"2020-04-17\", \"region\": \"Los Lagos\", \"casos\": 412, \"codigo region\": 13}, {\"date\": \"2020-04-17\", \"region\": \"Ays\\u00e9n\", \"casos\": 7, \"codigo region\": 14}, {\"date\": \"2020-04-17\", \"region\": \"Magallanes\", \"casos\": 501, \"codigo region\": 15}, {\"date\": \"2020-04-18\", \"region\": \"Arica y Parinacota\", \"casos\": 142, \"codigo region\": 0}, {\"date\": \"2020-04-18\", \"region\": \"Tarapac\\u00e1\", \"casos\": 81, \"codigo region\": 1}, {\"date\": \"2020-04-18\", \"region\": \"Antofagasta\", \"casos\": 226, \"codigo region\": 2}, {\"date\": \"2020-04-18\", \"region\": \"Atacama\", \"casos\": 13, \"codigo region\": 3}, {\"date\": \"2020-04-18\", \"region\": \"Coquimbo\", \"casos\": 68, \"codigo region\": 4}, {\"date\": \"2020-04-18\", \"region\": \"Valpara\\u00edso\", \"casos\": 359, \"codigo region\": 5}, {\"date\": \"2020-04-18\", \"region\": \"Metropolitana\", \"casos\": 5192, \"codigo region\": 6}, {\"date\": \"2020-04-18\", \"region\": \"O\\u2019Higgins\", \"casos\": 55, \"codigo region\": 7}, {\"date\": \"2020-04-18\", \"region\": \"Maule\", \"casos\": 276, \"codigo region\": 8}, {\"date\": \"2020-04-18\", \"region\": \"\\u00d1uble\", \"casos\": 667, \"codigo region\": 9}, {\"date\": \"2020-04-18\", \"region\": \"Biob\\u00edo\", \"casos\": 606, \"codigo region\": 10}, {\"date\": \"2020-04-18\", \"region\": \"Araucan\\u00eda\", \"casos\": 944, \"codigo region\": 11}, {\"date\": \"2020-04-18\", \"region\": \"Los R\\u00edos\", \"casos\": 156, \"codigo region\": 12}, {\"date\": \"2020-04-18\", \"region\": \"Los Lagos\", \"casos\": 416, \"codigo region\": 13}, {\"date\": \"2020-04-18\", \"region\": \"Ays\\u00e9n\", \"casos\": 7, \"codigo region\": 14}, {\"date\": \"2020-04-18\", \"region\": \"Magallanes\", \"casos\": 522, \"codigo region\": 15}, {\"date\": \"2020-04-19\", \"region\": \"Arica y Parinacota\", \"casos\": 145, \"codigo region\": 0}, {\"date\": \"2020-04-19\", \"region\": \"Tarapac\\u00e1\", \"casos\": 90, \"codigo region\": 1}, {\"date\": \"2020-04-19\", \"region\": \"Antofagasta\", \"casos\": 249, \"codigo region\": 2}, {\"date\": \"2020-04-19\", \"region\": \"Atacama\", \"casos\": 13, \"codigo region\": 3}, {\"date\": \"2020-04-19\", \"region\": \"Coquimbo\", \"casos\": 68, \"codigo region\": 4}, {\"date\": \"2020-04-19\", \"region\": \"Valpara\\u00edso\", \"casos\": 381, \"codigo region\": 5}, {\"date\": \"2020-04-19\", \"region\": \"Metropolitana\", \"casos\": 5381, \"codigo region\": 6}, {\"date\": \"2020-04-19\", \"region\": \"O\\u2019Higgins\", \"casos\": 55, \"codigo region\": 7}, {\"date\": \"2020-04-19\", \"region\": \"Maule\", \"casos\": 302, \"codigo region\": 8}, {\"date\": \"2020-04-19\", \"region\": \"\\u00d1uble\", \"casos\": 678, \"codigo region\": 9}, {\"date\": \"2020-04-19\", \"region\": \"Biob\\u00edo\", \"casos\": 616, \"codigo region\": 10}, {\"date\": \"2020-04-19\", \"region\": \"Araucan\\u00eda\", \"casos\": 972, \"codigo region\": 11}, {\"date\": \"2020-04-19\", \"region\": \"Los R\\u00edos\", \"casos\": 157, \"codigo region\": 12}, {\"date\": \"2020-04-19\", \"region\": \"Los Lagos\", \"casos\": 421, \"codigo region\": 13}, {\"date\": \"2020-04-19\", \"region\": \"Ays\\u00e9n\", \"casos\": 7, \"codigo region\": 14}, {\"date\": \"2020-04-19\", \"region\": \"Magallanes\", \"casos\": 553, \"codigo region\": 15}, {\"date\": \"2020-04-20\", \"region\": \"Arica y Parinacota\", \"casos\": 161, \"codigo region\": 0}, {\"date\": \"2020-04-20\", \"region\": \"Tarapac\\u00e1\", \"casos\": 93, \"codigo region\": 1}, {\"date\": \"2020-04-20\", \"region\": \"Antofagasta\", \"casos\": 263, \"codigo region\": 2}, {\"date\": \"2020-04-20\", \"region\": \"Atacama\", \"casos\": 13, \"codigo region\": 3}, {\"date\": \"2020-04-20\", \"region\": \"Coquimbo\", \"casos\": 69, \"codigo region\": 4}, {\"date\": \"2020-04-20\", \"region\": \"Valpara\\u00edso\", \"casos\": 388, \"codigo region\": 5}, {\"date\": \"2020-04-20\", \"region\": \"Metropolitana\", \"casos\": 5643, \"codigo region\": 6}, {\"date\": \"2020-04-20\", \"region\": \"O\\u2019Higgins\", \"casos\": 56, \"codigo region\": 7}, {\"date\": \"2020-04-20\", \"region\": \"Maule\", \"casos\": 304, \"codigo region\": 8}, {\"date\": \"2020-04-20\", \"region\": \"\\u00d1uble\", \"casos\": 687, \"codigo region\": 9}, {\"date\": \"2020-04-20\", \"region\": \"Biob\\u00edo\", \"casos\": 626, \"codigo region\": 10}, {\"date\": \"2020-04-20\", \"region\": \"Araucan\\u00eda\", \"casos\": 1045, \"codigo region\": 11}, {\"date\": \"2020-04-20\", \"region\": \"Los R\\u00edos\", \"casos\": 162, \"codigo region\": 12}, {\"date\": \"2020-04-20\", \"region\": \"Los Lagos\", \"casos\": 424, \"codigo region\": 13}, {\"date\": \"2020-04-20\", \"region\": \"Ays\\u00e9n\", \"casos\": 7, \"codigo region\": 14}, {\"date\": \"2020-04-20\", \"region\": \"Magallanes\", \"casos\": 566, \"codigo region\": 15}, {\"date\": \"2020-04-21\", \"region\": \"Arica y Parinacota\", \"casos\": 170, \"codigo region\": 0}, {\"date\": \"2020-04-21\", \"region\": \"Tarapac\\u00e1\", \"casos\": 104, \"codigo region\": 1}, {\"date\": \"2020-04-21\", \"region\": \"Antofagasta\", \"casos\": 291, \"codigo region\": 2}, {\"date\": \"2020-04-21\", \"region\": \"Atacama\", \"casos\": 13, \"codigo region\": 3}, {\"date\": \"2020-04-21\", \"region\": \"Coquimbo\", \"casos\": 69, \"codigo region\": 4}, {\"date\": \"2020-04-21\", \"region\": \"Valpara\\u00edso\", \"casos\": 403, \"codigo region\": 5}, {\"date\": \"2020-04-21\", \"region\": \"Metropolitana\", \"casos\": 5788, \"codigo region\": 6}, {\"date\": \"2020-04-21\", \"region\": \"O\\u2019Higgins\", \"casos\": 57, \"codigo region\": 7}, {\"date\": \"2020-04-21\", \"region\": \"Maule\", \"casos\": 316, \"codigo region\": 8}, {\"date\": \"2020-04-21\", \"region\": \"\\u00d1uble\", \"casos\": 694, \"codigo region\": 9}, {\"date\": \"2020-04-21\", \"region\": \"Biob\\u00edo\", \"casos\": 636, \"codigo region\": 10}, {\"date\": \"2020-04-21\", \"region\": \"Araucan\\u00eda\", \"casos\": 1092, \"codigo region\": 11}, {\"date\": \"2020-04-21\", \"region\": \"Los R\\u00edos\", \"casos\": 167, \"codigo region\": 12}, {\"date\": \"2020-04-21\", \"region\": \"Los Lagos\", \"casos\": 432, \"codigo region\": 13}, {\"date\": \"2020-04-21\", \"region\": \"Ays\\u00e9n\", \"casos\": 7, \"codigo region\": 14}, {\"date\": \"2020-04-21\", \"region\": \"Magallanes\", \"casos\": 593, \"codigo region\": 15}, {\"date\": \"2020-04-22\", \"region\": \"Arica y Parinacota\", \"casos\": 180, \"codigo region\": 0}, {\"date\": \"2020-04-22\", \"region\": \"Tarapac\\u00e1\", \"casos\": 114, \"codigo region\": 1}, {\"date\": \"2020-04-22\", \"region\": \"Antofagasta\", \"casos\": 326, \"codigo region\": 2}, {\"date\": \"2020-04-22\", \"region\": \"Atacama\", \"casos\": 13, \"codigo region\": 3}, {\"date\": \"2020-04-22\", \"region\": \"Coquimbo\", \"casos\": 70, \"codigo region\": 4}, {\"date\": \"2020-04-22\", \"region\": \"Valpara\\u00edso\", \"casos\": 421, \"codigo region\": 5}, {\"date\": \"2020-04-22\", \"region\": \"Metropolitana\", \"casos\": 6083, \"codigo region\": 6}, {\"date\": \"2020-04-22\", \"region\": \"O\\u2019Higgins\", \"casos\": 59, \"codigo region\": 7}, {\"date\": \"2020-04-22\", \"region\": \"Maule\", \"casos\": 328, \"codigo region\": 8}, {\"date\": \"2020-04-22\", \"region\": \"\\u00d1uble\", \"casos\": 703, \"codigo region\": 9}, {\"date\": \"2020-04-22\", \"region\": \"Biob\\u00edo\", \"casos\": 658, \"codigo region\": 10}, {\"date\": \"2020-04-22\", \"region\": \"Araucan\\u00eda\", \"casos\": 1113, \"codigo region\": 11}, {\"date\": \"2020-04-22\", \"region\": \"Los R\\u00edos\", \"casos\": 171, \"codigo region\": 12}, {\"date\": \"2020-04-22\", \"region\": \"Los Lagos\", \"casos\": 445, \"codigo region\": 13}, {\"date\": \"2020-04-22\", \"region\": \"Ays\\u00e9n\", \"casos\": 7, \"codigo region\": 14}, {\"date\": \"2020-04-22\", \"region\": \"Magallanes\", \"casos\": 605, \"codigo region\": 15}, {\"date\": \"2020-04-23\", \"region\": \"Arica y Parinacota\", \"casos\": 210, \"codigo region\": 0}, {\"date\": \"2020-04-23\", \"region\": \"Tarapac\\u00e1\", \"casos\": 128, \"codigo region\": 1}, {\"date\": \"2020-04-23\", \"region\": \"Antofagasta\", \"casos\": 340, \"codigo region\": 2}, {\"date\": \"2020-04-23\", \"region\": \"Atacama\", \"casos\": 18, \"codigo region\": 3}, {\"date\": \"2020-04-23\", \"region\": \"Coquimbo\", \"casos\": 70, \"codigo region\": 4}, {\"date\": \"2020-04-23\", \"region\": \"Valpara\\u00edso\", \"casos\": 429, \"codigo region\": 5}, {\"date\": \"2020-04-23\", \"region\": \"Metropolitana\", \"casos\": 6434, \"codigo region\": 6}, {\"date\": \"2020-04-23\", \"region\": \"O\\u2019Higgins\", \"casos\": 76, \"codigo region\": 7}, {\"date\": \"2020-04-23\", \"region\": \"Maule\", \"casos\": 333, \"codigo region\": 8}, {\"date\": \"2020-04-23\", \"region\": \"\\u00d1uble\", \"casos\": 708, \"codigo region\": 9}, {\"date\": \"2020-04-23\", \"region\": \"Biob\\u00edo\", \"casos\": 675, \"codigo region\": 10}, {\"date\": \"2020-04-23\", \"region\": \"Araucan\\u00eda\", \"casos\": 1142, \"codigo region\": 11}, {\"date\": \"2020-04-23\", \"region\": \"Los R\\u00edos\", \"casos\": 173, \"codigo region\": 12}, {\"date\": \"2020-04-23\", \"region\": \"Los Lagos\", \"casos\": 454, \"codigo region\": 13}, {\"date\": \"2020-04-23\", \"region\": \"Ays\\u00e9n\", \"casos\": 7, \"codigo region\": 14}, {\"date\": \"2020-04-23\", \"region\": \"Magallanes\", \"casos\": 615, \"codigo region\": 15}, {\"date\": \"2020-04-24\", \"region\": \"Arica y Parinacota\", \"casos\": 239, \"codigo region\": 0}, {\"date\": \"2020-04-24\", \"region\": \"Tarapac\\u00e1\", \"casos\": 134, \"codigo region\": 1}, {\"date\": \"2020-04-24\", \"region\": \"Antofagasta\", \"casos\": 366, \"codigo region\": 2}, {\"date\": \"2020-04-24\", \"region\": \"Atacama\", \"casos\": 21, \"codigo region\": 3}, {\"date\": \"2020-04-24\", \"region\": \"Coquimbo\", \"casos\": 72, \"codigo region\": 4}, {\"date\": \"2020-04-24\", \"region\": \"Valpara\\u00edso\", \"casos\": 436, \"codigo region\": 5}, {\"date\": \"2020-04-24\", \"region\": \"Metropolitana\", \"casos\": 6761, \"codigo region\": 6}, {\"date\": \"2020-04-24\", \"region\": \"O\\u2019Higgins\", \"casos\": 81, \"codigo region\": 7}, {\"date\": \"2020-04-24\", \"region\": \"Maule\", \"casos\": 349, \"codigo region\": 8}, {\"date\": \"2020-04-24\", \"region\": \"\\u00d1uble\", \"casos\": 715, \"codigo region\": 9}, {\"date\": \"2020-04-24\", \"region\": \"Biob\\u00edo\", \"casos\": 683, \"codigo region\": 10}, {\"date\": \"2020-04-24\", \"region\": \"Araucan\\u00eda\", \"casos\": 1184, \"codigo region\": 11}, {\"date\": \"2020-04-24\", \"region\": \"Los R\\u00edos\", \"casos\": 174, \"codigo region\": 12}, {\"date\": \"2020-04-24\", \"region\": \"Los Lagos\", \"casos\": 460, \"codigo region\": 13}, {\"date\": \"2020-04-24\", \"region\": \"Ays\\u00e9n\", \"casos\": 7, \"codigo region\": 14}, {\"date\": \"2020-04-24\", \"region\": \"Magallanes\", \"casos\": 624, \"codigo region\": 15}, {\"date\": \"2020-04-25\", \"region\": \"Arica y Parinacota\", \"casos\": 245, \"codigo region\": 0}, {\"date\": \"2020-04-25\", \"region\": \"Tarapac\\u00e1\", \"casos\": 143, \"codigo region\": 1}, {\"date\": \"2020-04-25\", \"region\": \"Antofagasta\", \"casos\": 391, \"codigo region\": 2}, {\"date\": \"2020-04-25\", \"region\": \"Atacama\", \"casos\": 24, \"codigo region\": 3}, {\"date\": \"2020-04-25\", \"region\": \"Coquimbo\", \"casos\": 73, \"codigo region\": 4}, {\"date\": \"2020-04-25\", \"region\": \"Valpara\\u00edso\", \"casos\": 454, \"codigo region\": 5}, {\"date\": \"2020-04-25\", \"region\": \"Metropolitana\", \"casos\": 7165, \"codigo region\": 6}, {\"date\": \"2020-04-25\", \"region\": \"O\\u2019Higgins\", \"casos\": 85, \"codigo region\": 7}, {\"date\": \"2020-04-25\", \"region\": \"Maule\", \"casos\": 350, \"codigo region\": 8}, {\"date\": \"2020-04-25\", \"region\": \"\\u00d1uble\", \"casos\": 725, \"codigo region\": 9}, {\"date\": \"2020-04-25\", \"region\": \"Biob\\u00edo\", \"casos\": 696, \"codigo region\": 10}, {\"date\": \"2020-04-25\", \"region\": \"Araucan\\u00eda\", \"casos\": 1203, \"codigo region\": 11}, {\"date\": \"2020-04-25\", \"region\": \"Los R\\u00edos\", \"casos\": 177, \"codigo region\": 12}, {\"date\": \"2020-04-25\", \"region\": \"Los Lagos\", \"casos\": 465, \"codigo region\": 13}, {\"date\": \"2020-04-25\", \"region\": \"Ays\\u00e9n\", \"casos\": 7, \"codigo region\": 14}, {\"date\": \"2020-04-25\", \"region\": \"Magallanes\", \"casos\": 655, \"codigo region\": 15}, {\"date\": \"2020-04-26\", \"region\": \"Arica y Parinacota\", \"casos\": 252, \"codigo region\": 0}, {\"date\": \"2020-04-26\", \"region\": \"Tarapac\\u00e1\", \"casos\": 156, \"codigo region\": 1}, {\"date\": \"2020-04-26\", \"region\": \"Antofagasta\", \"casos\": 443, \"codigo region\": 2}, {\"date\": \"2020-04-26\", \"region\": \"Atacama\", \"casos\": 29, \"codigo region\": 3}, {\"date\": \"2020-04-26\", \"region\": \"Coquimbo\", \"casos\": 73, \"codigo region\": 4}, {\"date\": \"2020-04-26\", \"region\": \"Valpara\\u00edso\", \"casos\": 460, \"codigo region\": 5}, {\"date\": \"2020-04-26\", \"region\": \"Metropolitana\", \"casos\": 7496, \"codigo region\": 6}, {\"date\": \"2020-04-26\", \"region\": \"O\\u2019Higgins\", \"casos\": 92, \"codigo region\": 7}, {\"date\": \"2020-04-26\", \"region\": \"Maule\", \"casos\": 354, \"codigo region\": 8}, {\"date\": \"2020-04-26\", \"region\": \"\\u00d1uble\", \"casos\": 731, \"codigo region\": 9}, {\"date\": \"2020-04-26\", \"region\": \"Biob\\u00edo\", \"casos\": 703, \"codigo region\": 10}, {\"date\": \"2020-04-26\", \"region\": \"Araucan\\u00eda\", \"casos\": 1216, \"codigo region\": 11}, {\"date\": \"2020-04-26\", \"region\": \"Los R\\u00edos\", \"casos\": 178, \"codigo region\": 12}, {\"date\": \"2020-04-26\", \"region\": \"Los Lagos\", \"casos\": 473, \"codigo region\": 13}, {\"date\": \"2020-04-26\", \"region\": \"Ays\\u00e9n\", \"casos\": 7, \"codigo region\": 14}, {\"date\": \"2020-04-26\", \"region\": \"Magallanes\", \"casos\": 668, \"codigo region\": 15}, {\"date\": \"2020-04-27\", \"region\": \"Arica y Parinacota\", \"casos\": 265, \"codigo region\": 0}, {\"date\": \"2020-04-27\", \"region\": \"Tarapac\\u00e1\", \"casos\": 164, \"codigo region\": 1}, {\"date\": \"2020-04-27\", \"region\": \"Antofagasta\", \"casos\": 457, \"codigo region\": 2}, {\"date\": \"2020-04-27\", \"region\": \"Atacama\", \"casos\": 35, \"codigo region\": 3}, {\"date\": \"2020-04-27\", \"region\": \"Coquimbo\", \"casos\": 74, \"codigo region\": 4}, {\"date\": \"2020-04-27\", \"region\": \"Valpara\\u00edso\", \"casos\": 485, \"codigo region\": 5}, {\"date\": \"2020-04-27\", \"region\": \"Metropolitana\", \"casos\": 7858, \"codigo region\": 6}, {\"date\": \"2020-04-27\", \"region\": \"O\\u2019Higgins\", \"casos\": 94, \"codigo region\": 7}, {\"date\": \"2020-04-27\", \"region\": \"Maule\", \"casos\": 363, \"codigo region\": 8}, {\"date\": \"2020-04-27\", \"region\": \"\\u00d1uble\", \"casos\": 741, \"codigo region\": 9}, {\"date\": \"2020-04-27\", \"region\": \"Biob\\u00edo\", \"casos\": 706, \"codigo region\": 10}, {\"date\": \"2020-04-27\", \"region\": \"Araucan\\u00eda\", \"casos\": 1236, \"codigo region\": 11}, {\"date\": \"2020-04-27\", \"region\": \"Los R\\u00edos\", \"casos\": 180, \"codigo region\": 12}, {\"date\": \"2020-04-27\", \"region\": \"Los Lagos\", \"casos\": 477, \"codigo region\": 13}, {\"date\": \"2020-04-27\", \"region\": \"Ays\\u00e9n\", \"casos\": 7, \"codigo region\": 14}, {\"date\": \"2020-04-27\", \"region\": \"Magallanes\", \"casos\": 671, \"codigo region\": 15}, {\"date\": \"2020-04-28\", \"region\": \"Arica y Parinacota\", \"casos\": 268, \"codigo region\": 0}, {\"date\": \"2020-04-28\", \"region\": \"Tarapac\\u00e1\", \"casos\": 169, \"codigo region\": 1}, {\"date\": \"2020-04-28\", \"region\": \"Antofagasta\", \"casos\": 481, \"codigo region\": 2}, {\"date\": \"2020-04-28\", \"region\": \"Atacama\", \"casos\": 35, \"codigo region\": 3}, {\"date\": \"2020-04-28\", \"region\": \"Coquimbo\", \"casos\": 74, \"codigo region\": 4}, {\"date\": \"2020-04-28\", \"region\": \"Valpara\\u00edso\", \"casos\": 493, \"codigo region\": 5}, {\"date\": \"2020-04-28\", \"region\": \"Metropolitana\", \"casos\": 8300, \"codigo region\": 6}, {\"date\": \"2020-04-28\", \"region\": \"O\\u2019Higgins\", \"casos\": 97, \"codigo region\": 7}, {\"date\": \"2020-04-28\", \"region\": \"Maule\", \"casos\": 384, \"codigo region\": 8}, {\"date\": \"2020-04-28\", \"region\": \"\\u00d1uble\", \"casos\": 747, \"codigo region\": 9}, {\"date\": \"2020-04-28\", \"region\": \"Biob\\u00edo\", \"casos\": 709, \"codigo region\": 10}, {\"date\": \"2020-04-28\", \"region\": \"Araucan\\u00eda\", \"casos\": 1251, \"codigo region\": 11}, {\"date\": \"2020-04-28\", \"region\": \"Los R\\u00edos\", \"casos\": 180, \"codigo region\": 12}, {\"date\": \"2020-04-28\", \"region\": \"Los Lagos\", \"casos\": 477, \"codigo region\": 13}, {\"date\": \"2020-04-28\", \"region\": \"Ays\\u00e9n\", \"casos\": 7, \"codigo region\": 14}, {\"date\": \"2020-04-28\", \"region\": \"Magallanes\", \"casos\": 693, \"codigo region\": 15}]}}, {\"mode\": \"vega-lite\"});\n",
       "</script>"
      ],
      "text/plain": [
       "alt.HConcatChart(...)"
      ]
     },
     "execution_count": 23,
     "metadata": {},
     "output_type": "execute_result"
    }
   ],
   "source": [
    "#hide_input\n",
    "input_dropdown = alt.binding_select(options=data['region'].unique())\n",
    "selection1 = alt.selection_single(fields=['region'], bind=input_dropdown, name=' ')\n",
    "selection2 = alt.selection_multi(fields=['region'], on='mouseover')\n",
    "color = alt.condition(selection1 | selection2,\n",
    "                    alt.Color('region:N', scale=alt.Scale(scheme='tableau20'), legend=None),\n",
    "                    alt.value('lightgray'))\n",
    "\n",
    "chart = alt.Chart(data).mark_bar().encode(\n",
    "    x=alt.X('date:O', axis=alt.Axis(title='Date')),\n",
    "    y=alt.Y('casos', axis=alt.Axis(title='Confirmed cases')),\n",
    "    color=color,\n",
    "    tooltip=['date', 'region', 'casos'],\n",
    "    order=alt.Order(\n",
    "    # Sort the segments of the bars by this field\n",
    "    'codigo region',\n",
    "    sort='descending'\n",
    "    )\n",
    ").properties(\n",
    "    title='COVID-19 in Chile: Total confirmed cases by región'\n",
    ").add_selection(\n",
    "    selection1, selection2\n",
    ").transform_filter(\n",
    "    selection1\n",
    ")\n",
    "\n",
    "legend = alt.Chart(data).mark_point().encode(\n",
    "    y=alt.Y('region:N', axis=alt.Axis(orient='right'), sort=regiones),\n",
    "    color=color\n",
    ").add_selection(\n",
    "    selection1, selection2\n",
    ")\n",
    "\n",
    "chart.properties(width=600, height=400) | legend"
   ]
  },
  {
   "cell_type": "markdown",
   "metadata": {
    "papermill": {
     "duration": 0.082735,
     "end_time": "2020-04-28T12:16:34.330018",
     "exception": false,
     "start_time": "2020-04-28T12:16:34.247283",
     "status": "completed"
    },
    "tags": []
   },
   "source": [
    "# Evolution of total confirmed deaths by region"
   ]
  },
  {
   "cell_type": "code",
   "execution_count": 24,
   "metadata": {
    "execution": {
     "iopub.execute_input": "2020-04-28T12:16:34.501390Z",
     "iopub.status.busy": "2020-04-28T12:16:34.500754Z",
     "iopub.status.idle": "2020-04-28T12:16:34.607378Z",
     "shell.execute_reply": "2020-04-28T12:16:34.606437Z"
    },
    "papermill": {
     "duration": 0.194542,
     "end_time": "2020-04-28T12:16:34.607572",
     "exception": false,
     "start_time": "2020-04-28T12:16:34.413030",
     "status": "completed"
    },
    "tags": []
   },
   "outputs": [],
   "source": [
    "#hide\n",
    "data = pd.DataFrame()\n",
    "data_raw = pd.read_csv(\n",
    "    \"https://raw.githubusercontent.com/MinCiencia/Datos-COVID19/master/output/producto4/2020-03-24-CasosConfirmados-totalRegional.csv\",\n",
    "    index_col='Region')\n",
    "data['2020-03-24'] = data_raw['Fallecidos']"
   ]
  },
  {
   "cell_type": "code",
   "execution_count": 25,
   "metadata": {
    "execution": {
     "iopub.execute_input": "2020-04-28T12:16:34.779550Z",
     "iopub.status.busy": "2020-04-28T12:16:34.778883Z",
     "iopub.status.idle": "2020-04-28T12:16:34.781076Z",
     "shell.execute_reply": "2020-04-28T12:16:34.780561Z"
    },
    "papermill": {
     "duration": 0.090551,
     "end_time": "2020-04-28T12:16:34.781187",
     "exception": false,
     "start_time": "2020-04-28T12:16:34.690636",
     "status": "completed"
    },
    "tags": []
   },
   "outputs": [],
   "source": [
    "#hide\n",
    "first_death_date = '2020-03-24'\n",
    "total_days = (pd.to_datetime(today)-pd.to_datetime(first_death_date)).days"
   ]
  },
  {
   "cell_type": "code",
   "execution_count": 26,
   "metadata": {
    "execution": {
     "iopub.execute_input": "2020-04-28T12:16:34.955763Z",
     "iopub.status.busy": "2020-04-28T12:16:34.955128Z",
     "iopub.status.idle": "2020-04-28T12:16:38.267570Z",
     "shell.execute_reply": "2020-04-28T12:16:38.266653Z"
    },
    "papermill": {
     "duration": 3.402871,
     "end_time": "2020-04-28T12:16:38.267760",
     "exception": false,
     "start_time": "2020-04-28T12:16:34.864889",
     "status": "completed"
    },
    "tags": []
   },
   "outputs": [],
   "source": [
    "#hide\n",
    "for i in np.arange(total_days+1):\n",
    "  date = (pd.to_datetime(first_death_date)+pd.DateOffset(i)).strftime('%Y-%m-%d')\n",
    "  s = \"https://raw.githubusercontent.com/MinCiencia/Datos-COVID19/master/output/producto4/\" + date + \"-CasosConfirmados-totalRegional.csv\"\n",
    "  data_by_date = pd.read_csv(s)\n",
    "  if 'Fallecidos' in data_by_date.columns:\n",
    "    data[date] = data_by_date[\"Fallecidos\"].values\n",
    "  elif 'Casos fallecidos' in data_by_date.columns:\n",
    "    data[date] = data_by_date[\"Casos fallecidos\"].values\n",
    "  else:\n",
    "    data[date] = data_by_date[\" Casos fallecidos\"].values"
   ]
  },
  {
   "cell_type": "code",
   "execution_count": 27,
   "metadata": {
    "execution": {
     "iopub.execute_input": "2020-04-28T12:16:38.444360Z",
     "iopub.status.busy": "2020-04-28T12:16:38.443550Z",
     "iopub.status.idle": "2020-04-28T12:16:38.445281Z",
     "shell.execute_reply": "2020-04-28T12:16:38.445820Z"
    },
    "papermill": {
     "duration": 0.094073,
     "end_time": "2020-04-28T12:16:38.446041",
     "exception": false,
     "start_time": "2020-04-28T12:16:38.351968",
     "status": "completed"
    },
    "tags": []
   },
   "outputs": [],
   "source": [
    "#hide\n",
    "data = data.drop(\"Total\")"
   ]
  },
  {
   "cell_type": "code",
   "execution_count": 28,
   "metadata": {
    "execution": {
     "iopub.execute_input": "2020-04-28T12:16:38.623718Z",
     "iopub.status.busy": "2020-04-28T12:16:38.622846Z",
     "iopub.status.idle": "2020-04-28T12:16:38.957040Z",
     "shell.execute_reply": "2020-04-28T12:16:38.957547Z"
    },
    "papermill": {
     "duration": 0.427634,
     "end_time": "2020-04-28T12:16:38.957695",
     "exception": false,
     "start_time": "2020-04-28T12:16:38.530061",
     "status": "completed"
    },
    "tags": []
   },
   "outputs": [],
   "source": [
    "#hide\n",
    "new_data = pd.DataFrame()\n",
    "i = 0\n",
    "for date in data.keys():\n",
    "    for n, region in enumerate(data.index):\n",
    "        new_data[i] = date, region, data[date].loc[region], n\n",
    "        i += 1"
   ]
  },
  {
   "cell_type": "code",
   "execution_count": 29,
   "metadata": {
    "execution": {
     "iopub.execute_input": "2020-04-28T12:16:39.139159Z",
     "iopub.status.busy": "2020-04-28T12:16:39.138494Z",
     "iopub.status.idle": "2020-04-28T12:16:39.144086Z",
     "shell.execute_reply": "2020-04-28T12:16:39.143563Z"
    },
    "papermill": {
     "duration": 0.097874,
     "end_time": "2020-04-28T12:16:39.144196",
     "exception": false,
     "start_time": "2020-04-28T12:16:39.046322",
     "status": "completed"
    },
    "tags": []
   },
   "outputs": [],
   "source": [
    "#hide\n",
    "data = data.reset_index()\n",
    "regiones = data['Region'].values\n",
    "new_data = new_data.T\n",
    "new_data = new_data.rename(columns={0: \"date\", 1: \"region\", 2: \"fallecidos\", 3: \"codigo region\"})"
   ]
  },
  {
   "cell_type": "code",
   "execution_count": 30,
   "metadata": {
    "execution": {
     "iopub.execute_input": "2020-04-28T12:16:39.321415Z",
     "iopub.status.busy": "2020-04-28T12:16:39.320809Z",
     "iopub.status.idle": "2020-04-28T12:16:39.324018Z",
     "shell.execute_reply": "2020-04-28T12:16:39.323507Z"
    },
    "papermill": {
     "duration": 0.095476,
     "end_time": "2020-04-28T12:16:39.324127",
     "exception": false,
     "start_time": "2020-04-28T12:16:39.228651",
     "status": "completed"
    },
    "tags": []
   },
   "outputs": [],
   "source": [
    "#hide\n",
    "new_data[\"fallecidos\"] = new_data[\"fallecidos\"].astype(int)"
   ]
  },
  {
   "cell_type": "code",
   "execution_count": 31,
   "metadata": {
    "execution": {
     "iopub.execute_input": "2020-04-28T12:16:39.522109Z",
     "iopub.status.busy": "2020-04-28T12:16:39.506652Z",
     "iopub.status.idle": "2020-04-28T12:16:39.582068Z",
     "shell.execute_reply": "2020-04-28T12:16:39.582881Z"
    },
    "papermill": {
     "duration": 0.17631,
     "end_time": "2020-04-28T12:16:39.583116",
     "exception": false,
     "start_time": "2020-04-28T12:16:39.406806",
     "status": "completed"
    },
    "tags": []
   },
   "outputs": [
    {
     "data": {
      "text/html": [
       "\n",
       "<div id=\"altair-viz-25139a992e1e4b30ab8f5aa2c2211e2a\"></div>\n",
       "<script type=\"text/javascript\">\n",
       "  (function(spec, embedOpt){\n",
       "    let outputDiv = document.currentScript.previousElementSibling;\n",
       "    if (outputDiv.id !== \"altair-viz-25139a992e1e4b30ab8f5aa2c2211e2a\") {\n",
       "      outputDiv = document.getElementById(\"altair-viz-25139a992e1e4b30ab8f5aa2c2211e2a\");\n",
       "    }\n",
       "    const paths = {\n",
       "      \"vega\": \"https://cdn.jsdelivr.net/npm//vega@5?noext\",\n",
       "      \"vega-lib\": \"https://cdn.jsdelivr.net/npm//vega-lib?noext\",\n",
       "      \"vega-lite\": \"https://cdn.jsdelivr.net/npm//vega-lite@4.8.1?noext\",\n",
       "      \"vega-embed\": \"https://cdn.jsdelivr.net/npm//vega-embed@6?noext\",\n",
       "    };\n",
       "\n",
       "    function loadScript(lib) {\n",
       "      return new Promise(function(resolve, reject) {\n",
       "        var s = document.createElement('script');\n",
       "        s.src = paths[lib];\n",
       "        s.async = true;\n",
       "        s.onload = () => resolve(paths[lib]);\n",
       "        s.onerror = () => reject(`Error loading script: ${paths[lib]}`);\n",
       "        document.getElementsByTagName(\"head\")[0].appendChild(s);\n",
       "      });\n",
       "    }\n",
       "\n",
       "    function showError(err) {\n",
       "      outputDiv.innerHTML = `<div class=\"error\" style=\"color:red;\">${err}</div>`;\n",
       "      throw err;\n",
       "    }\n",
       "\n",
       "    function displayChart(vegaEmbed) {\n",
       "      vegaEmbed(outputDiv, spec, embedOpt)\n",
       "        .catch(err => showError(`Javascript Error: ${err.message}<br>This usually means there's a typo in your chart specification. See the javascript console for the full traceback.`));\n",
       "    }\n",
       "\n",
       "    if(typeof define === \"function\" && define.amd) {\n",
       "      requirejs.config({paths});\n",
       "      require([\"vega-embed\"], displayChart, err => showError(`Error loading script: ${err.message}`));\n",
       "    } else if (typeof vegaEmbed === \"function\") {\n",
       "      displayChart(vegaEmbed);\n",
       "    } else {\n",
       "      loadScript(\"vega\")\n",
       "        .then(() => loadScript(\"vega-lite\"))\n",
       "        .then(() => loadScript(\"vega-embed\"))\n",
       "        .catch(showError)\n",
       "        .then(() => displayChart(vegaEmbed));\n",
       "    }\n",
       "  })({\"config\": {\"view\": {\"continuousWidth\": 400, \"continuousHeight\": 300}}, \"hconcat\": [{\"mark\": \"bar\", \"encoding\": {\"color\": {\"condition\": {\"type\": \"nominal\", \"field\": \"region\", \"legend\": null, \"scale\": {\"scheme\": \"tableau20\"}, \"selection\": {\"or\": [\" \", \"selector002\"]}}, \"value\": \"lightgray\"}, \"order\": {\"type\": \"quantitative\", \"field\": \"codigo region\", \"sort\": \"descending\"}, \"tooltip\": [{\"type\": \"nominal\", \"field\": \"date\"}, {\"type\": \"nominal\", \"field\": \"region\"}, {\"type\": \"quantitative\", \"field\": \"fallecidos\"}], \"x\": {\"type\": \"ordinal\", \"axis\": {\"title\": \"Date\"}, \"field\": \"date\"}, \"y\": {\"type\": \"quantitative\", \"axis\": {\"title\": \"Confirmed deaths\"}, \"field\": \"fallecidos\"}}, \"height\": 400, \"selection\": {\" \": {\"type\": \"single\", \"fields\": [\"region\"], \"bind\": {\"input\": \"select\", \"options\": [\"Arica y Parinacota\", \"Tarapac\\u00e1\", \"Antofagasta\", \"Atacama\", \"Coquimbo\", \"Valpara\\u00edso\", \"Metropolitana\", \"O\\u2019Higgins\", \"Maule\", \"\\u00d1uble\", \"Biob\\u00edo\", \"Araucan\\u00eda\", \"Los R\\u00edos\", \"Los Lagos\", \"Ays\\u00e9n\", \"Magallanes\"]}}, \"selector002\": {\"type\": \"multi\", \"fields\": [\"region\"], \"on\": \"mouseover\"}}, \"title\": \"COVID-19 in Chile: Total confirmed deaths by region\", \"transform\": [{\"filter\": {\"selection\": \" \"}}], \"width\": 600}, {\"mark\": \"point\", \"encoding\": {\"color\": {\"condition\": {\"type\": \"nominal\", \"field\": \"region\", \"legend\": null, \"scale\": {\"scheme\": \"tableau20\"}, \"selection\": {\"or\": [\" \", \"selector002\"]}}, \"value\": \"lightgray\"}, \"y\": {\"type\": \"nominal\", \"axis\": {\"orient\": \"right\"}, \"field\": \"region\", \"sort\": [\"Arica y Parinacota\", \"Tarapac\\u00e1\", \"Antofagasta\", \"Atacama\", \"Coquimbo\", \"Valpara\\u00edso\", \"Metropolitana\", \"O\\u2019Higgins\", \"Maule\", \"\\u00d1uble\", \"Biob\\u00edo\", \"Araucan\\u00eda\", \"Los R\\u00edos\", \"Los Lagos\", \"Ays\\u00e9n\", \"Magallanes\"]}}, \"selection\": {\" \": {\"type\": \"single\", \"fields\": [\"region\"], \"bind\": {\"input\": \"select\", \"options\": [\"Arica y Parinacota\", \"Tarapac\\u00e1\", \"Antofagasta\", \"Atacama\", \"Coquimbo\", \"Valpara\\u00edso\", \"Metropolitana\", \"O\\u2019Higgins\", \"Maule\", \"\\u00d1uble\", \"Biob\\u00edo\", \"Araucan\\u00eda\", \"Los R\\u00edos\", \"Los Lagos\", \"Ays\\u00e9n\", \"Magallanes\"]}}, \"selector002\": {\"type\": \"multi\", \"fields\": [\"region\"], \"on\": \"mouseover\"}}}], \"data\": {\"name\": \"data-82e630d691888498cfe2166e6e77d3ff\"}, \"$schema\": \"https://vega.github.io/schema/vega-lite/v4.8.1.json\", \"datasets\": {\"data-82e630d691888498cfe2166e6e77d3ff\": [{\"date\": \"2020-03-24\", \"region\": \"Arica y Parinacota\", \"fallecidos\": 0, \"codigo region\": 0}, {\"date\": \"2020-03-24\", \"region\": \"Tarapac\\u00e1\", \"fallecidos\": 0, \"codigo region\": 1}, {\"date\": \"2020-03-24\", \"region\": \"Antofagasta\", \"fallecidos\": 0, \"codigo region\": 2}, {\"date\": \"2020-03-24\", \"region\": \"Atacama\", \"fallecidos\": 0, \"codigo region\": 3}, {\"date\": \"2020-03-24\", \"region\": \"Coquimbo\", \"fallecidos\": 0, \"codigo region\": 4}, {\"date\": \"2020-03-24\", \"region\": \"Valpara\\u00edso\", \"fallecidos\": 0, \"codigo region\": 5}, {\"date\": \"2020-03-24\", \"region\": \"Metropolitana\", \"fallecidos\": 2, \"codigo region\": 6}, {\"date\": \"2020-03-24\", \"region\": \"O\\u2019Higgins\", \"fallecidos\": 0, \"codigo region\": 7}, {\"date\": \"2020-03-24\", \"region\": \"Maule\", \"fallecidos\": 0, \"codigo region\": 8}, {\"date\": \"2020-03-24\", \"region\": \"\\u00d1uble\", \"fallecidos\": 0, \"codigo region\": 9}, {\"date\": \"2020-03-24\", \"region\": \"Biob\\u00edo\", \"fallecidos\": 0, \"codigo region\": 10}, {\"date\": \"2020-03-24\", \"region\": \"Araucan\\u00eda\", \"fallecidos\": 0, \"codigo region\": 11}, {\"date\": \"2020-03-24\", \"region\": \"Los R\\u00edos\", \"fallecidos\": 0, \"codigo region\": 12}, {\"date\": \"2020-03-24\", \"region\": \"Los Lagos\", \"fallecidos\": 0, \"codigo region\": 13}, {\"date\": \"2020-03-24\", \"region\": \"Ays\\u00e9n\", \"fallecidos\": 0, \"codigo region\": 14}, {\"date\": \"2020-03-24\", \"region\": \"Magallanes\", \"fallecidos\": 0, \"codigo region\": 15}, {\"date\": \"2020-03-25\", \"region\": \"Arica y Parinacota\", \"fallecidos\": 0, \"codigo region\": 0}, {\"date\": \"2020-03-25\", \"region\": \"Tarapac\\u00e1\", \"fallecidos\": 0, \"codigo region\": 1}, {\"date\": \"2020-03-25\", \"region\": \"Antofagasta\", \"fallecidos\": 0, \"codigo region\": 2}, {\"date\": \"2020-03-25\", \"region\": \"Atacama\", \"fallecidos\": 0, \"codigo region\": 3}, {\"date\": \"2020-03-25\", \"region\": \"Coquimbo\", \"fallecidos\": 0, \"codigo region\": 4}, {\"date\": \"2020-03-25\", \"region\": \"Valpara\\u00edso\", \"fallecidos\": 0, \"codigo region\": 5}, {\"date\": \"2020-03-25\", \"region\": \"Metropolitana\", \"fallecidos\": 2, \"codigo region\": 6}, {\"date\": \"2020-03-25\", \"region\": \"O\\u2019Higgins\", \"fallecidos\": 0, \"codigo region\": 7}, {\"date\": \"2020-03-25\", \"region\": \"Maule\", \"fallecidos\": 0, \"codigo region\": 8}, {\"date\": \"2020-03-25\", \"region\": \"\\u00d1uble\", \"fallecidos\": 0, \"codigo region\": 9}, {\"date\": \"2020-03-25\", \"region\": \"Biob\\u00edo\", \"fallecidos\": 1, \"codigo region\": 10}, {\"date\": \"2020-03-25\", \"region\": \"Araucan\\u00eda\", \"fallecidos\": 0, \"codigo region\": 11}, {\"date\": \"2020-03-25\", \"region\": \"Los R\\u00edos\", \"fallecidos\": 0, \"codigo region\": 12}, {\"date\": \"2020-03-25\", \"region\": \"Los Lagos\", \"fallecidos\": 0, \"codigo region\": 13}, {\"date\": \"2020-03-25\", \"region\": \"Ays\\u00e9n\", \"fallecidos\": 0, \"codigo region\": 14}, {\"date\": \"2020-03-25\", \"region\": \"Magallanes\", \"fallecidos\": 0, \"codigo region\": 15}, {\"date\": \"2020-03-26\", \"region\": \"Arica y Parinacota\", \"fallecidos\": 0, \"codigo region\": 0}, {\"date\": \"2020-03-26\", \"region\": \"Tarapac\\u00e1\", \"fallecidos\": 0, \"codigo region\": 1}, {\"date\": \"2020-03-26\", \"region\": \"Antofagasta\", \"fallecidos\": 0, \"codigo region\": 2}, {\"date\": \"2020-03-26\", \"region\": \"Atacama\", \"fallecidos\": 0, \"codigo region\": 3}, {\"date\": \"2020-03-26\", \"region\": \"Coquimbo\", \"fallecidos\": 0, \"codigo region\": 4}, {\"date\": \"2020-03-26\", \"region\": \"Valpara\\u00edso\", \"fallecidos\": 0, \"codigo region\": 5}, {\"date\": \"2020-03-26\", \"region\": \"Metropolitana\", \"fallecidos\": 3, \"codigo region\": 6}, {\"date\": \"2020-03-26\", \"region\": \"O\\u2019Higgins\", \"fallecidos\": 0, \"codigo region\": 7}, {\"date\": \"2020-03-26\", \"region\": \"Maule\", \"fallecidos\": 0, \"codigo region\": 8}, {\"date\": \"2020-03-26\", \"region\": \"\\u00d1uble\", \"fallecidos\": 0, \"codigo region\": 9}, {\"date\": \"2020-03-26\", \"region\": \"Biob\\u00edo\", \"fallecidos\": 1, \"codigo region\": 10}, {\"date\": \"2020-03-26\", \"region\": \"Araucan\\u00eda\", \"fallecidos\": 0, \"codigo region\": 11}, {\"date\": \"2020-03-26\", \"region\": \"Los R\\u00edos\", \"fallecidos\": 0, \"codigo region\": 12}, {\"date\": \"2020-03-26\", \"region\": \"Los Lagos\", \"fallecidos\": 0, \"codigo region\": 13}, {\"date\": \"2020-03-26\", \"region\": \"Ays\\u00e9n\", \"fallecidos\": 0, \"codigo region\": 14}, {\"date\": \"2020-03-26\", \"region\": \"Magallanes\", \"fallecidos\": 0, \"codigo region\": 15}, {\"date\": \"2020-03-27\", \"region\": \"Arica y Parinacota\", \"fallecidos\": 0, \"codigo region\": 0}, {\"date\": \"2020-03-27\", \"region\": \"Tarapac\\u00e1\", \"fallecidos\": 0, \"codigo region\": 1}, {\"date\": \"2020-03-27\", \"region\": \"Antofagasta\", \"fallecidos\": 0, \"codigo region\": 2}, {\"date\": \"2020-03-27\", \"region\": \"Atacama\", \"fallecidos\": 0, \"codigo region\": 3}, {\"date\": \"2020-03-27\", \"region\": \"Coquimbo\", \"fallecidos\": 0, \"codigo region\": 4}, {\"date\": \"2020-03-27\", \"region\": \"Valpara\\u00edso\", \"fallecidos\": 0, \"codigo region\": 5}, {\"date\": \"2020-03-27\", \"region\": \"Metropolitana\", \"fallecidos\": 3, \"codigo region\": 6}, {\"date\": \"2020-03-27\", \"region\": \"O\\u2019Higgins\", \"fallecidos\": 0, \"codigo region\": 7}, {\"date\": \"2020-03-27\", \"region\": \"Maule\", \"fallecidos\": 0, \"codigo region\": 8}, {\"date\": \"2020-03-27\", \"region\": \"\\u00d1uble\", \"fallecidos\": 0, \"codigo region\": 9}, {\"date\": \"2020-03-27\", \"region\": \"Biob\\u00edo\", \"fallecidos\": 2, \"codigo region\": 10}, {\"date\": \"2020-03-27\", \"region\": \"Araucan\\u00eda\", \"fallecidos\": 0, \"codigo region\": 11}, {\"date\": \"2020-03-27\", \"region\": \"Los R\\u00edos\", \"fallecidos\": 0, \"codigo region\": 12}, {\"date\": \"2020-03-27\", \"region\": \"Los Lagos\", \"fallecidos\": 0, \"codigo region\": 13}, {\"date\": \"2020-03-27\", \"region\": \"Ays\\u00e9n\", \"fallecidos\": 0, \"codigo region\": 14}, {\"date\": \"2020-03-27\", \"region\": \"Magallanes\", \"fallecidos\": 0, \"codigo region\": 15}, {\"date\": \"2020-03-28\", \"region\": \"Arica y Parinacota\", \"fallecidos\": 0, \"codigo region\": 0}, {\"date\": \"2020-03-28\", \"region\": \"Tarapac\\u00e1\", \"fallecidos\": 0, \"codigo region\": 1}, {\"date\": \"2020-03-28\", \"region\": \"Antofagasta\", \"fallecidos\": 0, \"codigo region\": 2}, {\"date\": \"2020-03-28\", \"region\": \"Atacama\", \"fallecidos\": 0, \"codigo region\": 3}, {\"date\": \"2020-03-28\", \"region\": \"Coquimbo\", \"fallecidos\": 0, \"codigo region\": 4}, {\"date\": \"2020-03-28\", \"region\": \"Valpara\\u00edso\", \"fallecidos\": 0, \"codigo region\": 5}, {\"date\": \"2020-03-28\", \"region\": \"Metropolitana\", \"fallecidos\": 3, \"codigo region\": 6}, {\"date\": \"2020-03-28\", \"region\": \"O\\u2019Higgins\", \"fallecidos\": 0, \"codigo region\": 7}, {\"date\": \"2020-03-28\", \"region\": \"Maule\", \"fallecidos\": 0, \"codigo region\": 8}, {\"date\": \"2020-03-28\", \"region\": \"\\u00d1uble\", \"fallecidos\": 0, \"codigo region\": 9}, {\"date\": \"2020-03-28\", \"region\": \"Biob\\u00edo\", \"fallecidos\": 2, \"codigo region\": 10}, {\"date\": \"2020-03-28\", \"region\": \"Araucan\\u00eda\", \"fallecidos\": 1, \"codigo region\": 11}, {\"date\": \"2020-03-28\", \"region\": \"Los R\\u00edos\", \"fallecidos\": 0, \"codigo region\": 12}, {\"date\": \"2020-03-28\", \"region\": \"Los Lagos\", \"fallecidos\": 0, \"codigo region\": 13}, {\"date\": \"2020-03-28\", \"region\": \"Ays\\u00e9n\", \"fallecidos\": 0, \"codigo region\": 14}, {\"date\": \"2020-03-28\", \"region\": \"Magallanes\", \"fallecidos\": 0, \"codigo region\": 15}, {\"date\": \"2020-03-29\", \"region\": \"Arica y Parinacota\", \"fallecidos\": 0, \"codigo region\": 0}, {\"date\": \"2020-03-29\", \"region\": \"Tarapac\\u00e1\", \"fallecidos\": 0, \"codigo region\": 1}, {\"date\": \"2020-03-29\", \"region\": \"Antofagasta\", \"fallecidos\": 0, \"codigo region\": 2}, {\"date\": \"2020-03-29\", \"region\": \"Atacama\", \"fallecidos\": 0, \"codigo region\": 3}, {\"date\": \"2020-03-29\", \"region\": \"Coquimbo\", \"fallecidos\": 0, \"codigo region\": 4}, {\"date\": \"2020-03-29\", \"region\": \"Valpara\\u00edso\", \"fallecidos\": 0, \"codigo region\": 5}, {\"date\": \"2020-03-29\", \"region\": \"Metropolitana\", \"fallecidos\": 3, \"codigo region\": 6}, {\"date\": \"2020-03-29\", \"region\": \"O\\u2019Higgins\", \"fallecidos\": 0, \"codigo region\": 7}, {\"date\": \"2020-03-29\", \"region\": \"Maule\", \"fallecidos\": 0, \"codigo region\": 8}, {\"date\": \"2020-03-29\", \"region\": \"\\u00d1uble\", \"fallecidos\": 0, \"codigo region\": 9}, {\"date\": \"2020-03-29\", \"region\": \"Biob\\u00edo\", \"fallecidos\": 2, \"codigo region\": 10}, {\"date\": \"2020-03-29\", \"region\": \"Araucan\\u00eda\", \"fallecidos\": 2, \"codigo region\": 11}, {\"date\": \"2020-03-29\", \"region\": \"Los R\\u00edos\", \"fallecidos\": 0, \"codigo region\": 12}, {\"date\": \"2020-03-29\", \"region\": \"Los Lagos\", \"fallecidos\": 0, \"codigo region\": 13}, {\"date\": \"2020-03-29\", \"region\": \"Ays\\u00e9n\", \"fallecidos\": 0, \"codigo region\": 14}, {\"date\": \"2020-03-29\", \"region\": \"Magallanes\", \"fallecidos\": 0, \"codigo region\": 15}, {\"date\": \"2020-03-30\", \"region\": \"Arica y Parinacota\", \"fallecidos\": 0, \"codigo region\": 0}, {\"date\": \"2020-03-30\", \"region\": \"Tarapac\\u00e1\", \"fallecidos\": 0, \"codigo region\": 1}, {\"date\": \"2020-03-30\", \"region\": \"Antofagasta\", \"fallecidos\": 0, \"codigo region\": 2}, {\"date\": \"2020-03-30\", \"region\": \"Atacama\", \"fallecidos\": 0, \"codigo region\": 3}, {\"date\": \"2020-03-30\", \"region\": \"Coquimbo\", \"fallecidos\": 0, \"codigo region\": 4}, {\"date\": \"2020-03-30\", \"region\": \"Valpara\\u00edso\", \"fallecidos\": 0, \"codigo region\": 5}, {\"date\": \"2020-03-30\", \"region\": \"Metropolitana\", \"fallecidos\": 3, \"codigo region\": 6}, {\"date\": \"2020-03-30\", \"region\": \"O\\u2019Higgins\", \"fallecidos\": 0, \"codigo region\": 7}, {\"date\": \"2020-03-30\", \"region\": \"Maule\", \"fallecidos\": 1, \"codigo region\": 8}, {\"date\": \"2020-03-30\", \"region\": \"\\u00d1uble\", \"fallecidos\": 0, \"codigo region\": 9}, {\"date\": \"2020-03-30\", \"region\": \"Biob\\u00edo\", \"fallecidos\": 2, \"codigo region\": 10}, {\"date\": \"2020-03-30\", \"region\": \"Araucan\\u00eda\", \"fallecidos\": 2, \"codigo region\": 11}, {\"date\": \"2020-03-30\", \"region\": \"Los R\\u00edos\", \"fallecidos\": 0, \"codigo region\": 12}, {\"date\": \"2020-03-30\", \"region\": \"Los Lagos\", \"fallecidos\": 0, \"codigo region\": 13}, {\"date\": \"2020-03-30\", \"region\": \"Ays\\u00e9n\", \"fallecidos\": 0, \"codigo region\": 14}, {\"date\": \"2020-03-30\", \"region\": \"Magallanes\", \"fallecidos\": 0, \"codigo region\": 15}, {\"date\": \"2020-03-31\", \"region\": \"Arica y Parinacota\", \"fallecidos\": 0, \"codigo region\": 0}, {\"date\": \"2020-03-31\", \"region\": \"Tarapac\\u00e1\", \"fallecidos\": 0, \"codigo region\": 1}, {\"date\": \"2020-03-31\", \"region\": \"Antofagasta\", \"fallecidos\": 0, \"codigo region\": 2}, {\"date\": \"2020-03-31\", \"region\": \"Atacama\", \"fallecidos\": 0, \"codigo region\": 3}, {\"date\": \"2020-03-31\", \"region\": \"Coquimbo\", \"fallecidos\": 0, \"codigo region\": 4}, {\"date\": \"2020-03-31\", \"region\": \"Valpara\\u00edso\", \"fallecidos\": 1, \"codigo region\": 5}, {\"date\": \"2020-03-31\", \"region\": \"Metropolitana\", \"fallecidos\": 4, \"codigo region\": 6}, {\"date\": \"2020-03-31\", \"region\": \"O\\u2019Higgins\", \"fallecidos\": 0, \"codigo region\": 7}, {\"date\": \"2020-03-31\", \"region\": \"Maule\", \"fallecidos\": 1, \"codigo region\": 8}, {\"date\": \"2020-03-31\", \"region\": \"\\u00d1uble\", \"fallecidos\": 0, \"codigo region\": 9}, {\"date\": \"2020-03-31\", \"region\": \"Biob\\u00edo\", \"fallecidos\": 2, \"codigo region\": 10}, {\"date\": \"2020-03-31\", \"region\": \"Araucan\\u00eda\", \"fallecidos\": 4, \"codigo region\": 11}, {\"date\": \"2020-03-31\", \"region\": \"Los R\\u00edos\", \"fallecidos\": 0, \"codigo region\": 12}, {\"date\": \"2020-03-31\", \"region\": \"Los Lagos\", \"fallecidos\": 0, \"codigo region\": 13}, {\"date\": \"2020-03-31\", \"region\": \"Ays\\u00e9n\", \"fallecidos\": 0, \"codigo region\": 14}, {\"date\": \"2020-03-31\", \"region\": \"Magallanes\", \"fallecidos\": 0, \"codigo region\": 15}, {\"date\": \"2020-04-01\", \"region\": \"Arica y Parinacota\", \"fallecidos\": 0, \"codigo region\": 0}, {\"date\": \"2020-04-01\", \"region\": \"Tarapac\\u00e1\", \"fallecidos\": 0, \"codigo region\": 1}, {\"date\": \"2020-04-01\", \"region\": \"Antofagasta\", \"fallecidos\": 0, \"codigo region\": 2}, {\"date\": \"2020-04-01\", \"region\": \"Atacama\", \"fallecidos\": 0, \"codigo region\": 3}, {\"date\": \"2020-04-01\", \"region\": \"Coquimbo\", \"fallecidos\": 0, \"codigo region\": 4}, {\"date\": \"2020-04-01\", \"region\": \"Valpara\\u00edso\", \"fallecidos\": 1, \"codigo region\": 5}, {\"date\": \"2020-04-01\", \"region\": \"Metropolitana\", \"fallecidos\": 5, \"codigo region\": 6}, {\"date\": \"2020-04-01\", \"region\": \"O\\u2019Higgins\", \"fallecidos\": 0, \"codigo region\": 7}, {\"date\": \"2020-04-01\", \"region\": \"Maule\", \"fallecidos\": 1, \"codigo region\": 8}, {\"date\": \"2020-04-01\", \"region\": \"\\u00d1uble\", \"fallecidos\": 0, \"codigo region\": 9}, {\"date\": \"2020-04-01\", \"region\": \"Biob\\u00edo\", \"fallecidos\": 2, \"codigo region\": 10}, {\"date\": \"2020-04-01\", \"region\": \"Araucan\\u00eda\", \"fallecidos\": 6, \"codigo region\": 11}, {\"date\": \"2020-04-01\", \"region\": \"Los R\\u00edos\", \"fallecidos\": 1, \"codigo region\": 12}, {\"date\": \"2020-04-01\", \"region\": \"Los Lagos\", \"fallecidos\": 0, \"codigo region\": 13}, {\"date\": \"2020-04-01\", \"region\": \"Ays\\u00e9n\", \"fallecidos\": 0, \"codigo region\": 14}, {\"date\": \"2020-04-01\", \"region\": \"Magallanes\", \"fallecidos\": 0, \"codigo region\": 15}, {\"date\": \"2020-04-02\", \"region\": \"Arica y Parinacota\", \"fallecidos\": 0, \"codigo region\": 0}, {\"date\": \"2020-04-02\", \"region\": \"Tarapac\\u00e1\", \"fallecidos\": 0, \"codigo region\": 1}, {\"date\": \"2020-04-02\", \"region\": \"Antofagasta\", \"fallecidos\": 0, \"codigo region\": 2}, {\"date\": \"2020-04-02\", \"region\": \"Atacama\", \"fallecidos\": 0, \"codigo region\": 3}, {\"date\": \"2020-04-02\", \"region\": \"Coquimbo\", \"fallecidos\": 0, \"codigo region\": 4}, {\"date\": \"2020-04-02\", \"region\": \"Valpara\\u00edso\", \"fallecidos\": 1, \"codigo region\": 5}, {\"date\": \"2020-04-02\", \"region\": \"Metropolitana\", \"fallecidos\": 6, \"codigo region\": 6}, {\"date\": \"2020-04-02\", \"region\": \"O\\u2019Higgins\", \"fallecidos\": 0, \"codigo region\": 7}, {\"date\": \"2020-04-02\", \"region\": \"Maule\", \"fallecidos\": 1, \"codigo region\": 8}, {\"date\": \"2020-04-02\", \"region\": \"\\u00d1uble\", \"fallecidos\": 0, \"codigo region\": 9}, {\"date\": \"2020-04-02\", \"region\": \"Biob\\u00edo\", \"fallecidos\": 2, \"codigo region\": 10}, {\"date\": \"2020-04-02\", \"region\": \"Araucan\\u00eda\", \"fallecidos\": 7, \"codigo region\": 11}, {\"date\": \"2020-04-02\", \"region\": \"Los R\\u00edos\", \"fallecidos\": 1, \"codigo region\": 12}, {\"date\": \"2020-04-02\", \"region\": \"Los Lagos\", \"fallecidos\": 0, \"codigo region\": 13}, {\"date\": \"2020-04-02\", \"region\": \"Ays\\u00e9n\", \"fallecidos\": 0, \"codigo region\": 14}, {\"date\": \"2020-04-02\", \"region\": \"Magallanes\", \"fallecidos\": 0, \"codigo region\": 15}, {\"date\": \"2020-04-03\", \"region\": \"Arica y Parinacota\", \"fallecidos\": 0, \"codigo region\": 0}, {\"date\": \"2020-04-03\", \"region\": \"Tarapac\\u00e1\", \"fallecidos\": 0, \"codigo region\": 1}, {\"date\": \"2020-04-03\", \"region\": \"Antofagasta\", \"fallecidos\": 0, \"codigo region\": 2}, {\"date\": \"2020-04-03\", \"region\": \"Atacama\", \"fallecidos\": 0, \"codigo region\": 3}, {\"date\": \"2020-04-03\", \"region\": \"Coquimbo\", \"fallecidos\": 0, \"codigo region\": 4}, {\"date\": \"2020-04-03\", \"region\": \"Valpara\\u00edso\", \"fallecidos\": 1, \"codigo region\": 5}, {\"date\": \"2020-04-03\", \"region\": \"Metropolitana\", \"fallecidos\": 8, \"codigo region\": 6}, {\"date\": \"2020-04-03\", \"region\": \"O\\u2019Higgins\", \"fallecidos\": 0, \"codigo region\": 7}, {\"date\": \"2020-04-03\", \"region\": \"Maule\", \"fallecidos\": 1, \"codigo region\": 8}, {\"date\": \"2020-04-03\", \"region\": \"\\u00d1uble\", \"fallecidos\": 1, \"codigo region\": 9}, {\"date\": \"2020-04-03\", \"region\": \"Biob\\u00edo\", \"fallecidos\": 2, \"codigo region\": 10}, {\"date\": \"2020-04-03\", \"region\": \"Araucan\\u00eda\", \"fallecidos\": 7, \"codigo region\": 11}, {\"date\": \"2020-04-03\", \"region\": \"Los R\\u00edos\", \"fallecidos\": 1, \"codigo region\": 12}, {\"date\": \"2020-04-03\", \"region\": \"Los Lagos\", \"fallecidos\": 0, \"codigo region\": 13}, {\"date\": \"2020-04-03\", \"region\": \"Ays\\u00e9n\", \"fallecidos\": 0, \"codigo region\": 14}, {\"date\": \"2020-04-03\", \"region\": \"Magallanes\", \"fallecidos\": 1, \"codigo region\": 15}, {\"date\": \"2020-04-04\", \"region\": \"Arica y Parinacota\", \"fallecidos\": 0, \"codigo region\": 0}, {\"date\": \"2020-04-04\", \"region\": \"Tarapac\\u00e1\", \"fallecidos\": 0, \"codigo region\": 1}, {\"date\": \"2020-04-04\", \"region\": \"Antofagasta\", \"fallecidos\": 0, \"codigo region\": 2}, {\"date\": \"2020-04-04\", \"region\": \"Atacama\", \"fallecidos\": 0, \"codigo region\": 3}, {\"date\": \"2020-04-04\", \"region\": \"Coquimbo\", \"fallecidos\": 0, \"codigo region\": 4}, {\"date\": \"2020-04-04\", \"region\": \"Valpara\\u00edso\", \"fallecidos\": 1, \"codigo region\": 5}, {\"date\": \"2020-04-04\", \"region\": \"Metropolitana\", \"fallecidos\": 9, \"codigo region\": 6}, {\"date\": \"2020-04-04\", \"region\": \"O\\u2019Higgins\", \"fallecidos\": 0, \"codigo region\": 7}, {\"date\": \"2020-04-04\", \"region\": \"Maule\", \"fallecidos\": 1, \"codigo region\": 8}, {\"date\": \"2020-04-04\", \"region\": \"\\u00d1uble\", \"fallecidos\": 2, \"codigo region\": 9}, {\"date\": \"2020-04-04\", \"region\": \"Biob\\u00edo\", \"fallecidos\": 2, \"codigo region\": 10}, {\"date\": \"2020-04-04\", \"region\": \"Araucan\\u00eda\", \"fallecidos\": 9, \"codigo region\": 11}, {\"date\": \"2020-04-04\", \"region\": \"Los R\\u00edos\", \"fallecidos\": 1, \"codigo region\": 12}, {\"date\": \"2020-04-04\", \"region\": \"Los Lagos\", \"fallecidos\": 0, \"codigo region\": 13}, {\"date\": \"2020-04-04\", \"region\": \"Ays\\u00e9n\", \"fallecidos\": 0, \"codigo region\": 14}, {\"date\": \"2020-04-04\", \"region\": \"Magallanes\", \"fallecidos\": 2, \"codigo region\": 15}, {\"date\": \"2020-04-05\", \"region\": \"Arica y Parinacota\", \"fallecidos\": 0, \"codigo region\": 0}, {\"date\": \"2020-04-05\", \"region\": \"Tarapac\\u00e1\", \"fallecidos\": 0, \"codigo region\": 1}, {\"date\": \"2020-04-05\", \"region\": \"Antofagasta\", \"fallecidos\": 0, \"codigo region\": 2}, {\"date\": \"2020-04-05\", \"region\": \"Atacama\", \"fallecidos\": 0, \"codigo region\": 3}, {\"date\": \"2020-04-05\", \"region\": \"Coquimbo\", \"fallecidos\": 0, \"codigo region\": 4}, {\"date\": \"2020-04-05\", \"region\": \"Valpara\\u00edso\", \"fallecidos\": 1, \"codigo region\": 5}, {\"date\": \"2020-04-05\", \"region\": \"Metropolitana\", \"fallecidos\": 10, \"codigo region\": 6}, {\"date\": \"2020-04-05\", \"region\": \"O\\u2019Higgins\", \"fallecidos\": 0, \"codigo region\": 7}, {\"date\": \"2020-04-05\", \"region\": \"Maule\", \"fallecidos\": 1, \"codigo region\": 8}, {\"date\": \"2020-04-05\", \"region\": \"\\u00d1uble\", \"fallecidos\": 3, \"codigo region\": 9}, {\"date\": \"2020-04-05\", \"region\": \"Biob\\u00edo\", \"fallecidos\": 2, \"codigo region\": 10}, {\"date\": \"2020-04-05\", \"region\": \"Araucan\\u00eda\", \"fallecidos\": 13, \"codigo region\": 11}, {\"date\": \"2020-04-05\", \"region\": \"Los R\\u00edos\", \"fallecidos\": 1, \"codigo region\": 12}, {\"date\": \"2020-04-05\", \"region\": \"Los Lagos\", \"fallecidos\": 1, \"codigo region\": 13}, {\"date\": \"2020-04-05\", \"region\": \"Ays\\u00e9n\", \"fallecidos\": 0, \"codigo region\": 14}, {\"date\": \"2020-04-05\", \"region\": \"Magallanes\", \"fallecidos\": 2, \"codigo region\": 15}, {\"date\": \"2020-04-06\", \"region\": \"Arica y Parinacota\", \"fallecidos\": 0, \"codigo region\": 0}, {\"date\": \"2020-04-06\", \"region\": \"Tarapac\\u00e1\", \"fallecidos\": 0, \"codigo region\": 1}, {\"date\": \"2020-04-06\", \"region\": \"Antofagasta\", \"fallecidos\": 0, \"codigo region\": 2}, {\"date\": \"2020-04-06\", \"region\": \"Atacama\", \"fallecidos\": 0, \"codigo region\": 3}, {\"date\": \"2020-04-06\", \"region\": \"Coquimbo\", \"fallecidos\": 0, \"codigo region\": 4}, {\"date\": \"2020-04-06\", \"region\": \"Valpara\\u00edso\", \"fallecidos\": 1, \"codigo region\": 5}, {\"date\": \"2020-04-06\", \"region\": \"Metropolitana\", \"fallecidos\": 10, \"codigo region\": 6}, {\"date\": \"2020-04-06\", \"region\": \"O\\u2019Higgins\", \"fallecidos\": 0, \"codigo region\": 7}, {\"date\": \"2020-04-06\", \"region\": \"Maule\", \"fallecidos\": 1, \"codigo region\": 8}, {\"date\": \"2020-04-06\", \"region\": \"\\u00d1uble\", \"fallecidos\": 4, \"codigo region\": 9}, {\"date\": \"2020-04-06\", \"region\": \"Biob\\u00edo\", \"fallecidos\": 2, \"codigo region\": 10}, {\"date\": \"2020-04-06\", \"region\": \"Araucan\\u00eda\", \"fallecidos\": 14, \"codigo region\": 11}, {\"date\": \"2020-04-06\", \"region\": \"Los R\\u00edos\", \"fallecidos\": 1, \"codigo region\": 12}, {\"date\": \"2020-04-06\", \"region\": \"Los Lagos\", \"fallecidos\": 2, \"codigo region\": 13}, {\"date\": \"2020-04-06\", \"region\": \"Ays\\u00e9n\", \"fallecidos\": 0, \"codigo region\": 14}, {\"date\": \"2020-04-06\", \"region\": \"Magallanes\", \"fallecidos\": 2, \"codigo region\": 15}, {\"date\": \"2020-04-07\", \"region\": \"Arica y Parinacota\", \"fallecidos\": 0, \"codigo region\": 0}, {\"date\": \"2020-04-07\", \"region\": \"Tarapac\\u00e1\", \"fallecidos\": 0, \"codigo region\": 1}, {\"date\": \"2020-04-07\", \"region\": \"Antofagasta\", \"fallecidos\": 1, \"codigo region\": 2}, {\"date\": \"2020-04-07\", \"region\": \"Atacama\", \"fallecidos\": 0, \"codigo region\": 3}, {\"date\": \"2020-04-07\", \"region\": \"Coquimbo\", \"fallecidos\": 0, \"codigo region\": 4}, {\"date\": \"2020-04-07\", \"region\": \"Valpara\\u00edso\", \"fallecidos\": 1, \"codigo region\": 5}, {\"date\": \"2020-04-07\", \"region\": \"Metropolitana\", \"fallecidos\": 12, \"codigo region\": 6}, {\"date\": \"2020-04-07\", \"region\": \"O\\u2019Higgins\", \"fallecidos\": 0, \"codigo region\": 7}, {\"date\": \"2020-04-07\", \"region\": \"Maule\", \"fallecidos\": 2, \"codigo region\": 8}, {\"date\": \"2020-04-07\", \"region\": \"\\u00d1uble\", \"fallecidos\": 5, \"codigo region\": 9}, {\"date\": \"2020-04-07\", \"region\": \"Biob\\u00edo\", \"fallecidos\": 2, \"codigo region\": 10}, {\"date\": \"2020-04-07\", \"region\": \"Araucan\\u00eda\", \"fallecidos\": 14, \"codigo region\": 11}, {\"date\": \"2020-04-07\", \"region\": \"Los R\\u00edos\", \"fallecidos\": 2, \"codigo region\": 12}, {\"date\": \"2020-04-07\", \"region\": \"Los Lagos\", \"fallecidos\": 2, \"codigo region\": 13}, {\"date\": \"2020-04-07\", \"region\": \"Ays\\u00e9n\", \"fallecidos\": 0, \"codigo region\": 14}, {\"date\": \"2020-04-07\", \"region\": \"Magallanes\", \"fallecidos\": 2, \"codigo region\": 15}, {\"date\": \"2020-04-08\", \"region\": \"Arica y Parinacota\", \"fallecidos\": 0, \"codigo region\": 0}, {\"date\": \"2020-04-08\", \"region\": \"Tarapac\\u00e1\", \"fallecidos\": 0, \"codigo region\": 1}, {\"date\": \"2020-04-08\", \"region\": \"Antofagasta\", \"fallecidos\": 1, \"codigo region\": 2}, {\"date\": \"2020-04-08\", \"region\": \"Atacama\", \"fallecidos\": 0, \"codigo region\": 3}, {\"date\": \"2020-04-08\", \"region\": \"Coquimbo\", \"fallecidos\": 0, \"codigo region\": 4}, {\"date\": \"2020-04-08\", \"region\": \"Valpara\\u00edso\", \"fallecidos\": 2, \"codigo region\": 5}, {\"date\": \"2020-04-08\", \"region\": \"Metropolitana\", \"fallecidos\": 14, \"codigo region\": 6}, {\"date\": \"2020-04-08\", \"region\": \"O\\u2019Higgins\", \"fallecidos\": 0, \"codigo region\": 7}, {\"date\": \"2020-04-08\", \"region\": \"Maule\", \"fallecidos\": 2, \"codigo region\": 8}, {\"date\": \"2020-04-08\", \"region\": \"\\u00d1uble\", \"fallecidos\": 5, \"codigo region\": 9}, {\"date\": \"2020-04-08\", \"region\": \"Biob\\u00edo\", \"fallecidos\": 2, \"codigo region\": 10}, {\"date\": \"2020-04-08\", \"region\": \"Araucan\\u00eda\", \"fallecidos\": 15, \"codigo region\": 11}, {\"date\": \"2020-04-08\", \"region\": \"Los R\\u00edos\", \"fallecidos\": 2, \"codigo region\": 12}, {\"date\": \"2020-04-08\", \"region\": \"Los Lagos\", \"fallecidos\": 2, \"codigo region\": 13}, {\"date\": \"2020-04-08\", \"region\": \"Ays\\u00e9n\", \"fallecidos\": 0, \"codigo region\": 14}, {\"date\": \"2020-04-08\", \"region\": \"Magallanes\", \"fallecidos\": 3, \"codigo region\": 15}, {\"date\": \"2020-04-09\", \"region\": \"Arica y Parinacota\", \"fallecidos\": 0, \"codigo region\": 0}, {\"date\": \"2020-04-09\", \"region\": \"Tarapac\\u00e1\", \"fallecidos\": 0, \"codigo region\": 1}, {\"date\": \"2020-04-09\", \"region\": \"Antofagasta\", \"fallecidos\": 1, \"codigo region\": 2}, {\"date\": \"2020-04-09\", \"region\": \"Atacama\", \"fallecidos\": 0, \"codigo region\": 3}, {\"date\": \"2020-04-09\", \"region\": \"Coquimbo\", \"fallecidos\": 0, \"codigo region\": 4}, {\"date\": \"2020-04-09\", \"region\": \"Valpara\\u00edso\", \"fallecidos\": 2, \"codigo region\": 5}, {\"date\": \"2020-04-09\", \"region\": \"Metropolitana\", \"fallecidos\": 21, \"codigo region\": 6}, {\"date\": \"2020-04-09\", \"region\": \"O\\u2019Higgins\", \"fallecidos\": 0, \"codigo region\": 7}, {\"date\": \"2020-04-09\", \"region\": \"Maule\", \"fallecidos\": 2, \"codigo region\": 8}, {\"date\": \"2020-04-09\", \"region\": \"\\u00d1uble\", \"fallecidos\": 6, \"codigo region\": 9}, {\"date\": \"2020-04-09\", \"region\": \"Biob\\u00edo\", \"fallecidos\": 2, \"codigo region\": 10}, {\"date\": \"2020-04-09\", \"region\": \"Araucan\\u00eda\", \"fallecidos\": 16, \"codigo region\": 11}, {\"date\": \"2020-04-09\", \"region\": \"Los R\\u00edos\", \"fallecidos\": 2, \"codigo region\": 12}, {\"date\": \"2020-04-09\", \"region\": \"Los Lagos\", \"fallecidos\": 2, \"codigo region\": 13}, {\"date\": \"2020-04-09\", \"region\": \"Ays\\u00e9n\", \"fallecidos\": 0, \"codigo region\": 14}, {\"date\": \"2020-04-09\", \"region\": \"Magallanes\", \"fallecidos\": 3, \"codigo region\": 15}, {\"date\": \"2020-04-10\", \"region\": \"Arica y Parinacota\", \"fallecidos\": 0, \"codigo region\": 0}, {\"date\": \"2020-04-10\", \"region\": \"Tarapac\\u00e1\", \"fallecidos\": 0, \"codigo region\": 1}, {\"date\": \"2020-04-10\", \"region\": \"Antofagasta\", \"fallecidos\": 1, \"codigo region\": 2}, {\"date\": \"2020-04-10\", \"region\": \"Atacama\", \"fallecidos\": 0, \"codigo region\": 3}, {\"date\": \"2020-04-10\", \"region\": \"Coquimbo\", \"fallecidos\": 0, \"codigo region\": 4}, {\"date\": \"2020-04-10\", \"region\": \"Valpara\\u00edso\", \"fallecidos\": 2, \"codigo region\": 5}, {\"date\": \"2020-04-10\", \"region\": \"Metropolitana\", \"fallecidos\": 29, \"codigo region\": 6}, {\"date\": \"2020-04-10\", \"region\": \"O\\u2019Higgins\", \"fallecidos\": 0, \"codigo region\": 7}, {\"date\": \"2020-04-10\", \"region\": \"Maule\", \"fallecidos\": 2, \"codigo region\": 8}, {\"date\": \"2020-04-10\", \"region\": \"\\u00d1uble\", \"fallecidos\": 6, \"codigo region\": 9}, {\"date\": \"2020-04-10\", \"region\": \"Biob\\u00edo\", \"fallecidos\": 2, \"codigo region\": 10}, {\"date\": \"2020-04-10\", \"region\": \"Araucan\\u00eda\", \"fallecidos\": 16, \"codigo region\": 11}, {\"date\": \"2020-04-10\", \"region\": \"Los R\\u00edos\", \"fallecidos\": 2, \"codigo region\": 12}, {\"date\": \"2020-04-10\", \"region\": \"Los Lagos\", \"fallecidos\": 2, \"codigo region\": 13}, {\"date\": \"2020-04-10\", \"region\": \"Ays\\u00e9n\", \"fallecidos\": 0, \"codigo region\": 14}, {\"date\": \"2020-04-10\", \"region\": \"Magallanes\", \"fallecidos\": 3, \"codigo region\": 15}, {\"date\": \"2020-04-11\", \"region\": \"Arica y Parinacota\", \"fallecidos\": 0, \"codigo region\": 0}, {\"date\": \"2020-04-11\", \"region\": \"Tarapac\\u00e1\", \"fallecidos\": 0, \"codigo region\": 1}, {\"date\": \"2020-04-11\", \"region\": \"Antofagasta\", \"fallecidos\": 1, \"codigo region\": 2}, {\"date\": \"2020-04-11\", \"region\": \"Atacama\", \"fallecidos\": 0, \"codigo region\": 3}, {\"date\": \"2020-04-11\", \"region\": \"Coquimbo\", \"fallecidos\": 0, \"codigo region\": 4}, {\"date\": \"2020-04-11\", \"region\": \"Valpara\\u00edso\", \"fallecidos\": 2, \"codigo region\": 5}, {\"date\": \"2020-04-11\", \"region\": \"Metropolitana\", \"fallecidos\": 32, \"codigo region\": 6}, {\"date\": \"2020-04-11\", \"region\": \"O\\u2019Higgins\", \"fallecidos\": 0, \"codigo region\": 7}, {\"date\": \"2020-04-11\", \"region\": \"Maule\", \"fallecidos\": 3, \"codigo region\": 8}, {\"date\": \"2020-04-11\", \"region\": \"\\u00d1uble\", \"fallecidos\": 6, \"codigo region\": 9}, {\"date\": \"2020-04-11\", \"region\": \"Biob\\u00edo\", \"fallecidos\": 2, \"codigo region\": 10}, {\"date\": \"2020-04-11\", \"region\": \"Araucan\\u00eda\", \"fallecidos\": 17, \"codigo region\": 11}, {\"date\": \"2020-04-11\", \"region\": \"Los R\\u00edos\", \"fallecidos\": 2, \"codigo region\": 12}, {\"date\": \"2020-04-11\", \"region\": \"Los Lagos\", \"fallecidos\": 5, \"codigo region\": 13}, {\"date\": \"2020-04-11\", \"region\": \"Ays\\u00e9n\", \"fallecidos\": 0, \"codigo region\": 14}, {\"date\": \"2020-04-11\", \"region\": \"Magallanes\", \"fallecidos\": 3, \"codigo region\": 15}, {\"date\": \"2020-04-12\", \"region\": \"Arica y Parinacota\", \"fallecidos\": 1, \"codigo region\": 0}, {\"date\": \"2020-04-12\", \"region\": \"Tarapac\\u00e1\", \"fallecidos\": 0, \"codigo region\": 1}, {\"date\": \"2020-04-12\", \"region\": \"Antofagasta\", \"fallecidos\": 1, \"codigo region\": 2}, {\"date\": \"2020-04-12\", \"region\": \"Atacama\", \"fallecidos\": 0, \"codigo region\": 3}, {\"date\": \"2020-04-12\", \"region\": \"Coquimbo\", \"fallecidos\": 0, \"codigo region\": 4}, {\"date\": \"2020-04-12\", \"region\": \"Valpara\\u00edso\", \"fallecidos\": 2, \"codigo region\": 5}, {\"date\": \"2020-04-12\", \"region\": \"Metropolitana\", \"fallecidos\": 35, \"codigo region\": 6}, {\"date\": \"2020-04-12\", \"region\": \"O\\u2019Higgins\", \"fallecidos\": 0, \"codigo region\": 7}, {\"date\": \"2020-04-12\", \"region\": \"Maule\", \"fallecidos\": 3, \"codigo region\": 8}, {\"date\": \"2020-04-12\", \"region\": \"\\u00d1uble\", \"fallecidos\": 7, \"codigo region\": 9}, {\"date\": \"2020-04-12\", \"region\": \"Biob\\u00edo\", \"fallecidos\": 2, \"codigo region\": 10}, {\"date\": \"2020-04-12\", \"region\": \"Araucan\\u00eda\", \"fallecidos\": 17, \"codigo region\": 11}, {\"date\": \"2020-04-12\", \"region\": \"Los R\\u00edos\", \"fallecidos\": 3, \"codigo region\": 12}, {\"date\": \"2020-04-12\", \"region\": \"Los Lagos\", \"fallecidos\": 5, \"codigo region\": 13}, {\"date\": \"2020-04-12\", \"region\": \"Ays\\u00e9n\", \"fallecidos\": 0, \"codigo region\": 14}, {\"date\": \"2020-04-12\", \"region\": \"Magallanes\", \"fallecidos\": 4, \"codigo region\": 15}, {\"date\": \"2020-04-13\", \"region\": \"Arica y Parinacota\", \"fallecidos\": 1, \"codigo region\": 0}, {\"date\": \"2020-04-13\", \"region\": \"Tarapac\\u00e1\", \"fallecidos\": 0, \"codigo region\": 1}, {\"date\": \"2020-04-13\", \"region\": \"Antofagasta\", \"fallecidos\": 1, \"codigo region\": 2}, {\"date\": \"2020-04-13\", \"region\": \"Atacama\", \"fallecidos\": 0, \"codigo region\": 3}, {\"date\": \"2020-04-13\", \"region\": \"Coquimbo\", \"fallecidos\": 0, \"codigo region\": 4}, {\"date\": \"2020-04-13\", \"region\": \"Valpara\\u00edso\", \"fallecidos\": 2, \"codigo region\": 5}, {\"date\": \"2020-04-13\", \"region\": \"Metropolitana\", \"fallecidos\": 36, \"codigo region\": 6}, {\"date\": \"2020-04-13\", \"region\": \"O\\u2019Higgins\", \"fallecidos\": 0, \"codigo region\": 7}, {\"date\": \"2020-04-13\", \"region\": \"Maule\", \"fallecidos\": 3, \"codigo region\": 8}, {\"date\": \"2020-04-13\", \"region\": \"\\u00d1uble\", \"fallecidos\": 7, \"codigo region\": 9}, {\"date\": \"2020-04-13\", \"region\": \"Biob\\u00edo\", \"fallecidos\": 2, \"codigo region\": 10}, {\"date\": \"2020-04-13\", \"region\": \"Araucan\\u00eda\", \"fallecidos\": 17, \"codigo region\": 11}, {\"date\": \"2020-04-13\", \"region\": \"Los R\\u00edos\", \"fallecidos\": 3, \"codigo region\": 12}, {\"date\": \"2020-04-13\", \"region\": \"Los Lagos\", \"fallecidos\": 5, \"codigo region\": 13}, {\"date\": \"2020-04-13\", \"region\": \"Ays\\u00e9n\", \"fallecidos\": 0, \"codigo region\": 14}, {\"date\": \"2020-04-13\", \"region\": \"Magallanes\", \"fallecidos\": 5, \"codigo region\": 15}, {\"date\": \"2020-04-14\", \"region\": \"Arica y Parinacota\", \"fallecidos\": 1, \"codigo region\": 0}, {\"date\": \"2020-04-14\", \"region\": \"Tarapac\\u00e1\", \"fallecidos\": 0, \"codigo region\": 1}, {\"date\": \"2020-04-14\", \"region\": \"Antofagasta\", \"fallecidos\": 1, \"codigo region\": 2}, {\"date\": \"2020-04-14\", \"region\": \"Atacama\", \"fallecidos\": 0, \"codigo region\": 3}, {\"date\": \"2020-04-14\", \"region\": \"Coquimbo\", \"fallecidos\": 0, \"codigo region\": 4}, {\"date\": \"2020-04-14\", \"region\": \"Valpara\\u00edso\", \"fallecidos\": 2, \"codigo region\": 5}, {\"date\": \"2020-04-14\", \"region\": \"Metropolitana\", \"fallecidos\": 40, \"codigo region\": 6}, {\"date\": \"2020-04-14\", \"region\": \"O\\u2019Higgins\", \"fallecidos\": 0, \"codigo region\": 7}, {\"date\": \"2020-04-14\", \"region\": \"Maule\", \"fallecidos\": 4, \"codigo region\": 8}, {\"date\": \"2020-04-14\", \"region\": \"\\u00d1uble\", \"fallecidos\": 8, \"codigo region\": 9}, {\"date\": \"2020-04-14\", \"region\": \"Biob\\u00edo\", \"fallecidos\": 2, \"codigo region\": 10}, {\"date\": \"2020-04-14\", \"region\": \"Araucan\\u00eda\", \"fallecidos\": 20, \"codigo region\": 11}, {\"date\": \"2020-04-14\", \"region\": \"Los R\\u00edos\", \"fallecidos\": 3, \"codigo region\": 12}, {\"date\": \"2020-04-14\", \"region\": \"Los Lagos\", \"fallecidos\": 5, \"codigo region\": 13}, {\"date\": \"2020-04-14\", \"region\": \"Ays\\u00e9n\", \"fallecidos\": 0, \"codigo region\": 14}, {\"date\": \"2020-04-14\", \"region\": \"Magallanes\", \"fallecidos\": 6, \"codigo region\": 15}, {\"date\": \"2020-04-15\", \"region\": \"Arica y Parinacota\", \"fallecidos\": 1, \"codigo region\": 0}, {\"date\": \"2020-04-15\", \"region\": \"Tarapac\\u00e1\", \"fallecidos\": 0, \"codigo region\": 1}, {\"date\": \"2020-04-15\", \"region\": \"Antofagasta\", \"fallecidos\": 1, \"codigo region\": 2}, {\"date\": \"2020-04-15\", \"region\": \"Atacama\", \"fallecidos\": 0, \"codigo region\": 3}, {\"date\": \"2020-04-15\", \"region\": \"Coquimbo\", \"fallecidos\": 0, \"codigo region\": 4}, {\"date\": \"2020-04-15\", \"region\": \"Valpara\\u00edso\", \"fallecidos\": 2, \"codigo region\": 5}, {\"date\": \"2020-04-15\", \"region\": \"Metropolitana\", \"fallecidos\": 41, \"codigo region\": 6}, {\"date\": \"2020-04-15\", \"region\": \"O\\u2019Higgins\", \"fallecidos\": 0, \"codigo region\": 7}, {\"date\": \"2020-04-15\", \"region\": \"Maule\", \"fallecidos\": 4, \"codigo region\": 8}, {\"date\": \"2020-04-15\", \"region\": \"\\u00d1uble\", \"fallecidos\": 8, \"codigo region\": 9}, {\"date\": \"2020-04-15\", \"region\": \"Biob\\u00edo\", \"fallecidos\": 2, \"codigo region\": 10}, {\"date\": \"2020-04-15\", \"region\": \"Araucan\\u00eda\", \"fallecidos\": 21, \"codigo region\": 11}, {\"date\": \"2020-04-15\", \"region\": \"Los R\\u00edos\", \"fallecidos\": 3, \"codigo region\": 12}, {\"date\": \"2020-04-15\", \"region\": \"Los Lagos\", \"fallecidos\": 5, \"codigo region\": 13}, {\"date\": \"2020-04-15\", \"region\": \"Ays\\u00e9n\", \"fallecidos\": 0, \"codigo region\": 14}, {\"date\": \"2020-04-15\", \"region\": \"Magallanes\", \"fallecidos\": 6, \"codigo region\": 15}, {\"date\": \"2020-04-16\", \"region\": \"Arica y Parinacota\", \"fallecidos\": 1, \"codigo region\": 0}, {\"date\": \"2020-04-16\", \"region\": \"Tarapac\\u00e1\", \"fallecidos\": 0, \"codigo region\": 1}, {\"date\": \"2020-04-16\", \"region\": \"Antofagasta\", \"fallecidos\": 1, \"codigo region\": 2}, {\"date\": \"2020-04-16\", \"region\": \"Atacama\", \"fallecidos\": 0, \"codigo region\": 3}, {\"date\": \"2020-04-16\", \"region\": \"Coquimbo\", \"fallecidos\": 0, \"codigo region\": 4}, {\"date\": \"2020-04-16\", \"region\": \"Valpara\\u00edso\", \"fallecidos\": 4, \"codigo region\": 5}, {\"date\": \"2020-04-16\", \"region\": \"Metropolitana\", \"fallecidos\": 48, \"codigo region\": 6}, {\"date\": \"2020-04-16\", \"region\": \"O\\u2019Higgins\", \"fallecidos\": 0, \"codigo region\": 7}, {\"date\": \"2020-04-16\", \"region\": \"Maule\", \"fallecidos\": 4, \"codigo region\": 8}, {\"date\": \"2020-04-16\", \"region\": \"\\u00d1uble\", \"fallecidos\": 10, \"codigo region\": 9}, {\"date\": \"2020-04-16\", \"region\": \"Biob\\u00edo\", \"fallecidos\": 2, \"codigo region\": 10}, {\"date\": \"2020-04-16\", \"region\": \"Araucan\\u00eda\", \"fallecidos\": 21, \"codigo region\": 11}, {\"date\": \"2020-04-16\", \"region\": \"Los R\\u00edos\", \"fallecidos\": 3, \"codigo region\": 12}, {\"date\": \"2020-04-16\", \"region\": \"Los Lagos\", \"fallecidos\": 5, \"codigo region\": 13}, {\"date\": \"2020-04-16\", \"region\": \"Ays\\u00e9n\", \"fallecidos\": 0, \"codigo region\": 14}, {\"date\": \"2020-04-16\", \"region\": \"Magallanes\", \"fallecidos\": 6, \"codigo region\": 15}, {\"date\": \"2020-04-17\", \"region\": \"Arica y Parinacota\", \"fallecidos\": 2, \"codigo region\": 0}, {\"date\": \"2020-04-17\", \"region\": \"Tarapac\\u00e1\", \"fallecidos\": 0, \"codigo region\": 1}, {\"date\": \"2020-04-17\", \"region\": \"Antofagasta\", \"fallecidos\": 1, \"codigo region\": 2}, {\"date\": \"2020-04-17\", \"region\": \"Atacama\", \"fallecidos\": 0, \"codigo region\": 3}, {\"date\": \"2020-04-17\", \"region\": \"Coquimbo\", \"fallecidos\": 0, \"codigo region\": 4}, {\"date\": \"2020-04-17\", \"region\": \"Valpara\\u00edso\", \"fallecidos\": 4, \"codigo region\": 5}, {\"date\": \"2020-04-17\", \"region\": \"Metropolitana\", \"fallecidos\": 51, \"codigo region\": 6}, {\"date\": \"2020-04-17\", \"region\": \"O\\u2019Higgins\", \"fallecidos\": 0, \"codigo region\": 7}, {\"date\": \"2020-04-17\", \"region\": \"Maule\", \"fallecidos\": 7, \"codigo region\": 8}, {\"date\": \"2020-04-17\", \"region\": \"\\u00d1uble\", \"fallecidos\": 11, \"codigo region\": 9}, {\"date\": \"2020-04-17\", \"region\": \"Biob\\u00edo\", \"fallecidos\": 3, \"codigo region\": 10}, {\"date\": \"2020-04-17\", \"region\": \"Araucan\\u00eda\", \"fallecidos\": 22, \"codigo region\": 11}, {\"date\": \"2020-04-17\", \"region\": \"Los R\\u00edos\", \"fallecidos\": 3, \"codigo region\": 12}, {\"date\": \"2020-04-17\", \"region\": \"Los Lagos\", \"fallecidos\": 6, \"codigo region\": 13}, {\"date\": \"2020-04-17\", \"region\": \"Ays\\u00e9n\", \"fallecidos\": 0, \"codigo region\": 14}, {\"date\": \"2020-04-17\", \"region\": \"Magallanes\", \"fallecidos\": 6, \"codigo region\": 15}, {\"date\": \"2020-04-18\", \"region\": \"Arica y Parinacota\", \"fallecidos\": 2, \"codigo region\": 0}, {\"date\": \"2020-04-18\", \"region\": \"Tarapac\\u00e1\", \"fallecidos\": 0, \"codigo region\": 1}, {\"date\": \"2020-04-18\", \"region\": \"Antofagasta\", \"fallecidos\": 1, \"codigo region\": 2}, {\"date\": \"2020-04-18\", \"region\": \"Atacama\", \"fallecidos\": 0, \"codigo region\": 3}, {\"date\": \"2020-04-18\", \"region\": \"Coquimbo\", \"fallecidos\": 0, \"codigo region\": 4}, {\"date\": \"2020-04-18\", \"region\": \"Valpara\\u00edso\", \"fallecidos\": 4, \"codigo region\": 5}, {\"date\": \"2020-04-18\", \"region\": \"Metropolitana\", \"fallecidos\": 58, \"codigo region\": 6}, {\"date\": \"2020-04-18\", \"region\": \"O\\u2019Higgins\", \"fallecidos\": 0, \"codigo region\": 7}, {\"date\": \"2020-04-18\", \"region\": \"Maule\", \"fallecidos\": 8, \"codigo region\": 8}, {\"date\": \"2020-04-18\", \"region\": \"\\u00d1uble\", \"fallecidos\": 12, \"codigo region\": 9}, {\"date\": \"2020-04-18\", \"region\": \"Biob\\u00edo\", \"fallecidos\": 3, \"codigo region\": 10}, {\"date\": \"2020-04-18\", \"region\": \"Araucan\\u00eda\", \"fallecidos\": 23, \"codigo region\": 11}, {\"date\": \"2020-04-18\", \"region\": \"Los R\\u00edos\", \"fallecidos\": 3, \"codigo region\": 12}, {\"date\": \"2020-04-18\", \"region\": \"Los Lagos\", \"fallecidos\": 6, \"codigo region\": 13}, {\"date\": \"2020-04-18\", \"region\": \"Ays\\u00e9n\", \"fallecidos\": 0, \"codigo region\": 14}, {\"date\": \"2020-04-18\", \"region\": \"Magallanes\", \"fallecidos\": 6, \"codigo region\": 15}, {\"date\": \"2020-04-19\", \"region\": \"Arica y Parinacota\", \"fallecidos\": 2, \"codigo region\": 0}, {\"date\": \"2020-04-19\", \"region\": \"Tarapac\\u00e1\", \"fallecidos\": 0, \"codigo region\": 1}, {\"date\": \"2020-04-19\", \"region\": \"Antofagasta\", \"fallecidos\": 1, \"codigo region\": 2}, {\"date\": \"2020-04-19\", \"region\": \"Atacama\", \"fallecidos\": 0, \"codigo region\": 3}, {\"date\": \"2020-04-19\", \"region\": \"Coquimbo\", \"fallecidos\": 0, \"codigo region\": 4}, {\"date\": \"2020-04-19\", \"region\": \"Valpara\\u00edso\", \"fallecidos\": 5, \"codigo region\": 5}, {\"date\": \"2020-04-19\", \"region\": \"Metropolitana\", \"fallecidos\": 63, \"codigo region\": 6}, {\"date\": \"2020-04-19\", \"region\": \"O\\u2019Higgins\", \"fallecidos\": 0, \"codigo region\": 7}, {\"date\": \"2020-04-19\", \"region\": \"Maule\", \"fallecidos\": 8, \"codigo region\": 8}, {\"date\": \"2020-04-19\", \"region\": \"\\u00d1uble\", \"fallecidos\": 13, \"codigo region\": 9}, {\"date\": \"2020-04-19\", \"region\": \"Biob\\u00edo\", \"fallecidos\": 3, \"codigo region\": 10}, {\"date\": \"2020-04-19\", \"region\": \"Araucan\\u00eda\", \"fallecidos\": 23, \"codigo region\": 11}, {\"date\": \"2020-04-19\", \"region\": \"Los R\\u00edos\", \"fallecidos\": 3, \"codigo region\": 12}, {\"date\": \"2020-04-19\", \"region\": \"Los Lagos\", \"fallecidos\": 6, \"codigo region\": 13}, {\"date\": \"2020-04-19\", \"region\": \"Ays\\u00e9n\", \"fallecidos\": 0, \"codigo region\": 14}, {\"date\": \"2020-04-19\", \"region\": \"Magallanes\", \"fallecidos\": 6, \"codigo region\": 15}, {\"date\": \"2020-04-20\", \"region\": \"Arica y Parinacota\", \"fallecidos\": 2, \"codigo region\": 0}, {\"date\": \"2020-04-20\", \"region\": \"Tarapac\\u00e1\", \"fallecidos\": 0, \"codigo region\": 1}, {\"date\": \"2020-04-20\", \"region\": \"Antofagasta\", \"fallecidos\": 1, \"codigo region\": 2}, {\"date\": \"2020-04-20\", \"region\": \"Atacama\", \"fallecidos\": 0, \"codigo region\": 3}, {\"date\": \"2020-04-20\", \"region\": \"Coquimbo\", \"fallecidos\": 0, \"codigo region\": 4}, {\"date\": \"2020-04-20\", \"region\": \"Valpara\\u00edso\", \"fallecidos\": 5, \"codigo region\": 5}, {\"date\": \"2020-04-20\", \"region\": \"Metropolitana\", \"fallecidos\": 67, \"codigo region\": 6}, {\"date\": \"2020-04-20\", \"region\": \"O\\u2019Higgins\", \"fallecidos\": 0, \"codigo region\": 7}, {\"date\": \"2020-04-20\", \"region\": \"Maule\", \"fallecidos\": 10, \"codigo region\": 8}, {\"date\": \"2020-04-20\", \"region\": \"\\u00d1uble\", \"fallecidos\": 13, \"codigo region\": 9}, {\"date\": \"2020-04-20\", \"region\": \"Biob\\u00edo\", \"fallecidos\": 3, \"codigo region\": 10}, {\"date\": \"2020-04-20\", \"region\": \"Araucan\\u00eda\", \"fallecidos\": 23, \"codigo region\": 11}, {\"date\": \"2020-04-20\", \"region\": \"Los R\\u00edos\", \"fallecidos\": 3, \"codigo region\": 12}, {\"date\": \"2020-04-20\", \"region\": \"Los Lagos\", \"fallecidos\": 6, \"codigo region\": 13}, {\"date\": \"2020-04-20\", \"region\": \"Ays\\u00e9n\", \"fallecidos\": 0, \"codigo region\": 14}, {\"date\": \"2020-04-20\", \"region\": \"Magallanes\", \"fallecidos\": 6, \"codigo region\": 15}, {\"date\": \"2020-04-21\", \"region\": \"Arica y Parinacota\", \"fallecidos\": 2, \"codigo region\": 0}, {\"date\": \"2020-04-21\", \"region\": \"Tarapac\\u00e1\", \"fallecidos\": 0, \"codigo region\": 1}, {\"date\": \"2020-04-21\", \"region\": \"Antofagasta\", \"fallecidos\": 1, \"codigo region\": 2}, {\"date\": \"2020-04-21\", \"region\": \"Atacama\", \"fallecidos\": 0, \"codigo region\": 3}, {\"date\": \"2020-04-21\", \"region\": \"Coquimbo\", \"fallecidos\": 0, \"codigo region\": 4}, {\"date\": \"2020-04-21\", \"region\": \"Valpara\\u00edso\", \"fallecidos\": 6, \"codigo region\": 5}, {\"date\": \"2020-04-21\", \"region\": \"Metropolitana\", \"fallecidos\": 69, \"codigo region\": 6}, {\"date\": \"2020-04-21\", \"region\": \"O\\u2019Higgins\", \"fallecidos\": 1, \"codigo region\": 7}, {\"date\": \"2020-04-21\", \"region\": \"Maule\", \"fallecidos\": 10, \"codigo region\": 8}, {\"date\": \"2020-04-21\", \"region\": \"\\u00d1uble\", \"fallecidos\": 13, \"codigo region\": 9}, {\"date\": \"2020-04-21\", \"region\": \"Biob\\u00edo\", \"fallecidos\": 4, \"codigo region\": 10}, {\"date\": \"2020-04-21\", \"region\": \"Araucan\\u00eda\", \"fallecidos\": 25, \"codigo region\": 11}, {\"date\": \"2020-04-21\", \"region\": \"Los R\\u00edos\", \"fallecidos\": 3, \"codigo region\": 12}, {\"date\": \"2020-04-21\", \"region\": \"Los Lagos\", \"fallecidos\": 6, \"codigo region\": 13}, {\"date\": \"2020-04-21\", \"region\": \"Ays\\u00e9n\", \"fallecidos\": 0, \"codigo region\": 14}, {\"date\": \"2020-04-21\", \"region\": \"Magallanes\", \"fallecidos\": 7, \"codigo region\": 15}, {\"date\": \"2020-04-22\", \"region\": \"Arica y Parinacota\", \"fallecidos\": 2, \"codigo region\": 0}, {\"date\": \"2020-04-22\", \"region\": \"Tarapac\\u00e1\", \"fallecidos\": 0, \"codigo region\": 1}, {\"date\": \"2020-04-22\", \"region\": \"Antofagasta\", \"fallecidos\": 2, \"codigo region\": 2}, {\"date\": \"2020-04-22\", \"region\": \"Atacama\", \"fallecidos\": 0, \"codigo region\": 3}, {\"date\": \"2020-04-22\", \"region\": \"Coquimbo\", \"fallecidos\": 0, \"codigo region\": 4}, {\"date\": \"2020-04-22\", \"region\": \"Valpara\\u00edso\", \"fallecidos\": 7, \"codigo region\": 5}, {\"date\": \"2020-04-22\", \"region\": \"Metropolitana\", \"fallecidos\": 78, \"codigo region\": 6}, {\"date\": \"2020-04-22\", \"region\": \"O\\u2019Higgins\", \"fallecidos\": 1, \"codigo region\": 7}, {\"date\": \"2020-04-22\", \"region\": \"Maule\", \"fallecidos\": 10, \"codigo region\": 8}, {\"date\": \"2020-04-22\", \"region\": \"\\u00d1uble\", \"fallecidos\": 13, \"codigo region\": 9}, {\"date\": \"2020-04-22\", \"region\": \"Biob\\u00edo\", \"fallecidos\": 5, \"codigo region\": 10}, {\"date\": \"2020-04-22\", \"region\": \"Araucan\\u00eda\", \"fallecidos\": 26, \"codigo region\": 11}, {\"date\": \"2020-04-22\", \"region\": \"Los R\\u00edos\", \"fallecidos\": 3, \"codigo region\": 12}, {\"date\": \"2020-04-22\", \"region\": \"Los Lagos\", \"fallecidos\": 6, \"codigo region\": 13}, {\"date\": \"2020-04-22\", \"region\": \"Ays\\u00e9n\", \"fallecidos\": 0, \"codigo region\": 14}, {\"date\": \"2020-04-22\", \"region\": \"Magallanes\", \"fallecidos\": 7, \"codigo region\": 15}, {\"date\": \"2020-04-23\", \"region\": \"Arica y Parinacota\", \"fallecidos\": 2, \"codigo region\": 0}, {\"date\": \"2020-04-23\", \"region\": \"Tarapac\\u00e1\", \"fallecidos\": 0, \"codigo region\": 1}, {\"date\": \"2020-04-23\", \"region\": \"Antofagasta\", \"fallecidos\": 2, \"codigo region\": 2}, {\"date\": \"2020-04-23\", \"region\": \"Atacama\", \"fallecidos\": 0, \"codigo region\": 3}, {\"date\": \"2020-04-23\", \"region\": \"Coquimbo\", \"fallecidos\": 0, \"codigo region\": 4}, {\"date\": \"2020-04-23\", \"region\": \"Valpara\\u00edso\", \"fallecidos\": 7, \"codigo region\": 5}, {\"date\": \"2020-04-23\", \"region\": \"Metropolitana\", \"fallecidos\": 85, \"codigo region\": 6}, {\"date\": \"2020-04-23\", \"region\": \"O\\u2019Higgins\", \"fallecidos\": 1, \"codigo region\": 7}, {\"date\": \"2020-04-23\", \"region\": \"Maule\", \"fallecidos\": 10, \"codigo region\": 8}, {\"date\": \"2020-04-23\", \"region\": \"\\u00d1uble\", \"fallecidos\": 13, \"codigo region\": 9}, {\"date\": \"2020-04-23\", \"region\": \"Biob\\u00edo\", \"fallecidos\": 5, \"codigo region\": 10}, {\"date\": \"2020-04-23\", \"region\": \"Araucan\\u00eda\", \"fallecidos\": 26, \"codigo region\": 11}, {\"date\": \"2020-04-23\", \"region\": \"Los R\\u00edos\", \"fallecidos\": 3, \"codigo region\": 12}, {\"date\": \"2020-04-23\", \"region\": \"Los Lagos\", \"fallecidos\": 7, \"codigo region\": 13}, {\"date\": \"2020-04-23\", \"region\": \"Ays\\u00e9n\", \"fallecidos\": 0, \"codigo region\": 14}, {\"date\": \"2020-04-23\", \"region\": \"Magallanes\", \"fallecidos\": 7, \"codigo region\": 15}, {\"date\": \"2020-04-24\", \"region\": \"Arica y Parinacota\", \"fallecidos\": 3, \"codigo region\": 0}, {\"date\": \"2020-04-24\", \"region\": \"Tarapac\\u00e1\", \"fallecidos\": 0, \"codigo region\": 1}, {\"date\": \"2020-04-24\", \"region\": \"Antofagasta\", \"fallecidos\": 2, \"codigo region\": 2}, {\"date\": \"2020-04-24\", \"region\": \"Atacama\", \"fallecidos\": 0, \"codigo region\": 3}, {\"date\": \"2020-04-24\", \"region\": \"Coquimbo\", \"fallecidos\": 0, \"codigo region\": 4}, {\"date\": \"2020-04-24\", \"region\": \"Valpara\\u00edso\", \"fallecidos\": 8, \"codigo region\": 5}, {\"date\": \"2020-04-24\", \"region\": \"Metropolitana\", \"fallecidos\": 86, \"codigo region\": 6}, {\"date\": \"2020-04-24\", \"region\": \"O\\u2019Higgins\", \"fallecidos\": 1, \"codigo region\": 7}, {\"date\": \"2020-04-24\", \"region\": \"Maule\", \"fallecidos\": 10, \"codigo region\": 8}, {\"date\": \"2020-04-24\", \"region\": \"\\u00d1uble\", \"fallecidos\": 14, \"codigo region\": 9}, {\"date\": \"2020-04-24\", \"region\": \"Biob\\u00edo\", \"fallecidos\": 5, \"codigo region\": 10}, {\"date\": \"2020-04-24\", \"region\": \"Araucan\\u00eda\", \"fallecidos\": 26, \"codigo region\": 11}, {\"date\": \"2020-04-24\", \"region\": \"Los R\\u00edos\", \"fallecidos\": 3, \"codigo region\": 12}, {\"date\": \"2020-04-24\", \"region\": \"Los Lagos\", \"fallecidos\": 8, \"codigo region\": 13}, {\"date\": \"2020-04-24\", \"region\": \"Ays\\u00e9n\", \"fallecidos\": 0, \"codigo region\": 14}, {\"date\": \"2020-04-24\", \"region\": \"Magallanes\", \"fallecidos\": 8, \"codigo region\": 15}, {\"date\": \"2020-04-25\", \"region\": \"Arica y Parinacota\", \"fallecidos\": 3, \"codigo region\": 0}, {\"date\": \"2020-04-25\", \"region\": \"Tarapac\\u00e1\", \"fallecidos\": 1, \"codigo region\": 1}, {\"date\": \"2020-04-25\", \"region\": \"Antofagasta\", \"fallecidos\": 3, \"codigo region\": 2}, {\"date\": \"2020-04-25\", \"region\": \"Atacama\", \"fallecidos\": 0, \"codigo region\": 3}, {\"date\": \"2020-04-25\", \"region\": \"Coquimbo\", \"fallecidos\": 0, \"codigo region\": 4}, {\"date\": \"2020-04-25\", \"region\": \"Valpara\\u00edso\", \"fallecidos\": 9, \"codigo region\": 5}, {\"date\": \"2020-04-25\", \"region\": \"Metropolitana\", \"fallecidos\": 89, \"codigo region\": 6}, {\"date\": \"2020-04-25\", \"region\": \"O\\u2019Higgins\", \"fallecidos\": 1, \"codigo region\": 7}, {\"date\": \"2020-04-25\", \"region\": \"Maule\", \"fallecidos\": 10, \"codigo region\": 8}, {\"date\": \"2020-04-25\", \"region\": \"\\u00d1uble\", \"fallecidos\": 14, \"codigo region\": 9}, {\"date\": \"2020-04-25\", \"region\": \"Biob\\u00edo\", \"fallecidos\": 5, \"codigo region\": 10}, {\"date\": \"2020-04-25\", \"region\": \"Araucan\\u00eda\", \"fallecidos\": 27, \"codigo region\": 11}, {\"date\": \"2020-04-25\", \"region\": \"Los R\\u00edos\", \"fallecidos\": 3, \"codigo region\": 12}, {\"date\": \"2020-04-25\", \"region\": \"Los Lagos\", \"fallecidos\": 8, \"codigo region\": 13}, {\"date\": \"2020-04-25\", \"region\": \"Ays\\u00e9n\", \"fallecidos\": 0, \"codigo region\": 14}, {\"date\": \"2020-04-25\", \"region\": \"Magallanes\", \"fallecidos\": 8, \"codigo region\": 15}, {\"date\": \"2020-04-26\", \"region\": \"Arica y Parinacota\", \"fallecidos\": 3, \"codigo region\": 0}, {\"date\": \"2020-04-26\", \"region\": \"Tarapac\\u00e1\", \"fallecidos\": 1, \"codigo region\": 1}, {\"date\": \"2020-04-26\", \"region\": \"Antofagasta\", \"fallecidos\": 4, \"codigo region\": 2}, {\"date\": \"2020-04-26\", \"region\": \"Atacama\", \"fallecidos\": 0, \"codigo region\": 3}, {\"date\": \"2020-04-26\", \"region\": \"Coquimbo\", \"fallecidos\": 0, \"codigo region\": 4}, {\"date\": \"2020-04-26\", \"region\": \"Valpara\\u00edso\", \"fallecidos\": 9, \"codigo region\": 5}, {\"date\": \"2020-04-26\", \"region\": \"Metropolitana\", \"fallecidos\": 91, \"codigo region\": 6}, {\"date\": \"2020-04-26\", \"region\": \"O\\u2019Higgins\", \"fallecidos\": 1, \"codigo region\": 7}, {\"date\": \"2020-04-26\", \"region\": \"Maule\", \"fallecidos\": 11, \"codigo region\": 8}, {\"date\": \"2020-04-26\", \"region\": \"\\u00d1uble\", \"fallecidos\": 14, \"codigo region\": 9}, {\"date\": \"2020-04-26\", \"region\": \"Biob\\u00edo\", \"fallecidos\": 6, \"codigo region\": 10}, {\"date\": \"2020-04-26\", \"region\": \"Araucan\\u00eda\", \"fallecidos\": 29, \"codigo region\": 11}, {\"date\": \"2020-04-26\", \"region\": \"Los R\\u00edos\", \"fallecidos\": 3, \"codigo region\": 12}, {\"date\": \"2020-04-26\", \"region\": \"Los Lagos\", \"fallecidos\": 8, \"codigo region\": 13}, {\"date\": \"2020-04-26\", \"region\": \"Ays\\u00e9n\", \"fallecidos\": 0, \"codigo region\": 14}, {\"date\": \"2020-04-26\", \"region\": \"Magallanes\", \"fallecidos\": 9, \"codigo region\": 15}, {\"date\": \"2020-04-27\", \"region\": \"Arica y Parinacota\", \"fallecidos\": 3, \"codigo region\": 0}, {\"date\": \"2020-04-27\", \"region\": \"Tarapac\\u00e1\", \"fallecidos\": 1, \"codigo region\": 1}, {\"date\": \"2020-04-27\", \"region\": \"Antofagasta\", \"fallecidos\": 4, \"codigo region\": 2}, {\"date\": \"2020-04-27\", \"region\": \"Atacama\", \"fallecidos\": 0, \"codigo region\": 3}, {\"date\": \"2020-04-27\", \"region\": \"Coquimbo\", \"fallecidos\": 0, \"codigo region\": 4}, {\"date\": \"2020-04-27\", \"region\": \"Valpara\\u00edso\", \"fallecidos\": 9, \"codigo region\": 5}, {\"date\": \"2020-04-27\", \"region\": \"Metropolitana\", \"fallecidos\": 95, \"codigo region\": 6}, {\"date\": \"2020-04-27\", \"region\": \"O\\u2019Higgins\", \"fallecidos\": 1, \"codigo region\": 7}, {\"date\": \"2020-04-27\", \"region\": \"Maule\", \"fallecidos\": 12, \"codigo region\": 8}, {\"date\": \"2020-04-27\", \"region\": \"\\u00d1uble\", \"fallecidos\": 14, \"codigo region\": 9}, {\"date\": \"2020-04-27\", \"region\": \"Biob\\u00edo\", \"fallecidos\": 6, \"codigo region\": 10}, {\"date\": \"2020-04-27\", \"region\": \"Araucan\\u00eda\", \"fallecidos\": 32, \"codigo region\": 11}, {\"date\": \"2020-04-27\", \"region\": \"Los R\\u00edos\", \"fallecidos\": 3, \"codigo region\": 12}, {\"date\": \"2020-04-27\", \"region\": \"Los Lagos\", \"fallecidos\": 8, \"codigo region\": 13}, {\"date\": \"2020-04-27\", \"region\": \"Ays\\u00e9n\", \"fallecidos\": 0, \"codigo region\": 14}, {\"date\": \"2020-04-27\", \"region\": \"Magallanes\", \"fallecidos\": 10, \"codigo region\": 15}]}}, {\"mode\": \"vega-lite\"});\n",
       "</script>"
      ],
      "text/plain": [
       "alt.HConcatChart(...)"
      ]
     },
     "execution_count": 31,
     "metadata": {},
     "output_type": "execute_result"
    }
   ],
   "source": [
    "#hide_input\n",
    "\n",
    "input_dropdown = alt.binding_select(options=new_data['region'].unique())\n",
    "selection1 = alt.selection_single(fields=['region'], bind=input_dropdown, name=' ')\n",
    "selection2 = alt.selection_multi(fields=['region'], on='mouseover')\n",
    "\n",
    "color = alt.condition(selection1 | selection2,\n",
    "                    alt.Color('region:N', scale=alt.Scale(scheme='tableau20'), legend=None),\n",
    "                    alt.value('lightgray'))\n",
    "\n",
    "bars = alt.Chart(new_data).mark_bar().encode(\n",
    "    x=alt.X('date:O', axis=alt.Axis(title='Date')),\n",
    "    y=alt.Y('fallecidos', axis=alt.Axis(title='Confirmed deaths')),\n",
    "    color=color,\n",
    "    tooltip=['date', 'region', 'fallecidos'],\n",
    "    order=alt.Order(\n",
    "    # Sort the segments of the bars by this field\n",
    "    'codigo region',\n",
    "    sort='descending'\n",
    "    )\n",
    "    ).properties(\n",
    "    title='COVID-19 in Chile: Total confirmed deaths by region'\n",
    ").add_selection(\n",
    "    selection1, selection2\n",
    ").transform_filter(\n",
    "    selection1\n",
    ")\n",
    "\n",
    "legend = alt.Chart(new_data).mark_point().encode(\n",
    "    y=alt.Y('region:N', axis=alt.Axis(orient='right'), sort=regiones),\n",
    "    color=color\n",
    ").add_selection(\n",
    "    selection1, selection2\n",
    ")\n",
    "\n",
    "bars.properties(width=600, height=400) | legend"
   ]
  },
  {
   "cell_type": "code",
   "execution_count": 32,
   "metadata": {
    "execution": {
     "iopub.execute_input": "2020-04-28T12:16:39.755896Z",
     "iopub.status.busy": "2020-04-28T12:16:39.755288Z",
     "iopub.status.idle": "2020-04-28T12:16:39.757523Z",
     "shell.execute_reply": "2020-04-28T12:16:39.757012Z"
    },
    "papermill": {
     "duration": 0.089843,
     "end_time": "2020-04-28T12:16:39.757630",
     "exception": false,
     "start_time": "2020-04-28T12:16:39.667787",
     "status": "completed"
    },
    "tags": []
   },
   "outputs": [],
   "source": [
    "#hide\n",
    "# Window size cases\n",
    "WS_cases = 7"
   ]
  },
  {
   "cell_type": "code",
   "execution_count": 33,
   "metadata": {
    "execution": {
     "iopub.execute_input": "2020-04-28T12:16:39.937439Z",
     "iopub.status.busy": "2020-04-28T12:16:39.933316Z",
     "iopub.status.idle": "2020-04-28T12:16:39.939369Z",
     "shell.execute_reply": "2020-04-28T12:16:39.939951Z"
    },
    "papermill": {
     "duration": 0.099314,
     "end_time": "2020-04-28T12:16:39.940088",
     "exception": false,
     "start_time": "2020-04-28T12:16:39.840774",
     "status": "completed"
    },
    "scrolled": true,
    "tags": []
   },
   "outputs": [],
   "source": [
    "#hide\n",
    "def my_cases_plot(region):\n",
    "    aux1 = casos_raw.loc[region]\n",
    "    aux2 = [t - s for s, t in zip(aux1, aux1.loc['2020-03-04':])]\n",
    "    # Create the dataframe\n",
    "    new_cases = pd.DataFrame()\n",
    "    new_cases[\"Date\"] = casos_raw.loc[region].reset_index()[\"index\"].iloc[1:].values\n",
    "    new_cases[\"Confirmed cases\"] = aux2\n",
    "    new_cases[\"Rolling\"] = new_cases[\"Confirmed cases\"].rolling(window=WS_cases).mean()\n",
    "    new_cases[\"Daily confirmed cases\"] = len(new_cases) * [\"Daily confirmed cases\"]\n",
    "    new_cases[\"7-day rolling average\"] = len(new_cases) * [\"7-day rolling average\"]\n",
    "    # Make the plot\n",
    "    bars = alt.Chart(new_cases).mark_bar(opacity=0.7).encode(\n",
    "        x = alt.X('Date:N', axis=alt.Axis(title='Date')),\n",
    "        y = alt.Y('Confirmed cases:Q', axis=alt.Axis(title='Daily confirmed cases')),\n",
    "        tooltip = ['Date', 'Confirmed cases'],\n",
    "        opacity=alt.Opacity('Daily confirmed cases', legend=alt.Legend(title=\"\"))\n",
    "    )\n",
    "\n",
    "    line = alt.Chart(new_cases).mark_line(point={\n",
    "        \"filled\": True,\n",
    "        \"fill\": \"#1f77b4\"\n",
    "    }, color=\"#1f77b4\").encode(\n",
    "        x=alt.X('Date:N', axis=alt.Axis(title='Date')),\n",
    "        y = alt.Y('Rolling:Q'),\n",
    "        shape=alt.Shape('7-day rolling average', legend=alt.Legend(title=\"\"))\n",
    "    )\n",
    "    return bars, line"
   ]
  },
  {
   "cell_type": "markdown",
   "metadata": {
    "papermill": {
     "duration": 0.084384,
     "end_time": "2020-04-28T12:16:40.109530",
     "exception": false,
     "start_time": "2020-04-28T12:16:40.025146",
     "status": "completed"
    },
    "tags": []
   },
   "source": [
    "Data source: [Science Ministry](https://github.com/MinCiencia/Datos-COVID19)."
   ]
  },
  {
   "cell_type": "markdown",
   "metadata": {
    "papermill": {
     "duration": 0.083171,
     "end_time": "2020-04-28T12:16:40.275579",
     "exception": false,
     "start_time": "2020-04-28T12:16:40.192408",
     "status": "completed"
    },
    "tags": []
   },
   "source": [
    "# Daily confirmed cases"
   ]
  },
  {
   "cell_type": "markdown",
   "metadata": {
    "papermill": {
     "duration": 0.087438,
     "end_time": "2020-04-28T12:16:40.446258",
     "exception": false,
     "start_time": "2020-04-28T12:16:40.358820",
     "status": "completed"
    },
    "tags": []
   },
   "source": [
    "## Chile"
   ]
  },
  {
   "cell_type": "code",
   "execution_count": 34,
   "metadata": {
    "execution": {
     "iopub.execute_input": "2020-04-28T12:16:40.622309Z",
     "iopub.status.busy": "2020-04-28T12:16:40.621642Z",
     "iopub.status.idle": "2020-04-28T12:16:40.623283Z",
     "shell.execute_reply": "2020-04-28T12:16:40.623768Z"
    },
    "papermill": {
     "duration": 0.093442,
     "end_time": "2020-04-28T12:16:40.623899",
     "exception": false,
     "start_time": "2020-04-28T12:16:40.530457",
     "status": "completed"
    },
    "scrolled": true,
    "tags": []
   },
   "outputs": [],
   "source": [
    "#hide\n",
    "region = \"Total\""
   ]
  },
  {
   "cell_type": "code",
   "execution_count": 35,
   "metadata": {
    "execution": {
     "iopub.execute_input": "2020-04-28T12:16:40.820638Z",
     "iopub.status.busy": "2020-04-28T12:16:40.815391Z",
     "iopub.status.idle": "2020-04-28T12:16:40.842304Z",
     "shell.execute_reply": "2020-04-28T12:16:40.841338Z"
    },
    "papermill": {
     "duration": 0.132901,
     "end_time": "2020-04-28T12:16:40.842424",
     "exception": false,
     "start_time": "2020-04-28T12:16:40.709523",
     "status": "completed"
    },
    "tags": []
   },
   "outputs": [
    {
     "data": {
      "text/html": [
       "\n",
       "<div id=\"altair-viz-1f4f5b70f2044a58b3fef3c3e9cd0afe\"></div>\n",
       "<script type=\"text/javascript\">\n",
       "  (function(spec, embedOpt){\n",
       "    let outputDiv = document.currentScript.previousElementSibling;\n",
       "    if (outputDiv.id !== \"altair-viz-1f4f5b70f2044a58b3fef3c3e9cd0afe\") {\n",
       "      outputDiv = document.getElementById(\"altair-viz-1f4f5b70f2044a58b3fef3c3e9cd0afe\");\n",
       "    }\n",
       "    const paths = {\n",
       "      \"vega\": \"https://cdn.jsdelivr.net/npm//vega@5?noext\",\n",
       "      \"vega-lib\": \"https://cdn.jsdelivr.net/npm//vega-lib?noext\",\n",
       "      \"vega-lite\": \"https://cdn.jsdelivr.net/npm//vega-lite@4.8.1?noext\",\n",
       "      \"vega-embed\": \"https://cdn.jsdelivr.net/npm//vega-embed@6?noext\",\n",
       "    };\n",
       "\n",
       "    function loadScript(lib) {\n",
       "      return new Promise(function(resolve, reject) {\n",
       "        var s = document.createElement('script');\n",
       "        s.src = paths[lib];\n",
       "        s.async = true;\n",
       "        s.onload = () => resolve(paths[lib]);\n",
       "        s.onerror = () => reject(`Error loading script: ${paths[lib]}`);\n",
       "        document.getElementsByTagName(\"head\")[0].appendChild(s);\n",
       "      });\n",
       "    }\n",
       "\n",
       "    function showError(err) {\n",
       "      outputDiv.innerHTML = `<div class=\"error\" style=\"color:red;\">${err}</div>`;\n",
       "      throw err;\n",
       "    }\n",
       "\n",
       "    function displayChart(vegaEmbed) {\n",
       "      vegaEmbed(outputDiv, spec, embedOpt)\n",
       "        .catch(err => showError(`Javascript Error: ${err.message}<br>This usually means there's a typo in your chart specification. See the javascript console for the full traceback.`));\n",
       "    }\n",
       "\n",
       "    if(typeof define === \"function\" && define.amd) {\n",
       "      requirejs.config({paths});\n",
       "      require([\"vega-embed\"], displayChart, err => showError(`Error loading script: ${err.message}`));\n",
       "    } else if (typeof vegaEmbed === \"function\") {\n",
       "      displayChart(vegaEmbed);\n",
       "    } else {\n",
       "      loadScript(\"vega\")\n",
       "        .then(() => loadScript(\"vega-lite\"))\n",
       "        .then(() => loadScript(\"vega-embed\"))\n",
       "        .catch(showError)\n",
       "        .then(() => displayChart(vegaEmbed));\n",
       "    }\n",
       "  })({\"config\": {\"view\": {\"continuousWidth\": 400, \"continuousHeight\": 300}}, \"layer\": [{\"mark\": {\"type\": \"bar\", \"opacity\": 0.7}, \"encoding\": {\"opacity\": {\"type\": \"nominal\", \"field\": \"Daily confirmed cases\", \"legend\": {\"title\": \"\"}}, \"tooltip\": [{\"type\": \"nominal\", \"field\": \"Date\"}, {\"type\": \"quantitative\", \"field\": \"Confirmed cases\"}], \"x\": {\"type\": \"nominal\", \"axis\": {\"title\": \"Date\"}, \"field\": \"Date\"}, \"y\": {\"type\": \"quantitative\", \"axis\": {\"title\": \"Daily confirmed cases\"}, \"field\": \"Confirmed cases\"}}}, {\"mark\": {\"type\": \"line\", \"color\": \"#1f77b4\", \"point\": {\"filled\": true, \"fill\": \"#1f77b4\"}}, \"encoding\": {\"shape\": {\"type\": \"nominal\", \"field\": \"7-day rolling average\", \"legend\": {\"title\": \"\"}}, \"x\": {\"type\": \"nominal\", \"axis\": {\"title\": \"Date\"}, \"field\": \"Date\"}, \"y\": {\"type\": \"quantitative\", \"field\": \"Rolling\"}}}], \"data\": {\"name\": \"data-d8695ade044e6790c6c8f138b27bd63c\"}, \"title\": \"COVID-19 in Chile: Daily confirmed cases in Chile\", \"width\": 600, \"$schema\": \"https://vega.github.io/schema/vega-lite/v4.8.1.json\", \"datasets\": {\"data-d8695ade044e6790c6c8f138b27bd63c\": [{\"Date\": \"2020-03-04\", \"Confirmed cases\": 2, \"Rolling\": null, \"Daily confirmed cases\": \"Daily confirmed cases\", \"7-day rolling average\": \"7-day rolling average\"}, {\"Date\": \"2020-03-05\", \"Confirmed cases\": 1, \"Rolling\": null, \"Daily confirmed cases\": \"Daily confirmed cases\", \"7-day rolling average\": \"7-day rolling average\"}, {\"Date\": \"2020-03-06\", \"Confirmed cases\": 1, \"Rolling\": null, \"Daily confirmed cases\": \"Daily confirmed cases\", \"7-day rolling average\": \"7-day rolling average\"}, {\"Date\": \"2020-03-07\", \"Confirmed cases\": 2, \"Rolling\": null, \"Daily confirmed cases\": \"Daily confirmed cases\", \"7-day rolling average\": \"7-day rolling average\"}, {\"Date\": \"2020-03-08\", \"Confirmed cases\": 3, \"Rolling\": null, \"Daily confirmed cases\": \"Daily confirmed cases\", \"7-day rolling average\": \"7-day rolling average\"}, {\"Date\": \"2020-03-09\", \"Confirmed cases\": 5, \"Rolling\": null, \"Daily confirmed cases\": \"Daily confirmed cases\", \"7-day rolling average\": \"7-day rolling average\"}, {\"Date\": \"2020-03-10\", \"Confirmed cases\": 2, \"Rolling\": 2.2857142857142856, \"Daily confirmed cases\": \"Daily confirmed cases\", \"7-day rolling average\": \"7-day rolling average\"}, {\"Date\": \"2020-03-11\", \"Confirmed cases\": 6, \"Rolling\": 2.857142857142857, \"Daily confirmed cases\": \"Daily confirmed cases\", \"7-day rolling average\": \"7-day rolling average\"}, {\"Date\": \"2020-03-12\", \"Confirmed cases\": 10, \"Rolling\": 4.142857142857143, \"Daily confirmed cases\": \"Daily confirmed cases\", \"7-day rolling average\": \"7-day rolling average\"}, {\"Date\": \"2020-03-13\", \"Confirmed cases\": 10, \"Rolling\": 5.428571428571429, \"Daily confirmed cases\": \"Daily confirmed cases\", \"7-day rolling average\": \"7-day rolling average\"}, {\"Date\": \"2020-03-14\", \"Confirmed cases\": 18, \"Rolling\": 7.714285714285714, \"Daily confirmed cases\": \"Daily confirmed cases\", \"7-day rolling average\": \"7-day rolling average\"}, {\"Date\": \"2020-03-15\", \"Confirmed cases\": 14, \"Rolling\": 9.285714285714286, \"Daily confirmed cases\": \"Daily confirmed cases\", \"7-day rolling average\": \"7-day rolling average\"}, {\"Date\": \"2020-03-16\", \"Confirmed cases\": 81, \"Rolling\": 20.142857142857142, \"Daily confirmed cases\": \"Daily confirmed cases\", \"7-day rolling average\": \"7-day rolling average\"}, {\"Date\": \"2020-03-17\", \"Confirmed cases\": 45, \"Rolling\": 26.285714285714285, \"Daily confirmed cases\": \"Daily confirmed cases\", \"7-day rolling average\": \"7-day rolling average\"}, {\"Date\": \"2020-03-18\", \"Confirmed cases\": 37, \"Rolling\": 30.714285714285715, \"Daily confirmed cases\": \"Daily confirmed cases\", \"7-day rolling average\": \"7-day rolling average\"}, {\"Date\": \"2020-03-19\", \"Confirmed cases\": 104, \"Rolling\": 44.142857142857146, \"Daily confirmed cases\": \"Daily confirmed cases\", \"7-day rolling average\": \"7-day rolling average\"}, {\"Date\": \"2020-03-20\", \"Confirmed cases\": 92, \"Rolling\": 55.857142857142854, \"Daily confirmed cases\": \"Daily confirmed cases\", \"7-day rolling average\": \"7-day rolling average\"}, {\"Date\": \"2020-03-21\", \"Confirmed cases\": 103, \"Rolling\": 68.0, \"Daily confirmed cases\": \"Daily confirmed cases\", \"7-day rolling average\": \"7-day rolling average\"}, {\"Date\": \"2020-03-22\", \"Confirmed cases\": 95, \"Rolling\": 79.57142857142857, \"Daily confirmed cases\": \"Daily confirmed cases\", \"7-day rolling average\": \"7-day rolling average\"}, {\"Date\": \"2020-03-23\", \"Confirmed cases\": 114, \"Rolling\": 84.28571428571429, \"Daily confirmed cases\": \"Daily confirmed cases\", \"7-day rolling average\": \"7-day rolling average\"}, {\"Date\": \"2020-03-24\", \"Confirmed cases\": 176, \"Rolling\": 103.0, \"Daily confirmed cases\": \"Daily confirmed cases\", \"7-day rolling average\": \"7-day rolling average\"}, {\"Date\": \"2020-03-25\", \"Confirmed cases\": 220, \"Rolling\": 129.14285714285714, \"Daily confirmed cases\": \"Daily confirmed cases\", \"7-day rolling average\": \"7-day rolling average\"}, {\"Date\": \"2020-03-26\", \"Confirmed cases\": 164, \"Rolling\": 137.71428571428572, \"Daily confirmed cases\": \"Daily confirmed cases\", \"7-day rolling average\": \"7-day rolling average\"}, {\"Date\": \"2020-03-27\", \"Confirmed cases\": 304, \"Rolling\": 168.0, \"Daily confirmed cases\": \"Daily confirmed cases\", \"7-day rolling average\": \"7-day rolling average\"}, {\"Date\": \"2020-03-28\", \"Confirmed cases\": 299, \"Rolling\": 196.0, \"Daily confirmed cases\": \"Daily confirmed cases\", \"7-day rolling average\": \"7-day rolling average\"}, {\"Date\": \"2020-03-29\", \"Confirmed cases\": 230, \"Rolling\": 215.28571428571428, \"Daily confirmed cases\": \"Daily confirmed cases\", \"7-day rolling average\": \"7-day rolling average\"}, {\"Date\": \"2020-03-30\", \"Confirmed cases\": 310, \"Rolling\": 243.28571428571428, \"Daily confirmed cases\": \"Daily confirmed cases\", \"7-day rolling average\": \"7-day rolling average\"}, {\"Date\": \"2020-03-31\", \"Confirmed cases\": 289, \"Rolling\": 259.42857142857144, \"Daily confirmed cases\": \"Daily confirmed cases\", \"7-day rolling average\": \"7-day rolling average\"}, {\"Date\": \"2020-04-01\", \"Confirmed cases\": 293, \"Rolling\": 269.85714285714283, \"Daily confirmed cases\": \"Daily confirmed cases\", \"7-day rolling average\": \"7-day rolling average\"}, {\"Date\": \"2020-04-02\", \"Confirmed cases\": 373, \"Rolling\": 299.7142857142857, \"Daily confirmed cases\": \"Daily confirmed cases\", \"7-day rolling average\": \"7-day rolling average\"}, {\"Date\": \"2020-04-03\", \"Confirmed cases\": 333, \"Rolling\": 303.85714285714283, \"Daily confirmed cases\": \"Daily confirmed cases\", \"7-day rolling average\": \"7-day rolling average\"}, {\"Date\": \"2020-04-04\", \"Confirmed cases\": 424, \"Rolling\": 321.7142857142857, \"Daily confirmed cases\": \"Daily confirmed cases\", \"7-day rolling average\": \"7-day rolling average\"}, {\"Date\": \"2020-04-05\", \"Confirmed cases\": 310, \"Rolling\": 333.14285714285717, \"Daily confirmed cases\": \"Daily confirmed cases\", \"7-day rolling average\": \"7-day rolling average\"}, {\"Date\": \"2020-04-06\", \"Confirmed cases\": 344, \"Rolling\": 338.0, \"Daily confirmed cases\": \"Daily confirmed cases\", \"7-day rolling average\": \"7-day rolling average\"}, {\"Date\": \"2020-04-07\", \"Confirmed cases\": 301, \"Rolling\": 339.7142857142857, \"Daily confirmed cases\": \"Daily confirmed cases\", \"7-day rolling average\": \"7-day rolling average\"}, {\"Date\": \"2020-04-08\", \"Confirmed cases\": 430, \"Rolling\": 359.2857142857143, \"Daily confirmed cases\": \"Daily confirmed cases\", \"7-day rolling average\": \"7-day rolling average\"}, {\"Date\": \"2020-04-09\", \"Confirmed cases\": 426, \"Rolling\": 366.85714285714283, \"Daily confirmed cases\": \"Daily confirmed cases\", \"7-day rolling average\": \"7-day rolling average\"}, {\"Date\": \"2020-04-10\", \"Confirmed cases\": 529, \"Rolling\": 394.85714285714283, \"Daily confirmed cases\": \"Daily confirmed cases\", \"7-day rolling average\": \"7-day rolling average\"}, {\"Date\": \"2020-04-11\", \"Confirmed cases\": 426, \"Rolling\": 395.14285714285717, \"Daily confirmed cases\": \"Daily confirmed cases\", \"7-day rolling average\": \"7-day rolling average\"}, {\"Date\": \"2020-04-12\", \"Confirmed cases\": 286, \"Rolling\": 391.7142857142857, \"Daily confirmed cases\": \"Daily confirmed cases\", \"7-day rolling average\": \"7-day rolling average\"}, {\"Date\": \"2020-04-13\", \"Confirmed cases\": 312, \"Rolling\": 387.14285714285717, \"Daily confirmed cases\": \"Daily confirmed cases\", \"7-day rolling average\": \"7-day rolling average\"}, {\"Date\": \"2020-04-14\", \"Confirmed cases\": 392, \"Rolling\": 400.14285714285717, \"Daily confirmed cases\": \"Daily confirmed cases\", \"7-day rolling average\": \"7-day rolling average\"}, {\"Date\": \"2020-04-15\", \"Confirmed cases\": 356, \"Rolling\": 389.57142857142856, \"Daily confirmed cases\": \"Daily confirmed cases\", \"7-day rolling average\": \"7-day rolling average\"}, {\"Date\": \"2020-04-16\", \"Confirmed cases\": 534, \"Rolling\": 405.0, \"Daily confirmed cases\": \"Daily confirmed cases\", \"7-day rolling average\": \"7-day rolling average\"}, {\"Date\": \"2020-04-17\", \"Confirmed cases\": 445, \"Rolling\": 393.0, \"Daily confirmed cases\": \"Daily confirmed cases\", \"7-day rolling average\": \"7-day rolling average\"}, {\"Date\": \"2020-04-18\", \"Confirmed cases\": 478, \"Rolling\": 400.42857142857144, \"Daily confirmed cases\": \"Daily confirmed cases\", \"7-day rolling average\": \"7-day rolling average\"}, {\"Date\": \"2020-04-19\", \"Confirmed cases\": 358, \"Rolling\": 410.7142857142857, \"Daily confirmed cases\": \"Daily confirmed cases\", \"7-day rolling average\": \"7-day rolling average\"}, {\"Date\": \"2020-04-20\", \"Confirmed cases\": 419, \"Rolling\": 426.0, \"Daily confirmed cases\": \"Daily confirmed cases\", \"7-day rolling average\": \"7-day rolling average\"}, {\"Date\": \"2020-04-21\", \"Confirmed cases\": 325, \"Rolling\": 416.42857142857144, \"Daily confirmed cases\": \"Daily confirmed cases\", \"7-day rolling average\": \"7-day rolling average\"}, {\"Date\": \"2020-04-22\", \"Confirmed cases\": 464, \"Rolling\": 431.85714285714283, \"Daily confirmed cases\": \"Daily confirmed cases\", \"7-day rolling average\": \"7-day rolling average\"}, {\"Date\": \"2020-04-23\", \"Confirmed cases\": 516, \"Rolling\": 429.2857142857143, \"Daily confirmed cases\": \"Daily confirmed cases\", \"7-day rolling average\": \"7-day rolling average\"}, {\"Date\": \"2020-04-24\", \"Confirmed cases\": 494, \"Rolling\": 436.2857142857143, \"Daily confirmed cases\": \"Daily confirmed cases\", \"7-day rolling average\": \"7-day rolling average\"}, {\"Date\": \"2020-04-25\", \"Confirmed cases\": 552, \"Rolling\": 446.85714285714283, \"Daily confirmed cases\": \"Daily confirmed cases\", \"7-day rolling average\": \"7-day rolling average\"}, {\"Date\": \"2020-04-26\", \"Confirmed cases\": 473, \"Rolling\": 463.2857142857143, \"Daily confirmed cases\": \"Daily confirmed cases\", \"7-day rolling average\": \"7-day rolling average\"}, {\"Date\": \"2020-04-27\", \"Confirmed cases\": 482, \"Rolling\": 472.2857142857143, \"Daily confirmed cases\": \"Daily confirmed cases\", \"7-day rolling average\": \"7-day rolling average\"}, {\"Date\": \"2020-04-28\", \"Confirmed cases\": 552, \"Rolling\": 504.7142857142857, \"Daily confirmed cases\": \"Daily confirmed cases\", \"7-day rolling average\": \"7-day rolling average\"}]}}, {\"mode\": \"vega-lite\"});\n",
       "</script>"
      ],
      "text/plain": [
       "alt.LayerChart(...)"
      ]
     },
     "execution_count": 35,
     "metadata": {},
     "output_type": "execute_result"
    }
   ],
   "source": [
    "#hide_input\n",
    "bars, line = my_cases_plot(region)\n",
    "(bars + line).properties(\n",
    "    title=f'COVID-19 in Chile: Daily confirmed cases in Chile',\n",
    "    width=600\n",
    ")"
   ]
  },
  {
   "cell_type": "markdown",
   "metadata": {
    "papermill": {
     "duration": 0.090664,
     "end_time": "2020-04-28T12:16:41.018782",
     "exception": false,
     "start_time": "2020-04-28T12:16:40.928118",
     "status": "completed"
    },
    "tags": []
   },
   "source": [
    "## Arica y Parinacota"
   ]
  },
  {
   "cell_type": "code",
   "execution_count": 36,
   "metadata": {
    "execution": {
     "iopub.execute_input": "2020-04-28T12:16:41.194107Z",
     "iopub.status.busy": "2020-04-28T12:16:41.193429Z",
     "iopub.status.idle": "2020-04-28T12:16:41.196723Z",
     "shell.execute_reply": "2020-04-28T12:16:41.196092Z"
    },
    "papermill": {
     "duration": 0.092551,
     "end_time": "2020-04-28T12:16:41.196835",
     "exception": false,
     "start_time": "2020-04-28T12:16:41.104284",
     "status": "completed"
    },
    "tags": []
   },
   "outputs": [],
   "source": [
    "#hide\n",
    "region = \"Arica y Parinacota\""
   ]
  },
  {
   "cell_type": "code",
   "execution_count": 37,
   "metadata": {
    "execution": {
     "iopub.execute_input": "2020-04-28T12:16:41.400097Z",
     "iopub.status.busy": "2020-04-28T12:16:41.394360Z",
     "iopub.status.idle": "2020-04-28T12:16:41.416884Z",
     "shell.execute_reply": "2020-04-28T12:16:41.417408Z"
    },
    "papermill": {
     "duration": 0.134866,
     "end_time": "2020-04-28T12:16:41.417547",
     "exception": false,
     "start_time": "2020-04-28T12:16:41.282681",
     "status": "completed"
    },
    "tags": []
   },
   "outputs": [
    {
     "data": {
      "text/html": [
       "\n",
       "<div id=\"altair-viz-8cecf5366f5441f0a6986f8d1f21d786\"></div>\n",
       "<script type=\"text/javascript\">\n",
       "  (function(spec, embedOpt){\n",
       "    let outputDiv = document.currentScript.previousElementSibling;\n",
       "    if (outputDiv.id !== \"altair-viz-8cecf5366f5441f0a6986f8d1f21d786\") {\n",
       "      outputDiv = document.getElementById(\"altair-viz-8cecf5366f5441f0a6986f8d1f21d786\");\n",
       "    }\n",
       "    const paths = {\n",
       "      \"vega\": \"https://cdn.jsdelivr.net/npm//vega@5?noext\",\n",
       "      \"vega-lib\": \"https://cdn.jsdelivr.net/npm//vega-lib?noext\",\n",
       "      \"vega-lite\": \"https://cdn.jsdelivr.net/npm//vega-lite@4.8.1?noext\",\n",
       "      \"vega-embed\": \"https://cdn.jsdelivr.net/npm//vega-embed@6?noext\",\n",
       "    };\n",
       "\n",
       "    function loadScript(lib) {\n",
       "      return new Promise(function(resolve, reject) {\n",
       "        var s = document.createElement('script');\n",
       "        s.src = paths[lib];\n",
       "        s.async = true;\n",
       "        s.onload = () => resolve(paths[lib]);\n",
       "        s.onerror = () => reject(`Error loading script: ${paths[lib]}`);\n",
       "        document.getElementsByTagName(\"head\")[0].appendChild(s);\n",
       "      });\n",
       "    }\n",
       "\n",
       "    function showError(err) {\n",
       "      outputDiv.innerHTML = `<div class=\"error\" style=\"color:red;\">${err}</div>`;\n",
       "      throw err;\n",
       "    }\n",
       "\n",
       "    function displayChart(vegaEmbed) {\n",
       "      vegaEmbed(outputDiv, spec, embedOpt)\n",
       "        .catch(err => showError(`Javascript Error: ${err.message}<br>This usually means there's a typo in your chart specification. See the javascript console for the full traceback.`));\n",
       "    }\n",
       "\n",
       "    if(typeof define === \"function\" && define.amd) {\n",
       "      requirejs.config({paths});\n",
       "      require([\"vega-embed\"], displayChart, err => showError(`Error loading script: ${err.message}`));\n",
       "    } else if (typeof vegaEmbed === \"function\") {\n",
       "      displayChart(vegaEmbed);\n",
       "    } else {\n",
       "      loadScript(\"vega\")\n",
       "        .then(() => loadScript(\"vega-lite\"))\n",
       "        .then(() => loadScript(\"vega-embed\"))\n",
       "        .catch(showError)\n",
       "        .then(() => displayChart(vegaEmbed));\n",
       "    }\n",
       "  })({\"config\": {\"view\": {\"continuousWidth\": 400, \"continuousHeight\": 300}}, \"layer\": [{\"mark\": {\"type\": \"bar\", \"opacity\": 0.7}, \"encoding\": {\"opacity\": {\"type\": \"nominal\", \"field\": \"Daily confirmed cases\", \"legend\": {\"title\": \"\"}}, \"tooltip\": [{\"type\": \"nominal\", \"field\": \"Date\"}, {\"type\": \"quantitative\", \"field\": \"Confirmed cases\"}], \"x\": {\"type\": \"nominal\", \"axis\": {\"title\": \"Date\"}, \"field\": \"Date\"}, \"y\": {\"type\": \"quantitative\", \"axis\": {\"title\": \"Daily confirmed cases\"}, \"field\": \"Confirmed cases\"}}}, {\"mark\": {\"type\": \"line\", \"color\": \"#1f77b4\", \"point\": {\"filled\": true, \"fill\": \"#1f77b4\"}}, \"encoding\": {\"shape\": {\"type\": \"nominal\", \"field\": \"7-day rolling average\", \"legend\": {\"title\": \"\"}}, \"x\": {\"type\": \"nominal\", \"axis\": {\"title\": \"Date\"}, \"field\": \"Date\"}, \"y\": {\"type\": \"quantitative\", \"field\": \"Rolling\"}}}], \"data\": {\"name\": \"data-c56e0a6eb619e3847a9e0acae7d8f9fe\"}, \"title\": \"COVID-19 in Chile: Daily confirmed cases in Arica y Parinacota\", \"width\": 600, \"$schema\": \"https://vega.github.io/schema/vega-lite/v4.8.1.json\", \"datasets\": {\"data-c56e0a6eb619e3847a9e0acae7d8f9fe\": [{\"Date\": \"2020-03-04\", \"Confirmed cases\": 0, \"Rolling\": null, \"Daily confirmed cases\": \"Daily confirmed cases\", \"7-day rolling average\": \"7-day rolling average\"}, {\"Date\": \"2020-03-05\", \"Confirmed cases\": 0, \"Rolling\": null, \"Daily confirmed cases\": \"Daily confirmed cases\", \"7-day rolling average\": \"7-day rolling average\"}, {\"Date\": \"2020-03-06\", \"Confirmed cases\": 0, \"Rolling\": null, \"Daily confirmed cases\": \"Daily confirmed cases\", \"7-day rolling average\": \"7-day rolling average\"}, {\"Date\": \"2020-03-07\", \"Confirmed cases\": 0, \"Rolling\": null, \"Daily confirmed cases\": \"Daily confirmed cases\", \"7-day rolling average\": \"7-day rolling average\"}, {\"Date\": \"2020-03-08\", \"Confirmed cases\": 0, \"Rolling\": null, \"Daily confirmed cases\": \"Daily confirmed cases\", \"7-day rolling average\": \"7-day rolling average\"}, {\"Date\": \"2020-03-09\", \"Confirmed cases\": 0, \"Rolling\": null, \"Daily confirmed cases\": \"Daily confirmed cases\", \"7-day rolling average\": \"7-day rolling average\"}, {\"Date\": \"2020-03-10\", \"Confirmed cases\": 0, \"Rolling\": 0.0, \"Daily confirmed cases\": \"Daily confirmed cases\", \"7-day rolling average\": \"7-day rolling average\"}, {\"Date\": \"2020-03-11\", \"Confirmed cases\": 0, \"Rolling\": 0.0, \"Daily confirmed cases\": \"Daily confirmed cases\", \"7-day rolling average\": \"7-day rolling average\"}, {\"Date\": \"2020-03-12\", \"Confirmed cases\": 0, \"Rolling\": 0.0, \"Daily confirmed cases\": \"Daily confirmed cases\", \"7-day rolling average\": \"7-day rolling average\"}, {\"Date\": \"2020-03-13\", \"Confirmed cases\": 0, \"Rolling\": 0.0, \"Daily confirmed cases\": \"Daily confirmed cases\", \"7-day rolling average\": \"7-day rolling average\"}, {\"Date\": \"2020-03-14\", \"Confirmed cases\": 0, \"Rolling\": 0.0, \"Daily confirmed cases\": \"Daily confirmed cases\", \"7-day rolling average\": \"7-day rolling average\"}, {\"Date\": \"2020-03-15\", \"Confirmed cases\": 0, \"Rolling\": 0.0, \"Daily confirmed cases\": \"Daily confirmed cases\", \"7-day rolling average\": \"7-day rolling average\"}, {\"Date\": \"2020-03-16\", \"Confirmed cases\": 0, \"Rolling\": 0.0, \"Daily confirmed cases\": \"Daily confirmed cases\", \"7-day rolling average\": \"7-day rolling average\"}, {\"Date\": \"2020-03-17\", \"Confirmed cases\": 0, \"Rolling\": 0.0, \"Daily confirmed cases\": \"Daily confirmed cases\", \"7-day rolling average\": \"7-day rolling average\"}, {\"Date\": \"2020-03-18\", \"Confirmed cases\": 0, \"Rolling\": 0.0, \"Daily confirmed cases\": \"Daily confirmed cases\", \"7-day rolling average\": \"7-day rolling average\"}, {\"Date\": \"2020-03-19\", \"Confirmed cases\": 1, \"Rolling\": 0.14285714285714285, \"Daily confirmed cases\": \"Daily confirmed cases\", \"7-day rolling average\": \"7-day rolling average\"}, {\"Date\": \"2020-03-20\", \"Confirmed cases\": 0, \"Rolling\": 0.14285714285714285, \"Daily confirmed cases\": \"Daily confirmed cases\", \"7-day rolling average\": \"7-day rolling average\"}, {\"Date\": \"2020-03-21\", \"Confirmed cases\": 0, \"Rolling\": 0.14285714285714285, \"Daily confirmed cases\": \"Daily confirmed cases\", \"7-day rolling average\": \"7-day rolling average\"}, {\"Date\": \"2020-03-22\", \"Confirmed cases\": 1, \"Rolling\": 0.2857142857142857, \"Daily confirmed cases\": \"Daily confirmed cases\", \"7-day rolling average\": \"7-day rolling average\"}, {\"Date\": \"2020-03-23\", \"Confirmed cases\": 0, \"Rolling\": 0.2857142857142857, \"Daily confirmed cases\": \"Daily confirmed cases\", \"7-day rolling average\": \"7-day rolling average\"}, {\"Date\": \"2020-03-24\", \"Confirmed cases\": 0, \"Rolling\": 0.2857142857142857, \"Daily confirmed cases\": \"Daily confirmed cases\", \"7-day rolling average\": \"7-day rolling average\"}, {\"Date\": \"2020-03-25\", \"Confirmed cases\": 0, \"Rolling\": 0.2857142857142857, \"Daily confirmed cases\": \"Daily confirmed cases\", \"7-day rolling average\": \"7-day rolling average\"}, {\"Date\": \"2020-03-26\", \"Confirmed cases\": 1, \"Rolling\": 0.2857142857142857, \"Daily confirmed cases\": \"Daily confirmed cases\", \"7-day rolling average\": \"7-day rolling average\"}, {\"Date\": \"2020-03-27\", \"Confirmed cases\": 0, \"Rolling\": 0.2857142857142857, \"Daily confirmed cases\": \"Daily confirmed cases\", \"7-day rolling average\": \"7-day rolling average\"}, {\"Date\": \"2020-03-28\", \"Confirmed cases\": 0, \"Rolling\": 0.2857142857142857, \"Daily confirmed cases\": \"Daily confirmed cases\", \"7-day rolling average\": \"7-day rolling average\"}, {\"Date\": \"2020-03-29\", \"Confirmed cases\": 1, \"Rolling\": 0.2857142857142857, \"Daily confirmed cases\": \"Daily confirmed cases\", \"7-day rolling average\": \"7-day rolling average\"}, {\"Date\": \"2020-03-30\", \"Confirmed cases\": 2, \"Rolling\": 0.5714285714285714, \"Daily confirmed cases\": \"Daily confirmed cases\", \"7-day rolling average\": \"7-day rolling average\"}, {\"Date\": \"2020-03-31\", \"Confirmed cases\": 0, \"Rolling\": 0.5714285714285714, \"Daily confirmed cases\": \"Daily confirmed cases\", \"7-day rolling average\": \"7-day rolling average\"}, {\"Date\": \"2020-04-01\", \"Confirmed cases\": 0, \"Rolling\": 0.5714285714285714, \"Daily confirmed cases\": \"Daily confirmed cases\", \"7-day rolling average\": \"7-day rolling average\"}, {\"Date\": \"2020-04-02\", \"Confirmed cases\": 1, \"Rolling\": 0.5714285714285714, \"Daily confirmed cases\": \"Daily confirmed cases\", \"7-day rolling average\": \"7-day rolling average\"}, {\"Date\": \"2020-04-03\", \"Confirmed cases\": 5, \"Rolling\": 1.2857142857142858, \"Daily confirmed cases\": \"Daily confirmed cases\", \"7-day rolling average\": \"7-day rolling average\"}, {\"Date\": \"2020-04-04\", \"Confirmed cases\": 0, \"Rolling\": 1.2857142857142858, \"Daily confirmed cases\": \"Daily confirmed cases\", \"7-day rolling average\": \"7-day rolling average\"}, {\"Date\": \"2020-04-05\", \"Confirmed cases\": 16, \"Rolling\": 3.4285714285714284, \"Daily confirmed cases\": \"Daily confirmed cases\", \"7-day rolling average\": \"7-day rolling average\"}, {\"Date\": \"2020-04-06\", \"Confirmed cases\": 13, \"Rolling\": 5.0, \"Daily confirmed cases\": \"Daily confirmed cases\", \"7-day rolling average\": \"7-day rolling average\"}, {\"Date\": \"2020-04-07\", \"Confirmed cases\": 12, \"Rolling\": 6.714285714285714, \"Daily confirmed cases\": \"Daily confirmed cases\", \"7-day rolling average\": \"7-day rolling average\"}, {\"Date\": \"2020-04-08\", \"Confirmed cases\": 10, \"Rolling\": 8.142857142857142, \"Daily confirmed cases\": \"Daily confirmed cases\", \"7-day rolling average\": \"7-day rolling average\"}, {\"Date\": \"2020-04-09\", \"Confirmed cases\": 12, \"Rolling\": 9.714285714285714, \"Daily confirmed cases\": \"Daily confirmed cases\", \"7-day rolling average\": \"7-day rolling average\"}, {\"Date\": \"2020-04-10\", \"Confirmed cases\": 12, \"Rolling\": 10.714285714285714, \"Daily confirmed cases\": \"Daily confirmed cases\", \"7-day rolling average\": \"7-day rolling average\"}, {\"Date\": \"2020-04-11\", \"Confirmed cases\": 20, \"Rolling\": 13.571428571428571, \"Daily confirmed cases\": \"Daily confirmed cases\", \"7-day rolling average\": \"7-day rolling average\"}, {\"Date\": \"2020-04-12\", \"Confirmed cases\": 8, \"Rolling\": 12.428571428571429, \"Daily confirmed cases\": \"Daily confirmed cases\", \"7-day rolling average\": \"7-day rolling average\"}, {\"Date\": \"2020-04-13\", \"Confirmed cases\": 0, \"Rolling\": 10.571428571428571, \"Daily confirmed cases\": \"Daily confirmed cases\", \"7-day rolling average\": \"7-day rolling average\"}, {\"Date\": \"2020-04-14\", \"Confirmed cases\": 5, \"Rolling\": 9.571428571428571, \"Daily confirmed cases\": \"Daily confirmed cases\", \"7-day rolling average\": \"7-day rolling average\"}, {\"Date\": \"2020-04-15\", \"Confirmed cases\": 4, \"Rolling\": 8.714285714285714, \"Daily confirmed cases\": \"Daily confirmed cases\", \"7-day rolling average\": \"7-day rolling average\"}, {\"Date\": \"2020-04-16\", \"Confirmed cases\": 5, \"Rolling\": 7.714285714285714, \"Daily confirmed cases\": \"Daily confirmed cases\", \"7-day rolling average\": \"7-day rolling average\"}, {\"Date\": \"2020-04-17\", \"Confirmed cases\": 5, \"Rolling\": 6.714285714285714, \"Daily confirmed cases\": \"Daily confirmed cases\", \"7-day rolling average\": \"7-day rolling average\"}, {\"Date\": \"2020-04-18\", \"Confirmed cases\": 8, \"Rolling\": 5.0, \"Daily confirmed cases\": \"Daily confirmed cases\", \"7-day rolling average\": \"7-day rolling average\"}, {\"Date\": \"2020-04-19\", \"Confirmed cases\": 3, \"Rolling\": 4.285714285714286, \"Daily confirmed cases\": \"Daily confirmed cases\", \"7-day rolling average\": \"7-day rolling average\"}, {\"Date\": \"2020-04-20\", \"Confirmed cases\": 16, \"Rolling\": 6.571428571428571, \"Daily confirmed cases\": \"Daily confirmed cases\", \"7-day rolling average\": \"7-day rolling average\"}, {\"Date\": \"2020-04-21\", \"Confirmed cases\": 9, \"Rolling\": 7.142857142857143, \"Daily confirmed cases\": \"Daily confirmed cases\", \"7-day rolling average\": \"7-day rolling average\"}, {\"Date\": \"2020-04-22\", \"Confirmed cases\": 10, \"Rolling\": 8.0, \"Daily confirmed cases\": \"Daily confirmed cases\", \"7-day rolling average\": \"7-day rolling average\"}, {\"Date\": \"2020-04-23\", \"Confirmed cases\": 30, \"Rolling\": 11.571428571428571, \"Daily confirmed cases\": \"Daily confirmed cases\", \"7-day rolling average\": \"7-day rolling average\"}, {\"Date\": \"2020-04-24\", \"Confirmed cases\": 29, \"Rolling\": 15.0, \"Daily confirmed cases\": \"Daily confirmed cases\", \"7-day rolling average\": \"7-day rolling average\"}, {\"Date\": \"2020-04-25\", \"Confirmed cases\": 6, \"Rolling\": 14.714285714285714, \"Daily confirmed cases\": \"Daily confirmed cases\", \"7-day rolling average\": \"7-day rolling average\"}, {\"Date\": \"2020-04-26\", \"Confirmed cases\": 7, \"Rolling\": 15.285714285714286, \"Daily confirmed cases\": \"Daily confirmed cases\", \"7-day rolling average\": \"7-day rolling average\"}, {\"Date\": \"2020-04-27\", \"Confirmed cases\": 13, \"Rolling\": 14.857142857142858, \"Daily confirmed cases\": \"Daily confirmed cases\", \"7-day rolling average\": \"7-day rolling average\"}, {\"Date\": \"2020-04-28\", \"Confirmed cases\": 3, \"Rolling\": 14.0, \"Daily confirmed cases\": \"Daily confirmed cases\", \"7-day rolling average\": \"7-day rolling average\"}]}}, {\"mode\": \"vega-lite\"});\n",
       "</script>"
      ],
      "text/plain": [
       "alt.LayerChart(...)"
      ]
     },
     "execution_count": 37,
     "metadata": {},
     "output_type": "execute_result"
    }
   ],
   "source": [
    "#hide_input\n",
    "bars, line = my_cases_plot(region)\n",
    "(bars + line).properties(\n",
    "    title=f'COVID-19 in Chile: Daily confirmed cases in {region}',\n",
    "    width=600\n",
    ")"
   ]
  },
  {
   "cell_type": "markdown",
   "metadata": {
    "papermill": {
     "duration": 0.084325,
     "end_time": "2020-04-28T12:16:41.587357",
     "exception": false,
     "start_time": "2020-04-28T12:16:41.503032",
     "status": "completed"
    },
    "tags": []
   },
   "source": [
    "## Tarapacá"
   ]
  },
  {
   "cell_type": "code",
   "execution_count": 38,
   "metadata": {
    "execution": {
     "iopub.execute_input": "2020-04-28T12:16:41.764329Z",
     "iopub.status.busy": "2020-04-28T12:16:41.763725Z",
     "iopub.status.idle": "2020-04-28T12:16:41.765543Z",
     "shell.execute_reply": "2020-04-28T12:16:41.765993Z"
    },
    "papermill": {
     "duration": 0.091581,
     "end_time": "2020-04-28T12:16:41.766123",
     "exception": false,
     "start_time": "2020-04-28T12:16:41.674542",
     "status": "completed"
    },
    "tags": []
   },
   "outputs": [],
   "source": [
    "#hide\n",
    "region = \"Tarapacá\""
   ]
  },
  {
   "cell_type": "code",
   "execution_count": 39,
   "metadata": {
    "execution": {
     "iopub.execute_input": "2020-04-28T12:16:41.949338Z",
     "iopub.status.busy": "2020-04-28T12:16:41.948726Z",
     "iopub.status.idle": "2020-04-28T12:16:41.985651Z",
     "shell.execute_reply": "2020-04-28T12:16:41.986130Z"
    },
    "papermill": {
     "duration": 0.133886,
     "end_time": "2020-04-28T12:16:41.986262",
     "exception": false,
     "start_time": "2020-04-28T12:16:41.852376",
     "status": "completed"
    },
    "tags": []
   },
   "outputs": [
    {
     "data": {
      "text/html": [
       "\n",
       "<div id=\"altair-viz-3f6835c26e624692bc6fb8cb86cc9540\"></div>\n",
       "<script type=\"text/javascript\">\n",
       "  (function(spec, embedOpt){\n",
       "    let outputDiv = document.currentScript.previousElementSibling;\n",
       "    if (outputDiv.id !== \"altair-viz-3f6835c26e624692bc6fb8cb86cc9540\") {\n",
       "      outputDiv = document.getElementById(\"altair-viz-3f6835c26e624692bc6fb8cb86cc9540\");\n",
       "    }\n",
       "    const paths = {\n",
       "      \"vega\": \"https://cdn.jsdelivr.net/npm//vega@5?noext\",\n",
       "      \"vega-lib\": \"https://cdn.jsdelivr.net/npm//vega-lib?noext\",\n",
       "      \"vega-lite\": \"https://cdn.jsdelivr.net/npm//vega-lite@4.8.1?noext\",\n",
       "      \"vega-embed\": \"https://cdn.jsdelivr.net/npm//vega-embed@6?noext\",\n",
       "    };\n",
       "\n",
       "    function loadScript(lib) {\n",
       "      return new Promise(function(resolve, reject) {\n",
       "        var s = document.createElement('script');\n",
       "        s.src = paths[lib];\n",
       "        s.async = true;\n",
       "        s.onload = () => resolve(paths[lib]);\n",
       "        s.onerror = () => reject(`Error loading script: ${paths[lib]}`);\n",
       "        document.getElementsByTagName(\"head\")[0].appendChild(s);\n",
       "      });\n",
       "    }\n",
       "\n",
       "    function showError(err) {\n",
       "      outputDiv.innerHTML = `<div class=\"error\" style=\"color:red;\">${err}</div>`;\n",
       "      throw err;\n",
       "    }\n",
       "\n",
       "    function displayChart(vegaEmbed) {\n",
       "      vegaEmbed(outputDiv, spec, embedOpt)\n",
       "        .catch(err => showError(`Javascript Error: ${err.message}<br>This usually means there's a typo in your chart specification. See the javascript console for the full traceback.`));\n",
       "    }\n",
       "\n",
       "    if(typeof define === \"function\" && define.amd) {\n",
       "      requirejs.config({paths});\n",
       "      require([\"vega-embed\"], displayChart, err => showError(`Error loading script: ${err.message}`));\n",
       "    } else if (typeof vegaEmbed === \"function\") {\n",
       "      displayChart(vegaEmbed);\n",
       "    } else {\n",
       "      loadScript(\"vega\")\n",
       "        .then(() => loadScript(\"vega-lite\"))\n",
       "        .then(() => loadScript(\"vega-embed\"))\n",
       "        .catch(showError)\n",
       "        .then(() => displayChart(vegaEmbed));\n",
       "    }\n",
       "  })({\"config\": {\"view\": {\"continuousWidth\": 400, \"continuousHeight\": 300}}, \"layer\": [{\"mark\": {\"type\": \"bar\", \"opacity\": 0.7}, \"encoding\": {\"opacity\": {\"type\": \"nominal\", \"field\": \"Daily confirmed cases\", \"legend\": {\"title\": \"\"}}, \"tooltip\": [{\"type\": \"nominal\", \"field\": \"Date\"}, {\"type\": \"quantitative\", \"field\": \"Confirmed cases\"}], \"x\": {\"type\": \"nominal\", \"axis\": {\"title\": \"Date\"}, \"field\": \"Date\"}, \"y\": {\"type\": \"quantitative\", \"axis\": {\"title\": \"Daily confirmed cases\"}, \"field\": \"Confirmed cases\"}}}, {\"mark\": {\"type\": \"line\", \"color\": \"#1f77b4\", \"point\": {\"filled\": true, \"fill\": \"#1f77b4\"}}, \"encoding\": {\"shape\": {\"type\": \"nominal\", \"field\": \"7-day rolling average\", \"legend\": {\"title\": \"\"}}, \"x\": {\"type\": \"nominal\", \"axis\": {\"title\": \"Date\"}, \"field\": \"Date\"}, \"y\": {\"type\": \"quantitative\", \"field\": \"Rolling\"}}}], \"data\": {\"name\": \"data-da9e682d78d975b2ecc750c6a434cfab\"}, \"title\": \"COVID-19 in Chile: Daily confirmed cases in Tarapac\\u00e1\", \"width\": 600, \"$schema\": \"https://vega.github.io/schema/vega-lite/v4.8.1.json\", \"datasets\": {\"data-da9e682d78d975b2ecc750c6a434cfab\": [{\"Date\": \"2020-03-04\", \"Confirmed cases\": 0, \"Rolling\": null, \"Daily confirmed cases\": \"Daily confirmed cases\", \"7-day rolling average\": \"7-day rolling average\"}, {\"Date\": \"2020-03-05\", \"Confirmed cases\": 0, \"Rolling\": null, \"Daily confirmed cases\": \"Daily confirmed cases\", \"7-day rolling average\": \"7-day rolling average\"}, {\"Date\": \"2020-03-06\", \"Confirmed cases\": 0, \"Rolling\": null, \"Daily confirmed cases\": \"Daily confirmed cases\", \"7-day rolling average\": \"7-day rolling average\"}, {\"Date\": \"2020-03-07\", \"Confirmed cases\": 0, \"Rolling\": null, \"Daily confirmed cases\": \"Daily confirmed cases\", \"7-day rolling average\": \"7-day rolling average\"}, {\"Date\": \"2020-03-08\", \"Confirmed cases\": 0, \"Rolling\": null, \"Daily confirmed cases\": \"Daily confirmed cases\", \"7-day rolling average\": \"7-day rolling average\"}, {\"Date\": \"2020-03-09\", \"Confirmed cases\": 0, \"Rolling\": null, \"Daily confirmed cases\": \"Daily confirmed cases\", \"7-day rolling average\": \"7-day rolling average\"}, {\"Date\": \"2020-03-10\", \"Confirmed cases\": 0, \"Rolling\": 0.0, \"Daily confirmed cases\": \"Daily confirmed cases\", \"7-day rolling average\": \"7-day rolling average\"}, {\"Date\": \"2020-03-11\", \"Confirmed cases\": 0, \"Rolling\": 0.0, \"Daily confirmed cases\": \"Daily confirmed cases\", \"7-day rolling average\": \"7-day rolling average\"}, {\"Date\": \"2020-03-12\", \"Confirmed cases\": 0, \"Rolling\": 0.0, \"Daily confirmed cases\": \"Daily confirmed cases\", \"7-day rolling average\": \"7-day rolling average\"}, {\"Date\": \"2020-03-13\", \"Confirmed cases\": 0, \"Rolling\": 0.0, \"Daily confirmed cases\": \"Daily confirmed cases\", \"7-day rolling average\": \"7-day rolling average\"}, {\"Date\": \"2020-03-14\", \"Confirmed cases\": 0, \"Rolling\": 0.0, \"Daily confirmed cases\": \"Daily confirmed cases\", \"7-day rolling average\": \"7-day rolling average\"}, {\"Date\": \"2020-03-15\", \"Confirmed cases\": 0, \"Rolling\": 0.0, \"Daily confirmed cases\": \"Daily confirmed cases\", \"7-day rolling average\": \"7-day rolling average\"}, {\"Date\": \"2020-03-16\", \"Confirmed cases\": 0, \"Rolling\": 0.0, \"Daily confirmed cases\": \"Daily confirmed cases\", \"7-day rolling average\": \"7-day rolling average\"}, {\"Date\": \"2020-03-17\", \"Confirmed cases\": 0, \"Rolling\": 0.0, \"Daily confirmed cases\": \"Daily confirmed cases\", \"7-day rolling average\": \"7-day rolling average\"}, {\"Date\": \"2020-03-18\", \"Confirmed cases\": 0, \"Rolling\": 0.0, \"Daily confirmed cases\": \"Daily confirmed cases\", \"7-day rolling average\": \"7-day rolling average\"}, {\"Date\": \"2020-03-19\", \"Confirmed cases\": 0, \"Rolling\": 0.0, \"Daily confirmed cases\": \"Daily confirmed cases\", \"7-day rolling average\": \"7-day rolling average\"}, {\"Date\": \"2020-03-20\", \"Confirmed cases\": 0, \"Rolling\": 0.0, \"Daily confirmed cases\": \"Daily confirmed cases\", \"7-day rolling average\": \"7-day rolling average\"}, {\"Date\": \"2020-03-21\", \"Confirmed cases\": 0, \"Rolling\": 0.0, \"Daily confirmed cases\": \"Daily confirmed cases\", \"7-day rolling average\": \"7-day rolling average\"}, {\"Date\": \"2020-03-22\", \"Confirmed cases\": 0, \"Rolling\": 0.0, \"Daily confirmed cases\": \"Daily confirmed cases\", \"7-day rolling average\": \"7-day rolling average\"}, {\"Date\": \"2020-03-23\", \"Confirmed cases\": 1, \"Rolling\": 0.14285714285714285, \"Daily confirmed cases\": \"Daily confirmed cases\", \"7-day rolling average\": \"7-day rolling average\"}, {\"Date\": \"2020-03-24\", \"Confirmed cases\": 3, \"Rolling\": 0.5714285714285714, \"Daily confirmed cases\": \"Daily confirmed cases\", \"7-day rolling average\": \"7-day rolling average\"}, {\"Date\": \"2020-03-25\", \"Confirmed cases\": 0, \"Rolling\": 0.5714285714285714, \"Daily confirmed cases\": \"Daily confirmed cases\", \"7-day rolling average\": \"7-day rolling average\"}, {\"Date\": \"2020-03-26\", \"Confirmed cases\": 1, \"Rolling\": 0.7142857142857143, \"Daily confirmed cases\": \"Daily confirmed cases\", \"7-day rolling average\": \"7-day rolling average\"}, {\"Date\": \"2020-03-27\", \"Confirmed cases\": 0, \"Rolling\": 0.7142857142857143, \"Daily confirmed cases\": \"Daily confirmed cases\", \"7-day rolling average\": \"7-day rolling average\"}, {\"Date\": \"2020-03-28\", \"Confirmed cases\": 0, \"Rolling\": 0.7142857142857143, \"Daily confirmed cases\": \"Daily confirmed cases\", \"7-day rolling average\": \"7-day rolling average\"}, {\"Date\": \"2020-03-29\", \"Confirmed cases\": 1, \"Rolling\": 0.8571428571428571, \"Daily confirmed cases\": \"Daily confirmed cases\", \"7-day rolling average\": \"7-day rolling average\"}, {\"Date\": \"2020-03-30\", \"Confirmed cases\": 2, \"Rolling\": 1.0, \"Daily confirmed cases\": \"Daily confirmed cases\", \"7-day rolling average\": \"7-day rolling average\"}, {\"Date\": \"2020-03-31\", \"Confirmed cases\": 2, \"Rolling\": 0.8571428571428571, \"Daily confirmed cases\": \"Daily confirmed cases\", \"7-day rolling average\": \"7-day rolling average\"}, {\"Date\": \"2020-04-01\", \"Confirmed cases\": 0, \"Rolling\": 0.8571428571428571, \"Daily confirmed cases\": \"Daily confirmed cases\", \"7-day rolling average\": \"7-day rolling average\"}, {\"Date\": \"2020-04-02\", \"Confirmed cases\": 2, \"Rolling\": 1.0, \"Daily confirmed cases\": \"Daily confirmed cases\", \"7-day rolling average\": \"7-day rolling average\"}, {\"Date\": \"2020-04-03\", \"Confirmed cases\": 1, \"Rolling\": 1.1428571428571428, \"Daily confirmed cases\": \"Daily confirmed cases\", \"7-day rolling average\": \"7-day rolling average\"}, {\"Date\": \"2020-04-04\", \"Confirmed cases\": 4, \"Rolling\": 1.7142857142857142, \"Daily confirmed cases\": \"Daily confirmed cases\", \"7-day rolling average\": \"7-day rolling average\"}, {\"Date\": \"2020-04-05\", \"Confirmed cases\": 3, \"Rolling\": 2.0, \"Daily confirmed cases\": \"Daily confirmed cases\", \"7-day rolling average\": \"7-day rolling average\"}, {\"Date\": \"2020-04-06\", \"Confirmed cases\": 1, \"Rolling\": 1.8571428571428572, \"Daily confirmed cases\": \"Daily confirmed cases\", \"7-day rolling average\": \"7-day rolling average\"}, {\"Date\": \"2020-04-07\", \"Confirmed cases\": 2, \"Rolling\": 1.8571428571428572, \"Daily confirmed cases\": \"Daily confirmed cases\", \"7-day rolling average\": \"7-day rolling average\"}, {\"Date\": \"2020-04-08\", \"Confirmed cases\": 3, \"Rolling\": 2.2857142857142856, \"Daily confirmed cases\": \"Daily confirmed cases\", \"7-day rolling average\": \"7-day rolling average\"}, {\"Date\": \"2020-04-09\", \"Confirmed cases\": 3, \"Rolling\": 2.4285714285714284, \"Daily confirmed cases\": \"Daily confirmed cases\", \"7-day rolling average\": \"7-day rolling average\"}, {\"Date\": \"2020-04-10\", \"Confirmed cases\": 6, \"Rolling\": 3.142857142857143, \"Daily confirmed cases\": \"Daily confirmed cases\", \"7-day rolling average\": \"7-day rolling average\"}, {\"Date\": \"2020-04-11\", \"Confirmed cases\": 3, \"Rolling\": 3.0, \"Daily confirmed cases\": \"Daily confirmed cases\", \"7-day rolling average\": \"7-day rolling average\"}, {\"Date\": \"2020-04-12\", \"Confirmed cases\": 8, \"Rolling\": 3.7142857142857144, \"Daily confirmed cases\": \"Daily confirmed cases\", \"7-day rolling average\": \"7-day rolling average\"}, {\"Date\": \"2020-04-13\", \"Confirmed cases\": 6, \"Rolling\": 4.428571428571429, \"Daily confirmed cases\": \"Daily confirmed cases\", \"7-day rolling average\": \"7-day rolling average\"}, {\"Date\": \"2020-04-14\", \"Confirmed cases\": 10, \"Rolling\": 5.571428571428571, \"Daily confirmed cases\": \"Daily confirmed cases\", \"7-day rolling average\": \"7-day rolling average\"}, {\"Date\": \"2020-04-15\", \"Confirmed cases\": 0, \"Rolling\": 5.142857142857143, \"Daily confirmed cases\": \"Daily confirmed cases\", \"7-day rolling average\": \"7-day rolling average\"}, {\"Date\": \"2020-04-16\", \"Confirmed cases\": 4, \"Rolling\": 5.285714285714286, \"Daily confirmed cases\": \"Daily confirmed cases\", \"7-day rolling average\": \"7-day rolling average\"}, {\"Date\": \"2020-04-17\", \"Confirmed cases\": 7, \"Rolling\": 5.428571428571429, \"Daily confirmed cases\": \"Daily confirmed cases\", \"7-day rolling average\": \"7-day rolling average\"}, {\"Date\": \"2020-04-18\", \"Confirmed cases\": 8, \"Rolling\": 6.142857142857143, \"Daily confirmed cases\": \"Daily confirmed cases\", \"7-day rolling average\": \"7-day rolling average\"}, {\"Date\": \"2020-04-19\", \"Confirmed cases\": 9, \"Rolling\": 6.285714285714286, \"Daily confirmed cases\": \"Daily confirmed cases\", \"7-day rolling average\": \"7-day rolling average\"}, {\"Date\": \"2020-04-20\", \"Confirmed cases\": 3, \"Rolling\": 5.857142857142857, \"Daily confirmed cases\": \"Daily confirmed cases\", \"7-day rolling average\": \"7-day rolling average\"}, {\"Date\": \"2020-04-21\", \"Confirmed cases\": 11, \"Rolling\": 6.0, \"Daily confirmed cases\": \"Daily confirmed cases\", \"7-day rolling average\": \"7-day rolling average\"}, {\"Date\": \"2020-04-22\", \"Confirmed cases\": 10, \"Rolling\": 7.428571428571429, \"Daily confirmed cases\": \"Daily confirmed cases\", \"7-day rolling average\": \"7-day rolling average\"}, {\"Date\": \"2020-04-23\", \"Confirmed cases\": 14, \"Rolling\": 8.857142857142858, \"Daily confirmed cases\": \"Daily confirmed cases\", \"7-day rolling average\": \"7-day rolling average\"}, {\"Date\": \"2020-04-24\", \"Confirmed cases\": 6, \"Rolling\": 8.714285714285714, \"Daily confirmed cases\": \"Daily confirmed cases\", \"7-day rolling average\": \"7-day rolling average\"}, {\"Date\": \"2020-04-25\", \"Confirmed cases\": 9, \"Rolling\": 8.857142857142858, \"Daily confirmed cases\": \"Daily confirmed cases\", \"7-day rolling average\": \"7-day rolling average\"}, {\"Date\": \"2020-04-26\", \"Confirmed cases\": 13, \"Rolling\": 9.428571428571429, \"Daily confirmed cases\": \"Daily confirmed cases\", \"7-day rolling average\": \"7-day rolling average\"}, {\"Date\": \"2020-04-27\", \"Confirmed cases\": 8, \"Rolling\": 10.142857142857142, \"Daily confirmed cases\": \"Daily confirmed cases\", \"7-day rolling average\": \"7-day rolling average\"}, {\"Date\": \"2020-04-28\", \"Confirmed cases\": 5, \"Rolling\": 9.285714285714286, \"Daily confirmed cases\": \"Daily confirmed cases\", \"7-day rolling average\": \"7-day rolling average\"}]}}, {\"mode\": \"vega-lite\"});\n",
       "</script>"
      ],
      "text/plain": [
       "alt.LayerChart(...)"
      ]
     },
     "execution_count": 39,
     "metadata": {},
     "output_type": "execute_result"
    }
   ],
   "source": [
    "#hide_input\n",
    "bars, line = my_cases_plot(region)\n",
    "(bars + line).properties(\n",
    "    title=f'COVID-19 in Chile: Daily confirmed cases in {region}',\n",
    "    width=600\n",
    ")"
   ]
  },
  {
   "cell_type": "markdown",
   "metadata": {
    "papermill": {
     "duration": 0.085552,
     "end_time": "2020-04-28T12:16:42.160215",
     "exception": false,
     "start_time": "2020-04-28T12:16:42.074663",
     "status": "completed"
    },
    "tags": []
   },
   "source": [
    "## Antofagasta"
   ]
  },
  {
   "cell_type": "code",
   "execution_count": 40,
   "metadata": {
    "execution": {
     "iopub.execute_input": "2020-04-28T12:16:42.340723Z",
     "iopub.status.busy": "2020-04-28T12:16:42.340129Z",
     "iopub.status.idle": "2020-04-28T12:16:42.343076Z",
     "shell.execute_reply": "2020-04-28T12:16:42.342528Z"
    },
    "papermill": {
     "duration": 0.097361,
     "end_time": "2020-04-28T12:16:42.343188",
     "exception": false,
     "start_time": "2020-04-28T12:16:42.245827",
     "status": "completed"
    },
    "tags": []
   },
   "outputs": [],
   "source": [
    "#hide\n",
    "region = \"Antofagasta\""
   ]
  },
  {
   "cell_type": "code",
   "execution_count": 41,
   "metadata": {
    "execution": {
     "iopub.execute_input": "2020-04-28T12:16:42.537731Z",
     "iopub.status.busy": "2020-04-28T12:16:42.527498Z",
     "iopub.status.idle": "2020-04-28T12:16:42.564267Z",
     "shell.execute_reply": "2020-04-28T12:16:42.564750Z"
    },
    "papermill": {
     "duration": 0.135809,
     "end_time": "2020-04-28T12:16:42.564883",
     "exception": false,
     "start_time": "2020-04-28T12:16:42.429074",
     "status": "completed"
    },
    "tags": []
   },
   "outputs": [
    {
     "data": {
      "text/html": [
       "\n",
       "<div id=\"altair-viz-6846053ea02843d89729cdefdaff2dd5\"></div>\n",
       "<script type=\"text/javascript\">\n",
       "  (function(spec, embedOpt){\n",
       "    let outputDiv = document.currentScript.previousElementSibling;\n",
       "    if (outputDiv.id !== \"altair-viz-6846053ea02843d89729cdefdaff2dd5\") {\n",
       "      outputDiv = document.getElementById(\"altair-viz-6846053ea02843d89729cdefdaff2dd5\");\n",
       "    }\n",
       "    const paths = {\n",
       "      \"vega\": \"https://cdn.jsdelivr.net/npm//vega@5?noext\",\n",
       "      \"vega-lib\": \"https://cdn.jsdelivr.net/npm//vega-lib?noext\",\n",
       "      \"vega-lite\": \"https://cdn.jsdelivr.net/npm//vega-lite@4.8.1?noext\",\n",
       "      \"vega-embed\": \"https://cdn.jsdelivr.net/npm//vega-embed@6?noext\",\n",
       "    };\n",
       "\n",
       "    function loadScript(lib) {\n",
       "      return new Promise(function(resolve, reject) {\n",
       "        var s = document.createElement('script');\n",
       "        s.src = paths[lib];\n",
       "        s.async = true;\n",
       "        s.onload = () => resolve(paths[lib]);\n",
       "        s.onerror = () => reject(`Error loading script: ${paths[lib]}`);\n",
       "        document.getElementsByTagName(\"head\")[0].appendChild(s);\n",
       "      });\n",
       "    }\n",
       "\n",
       "    function showError(err) {\n",
       "      outputDiv.innerHTML = `<div class=\"error\" style=\"color:red;\">${err}</div>`;\n",
       "      throw err;\n",
       "    }\n",
       "\n",
       "    function displayChart(vegaEmbed) {\n",
       "      vegaEmbed(outputDiv, spec, embedOpt)\n",
       "        .catch(err => showError(`Javascript Error: ${err.message}<br>This usually means there's a typo in your chart specification. See the javascript console for the full traceback.`));\n",
       "    }\n",
       "\n",
       "    if(typeof define === \"function\" && define.amd) {\n",
       "      requirejs.config({paths});\n",
       "      require([\"vega-embed\"], displayChart, err => showError(`Error loading script: ${err.message}`));\n",
       "    } else if (typeof vegaEmbed === \"function\") {\n",
       "      displayChart(vegaEmbed);\n",
       "    } else {\n",
       "      loadScript(\"vega\")\n",
       "        .then(() => loadScript(\"vega-lite\"))\n",
       "        .then(() => loadScript(\"vega-embed\"))\n",
       "        .catch(showError)\n",
       "        .then(() => displayChart(vegaEmbed));\n",
       "    }\n",
       "  })({\"config\": {\"view\": {\"continuousWidth\": 400, \"continuousHeight\": 300}}, \"layer\": [{\"mark\": {\"type\": \"bar\", \"opacity\": 0.7}, \"encoding\": {\"opacity\": {\"type\": \"nominal\", \"field\": \"Daily confirmed cases\", \"legend\": {\"title\": \"\"}}, \"tooltip\": [{\"type\": \"nominal\", \"field\": \"Date\"}, {\"type\": \"quantitative\", \"field\": \"Confirmed cases\"}], \"x\": {\"type\": \"nominal\", \"axis\": {\"title\": \"Date\"}, \"field\": \"Date\"}, \"y\": {\"type\": \"quantitative\", \"axis\": {\"title\": \"Daily confirmed cases\"}, \"field\": \"Confirmed cases\"}}}, {\"mark\": {\"type\": \"line\", \"color\": \"#1f77b4\", \"point\": {\"filled\": true, \"fill\": \"#1f77b4\"}}, \"encoding\": {\"shape\": {\"type\": \"nominal\", \"field\": \"7-day rolling average\", \"legend\": {\"title\": \"\"}}, \"x\": {\"type\": \"nominal\", \"axis\": {\"title\": \"Date\"}, \"field\": \"Date\"}, \"y\": {\"type\": \"quantitative\", \"field\": \"Rolling\"}}}], \"data\": {\"name\": \"data-d3479d235f36943b89abd79c1fe72eec\"}, \"title\": \"COVID-19 in Chile: Daily confirmed cases in Antofagasta\", \"width\": 600, \"$schema\": \"https://vega.github.io/schema/vega-lite/v4.8.1.json\", \"datasets\": {\"data-d3479d235f36943b89abd79c1fe72eec\": [{\"Date\": \"2020-03-04\", \"Confirmed cases\": 0, \"Rolling\": null, \"Daily confirmed cases\": \"Daily confirmed cases\", \"7-day rolling average\": \"7-day rolling average\"}, {\"Date\": \"2020-03-05\", \"Confirmed cases\": 0, \"Rolling\": null, \"Daily confirmed cases\": \"Daily confirmed cases\", \"7-day rolling average\": \"7-day rolling average\"}, {\"Date\": \"2020-03-06\", \"Confirmed cases\": 0, \"Rolling\": null, \"Daily confirmed cases\": \"Daily confirmed cases\", \"7-day rolling average\": \"7-day rolling average\"}, {\"Date\": \"2020-03-07\", \"Confirmed cases\": 0, \"Rolling\": null, \"Daily confirmed cases\": \"Daily confirmed cases\", \"7-day rolling average\": \"7-day rolling average\"}, {\"Date\": \"2020-03-08\", \"Confirmed cases\": 0, \"Rolling\": null, \"Daily confirmed cases\": \"Daily confirmed cases\", \"7-day rolling average\": \"7-day rolling average\"}, {\"Date\": \"2020-03-09\", \"Confirmed cases\": 0, \"Rolling\": null, \"Daily confirmed cases\": \"Daily confirmed cases\", \"7-day rolling average\": \"7-day rolling average\"}, {\"Date\": \"2020-03-10\", \"Confirmed cases\": 0, \"Rolling\": 0.0, \"Daily confirmed cases\": \"Daily confirmed cases\", \"7-day rolling average\": \"7-day rolling average\"}, {\"Date\": \"2020-03-11\", \"Confirmed cases\": 0, \"Rolling\": 0.0, \"Daily confirmed cases\": \"Daily confirmed cases\", \"7-day rolling average\": \"7-day rolling average\"}, {\"Date\": \"2020-03-12\", \"Confirmed cases\": 0, \"Rolling\": 0.0, \"Daily confirmed cases\": \"Daily confirmed cases\", \"7-day rolling average\": \"7-day rolling average\"}, {\"Date\": \"2020-03-13\", \"Confirmed cases\": 0, \"Rolling\": 0.0, \"Daily confirmed cases\": \"Daily confirmed cases\", \"7-day rolling average\": \"7-day rolling average\"}, {\"Date\": \"2020-03-14\", \"Confirmed cases\": 2, \"Rolling\": 0.2857142857142857, \"Daily confirmed cases\": \"Daily confirmed cases\", \"7-day rolling average\": \"7-day rolling average\"}, {\"Date\": \"2020-03-15\", \"Confirmed cases\": 0, \"Rolling\": 0.2857142857142857, \"Daily confirmed cases\": \"Daily confirmed cases\", \"7-day rolling average\": \"7-day rolling average\"}, {\"Date\": \"2020-03-16\", \"Confirmed cases\": 0, \"Rolling\": 0.2857142857142857, \"Daily confirmed cases\": \"Daily confirmed cases\", \"7-day rolling average\": \"7-day rolling average\"}, {\"Date\": \"2020-03-17\", \"Confirmed cases\": 0, \"Rolling\": 0.2857142857142857, \"Daily confirmed cases\": \"Daily confirmed cases\", \"7-day rolling average\": \"7-day rolling average\"}, {\"Date\": \"2020-03-18\", \"Confirmed cases\": 0, \"Rolling\": 0.2857142857142857, \"Daily confirmed cases\": \"Daily confirmed cases\", \"7-day rolling average\": \"7-day rolling average\"}, {\"Date\": \"2020-03-19\", \"Confirmed cases\": 0, \"Rolling\": 0.2857142857142857, \"Daily confirmed cases\": \"Daily confirmed cases\", \"7-day rolling average\": \"7-day rolling average\"}, {\"Date\": \"2020-03-20\", \"Confirmed cases\": 4, \"Rolling\": 0.8571428571428571, \"Daily confirmed cases\": \"Daily confirmed cases\", \"7-day rolling average\": \"7-day rolling average\"}, {\"Date\": \"2020-03-21\", \"Confirmed cases\": 4, \"Rolling\": 1.1428571428571428, \"Daily confirmed cases\": \"Daily confirmed cases\", \"7-day rolling average\": \"7-day rolling average\"}, {\"Date\": \"2020-03-22\", \"Confirmed cases\": 1, \"Rolling\": 1.2857142857142858, \"Daily confirmed cases\": \"Daily confirmed cases\", \"7-day rolling average\": \"7-day rolling average\"}, {\"Date\": \"2020-03-23\", \"Confirmed cases\": 0, \"Rolling\": 1.2857142857142858, \"Daily confirmed cases\": \"Daily confirmed cases\", \"7-day rolling average\": \"7-day rolling average\"}, {\"Date\": \"2020-03-24\", \"Confirmed cases\": 2, \"Rolling\": 1.5714285714285714, \"Daily confirmed cases\": \"Daily confirmed cases\", \"7-day rolling average\": \"7-day rolling average\"}, {\"Date\": \"2020-03-25\", \"Confirmed cases\": 6, \"Rolling\": 2.4285714285714284, \"Daily confirmed cases\": \"Daily confirmed cases\", \"7-day rolling average\": \"7-day rolling average\"}, {\"Date\": \"2020-03-26\", \"Confirmed cases\": 1, \"Rolling\": 2.5714285714285716, \"Daily confirmed cases\": \"Daily confirmed cases\", \"7-day rolling average\": \"7-day rolling average\"}, {\"Date\": \"2020-03-27\", \"Confirmed cases\": 1, \"Rolling\": 2.142857142857143, \"Daily confirmed cases\": \"Daily confirmed cases\", \"7-day rolling average\": \"7-day rolling average\"}, {\"Date\": \"2020-03-28\", \"Confirmed cases\": 4, \"Rolling\": 2.142857142857143, \"Daily confirmed cases\": \"Daily confirmed cases\", \"7-day rolling average\": \"7-day rolling average\"}, {\"Date\": \"2020-03-29\", \"Confirmed cases\": 2, \"Rolling\": 2.2857142857142856, \"Daily confirmed cases\": \"Daily confirmed cases\", \"7-day rolling average\": \"7-day rolling average\"}, {\"Date\": \"2020-03-30\", \"Confirmed cases\": 8, \"Rolling\": 3.4285714285714284, \"Daily confirmed cases\": \"Daily confirmed cases\", \"7-day rolling average\": \"7-day rolling average\"}, {\"Date\": \"2020-03-31\", \"Confirmed cases\": 0, \"Rolling\": 3.142857142857143, \"Daily confirmed cases\": \"Daily confirmed cases\", \"7-day rolling average\": \"7-day rolling average\"}, {\"Date\": \"2020-04-01\", \"Confirmed cases\": 4, \"Rolling\": 2.857142857142857, \"Daily confirmed cases\": \"Daily confirmed cases\", \"7-day rolling average\": \"7-day rolling average\"}, {\"Date\": \"2020-04-02\", \"Confirmed cases\": 8, \"Rolling\": 3.857142857142857, \"Daily confirmed cases\": \"Daily confirmed cases\", \"7-day rolling average\": \"7-day rolling average\"}, {\"Date\": \"2020-04-03\", \"Confirmed cases\": 7, \"Rolling\": 4.714285714285714, \"Daily confirmed cases\": \"Daily confirmed cases\", \"7-day rolling average\": \"7-day rolling average\"}, {\"Date\": \"2020-04-04\", \"Confirmed cases\": 1, \"Rolling\": 4.285714285714286, \"Daily confirmed cases\": \"Daily confirmed cases\", \"7-day rolling average\": \"7-day rolling average\"}, {\"Date\": \"2020-04-05\", \"Confirmed cases\": 5, \"Rolling\": 4.714285714285714, \"Daily confirmed cases\": \"Daily confirmed cases\", \"7-day rolling average\": \"7-day rolling average\"}, {\"Date\": \"2020-04-06\", \"Confirmed cases\": 8, \"Rolling\": 4.714285714285714, \"Daily confirmed cases\": \"Daily confirmed cases\", \"7-day rolling average\": \"7-day rolling average\"}, {\"Date\": \"2020-04-07\", \"Confirmed cases\": 1, \"Rolling\": 4.857142857142857, \"Daily confirmed cases\": \"Daily confirmed cases\", \"7-day rolling average\": \"7-day rolling average\"}, {\"Date\": \"2020-04-08\", \"Confirmed cases\": 8, \"Rolling\": 5.428571428571429, \"Daily confirmed cases\": \"Daily confirmed cases\", \"7-day rolling average\": \"7-day rolling average\"}, {\"Date\": \"2020-04-09\", \"Confirmed cases\": 15, \"Rolling\": 6.428571428571429, \"Daily confirmed cases\": \"Daily confirmed cases\", \"7-day rolling average\": \"7-day rolling average\"}, {\"Date\": \"2020-04-10\", \"Confirmed cases\": 18, \"Rolling\": 8.0, \"Daily confirmed cases\": \"Daily confirmed cases\", \"7-day rolling average\": \"7-day rolling average\"}, {\"Date\": \"2020-04-11\", \"Confirmed cases\": 7, \"Rolling\": 8.857142857142858, \"Daily confirmed cases\": \"Daily confirmed cases\", \"7-day rolling average\": \"7-day rolling average\"}, {\"Date\": \"2020-04-12\", \"Confirmed cases\": 21, \"Rolling\": 11.142857142857142, \"Daily confirmed cases\": \"Daily confirmed cases\", \"7-day rolling average\": \"7-day rolling average\"}, {\"Date\": \"2020-04-13\", \"Confirmed cases\": 11, \"Rolling\": 11.571428571428571, \"Daily confirmed cases\": \"Daily confirmed cases\", \"7-day rolling average\": \"7-day rolling average\"}, {\"Date\": \"2020-04-14\", \"Confirmed cases\": 6, \"Rolling\": 12.285714285714286, \"Daily confirmed cases\": \"Daily confirmed cases\", \"7-day rolling average\": \"7-day rolling average\"}, {\"Date\": \"2020-04-15\", \"Confirmed cases\": 21, \"Rolling\": 14.142857142857142, \"Daily confirmed cases\": \"Daily confirmed cases\", \"7-day rolling average\": \"7-day rolling average\"}, {\"Date\": \"2020-04-16\", \"Confirmed cases\": 16, \"Rolling\": 14.285714285714286, \"Daily confirmed cases\": \"Daily confirmed cases\", \"7-day rolling average\": \"7-day rolling average\"}, {\"Date\": \"2020-04-17\", \"Confirmed cases\": 19, \"Rolling\": 14.428571428571429, \"Daily confirmed cases\": \"Daily confirmed cases\", \"7-day rolling average\": \"7-day rolling average\"}, {\"Date\": \"2020-04-18\", \"Confirmed cases\": 15, \"Rolling\": 15.571428571428571, \"Daily confirmed cases\": \"Daily confirmed cases\", \"7-day rolling average\": \"7-day rolling average\"}, {\"Date\": \"2020-04-19\", \"Confirmed cases\": 23, \"Rolling\": 15.857142857142858, \"Daily confirmed cases\": \"Daily confirmed cases\", \"7-day rolling average\": \"7-day rolling average\"}, {\"Date\": \"2020-04-20\", \"Confirmed cases\": 14, \"Rolling\": 16.285714285714285, \"Daily confirmed cases\": \"Daily confirmed cases\", \"7-day rolling average\": \"7-day rolling average\"}, {\"Date\": \"2020-04-21\", \"Confirmed cases\": 28, \"Rolling\": 19.428571428571427, \"Daily confirmed cases\": \"Daily confirmed cases\", \"7-day rolling average\": \"7-day rolling average\"}, {\"Date\": \"2020-04-22\", \"Confirmed cases\": 35, \"Rolling\": 21.428571428571427, \"Daily confirmed cases\": \"Daily confirmed cases\", \"7-day rolling average\": \"7-day rolling average\"}, {\"Date\": \"2020-04-23\", \"Confirmed cases\": 14, \"Rolling\": 21.142857142857142, \"Daily confirmed cases\": \"Daily confirmed cases\", \"7-day rolling average\": \"7-day rolling average\"}, {\"Date\": \"2020-04-24\", \"Confirmed cases\": 26, \"Rolling\": 22.142857142857142, \"Daily confirmed cases\": \"Daily confirmed cases\", \"7-day rolling average\": \"7-day rolling average\"}, {\"Date\": \"2020-04-25\", \"Confirmed cases\": 25, \"Rolling\": 23.571428571428573, \"Daily confirmed cases\": \"Daily confirmed cases\", \"7-day rolling average\": \"7-day rolling average\"}, {\"Date\": \"2020-04-26\", \"Confirmed cases\": 52, \"Rolling\": 27.714285714285715, \"Daily confirmed cases\": \"Daily confirmed cases\", \"7-day rolling average\": \"7-day rolling average\"}, {\"Date\": \"2020-04-27\", \"Confirmed cases\": 14, \"Rolling\": 27.714285714285715, \"Daily confirmed cases\": \"Daily confirmed cases\", \"7-day rolling average\": \"7-day rolling average\"}, {\"Date\": \"2020-04-28\", \"Confirmed cases\": 24, \"Rolling\": 27.142857142857142, \"Daily confirmed cases\": \"Daily confirmed cases\", \"7-day rolling average\": \"7-day rolling average\"}]}}, {\"mode\": \"vega-lite\"});\n",
       "</script>"
      ],
      "text/plain": [
       "alt.LayerChart(...)"
      ]
     },
     "execution_count": 41,
     "metadata": {},
     "output_type": "execute_result"
    }
   ],
   "source": [
    "#hide_input\n",
    "bars, line = my_cases_plot(region)\n",
    "(bars + line).properties(\n",
    "    title=f'COVID-19 in Chile: Daily confirmed cases in {region}',\n",
    "    width=600\n",
    ")"
   ]
  },
  {
   "cell_type": "markdown",
   "metadata": {
    "papermill": {
     "duration": 0.08623,
     "end_time": "2020-04-28T12:16:42.742120",
     "exception": false,
     "start_time": "2020-04-28T12:16:42.655890",
     "status": "completed"
    },
    "tags": []
   },
   "source": [
    "## Atacama"
   ]
  },
  {
   "cell_type": "code",
   "execution_count": 42,
   "metadata": {
    "execution": {
     "iopub.execute_input": "2020-04-28T12:16:42.919394Z",
     "iopub.status.busy": "2020-04-28T12:16:42.918732Z",
     "iopub.status.idle": "2020-04-28T12:16:42.920358Z",
     "shell.execute_reply": "2020-04-28T12:16:42.920831Z"
    },
    "papermill": {
     "duration": 0.092803,
     "end_time": "2020-04-28T12:16:42.920958",
     "exception": false,
     "start_time": "2020-04-28T12:16:42.828155",
     "status": "completed"
    },
    "tags": []
   },
   "outputs": [],
   "source": [
    "#hide\n",
    "region = \"Atacama\""
   ]
  },
  {
   "cell_type": "code",
   "execution_count": 43,
   "metadata": {
    "execution": {
     "iopub.execute_input": "2020-04-28T12:16:43.121820Z",
     "iopub.status.busy": "2020-04-28T12:16:43.107975Z",
     "iopub.status.idle": "2020-04-28T12:16:43.149228Z",
     "shell.execute_reply": "2020-04-28T12:16:43.148455Z"
    },
    "papermill": {
     "duration": 0.141711,
     "end_time": "2020-04-28T12:16:43.149344",
     "exception": false,
     "start_time": "2020-04-28T12:16:43.007633",
     "status": "completed"
    },
    "tags": []
   },
   "outputs": [
    {
     "data": {
      "text/html": [
       "\n",
       "<div id=\"altair-viz-be1d2cfc55b04a68a50b0454cee0ef6b\"></div>\n",
       "<script type=\"text/javascript\">\n",
       "  (function(spec, embedOpt){\n",
       "    let outputDiv = document.currentScript.previousElementSibling;\n",
       "    if (outputDiv.id !== \"altair-viz-be1d2cfc55b04a68a50b0454cee0ef6b\") {\n",
       "      outputDiv = document.getElementById(\"altair-viz-be1d2cfc55b04a68a50b0454cee0ef6b\");\n",
       "    }\n",
       "    const paths = {\n",
       "      \"vega\": \"https://cdn.jsdelivr.net/npm//vega@5?noext\",\n",
       "      \"vega-lib\": \"https://cdn.jsdelivr.net/npm//vega-lib?noext\",\n",
       "      \"vega-lite\": \"https://cdn.jsdelivr.net/npm//vega-lite@4.8.1?noext\",\n",
       "      \"vega-embed\": \"https://cdn.jsdelivr.net/npm//vega-embed@6?noext\",\n",
       "    };\n",
       "\n",
       "    function loadScript(lib) {\n",
       "      return new Promise(function(resolve, reject) {\n",
       "        var s = document.createElement('script');\n",
       "        s.src = paths[lib];\n",
       "        s.async = true;\n",
       "        s.onload = () => resolve(paths[lib]);\n",
       "        s.onerror = () => reject(`Error loading script: ${paths[lib]}`);\n",
       "        document.getElementsByTagName(\"head\")[0].appendChild(s);\n",
       "      });\n",
       "    }\n",
       "\n",
       "    function showError(err) {\n",
       "      outputDiv.innerHTML = `<div class=\"error\" style=\"color:red;\">${err}</div>`;\n",
       "      throw err;\n",
       "    }\n",
       "\n",
       "    function displayChart(vegaEmbed) {\n",
       "      vegaEmbed(outputDiv, spec, embedOpt)\n",
       "        .catch(err => showError(`Javascript Error: ${err.message}<br>This usually means there's a typo in your chart specification. See the javascript console for the full traceback.`));\n",
       "    }\n",
       "\n",
       "    if(typeof define === \"function\" && define.amd) {\n",
       "      requirejs.config({paths});\n",
       "      require([\"vega-embed\"], displayChart, err => showError(`Error loading script: ${err.message}`));\n",
       "    } else if (typeof vegaEmbed === \"function\") {\n",
       "      displayChart(vegaEmbed);\n",
       "    } else {\n",
       "      loadScript(\"vega\")\n",
       "        .then(() => loadScript(\"vega-lite\"))\n",
       "        .then(() => loadScript(\"vega-embed\"))\n",
       "        .catch(showError)\n",
       "        .then(() => displayChart(vegaEmbed));\n",
       "    }\n",
       "  })({\"config\": {\"view\": {\"continuousWidth\": 400, \"continuousHeight\": 300}}, \"layer\": [{\"mark\": {\"type\": \"bar\", \"opacity\": 0.7}, \"encoding\": {\"opacity\": {\"type\": \"nominal\", \"field\": \"Daily confirmed cases\", \"legend\": {\"title\": \"\"}}, \"tooltip\": [{\"type\": \"nominal\", \"field\": \"Date\"}, {\"type\": \"quantitative\", \"field\": \"Confirmed cases\"}], \"x\": {\"type\": \"nominal\", \"axis\": {\"title\": \"Date\"}, \"field\": \"Date\"}, \"y\": {\"type\": \"quantitative\", \"axis\": {\"title\": \"Daily confirmed cases\"}, \"field\": \"Confirmed cases\"}}}, {\"mark\": {\"type\": \"line\", \"color\": \"#1f77b4\", \"point\": {\"filled\": true, \"fill\": \"#1f77b4\"}}, \"encoding\": {\"shape\": {\"type\": \"nominal\", \"field\": \"7-day rolling average\", \"legend\": {\"title\": \"\"}}, \"x\": {\"type\": \"nominal\", \"axis\": {\"title\": \"Date\"}, \"field\": \"Date\"}, \"y\": {\"type\": \"quantitative\", \"field\": \"Rolling\"}}}], \"data\": {\"name\": \"data-1c0832ce66da282bdbe1f661d3bf3291\"}, \"title\": \"COVID-19 in Chile: Daily confirmed cases in Atacama\", \"width\": 600, \"$schema\": \"https://vega.github.io/schema/vega-lite/v4.8.1.json\", \"datasets\": {\"data-1c0832ce66da282bdbe1f661d3bf3291\": [{\"Date\": \"2020-03-04\", \"Confirmed cases\": 0, \"Rolling\": null, \"Daily confirmed cases\": \"Daily confirmed cases\", \"7-day rolling average\": \"7-day rolling average\"}, {\"Date\": \"2020-03-05\", \"Confirmed cases\": 0, \"Rolling\": null, \"Daily confirmed cases\": \"Daily confirmed cases\", \"7-day rolling average\": \"7-day rolling average\"}, {\"Date\": \"2020-03-06\", \"Confirmed cases\": 0, \"Rolling\": null, \"Daily confirmed cases\": \"Daily confirmed cases\", \"7-day rolling average\": \"7-day rolling average\"}, {\"Date\": \"2020-03-07\", \"Confirmed cases\": 0, \"Rolling\": null, \"Daily confirmed cases\": \"Daily confirmed cases\", \"7-day rolling average\": \"7-day rolling average\"}, {\"Date\": \"2020-03-08\", \"Confirmed cases\": 0, \"Rolling\": null, \"Daily confirmed cases\": \"Daily confirmed cases\", \"7-day rolling average\": \"7-day rolling average\"}, {\"Date\": \"2020-03-09\", \"Confirmed cases\": 0, \"Rolling\": null, \"Daily confirmed cases\": \"Daily confirmed cases\", \"7-day rolling average\": \"7-day rolling average\"}, {\"Date\": \"2020-03-10\", \"Confirmed cases\": 0, \"Rolling\": 0.0, \"Daily confirmed cases\": \"Daily confirmed cases\", \"7-day rolling average\": \"7-day rolling average\"}, {\"Date\": \"2020-03-11\", \"Confirmed cases\": 0, \"Rolling\": 0.0, \"Daily confirmed cases\": \"Daily confirmed cases\", \"7-day rolling average\": \"7-day rolling average\"}, {\"Date\": \"2020-03-12\", \"Confirmed cases\": 0, \"Rolling\": 0.0, \"Daily confirmed cases\": \"Daily confirmed cases\", \"7-day rolling average\": \"7-day rolling average\"}, {\"Date\": \"2020-03-13\", \"Confirmed cases\": 0, \"Rolling\": 0.0, \"Daily confirmed cases\": \"Daily confirmed cases\", \"7-day rolling average\": \"7-day rolling average\"}, {\"Date\": \"2020-03-14\", \"Confirmed cases\": 1, \"Rolling\": 0.14285714285714285, \"Daily confirmed cases\": \"Daily confirmed cases\", \"7-day rolling average\": \"7-day rolling average\"}, {\"Date\": \"2020-03-15\", \"Confirmed cases\": 0, \"Rolling\": 0.14285714285714285, \"Daily confirmed cases\": \"Daily confirmed cases\", \"7-day rolling average\": \"7-day rolling average\"}, {\"Date\": \"2020-03-16\", \"Confirmed cases\": 0, \"Rolling\": 0.14285714285714285, \"Daily confirmed cases\": \"Daily confirmed cases\", \"7-day rolling average\": \"7-day rolling average\"}, {\"Date\": \"2020-03-17\", \"Confirmed cases\": 0, \"Rolling\": 0.14285714285714285, \"Daily confirmed cases\": \"Daily confirmed cases\", \"7-day rolling average\": \"7-day rolling average\"}, {\"Date\": \"2020-03-18\", \"Confirmed cases\": 0, \"Rolling\": 0.14285714285714285, \"Daily confirmed cases\": \"Daily confirmed cases\", \"7-day rolling average\": \"7-day rolling average\"}, {\"Date\": \"2020-03-19\", \"Confirmed cases\": 0, \"Rolling\": 0.14285714285714285, \"Daily confirmed cases\": \"Daily confirmed cases\", \"7-day rolling average\": \"7-day rolling average\"}, {\"Date\": \"2020-03-20\", \"Confirmed cases\": 0, \"Rolling\": 0.14285714285714285, \"Daily confirmed cases\": \"Daily confirmed cases\", \"7-day rolling average\": \"7-day rolling average\"}, {\"Date\": \"2020-03-21\", \"Confirmed cases\": 0, \"Rolling\": 0.0, \"Daily confirmed cases\": \"Daily confirmed cases\", \"7-day rolling average\": \"7-day rolling average\"}, {\"Date\": \"2020-03-22\", \"Confirmed cases\": 0, \"Rolling\": 0.0, \"Daily confirmed cases\": \"Daily confirmed cases\", \"7-day rolling average\": \"7-day rolling average\"}, {\"Date\": \"2020-03-23\", \"Confirmed cases\": 0, \"Rolling\": 0.0, \"Daily confirmed cases\": \"Daily confirmed cases\", \"7-day rolling average\": \"7-day rolling average\"}, {\"Date\": \"2020-03-24\", \"Confirmed cases\": 0, \"Rolling\": 0.0, \"Daily confirmed cases\": \"Daily confirmed cases\", \"7-day rolling average\": \"7-day rolling average\"}, {\"Date\": \"2020-03-25\", \"Confirmed cases\": 0, \"Rolling\": 0.0, \"Daily confirmed cases\": \"Daily confirmed cases\", \"7-day rolling average\": \"7-day rolling average\"}, {\"Date\": \"2020-03-26\", \"Confirmed cases\": 0, \"Rolling\": 0.0, \"Daily confirmed cases\": \"Daily confirmed cases\", \"7-day rolling average\": \"7-day rolling average\"}, {\"Date\": \"2020-03-27\", \"Confirmed cases\": 0, \"Rolling\": 0.0, \"Daily confirmed cases\": \"Daily confirmed cases\", \"7-day rolling average\": \"7-day rolling average\"}, {\"Date\": \"2020-03-28\", \"Confirmed cases\": 0, \"Rolling\": 0.0, \"Daily confirmed cases\": \"Daily confirmed cases\", \"7-day rolling average\": \"7-day rolling average\"}, {\"Date\": \"2020-03-29\", \"Confirmed cases\": 1, \"Rolling\": 0.14285714285714285, \"Daily confirmed cases\": \"Daily confirmed cases\", \"7-day rolling average\": \"7-day rolling average\"}, {\"Date\": \"2020-03-30\", \"Confirmed cases\": 0, \"Rolling\": 0.14285714285714285, \"Daily confirmed cases\": \"Daily confirmed cases\", \"7-day rolling average\": \"7-day rolling average\"}, {\"Date\": \"2020-03-31\", \"Confirmed cases\": 0, \"Rolling\": 0.14285714285714285, \"Daily confirmed cases\": \"Daily confirmed cases\", \"7-day rolling average\": \"7-day rolling average\"}, {\"Date\": \"2020-04-01\", \"Confirmed cases\": 1, \"Rolling\": 0.2857142857142857, \"Daily confirmed cases\": \"Daily confirmed cases\", \"7-day rolling average\": \"7-day rolling average\"}, {\"Date\": \"2020-04-02\", \"Confirmed cases\": 0, \"Rolling\": 0.2857142857142857, \"Daily confirmed cases\": \"Daily confirmed cases\", \"7-day rolling average\": \"7-day rolling average\"}, {\"Date\": \"2020-04-03\", \"Confirmed cases\": 2, \"Rolling\": 0.5714285714285714, \"Daily confirmed cases\": \"Daily confirmed cases\", \"7-day rolling average\": \"7-day rolling average\"}, {\"Date\": \"2020-04-04\", \"Confirmed cases\": 0, \"Rolling\": 0.5714285714285714, \"Daily confirmed cases\": \"Daily confirmed cases\", \"7-day rolling average\": \"7-day rolling average\"}, {\"Date\": \"2020-04-05\", \"Confirmed cases\": 0, \"Rolling\": 0.42857142857142855, \"Daily confirmed cases\": \"Daily confirmed cases\", \"7-day rolling average\": \"7-day rolling average\"}, {\"Date\": \"2020-04-06\", \"Confirmed cases\": 0, \"Rolling\": 0.42857142857142855, \"Daily confirmed cases\": \"Daily confirmed cases\", \"7-day rolling average\": \"7-day rolling average\"}, {\"Date\": \"2020-04-07\", \"Confirmed cases\": 1, \"Rolling\": 0.5714285714285714, \"Daily confirmed cases\": \"Daily confirmed cases\", \"7-day rolling average\": \"7-day rolling average\"}, {\"Date\": \"2020-04-08\", \"Confirmed cases\": 2, \"Rolling\": 0.7142857142857143, \"Daily confirmed cases\": \"Daily confirmed cases\", \"7-day rolling average\": \"7-day rolling average\"}, {\"Date\": \"2020-04-09\", \"Confirmed cases\": 2, \"Rolling\": 1.0, \"Daily confirmed cases\": \"Daily confirmed cases\", \"7-day rolling average\": \"7-day rolling average\"}, {\"Date\": \"2020-04-10\", \"Confirmed cases\": 3, \"Rolling\": 1.1428571428571428, \"Daily confirmed cases\": \"Daily confirmed cases\", \"7-day rolling average\": \"7-day rolling average\"}, {\"Date\": \"2020-04-11\", \"Confirmed cases\": 0, \"Rolling\": 1.1428571428571428, \"Daily confirmed cases\": \"Daily confirmed cases\", \"7-day rolling average\": \"7-day rolling average\"}, {\"Date\": \"2020-04-12\", \"Confirmed cases\": 0, \"Rolling\": 1.1428571428571428, \"Daily confirmed cases\": \"Daily confirmed cases\", \"7-day rolling average\": \"7-day rolling average\"}, {\"Date\": \"2020-04-13\", \"Confirmed cases\": 0, \"Rolling\": 1.1428571428571428, \"Daily confirmed cases\": \"Daily confirmed cases\", \"7-day rolling average\": \"7-day rolling average\"}, {\"Date\": \"2020-04-14\", \"Confirmed cases\": 0, \"Rolling\": 1.0, \"Daily confirmed cases\": \"Daily confirmed cases\", \"7-day rolling average\": \"7-day rolling average\"}, {\"Date\": \"2020-04-15\", \"Confirmed cases\": 0, \"Rolling\": 0.7142857142857143, \"Daily confirmed cases\": \"Daily confirmed cases\", \"7-day rolling average\": \"7-day rolling average\"}, {\"Date\": \"2020-04-16\", \"Confirmed cases\": 0, \"Rolling\": 0.42857142857142855, \"Daily confirmed cases\": \"Daily confirmed cases\", \"7-day rolling average\": \"7-day rolling average\"}, {\"Date\": \"2020-04-17\", \"Confirmed cases\": 0, \"Rolling\": 0.0, \"Daily confirmed cases\": \"Daily confirmed cases\", \"7-day rolling average\": \"7-day rolling average\"}, {\"Date\": \"2020-04-18\", \"Confirmed cases\": 0, \"Rolling\": 0.0, \"Daily confirmed cases\": \"Daily confirmed cases\", \"7-day rolling average\": \"7-day rolling average\"}, {\"Date\": \"2020-04-19\", \"Confirmed cases\": 0, \"Rolling\": 0.0, \"Daily confirmed cases\": \"Daily confirmed cases\", \"7-day rolling average\": \"7-day rolling average\"}, {\"Date\": \"2020-04-20\", \"Confirmed cases\": 0, \"Rolling\": 0.0, \"Daily confirmed cases\": \"Daily confirmed cases\", \"7-day rolling average\": \"7-day rolling average\"}, {\"Date\": \"2020-04-21\", \"Confirmed cases\": 0, \"Rolling\": 0.0, \"Daily confirmed cases\": \"Daily confirmed cases\", \"7-day rolling average\": \"7-day rolling average\"}, {\"Date\": \"2020-04-22\", \"Confirmed cases\": 0, \"Rolling\": 0.0, \"Daily confirmed cases\": \"Daily confirmed cases\", \"7-day rolling average\": \"7-day rolling average\"}, {\"Date\": \"2020-04-23\", \"Confirmed cases\": 5, \"Rolling\": 0.7142857142857143, \"Daily confirmed cases\": \"Daily confirmed cases\", \"7-day rolling average\": \"7-day rolling average\"}, {\"Date\": \"2020-04-24\", \"Confirmed cases\": 3, \"Rolling\": 1.1428571428571428, \"Daily confirmed cases\": \"Daily confirmed cases\", \"7-day rolling average\": \"7-day rolling average\"}, {\"Date\": \"2020-04-25\", \"Confirmed cases\": 3, \"Rolling\": 1.5714285714285714, \"Daily confirmed cases\": \"Daily confirmed cases\", \"7-day rolling average\": \"7-day rolling average\"}, {\"Date\": \"2020-04-26\", \"Confirmed cases\": 5, \"Rolling\": 2.2857142857142856, \"Daily confirmed cases\": \"Daily confirmed cases\", \"7-day rolling average\": \"7-day rolling average\"}, {\"Date\": \"2020-04-27\", \"Confirmed cases\": 6, \"Rolling\": 3.142857142857143, \"Daily confirmed cases\": \"Daily confirmed cases\", \"7-day rolling average\": \"7-day rolling average\"}, {\"Date\": \"2020-04-28\", \"Confirmed cases\": 0, \"Rolling\": 3.142857142857143, \"Daily confirmed cases\": \"Daily confirmed cases\", \"7-day rolling average\": \"7-day rolling average\"}]}}, {\"mode\": \"vega-lite\"});\n",
       "</script>"
      ],
      "text/plain": [
       "alt.LayerChart(...)"
      ]
     },
     "execution_count": 43,
     "metadata": {},
     "output_type": "execute_result"
    }
   ],
   "source": [
    "#hide_input\n",
    "bars, line = my_cases_plot(region)\n",
    "(bars + line).properties(\n",
    "    title=f'COVID-19 in Chile: Daily confirmed cases in {region}',\n",
    "    width=600\n",
    ")"
   ]
  },
  {
   "cell_type": "markdown",
   "metadata": {
    "papermill": {
     "duration": 0.087204,
     "end_time": "2020-04-28T12:16:43.324579",
     "exception": false,
     "start_time": "2020-04-28T12:16:43.237375",
     "status": "completed"
    },
    "tags": []
   },
   "source": [
    "## Coquimbo"
   ]
  },
  {
   "cell_type": "code",
   "execution_count": 44,
   "metadata": {
    "execution": {
     "iopub.execute_input": "2020-04-28T12:16:43.505442Z",
     "iopub.status.busy": "2020-04-28T12:16:43.504836Z",
     "iopub.status.idle": "2020-04-28T12:16:43.507985Z",
     "shell.execute_reply": "2020-04-28T12:16:43.507372Z"
    },
    "papermill": {
     "duration": 0.095951,
     "end_time": "2020-04-28T12:16:43.508093",
     "exception": false,
     "start_time": "2020-04-28T12:16:43.412142",
     "status": "completed"
    },
    "tags": []
   },
   "outputs": [],
   "source": [
    "#hide\n",
    "region = \"Coquimbo\""
   ]
  },
  {
   "cell_type": "code",
   "execution_count": 45,
   "metadata": {
    "execution": {
     "iopub.execute_input": "2020-04-28T12:16:43.726258Z",
     "iopub.status.busy": "2020-04-28T12:16:43.708094Z",
     "iopub.status.idle": "2020-04-28T12:16:43.734133Z",
     "shell.execute_reply": "2020-04-28T12:16:43.733612Z"
    },
    "papermill": {
     "duration": 0.139704,
     "end_time": "2020-04-28T12:16:43.734246",
     "exception": false,
     "start_time": "2020-04-28T12:16:43.594542",
     "status": "completed"
    },
    "tags": []
   },
   "outputs": [
    {
     "data": {
      "text/html": [
       "\n",
       "<div id=\"altair-viz-076e261b26374a81bedffc8792bd4a61\"></div>\n",
       "<script type=\"text/javascript\">\n",
       "  (function(spec, embedOpt){\n",
       "    let outputDiv = document.currentScript.previousElementSibling;\n",
       "    if (outputDiv.id !== \"altair-viz-076e261b26374a81bedffc8792bd4a61\") {\n",
       "      outputDiv = document.getElementById(\"altair-viz-076e261b26374a81bedffc8792bd4a61\");\n",
       "    }\n",
       "    const paths = {\n",
       "      \"vega\": \"https://cdn.jsdelivr.net/npm//vega@5?noext\",\n",
       "      \"vega-lib\": \"https://cdn.jsdelivr.net/npm//vega-lib?noext\",\n",
       "      \"vega-lite\": \"https://cdn.jsdelivr.net/npm//vega-lite@4.8.1?noext\",\n",
       "      \"vega-embed\": \"https://cdn.jsdelivr.net/npm//vega-embed@6?noext\",\n",
       "    };\n",
       "\n",
       "    function loadScript(lib) {\n",
       "      return new Promise(function(resolve, reject) {\n",
       "        var s = document.createElement('script');\n",
       "        s.src = paths[lib];\n",
       "        s.async = true;\n",
       "        s.onload = () => resolve(paths[lib]);\n",
       "        s.onerror = () => reject(`Error loading script: ${paths[lib]}`);\n",
       "        document.getElementsByTagName(\"head\")[0].appendChild(s);\n",
       "      });\n",
       "    }\n",
       "\n",
       "    function showError(err) {\n",
       "      outputDiv.innerHTML = `<div class=\"error\" style=\"color:red;\">${err}</div>`;\n",
       "      throw err;\n",
       "    }\n",
       "\n",
       "    function displayChart(vegaEmbed) {\n",
       "      vegaEmbed(outputDiv, spec, embedOpt)\n",
       "        .catch(err => showError(`Javascript Error: ${err.message}<br>This usually means there's a typo in your chart specification. See the javascript console for the full traceback.`));\n",
       "    }\n",
       "\n",
       "    if(typeof define === \"function\" && define.amd) {\n",
       "      requirejs.config({paths});\n",
       "      require([\"vega-embed\"], displayChart, err => showError(`Error loading script: ${err.message}`));\n",
       "    } else if (typeof vegaEmbed === \"function\") {\n",
       "      displayChart(vegaEmbed);\n",
       "    } else {\n",
       "      loadScript(\"vega\")\n",
       "        .then(() => loadScript(\"vega-lite\"))\n",
       "        .then(() => loadScript(\"vega-embed\"))\n",
       "        .catch(showError)\n",
       "        .then(() => displayChart(vegaEmbed));\n",
       "    }\n",
       "  })({\"config\": {\"view\": {\"continuousWidth\": 400, \"continuousHeight\": 300}}, \"layer\": [{\"mark\": {\"type\": \"bar\", \"opacity\": 0.7}, \"encoding\": {\"opacity\": {\"type\": \"nominal\", \"field\": \"Daily confirmed cases\", \"legend\": {\"title\": \"\"}}, \"tooltip\": [{\"type\": \"nominal\", \"field\": \"Date\"}, {\"type\": \"quantitative\", \"field\": \"Confirmed cases\"}], \"x\": {\"type\": \"nominal\", \"axis\": {\"title\": \"Date\"}, \"field\": \"Date\"}, \"y\": {\"type\": \"quantitative\", \"axis\": {\"title\": \"Daily confirmed cases\"}, \"field\": \"Confirmed cases\"}}}, {\"mark\": {\"type\": \"line\", \"color\": \"#1f77b4\", \"point\": {\"filled\": true, \"fill\": \"#1f77b4\"}}, \"encoding\": {\"shape\": {\"type\": \"nominal\", \"field\": \"7-day rolling average\", \"legend\": {\"title\": \"\"}}, \"x\": {\"type\": \"nominal\", \"axis\": {\"title\": \"Date\"}, \"field\": \"Date\"}, \"y\": {\"type\": \"quantitative\", \"field\": \"Rolling\"}}}], \"data\": {\"name\": \"data-c954274e49cba75550767f6b1734bf0b\"}, \"title\": \"COVID-19 in Chile: Daily confirmed cases in Coquimbo\", \"width\": 600, \"$schema\": \"https://vega.github.io/schema/vega-lite/v4.8.1.json\", \"datasets\": {\"data-c954274e49cba75550767f6b1734bf0b\": [{\"Date\": \"2020-03-04\", \"Confirmed cases\": 0, \"Rolling\": null, \"Daily confirmed cases\": \"Daily confirmed cases\", \"7-day rolling average\": \"7-day rolling average\"}, {\"Date\": \"2020-03-05\", \"Confirmed cases\": 0, \"Rolling\": null, \"Daily confirmed cases\": \"Daily confirmed cases\", \"7-day rolling average\": \"7-day rolling average\"}, {\"Date\": \"2020-03-06\", \"Confirmed cases\": 0, \"Rolling\": null, \"Daily confirmed cases\": \"Daily confirmed cases\", \"7-day rolling average\": \"7-day rolling average\"}, {\"Date\": \"2020-03-07\", \"Confirmed cases\": 0, \"Rolling\": null, \"Daily confirmed cases\": \"Daily confirmed cases\", \"7-day rolling average\": \"7-day rolling average\"}, {\"Date\": \"2020-03-08\", \"Confirmed cases\": 0, \"Rolling\": null, \"Daily confirmed cases\": \"Daily confirmed cases\", \"7-day rolling average\": \"7-day rolling average\"}, {\"Date\": \"2020-03-09\", \"Confirmed cases\": 0, \"Rolling\": null, \"Daily confirmed cases\": \"Daily confirmed cases\", \"7-day rolling average\": \"7-day rolling average\"}, {\"Date\": \"2020-03-10\", \"Confirmed cases\": 0, \"Rolling\": 0.0, \"Daily confirmed cases\": \"Daily confirmed cases\", \"7-day rolling average\": \"7-day rolling average\"}, {\"Date\": \"2020-03-11\", \"Confirmed cases\": 0, \"Rolling\": 0.0, \"Daily confirmed cases\": \"Daily confirmed cases\", \"7-day rolling average\": \"7-day rolling average\"}, {\"Date\": \"2020-03-12\", \"Confirmed cases\": 0, \"Rolling\": 0.0, \"Daily confirmed cases\": \"Daily confirmed cases\", \"7-day rolling average\": \"7-day rolling average\"}, {\"Date\": \"2020-03-13\", \"Confirmed cases\": 0, \"Rolling\": 0.0, \"Daily confirmed cases\": \"Daily confirmed cases\", \"7-day rolling average\": \"7-day rolling average\"}, {\"Date\": \"2020-03-14\", \"Confirmed cases\": 0, \"Rolling\": 0.0, \"Daily confirmed cases\": \"Daily confirmed cases\", \"7-day rolling average\": \"7-day rolling average\"}, {\"Date\": \"2020-03-15\", \"Confirmed cases\": 0, \"Rolling\": 0.0, \"Daily confirmed cases\": \"Daily confirmed cases\", \"7-day rolling average\": \"7-day rolling average\"}, {\"Date\": \"2020-03-16\", \"Confirmed cases\": 0, \"Rolling\": 0.0, \"Daily confirmed cases\": \"Daily confirmed cases\", \"7-day rolling average\": \"7-day rolling average\"}, {\"Date\": \"2020-03-17\", \"Confirmed cases\": 0, \"Rolling\": 0.0, \"Daily confirmed cases\": \"Daily confirmed cases\", \"7-day rolling average\": \"7-day rolling average\"}, {\"Date\": \"2020-03-18\", \"Confirmed cases\": 0, \"Rolling\": 0.0, \"Daily confirmed cases\": \"Daily confirmed cases\", \"7-day rolling average\": \"7-day rolling average\"}, {\"Date\": \"2020-03-19\", \"Confirmed cases\": 2, \"Rolling\": 0.2857142857142857, \"Daily confirmed cases\": \"Daily confirmed cases\", \"7-day rolling average\": \"7-day rolling average\"}, {\"Date\": \"2020-03-20\", \"Confirmed cases\": 1, \"Rolling\": 0.42857142857142855, \"Daily confirmed cases\": \"Daily confirmed cases\", \"7-day rolling average\": \"7-day rolling average\"}, {\"Date\": \"2020-03-21\", \"Confirmed cases\": 0, \"Rolling\": 0.42857142857142855, \"Daily confirmed cases\": \"Daily confirmed cases\", \"7-day rolling average\": \"7-day rolling average\"}, {\"Date\": \"2020-03-22\", \"Confirmed cases\": 2, \"Rolling\": 0.7142857142857143, \"Daily confirmed cases\": \"Daily confirmed cases\", \"7-day rolling average\": \"7-day rolling average\"}, {\"Date\": \"2020-03-23\", \"Confirmed cases\": 1, \"Rolling\": 0.8571428571428571, \"Daily confirmed cases\": \"Daily confirmed cases\", \"7-day rolling average\": \"7-day rolling average\"}, {\"Date\": \"2020-03-24\", \"Confirmed cases\": 5, \"Rolling\": 1.5714285714285714, \"Daily confirmed cases\": \"Daily confirmed cases\", \"7-day rolling average\": \"7-day rolling average\"}, {\"Date\": \"2020-03-25\", \"Confirmed cases\": 1, \"Rolling\": 1.7142857142857142, \"Daily confirmed cases\": \"Daily confirmed cases\", \"7-day rolling average\": \"7-day rolling average\"}, {\"Date\": \"2020-03-26\", \"Confirmed cases\": 1, \"Rolling\": 1.5714285714285714, \"Daily confirmed cases\": \"Daily confirmed cases\", \"7-day rolling average\": \"7-day rolling average\"}, {\"Date\": \"2020-03-27\", \"Confirmed cases\": 1, \"Rolling\": 1.5714285714285714, \"Daily confirmed cases\": \"Daily confirmed cases\", \"7-day rolling average\": \"7-day rolling average\"}, {\"Date\": \"2020-03-28\", \"Confirmed cases\": 1, \"Rolling\": 1.7142857142857142, \"Daily confirmed cases\": \"Daily confirmed cases\", \"7-day rolling average\": \"7-day rolling average\"}, {\"Date\": \"2020-03-29\", \"Confirmed cases\": 3, \"Rolling\": 1.8571428571428572, \"Daily confirmed cases\": \"Daily confirmed cases\", \"7-day rolling average\": \"7-day rolling average\"}, {\"Date\": \"2020-03-30\", \"Confirmed cases\": 9, \"Rolling\": 3.0, \"Daily confirmed cases\": \"Daily confirmed cases\", \"7-day rolling average\": \"7-day rolling average\"}, {\"Date\": \"2020-03-31\", \"Confirmed cases\": 1, \"Rolling\": 2.4285714285714284, \"Daily confirmed cases\": \"Daily confirmed cases\", \"7-day rolling average\": \"7-day rolling average\"}, {\"Date\": \"2020-04-01\", \"Confirmed cases\": 2, \"Rolling\": 2.5714285714285716, \"Daily confirmed cases\": \"Daily confirmed cases\", \"7-day rolling average\": \"7-day rolling average\"}, {\"Date\": \"2020-04-02\", \"Confirmed cases\": 4, \"Rolling\": 3.0, \"Daily confirmed cases\": \"Daily confirmed cases\", \"7-day rolling average\": \"7-day rolling average\"}, {\"Date\": \"2020-04-03\", \"Confirmed cases\": 1, \"Rolling\": 3.0, \"Daily confirmed cases\": \"Daily confirmed cases\", \"7-day rolling average\": \"7-day rolling average\"}, {\"Date\": \"2020-04-04\", \"Confirmed cases\": 9, \"Rolling\": 4.142857142857143, \"Daily confirmed cases\": \"Daily confirmed cases\", \"7-day rolling average\": \"7-day rolling average\"}, {\"Date\": \"2020-04-05\", \"Confirmed cases\": 6, \"Rolling\": 4.571428571428571, \"Daily confirmed cases\": \"Daily confirmed cases\", \"7-day rolling average\": \"7-day rolling average\"}, {\"Date\": \"2020-04-06\", \"Confirmed cases\": 1, \"Rolling\": 3.4285714285714284, \"Daily confirmed cases\": \"Daily confirmed cases\", \"7-day rolling average\": \"7-day rolling average\"}, {\"Date\": \"2020-04-07\", \"Confirmed cases\": 1, \"Rolling\": 3.4285714285714284, \"Daily confirmed cases\": \"Daily confirmed cases\", \"7-day rolling average\": \"7-day rolling average\"}, {\"Date\": \"2020-04-08\", \"Confirmed cases\": 4, \"Rolling\": 3.7142857142857144, \"Daily confirmed cases\": \"Daily confirmed cases\", \"7-day rolling average\": \"7-day rolling average\"}, {\"Date\": \"2020-04-09\", \"Confirmed cases\": 5, \"Rolling\": 3.857142857142857, \"Daily confirmed cases\": \"Daily confirmed cases\", \"7-day rolling average\": \"7-day rolling average\"}, {\"Date\": \"2020-04-10\", \"Confirmed cases\": 0, \"Rolling\": 3.7142857142857144, \"Daily confirmed cases\": \"Daily confirmed cases\", \"7-day rolling average\": \"7-day rolling average\"}, {\"Date\": \"2020-04-11\", \"Confirmed cases\": 3, \"Rolling\": 2.857142857142857, \"Daily confirmed cases\": \"Daily confirmed cases\", \"7-day rolling average\": \"7-day rolling average\"}, {\"Date\": \"2020-04-12\", \"Confirmed cases\": 2, \"Rolling\": 2.2857142857142856, \"Daily confirmed cases\": \"Daily confirmed cases\", \"7-day rolling average\": \"7-day rolling average\"}, {\"Date\": \"2020-04-13\", \"Confirmed cases\": 0, \"Rolling\": 2.142857142857143, \"Daily confirmed cases\": \"Daily confirmed cases\", \"7-day rolling average\": \"7-day rolling average\"}, {\"Date\": \"2020-04-14\", \"Confirmed cases\": 0, \"Rolling\": 2.0, \"Daily confirmed cases\": \"Daily confirmed cases\", \"7-day rolling average\": \"7-day rolling average\"}, {\"Date\": \"2020-04-15\", \"Confirmed cases\": 0, \"Rolling\": 1.4285714285714286, \"Daily confirmed cases\": \"Daily confirmed cases\", \"7-day rolling average\": \"7-day rolling average\"}, {\"Date\": \"2020-04-16\", \"Confirmed cases\": 2, \"Rolling\": 1.0, \"Daily confirmed cases\": \"Daily confirmed cases\", \"7-day rolling average\": \"7-day rolling average\"}, {\"Date\": \"2020-04-17\", \"Confirmed cases\": 0, \"Rolling\": 1.0, \"Daily confirmed cases\": \"Daily confirmed cases\", \"7-day rolling average\": \"7-day rolling average\"}, {\"Date\": \"2020-04-18\", \"Confirmed cases\": 0, \"Rolling\": 0.5714285714285714, \"Daily confirmed cases\": \"Daily confirmed cases\", \"7-day rolling average\": \"7-day rolling average\"}, {\"Date\": \"2020-04-19\", \"Confirmed cases\": 0, \"Rolling\": 0.2857142857142857, \"Daily confirmed cases\": \"Daily confirmed cases\", \"7-day rolling average\": \"7-day rolling average\"}, {\"Date\": \"2020-04-20\", \"Confirmed cases\": 1, \"Rolling\": 0.42857142857142855, \"Daily confirmed cases\": \"Daily confirmed cases\", \"7-day rolling average\": \"7-day rolling average\"}, {\"Date\": \"2020-04-21\", \"Confirmed cases\": 0, \"Rolling\": 0.42857142857142855, \"Daily confirmed cases\": \"Daily confirmed cases\", \"7-day rolling average\": \"7-day rolling average\"}, {\"Date\": \"2020-04-22\", \"Confirmed cases\": 1, \"Rolling\": 0.5714285714285714, \"Daily confirmed cases\": \"Daily confirmed cases\", \"7-day rolling average\": \"7-day rolling average\"}, {\"Date\": \"2020-04-23\", \"Confirmed cases\": 0, \"Rolling\": 0.2857142857142857, \"Daily confirmed cases\": \"Daily confirmed cases\", \"7-day rolling average\": \"7-day rolling average\"}, {\"Date\": \"2020-04-24\", \"Confirmed cases\": 2, \"Rolling\": 0.5714285714285714, \"Daily confirmed cases\": \"Daily confirmed cases\", \"7-day rolling average\": \"7-day rolling average\"}, {\"Date\": \"2020-04-25\", \"Confirmed cases\": 1, \"Rolling\": 0.7142857142857143, \"Daily confirmed cases\": \"Daily confirmed cases\", \"7-day rolling average\": \"7-day rolling average\"}, {\"Date\": \"2020-04-26\", \"Confirmed cases\": 0, \"Rolling\": 0.7142857142857143, \"Daily confirmed cases\": \"Daily confirmed cases\", \"7-day rolling average\": \"7-day rolling average\"}, {\"Date\": \"2020-04-27\", \"Confirmed cases\": 1, \"Rolling\": 0.7142857142857143, \"Daily confirmed cases\": \"Daily confirmed cases\", \"7-day rolling average\": \"7-day rolling average\"}, {\"Date\": \"2020-04-28\", \"Confirmed cases\": 0, \"Rolling\": 0.7142857142857143, \"Daily confirmed cases\": \"Daily confirmed cases\", \"7-day rolling average\": \"7-day rolling average\"}]}}, {\"mode\": \"vega-lite\"});\n",
       "</script>"
      ],
      "text/plain": [
       "alt.LayerChart(...)"
      ]
     },
     "execution_count": 45,
     "metadata": {},
     "output_type": "execute_result"
    }
   ],
   "source": [
    "#hide_input\n",
    "bars, line = my_cases_plot(region)\n",
    "(bars + line).properties(\n",
    "    title=f'COVID-19 in Chile: Daily confirmed cases in {region}',\n",
    "    width=600\n",
    ")"
   ]
  },
  {
   "cell_type": "markdown",
   "metadata": {
    "papermill": {
     "duration": 0.08713,
     "end_time": "2020-04-28T12:16:43.908586",
     "exception": false,
     "start_time": "2020-04-28T12:16:43.821456",
     "status": "completed"
    },
    "tags": []
   },
   "source": [
    "## Valparaíso"
   ]
  },
  {
   "cell_type": "code",
   "execution_count": 46,
   "metadata": {
    "execution": {
     "iopub.execute_input": "2020-04-28T12:16:44.090086Z",
     "iopub.status.busy": "2020-04-28T12:16:44.089477Z",
     "iopub.status.idle": "2020-04-28T12:16:44.092752Z",
     "shell.execute_reply": "2020-04-28T12:16:44.093234Z"
    },
    "papermill": {
     "duration": 0.097657,
     "end_time": "2020-04-28T12:16:44.093363",
     "exception": false,
     "start_time": "2020-04-28T12:16:43.995706",
     "status": "completed"
    },
    "tags": []
   },
   "outputs": [],
   "source": [
    "#hide\n",
    "region = \"Valparaíso\""
   ]
  },
  {
   "cell_type": "code",
   "execution_count": 47,
   "metadata": {
    "execution": {
     "iopub.execute_input": "2020-04-28T12:16:44.290320Z",
     "iopub.status.busy": "2020-04-28T12:16:44.285221Z",
     "iopub.status.idle": "2020-04-28T12:16:44.317980Z",
     "shell.execute_reply": "2020-04-28T12:16:44.317220Z"
    },
    "papermill": {
     "duration": 0.137832,
     "end_time": "2020-04-28T12:16:44.318096",
     "exception": false,
     "start_time": "2020-04-28T12:16:44.180264",
     "status": "completed"
    },
    "tags": []
   },
   "outputs": [
    {
     "data": {
      "text/html": [
       "\n",
       "<div id=\"altair-viz-ce7911656f494ba88db8d3e154454578\"></div>\n",
       "<script type=\"text/javascript\">\n",
       "  (function(spec, embedOpt){\n",
       "    let outputDiv = document.currentScript.previousElementSibling;\n",
       "    if (outputDiv.id !== \"altair-viz-ce7911656f494ba88db8d3e154454578\") {\n",
       "      outputDiv = document.getElementById(\"altair-viz-ce7911656f494ba88db8d3e154454578\");\n",
       "    }\n",
       "    const paths = {\n",
       "      \"vega\": \"https://cdn.jsdelivr.net/npm//vega@5?noext\",\n",
       "      \"vega-lib\": \"https://cdn.jsdelivr.net/npm//vega-lib?noext\",\n",
       "      \"vega-lite\": \"https://cdn.jsdelivr.net/npm//vega-lite@4.8.1?noext\",\n",
       "      \"vega-embed\": \"https://cdn.jsdelivr.net/npm//vega-embed@6?noext\",\n",
       "    };\n",
       "\n",
       "    function loadScript(lib) {\n",
       "      return new Promise(function(resolve, reject) {\n",
       "        var s = document.createElement('script');\n",
       "        s.src = paths[lib];\n",
       "        s.async = true;\n",
       "        s.onload = () => resolve(paths[lib]);\n",
       "        s.onerror = () => reject(`Error loading script: ${paths[lib]}`);\n",
       "        document.getElementsByTagName(\"head\")[0].appendChild(s);\n",
       "      });\n",
       "    }\n",
       "\n",
       "    function showError(err) {\n",
       "      outputDiv.innerHTML = `<div class=\"error\" style=\"color:red;\">${err}</div>`;\n",
       "      throw err;\n",
       "    }\n",
       "\n",
       "    function displayChart(vegaEmbed) {\n",
       "      vegaEmbed(outputDiv, spec, embedOpt)\n",
       "        .catch(err => showError(`Javascript Error: ${err.message}<br>This usually means there's a typo in your chart specification. See the javascript console for the full traceback.`));\n",
       "    }\n",
       "\n",
       "    if(typeof define === \"function\" && define.amd) {\n",
       "      requirejs.config({paths});\n",
       "      require([\"vega-embed\"], displayChart, err => showError(`Error loading script: ${err.message}`));\n",
       "    } else if (typeof vegaEmbed === \"function\") {\n",
       "      displayChart(vegaEmbed);\n",
       "    } else {\n",
       "      loadScript(\"vega\")\n",
       "        .then(() => loadScript(\"vega-lite\"))\n",
       "        .then(() => loadScript(\"vega-embed\"))\n",
       "        .catch(showError)\n",
       "        .then(() => displayChart(vegaEmbed));\n",
       "    }\n",
       "  })({\"config\": {\"view\": {\"continuousWidth\": 400, \"continuousHeight\": 300}}, \"layer\": [{\"mark\": {\"type\": \"bar\", \"opacity\": 0.7}, \"encoding\": {\"opacity\": {\"type\": \"nominal\", \"field\": \"Daily confirmed cases\", \"legend\": {\"title\": \"\"}}, \"tooltip\": [{\"type\": \"nominal\", \"field\": \"Date\"}, {\"type\": \"quantitative\", \"field\": \"Confirmed cases\"}], \"x\": {\"type\": \"nominal\", \"axis\": {\"title\": \"Date\"}, \"field\": \"Date\"}, \"y\": {\"type\": \"quantitative\", \"axis\": {\"title\": \"Daily confirmed cases\"}, \"field\": \"Confirmed cases\"}}}, {\"mark\": {\"type\": \"line\", \"color\": \"#1f77b4\", \"point\": {\"filled\": true, \"fill\": \"#1f77b4\"}}, \"encoding\": {\"shape\": {\"type\": \"nominal\", \"field\": \"7-day rolling average\", \"legend\": {\"title\": \"\"}}, \"x\": {\"type\": \"nominal\", \"axis\": {\"title\": \"Date\"}, \"field\": \"Date\"}, \"y\": {\"type\": \"quantitative\", \"field\": \"Rolling\"}}}], \"data\": {\"name\": \"data-de96dd9248349aacb3bb9a59a5900bc0\"}, \"title\": \"COVID-19 in Chile: Daily confirmed cases in Valpara\\u00edso\", \"width\": 600, \"$schema\": \"https://vega.github.io/schema/vega-lite/v4.8.1.json\", \"datasets\": {\"data-de96dd9248349aacb3bb9a59a5900bc0\": [{\"Date\": \"2020-03-04\", \"Confirmed cases\": 0, \"Rolling\": null, \"Daily confirmed cases\": \"Daily confirmed cases\", \"7-day rolling average\": \"7-day rolling average\"}, {\"Date\": \"2020-03-05\", \"Confirmed cases\": 0, \"Rolling\": null, \"Daily confirmed cases\": \"Daily confirmed cases\", \"7-day rolling average\": \"7-day rolling average\"}, {\"Date\": \"2020-03-06\", \"Confirmed cases\": 0, \"Rolling\": null, \"Daily confirmed cases\": \"Daily confirmed cases\", \"7-day rolling average\": \"7-day rolling average\"}, {\"Date\": \"2020-03-07\", \"Confirmed cases\": 0, \"Rolling\": null, \"Daily confirmed cases\": \"Daily confirmed cases\", \"7-day rolling average\": \"7-day rolling average\"}, {\"Date\": \"2020-03-08\", \"Confirmed cases\": 0, \"Rolling\": null, \"Daily confirmed cases\": \"Daily confirmed cases\", \"7-day rolling average\": \"7-day rolling average\"}, {\"Date\": \"2020-03-09\", \"Confirmed cases\": 0, \"Rolling\": null, \"Daily confirmed cases\": \"Daily confirmed cases\", \"7-day rolling average\": \"7-day rolling average\"}, {\"Date\": \"2020-03-10\", \"Confirmed cases\": 0, \"Rolling\": 0.0, \"Daily confirmed cases\": \"Daily confirmed cases\", \"7-day rolling average\": \"7-day rolling average\"}, {\"Date\": \"2020-03-11\", \"Confirmed cases\": 0, \"Rolling\": 0.0, \"Daily confirmed cases\": \"Daily confirmed cases\", \"7-day rolling average\": \"7-day rolling average\"}, {\"Date\": \"2020-03-12\", \"Confirmed cases\": 0, \"Rolling\": 0.0, \"Daily confirmed cases\": \"Daily confirmed cases\", \"7-day rolling average\": \"7-day rolling average\"}, {\"Date\": \"2020-03-13\", \"Confirmed cases\": 0, \"Rolling\": 0.0, \"Daily confirmed cases\": \"Daily confirmed cases\", \"7-day rolling average\": \"7-day rolling average\"}, {\"Date\": \"2020-03-14\", \"Confirmed cases\": 0, \"Rolling\": 0.0, \"Daily confirmed cases\": \"Daily confirmed cases\", \"7-day rolling average\": \"7-day rolling average\"}, {\"Date\": \"2020-03-15\", \"Confirmed cases\": 0, \"Rolling\": 0.0, \"Daily confirmed cases\": \"Daily confirmed cases\", \"7-day rolling average\": \"7-day rolling average\"}, {\"Date\": \"2020-03-16\", \"Confirmed cases\": 1, \"Rolling\": 0.14285714285714285, \"Daily confirmed cases\": \"Daily confirmed cases\", \"7-day rolling average\": \"7-day rolling average\"}, {\"Date\": \"2020-03-17\", \"Confirmed cases\": 0, \"Rolling\": 0.14285714285714285, \"Daily confirmed cases\": \"Daily confirmed cases\", \"7-day rolling average\": \"7-day rolling average\"}, {\"Date\": \"2020-03-18\", \"Confirmed cases\": 0, \"Rolling\": 0.14285714285714285, \"Daily confirmed cases\": \"Daily confirmed cases\", \"7-day rolling average\": \"7-day rolling average\"}, {\"Date\": \"2020-03-19\", \"Confirmed cases\": 3, \"Rolling\": 0.5714285714285714, \"Daily confirmed cases\": \"Daily confirmed cases\", \"7-day rolling average\": \"7-day rolling average\"}, {\"Date\": \"2020-03-20\", \"Confirmed cases\": 1, \"Rolling\": 0.7142857142857143, \"Daily confirmed cases\": \"Daily confirmed cases\", \"7-day rolling average\": \"7-day rolling average\"}, {\"Date\": \"2020-03-21\", \"Confirmed cases\": 8, \"Rolling\": 1.8571428571428572, \"Daily confirmed cases\": \"Daily confirmed cases\", \"7-day rolling average\": \"7-day rolling average\"}, {\"Date\": \"2020-03-22\", \"Confirmed cases\": 3, \"Rolling\": 2.2857142857142856, \"Daily confirmed cases\": \"Daily confirmed cases\", \"7-day rolling average\": \"7-day rolling average\"}, {\"Date\": \"2020-03-23\", \"Confirmed cases\": 3, \"Rolling\": 2.5714285714285716, \"Daily confirmed cases\": \"Daily confirmed cases\", \"7-day rolling average\": \"7-day rolling average\"}, {\"Date\": \"2020-03-24\", \"Confirmed cases\": 6, \"Rolling\": 3.4285714285714284, \"Daily confirmed cases\": \"Daily confirmed cases\", \"7-day rolling average\": \"7-day rolling average\"}, {\"Date\": \"2020-03-25\", \"Confirmed cases\": 7, \"Rolling\": 4.428571428571429, \"Daily confirmed cases\": \"Daily confirmed cases\", \"7-day rolling average\": \"7-day rolling average\"}, {\"Date\": \"2020-03-26\", \"Confirmed cases\": 12, \"Rolling\": 5.714285714285714, \"Daily confirmed cases\": \"Daily confirmed cases\", \"7-day rolling average\": \"7-day rolling average\"}, {\"Date\": \"2020-03-27\", \"Confirmed cases\": 5, \"Rolling\": 6.285714285714286, \"Daily confirmed cases\": \"Daily confirmed cases\", \"7-day rolling average\": \"7-day rolling average\"}, {\"Date\": \"2020-03-28\", \"Confirmed cases\": 22, \"Rolling\": 8.285714285714286, \"Daily confirmed cases\": \"Daily confirmed cases\", \"7-day rolling average\": \"7-day rolling average\"}, {\"Date\": \"2020-03-29\", \"Confirmed cases\": 9, \"Rolling\": 9.142857142857142, \"Daily confirmed cases\": \"Daily confirmed cases\", \"7-day rolling average\": \"7-day rolling average\"}, {\"Date\": \"2020-03-30\", \"Confirmed cases\": 28, \"Rolling\": 12.714285714285714, \"Daily confirmed cases\": \"Daily confirmed cases\", \"7-day rolling average\": \"7-day rolling average\"}, {\"Date\": \"2020-03-31\", \"Confirmed cases\": 7, \"Rolling\": 12.857142857142858, \"Daily confirmed cases\": \"Daily confirmed cases\", \"7-day rolling average\": \"7-day rolling average\"}, {\"Date\": \"2020-04-01\", \"Confirmed cases\": 21, \"Rolling\": 14.857142857142858, \"Daily confirmed cases\": \"Daily confirmed cases\", \"7-day rolling average\": \"7-day rolling average\"}, {\"Date\": \"2020-04-02\", \"Confirmed cases\": 20, \"Rolling\": 16.0, \"Daily confirmed cases\": \"Daily confirmed cases\", \"7-day rolling average\": \"7-day rolling average\"}, {\"Date\": \"2020-04-03\", \"Confirmed cases\": 20, \"Rolling\": 18.142857142857142, \"Daily confirmed cases\": \"Daily confirmed cases\", \"7-day rolling average\": \"7-day rolling average\"}, {\"Date\": \"2020-04-04\", \"Confirmed cases\": 9, \"Rolling\": 16.285714285714285, \"Daily confirmed cases\": \"Daily confirmed cases\", \"7-day rolling average\": \"7-day rolling average\"}, {\"Date\": \"2020-04-05\", \"Confirmed cases\": 6, \"Rolling\": 15.857142857142858, \"Daily confirmed cases\": \"Daily confirmed cases\", \"7-day rolling average\": \"7-day rolling average\"}, {\"Date\": \"2020-04-06\", \"Confirmed cases\": 7, \"Rolling\": 12.857142857142858, \"Daily confirmed cases\": \"Daily confirmed cases\", \"7-day rolling average\": \"7-day rolling average\"}, {\"Date\": \"2020-04-07\", \"Confirmed cases\": 16, \"Rolling\": 14.142857142857142, \"Daily confirmed cases\": \"Daily confirmed cases\", \"7-day rolling average\": \"7-day rolling average\"}, {\"Date\": \"2020-04-08\", \"Confirmed cases\": 11, \"Rolling\": 12.714285714285714, \"Daily confirmed cases\": \"Daily confirmed cases\", \"7-day rolling average\": \"7-day rolling average\"}, {\"Date\": \"2020-04-09\", \"Confirmed cases\": 5, \"Rolling\": 10.571428571428571, \"Daily confirmed cases\": \"Daily confirmed cases\", \"7-day rolling average\": \"7-day rolling average\"}, {\"Date\": \"2020-04-10\", \"Confirmed cases\": 11, \"Rolling\": 9.285714285714286, \"Daily confirmed cases\": \"Daily confirmed cases\", \"7-day rolling average\": \"7-day rolling average\"}, {\"Date\": \"2020-04-11\", \"Confirmed cases\": 7, \"Rolling\": 9.0, \"Daily confirmed cases\": \"Daily confirmed cases\", \"7-day rolling average\": \"7-day rolling average\"}, {\"Date\": \"2020-04-12\", \"Confirmed cases\": 6, \"Rolling\": 9.0, \"Daily confirmed cases\": \"Daily confirmed cases\", \"7-day rolling average\": \"7-day rolling average\"}, {\"Date\": \"2020-04-13\", \"Confirmed cases\": 19, \"Rolling\": 10.714285714285714, \"Daily confirmed cases\": \"Daily confirmed cases\", \"7-day rolling average\": \"7-day rolling average\"}, {\"Date\": \"2020-04-14\", \"Confirmed cases\": 12, \"Rolling\": 10.142857142857142, \"Daily confirmed cases\": \"Daily confirmed cases\", \"7-day rolling average\": \"7-day rolling average\"}, {\"Date\": \"2020-04-15\", \"Confirmed cases\": 14, \"Rolling\": 10.571428571428571, \"Daily confirmed cases\": \"Daily confirmed cases\", \"7-day rolling average\": \"7-day rolling average\"}, {\"Date\": \"2020-04-16\", \"Confirmed cases\": 31, \"Rolling\": 14.285714285714286, \"Daily confirmed cases\": \"Daily confirmed cases\", \"7-day rolling average\": \"7-day rolling average\"}, {\"Date\": \"2020-04-17\", \"Confirmed cases\": 15, \"Rolling\": 14.857142857142858, \"Daily confirmed cases\": \"Daily confirmed cases\", \"7-day rolling average\": \"7-day rolling average\"}, {\"Date\": \"2020-04-18\", \"Confirmed cases\": 14, \"Rolling\": 15.857142857142858, \"Daily confirmed cases\": \"Daily confirmed cases\", \"7-day rolling average\": \"7-day rolling average\"}, {\"Date\": \"2020-04-19\", \"Confirmed cases\": 22, \"Rolling\": 18.142857142857142, \"Daily confirmed cases\": \"Daily confirmed cases\", \"7-day rolling average\": \"7-day rolling average\"}, {\"Date\": \"2020-04-20\", \"Confirmed cases\": 7, \"Rolling\": 16.428571428571427, \"Daily confirmed cases\": \"Daily confirmed cases\", \"7-day rolling average\": \"7-day rolling average\"}, {\"Date\": \"2020-04-21\", \"Confirmed cases\": 15, \"Rolling\": 16.857142857142858, \"Daily confirmed cases\": \"Daily confirmed cases\", \"7-day rolling average\": \"7-day rolling average\"}, {\"Date\": \"2020-04-22\", \"Confirmed cases\": 18, \"Rolling\": 17.428571428571427, \"Daily confirmed cases\": \"Daily confirmed cases\", \"7-day rolling average\": \"7-day rolling average\"}, {\"Date\": \"2020-04-23\", \"Confirmed cases\": 8, \"Rolling\": 14.142857142857142, \"Daily confirmed cases\": \"Daily confirmed cases\", \"7-day rolling average\": \"7-day rolling average\"}, {\"Date\": \"2020-04-24\", \"Confirmed cases\": 7, \"Rolling\": 13.0, \"Daily confirmed cases\": \"Daily confirmed cases\", \"7-day rolling average\": \"7-day rolling average\"}, {\"Date\": \"2020-04-25\", \"Confirmed cases\": 18, \"Rolling\": 13.571428571428571, \"Daily confirmed cases\": \"Daily confirmed cases\", \"7-day rolling average\": \"7-day rolling average\"}, {\"Date\": \"2020-04-26\", \"Confirmed cases\": 6, \"Rolling\": 11.285714285714286, \"Daily confirmed cases\": \"Daily confirmed cases\", \"7-day rolling average\": \"7-day rolling average\"}, {\"Date\": \"2020-04-27\", \"Confirmed cases\": 25, \"Rolling\": 13.857142857142858, \"Daily confirmed cases\": \"Daily confirmed cases\", \"7-day rolling average\": \"7-day rolling average\"}, {\"Date\": \"2020-04-28\", \"Confirmed cases\": 8, \"Rolling\": 12.857142857142858, \"Daily confirmed cases\": \"Daily confirmed cases\", \"7-day rolling average\": \"7-day rolling average\"}]}}, {\"mode\": \"vega-lite\"});\n",
       "</script>"
      ],
      "text/plain": [
       "alt.LayerChart(...)"
      ]
     },
     "execution_count": 47,
     "metadata": {},
     "output_type": "execute_result"
    }
   ],
   "source": [
    "#hide_input\n",
    "bars, line = my_cases_plot(region)\n",
    "(bars + line).properties(\n",
    "    title=f'COVID-19 in Chile: Daily confirmed cases in {region}',\n",
    "    width=600\n",
    ")"
   ]
  },
  {
   "cell_type": "markdown",
   "metadata": {
    "papermill": {
     "duration": 0.087193,
     "end_time": "2020-04-28T12:16:44.493007",
     "exception": false,
     "start_time": "2020-04-28T12:16:44.405814",
     "status": "completed"
    },
    "tags": []
   },
   "source": [
    "## Metropolitana"
   ]
  },
  {
   "cell_type": "code",
   "execution_count": 48,
   "metadata": {
    "execution": {
     "iopub.execute_input": "2020-04-28T12:16:44.674149Z",
     "iopub.status.busy": "2020-04-28T12:16:44.673551Z",
     "iopub.status.idle": "2020-04-28T12:16:44.676542Z",
     "shell.execute_reply": "2020-04-28T12:16:44.676063Z"
    },
    "papermill": {
     "duration": 0.094555,
     "end_time": "2020-04-28T12:16:44.676652",
     "exception": false,
     "start_time": "2020-04-28T12:16:44.582097",
     "status": "completed"
    },
    "tags": []
   },
   "outputs": [],
   "source": [
    "#hide\n",
    "region = \"Metropolitana\""
   ]
  },
  {
   "cell_type": "code",
   "execution_count": 49,
   "metadata": {
    "execution": {
     "iopub.execute_input": "2020-04-28T12:16:44.880399Z",
     "iopub.status.busy": "2020-04-28T12:16:44.875405Z",
     "iopub.status.idle": "2020-04-28T12:16:44.905649Z",
     "shell.execute_reply": "2020-04-28T12:16:44.906315Z"
    },
    "papermill": {
     "duration": 0.141748,
     "end_time": "2020-04-28T12:16:44.906489",
     "exception": false,
     "start_time": "2020-04-28T12:16:44.764741",
     "status": "completed"
    },
    "tags": []
   },
   "outputs": [
    {
     "data": {
      "text/html": [
       "\n",
       "<div id=\"altair-viz-6560109881fb4d17bf773943a54b4519\"></div>\n",
       "<script type=\"text/javascript\">\n",
       "  (function(spec, embedOpt){\n",
       "    let outputDiv = document.currentScript.previousElementSibling;\n",
       "    if (outputDiv.id !== \"altair-viz-6560109881fb4d17bf773943a54b4519\") {\n",
       "      outputDiv = document.getElementById(\"altair-viz-6560109881fb4d17bf773943a54b4519\");\n",
       "    }\n",
       "    const paths = {\n",
       "      \"vega\": \"https://cdn.jsdelivr.net/npm//vega@5?noext\",\n",
       "      \"vega-lib\": \"https://cdn.jsdelivr.net/npm//vega-lib?noext\",\n",
       "      \"vega-lite\": \"https://cdn.jsdelivr.net/npm//vega-lite@4.8.1?noext\",\n",
       "      \"vega-embed\": \"https://cdn.jsdelivr.net/npm//vega-embed@6?noext\",\n",
       "    };\n",
       "\n",
       "    function loadScript(lib) {\n",
       "      return new Promise(function(resolve, reject) {\n",
       "        var s = document.createElement('script');\n",
       "        s.src = paths[lib];\n",
       "        s.async = true;\n",
       "        s.onload = () => resolve(paths[lib]);\n",
       "        s.onerror = () => reject(`Error loading script: ${paths[lib]}`);\n",
       "        document.getElementsByTagName(\"head\")[0].appendChild(s);\n",
       "      });\n",
       "    }\n",
       "\n",
       "    function showError(err) {\n",
       "      outputDiv.innerHTML = `<div class=\"error\" style=\"color:red;\">${err}</div>`;\n",
       "      throw err;\n",
       "    }\n",
       "\n",
       "    function displayChart(vegaEmbed) {\n",
       "      vegaEmbed(outputDiv, spec, embedOpt)\n",
       "        .catch(err => showError(`Javascript Error: ${err.message}<br>This usually means there's a typo in your chart specification. See the javascript console for the full traceback.`));\n",
       "    }\n",
       "\n",
       "    if(typeof define === \"function\" && define.amd) {\n",
       "      requirejs.config({paths});\n",
       "      require([\"vega-embed\"], displayChart, err => showError(`Error loading script: ${err.message}`));\n",
       "    } else if (typeof vegaEmbed === \"function\") {\n",
       "      displayChart(vegaEmbed);\n",
       "    } else {\n",
       "      loadScript(\"vega\")\n",
       "        .then(() => loadScript(\"vega-lite\"))\n",
       "        .then(() => loadScript(\"vega-embed\"))\n",
       "        .catch(showError)\n",
       "        .then(() => displayChart(vegaEmbed));\n",
       "    }\n",
       "  })({\"config\": {\"view\": {\"continuousWidth\": 400, \"continuousHeight\": 300}}, \"layer\": [{\"mark\": {\"type\": \"bar\", \"opacity\": 0.7}, \"encoding\": {\"opacity\": {\"type\": \"nominal\", \"field\": \"Daily confirmed cases\", \"legend\": {\"title\": \"\"}}, \"tooltip\": [{\"type\": \"nominal\", \"field\": \"Date\"}, {\"type\": \"quantitative\", \"field\": \"Confirmed cases\"}], \"x\": {\"type\": \"nominal\", \"axis\": {\"title\": \"Date\"}, \"field\": \"Date\"}, \"y\": {\"type\": \"quantitative\", \"axis\": {\"title\": \"Daily confirmed cases\"}, \"field\": \"Confirmed cases\"}}}, {\"mark\": {\"type\": \"line\", \"color\": \"#1f77b4\", \"point\": {\"filled\": true, \"fill\": \"#1f77b4\"}}, \"encoding\": {\"shape\": {\"type\": \"nominal\", \"field\": \"7-day rolling average\", \"legend\": {\"title\": \"\"}}, \"x\": {\"type\": \"nominal\", \"axis\": {\"title\": \"Date\"}, \"field\": \"Date\"}, \"y\": {\"type\": \"quantitative\", \"field\": \"Rolling\"}}}], \"data\": {\"name\": \"data-f8026385cf9dfb12d18c099ba6ed55e1\"}, \"title\": \"COVID-19 in Chile: Daily confirmed cases in Metropolitana\", \"width\": 600, \"$schema\": \"https://vega.github.io/schema/vega-lite/v4.8.1.json\", \"datasets\": {\"data-f8026385cf9dfb12d18c099ba6ed55e1\": [{\"Date\": \"2020-03-04\", \"Confirmed cases\": 1, \"Rolling\": null, \"Daily confirmed cases\": \"Daily confirmed cases\", \"7-day rolling average\": \"7-day rolling average\"}, {\"Date\": \"2020-03-05\", \"Confirmed cases\": 1, \"Rolling\": null, \"Daily confirmed cases\": \"Daily confirmed cases\", \"7-day rolling average\": \"7-day rolling average\"}, {\"Date\": \"2020-03-06\", \"Confirmed cases\": 1, \"Rolling\": null, \"Daily confirmed cases\": \"Daily confirmed cases\", \"7-day rolling average\": \"7-day rolling average\"}, {\"Date\": \"2020-03-07\", \"Confirmed cases\": 1, \"Rolling\": null, \"Daily confirmed cases\": \"Daily confirmed cases\", \"7-day rolling average\": \"7-day rolling average\"}, {\"Date\": \"2020-03-08\", \"Confirmed cases\": 2, \"Rolling\": null, \"Daily confirmed cases\": \"Daily confirmed cases\", \"7-day rolling average\": \"7-day rolling average\"}, {\"Date\": \"2020-03-09\", \"Confirmed cases\": 3, \"Rolling\": null, \"Daily confirmed cases\": \"Daily confirmed cases\", \"7-day rolling average\": \"7-day rolling average\"}, {\"Date\": \"2020-03-10\", \"Confirmed cases\": 1, \"Rolling\": 1.4285714285714286, \"Daily confirmed cases\": \"Daily confirmed cases\", \"7-day rolling average\": \"7-day rolling average\"}, {\"Date\": \"2020-03-11\", \"Confirmed cases\": 4, \"Rolling\": 1.8571428571428572, \"Daily confirmed cases\": \"Daily confirmed cases\", \"7-day rolling average\": \"7-day rolling average\"}, {\"Date\": \"2020-03-12\", \"Confirmed cases\": 9, \"Rolling\": 3.0, \"Daily confirmed cases\": \"Daily confirmed cases\", \"7-day rolling average\": \"7-day rolling average\"}, {\"Date\": \"2020-03-13\", \"Confirmed cases\": 6, \"Rolling\": 3.7142857142857144, \"Daily confirmed cases\": \"Daily confirmed cases\", \"7-day rolling average\": \"7-day rolling average\"}, {\"Date\": \"2020-03-14\", \"Confirmed cases\": 11, \"Rolling\": 5.142857142857143, \"Daily confirmed cases\": \"Daily confirmed cases\", \"7-day rolling average\": \"7-day rolling average\"}, {\"Date\": \"2020-03-15\", \"Confirmed cases\": 14, \"Rolling\": 6.857142857142857, \"Daily confirmed cases\": \"Daily confirmed cases\", \"7-day rolling average\": \"7-day rolling average\"}, {\"Date\": \"2020-03-16\", \"Confirmed cases\": 69, \"Rolling\": 16.285714285714285, \"Daily confirmed cases\": \"Daily confirmed cases\", \"7-day rolling average\": \"7-day rolling average\"}, {\"Date\": \"2020-03-17\", \"Confirmed cases\": 29, \"Rolling\": 20.285714285714285, \"Daily confirmed cases\": \"Daily confirmed cases\", \"7-day rolling average\": \"7-day rolling average\"}, {\"Date\": \"2020-03-18\", \"Confirmed cases\": 22, \"Rolling\": 22.857142857142858, \"Daily confirmed cases\": \"Daily confirmed cases\", \"7-day rolling average\": \"7-day rolling average\"}, {\"Date\": \"2020-03-19\", \"Confirmed cases\": 73, \"Rolling\": 32.0, \"Daily confirmed cases\": \"Daily confirmed cases\", \"7-day rolling average\": \"7-day rolling average\"}, {\"Date\": \"2020-03-20\", \"Confirmed cases\": 57, \"Rolling\": 39.285714285714285, \"Daily confirmed cases\": \"Daily confirmed cases\", \"7-day rolling average\": \"7-day rolling average\"}, {\"Date\": \"2020-03-21\", \"Confirmed cases\": 55, \"Rolling\": 45.57142857142857, \"Daily confirmed cases\": \"Daily confirmed cases\", \"7-day rolling average\": \"7-day rolling average\"}, {\"Date\": \"2020-03-22\", \"Confirmed cases\": 50, \"Rolling\": 50.714285714285715, \"Daily confirmed cases\": \"Daily confirmed cases\", \"7-day rolling average\": \"7-day rolling average\"}, {\"Date\": \"2020-03-23\", \"Confirmed cases\": 50, \"Rolling\": 48.0, \"Daily confirmed cases\": \"Daily confirmed cases\", \"7-day rolling average\": \"7-day rolling average\"}, {\"Date\": \"2020-03-24\", \"Confirmed cases\": 81, \"Rolling\": 55.42857142857143, \"Daily confirmed cases\": \"Daily confirmed cases\", \"7-day rolling average\": \"7-day rolling average\"}, {\"Date\": \"2020-03-25\", \"Confirmed cases\": 142, \"Rolling\": 72.57142857142857, \"Daily confirmed cases\": \"Daily confirmed cases\", \"7-day rolling average\": \"7-day rolling average\"}, {\"Date\": \"2020-03-26\", \"Confirmed cases\": 64, \"Rolling\": 71.28571428571429, \"Daily confirmed cases\": \"Daily confirmed cases\", \"7-day rolling average\": \"7-day rolling average\"}, {\"Date\": \"2020-03-27\", \"Confirmed cases\": 192, \"Rolling\": 90.57142857142857, \"Daily confirmed cases\": \"Daily confirmed cases\", \"7-day rolling average\": \"7-day rolling average\"}, {\"Date\": \"2020-03-28\", \"Confirmed cases\": 146, \"Rolling\": 103.57142857142857, \"Daily confirmed cases\": \"Daily confirmed cases\", \"7-day rolling average\": \"7-day rolling average\"}, {\"Date\": \"2020-03-29\", \"Confirmed cases\": 83, \"Rolling\": 108.28571428571429, \"Daily confirmed cases\": \"Daily confirmed cases\", \"7-day rolling average\": \"7-day rolling average\"}, {\"Date\": \"2020-03-30\", \"Confirmed cases\": 128, \"Rolling\": 119.42857142857143, \"Daily confirmed cases\": \"Daily confirmed cases\", \"7-day rolling average\": \"7-day rolling average\"}, {\"Date\": \"2020-03-31\", \"Confirmed cases\": 125, \"Rolling\": 125.71428571428571, \"Daily confirmed cases\": \"Daily confirmed cases\", \"7-day rolling average\": \"7-day rolling average\"}, {\"Date\": \"2020-04-01\", \"Confirmed cases\": 101, \"Rolling\": 119.85714285714286, \"Daily confirmed cases\": \"Daily confirmed cases\", \"7-day rolling average\": \"7-day rolling average\"}, {\"Date\": \"2020-04-02\", \"Confirmed cases\": 115, \"Rolling\": 127.14285714285714, \"Daily confirmed cases\": \"Daily confirmed cases\", \"7-day rolling average\": \"7-day rolling average\"}, {\"Date\": \"2020-04-03\", \"Confirmed cases\": 106, \"Rolling\": 114.85714285714286, \"Daily confirmed cases\": \"Daily confirmed cases\", \"7-day rolling average\": \"7-day rolling average\"}, {\"Date\": \"2020-04-04\", \"Confirmed cases\": 215, \"Rolling\": 124.71428571428571, \"Daily confirmed cases\": \"Daily confirmed cases\", \"7-day rolling average\": \"7-day rolling average\"}, {\"Date\": \"2020-04-05\", \"Confirmed cases\": 145, \"Rolling\": 133.57142857142858, \"Daily confirmed cases\": \"Daily confirmed cases\", \"7-day rolling average\": \"7-day rolling average\"}, {\"Date\": \"2020-04-06\", \"Confirmed cases\": 142, \"Rolling\": 135.57142857142858, \"Daily confirmed cases\": \"Daily confirmed cases\", \"7-day rolling average\": \"7-day rolling average\"}, {\"Date\": \"2020-04-07\", \"Confirmed cases\": 106, \"Rolling\": 132.85714285714286, \"Daily confirmed cases\": \"Daily confirmed cases\", \"7-day rolling average\": \"7-day rolling average\"}, {\"Date\": \"2020-04-08\", \"Confirmed cases\": 198, \"Rolling\": 146.71428571428572, \"Daily confirmed cases\": \"Daily confirmed cases\", \"7-day rolling average\": \"7-day rolling average\"}, {\"Date\": \"2020-04-09\", \"Confirmed cases\": 284, \"Rolling\": 170.85714285714286, \"Daily confirmed cases\": \"Daily confirmed cases\", \"7-day rolling average\": \"7-day rolling average\"}, {\"Date\": \"2020-04-10\", \"Confirmed cases\": 361, \"Rolling\": 207.28571428571428, \"Daily confirmed cases\": \"Daily confirmed cases\", \"7-day rolling average\": \"7-day rolling average\"}, {\"Date\": \"2020-04-11\", \"Confirmed cases\": 255, \"Rolling\": 213.0, \"Daily confirmed cases\": \"Daily confirmed cases\", \"7-day rolling average\": \"7-day rolling average\"}, {\"Date\": \"2020-04-12\", \"Confirmed cases\": 151, \"Rolling\": 213.85714285714286, \"Daily confirmed cases\": \"Daily confirmed cases\", \"7-day rolling average\": \"7-day rolling average\"}, {\"Date\": \"2020-04-13\", \"Confirmed cases\": 204, \"Rolling\": 222.71428571428572, \"Daily confirmed cases\": \"Daily confirmed cases\", \"7-day rolling average\": \"7-day rolling average\"}, {\"Date\": \"2020-04-14\", \"Confirmed cases\": 283, \"Rolling\": 248.0, \"Daily confirmed cases\": \"Daily confirmed cases\", \"7-day rolling average\": \"7-day rolling average\"}, {\"Date\": \"2020-04-15\", \"Confirmed cases\": 248, \"Rolling\": 255.14285714285714, \"Daily confirmed cases\": \"Daily confirmed cases\", \"7-day rolling average\": \"7-day rolling average\"}, {\"Date\": \"2020-04-16\", \"Confirmed cases\": 348, \"Rolling\": 264.2857142857143, \"Daily confirmed cases\": \"Daily confirmed cases\", \"7-day rolling average\": \"7-day rolling average\"}, {\"Date\": \"2020-04-17\", \"Confirmed cases\": 233, \"Rolling\": 246.0, \"Daily confirmed cases\": \"Daily confirmed cases\", \"7-day rolling average\": \"7-day rolling average\"}, {\"Date\": \"2020-04-18\", \"Confirmed cases\": 277, \"Rolling\": 249.14285714285714, \"Daily confirmed cases\": \"Daily confirmed cases\", \"7-day rolling average\": \"7-day rolling average\"}, {\"Date\": \"2020-04-19\", \"Confirmed cases\": 189, \"Rolling\": 254.57142857142858, \"Daily confirmed cases\": \"Daily confirmed cases\", \"7-day rolling average\": \"7-day rolling average\"}, {\"Date\": \"2020-04-20\", \"Confirmed cases\": 262, \"Rolling\": 262.85714285714283, \"Daily confirmed cases\": \"Daily confirmed cases\", \"7-day rolling average\": \"7-day rolling average\"}, {\"Date\": \"2020-04-21\", \"Confirmed cases\": 145, \"Rolling\": 243.14285714285714, \"Daily confirmed cases\": \"Daily confirmed cases\", \"7-day rolling average\": \"7-day rolling average\"}, {\"Date\": \"2020-04-22\", \"Confirmed cases\": 295, \"Rolling\": 249.85714285714286, \"Daily confirmed cases\": \"Daily confirmed cases\", \"7-day rolling average\": \"7-day rolling average\"}, {\"Date\": \"2020-04-23\", \"Confirmed cases\": 351, \"Rolling\": 250.28571428571428, \"Daily confirmed cases\": \"Daily confirmed cases\", \"7-day rolling average\": \"7-day rolling average\"}, {\"Date\": \"2020-04-24\", \"Confirmed cases\": 327, \"Rolling\": 263.7142857142857, \"Daily confirmed cases\": \"Daily confirmed cases\", \"7-day rolling average\": \"7-day rolling average\"}, {\"Date\": \"2020-04-25\", \"Confirmed cases\": 404, \"Rolling\": 281.85714285714283, \"Daily confirmed cases\": \"Daily confirmed cases\", \"7-day rolling average\": \"7-day rolling average\"}, {\"Date\": \"2020-04-26\", \"Confirmed cases\": 331, \"Rolling\": 302.14285714285717, \"Daily confirmed cases\": \"Daily confirmed cases\", \"7-day rolling average\": \"7-day rolling average\"}, {\"Date\": \"2020-04-27\", \"Confirmed cases\": 362, \"Rolling\": 316.42857142857144, \"Daily confirmed cases\": \"Daily confirmed cases\", \"7-day rolling average\": \"7-day rolling average\"}, {\"Date\": \"2020-04-28\", \"Confirmed cases\": 442, \"Rolling\": 358.85714285714283, \"Daily confirmed cases\": \"Daily confirmed cases\", \"7-day rolling average\": \"7-day rolling average\"}]}}, {\"mode\": \"vega-lite\"});\n",
       "</script>"
      ],
      "text/plain": [
       "alt.LayerChart(...)"
      ]
     },
     "execution_count": 49,
     "metadata": {},
     "output_type": "execute_result"
    }
   ],
   "source": [
    "#hide_input\n",
    "bars, line = my_cases_plot(region)\n",
    "(bars + line).properties(\n",
    "    title=f'COVID-19 in Chile: Daily confirmed cases in {region}',\n",
    "    width=600\n",
    ")"
   ]
  },
  {
   "cell_type": "markdown",
   "metadata": {
    "papermill": {
     "duration": 0.089529,
     "end_time": "2020-04-28T12:16:45.086394",
     "exception": false,
     "start_time": "2020-04-28T12:16:44.996865",
     "status": "completed"
    },
    "tags": []
   },
   "source": [
    "## O'Higgins"
   ]
  },
  {
   "cell_type": "code",
   "execution_count": 50,
   "metadata": {
    "execution": {
     "iopub.execute_input": "2020-04-28T12:16:45.281109Z",
     "iopub.status.busy": "2020-04-28T12:16:45.280506Z",
     "iopub.status.idle": "2020-04-28T12:16:45.282806Z",
     "shell.execute_reply": "2020-04-28T12:16:45.283414Z"
    },
    "papermill": {
     "duration": 0.103725,
     "end_time": "2020-04-28T12:16:45.283544",
     "exception": false,
     "start_time": "2020-04-28T12:16:45.179819",
     "status": "completed"
    },
    "scrolled": true,
    "tags": []
   },
   "outputs": [],
   "source": [
    "#hide\n",
    "region = \"O’Higgins\""
   ]
  },
  {
   "cell_type": "code",
   "execution_count": 51,
   "metadata": {
    "execution": {
     "iopub.execute_input": "2020-04-28T12:16:45.471439Z",
     "iopub.status.busy": "2020-04-28T12:16:45.470765Z",
     "iopub.status.idle": "2020-04-28T12:16:45.510961Z",
     "shell.execute_reply": "2020-04-28T12:16:45.510443Z"
    },
    "papermill": {
     "duration": 0.138297,
     "end_time": "2020-04-28T12:16:45.511110",
     "exception": false,
     "start_time": "2020-04-28T12:16:45.372813",
     "status": "completed"
    },
    "tags": []
   },
   "outputs": [
    {
     "data": {
      "text/html": [
       "\n",
       "<div id=\"altair-viz-43f0926552a847f98229bc41ad4bf03a\"></div>\n",
       "<script type=\"text/javascript\">\n",
       "  (function(spec, embedOpt){\n",
       "    let outputDiv = document.currentScript.previousElementSibling;\n",
       "    if (outputDiv.id !== \"altair-viz-43f0926552a847f98229bc41ad4bf03a\") {\n",
       "      outputDiv = document.getElementById(\"altair-viz-43f0926552a847f98229bc41ad4bf03a\");\n",
       "    }\n",
       "    const paths = {\n",
       "      \"vega\": \"https://cdn.jsdelivr.net/npm//vega@5?noext\",\n",
       "      \"vega-lib\": \"https://cdn.jsdelivr.net/npm//vega-lib?noext\",\n",
       "      \"vega-lite\": \"https://cdn.jsdelivr.net/npm//vega-lite@4.8.1?noext\",\n",
       "      \"vega-embed\": \"https://cdn.jsdelivr.net/npm//vega-embed@6?noext\",\n",
       "    };\n",
       "\n",
       "    function loadScript(lib) {\n",
       "      return new Promise(function(resolve, reject) {\n",
       "        var s = document.createElement('script');\n",
       "        s.src = paths[lib];\n",
       "        s.async = true;\n",
       "        s.onload = () => resolve(paths[lib]);\n",
       "        s.onerror = () => reject(`Error loading script: ${paths[lib]}`);\n",
       "        document.getElementsByTagName(\"head\")[0].appendChild(s);\n",
       "      });\n",
       "    }\n",
       "\n",
       "    function showError(err) {\n",
       "      outputDiv.innerHTML = `<div class=\"error\" style=\"color:red;\">${err}</div>`;\n",
       "      throw err;\n",
       "    }\n",
       "\n",
       "    function displayChart(vegaEmbed) {\n",
       "      vegaEmbed(outputDiv, spec, embedOpt)\n",
       "        .catch(err => showError(`Javascript Error: ${err.message}<br>This usually means there's a typo in your chart specification. See the javascript console for the full traceback.`));\n",
       "    }\n",
       "\n",
       "    if(typeof define === \"function\" && define.amd) {\n",
       "      requirejs.config({paths});\n",
       "      require([\"vega-embed\"], displayChart, err => showError(`Error loading script: ${err.message}`));\n",
       "    } else if (typeof vegaEmbed === \"function\") {\n",
       "      displayChart(vegaEmbed);\n",
       "    } else {\n",
       "      loadScript(\"vega\")\n",
       "        .then(() => loadScript(\"vega-lite\"))\n",
       "        .then(() => loadScript(\"vega-embed\"))\n",
       "        .catch(showError)\n",
       "        .then(() => displayChart(vegaEmbed));\n",
       "    }\n",
       "  })({\"config\": {\"view\": {\"continuousWidth\": 400, \"continuousHeight\": 300}}, \"layer\": [{\"mark\": {\"type\": \"bar\", \"opacity\": 0.7}, \"encoding\": {\"opacity\": {\"type\": \"nominal\", \"field\": \"Daily confirmed cases\", \"legend\": {\"title\": \"\"}}, \"tooltip\": [{\"type\": \"nominal\", \"field\": \"Date\"}, {\"type\": \"quantitative\", \"field\": \"Confirmed cases\"}], \"x\": {\"type\": \"nominal\", \"axis\": {\"title\": \"Date\"}, \"field\": \"Date\"}, \"y\": {\"type\": \"quantitative\", \"axis\": {\"title\": \"Daily confirmed cases\"}, \"field\": \"Confirmed cases\"}}}, {\"mark\": {\"type\": \"line\", \"color\": \"#1f77b4\", \"point\": {\"filled\": true, \"fill\": \"#1f77b4\"}}, \"encoding\": {\"shape\": {\"type\": \"nominal\", \"field\": \"7-day rolling average\", \"legend\": {\"title\": \"\"}}, \"x\": {\"type\": \"nominal\", \"axis\": {\"title\": \"Date\"}, \"field\": \"Date\"}, \"y\": {\"type\": \"quantitative\", \"field\": \"Rolling\"}}}], \"data\": {\"name\": \"data-d8fbf1eac8ed42857c936f0b60ef1240\"}, \"title\": \"COVID-19 in Chile: Daily confirmed cases in O\\u2019Higgins\", \"width\": 600, \"$schema\": \"https://vega.github.io/schema/vega-lite/v4.8.1.json\", \"datasets\": {\"data-d8fbf1eac8ed42857c936f0b60ef1240\": [{\"Date\": \"2020-03-04\", \"Confirmed cases\": 0, \"Rolling\": null, \"Daily confirmed cases\": \"Daily confirmed cases\", \"7-day rolling average\": \"7-day rolling average\"}, {\"Date\": \"2020-03-05\", \"Confirmed cases\": 0, \"Rolling\": null, \"Daily confirmed cases\": \"Daily confirmed cases\", \"7-day rolling average\": \"7-day rolling average\"}, {\"Date\": \"2020-03-06\", \"Confirmed cases\": 0, \"Rolling\": null, \"Daily confirmed cases\": \"Daily confirmed cases\", \"7-day rolling average\": \"7-day rolling average\"}, {\"Date\": \"2020-03-07\", \"Confirmed cases\": 0, \"Rolling\": null, \"Daily confirmed cases\": \"Daily confirmed cases\", \"7-day rolling average\": \"7-day rolling average\"}, {\"Date\": \"2020-03-08\", \"Confirmed cases\": 0, \"Rolling\": null, \"Daily confirmed cases\": \"Daily confirmed cases\", \"7-day rolling average\": \"7-day rolling average\"}, {\"Date\": \"2020-03-09\", \"Confirmed cases\": 0, \"Rolling\": null, \"Daily confirmed cases\": \"Daily confirmed cases\", \"7-day rolling average\": \"7-day rolling average\"}, {\"Date\": \"2020-03-10\", \"Confirmed cases\": 0, \"Rolling\": 0.0, \"Daily confirmed cases\": \"Daily confirmed cases\", \"7-day rolling average\": \"7-day rolling average\"}, {\"Date\": \"2020-03-11\", \"Confirmed cases\": 0, \"Rolling\": 0.0, \"Daily confirmed cases\": \"Daily confirmed cases\", \"7-day rolling average\": \"7-day rolling average\"}, {\"Date\": \"2020-03-12\", \"Confirmed cases\": 0, \"Rolling\": 0.0, \"Daily confirmed cases\": \"Daily confirmed cases\", \"7-day rolling average\": \"7-day rolling average\"}, {\"Date\": \"2020-03-13\", \"Confirmed cases\": 0, \"Rolling\": 0.0, \"Daily confirmed cases\": \"Daily confirmed cases\", \"7-day rolling average\": \"7-day rolling average\"}, {\"Date\": \"2020-03-14\", \"Confirmed cases\": 0, \"Rolling\": 0.0, \"Daily confirmed cases\": \"Daily confirmed cases\", \"7-day rolling average\": \"7-day rolling average\"}, {\"Date\": \"2020-03-15\", \"Confirmed cases\": 0, \"Rolling\": 0.0, \"Daily confirmed cases\": \"Daily confirmed cases\", \"7-day rolling average\": \"7-day rolling average\"}, {\"Date\": \"2020-03-16\", \"Confirmed cases\": 0, \"Rolling\": 0.0, \"Daily confirmed cases\": \"Daily confirmed cases\", \"7-day rolling average\": \"7-day rolling average\"}, {\"Date\": \"2020-03-17\", \"Confirmed cases\": 0, \"Rolling\": 0.0, \"Daily confirmed cases\": \"Daily confirmed cases\", \"7-day rolling average\": \"7-day rolling average\"}, {\"Date\": \"2020-03-18\", \"Confirmed cases\": 0, \"Rolling\": 0.0, \"Daily confirmed cases\": \"Daily confirmed cases\", \"7-day rolling average\": \"7-day rolling average\"}, {\"Date\": \"2020-03-19\", \"Confirmed cases\": 2, \"Rolling\": 0.2857142857142857, \"Daily confirmed cases\": \"Daily confirmed cases\", \"7-day rolling average\": \"7-day rolling average\"}, {\"Date\": \"2020-03-20\", \"Confirmed cases\": 4, \"Rolling\": 0.8571428571428571, \"Daily confirmed cases\": \"Daily confirmed cases\", \"7-day rolling average\": \"7-day rolling average\"}, {\"Date\": \"2020-03-21\", \"Confirmed cases\": 1, \"Rolling\": 1.0, \"Daily confirmed cases\": \"Daily confirmed cases\", \"7-day rolling average\": \"7-day rolling average\"}, {\"Date\": \"2020-03-22\", \"Confirmed cases\": 1, \"Rolling\": 1.1428571428571428, \"Daily confirmed cases\": \"Daily confirmed cases\", \"7-day rolling average\": \"7-day rolling average\"}, {\"Date\": \"2020-03-23\", \"Confirmed cases\": 0, \"Rolling\": 1.1428571428571428, \"Daily confirmed cases\": \"Daily confirmed cases\", \"7-day rolling average\": \"7-day rolling average\"}, {\"Date\": \"2020-03-24\", \"Confirmed cases\": 1, \"Rolling\": 1.2857142857142858, \"Daily confirmed cases\": \"Daily confirmed cases\", \"7-day rolling average\": \"7-day rolling average\"}, {\"Date\": \"2020-03-25\", \"Confirmed cases\": 2, \"Rolling\": 1.5714285714285714, \"Daily confirmed cases\": \"Daily confirmed cases\", \"7-day rolling average\": \"7-day rolling average\"}, {\"Date\": \"2020-03-26\", \"Confirmed cases\": 3, \"Rolling\": 1.7142857142857142, \"Daily confirmed cases\": \"Daily confirmed cases\", \"7-day rolling average\": \"7-day rolling average\"}, {\"Date\": \"2020-03-27\", \"Confirmed cases\": 2, \"Rolling\": 1.4285714285714286, \"Daily confirmed cases\": \"Daily confirmed cases\", \"7-day rolling average\": \"7-day rolling average\"}, {\"Date\": \"2020-03-28\", \"Confirmed cases\": 4, \"Rolling\": 1.8571428571428572, \"Daily confirmed cases\": \"Daily confirmed cases\", \"7-day rolling average\": \"7-day rolling average\"}, {\"Date\": \"2020-03-29\", \"Confirmed cases\": 1, \"Rolling\": 1.8571428571428572, \"Daily confirmed cases\": \"Daily confirmed cases\", \"7-day rolling average\": \"7-day rolling average\"}, {\"Date\": \"2020-03-30\", \"Confirmed cases\": 0, \"Rolling\": 1.8571428571428572, \"Daily confirmed cases\": \"Daily confirmed cases\", \"7-day rolling average\": \"7-day rolling average\"}, {\"Date\": \"2020-03-31\", \"Confirmed cases\": 2, \"Rolling\": 2.0, \"Daily confirmed cases\": \"Daily confirmed cases\", \"7-day rolling average\": \"7-day rolling average\"}, {\"Date\": \"2020-04-01\", \"Confirmed cases\": 3, \"Rolling\": 2.142857142857143, \"Daily confirmed cases\": \"Daily confirmed cases\", \"7-day rolling average\": \"7-day rolling average\"}, {\"Date\": \"2020-04-02\", \"Confirmed cases\": 6, \"Rolling\": 2.5714285714285716, \"Daily confirmed cases\": \"Daily confirmed cases\", \"7-day rolling average\": \"7-day rolling average\"}, {\"Date\": \"2020-04-03\", \"Confirmed cases\": 1, \"Rolling\": 2.4285714285714284, \"Daily confirmed cases\": \"Daily confirmed cases\", \"7-day rolling average\": \"7-day rolling average\"}, {\"Date\": \"2020-04-04\", \"Confirmed cases\": 5, \"Rolling\": 2.5714285714285716, \"Daily confirmed cases\": \"Daily confirmed cases\", \"7-day rolling average\": \"7-day rolling average\"}, {\"Date\": \"2020-04-05\", \"Confirmed cases\": 3, \"Rolling\": 2.857142857142857, \"Daily confirmed cases\": \"Daily confirmed cases\", \"7-day rolling average\": \"7-day rolling average\"}, {\"Date\": \"2020-04-06\", \"Confirmed cases\": 1, \"Rolling\": 3.0, \"Daily confirmed cases\": \"Daily confirmed cases\", \"7-day rolling average\": \"7-day rolling average\"}, {\"Date\": \"2020-04-07\", \"Confirmed cases\": 0, \"Rolling\": 2.7142857142857144, \"Daily confirmed cases\": \"Daily confirmed cases\", \"7-day rolling average\": \"7-day rolling average\"}, {\"Date\": \"2020-04-08\", \"Confirmed cases\": 1, \"Rolling\": 2.4285714285714284, \"Daily confirmed cases\": \"Daily confirmed cases\", \"7-day rolling average\": \"7-day rolling average\"}, {\"Date\": \"2020-04-09\", \"Confirmed cases\": 1, \"Rolling\": 1.7142857142857142, \"Daily confirmed cases\": \"Daily confirmed cases\", \"7-day rolling average\": \"7-day rolling average\"}, {\"Date\": \"2020-04-10\", \"Confirmed cases\": 0, \"Rolling\": 1.5714285714285714, \"Daily confirmed cases\": \"Daily confirmed cases\", \"7-day rolling average\": \"7-day rolling average\"}, {\"Date\": \"2020-04-11\", \"Confirmed cases\": 1, \"Rolling\": 1.0, \"Daily confirmed cases\": \"Daily confirmed cases\", \"7-day rolling average\": \"7-day rolling average\"}, {\"Date\": \"2020-04-12\", \"Confirmed cases\": 1, \"Rolling\": 0.7142857142857143, \"Daily confirmed cases\": \"Daily confirmed cases\", \"7-day rolling average\": \"7-day rolling average\"}, {\"Date\": \"2020-04-13\", \"Confirmed cases\": 2, \"Rolling\": 0.8571428571428571, \"Daily confirmed cases\": \"Daily confirmed cases\", \"7-day rolling average\": \"7-day rolling average\"}, {\"Date\": \"2020-04-14\", \"Confirmed cases\": 5, \"Rolling\": 1.5714285714285714, \"Daily confirmed cases\": \"Daily confirmed cases\", \"7-day rolling average\": \"7-day rolling average\"}, {\"Date\": \"2020-04-15\", \"Confirmed cases\": 1, \"Rolling\": 1.5714285714285714, \"Daily confirmed cases\": \"Daily confirmed cases\", \"7-day rolling average\": \"7-day rolling average\"}, {\"Date\": \"2020-04-16\", \"Confirmed cases\": 0, \"Rolling\": 1.4285714285714286, \"Daily confirmed cases\": \"Daily confirmed cases\", \"7-day rolling average\": \"7-day rolling average\"}, {\"Date\": \"2020-04-17\", \"Confirmed cases\": 1, \"Rolling\": 1.5714285714285714, \"Daily confirmed cases\": \"Daily confirmed cases\", \"7-day rolling average\": \"7-day rolling average\"}, {\"Date\": \"2020-04-18\", \"Confirmed cases\": 0, \"Rolling\": 1.4285714285714286, \"Daily confirmed cases\": \"Daily confirmed cases\", \"7-day rolling average\": \"7-day rolling average\"}, {\"Date\": \"2020-04-19\", \"Confirmed cases\": 0, \"Rolling\": 1.2857142857142858, \"Daily confirmed cases\": \"Daily confirmed cases\", \"7-day rolling average\": \"7-day rolling average\"}, {\"Date\": \"2020-04-20\", \"Confirmed cases\": 1, \"Rolling\": 1.1428571428571428, \"Daily confirmed cases\": \"Daily confirmed cases\", \"7-day rolling average\": \"7-day rolling average\"}, {\"Date\": \"2020-04-21\", \"Confirmed cases\": 1, \"Rolling\": 0.5714285714285714, \"Daily confirmed cases\": \"Daily confirmed cases\", \"7-day rolling average\": \"7-day rolling average\"}, {\"Date\": \"2020-04-22\", \"Confirmed cases\": 2, \"Rolling\": 0.7142857142857143, \"Daily confirmed cases\": \"Daily confirmed cases\", \"7-day rolling average\": \"7-day rolling average\"}, {\"Date\": \"2020-04-23\", \"Confirmed cases\": 17, \"Rolling\": 3.142857142857143, \"Daily confirmed cases\": \"Daily confirmed cases\", \"7-day rolling average\": \"7-day rolling average\"}, {\"Date\": \"2020-04-24\", \"Confirmed cases\": 5, \"Rolling\": 3.7142857142857144, \"Daily confirmed cases\": \"Daily confirmed cases\", \"7-day rolling average\": \"7-day rolling average\"}, {\"Date\": \"2020-04-25\", \"Confirmed cases\": 4, \"Rolling\": 4.285714285714286, \"Daily confirmed cases\": \"Daily confirmed cases\", \"7-day rolling average\": \"7-day rolling average\"}, {\"Date\": \"2020-04-26\", \"Confirmed cases\": 7, \"Rolling\": 5.285714285714286, \"Daily confirmed cases\": \"Daily confirmed cases\", \"7-day rolling average\": \"7-day rolling average\"}, {\"Date\": \"2020-04-27\", \"Confirmed cases\": 2, \"Rolling\": 5.428571428571429, \"Daily confirmed cases\": \"Daily confirmed cases\", \"7-day rolling average\": \"7-day rolling average\"}, {\"Date\": \"2020-04-28\", \"Confirmed cases\": 3, \"Rolling\": 5.714285714285714, \"Daily confirmed cases\": \"Daily confirmed cases\", \"7-day rolling average\": \"7-day rolling average\"}]}}, {\"mode\": \"vega-lite\"});\n",
       "</script>"
      ],
      "text/plain": [
       "alt.LayerChart(...)"
      ]
     },
     "execution_count": 51,
     "metadata": {},
     "output_type": "execute_result"
    }
   ],
   "source": [
    "#hide_input\n",
    "bars, line = my_cases_plot(region)\n",
    "(bars + line).properties(\n",
    "    title=f'COVID-19 in Chile: Daily confirmed cases in {region}',\n",
    "    width=600\n",
    ")"
   ]
  },
  {
   "cell_type": "markdown",
   "metadata": {
    "papermill": {
     "duration": 0.089122,
     "end_time": "2020-04-28T12:16:45.691806",
     "exception": false,
     "start_time": "2020-04-28T12:16:45.602684",
     "status": "completed"
    },
    "tags": []
   },
   "source": [
    "## Maule"
   ]
  },
  {
   "cell_type": "code",
   "execution_count": 52,
   "metadata": {
    "execution": {
     "iopub.execute_input": "2020-04-28T12:16:45.876373Z",
     "iopub.status.busy": "2020-04-28T12:16:45.875750Z",
     "iopub.status.idle": "2020-04-28T12:16:45.877922Z",
     "shell.execute_reply": "2020-04-28T12:16:45.877305Z"
    },
    "papermill": {
     "duration": 0.09698,
     "end_time": "2020-04-28T12:16:45.878035",
     "exception": false,
     "start_time": "2020-04-28T12:16:45.781055",
     "status": "completed"
    },
    "scrolled": true,
    "tags": []
   },
   "outputs": [],
   "source": [
    "#hide\n",
    "region = \"Maule\""
   ]
  },
  {
   "cell_type": "code",
   "execution_count": 53,
   "metadata": {
    "execution": {
     "iopub.execute_input": "2020-04-28T12:16:46.077212Z",
     "iopub.status.busy": "2020-04-28T12:16:46.076180Z",
     "iopub.status.idle": "2020-04-28T12:16:46.111277Z",
     "shell.execute_reply": "2020-04-28T12:16:46.111911Z"
    },
    "papermill": {
     "duration": 0.141053,
     "end_time": "2020-04-28T12:16:46.112073",
     "exception": false,
     "start_time": "2020-04-28T12:16:45.971020",
     "status": "completed"
    },
    "tags": []
   },
   "outputs": [
    {
     "data": {
      "text/html": [
       "\n",
       "<div id=\"altair-viz-4b115d0d90624aa8a3b33ea931f8df6a\"></div>\n",
       "<script type=\"text/javascript\">\n",
       "  (function(spec, embedOpt){\n",
       "    let outputDiv = document.currentScript.previousElementSibling;\n",
       "    if (outputDiv.id !== \"altair-viz-4b115d0d90624aa8a3b33ea931f8df6a\") {\n",
       "      outputDiv = document.getElementById(\"altair-viz-4b115d0d90624aa8a3b33ea931f8df6a\");\n",
       "    }\n",
       "    const paths = {\n",
       "      \"vega\": \"https://cdn.jsdelivr.net/npm//vega@5?noext\",\n",
       "      \"vega-lib\": \"https://cdn.jsdelivr.net/npm//vega-lib?noext\",\n",
       "      \"vega-lite\": \"https://cdn.jsdelivr.net/npm//vega-lite@4.8.1?noext\",\n",
       "      \"vega-embed\": \"https://cdn.jsdelivr.net/npm//vega-embed@6?noext\",\n",
       "    };\n",
       "\n",
       "    function loadScript(lib) {\n",
       "      return new Promise(function(resolve, reject) {\n",
       "        var s = document.createElement('script');\n",
       "        s.src = paths[lib];\n",
       "        s.async = true;\n",
       "        s.onload = () => resolve(paths[lib]);\n",
       "        s.onerror = () => reject(`Error loading script: ${paths[lib]}`);\n",
       "        document.getElementsByTagName(\"head\")[0].appendChild(s);\n",
       "      });\n",
       "    }\n",
       "\n",
       "    function showError(err) {\n",
       "      outputDiv.innerHTML = `<div class=\"error\" style=\"color:red;\">${err}</div>`;\n",
       "      throw err;\n",
       "    }\n",
       "\n",
       "    function displayChart(vegaEmbed) {\n",
       "      vegaEmbed(outputDiv, spec, embedOpt)\n",
       "        .catch(err => showError(`Javascript Error: ${err.message}<br>This usually means there's a typo in your chart specification. See the javascript console for the full traceback.`));\n",
       "    }\n",
       "\n",
       "    if(typeof define === \"function\" && define.amd) {\n",
       "      requirejs.config({paths});\n",
       "      require([\"vega-embed\"], displayChart, err => showError(`Error loading script: ${err.message}`));\n",
       "    } else if (typeof vegaEmbed === \"function\") {\n",
       "      displayChart(vegaEmbed);\n",
       "    } else {\n",
       "      loadScript(\"vega\")\n",
       "        .then(() => loadScript(\"vega-lite\"))\n",
       "        .then(() => loadScript(\"vega-embed\"))\n",
       "        .catch(showError)\n",
       "        .then(() => displayChart(vegaEmbed));\n",
       "    }\n",
       "  })({\"config\": {\"view\": {\"continuousWidth\": 400, \"continuousHeight\": 300}}, \"layer\": [{\"mark\": {\"type\": \"bar\", \"opacity\": 0.7}, \"encoding\": {\"opacity\": {\"type\": \"nominal\", \"field\": \"Daily confirmed cases\", \"legend\": {\"title\": \"\"}}, \"tooltip\": [{\"type\": \"nominal\", \"field\": \"Date\"}, {\"type\": \"quantitative\", \"field\": \"Confirmed cases\"}], \"x\": {\"type\": \"nominal\", \"axis\": {\"title\": \"Date\"}, \"field\": \"Date\"}, \"y\": {\"type\": \"quantitative\", \"axis\": {\"title\": \"Daily confirmed cases\"}, \"field\": \"Confirmed cases\"}}}, {\"mark\": {\"type\": \"line\", \"color\": \"#1f77b4\", \"point\": {\"filled\": true, \"fill\": \"#1f77b4\"}}, \"encoding\": {\"shape\": {\"type\": \"nominal\", \"field\": \"7-day rolling average\", \"legend\": {\"title\": \"\"}}, \"x\": {\"type\": \"nominal\", \"axis\": {\"title\": \"Date\"}, \"field\": \"Date\"}, \"y\": {\"type\": \"quantitative\", \"field\": \"Rolling\"}}}], \"data\": {\"name\": \"data-f29f056b831a20e9f7659fee3f4dcabe\"}, \"title\": \"COVID-19 in Chile: Daily confirmed cases in Maule\", \"width\": 600, \"$schema\": \"https://vega.github.io/schema/vega-lite/v4.8.1.json\", \"datasets\": {\"data-f29f056b831a20e9f7659fee3f4dcabe\": [{\"Date\": \"2020-03-04\", \"Confirmed cases\": 1, \"Rolling\": null, \"Daily confirmed cases\": \"Daily confirmed cases\", \"7-day rolling average\": \"7-day rolling average\"}, {\"Date\": \"2020-03-05\", \"Confirmed cases\": 0, \"Rolling\": null, \"Daily confirmed cases\": \"Daily confirmed cases\", \"7-day rolling average\": \"7-day rolling average\"}, {\"Date\": \"2020-03-06\", \"Confirmed cases\": 0, \"Rolling\": null, \"Daily confirmed cases\": \"Daily confirmed cases\", \"7-day rolling average\": \"7-day rolling average\"}, {\"Date\": \"2020-03-07\", \"Confirmed cases\": 0, \"Rolling\": null, \"Daily confirmed cases\": \"Daily confirmed cases\", \"7-day rolling average\": \"7-day rolling average\"}, {\"Date\": \"2020-03-08\", \"Confirmed cases\": 1, \"Rolling\": null, \"Daily confirmed cases\": \"Daily confirmed cases\", \"7-day rolling average\": \"7-day rolling average\"}, {\"Date\": \"2020-03-09\", \"Confirmed cases\": 1, \"Rolling\": null, \"Daily confirmed cases\": \"Daily confirmed cases\", \"7-day rolling average\": \"7-day rolling average\"}, {\"Date\": \"2020-03-10\", \"Confirmed cases\": 1, \"Rolling\": 0.5714285714285714, \"Daily confirmed cases\": \"Daily confirmed cases\", \"7-day rolling average\": \"7-day rolling average\"}, {\"Date\": \"2020-03-11\", \"Confirmed cases\": 2, \"Rolling\": 0.7142857142857143, \"Daily confirmed cases\": \"Daily confirmed cases\", \"7-day rolling average\": \"7-day rolling average\"}, {\"Date\": \"2020-03-12\", \"Confirmed cases\": 0, \"Rolling\": 0.7142857142857143, \"Daily confirmed cases\": \"Daily confirmed cases\", \"7-day rolling average\": \"7-day rolling average\"}, {\"Date\": \"2020-03-13\", \"Confirmed cases\": 1, \"Rolling\": 0.8571428571428571, \"Daily confirmed cases\": \"Daily confirmed cases\", \"7-day rolling average\": \"7-day rolling average\"}, {\"Date\": \"2020-03-14\", \"Confirmed cases\": 1, \"Rolling\": 1.0, \"Daily confirmed cases\": \"Daily confirmed cases\", \"7-day rolling average\": \"7-day rolling average\"}, {\"Date\": \"2020-03-15\", \"Confirmed cases\": 0, \"Rolling\": 0.8571428571428571, \"Daily confirmed cases\": \"Daily confirmed cases\", \"7-day rolling average\": \"7-day rolling average\"}, {\"Date\": \"2020-03-16\", \"Confirmed cases\": 0, \"Rolling\": 0.7142857142857143, \"Daily confirmed cases\": \"Daily confirmed cases\", \"7-day rolling average\": \"7-day rolling average\"}, {\"Date\": \"2020-03-17\", \"Confirmed cases\": 0, \"Rolling\": 0.5714285714285714, \"Daily confirmed cases\": \"Daily confirmed cases\", \"7-day rolling average\": \"7-day rolling average\"}, {\"Date\": \"2020-03-18\", \"Confirmed cases\": 2, \"Rolling\": 0.5714285714285714, \"Daily confirmed cases\": \"Daily confirmed cases\", \"7-day rolling average\": \"7-day rolling average\"}, {\"Date\": \"2020-03-19\", \"Confirmed cases\": 3, \"Rolling\": 1.0, \"Daily confirmed cases\": \"Daily confirmed cases\", \"7-day rolling average\": \"7-day rolling average\"}, {\"Date\": \"2020-03-20\", \"Confirmed cases\": 0, \"Rolling\": 0.8571428571428571, \"Daily confirmed cases\": \"Daily confirmed cases\", \"7-day rolling average\": \"7-day rolling average\"}, {\"Date\": \"2020-03-21\", \"Confirmed cases\": 1, \"Rolling\": 0.8571428571428571, \"Daily confirmed cases\": \"Daily confirmed cases\", \"7-day rolling average\": \"7-day rolling average\"}, {\"Date\": \"2020-03-22\", \"Confirmed cases\": 10, \"Rolling\": 2.2857142857142856, \"Daily confirmed cases\": \"Daily confirmed cases\", \"7-day rolling average\": \"7-day rolling average\"}, {\"Date\": \"2020-03-23\", \"Confirmed cases\": 3, \"Rolling\": 2.7142857142857144, \"Daily confirmed cases\": \"Daily confirmed cases\", \"7-day rolling average\": \"7-day rolling average\"}, {\"Date\": \"2020-03-24\", \"Confirmed cases\": 1, \"Rolling\": 2.857142857142857, \"Daily confirmed cases\": \"Daily confirmed cases\", \"7-day rolling average\": \"7-day rolling average\"}, {\"Date\": \"2020-03-25\", \"Confirmed cases\": 1, \"Rolling\": 2.7142857142857144, \"Daily confirmed cases\": \"Daily confirmed cases\", \"7-day rolling average\": \"7-day rolling average\"}, {\"Date\": \"2020-03-26\", \"Confirmed cases\": 1, \"Rolling\": 2.4285714285714284, \"Daily confirmed cases\": \"Daily confirmed cases\", \"7-day rolling average\": \"7-day rolling average\"}, {\"Date\": \"2020-03-27\", \"Confirmed cases\": 1, \"Rolling\": 2.5714285714285716, \"Daily confirmed cases\": \"Daily confirmed cases\", \"7-day rolling average\": \"7-day rolling average\"}, {\"Date\": \"2020-03-28\", \"Confirmed cases\": 5, \"Rolling\": 3.142857142857143, \"Daily confirmed cases\": \"Daily confirmed cases\", \"7-day rolling average\": \"7-day rolling average\"}, {\"Date\": \"2020-03-29\", \"Confirmed cases\": 5, \"Rolling\": 2.4285714285714284, \"Daily confirmed cases\": \"Daily confirmed cases\", \"7-day rolling average\": \"7-day rolling average\"}, {\"Date\": \"2020-03-30\", \"Confirmed cases\": 12, \"Rolling\": 3.7142857142857144, \"Daily confirmed cases\": \"Daily confirmed cases\", \"7-day rolling average\": \"7-day rolling average\"}, {\"Date\": \"2020-03-31\", \"Confirmed cases\": 8, \"Rolling\": 4.714285714285714, \"Daily confirmed cases\": \"Daily confirmed cases\", \"7-day rolling average\": \"7-day rolling average\"}, {\"Date\": \"2020-04-01\", \"Confirmed cases\": 9, \"Rolling\": 5.857142857142857, \"Daily confirmed cases\": \"Daily confirmed cases\", \"7-day rolling average\": \"7-day rolling average\"}, {\"Date\": \"2020-04-02\", \"Confirmed cases\": 11, \"Rolling\": 7.285714285714286, \"Daily confirmed cases\": \"Daily confirmed cases\", \"7-day rolling average\": \"7-day rolling average\"}, {\"Date\": \"2020-04-03\", \"Confirmed cases\": 7, \"Rolling\": 8.142857142857142, \"Daily confirmed cases\": \"Daily confirmed cases\", \"7-day rolling average\": \"7-day rolling average\"}, {\"Date\": \"2020-04-04\", \"Confirmed cases\": 8, \"Rolling\": 8.571428571428571, \"Daily confirmed cases\": \"Daily confirmed cases\", \"7-day rolling average\": \"7-day rolling average\"}, {\"Date\": \"2020-04-05\", \"Confirmed cases\": 6, \"Rolling\": 8.714285714285714, \"Daily confirmed cases\": \"Daily confirmed cases\", \"7-day rolling average\": \"7-day rolling average\"}, {\"Date\": \"2020-04-06\", \"Confirmed cases\": 5, \"Rolling\": 7.714285714285714, \"Daily confirmed cases\": \"Daily confirmed cases\", \"7-day rolling average\": \"7-day rolling average\"}, {\"Date\": \"2020-04-07\", \"Confirmed cases\": 0, \"Rolling\": 6.571428571428571, \"Daily confirmed cases\": \"Daily confirmed cases\", \"7-day rolling average\": \"7-day rolling average\"}, {\"Date\": \"2020-04-08\", \"Confirmed cases\": 11, \"Rolling\": 6.857142857142857, \"Daily confirmed cases\": \"Daily confirmed cases\", \"7-day rolling average\": \"7-day rolling average\"}, {\"Date\": \"2020-04-09\", \"Confirmed cases\": 9, \"Rolling\": 6.571428571428571, \"Daily confirmed cases\": \"Daily confirmed cases\", \"7-day rolling average\": \"7-day rolling average\"}, {\"Date\": \"2020-04-10\", \"Confirmed cases\": 3, \"Rolling\": 6.0, \"Daily confirmed cases\": \"Daily confirmed cases\", \"7-day rolling average\": \"7-day rolling average\"}, {\"Date\": \"2020-04-11\", \"Confirmed cases\": 3, \"Rolling\": 5.285714285714286, \"Daily confirmed cases\": \"Daily confirmed cases\", \"7-day rolling average\": \"7-day rolling average\"}, {\"Date\": \"2020-04-12\", \"Confirmed cases\": 4, \"Rolling\": 5.0, \"Daily confirmed cases\": \"Daily confirmed cases\", \"7-day rolling average\": \"7-day rolling average\"}, {\"Date\": \"2020-04-13\", \"Confirmed cases\": 3, \"Rolling\": 4.714285714285714, \"Daily confirmed cases\": \"Daily confirmed cases\", \"7-day rolling average\": \"7-day rolling average\"}, {\"Date\": \"2020-04-14\", \"Confirmed cases\": 1, \"Rolling\": 4.857142857142857, \"Daily confirmed cases\": \"Daily confirmed cases\", \"7-day rolling average\": \"7-day rolling average\"}, {\"Date\": \"2020-04-15\", \"Confirmed cases\": 10, \"Rolling\": 4.714285714285714, \"Daily confirmed cases\": \"Daily confirmed cases\", \"7-day rolling average\": \"7-day rolling average\"}, {\"Date\": \"2020-04-16\", \"Confirmed cases\": 15, \"Rolling\": 5.571428571428571, \"Daily confirmed cases\": \"Daily confirmed cases\", \"7-day rolling average\": \"7-day rolling average\"}, {\"Date\": \"2020-04-17\", \"Confirmed cases\": 56, \"Rolling\": 13.142857142857142, \"Daily confirmed cases\": \"Daily confirmed cases\", \"7-day rolling average\": \"7-day rolling average\"}, {\"Date\": \"2020-04-18\", \"Confirmed cases\": 53, \"Rolling\": 20.285714285714285, \"Daily confirmed cases\": \"Daily confirmed cases\", \"7-day rolling average\": \"7-day rolling average\"}, {\"Date\": \"2020-04-19\", \"Confirmed cases\": 26, \"Rolling\": 23.428571428571427, \"Daily confirmed cases\": \"Daily confirmed cases\", \"7-day rolling average\": \"7-day rolling average\"}, {\"Date\": \"2020-04-20\", \"Confirmed cases\": 2, \"Rolling\": 23.285714285714285, \"Daily confirmed cases\": \"Daily confirmed cases\", \"7-day rolling average\": \"7-day rolling average\"}, {\"Date\": \"2020-04-21\", \"Confirmed cases\": 12, \"Rolling\": 24.857142857142858, \"Daily confirmed cases\": \"Daily confirmed cases\", \"7-day rolling average\": \"7-day rolling average\"}, {\"Date\": \"2020-04-22\", \"Confirmed cases\": 12, \"Rolling\": 25.142857142857142, \"Daily confirmed cases\": \"Daily confirmed cases\", \"7-day rolling average\": \"7-day rolling average\"}, {\"Date\": \"2020-04-23\", \"Confirmed cases\": 5, \"Rolling\": 23.714285714285715, \"Daily confirmed cases\": \"Daily confirmed cases\", \"7-day rolling average\": \"7-day rolling average\"}, {\"Date\": \"2020-04-24\", \"Confirmed cases\": 16, \"Rolling\": 18.0, \"Daily confirmed cases\": \"Daily confirmed cases\", \"7-day rolling average\": \"7-day rolling average\"}, {\"Date\": \"2020-04-25\", \"Confirmed cases\": 1, \"Rolling\": 10.571428571428571, \"Daily confirmed cases\": \"Daily confirmed cases\", \"7-day rolling average\": \"7-day rolling average\"}, {\"Date\": \"2020-04-26\", \"Confirmed cases\": 4, \"Rolling\": 7.428571428571429, \"Daily confirmed cases\": \"Daily confirmed cases\", \"7-day rolling average\": \"7-day rolling average\"}, {\"Date\": \"2020-04-27\", \"Confirmed cases\": 9, \"Rolling\": 8.428571428571429, \"Daily confirmed cases\": \"Daily confirmed cases\", \"7-day rolling average\": \"7-day rolling average\"}, {\"Date\": \"2020-04-28\", \"Confirmed cases\": 21, \"Rolling\": 9.714285714285714, \"Daily confirmed cases\": \"Daily confirmed cases\", \"7-day rolling average\": \"7-day rolling average\"}]}}, {\"mode\": \"vega-lite\"});\n",
       "</script>"
      ],
      "text/plain": [
       "alt.LayerChart(...)"
      ]
     },
     "execution_count": 53,
     "metadata": {},
     "output_type": "execute_result"
    }
   ],
   "source": [
    "#hide_input\n",
    "bars, line = my_cases_plot(region)\n",
    "(bars + line).properties(\n",
    "    title=f'COVID-19 in Chile: Daily confirmed cases in {region}',\n",
    "    width=600\n",
    ")"
   ]
  },
  {
   "cell_type": "markdown",
   "metadata": {
    "papermill": {
     "duration": 0.09139,
     "end_time": "2020-04-28T12:16:46.295919",
     "exception": false,
     "start_time": "2020-04-28T12:16:46.204529",
     "status": "completed"
    },
    "tags": []
   },
   "source": [
    "## Ñuble"
   ]
  },
  {
   "cell_type": "code",
   "execution_count": 54,
   "metadata": {
    "execution": {
     "iopub.execute_input": "2020-04-28T12:16:46.483695Z",
     "iopub.status.busy": "2020-04-28T12:16:46.483080Z",
     "iopub.status.idle": "2020-04-28T12:16:46.485281Z",
     "shell.execute_reply": "2020-04-28T12:16:46.485758Z"
    },
    "papermill": {
     "duration": 0.09882,
     "end_time": "2020-04-28T12:16:46.485884",
     "exception": false,
     "start_time": "2020-04-28T12:16:46.387064",
     "status": "completed"
    },
    "scrolled": true,
    "tags": []
   },
   "outputs": [],
   "source": [
    "#hide\n",
    "region = \"Ñuble\""
   ]
  },
  {
   "cell_type": "code",
   "execution_count": 55,
   "metadata": {
    "execution": {
     "iopub.execute_input": "2020-04-28T12:16:46.705530Z",
     "iopub.status.busy": "2020-04-28T12:16:46.692562Z",
     "iopub.status.idle": "2020-04-28T12:16:46.718857Z",
     "shell.execute_reply": "2020-04-28T12:16:46.719388Z"
    },
    "papermill": {
     "duration": 0.140618,
     "end_time": "2020-04-28T12:16:46.719523",
     "exception": false,
     "start_time": "2020-04-28T12:16:46.578905",
     "status": "completed"
    },
    "tags": []
   },
   "outputs": [
    {
     "data": {
      "text/html": [
       "\n",
       "<div id=\"altair-viz-2b54f0dc268b4fd7989724d90dcd6af1\"></div>\n",
       "<script type=\"text/javascript\">\n",
       "  (function(spec, embedOpt){\n",
       "    let outputDiv = document.currentScript.previousElementSibling;\n",
       "    if (outputDiv.id !== \"altair-viz-2b54f0dc268b4fd7989724d90dcd6af1\") {\n",
       "      outputDiv = document.getElementById(\"altair-viz-2b54f0dc268b4fd7989724d90dcd6af1\");\n",
       "    }\n",
       "    const paths = {\n",
       "      \"vega\": \"https://cdn.jsdelivr.net/npm//vega@5?noext\",\n",
       "      \"vega-lib\": \"https://cdn.jsdelivr.net/npm//vega-lib?noext\",\n",
       "      \"vega-lite\": \"https://cdn.jsdelivr.net/npm//vega-lite@4.8.1?noext\",\n",
       "      \"vega-embed\": \"https://cdn.jsdelivr.net/npm//vega-embed@6?noext\",\n",
       "    };\n",
       "\n",
       "    function loadScript(lib) {\n",
       "      return new Promise(function(resolve, reject) {\n",
       "        var s = document.createElement('script');\n",
       "        s.src = paths[lib];\n",
       "        s.async = true;\n",
       "        s.onload = () => resolve(paths[lib]);\n",
       "        s.onerror = () => reject(`Error loading script: ${paths[lib]}`);\n",
       "        document.getElementsByTagName(\"head\")[0].appendChild(s);\n",
       "      });\n",
       "    }\n",
       "\n",
       "    function showError(err) {\n",
       "      outputDiv.innerHTML = `<div class=\"error\" style=\"color:red;\">${err}</div>`;\n",
       "      throw err;\n",
       "    }\n",
       "\n",
       "    function displayChart(vegaEmbed) {\n",
       "      vegaEmbed(outputDiv, spec, embedOpt)\n",
       "        .catch(err => showError(`Javascript Error: ${err.message}<br>This usually means there's a typo in your chart specification. See the javascript console for the full traceback.`));\n",
       "    }\n",
       "\n",
       "    if(typeof define === \"function\" && define.amd) {\n",
       "      requirejs.config({paths});\n",
       "      require([\"vega-embed\"], displayChart, err => showError(`Error loading script: ${err.message}`));\n",
       "    } else if (typeof vegaEmbed === \"function\") {\n",
       "      displayChart(vegaEmbed);\n",
       "    } else {\n",
       "      loadScript(\"vega\")\n",
       "        .then(() => loadScript(\"vega-lite\"))\n",
       "        .then(() => loadScript(\"vega-embed\"))\n",
       "        .catch(showError)\n",
       "        .then(() => displayChart(vegaEmbed));\n",
       "    }\n",
       "  })({\"config\": {\"view\": {\"continuousWidth\": 400, \"continuousHeight\": 300}}, \"layer\": [{\"mark\": {\"type\": \"bar\", \"opacity\": 0.7}, \"encoding\": {\"opacity\": {\"type\": \"nominal\", \"field\": \"Daily confirmed cases\", \"legend\": {\"title\": \"\"}}, \"tooltip\": [{\"type\": \"nominal\", \"field\": \"Date\"}, {\"type\": \"quantitative\", \"field\": \"Confirmed cases\"}], \"x\": {\"type\": \"nominal\", \"axis\": {\"title\": \"Date\"}, \"field\": \"Date\"}, \"y\": {\"type\": \"quantitative\", \"axis\": {\"title\": \"Daily confirmed cases\"}, \"field\": \"Confirmed cases\"}}}, {\"mark\": {\"type\": \"line\", \"color\": \"#1f77b4\", \"point\": {\"filled\": true, \"fill\": \"#1f77b4\"}}, \"encoding\": {\"shape\": {\"type\": \"nominal\", \"field\": \"7-day rolling average\", \"legend\": {\"title\": \"\"}}, \"x\": {\"type\": \"nominal\", \"axis\": {\"title\": \"Date\"}, \"field\": \"Date\"}, \"y\": {\"type\": \"quantitative\", \"field\": \"Rolling\"}}}], \"data\": {\"name\": \"data-1e6d19f5f4809daef75e3688e758d366\"}, \"title\": \"COVID-19 in Chile: Daily confirmed cases in \\u00d1uble\", \"width\": 600, \"$schema\": \"https://vega.github.io/schema/vega-lite/v4.8.1.json\", \"datasets\": {\"data-1e6d19f5f4809daef75e3688e758d366\": [{\"Date\": \"2020-03-04\", \"Confirmed cases\": 0, \"Rolling\": null, \"Daily confirmed cases\": \"Daily confirmed cases\", \"7-day rolling average\": \"7-day rolling average\"}, {\"Date\": \"2020-03-05\", \"Confirmed cases\": 0, \"Rolling\": null, \"Daily confirmed cases\": \"Daily confirmed cases\", \"7-day rolling average\": \"7-day rolling average\"}, {\"Date\": \"2020-03-06\", \"Confirmed cases\": 0, \"Rolling\": null, \"Daily confirmed cases\": \"Daily confirmed cases\", \"7-day rolling average\": \"7-day rolling average\"}, {\"Date\": \"2020-03-07\", \"Confirmed cases\": 0, \"Rolling\": null, \"Daily confirmed cases\": \"Daily confirmed cases\", \"7-day rolling average\": \"7-day rolling average\"}, {\"Date\": \"2020-03-08\", \"Confirmed cases\": 0, \"Rolling\": null, \"Daily confirmed cases\": \"Daily confirmed cases\", \"7-day rolling average\": \"7-day rolling average\"}, {\"Date\": \"2020-03-09\", \"Confirmed cases\": 0, \"Rolling\": null, \"Daily confirmed cases\": \"Daily confirmed cases\", \"7-day rolling average\": \"7-day rolling average\"}, {\"Date\": \"2020-03-10\", \"Confirmed cases\": 0, \"Rolling\": 0.0, \"Daily confirmed cases\": \"Daily confirmed cases\", \"7-day rolling average\": \"7-day rolling average\"}, {\"Date\": \"2020-03-11\", \"Confirmed cases\": 0, \"Rolling\": 0.0, \"Daily confirmed cases\": \"Daily confirmed cases\", \"7-day rolling average\": \"7-day rolling average\"}, {\"Date\": \"2020-03-12\", \"Confirmed cases\": 1, \"Rolling\": 0.14285714285714285, \"Daily confirmed cases\": \"Daily confirmed cases\", \"7-day rolling average\": \"7-day rolling average\"}, {\"Date\": \"2020-03-13\", \"Confirmed cases\": 1, \"Rolling\": 0.2857142857142857, \"Daily confirmed cases\": \"Daily confirmed cases\", \"7-day rolling average\": \"7-day rolling average\"}, {\"Date\": \"2020-03-14\", \"Confirmed cases\": 2, \"Rolling\": 0.5714285714285714, \"Daily confirmed cases\": \"Daily confirmed cases\", \"7-day rolling average\": \"7-day rolling average\"}, {\"Date\": \"2020-03-15\", \"Confirmed cases\": 0, \"Rolling\": 0.5714285714285714, \"Daily confirmed cases\": \"Daily confirmed cases\", \"7-day rolling average\": \"7-day rolling average\"}, {\"Date\": \"2020-03-16\", \"Confirmed cases\": 8, \"Rolling\": 1.7142857142857142, \"Daily confirmed cases\": \"Daily confirmed cases\", \"7-day rolling average\": \"7-day rolling average\"}, {\"Date\": \"2020-03-17\", \"Confirmed cases\": 14, \"Rolling\": 3.7142857142857144, \"Daily confirmed cases\": \"Daily confirmed cases\", \"7-day rolling average\": \"7-day rolling average\"}, {\"Date\": \"2020-03-18\", \"Confirmed cases\": 0, \"Rolling\": 3.7142857142857144, \"Daily confirmed cases\": \"Daily confirmed cases\", \"7-day rolling average\": \"7-day rolling average\"}, {\"Date\": \"2020-03-19\", \"Confirmed cases\": 2, \"Rolling\": 3.857142857142857, \"Daily confirmed cases\": \"Daily confirmed cases\", \"7-day rolling average\": \"7-day rolling average\"}, {\"Date\": \"2020-03-20\", \"Confirmed cases\": 16, \"Rolling\": 6.0, \"Daily confirmed cases\": \"Daily confirmed cases\", \"7-day rolling average\": \"7-day rolling average\"}, {\"Date\": \"2020-03-21\", \"Confirmed cases\": 14, \"Rolling\": 7.714285714285714, \"Daily confirmed cases\": \"Daily confirmed cases\", \"7-day rolling average\": \"7-day rolling average\"}, {\"Date\": \"2020-03-22\", \"Confirmed cases\": 6, \"Rolling\": 8.571428571428571, \"Daily confirmed cases\": \"Daily confirmed cases\", \"7-day rolling average\": \"7-day rolling average\"}, {\"Date\": \"2020-03-23\", \"Confirmed cases\": 17, \"Rolling\": 9.857142857142858, \"Daily confirmed cases\": \"Daily confirmed cases\", \"7-day rolling average\": \"7-day rolling average\"}, {\"Date\": \"2020-03-24\", \"Confirmed cases\": 24, \"Rolling\": 11.285714285714286, \"Daily confirmed cases\": \"Daily confirmed cases\", \"7-day rolling average\": \"7-day rolling average\"}, {\"Date\": \"2020-03-25\", \"Confirmed cases\": 6, \"Rolling\": 12.142857142857142, \"Daily confirmed cases\": \"Daily confirmed cases\", \"7-day rolling average\": \"7-day rolling average\"}, {\"Date\": \"2020-03-26\", \"Confirmed cases\": 3, \"Rolling\": 12.285714285714286, \"Daily confirmed cases\": \"Daily confirmed cases\", \"7-day rolling average\": \"7-day rolling average\"}, {\"Date\": \"2020-03-27\", \"Confirmed cases\": 30, \"Rolling\": 14.285714285714286, \"Daily confirmed cases\": \"Daily confirmed cases\", \"7-day rolling average\": \"7-day rolling average\"}, {\"Date\": \"2020-03-28\", \"Confirmed cases\": 28, \"Rolling\": 16.285714285714285, \"Daily confirmed cases\": \"Daily confirmed cases\", \"7-day rolling average\": \"7-day rolling average\"}, {\"Date\": \"2020-03-29\", \"Confirmed cases\": 25, \"Rolling\": 19.0, \"Daily confirmed cases\": \"Daily confirmed cases\", \"7-day rolling average\": \"7-day rolling average\"}, {\"Date\": \"2020-03-30\", \"Confirmed cases\": 32, \"Rolling\": 21.142857142857142, \"Daily confirmed cases\": \"Daily confirmed cases\", \"7-day rolling average\": \"7-day rolling average\"}, {\"Date\": \"2020-03-31\", \"Confirmed cases\": 16, \"Rolling\": 20.0, \"Daily confirmed cases\": \"Daily confirmed cases\", \"7-day rolling average\": \"7-day rolling average\"}, {\"Date\": \"2020-04-01\", \"Confirmed cases\": 14, \"Rolling\": 21.142857142857142, \"Daily confirmed cases\": \"Daily confirmed cases\", \"7-day rolling average\": \"7-day rolling average\"}, {\"Date\": \"2020-04-02\", \"Confirmed cases\": 82, \"Rolling\": 32.42857142857143, \"Daily confirmed cases\": \"Daily confirmed cases\", \"7-day rolling average\": \"7-day rolling average\"}, {\"Date\": \"2020-04-03\", \"Confirmed cases\": 29, \"Rolling\": 32.285714285714285, \"Daily confirmed cases\": \"Daily confirmed cases\", \"7-day rolling average\": \"7-day rolling average\"}, {\"Date\": \"2020-04-04\", \"Confirmed cases\": 31, \"Rolling\": 32.714285714285715, \"Daily confirmed cases\": \"Daily confirmed cases\", \"7-day rolling average\": \"7-day rolling average\"}, {\"Date\": \"2020-04-05\", \"Confirmed cases\": 24, \"Rolling\": 32.57142857142857, \"Daily confirmed cases\": \"Daily confirmed cases\", \"7-day rolling average\": \"7-day rolling average\"}, {\"Date\": \"2020-04-06\", \"Confirmed cases\": 49, \"Rolling\": 35.0, \"Daily confirmed cases\": \"Daily confirmed cases\", \"7-day rolling average\": \"7-day rolling average\"}, {\"Date\": \"2020-04-07\", \"Confirmed cases\": 48, \"Rolling\": 39.57142857142857, \"Daily confirmed cases\": \"Daily confirmed cases\", \"7-day rolling average\": \"7-day rolling average\"}, {\"Date\": \"2020-04-08\", \"Confirmed cases\": 39, \"Rolling\": 43.142857142857146, \"Daily confirmed cases\": \"Daily confirmed cases\", \"7-day rolling average\": \"7-day rolling average\"}, {\"Date\": \"2020-04-09\", \"Confirmed cases\": 10, \"Rolling\": 32.857142857142854, \"Daily confirmed cases\": \"Daily confirmed cases\", \"7-day rolling average\": \"7-day rolling average\"}, {\"Date\": \"2020-04-10\", \"Confirmed cases\": 18, \"Rolling\": 31.285714285714285, \"Daily confirmed cases\": \"Daily confirmed cases\", \"7-day rolling average\": \"7-day rolling average\"}, {\"Date\": \"2020-04-11\", \"Confirmed cases\": 17, \"Rolling\": 29.285714285714285, \"Daily confirmed cases\": \"Daily confirmed cases\", \"7-day rolling average\": \"7-day rolling average\"}, {\"Date\": \"2020-04-12\", \"Confirmed cases\": 7, \"Rolling\": 26.857142857142858, \"Daily confirmed cases\": \"Daily confirmed cases\", \"7-day rolling average\": \"7-day rolling average\"}, {\"Date\": \"2020-04-13\", \"Confirmed cases\": 5, \"Rolling\": 20.571428571428573, \"Daily confirmed cases\": \"Daily confirmed cases\", \"7-day rolling average\": \"7-day rolling average\"}, {\"Date\": \"2020-04-14\", \"Confirmed cases\": 4, \"Rolling\": 14.285714285714286, \"Daily confirmed cases\": \"Daily confirmed cases\", \"7-day rolling average\": \"7-day rolling average\"}, {\"Date\": \"2020-04-15\", \"Confirmed cases\": 12, \"Rolling\": 10.428571428571429, \"Daily confirmed cases\": \"Daily confirmed cases\", \"7-day rolling average\": \"7-day rolling average\"}, {\"Date\": \"2020-04-16\", \"Confirmed cases\": 5, \"Rolling\": 9.714285714285714, \"Daily confirmed cases\": \"Daily confirmed cases\", \"7-day rolling average\": \"7-day rolling average\"}, {\"Date\": \"2020-04-17\", \"Confirmed cases\": 17, \"Rolling\": 9.571428571428571, \"Daily confirmed cases\": \"Daily confirmed cases\", \"7-day rolling average\": \"7-day rolling average\"}, {\"Date\": \"2020-04-18\", \"Confirmed cases\": 11, \"Rolling\": 8.714285714285714, \"Daily confirmed cases\": \"Daily confirmed cases\", \"7-day rolling average\": \"7-day rolling average\"}, {\"Date\": \"2020-04-19\", \"Confirmed cases\": 11, \"Rolling\": 9.285714285714286, \"Daily confirmed cases\": \"Daily confirmed cases\", \"7-day rolling average\": \"7-day rolling average\"}, {\"Date\": \"2020-04-20\", \"Confirmed cases\": 9, \"Rolling\": 9.857142857142858, \"Daily confirmed cases\": \"Daily confirmed cases\", \"7-day rolling average\": \"7-day rolling average\"}, {\"Date\": \"2020-04-21\", \"Confirmed cases\": 7, \"Rolling\": 10.285714285714286, \"Daily confirmed cases\": \"Daily confirmed cases\", \"7-day rolling average\": \"7-day rolling average\"}, {\"Date\": \"2020-04-22\", \"Confirmed cases\": 9, \"Rolling\": 9.857142857142858, \"Daily confirmed cases\": \"Daily confirmed cases\", \"7-day rolling average\": \"7-day rolling average\"}, {\"Date\": \"2020-04-23\", \"Confirmed cases\": 5, \"Rolling\": 9.857142857142858, \"Daily confirmed cases\": \"Daily confirmed cases\", \"7-day rolling average\": \"7-day rolling average\"}, {\"Date\": \"2020-04-24\", \"Confirmed cases\": 7, \"Rolling\": 8.428571428571429, \"Daily confirmed cases\": \"Daily confirmed cases\", \"7-day rolling average\": \"7-day rolling average\"}, {\"Date\": \"2020-04-25\", \"Confirmed cases\": 10, \"Rolling\": 8.285714285714286, \"Daily confirmed cases\": \"Daily confirmed cases\", \"7-day rolling average\": \"7-day rolling average\"}, {\"Date\": \"2020-04-26\", \"Confirmed cases\": 6, \"Rolling\": 7.571428571428571, \"Daily confirmed cases\": \"Daily confirmed cases\", \"7-day rolling average\": \"7-day rolling average\"}, {\"Date\": \"2020-04-27\", \"Confirmed cases\": 10, \"Rolling\": 7.714285714285714, \"Daily confirmed cases\": \"Daily confirmed cases\", \"7-day rolling average\": \"7-day rolling average\"}, {\"Date\": \"2020-04-28\", \"Confirmed cases\": 6, \"Rolling\": 7.571428571428571, \"Daily confirmed cases\": \"Daily confirmed cases\", \"7-day rolling average\": \"7-day rolling average\"}]}}, {\"mode\": \"vega-lite\"});\n",
       "</script>"
      ],
      "text/plain": [
       "alt.LayerChart(...)"
      ]
     },
     "execution_count": 55,
     "metadata": {},
     "output_type": "execute_result"
    }
   ],
   "source": [
    "#hide_input\n",
    "bars, line = my_cases_plot(region)\n",
    "(bars + line).properties(\n",
    "    title=f'COVID-19 in Chile: Daily confirmed cases in {region}',\n",
    "    width=600\n",
    ")"
   ]
  },
  {
   "cell_type": "markdown",
   "metadata": {
    "papermill": {
     "duration": 0.093515,
     "end_time": "2020-04-28T12:16:46.904300",
     "exception": false,
     "start_time": "2020-04-28T12:16:46.810785",
     "status": "completed"
    },
    "tags": []
   },
   "source": [
    "## Biobío"
   ]
  },
  {
   "cell_type": "code",
   "execution_count": 56,
   "metadata": {
    "execution": {
     "iopub.execute_input": "2020-04-28T12:16:47.093192Z",
     "iopub.status.busy": "2020-04-28T12:16:47.092590Z",
     "iopub.status.idle": "2020-04-28T12:16:47.095752Z",
     "shell.execute_reply": "2020-04-28T12:16:47.095231Z"
    },
    "papermill": {
     "duration": 0.099927,
     "end_time": "2020-04-28T12:16:47.095860",
     "exception": false,
     "start_time": "2020-04-28T12:16:46.995933",
     "status": "completed"
    },
    "scrolled": true,
    "tags": []
   },
   "outputs": [],
   "source": [
    "#hide\n",
    "region = \"Biobío\""
   ]
  },
  {
   "cell_type": "code",
   "execution_count": 57,
   "metadata": {
    "execution": {
     "iopub.execute_input": "2020-04-28T12:16:47.318140Z",
     "iopub.status.busy": "2020-04-28T12:16:47.295320Z",
     "iopub.status.idle": "2020-04-28T12:16:47.329489Z",
     "shell.execute_reply": "2020-04-28T12:16:47.329968Z"
    },
    "papermill": {
     "duration": 0.141817,
     "end_time": "2020-04-28T12:16:47.330100",
     "exception": false,
     "start_time": "2020-04-28T12:16:47.188283",
     "status": "completed"
    },
    "tags": []
   },
   "outputs": [
    {
     "data": {
      "text/html": [
       "\n",
       "<div id=\"altair-viz-b6837c5626c54ce0b0fa24b01950f7b5\"></div>\n",
       "<script type=\"text/javascript\">\n",
       "  (function(spec, embedOpt){\n",
       "    let outputDiv = document.currentScript.previousElementSibling;\n",
       "    if (outputDiv.id !== \"altair-viz-b6837c5626c54ce0b0fa24b01950f7b5\") {\n",
       "      outputDiv = document.getElementById(\"altair-viz-b6837c5626c54ce0b0fa24b01950f7b5\");\n",
       "    }\n",
       "    const paths = {\n",
       "      \"vega\": \"https://cdn.jsdelivr.net/npm//vega@5?noext\",\n",
       "      \"vega-lib\": \"https://cdn.jsdelivr.net/npm//vega-lib?noext\",\n",
       "      \"vega-lite\": \"https://cdn.jsdelivr.net/npm//vega-lite@4.8.1?noext\",\n",
       "      \"vega-embed\": \"https://cdn.jsdelivr.net/npm//vega-embed@6?noext\",\n",
       "    };\n",
       "\n",
       "    function loadScript(lib) {\n",
       "      return new Promise(function(resolve, reject) {\n",
       "        var s = document.createElement('script');\n",
       "        s.src = paths[lib];\n",
       "        s.async = true;\n",
       "        s.onload = () => resolve(paths[lib]);\n",
       "        s.onerror = () => reject(`Error loading script: ${paths[lib]}`);\n",
       "        document.getElementsByTagName(\"head\")[0].appendChild(s);\n",
       "      });\n",
       "    }\n",
       "\n",
       "    function showError(err) {\n",
       "      outputDiv.innerHTML = `<div class=\"error\" style=\"color:red;\">${err}</div>`;\n",
       "      throw err;\n",
       "    }\n",
       "\n",
       "    function displayChart(vegaEmbed) {\n",
       "      vegaEmbed(outputDiv, spec, embedOpt)\n",
       "        .catch(err => showError(`Javascript Error: ${err.message}<br>This usually means there's a typo in your chart specification. See the javascript console for the full traceback.`));\n",
       "    }\n",
       "\n",
       "    if(typeof define === \"function\" && define.amd) {\n",
       "      requirejs.config({paths});\n",
       "      require([\"vega-embed\"], displayChart, err => showError(`Error loading script: ${err.message}`));\n",
       "    } else if (typeof vegaEmbed === \"function\") {\n",
       "      displayChart(vegaEmbed);\n",
       "    } else {\n",
       "      loadScript(\"vega\")\n",
       "        .then(() => loadScript(\"vega-lite\"))\n",
       "        .then(() => loadScript(\"vega-embed\"))\n",
       "        .catch(showError)\n",
       "        .then(() => displayChart(vegaEmbed));\n",
       "    }\n",
       "  })({\"config\": {\"view\": {\"continuousWidth\": 400, \"continuousHeight\": 300}}, \"layer\": [{\"mark\": {\"type\": \"bar\", \"opacity\": 0.7}, \"encoding\": {\"opacity\": {\"type\": \"nominal\", \"field\": \"Daily confirmed cases\", \"legend\": {\"title\": \"\"}}, \"tooltip\": [{\"type\": \"nominal\", \"field\": \"Date\"}, {\"type\": \"quantitative\", \"field\": \"Confirmed cases\"}], \"x\": {\"type\": \"nominal\", \"axis\": {\"title\": \"Date\"}, \"field\": \"Date\"}, \"y\": {\"type\": \"quantitative\", \"axis\": {\"title\": \"Daily confirmed cases\"}, \"field\": \"Confirmed cases\"}}}, {\"mark\": {\"type\": \"line\", \"color\": \"#1f77b4\", \"point\": {\"filled\": true, \"fill\": \"#1f77b4\"}}, \"encoding\": {\"shape\": {\"type\": \"nominal\", \"field\": \"7-day rolling average\", \"legend\": {\"title\": \"\"}}, \"x\": {\"type\": \"nominal\", \"axis\": {\"title\": \"Date\"}, \"field\": \"Date\"}, \"y\": {\"type\": \"quantitative\", \"field\": \"Rolling\"}}}], \"data\": {\"name\": \"data-50ff299c5f3ebcb5b868b96239c11918\"}, \"title\": \"COVID-19 in Chile: Daily confirmed cases in Biob\\u00edo\", \"width\": 600, \"$schema\": \"https://vega.github.io/schema/vega-lite/v4.8.1.json\", \"datasets\": {\"data-50ff299c5f3ebcb5b868b96239c11918\": [{\"Date\": \"2020-03-04\", \"Confirmed cases\": 0, \"Rolling\": null, \"Daily confirmed cases\": \"Daily confirmed cases\", \"7-day rolling average\": \"7-day rolling average\"}, {\"Date\": \"2020-03-05\", \"Confirmed cases\": 0, \"Rolling\": null, \"Daily confirmed cases\": \"Daily confirmed cases\", \"7-day rolling average\": \"7-day rolling average\"}, {\"Date\": \"2020-03-06\", \"Confirmed cases\": 0, \"Rolling\": null, \"Daily confirmed cases\": \"Daily confirmed cases\", \"7-day rolling average\": \"7-day rolling average\"}, {\"Date\": \"2020-03-07\", \"Confirmed cases\": 0, \"Rolling\": null, \"Daily confirmed cases\": \"Daily confirmed cases\", \"7-day rolling average\": \"7-day rolling average\"}, {\"Date\": \"2020-03-08\", \"Confirmed cases\": 0, \"Rolling\": null, \"Daily confirmed cases\": \"Daily confirmed cases\", \"7-day rolling average\": \"7-day rolling average\"}, {\"Date\": \"2020-03-09\", \"Confirmed cases\": 1, \"Rolling\": null, \"Daily confirmed cases\": \"Daily confirmed cases\", \"7-day rolling average\": \"7-day rolling average\"}, {\"Date\": \"2020-03-10\", \"Confirmed cases\": 0, \"Rolling\": 0.14285714285714285, \"Daily confirmed cases\": \"Daily confirmed cases\", \"7-day rolling average\": \"7-day rolling average\"}, {\"Date\": \"2020-03-11\", \"Confirmed cases\": 0, \"Rolling\": 0.14285714285714285, \"Daily confirmed cases\": \"Daily confirmed cases\", \"7-day rolling average\": \"7-day rolling average\"}, {\"Date\": \"2020-03-12\", \"Confirmed cases\": 0, \"Rolling\": 0.14285714285714285, \"Daily confirmed cases\": \"Daily confirmed cases\", \"7-day rolling average\": \"7-day rolling average\"}, {\"Date\": \"2020-03-13\", \"Confirmed cases\": 2, \"Rolling\": 0.42857142857142855, \"Daily confirmed cases\": \"Daily confirmed cases\", \"7-day rolling average\": \"7-day rolling average\"}, {\"Date\": \"2020-03-14\", \"Confirmed cases\": 0, \"Rolling\": 0.42857142857142855, \"Daily confirmed cases\": \"Daily confirmed cases\", \"7-day rolling average\": \"7-day rolling average\"}, {\"Date\": \"2020-03-15\", \"Confirmed cases\": 0, \"Rolling\": 0.42857142857142855, \"Daily confirmed cases\": \"Daily confirmed cases\", \"7-day rolling average\": \"7-day rolling average\"}, {\"Date\": \"2020-03-16\", \"Confirmed cases\": 1, \"Rolling\": 0.42857142857142855, \"Daily confirmed cases\": \"Daily confirmed cases\", \"7-day rolling average\": \"7-day rolling average\"}, {\"Date\": \"2020-03-17\", \"Confirmed cases\": 0, \"Rolling\": 0.42857142857142855, \"Daily confirmed cases\": \"Daily confirmed cases\", \"7-day rolling average\": \"7-day rolling average\"}, {\"Date\": \"2020-03-18\", \"Confirmed cases\": 3, \"Rolling\": 0.8571428571428571, \"Daily confirmed cases\": \"Daily confirmed cases\", \"7-day rolling average\": \"7-day rolling average\"}, {\"Date\": \"2020-03-19\", \"Confirmed cases\": 7, \"Rolling\": 1.8571428571428572, \"Daily confirmed cases\": \"Daily confirmed cases\", \"7-day rolling average\": \"7-day rolling average\"}, {\"Date\": \"2020-03-20\", \"Confirmed cases\": 5, \"Rolling\": 2.2857142857142856, \"Daily confirmed cases\": \"Daily confirmed cases\", \"7-day rolling average\": \"7-day rolling average\"}, {\"Date\": \"2020-03-21\", \"Confirmed cases\": 11, \"Rolling\": 3.857142857142857, \"Daily confirmed cases\": \"Daily confirmed cases\", \"7-day rolling average\": \"7-day rolling average\"}, {\"Date\": \"2020-03-22\", \"Confirmed cases\": 5, \"Rolling\": 4.571428571428571, \"Daily confirmed cases\": \"Daily confirmed cases\", \"7-day rolling average\": \"7-day rolling average\"}, {\"Date\": \"2020-03-23\", \"Confirmed cases\": 11, \"Rolling\": 6.0, \"Daily confirmed cases\": \"Daily confirmed cases\", \"7-day rolling average\": \"7-day rolling average\"}, {\"Date\": \"2020-03-24\", \"Confirmed cases\": 27, \"Rolling\": 9.857142857142858, \"Daily confirmed cases\": \"Daily confirmed cases\", \"7-day rolling average\": \"7-day rolling average\"}, {\"Date\": \"2020-03-25\", \"Confirmed cases\": 22, \"Rolling\": 12.571428571428571, \"Daily confirmed cases\": \"Daily confirmed cases\", \"7-day rolling average\": \"7-day rolling average\"}, {\"Date\": \"2020-03-26\", \"Confirmed cases\": 14, \"Rolling\": 13.571428571428571, \"Daily confirmed cases\": \"Daily confirmed cases\", \"7-day rolling average\": \"7-day rolling average\"}, {\"Date\": \"2020-03-27\", \"Confirmed cases\": 26, \"Rolling\": 16.571428571428573, \"Daily confirmed cases\": \"Daily confirmed cases\", \"7-day rolling average\": \"7-day rolling average\"}, {\"Date\": \"2020-03-28\", \"Confirmed cases\": 16, \"Rolling\": 17.285714285714285, \"Daily confirmed cases\": \"Daily confirmed cases\", \"7-day rolling average\": \"7-day rolling average\"}, {\"Date\": \"2020-03-29\", \"Confirmed cases\": 34, \"Rolling\": 21.428571428571427, \"Daily confirmed cases\": \"Daily confirmed cases\", \"7-day rolling average\": \"7-day rolling average\"}, {\"Date\": \"2020-03-30\", \"Confirmed cases\": 16, \"Rolling\": 22.142857142857142, \"Daily confirmed cases\": \"Daily confirmed cases\", \"7-day rolling average\": \"7-day rolling average\"}, {\"Date\": \"2020-03-31\", \"Confirmed cases\": 15, \"Rolling\": 20.428571428571427, \"Daily confirmed cases\": \"Daily confirmed cases\", \"7-day rolling average\": \"7-day rolling average\"}, {\"Date\": \"2020-04-01\", \"Confirmed cases\": 24, \"Rolling\": 20.714285714285715, \"Daily confirmed cases\": \"Daily confirmed cases\", \"7-day rolling average\": \"7-day rolling average\"}, {\"Date\": \"2020-04-02\", \"Confirmed cases\": 35, \"Rolling\": 23.714285714285715, \"Daily confirmed cases\": \"Daily confirmed cases\", \"7-day rolling average\": \"7-day rolling average\"}, {\"Date\": \"2020-04-03\", \"Confirmed cases\": 27, \"Rolling\": 23.857142857142858, \"Daily confirmed cases\": \"Daily confirmed cases\", \"7-day rolling average\": \"7-day rolling average\"}, {\"Date\": \"2020-04-04\", \"Confirmed cases\": 45, \"Rolling\": 28.0, \"Daily confirmed cases\": \"Daily confirmed cases\", \"7-day rolling average\": \"7-day rolling average\"}, {\"Date\": \"2020-04-05\", \"Confirmed cases\": 18, \"Rolling\": 25.714285714285715, \"Daily confirmed cases\": \"Daily confirmed cases\", \"7-day rolling average\": \"7-day rolling average\"}, {\"Date\": \"2020-04-06\", \"Confirmed cases\": 18, \"Rolling\": 26.0, \"Daily confirmed cases\": \"Daily confirmed cases\", \"7-day rolling average\": \"7-day rolling average\"}, {\"Date\": \"2020-04-07\", \"Confirmed cases\": 27, \"Rolling\": 27.714285714285715, \"Daily confirmed cases\": \"Daily confirmed cases\", \"7-day rolling average\": \"7-day rolling average\"}, {\"Date\": \"2020-04-08\", \"Confirmed cases\": 29, \"Rolling\": 28.428571428571427, \"Daily confirmed cases\": \"Daily confirmed cases\", \"7-day rolling average\": \"7-day rolling average\"}, {\"Date\": \"2020-04-09\", \"Confirmed cases\": 21, \"Rolling\": 26.428571428571427, \"Daily confirmed cases\": \"Daily confirmed cases\", \"7-day rolling average\": \"7-day rolling average\"}, {\"Date\": \"2020-04-10\", \"Confirmed cases\": 14, \"Rolling\": 24.571428571428573, \"Daily confirmed cases\": \"Daily confirmed cases\", \"7-day rolling average\": \"7-day rolling average\"}, {\"Date\": \"2020-04-11\", \"Confirmed cases\": 16, \"Rolling\": 20.428571428571427, \"Daily confirmed cases\": \"Daily confirmed cases\", \"7-day rolling average\": \"7-day rolling average\"}, {\"Date\": \"2020-04-12\", \"Confirmed cases\": 10, \"Rolling\": 19.285714285714285, \"Daily confirmed cases\": \"Daily confirmed cases\", \"7-day rolling average\": \"7-day rolling average\"}, {\"Date\": \"2020-04-13\", \"Confirmed cases\": 12, \"Rolling\": 18.428571428571427, \"Daily confirmed cases\": \"Daily confirmed cases\", \"7-day rolling average\": \"7-day rolling average\"}, {\"Date\": \"2020-04-14\", \"Confirmed cases\": 16, \"Rolling\": 16.857142857142858, \"Daily confirmed cases\": \"Daily confirmed cases\", \"7-day rolling average\": \"7-day rolling average\"}, {\"Date\": \"2020-04-15\", \"Confirmed cases\": 14, \"Rolling\": 14.714285714285714, \"Daily confirmed cases\": \"Daily confirmed cases\", \"7-day rolling average\": \"7-day rolling average\"}, {\"Date\": \"2020-04-16\", \"Confirmed cases\": 17, \"Rolling\": 14.142857142857142, \"Daily confirmed cases\": \"Daily confirmed cases\", \"7-day rolling average\": \"7-day rolling average\"}, {\"Date\": \"2020-04-17\", \"Confirmed cases\": 19, \"Rolling\": 14.857142857142858, \"Daily confirmed cases\": \"Daily confirmed cases\", \"7-day rolling average\": \"7-day rolling average\"}, {\"Date\": \"2020-04-18\", \"Confirmed cases\": 28, \"Rolling\": 16.571428571428573, \"Daily confirmed cases\": \"Daily confirmed cases\", \"7-day rolling average\": \"7-day rolling average\"}, {\"Date\": \"2020-04-19\", \"Confirmed cases\": 10, \"Rolling\": 16.571428571428573, \"Daily confirmed cases\": \"Daily confirmed cases\", \"7-day rolling average\": \"7-day rolling average\"}, {\"Date\": \"2020-04-20\", \"Confirmed cases\": 10, \"Rolling\": 16.285714285714285, \"Daily confirmed cases\": \"Daily confirmed cases\", \"7-day rolling average\": \"7-day rolling average\"}, {\"Date\": \"2020-04-21\", \"Confirmed cases\": 10, \"Rolling\": 15.428571428571429, \"Daily confirmed cases\": \"Daily confirmed cases\", \"7-day rolling average\": \"7-day rolling average\"}, {\"Date\": \"2020-04-22\", \"Confirmed cases\": 22, \"Rolling\": 16.571428571428573, \"Daily confirmed cases\": \"Daily confirmed cases\", \"7-day rolling average\": \"7-day rolling average\"}, {\"Date\": \"2020-04-23\", \"Confirmed cases\": 17, \"Rolling\": 16.571428571428573, \"Daily confirmed cases\": \"Daily confirmed cases\", \"7-day rolling average\": \"7-day rolling average\"}, {\"Date\": \"2020-04-24\", \"Confirmed cases\": 8, \"Rolling\": 15.0, \"Daily confirmed cases\": \"Daily confirmed cases\", \"7-day rolling average\": \"7-day rolling average\"}, {\"Date\": \"2020-04-25\", \"Confirmed cases\": 13, \"Rolling\": 12.857142857142858, \"Daily confirmed cases\": \"Daily confirmed cases\", \"7-day rolling average\": \"7-day rolling average\"}, {\"Date\": \"2020-04-26\", \"Confirmed cases\": 7, \"Rolling\": 12.428571428571429, \"Daily confirmed cases\": \"Daily confirmed cases\", \"7-day rolling average\": \"7-day rolling average\"}, {\"Date\": \"2020-04-27\", \"Confirmed cases\": 3, \"Rolling\": 11.428571428571429, \"Daily confirmed cases\": \"Daily confirmed cases\", \"7-day rolling average\": \"7-day rolling average\"}, {\"Date\": \"2020-04-28\", \"Confirmed cases\": 3, \"Rolling\": 10.428571428571429, \"Daily confirmed cases\": \"Daily confirmed cases\", \"7-day rolling average\": \"7-day rolling average\"}]}}, {\"mode\": \"vega-lite\"});\n",
       "</script>"
      ],
      "text/plain": [
       "alt.LayerChart(...)"
      ]
     },
     "execution_count": 57,
     "metadata": {},
     "output_type": "execute_result"
    }
   ],
   "source": [
    "#hide_input\n",
    "bars, line = my_cases_plot(region)\n",
    "(bars + line).properties(\n",
    "    title=f'COVID-19 in Chile: Daily confirmed cases in {region}',\n",
    "    width=600\n",
    ")"
   ]
  },
  {
   "cell_type": "markdown",
   "metadata": {
    "papermill": {
     "duration": 0.091996,
     "end_time": "2020-04-28T12:16:47.515960",
     "exception": false,
     "start_time": "2020-04-28T12:16:47.423964",
     "status": "completed"
    },
    "tags": []
   },
   "source": [
    "## Araucanía"
   ]
  },
  {
   "cell_type": "code",
   "execution_count": 58,
   "metadata": {
    "execution": {
     "iopub.execute_input": "2020-04-28T12:16:47.706299Z",
     "iopub.status.busy": "2020-04-28T12:16:47.705701Z",
     "iopub.status.idle": "2020-04-28T12:16:47.708244Z",
     "shell.execute_reply": "2020-04-28T12:16:47.708721Z"
    },
    "papermill": {
     "duration": 0.100157,
     "end_time": "2020-04-28T12:16:47.708851",
     "exception": false,
     "start_time": "2020-04-28T12:16:47.608694",
     "status": "completed"
    },
    "scrolled": false,
    "tags": []
   },
   "outputs": [],
   "source": [
    "#hide\n",
    "region = \"Araucanía\""
   ]
  },
  {
   "cell_type": "code",
   "execution_count": 59,
   "metadata": {
    "execution": {
     "iopub.execute_input": "2020-04-28T12:16:47.921700Z",
     "iopub.status.busy": "2020-04-28T12:16:47.911608Z",
     "iopub.status.idle": "2020-04-28T12:16:47.940716Z",
     "shell.execute_reply": "2020-04-28T12:16:47.941194Z"
    },
    "papermill": {
     "duration": 0.140359,
     "end_time": "2020-04-28T12:16:47.941326",
     "exception": false,
     "start_time": "2020-04-28T12:16:47.800967",
     "status": "completed"
    },
    "tags": []
   },
   "outputs": [
    {
     "data": {
      "text/html": [
       "\n",
       "<div id=\"altair-viz-08f38de1ad0c41b39bf936d541d7dce0\"></div>\n",
       "<script type=\"text/javascript\">\n",
       "  (function(spec, embedOpt){\n",
       "    let outputDiv = document.currentScript.previousElementSibling;\n",
       "    if (outputDiv.id !== \"altair-viz-08f38de1ad0c41b39bf936d541d7dce0\") {\n",
       "      outputDiv = document.getElementById(\"altair-viz-08f38de1ad0c41b39bf936d541d7dce0\");\n",
       "    }\n",
       "    const paths = {\n",
       "      \"vega\": \"https://cdn.jsdelivr.net/npm//vega@5?noext\",\n",
       "      \"vega-lib\": \"https://cdn.jsdelivr.net/npm//vega-lib?noext\",\n",
       "      \"vega-lite\": \"https://cdn.jsdelivr.net/npm//vega-lite@4.8.1?noext\",\n",
       "      \"vega-embed\": \"https://cdn.jsdelivr.net/npm//vega-embed@6?noext\",\n",
       "    };\n",
       "\n",
       "    function loadScript(lib) {\n",
       "      return new Promise(function(resolve, reject) {\n",
       "        var s = document.createElement('script');\n",
       "        s.src = paths[lib];\n",
       "        s.async = true;\n",
       "        s.onload = () => resolve(paths[lib]);\n",
       "        s.onerror = () => reject(`Error loading script: ${paths[lib]}`);\n",
       "        document.getElementsByTagName(\"head\")[0].appendChild(s);\n",
       "      });\n",
       "    }\n",
       "\n",
       "    function showError(err) {\n",
       "      outputDiv.innerHTML = `<div class=\"error\" style=\"color:red;\">${err}</div>`;\n",
       "      throw err;\n",
       "    }\n",
       "\n",
       "    function displayChart(vegaEmbed) {\n",
       "      vegaEmbed(outputDiv, spec, embedOpt)\n",
       "        .catch(err => showError(`Javascript Error: ${err.message}<br>This usually means there's a typo in your chart specification. See the javascript console for the full traceback.`));\n",
       "    }\n",
       "\n",
       "    if(typeof define === \"function\" && define.amd) {\n",
       "      requirejs.config({paths});\n",
       "      require([\"vega-embed\"], displayChart, err => showError(`Error loading script: ${err.message}`));\n",
       "    } else if (typeof vegaEmbed === \"function\") {\n",
       "      displayChart(vegaEmbed);\n",
       "    } else {\n",
       "      loadScript(\"vega\")\n",
       "        .then(() => loadScript(\"vega-lite\"))\n",
       "        .then(() => loadScript(\"vega-embed\"))\n",
       "        .catch(showError)\n",
       "        .then(() => displayChart(vegaEmbed));\n",
       "    }\n",
       "  })({\"config\": {\"view\": {\"continuousWidth\": 400, \"continuousHeight\": 300}}, \"layer\": [{\"mark\": {\"type\": \"bar\", \"opacity\": 0.7}, \"encoding\": {\"opacity\": {\"type\": \"nominal\", \"field\": \"Daily confirmed cases\", \"legend\": {\"title\": \"\"}}, \"tooltip\": [{\"type\": \"nominal\", \"field\": \"Date\"}, {\"type\": \"quantitative\", \"field\": \"Confirmed cases\"}], \"x\": {\"type\": \"nominal\", \"axis\": {\"title\": \"Date\"}, \"field\": \"Date\"}, \"y\": {\"type\": \"quantitative\", \"axis\": {\"title\": \"Daily confirmed cases\"}, \"field\": \"Confirmed cases\"}}}, {\"mark\": {\"type\": \"line\", \"color\": \"#1f77b4\", \"point\": {\"filled\": true, \"fill\": \"#1f77b4\"}}, \"encoding\": {\"shape\": {\"type\": \"nominal\", \"field\": \"7-day rolling average\", \"legend\": {\"title\": \"\"}}, \"x\": {\"type\": \"nominal\", \"axis\": {\"title\": \"Date\"}, \"field\": \"Date\"}, \"y\": {\"type\": \"quantitative\", \"field\": \"Rolling\"}}}], \"data\": {\"name\": \"data-5b104fcf7313bfe77149596e15958fa3\"}, \"title\": \"COVID-19 in Chile: Daily confirmed cases in Araucan\\u00eda\", \"width\": 600, \"$schema\": \"https://vega.github.io/schema/vega-lite/v4.8.1.json\", \"datasets\": {\"data-5b104fcf7313bfe77149596e15958fa3\": [{\"Date\": \"2020-03-04\", \"Confirmed cases\": 0, \"Rolling\": null, \"Daily confirmed cases\": \"Daily confirmed cases\", \"7-day rolling average\": \"7-day rolling average\"}, {\"Date\": \"2020-03-05\", \"Confirmed cases\": 0, \"Rolling\": null, \"Daily confirmed cases\": \"Daily confirmed cases\", \"7-day rolling average\": \"7-day rolling average\"}, {\"Date\": \"2020-03-06\", \"Confirmed cases\": 0, \"Rolling\": null, \"Daily confirmed cases\": \"Daily confirmed cases\", \"7-day rolling average\": \"7-day rolling average\"}, {\"Date\": \"2020-03-07\", \"Confirmed cases\": 0, \"Rolling\": null, \"Daily confirmed cases\": \"Daily confirmed cases\", \"7-day rolling average\": \"7-day rolling average\"}, {\"Date\": \"2020-03-08\", \"Confirmed cases\": 0, \"Rolling\": null, \"Daily confirmed cases\": \"Daily confirmed cases\", \"7-day rolling average\": \"7-day rolling average\"}, {\"Date\": \"2020-03-09\", \"Confirmed cases\": 0, \"Rolling\": null, \"Daily confirmed cases\": \"Daily confirmed cases\", \"7-day rolling average\": \"7-day rolling average\"}, {\"Date\": \"2020-03-10\", \"Confirmed cases\": 0, \"Rolling\": 0.0, \"Daily confirmed cases\": \"Daily confirmed cases\", \"7-day rolling average\": \"7-day rolling average\"}, {\"Date\": \"2020-03-11\", \"Confirmed cases\": 0, \"Rolling\": 0.0, \"Daily confirmed cases\": \"Daily confirmed cases\", \"7-day rolling average\": \"7-day rolling average\"}, {\"Date\": \"2020-03-12\", \"Confirmed cases\": 0, \"Rolling\": 0.0, \"Daily confirmed cases\": \"Daily confirmed cases\", \"7-day rolling average\": \"7-day rolling average\"}, {\"Date\": \"2020-03-13\", \"Confirmed cases\": 0, \"Rolling\": 0.0, \"Daily confirmed cases\": \"Daily confirmed cases\", \"7-day rolling average\": \"7-day rolling average\"}, {\"Date\": \"2020-03-14\", \"Confirmed cases\": 0, \"Rolling\": 0.0, \"Daily confirmed cases\": \"Daily confirmed cases\", \"7-day rolling average\": \"7-day rolling average\"}, {\"Date\": \"2020-03-15\", \"Confirmed cases\": 0, \"Rolling\": 0.0, \"Daily confirmed cases\": \"Daily confirmed cases\", \"7-day rolling average\": \"7-day rolling average\"}, {\"Date\": \"2020-03-16\", \"Confirmed cases\": 1, \"Rolling\": 0.14285714285714285, \"Daily confirmed cases\": \"Daily confirmed cases\", \"7-day rolling average\": \"7-day rolling average\"}, {\"Date\": \"2020-03-17\", \"Confirmed cases\": 0, \"Rolling\": 0.14285714285714285, \"Daily confirmed cases\": \"Daily confirmed cases\", \"7-day rolling average\": \"7-day rolling average\"}, {\"Date\": \"2020-03-18\", \"Confirmed cases\": 3, \"Rolling\": 0.5714285714285714, \"Daily confirmed cases\": \"Daily confirmed cases\", \"7-day rolling average\": \"7-day rolling average\"}, {\"Date\": \"2020-03-19\", \"Confirmed cases\": 3, \"Rolling\": 1.0, \"Daily confirmed cases\": \"Daily confirmed cases\", \"7-day rolling average\": \"7-day rolling average\"}, {\"Date\": \"2020-03-20\", \"Confirmed cases\": 2, \"Rolling\": 1.2857142857142858, \"Daily confirmed cases\": \"Daily confirmed cases\", \"7-day rolling average\": \"7-day rolling average\"}, {\"Date\": \"2020-03-21\", \"Confirmed cases\": 6, \"Rolling\": 2.142857142857143, \"Daily confirmed cases\": \"Daily confirmed cases\", \"7-day rolling average\": \"7-day rolling average\"}, {\"Date\": \"2020-03-22\", \"Confirmed cases\": 12, \"Rolling\": 3.857142857142857, \"Daily confirmed cases\": \"Daily confirmed cases\", \"7-day rolling average\": \"7-day rolling average\"}, {\"Date\": \"2020-03-23\", \"Confirmed cases\": 13, \"Rolling\": 5.571428571428571, \"Daily confirmed cases\": \"Daily confirmed cases\", \"7-day rolling average\": \"7-day rolling average\"}, {\"Date\": \"2020-03-24\", \"Confirmed cases\": 19, \"Rolling\": 8.285714285714286, \"Daily confirmed cases\": \"Daily confirmed cases\", \"7-day rolling average\": \"7-day rolling average\"}, {\"Date\": \"2020-03-25\", \"Confirmed cases\": 15, \"Rolling\": 10.0, \"Daily confirmed cases\": \"Daily confirmed cases\", \"7-day rolling average\": \"7-day rolling average\"}, {\"Date\": \"2020-03-26\", \"Confirmed cases\": 37, \"Rolling\": 14.857142857142858, \"Daily confirmed cases\": \"Daily confirmed cases\", \"7-day rolling average\": \"7-day rolling average\"}, {\"Date\": \"2020-03-27\", \"Confirmed cases\": 32, \"Rolling\": 19.142857142857142, \"Daily confirmed cases\": \"Daily confirmed cases\", \"7-day rolling average\": \"7-day rolling average\"}, {\"Date\": \"2020-03-28\", \"Confirmed cases\": 34, \"Rolling\": 23.142857142857142, \"Daily confirmed cases\": \"Daily confirmed cases\", \"7-day rolling average\": \"7-day rolling average\"}, {\"Date\": \"2020-03-29\", \"Confirmed cases\": 28, \"Rolling\": 25.428571428571427, \"Daily confirmed cases\": \"Daily confirmed cases\", \"7-day rolling average\": \"7-day rolling average\"}, {\"Date\": \"2020-03-30\", \"Confirmed cases\": 42, \"Rolling\": 29.571428571428573, \"Daily confirmed cases\": \"Daily confirmed cases\", \"7-day rolling average\": \"7-day rolling average\"}, {\"Date\": \"2020-03-31\", \"Confirmed cases\": 55, \"Rolling\": 34.714285714285715, \"Daily confirmed cases\": \"Daily confirmed cases\", \"7-day rolling average\": \"7-day rolling average\"}, {\"Date\": \"2020-04-01\", \"Confirmed cases\": 41, \"Rolling\": 38.42857142857143, \"Daily confirmed cases\": \"Daily confirmed cases\", \"7-day rolling average\": \"7-day rolling average\"}, {\"Date\": \"2020-04-02\", \"Confirmed cases\": 46, \"Rolling\": 39.714285714285715, \"Daily confirmed cases\": \"Daily confirmed cases\", \"7-day rolling average\": \"7-day rolling average\"}, {\"Date\": \"2020-04-03\", \"Confirmed cases\": 43, \"Rolling\": 41.285714285714285, \"Daily confirmed cases\": \"Daily confirmed cases\", \"7-day rolling average\": \"7-day rolling average\"}, {\"Date\": \"2020-04-04\", \"Confirmed cases\": 45, \"Rolling\": 42.857142857142854, \"Daily confirmed cases\": \"Daily confirmed cases\", \"7-day rolling average\": \"7-day rolling average\"}, {\"Date\": \"2020-04-05\", \"Confirmed cases\": 32, \"Rolling\": 43.42857142857143, \"Daily confirmed cases\": \"Daily confirmed cases\", \"7-day rolling average\": \"7-day rolling average\"}, {\"Date\": \"2020-04-06\", \"Confirmed cases\": 53, \"Rolling\": 45.0, \"Daily confirmed cases\": \"Daily confirmed cases\", \"7-day rolling average\": \"7-day rolling average\"}, {\"Date\": \"2020-04-07\", \"Confirmed cases\": 50, \"Rolling\": 44.285714285714285, \"Daily confirmed cases\": \"Daily confirmed cases\", \"7-day rolling average\": \"7-day rolling average\"}, {\"Date\": \"2020-04-08\", \"Confirmed cases\": 57, \"Rolling\": 46.57142857142857, \"Daily confirmed cases\": \"Daily confirmed cases\", \"7-day rolling average\": \"7-day rolling average\"}, {\"Date\": \"2020-04-09\", \"Confirmed cases\": 20, \"Rolling\": 42.857142857142854, \"Daily confirmed cases\": \"Daily confirmed cases\", \"7-day rolling average\": \"7-day rolling average\"}, {\"Date\": \"2020-04-10\", \"Confirmed cases\": 23, \"Rolling\": 40.0, \"Daily confirmed cases\": \"Daily confirmed cases\", \"7-day rolling average\": \"7-day rolling average\"}, {\"Date\": \"2020-04-11\", \"Confirmed cases\": 27, \"Rolling\": 37.42857142857143, \"Daily confirmed cases\": \"Daily confirmed cases\", \"7-day rolling average\": \"7-day rolling average\"}, {\"Date\": \"2020-04-12\", \"Confirmed cases\": 36, \"Rolling\": 38.0, \"Daily confirmed cases\": \"Daily confirmed cases\", \"7-day rolling average\": \"7-day rolling average\"}, {\"Date\": \"2020-04-13\", \"Confirmed cases\": 20, \"Rolling\": 33.285714285714285, \"Daily confirmed cases\": \"Daily confirmed cases\", \"7-day rolling average\": \"7-day rolling average\"}, {\"Date\": \"2020-04-14\", \"Confirmed cases\": 21, \"Rolling\": 29.142857142857142, \"Daily confirmed cases\": \"Daily confirmed cases\", \"7-day rolling average\": \"7-day rolling average\"}, {\"Date\": \"2020-04-15\", \"Confirmed cases\": 10, \"Rolling\": 22.428571428571427, \"Daily confirmed cases\": \"Daily confirmed cases\", \"7-day rolling average\": \"7-day rolling average\"}, {\"Date\": \"2020-04-16\", \"Confirmed cases\": 56, \"Rolling\": 27.571428571428573, \"Daily confirmed cases\": \"Daily confirmed cases\", \"7-day rolling average\": \"7-day rolling average\"}, {\"Date\": \"2020-04-17\", \"Confirmed cases\": 25, \"Rolling\": 27.857142857142858, \"Daily confirmed cases\": \"Daily confirmed cases\", \"7-day rolling average\": \"7-day rolling average\"}, {\"Date\": \"2020-04-18\", \"Confirmed cases\": 37, \"Rolling\": 29.285714285714285, \"Daily confirmed cases\": \"Daily confirmed cases\", \"7-day rolling average\": \"7-day rolling average\"}, {\"Date\": \"2020-04-19\", \"Confirmed cases\": 28, \"Rolling\": 28.142857142857142, \"Daily confirmed cases\": \"Daily confirmed cases\", \"7-day rolling average\": \"7-day rolling average\"}, {\"Date\": \"2020-04-20\", \"Confirmed cases\": 73, \"Rolling\": 35.714285714285715, \"Daily confirmed cases\": \"Daily confirmed cases\", \"7-day rolling average\": \"7-day rolling average\"}, {\"Date\": \"2020-04-21\", \"Confirmed cases\": 47, \"Rolling\": 39.42857142857143, \"Daily confirmed cases\": \"Daily confirmed cases\", \"7-day rolling average\": \"7-day rolling average\"}, {\"Date\": \"2020-04-22\", \"Confirmed cases\": 21, \"Rolling\": 41.0, \"Daily confirmed cases\": \"Daily confirmed cases\", \"7-day rolling average\": \"7-day rolling average\"}, {\"Date\": \"2020-04-23\", \"Confirmed cases\": 29, \"Rolling\": 37.142857142857146, \"Daily confirmed cases\": \"Daily confirmed cases\", \"7-day rolling average\": \"7-day rolling average\"}, {\"Date\": \"2020-04-24\", \"Confirmed cases\": 42, \"Rolling\": 39.57142857142857, \"Daily confirmed cases\": \"Daily confirmed cases\", \"7-day rolling average\": \"7-day rolling average\"}, {\"Date\": \"2020-04-25\", \"Confirmed cases\": 19, \"Rolling\": 37.0, \"Daily confirmed cases\": \"Daily confirmed cases\", \"7-day rolling average\": \"7-day rolling average\"}, {\"Date\": \"2020-04-26\", \"Confirmed cases\": 13, \"Rolling\": 34.857142857142854, \"Daily confirmed cases\": \"Daily confirmed cases\", \"7-day rolling average\": \"7-day rolling average\"}, {\"Date\": \"2020-04-27\", \"Confirmed cases\": 20, \"Rolling\": 27.285714285714285, \"Daily confirmed cases\": \"Daily confirmed cases\", \"7-day rolling average\": \"7-day rolling average\"}, {\"Date\": \"2020-04-28\", \"Confirmed cases\": 15, \"Rolling\": 22.714285714285715, \"Daily confirmed cases\": \"Daily confirmed cases\", \"7-day rolling average\": \"7-day rolling average\"}]}}, {\"mode\": \"vega-lite\"});\n",
       "</script>"
      ],
      "text/plain": [
       "alt.LayerChart(...)"
      ]
     },
     "execution_count": 59,
     "metadata": {},
     "output_type": "execute_result"
    }
   ],
   "source": [
    "#hide_input\n",
    "bars, line = my_cases_plot(region)\n",
    "(bars + line).properties(\n",
    "    title=f'COVID-19 in Chile: Daily confirmed cases in {region}',\n",
    "    width=600\n",
    ")"
   ]
  },
  {
   "cell_type": "markdown",
   "metadata": {
    "papermill": {
     "duration": 0.094783,
     "end_time": "2020-04-28T12:16:48.129045",
     "exception": false,
     "start_time": "2020-04-28T12:16:48.034262",
     "status": "completed"
    },
    "tags": []
   },
   "source": [
    "## Los Ríos"
   ]
  },
  {
   "cell_type": "code",
   "execution_count": 60,
   "metadata": {
    "execution": {
     "iopub.execute_input": "2020-04-28T12:16:48.318902Z",
     "iopub.status.busy": "2020-04-28T12:16:48.318305Z",
     "iopub.status.idle": "2020-04-28T12:16:48.321387Z",
     "shell.execute_reply": "2020-04-28T12:16:48.320876Z"
    },
    "papermill": {
     "duration": 0.099626,
     "end_time": "2020-04-28T12:16:48.321492",
     "exception": false,
     "start_time": "2020-04-28T12:16:48.221866",
     "status": "completed"
    },
    "scrolled": true,
    "tags": []
   },
   "outputs": [],
   "source": [
    "#hide\n",
    "region = \"Los Ríos\""
   ]
  },
  {
   "cell_type": "code",
   "execution_count": 61,
   "metadata": {
    "execution": {
     "iopub.execute_input": "2020-04-28T12:16:48.534400Z",
     "iopub.status.busy": "2020-04-28T12:16:48.533673Z",
     "iopub.status.idle": "2020-04-28T12:16:48.558572Z",
     "shell.execute_reply": "2020-04-28T12:16:48.558033Z"
    },
    "papermill": {
     "duration": 0.14354,
     "end_time": "2020-04-28T12:16:48.558685",
     "exception": false,
     "start_time": "2020-04-28T12:16:48.415145",
     "status": "completed"
    },
    "tags": []
   },
   "outputs": [
    {
     "data": {
      "text/html": [
       "\n",
       "<div id=\"altair-viz-0d10732b7f164d40a1d6d11479157e7c\"></div>\n",
       "<script type=\"text/javascript\">\n",
       "  (function(spec, embedOpt){\n",
       "    let outputDiv = document.currentScript.previousElementSibling;\n",
       "    if (outputDiv.id !== \"altair-viz-0d10732b7f164d40a1d6d11479157e7c\") {\n",
       "      outputDiv = document.getElementById(\"altair-viz-0d10732b7f164d40a1d6d11479157e7c\");\n",
       "    }\n",
       "    const paths = {\n",
       "      \"vega\": \"https://cdn.jsdelivr.net/npm//vega@5?noext\",\n",
       "      \"vega-lib\": \"https://cdn.jsdelivr.net/npm//vega-lib?noext\",\n",
       "      \"vega-lite\": \"https://cdn.jsdelivr.net/npm//vega-lite@4.8.1?noext\",\n",
       "      \"vega-embed\": \"https://cdn.jsdelivr.net/npm//vega-embed@6?noext\",\n",
       "    };\n",
       "\n",
       "    function loadScript(lib) {\n",
       "      return new Promise(function(resolve, reject) {\n",
       "        var s = document.createElement('script');\n",
       "        s.src = paths[lib];\n",
       "        s.async = true;\n",
       "        s.onload = () => resolve(paths[lib]);\n",
       "        s.onerror = () => reject(`Error loading script: ${paths[lib]}`);\n",
       "        document.getElementsByTagName(\"head\")[0].appendChild(s);\n",
       "      });\n",
       "    }\n",
       "\n",
       "    function showError(err) {\n",
       "      outputDiv.innerHTML = `<div class=\"error\" style=\"color:red;\">${err}</div>`;\n",
       "      throw err;\n",
       "    }\n",
       "\n",
       "    function displayChart(vegaEmbed) {\n",
       "      vegaEmbed(outputDiv, spec, embedOpt)\n",
       "        .catch(err => showError(`Javascript Error: ${err.message}<br>This usually means there's a typo in your chart specification. See the javascript console for the full traceback.`));\n",
       "    }\n",
       "\n",
       "    if(typeof define === \"function\" && define.amd) {\n",
       "      requirejs.config({paths});\n",
       "      require([\"vega-embed\"], displayChart, err => showError(`Error loading script: ${err.message}`));\n",
       "    } else if (typeof vegaEmbed === \"function\") {\n",
       "      displayChart(vegaEmbed);\n",
       "    } else {\n",
       "      loadScript(\"vega\")\n",
       "        .then(() => loadScript(\"vega-lite\"))\n",
       "        .then(() => loadScript(\"vega-embed\"))\n",
       "        .catch(showError)\n",
       "        .then(() => displayChart(vegaEmbed));\n",
       "    }\n",
       "  })({\"config\": {\"view\": {\"continuousWidth\": 400, \"continuousHeight\": 300}}, \"layer\": [{\"mark\": {\"type\": \"bar\", \"opacity\": 0.7}, \"encoding\": {\"opacity\": {\"type\": \"nominal\", \"field\": \"Daily confirmed cases\", \"legend\": {\"title\": \"\"}}, \"tooltip\": [{\"type\": \"nominal\", \"field\": \"Date\"}, {\"type\": \"quantitative\", \"field\": \"Confirmed cases\"}], \"x\": {\"type\": \"nominal\", \"axis\": {\"title\": \"Date\"}, \"field\": \"Date\"}, \"y\": {\"type\": \"quantitative\", \"axis\": {\"title\": \"Daily confirmed cases\"}, \"field\": \"Confirmed cases\"}}}, {\"mark\": {\"type\": \"line\", \"color\": \"#1f77b4\", \"point\": {\"filled\": true, \"fill\": \"#1f77b4\"}}, \"encoding\": {\"shape\": {\"type\": \"nominal\", \"field\": \"7-day rolling average\", \"legend\": {\"title\": \"\"}}, \"x\": {\"type\": \"nominal\", \"axis\": {\"title\": \"Date\"}, \"field\": \"Date\"}, \"y\": {\"type\": \"quantitative\", \"field\": \"Rolling\"}}}], \"data\": {\"name\": \"data-394b6484cff1bd790a58a23a65842593\"}, \"title\": \"COVID-19 in Chile: Daily confirmed cases in Los R\\u00edos\", \"width\": 600, \"$schema\": \"https://vega.github.io/schema/vega-lite/v4.8.1.json\", \"datasets\": {\"data-394b6484cff1bd790a58a23a65842593\": [{\"Date\": \"2020-03-04\", \"Confirmed cases\": 0, \"Rolling\": null, \"Daily confirmed cases\": \"Daily confirmed cases\", \"7-day rolling average\": \"7-day rolling average\"}, {\"Date\": \"2020-03-05\", \"Confirmed cases\": 0, \"Rolling\": null, \"Daily confirmed cases\": \"Daily confirmed cases\", \"7-day rolling average\": \"7-day rolling average\"}, {\"Date\": \"2020-03-06\", \"Confirmed cases\": 0, \"Rolling\": null, \"Daily confirmed cases\": \"Daily confirmed cases\", \"7-day rolling average\": \"7-day rolling average\"}, {\"Date\": \"2020-03-07\", \"Confirmed cases\": 0, \"Rolling\": null, \"Daily confirmed cases\": \"Daily confirmed cases\", \"7-day rolling average\": \"7-day rolling average\"}, {\"Date\": \"2020-03-08\", \"Confirmed cases\": 0, \"Rolling\": null, \"Daily confirmed cases\": \"Daily confirmed cases\", \"7-day rolling average\": \"7-day rolling average\"}, {\"Date\": \"2020-03-09\", \"Confirmed cases\": 0, \"Rolling\": null, \"Daily confirmed cases\": \"Daily confirmed cases\", \"7-day rolling average\": \"7-day rolling average\"}, {\"Date\": \"2020-03-10\", \"Confirmed cases\": 0, \"Rolling\": 0.0, \"Daily confirmed cases\": \"Daily confirmed cases\", \"7-day rolling average\": \"7-day rolling average\"}, {\"Date\": \"2020-03-11\", \"Confirmed cases\": 0, \"Rolling\": 0.0, \"Daily confirmed cases\": \"Daily confirmed cases\", \"7-day rolling average\": \"7-day rolling average\"}, {\"Date\": \"2020-03-12\", \"Confirmed cases\": 0, \"Rolling\": 0.0, \"Daily confirmed cases\": \"Daily confirmed cases\", \"7-day rolling average\": \"7-day rolling average\"}, {\"Date\": \"2020-03-13\", \"Confirmed cases\": 0, \"Rolling\": 0.0, \"Daily confirmed cases\": \"Daily confirmed cases\", \"7-day rolling average\": \"7-day rolling average\"}, {\"Date\": \"2020-03-14\", \"Confirmed cases\": 0, \"Rolling\": 0.0, \"Daily confirmed cases\": \"Daily confirmed cases\", \"7-day rolling average\": \"7-day rolling average\"}, {\"Date\": \"2020-03-15\", \"Confirmed cases\": 0, \"Rolling\": 0.0, \"Daily confirmed cases\": \"Daily confirmed cases\", \"7-day rolling average\": \"7-day rolling average\"}, {\"Date\": \"2020-03-16\", \"Confirmed cases\": 1, \"Rolling\": 0.14285714285714285, \"Daily confirmed cases\": \"Daily confirmed cases\", \"7-day rolling average\": \"7-day rolling average\"}, {\"Date\": \"2020-03-17\", \"Confirmed cases\": 0, \"Rolling\": 0.14285714285714285, \"Daily confirmed cases\": \"Daily confirmed cases\", \"7-day rolling average\": \"7-day rolling average\"}, {\"Date\": \"2020-03-18\", \"Confirmed cases\": 0, \"Rolling\": 0.14285714285714285, \"Daily confirmed cases\": \"Daily confirmed cases\", \"7-day rolling average\": \"7-day rolling average\"}, {\"Date\": \"2020-03-19\", \"Confirmed cases\": 0, \"Rolling\": 0.14285714285714285, \"Daily confirmed cases\": \"Daily confirmed cases\", \"7-day rolling average\": \"7-day rolling average\"}, {\"Date\": \"2020-03-20\", \"Confirmed cases\": 0, \"Rolling\": 0.14285714285714285, \"Daily confirmed cases\": \"Daily confirmed cases\", \"7-day rolling average\": \"7-day rolling average\"}, {\"Date\": \"2020-03-21\", \"Confirmed cases\": 0, \"Rolling\": 0.14285714285714285, \"Daily confirmed cases\": \"Daily confirmed cases\", \"7-day rolling average\": \"7-day rolling average\"}, {\"Date\": \"2020-03-22\", \"Confirmed cases\": 0, \"Rolling\": 0.14285714285714285, \"Daily confirmed cases\": \"Daily confirmed cases\", \"7-day rolling average\": \"7-day rolling average\"}, {\"Date\": \"2020-03-23\", \"Confirmed cases\": 3, \"Rolling\": 0.42857142857142855, \"Daily confirmed cases\": \"Daily confirmed cases\", \"7-day rolling average\": \"7-day rolling average\"}, {\"Date\": \"2020-03-24\", \"Confirmed cases\": 2, \"Rolling\": 0.7142857142857143, \"Daily confirmed cases\": \"Daily confirmed cases\", \"7-day rolling average\": \"7-day rolling average\"}, {\"Date\": \"2020-03-25\", \"Confirmed cases\": 5, \"Rolling\": 1.4285714285714286, \"Daily confirmed cases\": \"Daily confirmed cases\", \"7-day rolling average\": \"7-day rolling average\"}, {\"Date\": \"2020-03-26\", \"Confirmed cases\": 3, \"Rolling\": 1.8571428571428572, \"Daily confirmed cases\": \"Daily confirmed cases\", \"7-day rolling average\": \"7-day rolling average\"}, {\"Date\": \"2020-03-27\", \"Confirmed cases\": 8, \"Rolling\": 3.0, \"Daily confirmed cases\": \"Daily confirmed cases\", \"7-day rolling average\": \"7-day rolling average\"}, {\"Date\": \"2020-03-28\", \"Confirmed cases\": 5, \"Rolling\": 3.7142857142857144, \"Daily confirmed cases\": \"Daily confirmed cases\", \"7-day rolling average\": \"7-day rolling average\"}, {\"Date\": \"2020-03-29\", \"Confirmed cases\": 13, \"Rolling\": 5.571428571428571, \"Daily confirmed cases\": \"Daily confirmed cases\", \"7-day rolling average\": \"7-day rolling average\"}, {\"Date\": \"2020-03-30\", \"Confirmed cases\": 7, \"Rolling\": 6.142857142857143, \"Daily confirmed cases\": \"Daily confirmed cases\", \"7-day rolling average\": \"7-day rolling average\"}, {\"Date\": \"2020-03-31\", \"Confirmed cases\": 11, \"Rolling\": 7.428571428571429, \"Daily confirmed cases\": \"Daily confirmed cases\", \"7-day rolling average\": \"7-day rolling average\"}, {\"Date\": \"2020-04-01\", \"Confirmed cases\": 6, \"Rolling\": 7.571428571428571, \"Daily confirmed cases\": \"Daily confirmed cases\", \"7-day rolling average\": \"7-day rolling average\"}, {\"Date\": \"2020-04-02\", \"Confirmed cases\": 4, \"Rolling\": 7.714285714285714, \"Daily confirmed cases\": \"Daily confirmed cases\", \"7-day rolling average\": \"7-day rolling average\"}, {\"Date\": \"2020-04-03\", \"Confirmed cases\": 10, \"Rolling\": 8.0, \"Daily confirmed cases\": \"Daily confirmed cases\", \"7-day rolling average\": \"7-day rolling average\"}, {\"Date\": \"2020-04-04\", \"Confirmed cases\": 11, \"Rolling\": 8.857142857142858, \"Daily confirmed cases\": \"Daily confirmed cases\", \"7-day rolling average\": \"7-day rolling average\"}, {\"Date\": \"2020-04-05\", \"Confirmed cases\": 10, \"Rolling\": 8.428571428571429, \"Daily confirmed cases\": \"Daily confirmed cases\", \"7-day rolling average\": \"7-day rolling average\"}, {\"Date\": \"2020-04-06\", \"Confirmed cases\": 5, \"Rolling\": 8.142857142857142, \"Daily confirmed cases\": \"Daily confirmed cases\", \"7-day rolling average\": \"7-day rolling average\"}, {\"Date\": \"2020-04-07\", \"Confirmed cases\": 5, \"Rolling\": 7.285714285714286, \"Daily confirmed cases\": \"Daily confirmed cases\", \"7-day rolling average\": \"7-day rolling average\"}, {\"Date\": \"2020-04-08\", \"Confirmed cases\": 5, \"Rolling\": 7.142857142857143, \"Daily confirmed cases\": \"Daily confirmed cases\", \"7-day rolling average\": \"7-day rolling average\"}, {\"Date\": \"2020-04-09\", \"Confirmed cases\": 4, \"Rolling\": 7.142857142857143, \"Daily confirmed cases\": \"Daily confirmed cases\", \"7-day rolling average\": \"7-day rolling average\"}, {\"Date\": \"2020-04-10\", \"Confirmed cases\": 6, \"Rolling\": 6.571428571428571, \"Daily confirmed cases\": \"Daily confirmed cases\", \"7-day rolling average\": \"7-day rolling average\"}, {\"Date\": \"2020-04-11\", \"Confirmed cases\": 6, \"Rolling\": 5.857142857142857, \"Daily confirmed cases\": \"Daily confirmed cases\", \"7-day rolling average\": \"7-day rolling average\"}, {\"Date\": \"2020-04-12\", \"Confirmed cases\": 5, \"Rolling\": 5.142857142857143, \"Daily confirmed cases\": \"Daily confirmed cases\", \"7-day rolling average\": \"7-day rolling average\"}, {\"Date\": \"2020-04-13\", \"Confirmed cases\": 3, \"Rolling\": 4.857142857142857, \"Daily confirmed cases\": \"Daily confirmed cases\", \"7-day rolling average\": \"7-day rolling average\"}, {\"Date\": \"2020-04-14\", \"Confirmed cases\": 10, \"Rolling\": 5.571428571428571, \"Daily confirmed cases\": \"Daily confirmed cases\", \"7-day rolling average\": \"7-day rolling average\"}, {\"Date\": \"2020-04-15\", \"Confirmed cases\": 2, \"Rolling\": 5.142857142857143, \"Daily confirmed cases\": \"Daily confirmed cases\", \"7-day rolling average\": \"7-day rolling average\"}, {\"Date\": \"2020-04-16\", \"Confirmed cases\": 3, \"Rolling\": 5.0, \"Daily confirmed cases\": \"Daily confirmed cases\", \"7-day rolling average\": \"7-day rolling average\"}, {\"Date\": \"2020-04-17\", \"Confirmed cases\": 1, \"Rolling\": 4.285714285714286, \"Daily confirmed cases\": \"Daily confirmed cases\", \"7-day rolling average\": \"7-day rolling average\"}, {\"Date\": \"2020-04-18\", \"Confirmed cases\": 2, \"Rolling\": 3.7142857142857144, \"Daily confirmed cases\": \"Daily confirmed cases\", \"7-day rolling average\": \"7-day rolling average\"}, {\"Date\": \"2020-04-19\", \"Confirmed cases\": 1, \"Rolling\": 3.142857142857143, \"Daily confirmed cases\": \"Daily confirmed cases\", \"7-day rolling average\": \"7-day rolling average\"}, {\"Date\": \"2020-04-20\", \"Confirmed cases\": 5, \"Rolling\": 3.4285714285714284, \"Daily confirmed cases\": \"Daily confirmed cases\", \"7-day rolling average\": \"7-day rolling average\"}, {\"Date\": \"2020-04-21\", \"Confirmed cases\": 5, \"Rolling\": 2.7142857142857144, \"Daily confirmed cases\": \"Daily confirmed cases\", \"7-day rolling average\": \"7-day rolling average\"}, {\"Date\": \"2020-04-22\", \"Confirmed cases\": 4, \"Rolling\": 3.0, \"Daily confirmed cases\": \"Daily confirmed cases\", \"7-day rolling average\": \"7-day rolling average\"}, {\"Date\": \"2020-04-23\", \"Confirmed cases\": 2, \"Rolling\": 2.857142857142857, \"Daily confirmed cases\": \"Daily confirmed cases\", \"7-day rolling average\": \"7-day rolling average\"}, {\"Date\": \"2020-04-24\", \"Confirmed cases\": 1, \"Rolling\": 2.857142857142857, \"Daily confirmed cases\": \"Daily confirmed cases\", \"7-day rolling average\": \"7-day rolling average\"}, {\"Date\": \"2020-04-25\", \"Confirmed cases\": 3, \"Rolling\": 3.0, \"Daily confirmed cases\": \"Daily confirmed cases\", \"7-day rolling average\": \"7-day rolling average\"}, {\"Date\": \"2020-04-26\", \"Confirmed cases\": 1, \"Rolling\": 3.0, \"Daily confirmed cases\": \"Daily confirmed cases\", \"7-day rolling average\": \"7-day rolling average\"}, {\"Date\": \"2020-04-27\", \"Confirmed cases\": 2, \"Rolling\": 2.5714285714285716, \"Daily confirmed cases\": \"Daily confirmed cases\", \"7-day rolling average\": \"7-day rolling average\"}, {\"Date\": \"2020-04-28\", \"Confirmed cases\": 0, \"Rolling\": 1.8571428571428572, \"Daily confirmed cases\": \"Daily confirmed cases\", \"7-day rolling average\": \"7-day rolling average\"}]}}, {\"mode\": \"vega-lite\"});\n",
       "</script>"
      ],
      "text/plain": [
       "alt.LayerChart(...)"
      ]
     },
     "execution_count": 61,
     "metadata": {},
     "output_type": "execute_result"
    }
   ],
   "source": [
    "#hide_input\n",
    "bars, line = my_cases_plot(region)\n",
    "(bars + line).properties(\n",
    "    title=f'COVID-19 in Chile: Daily confirmed cases in {region}',\n",
    "    width=600\n",
    ")"
   ]
  },
  {
   "cell_type": "markdown",
   "metadata": {
    "papermill": {
     "duration": 0.104486,
     "end_time": "2020-04-28T12:16:48.765499",
     "exception": false,
     "start_time": "2020-04-28T12:16:48.661013",
     "status": "completed"
    },
    "tags": []
   },
   "source": [
    "## Los Lagos"
   ]
  },
  {
   "cell_type": "code",
   "execution_count": 62,
   "metadata": {
    "execution": {
     "iopub.execute_input": "2020-04-28T12:16:48.961671Z",
     "iopub.status.busy": "2020-04-28T12:16:48.961071Z",
     "iopub.status.idle": "2020-04-28T12:16:48.962877Z",
     "shell.execute_reply": "2020-04-28T12:16:48.963810Z"
    },
    "papermill": {
     "duration": 0.098701,
     "end_time": "2020-04-28T12:16:48.963945",
     "exception": false,
     "start_time": "2020-04-28T12:16:48.865244",
     "status": "completed"
    },
    "scrolled": false,
    "tags": []
   },
   "outputs": [],
   "source": [
    "#hide\n",
    "region = \"Los Lagos\""
   ]
  },
  {
   "cell_type": "code",
   "execution_count": 63,
   "metadata": {
    "execution": {
     "iopub.execute_input": "2020-04-28T12:16:49.177768Z",
     "iopub.status.busy": "2020-04-28T12:16:49.172758Z",
     "iopub.status.idle": "2020-04-28T12:16:49.198415Z",
     "shell.execute_reply": "2020-04-28T12:16:49.199073Z"
    },
    "papermill": {
     "duration": 0.14202,
     "end_time": "2020-04-28T12:16:49.199249",
     "exception": false,
     "start_time": "2020-04-28T12:16:49.057229",
     "status": "completed"
    },
    "tags": []
   },
   "outputs": [
    {
     "data": {
      "text/html": [
       "\n",
       "<div id=\"altair-viz-8b76e3da74f644a1a298e1737e8f8006\"></div>\n",
       "<script type=\"text/javascript\">\n",
       "  (function(spec, embedOpt){\n",
       "    let outputDiv = document.currentScript.previousElementSibling;\n",
       "    if (outputDiv.id !== \"altair-viz-8b76e3da74f644a1a298e1737e8f8006\") {\n",
       "      outputDiv = document.getElementById(\"altair-viz-8b76e3da74f644a1a298e1737e8f8006\");\n",
       "    }\n",
       "    const paths = {\n",
       "      \"vega\": \"https://cdn.jsdelivr.net/npm//vega@5?noext\",\n",
       "      \"vega-lib\": \"https://cdn.jsdelivr.net/npm//vega-lib?noext\",\n",
       "      \"vega-lite\": \"https://cdn.jsdelivr.net/npm//vega-lite@4.8.1?noext\",\n",
       "      \"vega-embed\": \"https://cdn.jsdelivr.net/npm//vega-embed@6?noext\",\n",
       "    };\n",
       "\n",
       "    function loadScript(lib) {\n",
       "      return new Promise(function(resolve, reject) {\n",
       "        var s = document.createElement('script');\n",
       "        s.src = paths[lib];\n",
       "        s.async = true;\n",
       "        s.onload = () => resolve(paths[lib]);\n",
       "        s.onerror = () => reject(`Error loading script: ${paths[lib]}`);\n",
       "        document.getElementsByTagName(\"head\")[0].appendChild(s);\n",
       "      });\n",
       "    }\n",
       "\n",
       "    function showError(err) {\n",
       "      outputDiv.innerHTML = `<div class=\"error\" style=\"color:red;\">${err}</div>`;\n",
       "      throw err;\n",
       "    }\n",
       "\n",
       "    function displayChart(vegaEmbed) {\n",
       "      vegaEmbed(outputDiv, spec, embedOpt)\n",
       "        .catch(err => showError(`Javascript Error: ${err.message}<br>This usually means there's a typo in your chart specification. See the javascript console for the full traceback.`));\n",
       "    }\n",
       "\n",
       "    if(typeof define === \"function\" && define.amd) {\n",
       "      requirejs.config({paths});\n",
       "      require([\"vega-embed\"], displayChart, err => showError(`Error loading script: ${err.message}`));\n",
       "    } else if (typeof vegaEmbed === \"function\") {\n",
       "      displayChart(vegaEmbed);\n",
       "    } else {\n",
       "      loadScript(\"vega\")\n",
       "        .then(() => loadScript(\"vega-lite\"))\n",
       "        .then(() => loadScript(\"vega-embed\"))\n",
       "        .catch(showError)\n",
       "        .then(() => displayChart(vegaEmbed));\n",
       "    }\n",
       "  })({\"config\": {\"view\": {\"continuousWidth\": 400, \"continuousHeight\": 300}}, \"layer\": [{\"mark\": {\"type\": \"bar\", \"opacity\": 0.7}, \"encoding\": {\"opacity\": {\"type\": \"nominal\", \"field\": \"Daily confirmed cases\", \"legend\": {\"title\": \"\"}}, \"tooltip\": [{\"type\": \"nominal\", \"field\": \"Date\"}, {\"type\": \"quantitative\", \"field\": \"Confirmed cases\"}], \"x\": {\"type\": \"nominal\", \"axis\": {\"title\": \"Date\"}, \"field\": \"Date\"}, \"y\": {\"type\": \"quantitative\", \"axis\": {\"title\": \"Daily confirmed cases\"}, \"field\": \"Confirmed cases\"}}}, {\"mark\": {\"type\": \"line\", \"color\": \"#1f77b4\", \"point\": {\"filled\": true, \"fill\": \"#1f77b4\"}}, \"encoding\": {\"shape\": {\"type\": \"nominal\", \"field\": \"7-day rolling average\", \"legend\": {\"title\": \"\"}}, \"x\": {\"type\": \"nominal\", \"axis\": {\"title\": \"Date\"}, \"field\": \"Date\"}, \"y\": {\"type\": \"quantitative\", \"field\": \"Rolling\"}}}], \"data\": {\"name\": \"data-dd6119375940632bede965424227f4d6\"}, \"title\": \"COVID-19 in Chile: Daily confirmed cases in Los Lagos\", \"width\": 600, \"$schema\": \"https://vega.github.io/schema/vega-lite/v4.8.1.json\", \"datasets\": {\"data-dd6119375940632bede965424227f4d6\": [{\"Date\": \"2020-03-04\", \"Confirmed cases\": 0, \"Rolling\": null, \"Daily confirmed cases\": \"Daily confirmed cases\", \"7-day rolling average\": \"7-day rolling average\"}, {\"Date\": \"2020-03-05\", \"Confirmed cases\": 0, \"Rolling\": null, \"Daily confirmed cases\": \"Daily confirmed cases\", \"7-day rolling average\": \"7-day rolling average\"}, {\"Date\": \"2020-03-06\", \"Confirmed cases\": 0, \"Rolling\": null, \"Daily confirmed cases\": \"Daily confirmed cases\", \"7-day rolling average\": \"7-day rolling average\"}, {\"Date\": \"2020-03-07\", \"Confirmed cases\": 1, \"Rolling\": null, \"Daily confirmed cases\": \"Daily confirmed cases\", \"7-day rolling average\": \"7-day rolling average\"}, {\"Date\": \"2020-03-08\", \"Confirmed cases\": 0, \"Rolling\": null, \"Daily confirmed cases\": \"Daily confirmed cases\", \"7-day rolling average\": \"7-day rolling average\"}, {\"Date\": \"2020-03-09\", \"Confirmed cases\": 0, \"Rolling\": null, \"Daily confirmed cases\": \"Daily confirmed cases\", \"7-day rolling average\": \"7-day rolling average\"}, {\"Date\": \"2020-03-10\", \"Confirmed cases\": 0, \"Rolling\": 0.14285714285714285, \"Daily confirmed cases\": \"Daily confirmed cases\", \"7-day rolling average\": \"7-day rolling average\"}, {\"Date\": \"2020-03-11\", \"Confirmed cases\": 0, \"Rolling\": 0.14285714285714285, \"Daily confirmed cases\": \"Daily confirmed cases\", \"7-day rolling average\": \"7-day rolling average\"}, {\"Date\": \"2020-03-12\", \"Confirmed cases\": 0, \"Rolling\": 0.14285714285714285, \"Daily confirmed cases\": \"Daily confirmed cases\", \"7-day rolling average\": \"7-day rolling average\"}, {\"Date\": \"2020-03-13\", \"Confirmed cases\": 0, \"Rolling\": 0.14285714285714285, \"Daily confirmed cases\": \"Daily confirmed cases\", \"7-day rolling average\": \"7-day rolling average\"}, {\"Date\": \"2020-03-14\", \"Confirmed cases\": 0, \"Rolling\": 0.0, \"Daily confirmed cases\": \"Daily confirmed cases\", \"7-day rolling average\": \"7-day rolling average\"}, {\"Date\": \"2020-03-15\", \"Confirmed cases\": 0, \"Rolling\": 0.0, \"Daily confirmed cases\": \"Daily confirmed cases\", \"7-day rolling average\": \"7-day rolling average\"}, {\"Date\": \"2020-03-16\", \"Confirmed cases\": 0, \"Rolling\": 0.0, \"Daily confirmed cases\": \"Daily confirmed cases\", \"7-day rolling average\": \"7-day rolling average\"}, {\"Date\": \"2020-03-17\", \"Confirmed cases\": 0, \"Rolling\": 0.0, \"Daily confirmed cases\": \"Daily confirmed cases\", \"7-day rolling average\": \"7-day rolling average\"}, {\"Date\": \"2020-03-18\", \"Confirmed cases\": 7, \"Rolling\": 1.0, \"Daily confirmed cases\": \"Daily confirmed cases\", \"7-day rolling average\": \"7-day rolling average\"}, {\"Date\": \"2020-03-19\", \"Confirmed cases\": 8, \"Rolling\": 2.142857142857143, \"Daily confirmed cases\": \"Daily confirmed cases\", \"7-day rolling average\": \"7-day rolling average\"}, {\"Date\": \"2020-03-20\", \"Confirmed cases\": 2, \"Rolling\": 2.4285714285714284, \"Daily confirmed cases\": \"Daily confirmed cases\", \"7-day rolling average\": \"7-day rolling average\"}, {\"Date\": \"2020-03-21\", \"Confirmed cases\": 2, \"Rolling\": 2.7142857142857144, \"Daily confirmed cases\": \"Daily confirmed cases\", \"7-day rolling average\": \"7-day rolling average\"}, {\"Date\": \"2020-03-22\", \"Confirmed cases\": 3, \"Rolling\": 3.142857142857143, \"Daily confirmed cases\": \"Daily confirmed cases\", \"7-day rolling average\": \"7-day rolling average\"}, {\"Date\": \"2020-03-23\", \"Confirmed cases\": 10, \"Rolling\": 4.571428571428571, \"Daily confirmed cases\": \"Daily confirmed cases\", \"7-day rolling average\": \"7-day rolling average\"}, {\"Date\": \"2020-03-24\", \"Confirmed cases\": 3, \"Rolling\": 5.0, \"Daily confirmed cases\": \"Daily confirmed cases\", \"7-day rolling average\": \"7-day rolling average\"}, {\"Date\": \"2020-03-25\", \"Confirmed cases\": 8, \"Rolling\": 5.142857142857143, \"Daily confirmed cases\": \"Daily confirmed cases\", \"7-day rolling average\": \"7-day rolling average\"}, {\"Date\": \"2020-03-26\", \"Confirmed cases\": 16, \"Rolling\": 6.285714285714286, \"Daily confirmed cases\": \"Daily confirmed cases\", \"7-day rolling average\": \"7-day rolling average\"}, {\"Date\": \"2020-03-27\", \"Confirmed cases\": 3, \"Rolling\": 6.428571428571429, \"Daily confirmed cases\": \"Daily confirmed cases\", \"7-day rolling average\": \"7-day rolling average\"}, {\"Date\": \"2020-03-28\", \"Confirmed cases\": 30, \"Rolling\": 10.428571428571429, \"Daily confirmed cases\": \"Daily confirmed cases\", \"7-day rolling average\": \"7-day rolling average\"}, {\"Date\": \"2020-03-29\", \"Confirmed cases\": 11, \"Rolling\": 11.571428571428571, \"Daily confirmed cases\": \"Daily confirmed cases\", \"7-day rolling average\": \"7-day rolling average\"}, {\"Date\": \"2020-03-30\", \"Confirmed cases\": 24, \"Rolling\": 13.571428571428571, \"Daily confirmed cases\": \"Daily confirmed cases\", \"7-day rolling average\": \"7-day rolling average\"}, {\"Date\": \"2020-03-31\", \"Confirmed cases\": 23, \"Rolling\": 16.428571428571427, \"Daily confirmed cases\": \"Daily confirmed cases\", \"7-day rolling average\": \"7-day rolling average\"}, {\"Date\": \"2020-04-01\", \"Confirmed cases\": 30, \"Rolling\": 19.571428571428573, \"Daily confirmed cases\": \"Daily confirmed cases\", \"7-day rolling average\": \"7-day rolling average\"}, {\"Date\": \"2020-04-02\", \"Confirmed cases\": 22, \"Rolling\": 20.428571428571427, \"Daily confirmed cases\": \"Daily confirmed cases\", \"7-day rolling average\": \"7-day rolling average\"}, {\"Date\": \"2020-04-03\", \"Confirmed cases\": 31, \"Rolling\": 24.428571428571427, \"Daily confirmed cases\": \"Daily confirmed cases\", \"7-day rolling average\": \"7-day rolling average\"}, {\"Date\": \"2020-04-04\", \"Confirmed cases\": 25, \"Rolling\": 23.714285714285715, \"Daily confirmed cases\": \"Daily confirmed cases\", \"7-day rolling average\": \"7-day rolling average\"}, {\"Date\": \"2020-04-05\", \"Confirmed cases\": 17, \"Rolling\": 24.571428571428573, \"Daily confirmed cases\": \"Daily confirmed cases\", \"7-day rolling average\": \"7-day rolling average\"}, {\"Date\": \"2020-04-06\", \"Confirmed cases\": 10, \"Rolling\": 22.571428571428573, \"Daily confirmed cases\": \"Daily confirmed cases\", \"7-day rolling average\": \"7-day rolling average\"}, {\"Date\": \"2020-04-07\", \"Confirmed cases\": 13, \"Rolling\": 21.142857142857142, \"Daily confirmed cases\": \"Daily confirmed cases\", \"7-day rolling average\": \"7-day rolling average\"}, {\"Date\": \"2020-04-08\", \"Confirmed cases\": 26, \"Rolling\": 20.571428571428573, \"Daily confirmed cases\": \"Daily confirmed cases\", \"7-day rolling average\": \"7-day rolling average\"}, {\"Date\": \"2020-04-09\", \"Confirmed cases\": 15, \"Rolling\": 19.571428571428573, \"Daily confirmed cases\": \"Daily confirmed cases\", \"7-day rolling average\": \"7-day rolling average\"}, {\"Date\": \"2020-04-10\", \"Confirmed cases\": 9, \"Rolling\": 16.428571428571427, \"Daily confirmed cases\": \"Daily confirmed cases\", \"7-day rolling average\": \"7-day rolling average\"}, {\"Date\": \"2020-04-11\", \"Confirmed cases\": 15, \"Rolling\": 15.0, \"Daily confirmed cases\": \"Daily confirmed cases\", \"7-day rolling average\": \"7-day rolling average\"}, {\"Date\": \"2020-04-12\", \"Confirmed cases\": 8, \"Rolling\": 13.714285714285714, \"Daily confirmed cases\": \"Daily confirmed cases\", \"7-day rolling average\": \"7-day rolling average\"}, {\"Date\": \"2020-04-13\", \"Confirmed cases\": 8, \"Rolling\": 13.428571428571429, \"Daily confirmed cases\": \"Daily confirmed cases\", \"7-day rolling average\": \"7-day rolling average\"}, {\"Date\": \"2020-04-14\", \"Confirmed cases\": 5, \"Rolling\": 12.285714285714286, \"Daily confirmed cases\": \"Daily confirmed cases\", \"7-day rolling average\": \"7-day rolling average\"}, {\"Date\": \"2020-04-15\", \"Confirmed cases\": 5, \"Rolling\": 9.285714285714286, \"Daily confirmed cases\": \"Daily confirmed cases\", \"7-day rolling average\": \"7-day rolling average\"}, {\"Date\": \"2020-04-16\", \"Confirmed cases\": 9, \"Rolling\": 8.428571428571429, \"Daily confirmed cases\": \"Daily confirmed cases\", \"7-day rolling average\": \"7-day rolling average\"}, {\"Date\": \"2020-04-17\", \"Confirmed cases\": 13, \"Rolling\": 9.0, \"Daily confirmed cases\": \"Daily confirmed cases\", \"7-day rolling average\": \"7-day rolling average\"}, {\"Date\": \"2020-04-18\", \"Confirmed cases\": 4, \"Rolling\": 7.428571428571429, \"Daily confirmed cases\": \"Daily confirmed cases\", \"7-day rolling average\": \"7-day rolling average\"}, {\"Date\": \"2020-04-19\", \"Confirmed cases\": 5, \"Rolling\": 7.0, \"Daily confirmed cases\": \"Daily confirmed cases\", \"7-day rolling average\": \"7-day rolling average\"}, {\"Date\": \"2020-04-20\", \"Confirmed cases\": 3, \"Rolling\": 6.285714285714286, \"Daily confirmed cases\": \"Daily confirmed cases\", \"7-day rolling average\": \"7-day rolling average\"}, {\"Date\": \"2020-04-21\", \"Confirmed cases\": 8, \"Rolling\": 6.714285714285714, \"Daily confirmed cases\": \"Daily confirmed cases\", \"7-day rolling average\": \"7-day rolling average\"}, {\"Date\": \"2020-04-22\", \"Confirmed cases\": 13, \"Rolling\": 7.857142857142857, \"Daily confirmed cases\": \"Daily confirmed cases\", \"7-day rolling average\": \"7-day rolling average\"}, {\"Date\": \"2020-04-23\", \"Confirmed cases\": 9, \"Rolling\": 7.857142857142857, \"Daily confirmed cases\": \"Daily confirmed cases\", \"7-day rolling average\": \"7-day rolling average\"}, {\"Date\": \"2020-04-24\", \"Confirmed cases\": 6, \"Rolling\": 6.857142857142857, \"Daily confirmed cases\": \"Daily confirmed cases\", \"7-day rolling average\": \"7-day rolling average\"}, {\"Date\": \"2020-04-25\", \"Confirmed cases\": 5, \"Rolling\": 7.0, \"Daily confirmed cases\": \"Daily confirmed cases\", \"7-day rolling average\": \"7-day rolling average\"}, {\"Date\": \"2020-04-26\", \"Confirmed cases\": 8, \"Rolling\": 7.428571428571429, \"Daily confirmed cases\": \"Daily confirmed cases\", \"7-day rolling average\": \"7-day rolling average\"}, {\"Date\": \"2020-04-27\", \"Confirmed cases\": 4, \"Rolling\": 7.571428571428571, \"Daily confirmed cases\": \"Daily confirmed cases\", \"7-day rolling average\": \"7-day rolling average\"}, {\"Date\": \"2020-04-28\", \"Confirmed cases\": 0, \"Rolling\": 6.428571428571429, \"Daily confirmed cases\": \"Daily confirmed cases\", \"7-day rolling average\": \"7-day rolling average\"}]}}, {\"mode\": \"vega-lite\"});\n",
       "</script>"
      ],
      "text/plain": [
       "alt.LayerChart(...)"
      ]
     },
     "execution_count": 63,
     "metadata": {},
     "output_type": "execute_result"
    }
   ],
   "source": [
    "#hide_input\n",
    "bars, line = my_cases_plot(region)\n",
    "(bars + line).properties(\n",
    "    title=f'COVID-19 in Chile: Daily confirmed cases in {region}',\n",
    "    width=600\n",
    ")"
   ]
  },
  {
   "cell_type": "markdown",
   "metadata": {
    "papermill": {
     "duration": 0.092636,
     "end_time": "2020-04-28T12:16:49.387453",
     "exception": false,
     "start_time": "2020-04-28T12:16:49.294817",
     "status": "completed"
    },
    "tags": []
   },
   "source": [
    "## Aysén"
   ]
  },
  {
   "cell_type": "code",
   "execution_count": 64,
   "metadata": {
    "execution": {
     "iopub.execute_input": "2020-04-28T12:16:49.577745Z",
     "iopub.status.busy": "2020-04-28T12:16:49.576860Z",
     "iopub.status.idle": "2020-04-28T12:16:49.579600Z",
     "shell.execute_reply": "2020-04-28T12:16:49.579105Z"
    },
    "papermill": {
     "duration": 0.099311,
     "end_time": "2020-04-28T12:16:49.579713",
     "exception": false,
     "start_time": "2020-04-28T12:16:49.480402",
     "status": "completed"
    },
    "scrolled": true,
    "tags": []
   },
   "outputs": [],
   "source": [
    "#hide\n",
    "region = \"Aysén\""
   ]
  },
  {
   "cell_type": "code",
   "execution_count": 65,
   "metadata": {
    "execution": {
     "iopub.execute_input": "2020-04-28T12:16:49.792405Z",
     "iopub.status.busy": "2020-04-28T12:16:49.782118Z",
     "iopub.status.idle": "2020-04-28T12:16:49.813554Z",
     "shell.execute_reply": "2020-04-28T12:16:49.814016Z"
    },
    "papermill": {
     "duration": 0.141776,
     "end_time": "2020-04-28T12:16:49.814156",
     "exception": false,
     "start_time": "2020-04-28T12:16:49.672380",
     "status": "completed"
    },
    "tags": []
   },
   "outputs": [
    {
     "data": {
      "text/html": [
       "\n",
       "<div id=\"altair-viz-2b2733549e894d23b9d5d7280e180341\"></div>\n",
       "<script type=\"text/javascript\">\n",
       "  (function(spec, embedOpt){\n",
       "    let outputDiv = document.currentScript.previousElementSibling;\n",
       "    if (outputDiv.id !== \"altair-viz-2b2733549e894d23b9d5d7280e180341\") {\n",
       "      outputDiv = document.getElementById(\"altair-viz-2b2733549e894d23b9d5d7280e180341\");\n",
       "    }\n",
       "    const paths = {\n",
       "      \"vega\": \"https://cdn.jsdelivr.net/npm//vega@5?noext\",\n",
       "      \"vega-lib\": \"https://cdn.jsdelivr.net/npm//vega-lib?noext\",\n",
       "      \"vega-lite\": \"https://cdn.jsdelivr.net/npm//vega-lite@4.8.1?noext\",\n",
       "      \"vega-embed\": \"https://cdn.jsdelivr.net/npm//vega-embed@6?noext\",\n",
       "    };\n",
       "\n",
       "    function loadScript(lib) {\n",
       "      return new Promise(function(resolve, reject) {\n",
       "        var s = document.createElement('script');\n",
       "        s.src = paths[lib];\n",
       "        s.async = true;\n",
       "        s.onload = () => resolve(paths[lib]);\n",
       "        s.onerror = () => reject(`Error loading script: ${paths[lib]}`);\n",
       "        document.getElementsByTagName(\"head\")[0].appendChild(s);\n",
       "      });\n",
       "    }\n",
       "\n",
       "    function showError(err) {\n",
       "      outputDiv.innerHTML = `<div class=\"error\" style=\"color:red;\">${err}</div>`;\n",
       "      throw err;\n",
       "    }\n",
       "\n",
       "    function displayChart(vegaEmbed) {\n",
       "      vegaEmbed(outputDiv, spec, embedOpt)\n",
       "        .catch(err => showError(`Javascript Error: ${err.message}<br>This usually means there's a typo in your chart specification. See the javascript console for the full traceback.`));\n",
       "    }\n",
       "\n",
       "    if(typeof define === \"function\" && define.amd) {\n",
       "      requirejs.config({paths});\n",
       "      require([\"vega-embed\"], displayChart, err => showError(`Error loading script: ${err.message}`));\n",
       "    } else if (typeof vegaEmbed === \"function\") {\n",
       "      displayChart(vegaEmbed);\n",
       "    } else {\n",
       "      loadScript(\"vega\")\n",
       "        .then(() => loadScript(\"vega-lite\"))\n",
       "        .then(() => loadScript(\"vega-embed\"))\n",
       "        .catch(showError)\n",
       "        .then(() => displayChart(vegaEmbed));\n",
       "    }\n",
       "  })({\"config\": {\"view\": {\"continuousWidth\": 400, \"continuousHeight\": 300}}, \"layer\": [{\"mark\": {\"type\": \"bar\", \"opacity\": 0.7}, \"encoding\": {\"opacity\": {\"type\": \"nominal\", \"field\": \"Daily confirmed cases\", \"legend\": {\"title\": \"\"}}, \"tooltip\": [{\"type\": \"nominal\", \"field\": \"Date\"}, {\"type\": \"quantitative\", \"field\": \"Confirmed cases\"}], \"x\": {\"type\": \"nominal\", \"axis\": {\"title\": \"Date\"}, \"field\": \"Date\"}, \"y\": {\"type\": \"quantitative\", \"axis\": {\"title\": \"Daily confirmed cases\"}, \"field\": \"Confirmed cases\"}}}, {\"mark\": {\"type\": \"line\", \"color\": \"#1f77b4\", \"point\": {\"filled\": true, \"fill\": \"#1f77b4\"}}, \"encoding\": {\"shape\": {\"type\": \"nominal\", \"field\": \"7-day rolling average\", \"legend\": {\"title\": \"\"}}, \"x\": {\"type\": \"nominal\", \"axis\": {\"title\": \"Date\"}, \"field\": \"Date\"}, \"y\": {\"type\": \"quantitative\", \"field\": \"Rolling\"}}}], \"data\": {\"name\": \"data-3d736e2a051d98f1c2925675bb5ff411\"}, \"title\": \"COVID-19 in Chile: Daily confirmed cases in Ays\\u00e9n\", \"width\": 600, \"$schema\": \"https://vega.github.io/schema/vega-lite/v4.8.1.json\", \"datasets\": {\"data-3d736e2a051d98f1c2925675bb5ff411\": [{\"Date\": \"2020-03-04\", \"Confirmed cases\": 0, \"Rolling\": null, \"Daily confirmed cases\": \"Daily confirmed cases\", \"7-day rolling average\": \"7-day rolling average\"}, {\"Date\": \"2020-03-05\", \"Confirmed cases\": 0, \"Rolling\": null, \"Daily confirmed cases\": \"Daily confirmed cases\", \"7-day rolling average\": \"7-day rolling average\"}, {\"Date\": \"2020-03-06\", \"Confirmed cases\": 0, \"Rolling\": null, \"Daily confirmed cases\": \"Daily confirmed cases\", \"7-day rolling average\": \"7-day rolling average\"}, {\"Date\": \"2020-03-07\", \"Confirmed cases\": 0, \"Rolling\": null, \"Daily confirmed cases\": \"Daily confirmed cases\", \"7-day rolling average\": \"7-day rolling average\"}, {\"Date\": \"2020-03-08\", \"Confirmed cases\": 0, \"Rolling\": null, \"Daily confirmed cases\": \"Daily confirmed cases\", \"7-day rolling average\": \"7-day rolling average\"}, {\"Date\": \"2020-03-09\", \"Confirmed cases\": 0, \"Rolling\": null, \"Daily confirmed cases\": \"Daily confirmed cases\", \"7-day rolling average\": \"7-day rolling average\"}, {\"Date\": \"2020-03-10\", \"Confirmed cases\": 0, \"Rolling\": 0.0, \"Daily confirmed cases\": \"Daily confirmed cases\", \"7-day rolling average\": \"7-day rolling average\"}, {\"Date\": \"2020-03-11\", \"Confirmed cases\": 0, \"Rolling\": 0.0, \"Daily confirmed cases\": \"Daily confirmed cases\", \"7-day rolling average\": \"7-day rolling average\"}, {\"Date\": \"2020-03-12\", \"Confirmed cases\": 0, \"Rolling\": 0.0, \"Daily confirmed cases\": \"Daily confirmed cases\", \"7-day rolling average\": \"7-day rolling average\"}, {\"Date\": \"2020-03-13\", \"Confirmed cases\": 0, \"Rolling\": 0.0, \"Daily confirmed cases\": \"Daily confirmed cases\", \"7-day rolling average\": \"7-day rolling average\"}, {\"Date\": \"2020-03-14\", \"Confirmed cases\": 1, \"Rolling\": 0.14285714285714285, \"Daily confirmed cases\": \"Daily confirmed cases\", \"7-day rolling average\": \"7-day rolling average\"}, {\"Date\": \"2020-03-15\", \"Confirmed cases\": 0, \"Rolling\": 0.14285714285714285, \"Daily confirmed cases\": \"Daily confirmed cases\", \"7-day rolling average\": \"7-day rolling average\"}, {\"Date\": \"2020-03-16\", \"Confirmed cases\": 0, \"Rolling\": 0.14285714285714285, \"Daily confirmed cases\": \"Daily confirmed cases\", \"7-day rolling average\": \"7-day rolling average\"}, {\"Date\": \"2020-03-17\", \"Confirmed cases\": 0, \"Rolling\": 0.14285714285714285, \"Daily confirmed cases\": \"Daily confirmed cases\", \"7-day rolling average\": \"7-day rolling average\"}, {\"Date\": \"2020-03-18\", \"Confirmed cases\": 0, \"Rolling\": 0.14285714285714285, \"Daily confirmed cases\": \"Daily confirmed cases\", \"7-day rolling average\": \"7-day rolling average\"}, {\"Date\": \"2020-03-19\", \"Confirmed cases\": 0, \"Rolling\": 0.14285714285714285, \"Daily confirmed cases\": \"Daily confirmed cases\", \"7-day rolling average\": \"7-day rolling average\"}, {\"Date\": \"2020-03-20\", \"Confirmed cases\": 0, \"Rolling\": 0.14285714285714285, \"Daily confirmed cases\": \"Daily confirmed cases\", \"7-day rolling average\": \"7-day rolling average\"}, {\"Date\": \"2020-03-21\", \"Confirmed cases\": 0, \"Rolling\": 0.0, \"Daily confirmed cases\": \"Daily confirmed cases\", \"7-day rolling average\": \"7-day rolling average\"}, {\"Date\": \"2020-03-22\", \"Confirmed cases\": 0, \"Rolling\": 0.0, \"Daily confirmed cases\": \"Daily confirmed cases\", \"7-day rolling average\": \"7-day rolling average\"}, {\"Date\": \"2020-03-23\", \"Confirmed cases\": 0, \"Rolling\": 0.0, \"Daily confirmed cases\": \"Daily confirmed cases\", \"7-day rolling average\": \"7-day rolling average\"}, {\"Date\": \"2020-03-24\", \"Confirmed cases\": 0, \"Rolling\": 0.0, \"Daily confirmed cases\": \"Daily confirmed cases\", \"7-day rolling average\": \"7-day rolling average\"}, {\"Date\": \"2020-03-25\", \"Confirmed cases\": 0, \"Rolling\": 0.0, \"Daily confirmed cases\": \"Daily confirmed cases\", \"7-day rolling average\": \"7-day rolling average\"}, {\"Date\": \"2020-03-26\", \"Confirmed cases\": 1, \"Rolling\": 0.14285714285714285, \"Daily confirmed cases\": \"Daily confirmed cases\", \"7-day rolling average\": \"7-day rolling average\"}, {\"Date\": \"2020-03-27\", \"Confirmed cases\": 0, \"Rolling\": 0.14285714285714285, \"Daily confirmed cases\": \"Daily confirmed cases\", \"7-day rolling average\": \"7-day rolling average\"}, {\"Date\": \"2020-03-28\", \"Confirmed cases\": 0, \"Rolling\": 0.14285714285714285, \"Daily confirmed cases\": \"Daily confirmed cases\", \"7-day rolling average\": \"7-day rolling average\"}, {\"Date\": \"2020-03-29\", \"Confirmed cases\": 0, \"Rolling\": 0.14285714285714285, \"Daily confirmed cases\": \"Daily confirmed cases\", \"7-day rolling average\": \"7-day rolling average\"}, {\"Date\": \"2020-03-30\", \"Confirmed cases\": 0, \"Rolling\": 0.14285714285714285, \"Daily confirmed cases\": \"Daily confirmed cases\", \"7-day rolling average\": \"7-day rolling average\"}, {\"Date\": \"2020-03-31\", \"Confirmed cases\": 0, \"Rolling\": 0.14285714285714285, \"Daily confirmed cases\": \"Daily confirmed cases\", \"7-day rolling average\": \"7-day rolling average\"}, {\"Date\": \"2020-04-01\", \"Confirmed cases\": 1, \"Rolling\": 0.2857142857142857, \"Daily confirmed cases\": \"Daily confirmed cases\", \"7-day rolling average\": \"7-day rolling average\"}, {\"Date\": \"2020-04-02\", \"Confirmed cases\": 2, \"Rolling\": 0.42857142857142855, \"Daily confirmed cases\": \"Daily confirmed cases\", \"7-day rolling average\": \"7-day rolling average\"}, {\"Date\": \"2020-04-03\", \"Confirmed cases\": 1, \"Rolling\": 0.5714285714285714, \"Daily confirmed cases\": \"Daily confirmed cases\", \"7-day rolling average\": \"7-day rolling average\"}, {\"Date\": \"2020-04-04\", \"Confirmed cases\": 0, \"Rolling\": 0.5714285714285714, \"Daily confirmed cases\": \"Daily confirmed cases\", \"7-day rolling average\": \"7-day rolling average\"}, {\"Date\": \"2020-04-05\", \"Confirmed cases\": 1, \"Rolling\": 0.7142857142857143, \"Daily confirmed cases\": \"Daily confirmed cases\", \"7-day rolling average\": \"7-day rolling average\"}, {\"Date\": \"2020-04-06\", \"Confirmed cases\": 0, \"Rolling\": 0.7142857142857143, \"Daily confirmed cases\": \"Daily confirmed cases\", \"7-day rolling average\": \"7-day rolling average\"}, {\"Date\": \"2020-04-07\", \"Confirmed cases\": 0, \"Rolling\": 0.7142857142857143, \"Daily confirmed cases\": \"Daily confirmed cases\", \"7-day rolling average\": \"7-day rolling average\"}, {\"Date\": \"2020-04-08\", \"Confirmed cases\": 0, \"Rolling\": 0.5714285714285714, \"Daily confirmed cases\": \"Daily confirmed cases\", \"7-day rolling average\": \"7-day rolling average\"}, {\"Date\": \"2020-04-09\", \"Confirmed cases\": 0, \"Rolling\": 0.2857142857142857, \"Daily confirmed cases\": \"Daily confirmed cases\", \"7-day rolling average\": \"7-day rolling average\"}, {\"Date\": \"2020-04-10\", \"Confirmed cases\": 0, \"Rolling\": 0.14285714285714285, \"Daily confirmed cases\": \"Daily confirmed cases\", \"7-day rolling average\": \"7-day rolling average\"}, {\"Date\": \"2020-04-11\", \"Confirmed cases\": 0, \"Rolling\": 0.14285714285714285, \"Daily confirmed cases\": \"Daily confirmed cases\", \"7-day rolling average\": \"7-day rolling average\"}, {\"Date\": \"2020-04-12\", \"Confirmed cases\": 0, \"Rolling\": 0.0, \"Daily confirmed cases\": \"Daily confirmed cases\", \"7-day rolling average\": \"7-day rolling average\"}, {\"Date\": \"2020-04-13\", \"Confirmed cases\": 0, \"Rolling\": 0.0, \"Daily confirmed cases\": \"Daily confirmed cases\", \"7-day rolling average\": \"7-day rolling average\"}, {\"Date\": \"2020-04-14\", \"Confirmed cases\": 0, \"Rolling\": 0.0, \"Daily confirmed cases\": \"Daily confirmed cases\", \"7-day rolling average\": \"7-day rolling average\"}, {\"Date\": \"2020-04-15\", \"Confirmed cases\": 0, \"Rolling\": 0.0, \"Daily confirmed cases\": \"Daily confirmed cases\", \"7-day rolling average\": \"7-day rolling average\"}, {\"Date\": \"2020-04-16\", \"Confirmed cases\": 0, \"Rolling\": 0.0, \"Daily confirmed cases\": \"Daily confirmed cases\", \"7-day rolling average\": \"7-day rolling average\"}, {\"Date\": \"2020-04-17\", \"Confirmed cases\": 0, \"Rolling\": 0.0, \"Daily confirmed cases\": \"Daily confirmed cases\", \"7-day rolling average\": \"7-day rolling average\"}, {\"Date\": \"2020-04-18\", \"Confirmed cases\": 0, \"Rolling\": 0.0, \"Daily confirmed cases\": \"Daily confirmed cases\", \"7-day rolling average\": \"7-day rolling average\"}, {\"Date\": \"2020-04-19\", \"Confirmed cases\": 0, \"Rolling\": 0.0, \"Daily confirmed cases\": \"Daily confirmed cases\", \"7-day rolling average\": \"7-day rolling average\"}, {\"Date\": \"2020-04-20\", \"Confirmed cases\": 0, \"Rolling\": 0.0, \"Daily confirmed cases\": \"Daily confirmed cases\", \"7-day rolling average\": \"7-day rolling average\"}, {\"Date\": \"2020-04-21\", \"Confirmed cases\": 0, \"Rolling\": 0.0, \"Daily confirmed cases\": \"Daily confirmed cases\", \"7-day rolling average\": \"7-day rolling average\"}, {\"Date\": \"2020-04-22\", \"Confirmed cases\": 0, \"Rolling\": 0.0, \"Daily confirmed cases\": \"Daily confirmed cases\", \"7-day rolling average\": \"7-day rolling average\"}, {\"Date\": \"2020-04-23\", \"Confirmed cases\": 0, \"Rolling\": 0.0, \"Daily confirmed cases\": \"Daily confirmed cases\", \"7-day rolling average\": \"7-day rolling average\"}, {\"Date\": \"2020-04-24\", \"Confirmed cases\": 0, \"Rolling\": 0.0, \"Daily confirmed cases\": \"Daily confirmed cases\", \"7-day rolling average\": \"7-day rolling average\"}, {\"Date\": \"2020-04-25\", \"Confirmed cases\": 0, \"Rolling\": 0.0, \"Daily confirmed cases\": \"Daily confirmed cases\", \"7-day rolling average\": \"7-day rolling average\"}, {\"Date\": \"2020-04-26\", \"Confirmed cases\": 0, \"Rolling\": 0.0, \"Daily confirmed cases\": \"Daily confirmed cases\", \"7-day rolling average\": \"7-day rolling average\"}, {\"Date\": \"2020-04-27\", \"Confirmed cases\": 0, \"Rolling\": 0.0, \"Daily confirmed cases\": \"Daily confirmed cases\", \"7-day rolling average\": \"7-day rolling average\"}, {\"Date\": \"2020-04-28\", \"Confirmed cases\": 0, \"Rolling\": 0.0, \"Daily confirmed cases\": \"Daily confirmed cases\", \"7-day rolling average\": \"7-day rolling average\"}]}}, {\"mode\": \"vega-lite\"});\n",
       "</script>"
      ],
      "text/plain": [
       "alt.LayerChart(...)"
      ]
     },
     "execution_count": 65,
     "metadata": {},
     "output_type": "execute_result"
    }
   ],
   "source": [
    "#hide_input\n",
    "bars, line = my_cases_plot(region)\n",
    "(bars + line).properties(\n",
    "    title=f'COVID-19 in Chile: Daily confirmed cases in {region}',\n",
    "    width=600\n",
    ")"
   ]
  },
  {
   "cell_type": "markdown",
   "metadata": {
    "papermill": {
     "duration": 0.094783,
     "end_time": "2020-04-28T12:16:50.002208",
     "exception": false,
     "start_time": "2020-04-28T12:16:49.907425",
     "status": "completed"
    },
    "tags": []
   },
   "source": [
    "## Magallanes"
   ]
  },
  {
   "cell_type": "code",
   "execution_count": 66,
   "metadata": {
    "execution": {
     "iopub.execute_input": "2020-04-28T12:16:50.196445Z",
     "iopub.status.busy": "2020-04-28T12:16:50.195843Z",
     "iopub.status.idle": "2020-04-28T12:16:50.198812Z",
     "shell.execute_reply": "2020-04-28T12:16:50.198325Z"
    },
    "papermill": {
     "duration": 0.102853,
     "end_time": "2020-04-28T12:16:50.198958",
     "exception": false,
     "start_time": "2020-04-28T12:16:50.096105",
     "status": "completed"
    },
    "scrolled": true,
    "tags": []
   },
   "outputs": [],
   "source": [
    "#hide\n",
    "region = \"Magallanes\""
   ]
  },
  {
   "cell_type": "code",
   "execution_count": 67,
   "metadata": {
    "execution": {
     "iopub.execute_input": "2020-04-28T12:16:50.406047Z",
     "iopub.status.busy": "2020-04-28T12:16:50.397950Z",
     "iopub.status.idle": "2020-04-28T12:16:50.438897Z",
     "shell.execute_reply": "2020-04-28T12:16:50.437972Z"
    },
    "papermill": {
     "duration": 0.146399,
     "end_time": "2020-04-28T12:16:50.439052",
     "exception": false,
     "start_time": "2020-04-28T12:16:50.292653",
     "status": "completed"
    },
    "tags": []
   },
   "outputs": [
    {
     "data": {
      "text/html": [
       "\n",
       "<div id=\"altair-viz-49ee3e2d16604de3b8d83dbd75790059\"></div>\n",
       "<script type=\"text/javascript\">\n",
       "  (function(spec, embedOpt){\n",
       "    let outputDiv = document.currentScript.previousElementSibling;\n",
       "    if (outputDiv.id !== \"altair-viz-49ee3e2d16604de3b8d83dbd75790059\") {\n",
       "      outputDiv = document.getElementById(\"altair-viz-49ee3e2d16604de3b8d83dbd75790059\");\n",
       "    }\n",
       "    const paths = {\n",
       "      \"vega\": \"https://cdn.jsdelivr.net/npm//vega@5?noext\",\n",
       "      \"vega-lib\": \"https://cdn.jsdelivr.net/npm//vega-lib?noext\",\n",
       "      \"vega-lite\": \"https://cdn.jsdelivr.net/npm//vega-lite@4.8.1?noext\",\n",
       "      \"vega-embed\": \"https://cdn.jsdelivr.net/npm//vega-embed@6?noext\",\n",
       "    };\n",
       "\n",
       "    function loadScript(lib) {\n",
       "      return new Promise(function(resolve, reject) {\n",
       "        var s = document.createElement('script');\n",
       "        s.src = paths[lib];\n",
       "        s.async = true;\n",
       "        s.onload = () => resolve(paths[lib]);\n",
       "        s.onerror = () => reject(`Error loading script: ${paths[lib]}`);\n",
       "        document.getElementsByTagName(\"head\")[0].appendChild(s);\n",
       "      });\n",
       "    }\n",
       "\n",
       "    function showError(err) {\n",
       "      outputDiv.innerHTML = `<div class=\"error\" style=\"color:red;\">${err}</div>`;\n",
       "      throw err;\n",
       "    }\n",
       "\n",
       "    function displayChart(vegaEmbed) {\n",
       "      vegaEmbed(outputDiv, spec, embedOpt)\n",
       "        .catch(err => showError(`Javascript Error: ${err.message}<br>This usually means there's a typo in your chart specification. See the javascript console for the full traceback.`));\n",
       "    }\n",
       "\n",
       "    if(typeof define === \"function\" && define.amd) {\n",
       "      requirejs.config({paths});\n",
       "      require([\"vega-embed\"], displayChart, err => showError(`Error loading script: ${err.message}`));\n",
       "    } else if (typeof vegaEmbed === \"function\") {\n",
       "      displayChart(vegaEmbed);\n",
       "    } else {\n",
       "      loadScript(\"vega\")\n",
       "        .then(() => loadScript(\"vega-lite\"))\n",
       "        .then(() => loadScript(\"vega-embed\"))\n",
       "        .catch(showError)\n",
       "        .then(() => displayChart(vegaEmbed));\n",
       "    }\n",
       "  })({\"config\": {\"view\": {\"continuousWidth\": 400, \"continuousHeight\": 300}}, \"layer\": [{\"mark\": {\"type\": \"bar\", \"opacity\": 0.7}, \"encoding\": {\"opacity\": {\"type\": \"nominal\", \"field\": \"Daily confirmed cases\", \"legend\": {\"title\": \"\"}}, \"tooltip\": [{\"type\": \"nominal\", \"field\": \"Date\"}, {\"type\": \"quantitative\", \"field\": \"Confirmed cases\"}], \"x\": {\"type\": \"nominal\", \"axis\": {\"title\": \"Date\"}, \"field\": \"Date\"}, \"y\": {\"type\": \"quantitative\", \"axis\": {\"title\": \"Daily confirmed cases\"}, \"field\": \"Confirmed cases\"}}}, {\"mark\": {\"type\": \"line\", \"color\": \"#1f77b4\", \"point\": {\"filled\": true, \"fill\": \"#1f77b4\"}}, \"encoding\": {\"shape\": {\"type\": \"nominal\", \"field\": \"7-day rolling average\", \"legend\": {\"title\": \"\"}}, \"x\": {\"type\": \"nominal\", \"axis\": {\"title\": \"Date\"}, \"field\": \"Date\"}, \"y\": {\"type\": \"quantitative\", \"field\": \"Rolling\"}}}], \"data\": {\"name\": \"data-0c15ed058c33e9048dda2ffeeed1807b\"}, \"title\": \"COVID-19 in Chile: Daily confirmed cases in Magallanes\", \"width\": 600, \"$schema\": \"https://vega.github.io/schema/vega-lite/v4.8.1.json\", \"datasets\": {\"data-0c15ed058c33e9048dda2ffeeed1807b\": [{\"Date\": \"2020-03-04\", \"Confirmed cases\": 0, \"Rolling\": null, \"Daily confirmed cases\": \"Daily confirmed cases\", \"7-day rolling average\": \"7-day rolling average\"}, {\"Date\": \"2020-03-05\", \"Confirmed cases\": 0, \"Rolling\": null, \"Daily confirmed cases\": \"Daily confirmed cases\", \"7-day rolling average\": \"7-day rolling average\"}, {\"Date\": \"2020-03-06\", \"Confirmed cases\": 0, \"Rolling\": null, \"Daily confirmed cases\": \"Daily confirmed cases\", \"7-day rolling average\": \"7-day rolling average\"}, {\"Date\": \"2020-03-07\", \"Confirmed cases\": 0, \"Rolling\": null, \"Daily confirmed cases\": \"Daily confirmed cases\", \"7-day rolling average\": \"7-day rolling average\"}, {\"Date\": \"2020-03-08\", \"Confirmed cases\": 0, \"Rolling\": null, \"Daily confirmed cases\": \"Daily confirmed cases\", \"7-day rolling average\": \"7-day rolling average\"}, {\"Date\": \"2020-03-09\", \"Confirmed cases\": 0, \"Rolling\": null, \"Daily confirmed cases\": \"Daily confirmed cases\", \"7-day rolling average\": \"7-day rolling average\"}, {\"Date\": \"2020-03-10\", \"Confirmed cases\": 0, \"Rolling\": 0.0, \"Daily confirmed cases\": \"Daily confirmed cases\", \"7-day rolling average\": \"7-day rolling average\"}, {\"Date\": \"2020-03-11\", \"Confirmed cases\": 0, \"Rolling\": 0.0, \"Daily confirmed cases\": \"Daily confirmed cases\", \"7-day rolling average\": \"7-day rolling average\"}, {\"Date\": \"2020-03-12\", \"Confirmed cases\": 0, \"Rolling\": 0.0, \"Daily confirmed cases\": \"Daily confirmed cases\", \"7-day rolling average\": \"7-day rolling average\"}, {\"Date\": \"2020-03-13\", \"Confirmed cases\": 0, \"Rolling\": 0.0, \"Daily confirmed cases\": \"Daily confirmed cases\", \"7-day rolling average\": \"7-day rolling average\"}, {\"Date\": \"2020-03-14\", \"Confirmed cases\": 0, \"Rolling\": 0.0, \"Daily confirmed cases\": \"Daily confirmed cases\", \"7-day rolling average\": \"7-day rolling average\"}, {\"Date\": \"2020-03-15\", \"Confirmed cases\": 0, \"Rolling\": 0.0, \"Daily confirmed cases\": \"Daily confirmed cases\", \"7-day rolling average\": \"7-day rolling average\"}, {\"Date\": \"2020-03-16\", \"Confirmed cases\": 0, \"Rolling\": 0.0, \"Daily confirmed cases\": \"Daily confirmed cases\", \"7-day rolling average\": \"7-day rolling average\"}, {\"Date\": \"2020-03-17\", \"Confirmed cases\": 2, \"Rolling\": 0.2857142857142857, \"Daily confirmed cases\": \"Daily confirmed cases\", \"7-day rolling average\": \"7-day rolling average\"}, {\"Date\": \"2020-03-18\", \"Confirmed cases\": 0, \"Rolling\": 0.2857142857142857, \"Daily confirmed cases\": \"Daily confirmed cases\", \"7-day rolling average\": \"7-day rolling average\"}, {\"Date\": \"2020-03-19\", \"Confirmed cases\": 0, \"Rolling\": 0.2857142857142857, \"Daily confirmed cases\": \"Daily confirmed cases\", \"7-day rolling average\": \"7-day rolling average\"}, {\"Date\": \"2020-03-20\", \"Confirmed cases\": 0, \"Rolling\": 0.2857142857142857, \"Daily confirmed cases\": \"Daily confirmed cases\", \"7-day rolling average\": \"7-day rolling average\"}, {\"Date\": \"2020-03-21\", \"Confirmed cases\": 1, \"Rolling\": 0.42857142857142855, \"Daily confirmed cases\": \"Daily confirmed cases\", \"7-day rolling average\": \"7-day rolling average\"}, {\"Date\": \"2020-03-22\", \"Confirmed cases\": 1, \"Rolling\": 0.5714285714285714, \"Daily confirmed cases\": \"Daily confirmed cases\", \"7-day rolling average\": \"7-day rolling average\"}, {\"Date\": \"2020-03-23\", \"Confirmed cases\": 2, \"Rolling\": 0.8571428571428571, \"Daily confirmed cases\": \"Daily confirmed cases\", \"7-day rolling average\": \"7-day rolling average\"}, {\"Date\": \"2020-03-24\", \"Confirmed cases\": 2, \"Rolling\": 0.8571428571428571, \"Daily confirmed cases\": \"Daily confirmed cases\", \"7-day rolling average\": \"7-day rolling average\"}, {\"Date\": \"2020-03-25\", \"Confirmed cases\": 5, \"Rolling\": 1.5714285714285714, \"Daily confirmed cases\": \"Daily confirmed cases\", \"7-day rolling average\": \"7-day rolling average\"}, {\"Date\": \"2020-03-26\", \"Confirmed cases\": 6, \"Rolling\": 2.4285714285714284, \"Daily confirmed cases\": \"Daily confirmed cases\", \"7-day rolling average\": \"7-day rolling average\"}, {\"Date\": \"2020-03-27\", \"Confirmed cases\": 3, \"Rolling\": 2.857142857142857, \"Daily confirmed cases\": \"Daily confirmed cases\", \"7-day rolling average\": \"7-day rolling average\"}, {\"Date\": \"2020-03-28\", \"Confirmed cases\": 4, \"Rolling\": 3.2857142857142856, \"Daily confirmed cases\": \"Daily confirmed cases\", \"7-day rolling average\": \"7-day rolling average\"}, {\"Date\": \"2020-03-29\", \"Confirmed cases\": 13, \"Rolling\": 5.0, \"Daily confirmed cases\": \"Daily confirmed cases\", \"7-day rolling average\": \"7-day rolling average\"}, {\"Date\": \"2020-03-30\", \"Confirmed cases\": 0, \"Rolling\": 4.714285714285714, \"Daily confirmed cases\": \"Daily confirmed cases\", \"7-day rolling average\": \"7-day rolling average\"}, {\"Date\": \"2020-03-31\", \"Confirmed cases\": 24, \"Rolling\": 7.857142857142857, \"Daily confirmed cases\": \"Daily confirmed cases\", \"7-day rolling average\": \"7-day rolling average\"}, {\"Date\": \"2020-04-01\", \"Confirmed cases\": 36, \"Rolling\": 12.285714285714286, \"Daily confirmed cases\": \"Daily confirmed cases\", \"7-day rolling average\": \"7-day rolling average\"}, {\"Date\": \"2020-04-02\", \"Confirmed cases\": 15, \"Rolling\": 13.571428571428571, \"Daily confirmed cases\": \"Daily confirmed cases\", \"7-day rolling average\": \"7-day rolling average\"}, {\"Date\": \"2020-04-03\", \"Confirmed cases\": 42, \"Rolling\": 19.142857142857142, \"Daily confirmed cases\": \"Daily confirmed cases\", \"7-day rolling average\": \"7-day rolling average\"}, {\"Date\": \"2020-04-04\", \"Confirmed cases\": 16, \"Rolling\": 20.857142857142858, \"Daily confirmed cases\": \"Daily confirmed cases\", \"7-day rolling average\": \"7-day rolling average\"}, {\"Date\": \"2020-04-05\", \"Confirmed cases\": 18, \"Rolling\": 21.571428571428573, \"Daily confirmed cases\": \"Daily confirmed cases\", \"7-day rolling average\": \"7-day rolling average\"}, {\"Date\": \"2020-04-06\", \"Confirmed cases\": 31, \"Rolling\": 26.0, \"Daily confirmed cases\": \"Daily confirmed cases\", \"7-day rolling average\": \"7-day rolling average\"}, {\"Date\": \"2020-04-07\", \"Confirmed cases\": 19, \"Rolling\": 25.285714285714285, \"Daily confirmed cases\": \"Daily confirmed cases\", \"7-day rolling average\": \"7-day rolling average\"}, {\"Date\": \"2020-04-08\", \"Confirmed cases\": 26, \"Rolling\": 23.857142857142858, \"Daily confirmed cases\": \"Daily confirmed cases\", \"7-day rolling average\": \"7-day rolling average\"}, {\"Date\": \"2020-04-09\", \"Confirmed cases\": 20, \"Rolling\": 24.571428571428573, \"Daily confirmed cases\": \"Daily confirmed cases\", \"7-day rolling average\": \"7-day rolling average\"}, {\"Date\": \"2020-04-10\", \"Confirmed cases\": 45, \"Rolling\": 25.0, \"Daily confirmed cases\": \"Daily confirmed cases\", \"7-day rolling average\": \"7-day rolling average\"}, {\"Date\": \"2020-04-11\", \"Confirmed cases\": 46, \"Rolling\": 29.285714285714285, \"Daily confirmed cases\": \"Daily confirmed cases\", \"7-day rolling average\": \"7-day rolling average\"}, {\"Date\": \"2020-04-12\", \"Confirmed cases\": 19, \"Rolling\": 29.428571428571427, \"Daily confirmed cases\": \"Daily confirmed cases\", \"7-day rolling average\": \"7-day rolling average\"}, {\"Date\": \"2020-04-13\", \"Confirmed cases\": 19, \"Rolling\": 27.714285714285715, \"Daily confirmed cases\": \"Daily confirmed cases\", \"7-day rolling average\": \"7-day rolling average\"}, {\"Date\": \"2020-04-14\", \"Confirmed cases\": 14, \"Rolling\": 27.0, \"Daily confirmed cases\": \"Daily confirmed cases\", \"7-day rolling average\": \"7-day rolling average\"}, {\"Date\": \"2020-04-15\", \"Confirmed cases\": 15, \"Rolling\": 25.428571428571427, \"Daily confirmed cases\": \"Daily confirmed cases\", \"7-day rolling average\": \"7-day rolling average\"}, {\"Date\": \"2020-04-16\", \"Confirmed cases\": 23, \"Rolling\": 25.857142857142858, \"Daily confirmed cases\": \"Daily confirmed cases\", \"7-day rolling average\": \"7-day rolling average\"}, {\"Date\": \"2020-04-17\", \"Confirmed cases\": 34, \"Rolling\": 24.285714285714285, \"Daily confirmed cases\": \"Daily confirmed cases\", \"7-day rolling average\": \"7-day rolling average\"}, {\"Date\": \"2020-04-18\", \"Confirmed cases\": 21, \"Rolling\": 20.714285714285715, \"Daily confirmed cases\": \"Daily confirmed cases\", \"7-day rolling average\": \"7-day rolling average\"}, {\"Date\": \"2020-04-19\", \"Confirmed cases\": 31, \"Rolling\": 22.428571428571427, \"Daily confirmed cases\": \"Daily confirmed cases\", \"7-day rolling average\": \"7-day rolling average\"}, {\"Date\": \"2020-04-20\", \"Confirmed cases\": 13, \"Rolling\": 21.571428571428573, \"Daily confirmed cases\": \"Daily confirmed cases\", \"7-day rolling average\": \"7-day rolling average\"}, {\"Date\": \"2020-04-21\", \"Confirmed cases\": 27, \"Rolling\": 23.428571428571427, \"Daily confirmed cases\": \"Daily confirmed cases\", \"7-day rolling average\": \"7-day rolling average\"}, {\"Date\": \"2020-04-22\", \"Confirmed cases\": 12, \"Rolling\": 23.0, \"Daily confirmed cases\": \"Daily confirmed cases\", \"7-day rolling average\": \"7-day rolling average\"}, {\"Date\": \"2020-04-23\", \"Confirmed cases\": 10, \"Rolling\": 21.142857142857142, \"Daily confirmed cases\": \"Daily confirmed cases\", \"7-day rolling average\": \"7-day rolling average\"}, {\"Date\": \"2020-04-24\", \"Confirmed cases\": 9, \"Rolling\": 17.571428571428573, \"Daily confirmed cases\": \"Daily confirmed cases\", \"7-day rolling average\": \"7-day rolling average\"}, {\"Date\": \"2020-04-25\", \"Confirmed cases\": 31, \"Rolling\": 19.0, \"Daily confirmed cases\": \"Daily confirmed cases\", \"7-day rolling average\": \"7-day rolling average\"}, {\"Date\": \"2020-04-26\", \"Confirmed cases\": 13, \"Rolling\": 16.428571428571427, \"Daily confirmed cases\": \"Daily confirmed cases\", \"7-day rolling average\": \"7-day rolling average\"}, {\"Date\": \"2020-04-27\", \"Confirmed cases\": 3, \"Rolling\": 15.0, \"Daily confirmed cases\": \"Daily confirmed cases\", \"7-day rolling average\": \"7-day rolling average\"}, {\"Date\": \"2020-04-28\", \"Confirmed cases\": 22, \"Rolling\": 14.285714285714286, \"Daily confirmed cases\": \"Daily confirmed cases\", \"7-day rolling average\": \"7-day rolling average\"}]}}, {\"mode\": \"vega-lite\"});\n",
       "</script>"
      ],
      "text/plain": [
       "alt.LayerChart(...)"
      ]
     },
     "execution_count": 67,
     "metadata": {},
     "output_type": "execute_result"
    }
   ],
   "source": [
    "#hide_input\n",
    "bars, line = my_cases_plot(region)\n",
    "(bars + line).properties(\n",
    "    title=f'COVID-19 in Chile: Daily confirmed cases in {region}',\n",
    "    width=600\n",
    ")"
   ]
  },
  {
   "cell_type": "markdown",
   "metadata": {
    "papermill": {
     "duration": 0.097068,
     "end_time": "2020-04-28T12:16:50.631793",
     "exception": false,
     "start_time": "2020-04-28T12:16:50.534725",
     "status": "completed"
    },
    "tags": []
   },
   "source": [
    "# Daily confirmed deaths"
   ]
  },
  {
   "cell_type": "code",
   "execution_count": 68,
   "metadata": {
    "execution": {
     "iopub.execute_input": "2020-04-28T12:16:50.827258Z",
     "iopub.status.busy": "2020-04-28T12:16:50.826583Z",
     "iopub.status.idle": "2020-04-28T12:16:50.849243Z",
     "shell.execute_reply": "2020-04-28T12:16:50.848124Z"
    },
    "papermill": {
     "duration": 0.123155,
     "end_time": "2020-04-28T12:16:50.849362",
     "exception": false,
     "start_time": "2020-04-28T12:16:50.726207",
     "status": "completed"
    },
    "tags": []
   },
   "outputs": [],
   "source": [
    "#hide\n",
    "data = pd.DataFrame()\n",
    "data_raw = pd.read_csv(\n",
    "    \"https://raw.githubusercontent.com/MinCiencia/Datos-COVID19/master/output/producto4/2020-03-24-CasosConfirmados-totalRegional.csv\",\n",
    "    index_col='Region')\n",
    "data['2020-03-24'] = data_raw['Fallecidos']"
   ]
  },
  {
   "cell_type": "code",
   "execution_count": 69,
   "metadata": {
    "execution": {
     "iopub.execute_input": "2020-04-28T12:16:51.046304Z",
     "iopub.status.busy": "2020-04-28T12:16:51.045304Z",
     "iopub.status.idle": "2020-04-28T12:16:51.047318Z",
     "shell.execute_reply": "2020-04-28T12:16:51.047801Z"
    },
    "papermill": {
     "duration": 0.103333,
     "end_time": "2020-04-28T12:16:51.047929",
     "exception": false,
     "start_time": "2020-04-28T12:16:50.944596",
     "status": "completed"
    },
    "tags": []
   },
   "outputs": [],
   "source": [
    "#hide\n",
    "first_death_date = '2020-03-24'\n",
    "total_days = (pd.to_datetime(today)-pd.to_datetime(first_death_date)).days"
   ]
  },
  {
   "cell_type": "code",
   "execution_count": 70,
   "metadata": {
    "execution": {
     "iopub.execute_input": "2020-04-28T12:16:51.246833Z",
     "iopub.status.busy": "2020-04-28T12:16:51.246204Z",
     "iopub.status.idle": "2020-04-28T12:16:51.809166Z",
     "shell.execute_reply": "2020-04-28T12:16:51.809681Z"
    },
    "papermill": {
     "duration": 0.665536,
     "end_time": "2020-04-28T12:16:51.809818",
     "exception": false,
     "start_time": "2020-04-28T12:16:51.144282",
     "status": "completed"
    },
    "tags": []
   },
   "outputs": [],
   "source": [
    "#hide\n",
    "for i in np.arange(total_days+1):\n",
    "  date = (pd.to_datetime(first_death_date)+pd.DateOffset(i)).strftime('%Y-%m-%d')\n",
    "  s = \"https://raw.githubusercontent.com/MinCiencia/Datos-COVID19/master/output/producto4/\" + date + \"-CasosConfirmados-totalRegional.csv\"\n",
    "  data_by_date = pd.read_csv(s)\n",
    "  if 'Fallecidos' in data_by_date.columns:\n",
    "    data[date] = data_by_date[\"Fallecidos\"].values\n",
    "  elif 'Casos fallecidos' in data_by_date.columns:\n",
    "    data[date] = data_by_date[\"Casos fallecidos\"].values\n",
    "  else:\n",
    "    data[date] = data_by_date[\" Casos fallecidos\"].values"
   ]
  },
  {
   "cell_type": "code",
   "execution_count": 71,
   "metadata": {
    "execution": {
     "iopub.execute_input": "2020-04-28T12:16:52.004937Z",
     "iopub.status.busy": "2020-04-28T12:16:52.004348Z",
     "iopub.status.idle": "2020-04-28T12:16:52.007706Z",
     "shell.execute_reply": "2020-04-28T12:16:52.007180Z"
    },
    "papermill": {
     "duration": 0.102688,
     "end_time": "2020-04-28T12:16:52.007812",
     "exception": false,
     "start_time": "2020-04-28T12:16:51.905124",
     "status": "completed"
    },
    "tags": []
   },
   "outputs": [],
   "source": [
    "#hide\n",
    "WS_deaths = 7"
   ]
  },
  {
   "cell_type": "code",
   "execution_count": 72,
   "metadata": {
    "execution": {
     "iopub.execute_input": "2020-04-28T12:16:52.211149Z",
     "iopub.status.busy": "2020-04-28T12:16:52.207452Z",
     "iopub.status.idle": "2020-04-28T12:16:52.213446Z",
     "shell.execute_reply": "2020-04-28T12:16:52.212932Z"
    },
    "papermill": {
     "duration": 0.110169,
     "end_time": "2020-04-28T12:16:52.213559",
     "exception": false,
     "start_time": "2020-04-28T12:16:52.103390",
     "status": "completed"
    },
    "tags": []
   },
   "outputs": [],
   "source": [
    "#hide\n",
    "def my_deaths_plot(region):\n",
    "    aux1 = data.loc[region]\n",
    "    aux2 = [t - s for s, t in zip(aux1, aux1.loc['2020-03-25':])]\n",
    "    new_deaths = pd.DataFrame()\n",
    "    new_deaths[\"Dates\"] = data.loc[\"Total\"].reset_index()[\"index\"].iloc[1:].values\n",
    "    new_deaths[\"New_deaths\"] = aux2\n",
    "    new_deaths[\"Rolling\"] = new_deaths[\"New_deaths\"].rolling(window=WS_deaths).mean()\n",
    "    new_deaths[\"Daily confirmed deaths\"] = len(new_deaths) * [\"Daily confirmed deaths\"]\n",
    "    new_deaths[\"7-day rolling average\"] = len(new_deaths) * [\"7-day rolling average\"]\n",
    "    bars = alt.Chart(new_deaths).mark_bar(opacity=0.7, color='firebrick').encode(\n",
    "        x = alt.X('Dates:N', axis=alt.Axis(title='Date')),\n",
    "        y = alt.Y('New_deaths:Q', axis=alt.Axis(title='Daily confirmed deaths')),\n",
    "        tooltip = ['Dates', 'New_deaths'],\n",
    "        opacity=alt.Opacity('Daily confirmed deaths', legend=alt.Legend(title=\"\"))\n",
    "    )\n",
    "\n",
    "    line = alt.Chart(new_deaths).mark_line(point={\n",
    "          \"filled\": True,\n",
    "          \"fill\": \"firebrick\"\n",
    "        }, color='firebrick').encode(\n",
    "        x=alt.X('Dates:N', axis=alt.Axis(title='Date')),\n",
    "        y = alt.Y('Rolling:Q'),\n",
    "        shape=alt.Shape('7-day rolling average', legend=alt.Legend(title=\"\"))\n",
    "    )\n",
    "    return bars, line"
   ]
  },
  {
   "cell_type": "markdown",
   "metadata": {
    "papermill": {
     "duration": 0.093214,
     "end_time": "2020-04-28T12:16:52.406407",
     "exception": false,
     "start_time": "2020-04-28T12:16:52.313193",
     "status": "completed"
    },
    "tags": []
   },
   "source": [
    "## Chile"
   ]
  },
  {
   "cell_type": "code",
   "execution_count": 73,
   "metadata": {
    "execution": {
     "iopub.execute_input": "2020-04-28T12:16:52.602669Z",
     "iopub.status.busy": "2020-04-28T12:16:52.602075Z",
     "iopub.status.idle": "2020-04-28T12:16:52.604908Z",
     "shell.execute_reply": "2020-04-28T12:16:52.604387Z"
    },
    "papermill": {
     "duration": 0.102512,
     "end_time": "2020-04-28T12:16:52.605016",
     "exception": false,
     "start_time": "2020-04-28T12:16:52.502504",
     "status": "completed"
    },
    "tags": []
   },
   "outputs": [],
   "source": [
    "#hide\n",
    "region = \"Total\""
   ]
  },
  {
   "cell_type": "code",
   "execution_count": 74,
   "metadata": {
    "execution": {
     "iopub.execute_input": "2020-04-28T12:16:52.819642Z",
     "iopub.status.busy": "2020-04-28T12:16:52.818874Z",
     "iopub.status.idle": "2020-04-28T12:16:52.842527Z",
     "shell.execute_reply": "2020-04-28T12:16:52.843092Z"
    },
    "papermill": {
     "duration": 0.144111,
     "end_time": "2020-04-28T12:16:52.843240",
     "exception": false,
     "start_time": "2020-04-28T12:16:52.699129",
     "status": "completed"
    },
    "tags": []
   },
   "outputs": [
    {
     "data": {
      "text/html": [
       "\n",
       "<div id=\"altair-viz-046e3ff36be54c0baa3f91a71b1cb473\"></div>\n",
       "<script type=\"text/javascript\">\n",
       "  (function(spec, embedOpt){\n",
       "    let outputDiv = document.currentScript.previousElementSibling;\n",
       "    if (outputDiv.id !== \"altair-viz-046e3ff36be54c0baa3f91a71b1cb473\") {\n",
       "      outputDiv = document.getElementById(\"altair-viz-046e3ff36be54c0baa3f91a71b1cb473\");\n",
       "    }\n",
       "    const paths = {\n",
       "      \"vega\": \"https://cdn.jsdelivr.net/npm//vega@5?noext\",\n",
       "      \"vega-lib\": \"https://cdn.jsdelivr.net/npm//vega-lib?noext\",\n",
       "      \"vega-lite\": \"https://cdn.jsdelivr.net/npm//vega-lite@4.8.1?noext\",\n",
       "      \"vega-embed\": \"https://cdn.jsdelivr.net/npm//vega-embed@6?noext\",\n",
       "    };\n",
       "\n",
       "    function loadScript(lib) {\n",
       "      return new Promise(function(resolve, reject) {\n",
       "        var s = document.createElement('script');\n",
       "        s.src = paths[lib];\n",
       "        s.async = true;\n",
       "        s.onload = () => resolve(paths[lib]);\n",
       "        s.onerror = () => reject(`Error loading script: ${paths[lib]}`);\n",
       "        document.getElementsByTagName(\"head\")[0].appendChild(s);\n",
       "      });\n",
       "    }\n",
       "\n",
       "    function showError(err) {\n",
       "      outputDiv.innerHTML = `<div class=\"error\" style=\"color:red;\">${err}</div>`;\n",
       "      throw err;\n",
       "    }\n",
       "\n",
       "    function displayChart(vegaEmbed) {\n",
       "      vegaEmbed(outputDiv, spec, embedOpt)\n",
       "        .catch(err => showError(`Javascript Error: ${err.message}<br>This usually means there's a typo in your chart specification. See the javascript console for the full traceback.`));\n",
       "    }\n",
       "\n",
       "    if(typeof define === \"function\" && define.amd) {\n",
       "      requirejs.config({paths});\n",
       "      require([\"vega-embed\"], displayChart, err => showError(`Error loading script: ${err.message}`));\n",
       "    } else if (typeof vegaEmbed === \"function\") {\n",
       "      displayChart(vegaEmbed);\n",
       "    } else {\n",
       "      loadScript(\"vega\")\n",
       "        .then(() => loadScript(\"vega-lite\"))\n",
       "        .then(() => loadScript(\"vega-embed\"))\n",
       "        .catch(showError)\n",
       "        .then(() => displayChart(vegaEmbed));\n",
       "    }\n",
       "  })({\"config\": {\"view\": {\"continuousWidth\": 400, \"continuousHeight\": 300}}, \"layer\": [{\"mark\": {\"type\": \"bar\", \"color\": \"firebrick\", \"opacity\": 0.7}, \"encoding\": {\"opacity\": {\"type\": \"nominal\", \"field\": \"Daily confirmed deaths\", \"legend\": {\"title\": \"\"}}, \"tooltip\": [{\"type\": \"nominal\", \"field\": \"Dates\"}, {\"type\": \"quantitative\", \"field\": \"New_deaths\"}], \"x\": {\"type\": \"nominal\", \"axis\": {\"title\": \"Date\"}, \"field\": \"Dates\"}, \"y\": {\"type\": \"quantitative\", \"axis\": {\"title\": \"Daily confirmed deaths\"}, \"field\": \"New_deaths\"}}}, {\"mark\": {\"type\": \"line\", \"color\": \"firebrick\", \"point\": {\"filled\": true, \"fill\": \"firebrick\"}}, \"encoding\": {\"shape\": {\"type\": \"nominal\", \"field\": \"7-day rolling average\", \"legend\": {\"title\": \"\"}}, \"x\": {\"type\": \"nominal\", \"axis\": {\"title\": \"Date\"}, \"field\": \"Dates\"}, \"y\": {\"type\": \"quantitative\", \"field\": \"Rolling\"}}}], \"data\": {\"name\": \"data-bdb648ca3c164091f75011e0c7cf710c\"}, \"title\": \"COVID-19 in Chile: Daily confirmed deaths in Chile\", \"width\": 600, \"$schema\": \"https://vega.github.io/schema/vega-lite/v4.8.1.json\", \"datasets\": {\"data-bdb648ca3c164091f75011e0c7cf710c\": [{\"Dates\": \"2020-03-25\", \"New_deaths\": 1, \"Rolling\": null, \"Daily confirmed deaths\": \"Daily confirmed deaths\", \"7-day rolling average\": \"7-day rolling average\"}, {\"Dates\": \"2020-03-26\", \"New_deaths\": 1, \"Rolling\": null, \"Daily confirmed deaths\": \"Daily confirmed deaths\", \"7-day rolling average\": \"7-day rolling average\"}, {\"Dates\": \"2020-03-27\", \"New_deaths\": 1, \"Rolling\": null, \"Daily confirmed deaths\": \"Daily confirmed deaths\", \"7-day rolling average\": \"7-day rolling average\"}, {\"Dates\": \"2020-03-28\", \"New_deaths\": 1, \"Rolling\": null, \"Daily confirmed deaths\": \"Daily confirmed deaths\", \"7-day rolling average\": \"7-day rolling average\"}, {\"Dates\": \"2020-03-29\", \"New_deaths\": 1, \"Rolling\": null, \"Daily confirmed deaths\": \"Daily confirmed deaths\", \"7-day rolling average\": \"7-day rolling average\"}, {\"Dates\": \"2020-03-30\", \"New_deaths\": 1, \"Rolling\": null, \"Daily confirmed deaths\": \"Daily confirmed deaths\", \"7-day rolling average\": \"7-day rolling average\"}, {\"Dates\": \"2020-03-31\", \"New_deaths\": 4, \"Rolling\": 1.4285714285714286, \"Daily confirmed deaths\": \"Daily confirmed deaths\", \"7-day rolling average\": \"7-day rolling average\"}, {\"Dates\": \"2020-04-01\", \"New_deaths\": 4, \"Rolling\": 1.8571428571428572, \"Daily confirmed deaths\": \"Daily confirmed deaths\", \"7-day rolling average\": \"7-day rolling average\"}, {\"Dates\": \"2020-04-02\", \"New_deaths\": 2, \"Rolling\": 2.0, \"Daily confirmed deaths\": \"Daily confirmed deaths\", \"7-day rolling average\": \"7-day rolling average\"}, {\"Dates\": \"2020-04-03\", \"New_deaths\": 4, \"Rolling\": 2.4285714285714284, \"Daily confirmed deaths\": \"Daily confirmed deaths\", \"7-day rolling average\": \"7-day rolling average\"}, {\"Dates\": \"2020-04-04\", \"New_deaths\": 5, \"Rolling\": 3.0, \"Daily confirmed deaths\": \"Daily confirmed deaths\", \"7-day rolling average\": \"7-day rolling average\"}, {\"Dates\": \"2020-04-05\", \"New_deaths\": 7, \"Rolling\": 3.857142857142857, \"Daily confirmed deaths\": \"Daily confirmed deaths\", \"7-day rolling average\": \"7-day rolling average\"}, {\"Dates\": \"2020-04-06\", \"New_deaths\": 3, \"Rolling\": 4.142857142857143, \"Daily confirmed deaths\": \"Daily confirmed deaths\", \"7-day rolling average\": \"7-day rolling average\"}, {\"Dates\": \"2020-04-07\", \"New_deaths\": 6, \"Rolling\": 4.428571428571429, \"Daily confirmed deaths\": \"Daily confirmed deaths\", \"7-day rolling average\": \"7-day rolling average\"}, {\"Dates\": \"2020-04-08\", \"New_deaths\": 5, \"Rolling\": 4.571428571428571, \"Daily confirmed deaths\": \"Daily confirmed deaths\", \"7-day rolling average\": \"7-day rolling average\"}, {\"Dates\": \"2020-04-09\", \"New_deaths\": 9, \"Rolling\": 5.571428571428571, \"Daily confirmed deaths\": \"Daily confirmed deaths\", \"7-day rolling average\": \"7-day rolling average\"}, {\"Dates\": \"2020-04-10\", \"New_deaths\": 8, \"Rolling\": 6.142857142857143, \"Daily confirmed deaths\": \"Daily confirmed deaths\", \"7-day rolling average\": \"7-day rolling average\"}, {\"Dates\": \"2020-04-11\", \"New_deaths\": 8, \"Rolling\": 6.571428571428571, \"Daily confirmed deaths\": \"Daily confirmed deaths\", \"7-day rolling average\": \"7-day rolling average\"}, {\"Dates\": \"2020-04-12\", \"New_deaths\": 7, \"Rolling\": 6.571428571428571, \"Daily confirmed deaths\": \"Daily confirmed deaths\", \"7-day rolling average\": \"7-day rolling average\"}, {\"Dates\": \"2020-04-13\", \"New_deaths\": 2, \"Rolling\": 6.428571428571429, \"Daily confirmed deaths\": \"Daily confirmed deaths\", \"7-day rolling average\": \"7-day rolling average\"}, {\"Dates\": \"2020-04-14\", \"New_deaths\": 10, \"Rolling\": 7.0, \"Daily confirmed deaths\": \"Daily confirmed deaths\", \"7-day rolling average\": \"7-day rolling average\"}, {\"Dates\": \"2020-04-15\", \"New_deaths\": 2, \"Rolling\": 6.571428571428571, \"Daily confirmed deaths\": \"Daily confirmed deaths\", \"7-day rolling average\": \"7-day rolling average\"}, {\"Dates\": \"2020-04-16\", \"New_deaths\": 11, \"Rolling\": 6.857142857142857, \"Daily confirmed deaths\": \"Daily confirmed deaths\", \"7-day rolling average\": \"7-day rolling average\"}, {\"Dates\": \"2020-04-17\", \"New_deaths\": 11, \"Rolling\": 7.285714285714286, \"Daily confirmed deaths\": \"Daily confirmed deaths\", \"7-day rolling average\": \"7-day rolling average\"}, {\"Dates\": \"2020-04-18\", \"New_deaths\": 10, \"Rolling\": 7.571428571428571, \"Daily confirmed deaths\": \"Daily confirmed deaths\", \"7-day rolling average\": \"7-day rolling average\"}, {\"Dates\": \"2020-04-19\", \"New_deaths\": 7, \"Rolling\": 7.571428571428571, \"Daily confirmed deaths\": \"Daily confirmed deaths\", \"7-day rolling average\": \"7-day rolling average\"}, {\"Dates\": \"2020-04-20\", \"New_deaths\": 6, \"Rolling\": 8.142857142857142, \"Daily confirmed deaths\": \"Daily confirmed deaths\", \"7-day rolling average\": \"7-day rolling average\"}, {\"Dates\": \"2020-04-21\", \"New_deaths\": 8, \"Rolling\": 7.857142857142857, \"Daily confirmed deaths\": \"Daily confirmed deaths\", \"7-day rolling average\": \"7-day rolling average\"}, {\"Dates\": \"2020-04-22\", \"New_deaths\": 13, \"Rolling\": 9.428571428571429, \"Daily confirmed deaths\": \"Daily confirmed deaths\", \"7-day rolling average\": \"7-day rolling average\"}, {\"Dates\": \"2020-04-23\", \"New_deaths\": 8, \"Rolling\": 9.0, \"Daily confirmed deaths\": \"Daily confirmed deaths\", \"7-day rolling average\": \"7-day rolling average\"}, {\"Dates\": \"2020-04-24\", \"New_deaths\": 6, \"Rolling\": 8.285714285714286, \"Daily confirmed deaths\": \"Daily confirmed deaths\", \"7-day rolling average\": \"7-day rolling average\"}, {\"Dates\": \"2020-04-25\", \"New_deaths\": 7, \"Rolling\": 7.857142857142857, \"Daily confirmed deaths\": \"Daily confirmed deaths\", \"7-day rolling average\": \"7-day rolling average\"}, {\"Dates\": \"2020-04-26\", \"New_deaths\": 8, \"Rolling\": 8.0, \"Daily confirmed deaths\": \"Daily confirmed deaths\", \"7-day rolling average\": \"7-day rolling average\"}, {\"Dates\": \"2020-04-27\", \"New_deaths\": 9, \"Rolling\": 8.428571428571429, \"Daily confirmed deaths\": \"Daily confirmed deaths\", \"7-day rolling average\": \"7-day rolling average\"}]}}, {\"mode\": \"vega-lite\"});\n",
       "</script>"
      ],
      "text/plain": [
       "alt.LayerChart(...)"
      ]
     },
     "execution_count": 74,
     "metadata": {},
     "output_type": "execute_result"
    }
   ],
   "source": [
    "#hide_input\n",
    "bars, line = my_deaths_plot(region)\n",
    "(bars + line).properties(\n",
    "    title=f'COVID-19 in Chile: Daily confirmed deaths in Chile',\n",
    "    width=600\n",
    ")"
   ]
  },
  {
   "cell_type": "markdown",
   "metadata": {
    "papermill": {
     "duration": 0.095336,
     "end_time": "2020-04-28T12:16:53.036383",
     "exception": false,
     "start_time": "2020-04-28T12:16:52.941047",
     "status": "completed"
    },
    "tags": []
   },
   "source": [
    "## Arica y Parinacota"
   ]
  },
  {
   "cell_type": "code",
   "execution_count": 75,
   "metadata": {
    "execution": {
     "iopub.execute_input": "2020-04-28T12:16:53.230314Z",
     "iopub.status.busy": "2020-04-28T12:16:53.229716Z",
     "iopub.status.idle": "2020-04-28T12:16:53.231875Z",
     "shell.execute_reply": "2020-04-28T12:16:53.231282Z"
    },
    "papermill": {
     "duration": 0.100777,
     "end_time": "2020-04-28T12:16:53.231984",
     "exception": false,
     "start_time": "2020-04-28T12:16:53.131207",
     "status": "completed"
    },
    "scrolled": true,
    "tags": []
   },
   "outputs": [],
   "source": [
    "#hide\n",
    "region = \"Arica y Parinacota\""
   ]
  },
  {
   "cell_type": "code",
   "execution_count": 76,
   "metadata": {
    "execution": {
     "iopub.execute_input": "2020-04-28T12:16:53.451815Z",
     "iopub.status.busy": "2020-04-28T12:16:53.441670Z",
     "iopub.status.idle": "2020-04-28T12:16:53.471347Z",
     "shell.execute_reply": "2020-04-28T12:16:53.471952Z"
    },
    "papermill": {
     "duration": 0.145481,
     "end_time": "2020-04-28T12:16:53.472121",
     "exception": false,
     "start_time": "2020-04-28T12:16:53.326640",
     "status": "completed"
    },
    "tags": []
   },
   "outputs": [
    {
     "data": {
      "text/html": [
       "\n",
       "<div id=\"altair-viz-29660e89fd944f4f9d7f9c00a3259db9\"></div>\n",
       "<script type=\"text/javascript\">\n",
       "  (function(spec, embedOpt){\n",
       "    let outputDiv = document.currentScript.previousElementSibling;\n",
       "    if (outputDiv.id !== \"altair-viz-29660e89fd944f4f9d7f9c00a3259db9\") {\n",
       "      outputDiv = document.getElementById(\"altair-viz-29660e89fd944f4f9d7f9c00a3259db9\");\n",
       "    }\n",
       "    const paths = {\n",
       "      \"vega\": \"https://cdn.jsdelivr.net/npm//vega@5?noext\",\n",
       "      \"vega-lib\": \"https://cdn.jsdelivr.net/npm//vega-lib?noext\",\n",
       "      \"vega-lite\": \"https://cdn.jsdelivr.net/npm//vega-lite@4.8.1?noext\",\n",
       "      \"vega-embed\": \"https://cdn.jsdelivr.net/npm//vega-embed@6?noext\",\n",
       "    };\n",
       "\n",
       "    function loadScript(lib) {\n",
       "      return new Promise(function(resolve, reject) {\n",
       "        var s = document.createElement('script');\n",
       "        s.src = paths[lib];\n",
       "        s.async = true;\n",
       "        s.onload = () => resolve(paths[lib]);\n",
       "        s.onerror = () => reject(`Error loading script: ${paths[lib]}`);\n",
       "        document.getElementsByTagName(\"head\")[0].appendChild(s);\n",
       "      });\n",
       "    }\n",
       "\n",
       "    function showError(err) {\n",
       "      outputDiv.innerHTML = `<div class=\"error\" style=\"color:red;\">${err}</div>`;\n",
       "      throw err;\n",
       "    }\n",
       "\n",
       "    function displayChart(vegaEmbed) {\n",
       "      vegaEmbed(outputDiv, spec, embedOpt)\n",
       "        .catch(err => showError(`Javascript Error: ${err.message}<br>This usually means there's a typo in your chart specification. See the javascript console for the full traceback.`));\n",
       "    }\n",
       "\n",
       "    if(typeof define === \"function\" && define.amd) {\n",
       "      requirejs.config({paths});\n",
       "      require([\"vega-embed\"], displayChart, err => showError(`Error loading script: ${err.message}`));\n",
       "    } else if (typeof vegaEmbed === \"function\") {\n",
       "      displayChart(vegaEmbed);\n",
       "    } else {\n",
       "      loadScript(\"vega\")\n",
       "        .then(() => loadScript(\"vega-lite\"))\n",
       "        .then(() => loadScript(\"vega-embed\"))\n",
       "        .catch(showError)\n",
       "        .then(() => displayChart(vegaEmbed));\n",
       "    }\n",
       "  })({\"config\": {\"view\": {\"continuousWidth\": 400, \"continuousHeight\": 300}}, \"layer\": [{\"mark\": {\"type\": \"bar\", \"color\": \"firebrick\", \"opacity\": 0.7}, \"encoding\": {\"opacity\": {\"type\": \"nominal\", \"field\": \"Daily confirmed deaths\", \"legend\": {\"title\": \"\"}}, \"tooltip\": [{\"type\": \"nominal\", \"field\": \"Dates\"}, {\"type\": \"quantitative\", \"field\": \"New_deaths\"}], \"x\": {\"type\": \"nominal\", \"axis\": {\"title\": \"Date\"}, \"field\": \"Dates\"}, \"y\": {\"type\": \"quantitative\", \"axis\": {\"title\": \"Daily confirmed deaths\"}, \"field\": \"New_deaths\"}}}, {\"mark\": {\"type\": \"line\", \"color\": \"firebrick\", \"point\": {\"filled\": true, \"fill\": \"firebrick\"}}, \"encoding\": {\"shape\": {\"type\": \"nominal\", \"field\": \"7-day rolling average\", \"legend\": {\"title\": \"\"}}, \"x\": {\"type\": \"nominal\", \"axis\": {\"title\": \"Date\"}, \"field\": \"Dates\"}, \"y\": {\"type\": \"quantitative\", \"field\": \"Rolling\"}}}], \"data\": {\"name\": \"data-d0b79da236a8ad611b24c14b593cf7e6\"}, \"title\": \"COVID-19 in Chile: Daily confirmed deaths in Arica y Parinacota\", \"width\": 600, \"$schema\": \"https://vega.github.io/schema/vega-lite/v4.8.1.json\", \"datasets\": {\"data-d0b79da236a8ad611b24c14b593cf7e6\": [{\"Dates\": \"2020-03-25\", \"New_deaths\": 0, \"Rolling\": null, \"Daily confirmed deaths\": \"Daily confirmed deaths\", \"7-day rolling average\": \"7-day rolling average\"}, {\"Dates\": \"2020-03-26\", \"New_deaths\": 0, \"Rolling\": null, \"Daily confirmed deaths\": \"Daily confirmed deaths\", \"7-day rolling average\": \"7-day rolling average\"}, {\"Dates\": \"2020-03-27\", \"New_deaths\": 0, \"Rolling\": null, \"Daily confirmed deaths\": \"Daily confirmed deaths\", \"7-day rolling average\": \"7-day rolling average\"}, {\"Dates\": \"2020-03-28\", \"New_deaths\": 0, \"Rolling\": null, \"Daily confirmed deaths\": \"Daily confirmed deaths\", \"7-day rolling average\": \"7-day rolling average\"}, {\"Dates\": \"2020-03-29\", \"New_deaths\": 0, \"Rolling\": null, \"Daily confirmed deaths\": \"Daily confirmed deaths\", \"7-day rolling average\": \"7-day rolling average\"}, {\"Dates\": \"2020-03-30\", \"New_deaths\": 0, \"Rolling\": null, \"Daily confirmed deaths\": \"Daily confirmed deaths\", \"7-day rolling average\": \"7-day rolling average\"}, {\"Dates\": \"2020-03-31\", \"New_deaths\": 0, \"Rolling\": 0.0, \"Daily confirmed deaths\": \"Daily confirmed deaths\", \"7-day rolling average\": \"7-day rolling average\"}, {\"Dates\": \"2020-04-01\", \"New_deaths\": 0, \"Rolling\": 0.0, \"Daily confirmed deaths\": \"Daily confirmed deaths\", \"7-day rolling average\": \"7-day rolling average\"}, {\"Dates\": \"2020-04-02\", \"New_deaths\": 0, \"Rolling\": 0.0, \"Daily confirmed deaths\": \"Daily confirmed deaths\", \"7-day rolling average\": \"7-day rolling average\"}, {\"Dates\": \"2020-04-03\", \"New_deaths\": 0, \"Rolling\": 0.0, \"Daily confirmed deaths\": \"Daily confirmed deaths\", \"7-day rolling average\": \"7-day rolling average\"}, {\"Dates\": \"2020-04-04\", \"New_deaths\": 0, \"Rolling\": 0.0, \"Daily confirmed deaths\": \"Daily confirmed deaths\", \"7-day rolling average\": \"7-day rolling average\"}, {\"Dates\": \"2020-04-05\", \"New_deaths\": 0, \"Rolling\": 0.0, \"Daily confirmed deaths\": \"Daily confirmed deaths\", \"7-day rolling average\": \"7-day rolling average\"}, {\"Dates\": \"2020-04-06\", \"New_deaths\": 0, \"Rolling\": 0.0, \"Daily confirmed deaths\": \"Daily confirmed deaths\", \"7-day rolling average\": \"7-day rolling average\"}, {\"Dates\": \"2020-04-07\", \"New_deaths\": 0, \"Rolling\": 0.0, \"Daily confirmed deaths\": \"Daily confirmed deaths\", \"7-day rolling average\": \"7-day rolling average\"}, {\"Dates\": \"2020-04-08\", \"New_deaths\": 0, \"Rolling\": 0.0, \"Daily confirmed deaths\": \"Daily confirmed deaths\", \"7-day rolling average\": \"7-day rolling average\"}, {\"Dates\": \"2020-04-09\", \"New_deaths\": 0, \"Rolling\": 0.0, \"Daily confirmed deaths\": \"Daily confirmed deaths\", \"7-day rolling average\": \"7-day rolling average\"}, {\"Dates\": \"2020-04-10\", \"New_deaths\": 0, \"Rolling\": 0.0, \"Daily confirmed deaths\": \"Daily confirmed deaths\", \"7-day rolling average\": \"7-day rolling average\"}, {\"Dates\": \"2020-04-11\", \"New_deaths\": 0, \"Rolling\": 0.0, \"Daily confirmed deaths\": \"Daily confirmed deaths\", \"7-day rolling average\": \"7-day rolling average\"}, {\"Dates\": \"2020-04-12\", \"New_deaths\": 1, \"Rolling\": 0.14285714285714285, \"Daily confirmed deaths\": \"Daily confirmed deaths\", \"7-day rolling average\": \"7-day rolling average\"}, {\"Dates\": \"2020-04-13\", \"New_deaths\": 0, \"Rolling\": 0.14285714285714285, \"Daily confirmed deaths\": \"Daily confirmed deaths\", \"7-day rolling average\": \"7-day rolling average\"}, {\"Dates\": \"2020-04-14\", \"New_deaths\": 0, \"Rolling\": 0.14285714285714285, \"Daily confirmed deaths\": \"Daily confirmed deaths\", \"7-day rolling average\": \"7-day rolling average\"}, {\"Dates\": \"2020-04-15\", \"New_deaths\": 0, \"Rolling\": 0.14285714285714285, \"Daily confirmed deaths\": \"Daily confirmed deaths\", \"7-day rolling average\": \"7-day rolling average\"}, {\"Dates\": \"2020-04-16\", \"New_deaths\": 0, \"Rolling\": 0.14285714285714285, \"Daily confirmed deaths\": \"Daily confirmed deaths\", \"7-day rolling average\": \"7-day rolling average\"}, {\"Dates\": \"2020-04-17\", \"New_deaths\": 1, \"Rolling\": 0.2857142857142857, \"Daily confirmed deaths\": \"Daily confirmed deaths\", \"7-day rolling average\": \"7-day rolling average\"}, {\"Dates\": \"2020-04-18\", \"New_deaths\": 0, \"Rolling\": 0.2857142857142857, \"Daily confirmed deaths\": \"Daily confirmed deaths\", \"7-day rolling average\": \"7-day rolling average\"}, {\"Dates\": \"2020-04-19\", \"New_deaths\": 0, \"Rolling\": 0.14285714285714285, \"Daily confirmed deaths\": \"Daily confirmed deaths\", \"7-day rolling average\": \"7-day rolling average\"}, {\"Dates\": \"2020-04-20\", \"New_deaths\": 0, \"Rolling\": 0.14285714285714285, \"Daily confirmed deaths\": \"Daily confirmed deaths\", \"7-day rolling average\": \"7-day rolling average\"}, {\"Dates\": \"2020-04-21\", \"New_deaths\": 0, \"Rolling\": 0.14285714285714285, \"Daily confirmed deaths\": \"Daily confirmed deaths\", \"7-day rolling average\": \"7-day rolling average\"}, {\"Dates\": \"2020-04-22\", \"New_deaths\": 0, \"Rolling\": 0.14285714285714285, \"Daily confirmed deaths\": \"Daily confirmed deaths\", \"7-day rolling average\": \"7-day rolling average\"}, {\"Dates\": \"2020-04-23\", \"New_deaths\": 0, \"Rolling\": 0.14285714285714285, \"Daily confirmed deaths\": \"Daily confirmed deaths\", \"7-day rolling average\": \"7-day rolling average\"}, {\"Dates\": \"2020-04-24\", \"New_deaths\": 1, \"Rolling\": 0.14285714285714285, \"Daily confirmed deaths\": \"Daily confirmed deaths\", \"7-day rolling average\": \"7-day rolling average\"}, {\"Dates\": \"2020-04-25\", \"New_deaths\": 0, \"Rolling\": 0.14285714285714285, \"Daily confirmed deaths\": \"Daily confirmed deaths\", \"7-day rolling average\": \"7-day rolling average\"}, {\"Dates\": \"2020-04-26\", \"New_deaths\": 0, \"Rolling\": 0.14285714285714285, \"Daily confirmed deaths\": \"Daily confirmed deaths\", \"7-day rolling average\": \"7-day rolling average\"}, {\"Dates\": \"2020-04-27\", \"New_deaths\": 0, \"Rolling\": 0.14285714285714285, \"Daily confirmed deaths\": \"Daily confirmed deaths\", \"7-day rolling average\": \"7-day rolling average\"}]}}, {\"mode\": \"vega-lite\"});\n",
       "</script>"
      ],
      "text/plain": [
       "alt.LayerChart(...)"
      ]
     },
     "execution_count": 76,
     "metadata": {},
     "output_type": "execute_result"
    }
   ],
   "source": [
    "#hide_input\n",
    "bars, line = my_deaths_plot(region)\n",
    "(bars + line).properties(\n",
    "    title=f'COVID-19 in Chile: Daily confirmed deaths in {region}',\n",
    "    width=600\n",
    ")"
   ]
  },
  {
   "cell_type": "markdown",
   "metadata": {
    "papermill": {
     "duration": 0.096816,
     "end_time": "2020-04-28T12:16:53.664812",
     "exception": false,
     "start_time": "2020-04-28T12:16:53.567996",
     "status": "completed"
    },
    "tags": []
   },
   "source": [
    "## Tarapacá"
   ]
  },
  {
   "cell_type": "code",
   "execution_count": 77,
   "metadata": {
    "execution": {
     "iopub.execute_input": "2020-04-28T12:16:53.861567Z",
     "iopub.status.busy": "2020-04-28T12:16:53.860971Z",
     "iopub.status.idle": "2020-04-28T12:16:53.863249Z",
     "shell.execute_reply": "2020-04-28T12:16:53.862695Z"
    },
    "papermill": {
     "duration": 0.10188,
     "end_time": "2020-04-28T12:16:53.863361",
     "exception": false,
     "start_time": "2020-04-28T12:16:53.761481",
     "status": "completed"
    },
    "scrolled": true,
    "tags": []
   },
   "outputs": [],
   "source": [
    "#hide\n",
    "region = \"Tarapacá\""
   ]
  },
  {
   "cell_type": "code",
   "execution_count": 78,
   "metadata": {
    "execution": {
     "iopub.execute_input": "2020-04-28T12:16:54.084478Z",
     "iopub.status.busy": "2020-04-28T12:16:54.079433Z",
     "iopub.status.idle": "2020-04-28T12:16:54.103993Z",
     "shell.execute_reply": "2020-04-28T12:16:54.104470Z"
    },
    "papermill": {
     "duration": 0.145996,
     "end_time": "2020-04-28T12:16:54.104606",
     "exception": false,
     "start_time": "2020-04-28T12:16:53.958610",
     "status": "completed"
    },
    "tags": []
   },
   "outputs": [
    {
     "data": {
      "text/html": [
       "\n",
       "<div id=\"altair-viz-13c38864589d4dc2b08a9c72cab48e36\"></div>\n",
       "<script type=\"text/javascript\">\n",
       "  (function(spec, embedOpt){\n",
       "    let outputDiv = document.currentScript.previousElementSibling;\n",
       "    if (outputDiv.id !== \"altair-viz-13c38864589d4dc2b08a9c72cab48e36\") {\n",
       "      outputDiv = document.getElementById(\"altair-viz-13c38864589d4dc2b08a9c72cab48e36\");\n",
       "    }\n",
       "    const paths = {\n",
       "      \"vega\": \"https://cdn.jsdelivr.net/npm//vega@5?noext\",\n",
       "      \"vega-lib\": \"https://cdn.jsdelivr.net/npm//vega-lib?noext\",\n",
       "      \"vega-lite\": \"https://cdn.jsdelivr.net/npm//vega-lite@4.8.1?noext\",\n",
       "      \"vega-embed\": \"https://cdn.jsdelivr.net/npm//vega-embed@6?noext\",\n",
       "    };\n",
       "\n",
       "    function loadScript(lib) {\n",
       "      return new Promise(function(resolve, reject) {\n",
       "        var s = document.createElement('script');\n",
       "        s.src = paths[lib];\n",
       "        s.async = true;\n",
       "        s.onload = () => resolve(paths[lib]);\n",
       "        s.onerror = () => reject(`Error loading script: ${paths[lib]}`);\n",
       "        document.getElementsByTagName(\"head\")[0].appendChild(s);\n",
       "      });\n",
       "    }\n",
       "\n",
       "    function showError(err) {\n",
       "      outputDiv.innerHTML = `<div class=\"error\" style=\"color:red;\">${err}</div>`;\n",
       "      throw err;\n",
       "    }\n",
       "\n",
       "    function displayChart(vegaEmbed) {\n",
       "      vegaEmbed(outputDiv, spec, embedOpt)\n",
       "        .catch(err => showError(`Javascript Error: ${err.message}<br>This usually means there's a typo in your chart specification. See the javascript console for the full traceback.`));\n",
       "    }\n",
       "\n",
       "    if(typeof define === \"function\" && define.amd) {\n",
       "      requirejs.config({paths});\n",
       "      require([\"vega-embed\"], displayChart, err => showError(`Error loading script: ${err.message}`));\n",
       "    } else if (typeof vegaEmbed === \"function\") {\n",
       "      displayChart(vegaEmbed);\n",
       "    } else {\n",
       "      loadScript(\"vega\")\n",
       "        .then(() => loadScript(\"vega-lite\"))\n",
       "        .then(() => loadScript(\"vega-embed\"))\n",
       "        .catch(showError)\n",
       "        .then(() => displayChart(vegaEmbed));\n",
       "    }\n",
       "  })({\"config\": {\"view\": {\"continuousWidth\": 400, \"continuousHeight\": 300}}, \"layer\": [{\"mark\": {\"type\": \"bar\", \"color\": \"firebrick\", \"opacity\": 0.7}, \"encoding\": {\"opacity\": {\"type\": \"nominal\", \"field\": \"Daily confirmed deaths\", \"legend\": {\"title\": \"\"}}, \"tooltip\": [{\"type\": \"nominal\", \"field\": \"Dates\"}, {\"type\": \"quantitative\", \"field\": \"New_deaths\"}], \"x\": {\"type\": \"nominal\", \"axis\": {\"title\": \"Date\"}, \"field\": \"Dates\"}, \"y\": {\"type\": \"quantitative\", \"axis\": {\"title\": \"Daily confirmed deaths\"}, \"field\": \"New_deaths\"}}}, {\"mark\": {\"type\": \"line\", \"color\": \"firebrick\", \"point\": {\"filled\": true, \"fill\": \"firebrick\"}}, \"encoding\": {\"shape\": {\"type\": \"nominal\", \"field\": \"7-day rolling average\", \"legend\": {\"title\": \"\"}}, \"x\": {\"type\": \"nominal\", \"axis\": {\"title\": \"Date\"}, \"field\": \"Dates\"}, \"y\": {\"type\": \"quantitative\", \"field\": \"Rolling\"}}}], \"data\": {\"name\": \"data-1908856f65bb69156b899a0c33504fb4\"}, \"title\": \"COVID-19 in Chile: Daily confirmed deaths in Tarapac\\u00e1\", \"width\": 600, \"$schema\": \"https://vega.github.io/schema/vega-lite/v4.8.1.json\", \"datasets\": {\"data-1908856f65bb69156b899a0c33504fb4\": [{\"Dates\": \"2020-03-25\", \"New_deaths\": 0, \"Rolling\": null, \"Daily confirmed deaths\": \"Daily confirmed deaths\", \"7-day rolling average\": \"7-day rolling average\"}, {\"Dates\": \"2020-03-26\", \"New_deaths\": 0, \"Rolling\": null, \"Daily confirmed deaths\": \"Daily confirmed deaths\", \"7-day rolling average\": \"7-day rolling average\"}, {\"Dates\": \"2020-03-27\", \"New_deaths\": 0, \"Rolling\": null, \"Daily confirmed deaths\": \"Daily confirmed deaths\", \"7-day rolling average\": \"7-day rolling average\"}, {\"Dates\": \"2020-03-28\", \"New_deaths\": 0, \"Rolling\": null, \"Daily confirmed deaths\": \"Daily confirmed deaths\", \"7-day rolling average\": \"7-day rolling average\"}, {\"Dates\": \"2020-03-29\", \"New_deaths\": 0, \"Rolling\": null, \"Daily confirmed deaths\": \"Daily confirmed deaths\", \"7-day rolling average\": \"7-day rolling average\"}, {\"Dates\": \"2020-03-30\", \"New_deaths\": 0, \"Rolling\": null, \"Daily confirmed deaths\": \"Daily confirmed deaths\", \"7-day rolling average\": \"7-day rolling average\"}, {\"Dates\": \"2020-03-31\", \"New_deaths\": 0, \"Rolling\": 0.0, \"Daily confirmed deaths\": \"Daily confirmed deaths\", \"7-day rolling average\": \"7-day rolling average\"}, {\"Dates\": \"2020-04-01\", \"New_deaths\": 0, \"Rolling\": 0.0, \"Daily confirmed deaths\": \"Daily confirmed deaths\", \"7-day rolling average\": \"7-day rolling average\"}, {\"Dates\": \"2020-04-02\", \"New_deaths\": 0, \"Rolling\": 0.0, \"Daily confirmed deaths\": \"Daily confirmed deaths\", \"7-day rolling average\": \"7-day rolling average\"}, {\"Dates\": \"2020-04-03\", \"New_deaths\": 0, \"Rolling\": 0.0, \"Daily confirmed deaths\": \"Daily confirmed deaths\", \"7-day rolling average\": \"7-day rolling average\"}, {\"Dates\": \"2020-04-04\", \"New_deaths\": 0, \"Rolling\": 0.0, \"Daily confirmed deaths\": \"Daily confirmed deaths\", \"7-day rolling average\": \"7-day rolling average\"}, {\"Dates\": \"2020-04-05\", \"New_deaths\": 0, \"Rolling\": 0.0, \"Daily confirmed deaths\": \"Daily confirmed deaths\", \"7-day rolling average\": \"7-day rolling average\"}, {\"Dates\": \"2020-04-06\", \"New_deaths\": 0, \"Rolling\": 0.0, \"Daily confirmed deaths\": \"Daily confirmed deaths\", \"7-day rolling average\": \"7-day rolling average\"}, {\"Dates\": \"2020-04-07\", \"New_deaths\": 0, \"Rolling\": 0.0, \"Daily confirmed deaths\": \"Daily confirmed deaths\", \"7-day rolling average\": \"7-day rolling average\"}, {\"Dates\": \"2020-04-08\", \"New_deaths\": 0, \"Rolling\": 0.0, \"Daily confirmed deaths\": \"Daily confirmed deaths\", \"7-day rolling average\": \"7-day rolling average\"}, {\"Dates\": \"2020-04-09\", \"New_deaths\": 0, \"Rolling\": 0.0, \"Daily confirmed deaths\": \"Daily confirmed deaths\", \"7-day rolling average\": \"7-day rolling average\"}, {\"Dates\": \"2020-04-10\", \"New_deaths\": 0, \"Rolling\": 0.0, \"Daily confirmed deaths\": \"Daily confirmed deaths\", \"7-day rolling average\": \"7-day rolling average\"}, {\"Dates\": \"2020-04-11\", \"New_deaths\": 0, \"Rolling\": 0.0, \"Daily confirmed deaths\": \"Daily confirmed deaths\", \"7-day rolling average\": \"7-day rolling average\"}, {\"Dates\": \"2020-04-12\", \"New_deaths\": 0, \"Rolling\": 0.0, \"Daily confirmed deaths\": \"Daily confirmed deaths\", \"7-day rolling average\": \"7-day rolling average\"}, {\"Dates\": \"2020-04-13\", \"New_deaths\": 0, \"Rolling\": 0.0, \"Daily confirmed deaths\": \"Daily confirmed deaths\", \"7-day rolling average\": \"7-day rolling average\"}, {\"Dates\": \"2020-04-14\", \"New_deaths\": 0, \"Rolling\": 0.0, \"Daily confirmed deaths\": \"Daily confirmed deaths\", \"7-day rolling average\": \"7-day rolling average\"}, {\"Dates\": \"2020-04-15\", \"New_deaths\": 0, \"Rolling\": 0.0, \"Daily confirmed deaths\": \"Daily confirmed deaths\", \"7-day rolling average\": \"7-day rolling average\"}, {\"Dates\": \"2020-04-16\", \"New_deaths\": 0, \"Rolling\": 0.0, \"Daily confirmed deaths\": \"Daily confirmed deaths\", \"7-day rolling average\": \"7-day rolling average\"}, {\"Dates\": \"2020-04-17\", \"New_deaths\": 0, \"Rolling\": 0.0, \"Daily confirmed deaths\": \"Daily confirmed deaths\", \"7-day rolling average\": \"7-day rolling average\"}, {\"Dates\": \"2020-04-18\", \"New_deaths\": 0, \"Rolling\": 0.0, \"Daily confirmed deaths\": \"Daily confirmed deaths\", \"7-day rolling average\": \"7-day rolling average\"}, {\"Dates\": \"2020-04-19\", \"New_deaths\": 0, \"Rolling\": 0.0, \"Daily confirmed deaths\": \"Daily confirmed deaths\", \"7-day rolling average\": \"7-day rolling average\"}, {\"Dates\": \"2020-04-20\", \"New_deaths\": 0, \"Rolling\": 0.0, \"Daily confirmed deaths\": \"Daily confirmed deaths\", \"7-day rolling average\": \"7-day rolling average\"}, {\"Dates\": \"2020-04-21\", \"New_deaths\": 0, \"Rolling\": 0.0, \"Daily confirmed deaths\": \"Daily confirmed deaths\", \"7-day rolling average\": \"7-day rolling average\"}, {\"Dates\": \"2020-04-22\", \"New_deaths\": 0, \"Rolling\": 0.0, \"Daily confirmed deaths\": \"Daily confirmed deaths\", \"7-day rolling average\": \"7-day rolling average\"}, {\"Dates\": \"2020-04-23\", \"New_deaths\": 0, \"Rolling\": 0.0, \"Daily confirmed deaths\": \"Daily confirmed deaths\", \"7-day rolling average\": \"7-day rolling average\"}, {\"Dates\": \"2020-04-24\", \"New_deaths\": 0, \"Rolling\": 0.0, \"Daily confirmed deaths\": \"Daily confirmed deaths\", \"7-day rolling average\": \"7-day rolling average\"}, {\"Dates\": \"2020-04-25\", \"New_deaths\": 1, \"Rolling\": 0.14285714285714285, \"Daily confirmed deaths\": \"Daily confirmed deaths\", \"7-day rolling average\": \"7-day rolling average\"}, {\"Dates\": \"2020-04-26\", \"New_deaths\": 0, \"Rolling\": 0.14285714285714285, \"Daily confirmed deaths\": \"Daily confirmed deaths\", \"7-day rolling average\": \"7-day rolling average\"}, {\"Dates\": \"2020-04-27\", \"New_deaths\": 0, \"Rolling\": 0.14285714285714285, \"Daily confirmed deaths\": \"Daily confirmed deaths\", \"7-day rolling average\": \"7-day rolling average\"}]}}, {\"mode\": \"vega-lite\"});\n",
       "</script>"
      ],
      "text/plain": [
       "alt.LayerChart(...)"
      ]
     },
     "execution_count": 78,
     "metadata": {},
     "output_type": "execute_result"
    }
   ],
   "source": [
    "#hide_input\n",
    "bars, line = my_deaths_plot(region)\n",
    "(bars + line).properties(\n",
    "    title=f'COVID-19 in Chile: Daily confirmed deaths in {region}',\n",
    "    width=600\n",
    ")"
   ]
  },
  {
   "cell_type": "markdown",
   "metadata": {
    "papermill": {
     "duration": 0.096676,
     "end_time": "2020-04-28T12:16:54.298392",
     "exception": false,
     "start_time": "2020-04-28T12:16:54.201716",
     "status": "completed"
    },
    "tags": []
   },
   "source": [
    "## Antofagasta"
   ]
  },
  {
   "cell_type": "code",
   "execution_count": 79,
   "metadata": {
    "execution": {
     "iopub.execute_input": "2020-04-28T12:16:54.496946Z",
     "iopub.status.busy": "2020-04-28T12:16:54.496348Z",
     "iopub.status.idle": "2020-04-28T12:16:54.499240Z",
     "shell.execute_reply": "2020-04-28T12:16:54.498691Z"
    },
    "papermill": {
     "duration": 0.102968,
     "end_time": "2020-04-28T12:16:54.499353",
     "exception": false,
     "start_time": "2020-04-28T12:16:54.396385",
     "status": "completed"
    },
    "scrolled": true,
    "tags": []
   },
   "outputs": [],
   "source": [
    "#hide\n",
    "region = \"Antofagasta\""
   ]
  },
  {
   "cell_type": "code",
   "execution_count": 80,
   "metadata": {
    "execution": {
     "iopub.execute_input": "2020-04-28T12:16:54.706147Z",
     "iopub.status.busy": "2020-04-28T12:16:54.704516Z",
     "iopub.status.idle": "2020-04-28T12:16:54.741605Z",
     "shell.execute_reply": "2020-04-28T12:16:54.742073Z"
    },
    "papermill": {
     "duration": 0.145055,
     "end_time": "2020-04-28T12:16:54.742213",
     "exception": false,
     "start_time": "2020-04-28T12:16:54.597158",
     "status": "completed"
    },
    "tags": []
   },
   "outputs": [
    {
     "data": {
      "text/html": [
       "\n",
       "<div id=\"altair-viz-eb7a181e935d444e965f58cf2c2829ca\"></div>\n",
       "<script type=\"text/javascript\">\n",
       "  (function(spec, embedOpt){\n",
       "    let outputDiv = document.currentScript.previousElementSibling;\n",
       "    if (outputDiv.id !== \"altair-viz-eb7a181e935d444e965f58cf2c2829ca\") {\n",
       "      outputDiv = document.getElementById(\"altair-viz-eb7a181e935d444e965f58cf2c2829ca\");\n",
       "    }\n",
       "    const paths = {\n",
       "      \"vega\": \"https://cdn.jsdelivr.net/npm//vega@5?noext\",\n",
       "      \"vega-lib\": \"https://cdn.jsdelivr.net/npm//vega-lib?noext\",\n",
       "      \"vega-lite\": \"https://cdn.jsdelivr.net/npm//vega-lite@4.8.1?noext\",\n",
       "      \"vega-embed\": \"https://cdn.jsdelivr.net/npm//vega-embed@6?noext\",\n",
       "    };\n",
       "\n",
       "    function loadScript(lib) {\n",
       "      return new Promise(function(resolve, reject) {\n",
       "        var s = document.createElement('script');\n",
       "        s.src = paths[lib];\n",
       "        s.async = true;\n",
       "        s.onload = () => resolve(paths[lib]);\n",
       "        s.onerror = () => reject(`Error loading script: ${paths[lib]}`);\n",
       "        document.getElementsByTagName(\"head\")[0].appendChild(s);\n",
       "      });\n",
       "    }\n",
       "\n",
       "    function showError(err) {\n",
       "      outputDiv.innerHTML = `<div class=\"error\" style=\"color:red;\">${err}</div>`;\n",
       "      throw err;\n",
       "    }\n",
       "\n",
       "    function displayChart(vegaEmbed) {\n",
       "      vegaEmbed(outputDiv, spec, embedOpt)\n",
       "        .catch(err => showError(`Javascript Error: ${err.message}<br>This usually means there's a typo in your chart specification. See the javascript console for the full traceback.`));\n",
       "    }\n",
       "\n",
       "    if(typeof define === \"function\" && define.amd) {\n",
       "      requirejs.config({paths});\n",
       "      require([\"vega-embed\"], displayChart, err => showError(`Error loading script: ${err.message}`));\n",
       "    } else if (typeof vegaEmbed === \"function\") {\n",
       "      displayChart(vegaEmbed);\n",
       "    } else {\n",
       "      loadScript(\"vega\")\n",
       "        .then(() => loadScript(\"vega-lite\"))\n",
       "        .then(() => loadScript(\"vega-embed\"))\n",
       "        .catch(showError)\n",
       "        .then(() => displayChart(vegaEmbed));\n",
       "    }\n",
       "  })({\"config\": {\"view\": {\"continuousWidth\": 400, \"continuousHeight\": 300}}, \"layer\": [{\"mark\": {\"type\": \"bar\", \"color\": \"firebrick\", \"opacity\": 0.7}, \"encoding\": {\"opacity\": {\"type\": \"nominal\", \"field\": \"Daily confirmed deaths\", \"legend\": {\"title\": \"\"}}, \"tooltip\": [{\"type\": \"nominal\", \"field\": \"Dates\"}, {\"type\": \"quantitative\", \"field\": \"New_deaths\"}], \"x\": {\"type\": \"nominal\", \"axis\": {\"title\": \"Date\"}, \"field\": \"Dates\"}, \"y\": {\"type\": \"quantitative\", \"axis\": {\"title\": \"Daily confirmed deaths\"}, \"field\": \"New_deaths\"}}}, {\"mark\": {\"type\": \"line\", \"color\": \"firebrick\", \"point\": {\"filled\": true, \"fill\": \"firebrick\"}}, \"encoding\": {\"shape\": {\"type\": \"nominal\", \"field\": \"7-day rolling average\", \"legend\": {\"title\": \"\"}}, \"x\": {\"type\": \"nominal\", \"axis\": {\"title\": \"Date\"}, \"field\": \"Dates\"}, \"y\": {\"type\": \"quantitative\", \"field\": \"Rolling\"}}}], \"data\": {\"name\": \"data-46d2d9433e1880414af6af654effae3b\"}, \"title\": \"COVID-19 in Chile: Daily confirmed deaths in Antofagasta\", \"width\": 600, \"$schema\": \"https://vega.github.io/schema/vega-lite/v4.8.1.json\", \"datasets\": {\"data-46d2d9433e1880414af6af654effae3b\": [{\"Dates\": \"2020-03-25\", \"New_deaths\": 0, \"Rolling\": null, \"Daily confirmed deaths\": \"Daily confirmed deaths\", \"7-day rolling average\": \"7-day rolling average\"}, {\"Dates\": \"2020-03-26\", \"New_deaths\": 0, \"Rolling\": null, \"Daily confirmed deaths\": \"Daily confirmed deaths\", \"7-day rolling average\": \"7-day rolling average\"}, {\"Dates\": \"2020-03-27\", \"New_deaths\": 0, \"Rolling\": null, \"Daily confirmed deaths\": \"Daily confirmed deaths\", \"7-day rolling average\": \"7-day rolling average\"}, {\"Dates\": \"2020-03-28\", \"New_deaths\": 0, \"Rolling\": null, \"Daily confirmed deaths\": \"Daily confirmed deaths\", \"7-day rolling average\": \"7-day rolling average\"}, {\"Dates\": \"2020-03-29\", \"New_deaths\": 0, \"Rolling\": null, \"Daily confirmed deaths\": \"Daily confirmed deaths\", \"7-day rolling average\": \"7-day rolling average\"}, {\"Dates\": \"2020-03-30\", \"New_deaths\": 0, \"Rolling\": null, \"Daily confirmed deaths\": \"Daily confirmed deaths\", \"7-day rolling average\": \"7-day rolling average\"}, {\"Dates\": \"2020-03-31\", \"New_deaths\": 0, \"Rolling\": 0.0, \"Daily confirmed deaths\": \"Daily confirmed deaths\", \"7-day rolling average\": \"7-day rolling average\"}, {\"Dates\": \"2020-04-01\", \"New_deaths\": 0, \"Rolling\": 0.0, \"Daily confirmed deaths\": \"Daily confirmed deaths\", \"7-day rolling average\": \"7-day rolling average\"}, {\"Dates\": \"2020-04-02\", \"New_deaths\": 0, \"Rolling\": 0.0, \"Daily confirmed deaths\": \"Daily confirmed deaths\", \"7-day rolling average\": \"7-day rolling average\"}, {\"Dates\": \"2020-04-03\", \"New_deaths\": 0, \"Rolling\": 0.0, \"Daily confirmed deaths\": \"Daily confirmed deaths\", \"7-day rolling average\": \"7-day rolling average\"}, {\"Dates\": \"2020-04-04\", \"New_deaths\": 0, \"Rolling\": 0.0, \"Daily confirmed deaths\": \"Daily confirmed deaths\", \"7-day rolling average\": \"7-day rolling average\"}, {\"Dates\": \"2020-04-05\", \"New_deaths\": 0, \"Rolling\": 0.0, \"Daily confirmed deaths\": \"Daily confirmed deaths\", \"7-day rolling average\": \"7-day rolling average\"}, {\"Dates\": \"2020-04-06\", \"New_deaths\": 0, \"Rolling\": 0.0, \"Daily confirmed deaths\": \"Daily confirmed deaths\", \"7-day rolling average\": \"7-day rolling average\"}, {\"Dates\": \"2020-04-07\", \"New_deaths\": 1, \"Rolling\": 0.14285714285714285, \"Daily confirmed deaths\": \"Daily confirmed deaths\", \"7-day rolling average\": \"7-day rolling average\"}, {\"Dates\": \"2020-04-08\", \"New_deaths\": 0, \"Rolling\": 0.14285714285714285, \"Daily confirmed deaths\": \"Daily confirmed deaths\", \"7-day rolling average\": \"7-day rolling average\"}, {\"Dates\": \"2020-04-09\", \"New_deaths\": 0, \"Rolling\": 0.14285714285714285, \"Daily confirmed deaths\": \"Daily confirmed deaths\", \"7-day rolling average\": \"7-day rolling average\"}, {\"Dates\": \"2020-04-10\", \"New_deaths\": 0, \"Rolling\": 0.14285714285714285, \"Daily confirmed deaths\": \"Daily confirmed deaths\", \"7-day rolling average\": \"7-day rolling average\"}, {\"Dates\": \"2020-04-11\", \"New_deaths\": 0, \"Rolling\": 0.14285714285714285, \"Daily confirmed deaths\": \"Daily confirmed deaths\", \"7-day rolling average\": \"7-day rolling average\"}, {\"Dates\": \"2020-04-12\", \"New_deaths\": 0, \"Rolling\": 0.14285714285714285, \"Daily confirmed deaths\": \"Daily confirmed deaths\", \"7-day rolling average\": \"7-day rolling average\"}, {\"Dates\": \"2020-04-13\", \"New_deaths\": 0, \"Rolling\": 0.14285714285714285, \"Daily confirmed deaths\": \"Daily confirmed deaths\", \"7-day rolling average\": \"7-day rolling average\"}, {\"Dates\": \"2020-04-14\", \"New_deaths\": 0, \"Rolling\": 0.0, \"Daily confirmed deaths\": \"Daily confirmed deaths\", \"7-day rolling average\": \"7-day rolling average\"}, {\"Dates\": \"2020-04-15\", \"New_deaths\": 0, \"Rolling\": 0.0, \"Daily confirmed deaths\": \"Daily confirmed deaths\", \"7-day rolling average\": \"7-day rolling average\"}, {\"Dates\": \"2020-04-16\", \"New_deaths\": 0, \"Rolling\": 0.0, \"Daily confirmed deaths\": \"Daily confirmed deaths\", \"7-day rolling average\": \"7-day rolling average\"}, {\"Dates\": \"2020-04-17\", \"New_deaths\": 0, \"Rolling\": 0.0, \"Daily confirmed deaths\": \"Daily confirmed deaths\", \"7-day rolling average\": \"7-day rolling average\"}, {\"Dates\": \"2020-04-18\", \"New_deaths\": 0, \"Rolling\": 0.0, \"Daily confirmed deaths\": \"Daily confirmed deaths\", \"7-day rolling average\": \"7-day rolling average\"}, {\"Dates\": \"2020-04-19\", \"New_deaths\": 0, \"Rolling\": 0.0, \"Daily confirmed deaths\": \"Daily confirmed deaths\", \"7-day rolling average\": \"7-day rolling average\"}, {\"Dates\": \"2020-04-20\", \"New_deaths\": 0, \"Rolling\": 0.0, \"Daily confirmed deaths\": \"Daily confirmed deaths\", \"7-day rolling average\": \"7-day rolling average\"}, {\"Dates\": \"2020-04-21\", \"New_deaths\": 0, \"Rolling\": 0.0, \"Daily confirmed deaths\": \"Daily confirmed deaths\", \"7-day rolling average\": \"7-day rolling average\"}, {\"Dates\": \"2020-04-22\", \"New_deaths\": 1, \"Rolling\": 0.14285714285714285, \"Daily confirmed deaths\": \"Daily confirmed deaths\", \"7-day rolling average\": \"7-day rolling average\"}, {\"Dates\": \"2020-04-23\", \"New_deaths\": 0, \"Rolling\": 0.14285714285714285, \"Daily confirmed deaths\": \"Daily confirmed deaths\", \"7-day rolling average\": \"7-day rolling average\"}, {\"Dates\": \"2020-04-24\", \"New_deaths\": 0, \"Rolling\": 0.14285714285714285, \"Daily confirmed deaths\": \"Daily confirmed deaths\", \"7-day rolling average\": \"7-day rolling average\"}, {\"Dates\": \"2020-04-25\", \"New_deaths\": 1, \"Rolling\": 0.2857142857142857, \"Daily confirmed deaths\": \"Daily confirmed deaths\", \"7-day rolling average\": \"7-day rolling average\"}, {\"Dates\": \"2020-04-26\", \"New_deaths\": 1, \"Rolling\": 0.42857142857142855, \"Daily confirmed deaths\": \"Daily confirmed deaths\", \"7-day rolling average\": \"7-day rolling average\"}, {\"Dates\": \"2020-04-27\", \"New_deaths\": 0, \"Rolling\": 0.42857142857142855, \"Daily confirmed deaths\": \"Daily confirmed deaths\", \"7-day rolling average\": \"7-day rolling average\"}]}}, {\"mode\": \"vega-lite\"});\n",
       "</script>"
      ],
      "text/plain": [
       "alt.LayerChart(...)"
      ]
     },
     "execution_count": 80,
     "metadata": {},
     "output_type": "execute_result"
    }
   ],
   "source": [
    "#hide_input\n",
    "bars, line = my_deaths_plot(region)\n",
    "(bars + line).properties(\n",
    "    title=f'COVID-19 in Chile: Daily confirmed deaths in {region}',\n",
    "    width=600\n",
    ")"
   ]
  },
  {
   "cell_type": "markdown",
   "metadata": {
    "papermill": {
     "duration": 0.096192,
     "end_time": "2020-04-28T12:16:54.934705",
     "exception": false,
     "start_time": "2020-04-28T12:16:54.838513",
     "status": "completed"
    },
    "tags": []
   },
   "source": [
    "## Atacama"
   ]
  },
  {
   "cell_type": "code",
   "execution_count": 81,
   "metadata": {
    "execution": {
     "iopub.execute_input": "2020-04-28T12:16:55.137080Z",
     "iopub.status.busy": "2020-04-28T12:16:55.136434Z",
     "iopub.status.idle": "2020-04-28T12:16:55.138302Z",
     "shell.execute_reply": "2020-04-28T12:16:55.138753Z"
    },
    "papermill": {
     "duration": 0.104731,
     "end_time": "2020-04-28T12:16:55.138896",
     "exception": false,
     "start_time": "2020-04-28T12:16:55.034165",
     "status": "completed"
    },
    "scrolled": true,
    "tags": []
   },
   "outputs": [],
   "source": [
    "#hide\n",
    "region = \"Atacama\""
   ]
  },
  {
   "cell_type": "code",
   "execution_count": 82,
   "metadata": {
    "execution": {
     "iopub.execute_input": "2020-04-28T12:16:55.358576Z",
     "iopub.status.busy": "2020-04-28T12:16:55.353464Z",
     "iopub.status.idle": "2020-04-28T12:16:55.379926Z",
     "shell.execute_reply": "2020-04-28T12:16:55.380411Z"
    },
    "papermill": {
     "duration": 0.145181,
     "end_time": "2020-04-28T12:16:55.380545",
     "exception": false,
     "start_time": "2020-04-28T12:16:55.235364",
     "status": "completed"
    },
    "tags": []
   },
   "outputs": [
    {
     "data": {
      "text/html": [
       "\n",
       "<div id=\"altair-viz-7f705c947a0641aa8e492c192246549b\"></div>\n",
       "<script type=\"text/javascript\">\n",
       "  (function(spec, embedOpt){\n",
       "    let outputDiv = document.currentScript.previousElementSibling;\n",
       "    if (outputDiv.id !== \"altair-viz-7f705c947a0641aa8e492c192246549b\") {\n",
       "      outputDiv = document.getElementById(\"altair-viz-7f705c947a0641aa8e492c192246549b\");\n",
       "    }\n",
       "    const paths = {\n",
       "      \"vega\": \"https://cdn.jsdelivr.net/npm//vega@5?noext\",\n",
       "      \"vega-lib\": \"https://cdn.jsdelivr.net/npm//vega-lib?noext\",\n",
       "      \"vega-lite\": \"https://cdn.jsdelivr.net/npm//vega-lite@4.8.1?noext\",\n",
       "      \"vega-embed\": \"https://cdn.jsdelivr.net/npm//vega-embed@6?noext\",\n",
       "    };\n",
       "\n",
       "    function loadScript(lib) {\n",
       "      return new Promise(function(resolve, reject) {\n",
       "        var s = document.createElement('script');\n",
       "        s.src = paths[lib];\n",
       "        s.async = true;\n",
       "        s.onload = () => resolve(paths[lib]);\n",
       "        s.onerror = () => reject(`Error loading script: ${paths[lib]}`);\n",
       "        document.getElementsByTagName(\"head\")[0].appendChild(s);\n",
       "      });\n",
       "    }\n",
       "\n",
       "    function showError(err) {\n",
       "      outputDiv.innerHTML = `<div class=\"error\" style=\"color:red;\">${err}</div>`;\n",
       "      throw err;\n",
       "    }\n",
       "\n",
       "    function displayChart(vegaEmbed) {\n",
       "      vegaEmbed(outputDiv, spec, embedOpt)\n",
       "        .catch(err => showError(`Javascript Error: ${err.message}<br>This usually means there's a typo in your chart specification. See the javascript console for the full traceback.`));\n",
       "    }\n",
       "\n",
       "    if(typeof define === \"function\" && define.amd) {\n",
       "      requirejs.config({paths});\n",
       "      require([\"vega-embed\"], displayChart, err => showError(`Error loading script: ${err.message}`));\n",
       "    } else if (typeof vegaEmbed === \"function\") {\n",
       "      displayChart(vegaEmbed);\n",
       "    } else {\n",
       "      loadScript(\"vega\")\n",
       "        .then(() => loadScript(\"vega-lite\"))\n",
       "        .then(() => loadScript(\"vega-embed\"))\n",
       "        .catch(showError)\n",
       "        .then(() => displayChart(vegaEmbed));\n",
       "    }\n",
       "  })({\"config\": {\"view\": {\"continuousWidth\": 400, \"continuousHeight\": 300}}, \"layer\": [{\"mark\": {\"type\": \"bar\", \"color\": \"firebrick\", \"opacity\": 0.7}, \"encoding\": {\"opacity\": {\"type\": \"nominal\", \"field\": \"Daily confirmed deaths\", \"legend\": {\"title\": \"\"}}, \"tooltip\": [{\"type\": \"nominal\", \"field\": \"Dates\"}, {\"type\": \"quantitative\", \"field\": \"New_deaths\"}], \"x\": {\"type\": \"nominal\", \"axis\": {\"title\": \"Date\"}, \"field\": \"Dates\"}, \"y\": {\"type\": \"quantitative\", \"axis\": {\"title\": \"Daily confirmed deaths\"}, \"field\": \"New_deaths\"}}}, {\"mark\": {\"type\": \"line\", \"color\": \"firebrick\", \"point\": {\"filled\": true, \"fill\": \"firebrick\"}}, \"encoding\": {\"shape\": {\"type\": \"nominal\", \"field\": \"7-day rolling average\", \"legend\": {\"title\": \"\"}}, \"x\": {\"type\": \"nominal\", \"axis\": {\"title\": \"Date\"}, \"field\": \"Dates\"}, \"y\": {\"type\": \"quantitative\", \"field\": \"Rolling\"}}}], \"data\": {\"name\": \"data-89564600f842dbd2546063583189a8b0\"}, \"title\": \"COVID-19 in Chile: Daily confirmed deaths in Atacama\", \"width\": 600, \"$schema\": \"https://vega.github.io/schema/vega-lite/v4.8.1.json\", \"datasets\": {\"data-89564600f842dbd2546063583189a8b0\": [{\"Dates\": \"2020-03-25\", \"New_deaths\": 0, \"Rolling\": null, \"Daily confirmed deaths\": \"Daily confirmed deaths\", \"7-day rolling average\": \"7-day rolling average\"}, {\"Dates\": \"2020-03-26\", \"New_deaths\": 0, \"Rolling\": null, \"Daily confirmed deaths\": \"Daily confirmed deaths\", \"7-day rolling average\": \"7-day rolling average\"}, {\"Dates\": \"2020-03-27\", \"New_deaths\": 0, \"Rolling\": null, \"Daily confirmed deaths\": \"Daily confirmed deaths\", \"7-day rolling average\": \"7-day rolling average\"}, {\"Dates\": \"2020-03-28\", \"New_deaths\": 0, \"Rolling\": null, \"Daily confirmed deaths\": \"Daily confirmed deaths\", \"7-day rolling average\": \"7-day rolling average\"}, {\"Dates\": \"2020-03-29\", \"New_deaths\": 0, \"Rolling\": null, \"Daily confirmed deaths\": \"Daily confirmed deaths\", \"7-day rolling average\": \"7-day rolling average\"}, {\"Dates\": \"2020-03-30\", \"New_deaths\": 0, \"Rolling\": null, \"Daily confirmed deaths\": \"Daily confirmed deaths\", \"7-day rolling average\": \"7-day rolling average\"}, {\"Dates\": \"2020-03-31\", \"New_deaths\": 0, \"Rolling\": 0.0, \"Daily confirmed deaths\": \"Daily confirmed deaths\", \"7-day rolling average\": \"7-day rolling average\"}, {\"Dates\": \"2020-04-01\", \"New_deaths\": 0, \"Rolling\": 0.0, \"Daily confirmed deaths\": \"Daily confirmed deaths\", \"7-day rolling average\": \"7-day rolling average\"}, {\"Dates\": \"2020-04-02\", \"New_deaths\": 0, \"Rolling\": 0.0, \"Daily confirmed deaths\": \"Daily confirmed deaths\", \"7-day rolling average\": \"7-day rolling average\"}, {\"Dates\": \"2020-04-03\", \"New_deaths\": 0, \"Rolling\": 0.0, \"Daily confirmed deaths\": \"Daily confirmed deaths\", \"7-day rolling average\": \"7-day rolling average\"}, {\"Dates\": \"2020-04-04\", \"New_deaths\": 0, \"Rolling\": 0.0, \"Daily confirmed deaths\": \"Daily confirmed deaths\", \"7-day rolling average\": \"7-day rolling average\"}, {\"Dates\": \"2020-04-05\", \"New_deaths\": 0, \"Rolling\": 0.0, \"Daily confirmed deaths\": \"Daily confirmed deaths\", \"7-day rolling average\": \"7-day rolling average\"}, {\"Dates\": \"2020-04-06\", \"New_deaths\": 0, \"Rolling\": 0.0, \"Daily confirmed deaths\": \"Daily confirmed deaths\", \"7-day rolling average\": \"7-day rolling average\"}, {\"Dates\": \"2020-04-07\", \"New_deaths\": 0, \"Rolling\": 0.0, \"Daily confirmed deaths\": \"Daily confirmed deaths\", \"7-day rolling average\": \"7-day rolling average\"}, {\"Dates\": \"2020-04-08\", \"New_deaths\": 0, \"Rolling\": 0.0, \"Daily confirmed deaths\": \"Daily confirmed deaths\", \"7-day rolling average\": \"7-day rolling average\"}, {\"Dates\": \"2020-04-09\", \"New_deaths\": 0, \"Rolling\": 0.0, \"Daily confirmed deaths\": \"Daily confirmed deaths\", \"7-day rolling average\": \"7-day rolling average\"}, {\"Dates\": \"2020-04-10\", \"New_deaths\": 0, \"Rolling\": 0.0, \"Daily confirmed deaths\": \"Daily confirmed deaths\", \"7-day rolling average\": \"7-day rolling average\"}, {\"Dates\": \"2020-04-11\", \"New_deaths\": 0, \"Rolling\": 0.0, \"Daily confirmed deaths\": \"Daily confirmed deaths\", \"7-day rolling average\": \"7-day rolling average\"}, {\"Dates\": \"2020-04-12\", \"New_deaths\": 0, \"Rolling\": 0.0, \"Daily confirmed deaths\": \"Daily confirmed deaths\", \"7-day rolling average\": \"7-day rolling average\"}, {\"Dates\": \"2020-04-13\", \"New_deaths\": 0, \"Rolling\": 0.0, \"Daily confirmed deaths\": \"Daily confirmed deaths\", \"7-day rolling average\": \"7-day rolling average\"}, {\"Dates\": \"2020-04-14\", \"New_deaths\": 0, \"Rolling\": 0.0, \"Daily confirmed deaths\": \"Daily confirmed deaths\", \"7-day rolling average\": \"7-day rolling average\"}, {\"Dates\": \"2020-04-15\", \"New_deaths\": 0, \"Rolling\": 0.0, \"Daily confirmed deaths\": \"Daily confirmed deaths\", \"7-day rolling average\": \"7-day rolling average\"}, {\"Dates\": \"2020-04-16\", \"New_deaths\": 0, \"Rolling\": 0.0, \"Daily confirmed deaths\": \"Daily confirmed deaths\", \"7-day rolling average\": \"7-day rolling average\"}, {\"Dates\": \"2020-04-17\", \"New_deaths\": 0, \"Rolling\": 0.0, \"Daily confirmed deaths\": \"Daily confirmed deaths\", \"7-day rolling average\": \"7-day rolling average\"}, {\"Dates\": \"2020-04-18\", \"New_deaths\": 0, \"Rolling\": 0.0, \"Daily confirmed deaths\": \"Daily confirmed deaths\", \"7-day rolling average\": \"7-day rolling average\"}, {\"Dates\": \"2020-04-19\", \"New_deaths\": 0, \"Rolling\": 0.0, \"Daily confirmed deaths\": \"Daily confirmed deaths\", \"7-day rolling average\": \"7-day rolling average\"}, {\"Dates\": \"2020-04-20\", \"New_deaths\": 0, \"Rolling\": 0.0, \"Daily confirmed deaths\": \"Daily confirmed deaths\", \"7-day rolling average\": \"7-day rolling average\"}, {\"Dates\": \"2020-04-21\", \"New_deaths\": 0, \"Rolling\": 0.0, \"Daily confirmed deaths\": \"Daily confirmed deaths\", \"7-day rolling average\": \"7-day rolling average\"}, {\"Dates\": \"2020-04-22\", \"New_deaths\": 0, \"Rolling\": 0.0, \"Daily confirmed deaths\": \"Daily confirmed deaths\", \"7-day rolling average\": \"7-day rolling average\"}, {\"Dates\": \"2020-04-23\", \"New_deaths\": 0, \"Rolling\": 0.0, \"Daily confirmed deaths\": \"Daily confirmed deaths\", \"7-day rolling average\": \"7-day rolling average\"}, {\"Dates\": \"2020-04-24\", \"New_deaths\": 0, \"Rolling\": 0.0, \"Daily confirmed deaths\": \"Daily confirmed deaths\", \"7-day rolling average\": \"7-day rolling average\"}, {\"Dates\": \"2020-04-25\", \"New_deaths\": 0, \"Rolling\": 0.0, \"Daily confirmed deaths\": \"Daily confirmed deaths\", \"7-day rolling average\": \"7-day rolling average\"}, {\"Dates\": \"2020-04-26\", \"New_deaths\": 0, \"Rolling\": 0.0, \"Daily confirmed deaths\": \"Daily confirmed deaths\", \"7-day rolling average\": \"7-day rolling average\"}, {\"Dates\": \"2020-04-27\", \"New_deaths\": 0, \"Rolling\": 0.0, \"Daily confirmed deaths\": \"Daily confirmed deaths\", \"7-day rolling average\": \"7-day rolling average\"}]}}, {\"mode\": \"vega-lite\"});\n",
       "</script>"
      ],
      "text/plain": [
       "alt.LayerChart(...)"
      ]
     },
     "execution_count": 82,
     "metadata": {},
     "output_type": "execute_result"
    }
   ],
   "source": [
    "#hide_input\n",
    "bars, line = my_deaths_plot(region)\n",
    "(bars + line).properties(\n",
    "    title=f'COVID-19 in Chile: Daily confirmed deaths in {region}',\n",
    "    width=600\n",
    ")"
   ]
  },
  {
   "cell_type": "markdown",
   "metadata": {
    "papermill": {
     "duration": 0.097253,
     "end_time": "2020-04-28T12:16:55.575303",
     "exception": false,
     "start_time": "2020-04-28T12:16:55.478050",
     "status": "completed"
    },
    "tags": []
   },
   "source": [
    "## Coquimbo"
   ]
  },
  {
   "cell_type": "code",
   "execution_count": 83,
   "metadata": {
    "execution": {
     "iopub.execute_input": "2020-04-28T12:16:55.777914Z",
     "iopub.status.busy": "2020-04-28T12:16:55.777314Z",
     "iopub.status.idle": "2020-04-28T12:16:55.779841Z",
     "shell.execute_reply": "2020-04-28T12:16:55.779324Z"
    },
    "papermill": {
     "duration": 0.107636,
     "end_time": "2020-04-28T12:16:55.779948",
     "exception": false,
     "start_time": "2020-04-28T12:16:55.672312",
     "status": "completed"
    },
    "scrolled": true,
    "tags": []
   },
   "outputs": [],
   "source": [
    "#hide\n",
    "region = \"Coquimbo\""
   ]
  },
  {
   "cell_type": "code",
   "execution_count": 84,
   "metadata": {
    "execution": {
     "iopub.execute_input": "2020-04-28T12:16:55.994334Z",
     "iopub.status.busy": "2020-04-28T12:16:55.993722Z",
     "iopub.status.idle": "2020-04-28T12:16:56.023328Z",
     "shell.execute_reply": "2020-04-28T12:16:56.024165Z"
    },
    "papermill": {
     "duration": 0.146456,
     "end_time": "2020-04-28T12:16:56.024368",
     "exception": false,
     "start_time": "2020-04-28T12:16:55.877912",
     "status": "completed"
    },
    "tags": []
   },
   "outputs": [
    {
     "data": {
      "text/html": [
       "\n",
       "<div id=\"altair-viz-6f2f3becc08a46e88405de0d33c4dd08\"></div>\n",
       "<script type=\"text/javascript\">\n",
       "  (function(spec, embedOpt){\n",
       "    let outputDiv = document.currentScript.previousElementSibling;\n",
       "    if (outputDiv.id !== \"altair-viz-6f2f3becc08a46e88405de0d33c4dd08\") {\n",
       "      outputDiv = document.getElementById(\"altair-viz-6f2f3becc08a46e88405de0d33c4dd08\");\n",
       "    }\n",
       "    const paths = {\n",
       "      \"vega\": \"https://cdn.jsdelivr.net/npm//vega@5?noext\",\n",
       "      \"vega-lib\": \"https://cdn.jsdelivr.net/npm//vega-lib?noext\",\n",
       "      \"vega-lite\": \"https://cdn.jsdelivr.net/npm//vega-lite@4.8.1?noext\",\n",
       "      \"vega-embed\": \"https://cdn.jsdelivr.net/npm//vega-embed@6?noext\",\n",
       "    };\n",
       "\n",
       "    function loadScript(lib) {\n",
       "      return new Promise(function(resolve, reject) {\n",
       "        var s = document.createElement('script');\n",
       "        s.src = paths[lib];\n",
       "        s.async = true;\n",
       "        s.onload = () => resolve(paths[lib]);\n",
       "        s.onerror = () => reject(`Error loading script: ${paths[lib]}`);\n",
       "        document.getElementsByTagName(\"head\")[0].appendChild(s);\n",
       "      });\n",
       "    }\n",
       "\n",
       "    function showError(err) {\n",
       "      outputDiv.innerHTML = `<div class=\"error\" style=\"color:red;\">${err}</div>`;\n",
       "      throw err;\n",
       "    }\n",
       "\n",
       "    function displayChart(vegaEmbed) {\n",
       "      vegaEmbed(outputDiv, spec, embedOpt)\n",
       "        .catch(err => showError(`Javascript Error: ${err.message}<br>This usually means there's a typo in your chart specification. See the javascript console for the full traceback.`));\n",
       "    }\n",
       "\n",
       "    if(typeof define === \"function\" && define.amd) {\n",
       "      requirejs.config({paths});\n",
       "      require([\"vega-embed\"], displayChart, err => showError(`Error loading script: ${err.message}`));\n",
       "    } else if (typeof vegaEmbed === \"function\") {\n",
       "      displayChart(vegaEmbed);\n",
       "    } else {\n",
       "      loadScript(\"vega\")\n",
       "        .then(() => loadScript(\"vega-lite\"))\n",
       "        .then(() => loadScript(\"vega-embed\"))\n",
       "        .catch(showError)\n",
       "        .then(() => displayChart(vegaEmbed));\n",
       "    }\n",
       "  })({\"config\": {\"view\": {\"continuousWidth\": 400, \"continuousHeight\": 300}}, \"layer\": [{\"mark\": {\"type\": \"bar\", \"color\": \"firebrick\", \"opacity\": 0.7}, \"encoding\": {\"opacity\": {\"type\": \"nominal\", \"field\": \"Daily confirmed deaths\", \"legend\": {\"title\": \"\"}}, \"tooltip\": [{\"type\": \"nominal\", \"field\": \"Dates\"}, {\"type\": \"quantitative\", \"field\": \"New_deaths\"}], \"x\": {\"type\": \"nominal\", \"axis\": {\"title\": \"Date\"}, \"field\": \"Dates\"}, \"y\": {\"type\": \"quantitative\", \"axis\": {\"title\": \"Daily confirmed deaths\"}, \"field\": \"New_deaths\"}}}, {\"mark\": {\"type\": \"line\", \"color\": \"firebrick\", \"point\": {\"filled\": true, \"fill\": \"firebrick\"}}, \"encoding\": {\"shape\": {\"type\": \"nominal\", \"field\": \"7-day rolling average\", \"legend\": {\"title\": \"\"}}, \"x\": {\"type\": \"nominal\", \"axis\": {\"title\": \"Date\"}, \"field\": \"Dates\"}, \"y\": {\"type\": \"quantitative\", \"field\": \"Rolling\"}}}], \"data\": {\"name\": \"data-89564600f842dbd2546063583189a8b0\"}, \"title\": \"COVID-19 in Chile: Daily confirmed deaths in Coquimbo\", \"width\": 600, \"$schema\": \"https://vega.github.io/schema/vega-lite/v4.8.1.json\", \"datasets\": {\"data-89564600f842dbd2546063583189a8b0\": [{\"Dates\": \"2020-03-25\", \"New_deaths\": 0, \"Rolling\": null, \"Daily confirmed deaths\": \"Daily confirmed deaths\", \"7-day rolling average\": \"7-day rolling average\"}, {\"Dates\": \"2020-03-26\", \"New_deaths\": 0, \"Rolling\": null, \"Daily confirmed deaths\": \"Daily confirmed deaths\", \"7-day rolling average\": \"7-day rolling average\"}, {\"Dates\": \"2020-03-27\", \"New_deaths\": 0, \"Rolling\": null, \"Daily confirmed deaths\": \"Daily confirmed deaths\", \"7-day rolling average\": \"7-day rolling average\"}, {\"Dates\": \"2020-03-28\", \"New_deaths\": 0, \"Rolling\": null, \"Daily confirmed deaths\": \"Daily confirmed deaths\", \"7-day rolling average\": \"7-day rolling average\"}, {\"Dates\": \"2020-03-29\", \"New_deaths\": 0, \"Rolling\": null, \"Daily confirmed deaths\": \"Daily confirmed deaths\", \"7-day rolling average\": \"7-day rolling average\"}, {\"Dates\": \"2020-03-30\", \"New_deaths\": 0, \"Rolling\": null, \"Daily confirmed deaths\": \"Daily confirmed deaths\", \"7-day rolling average\": \"7-day rolling average\"}, {\"Dates\": \"2020-03-31\", \"New_deaths\": 0, \"Rolling\": 0.0, \"Daily confirmed deaths\": \"Daily confirmed deaths\", \"7-day rolling average\": \"7-day rolling average\"}, {\"Dates\": \"2020-04-01\", \"New_deaths\": 0, \"Rolling\": 0.0, \"Daily confirmed deaths\": \"Daily confirmed deaths\", \"7-day rolling average\": \"7-day rolling average\"}, {\"Dates\": \"2020-04-02\", \"New_deaths\": 0, \"Rolling\": 0.0, \"Daily confirmed deaths\": \"Daily confirmed deaths\", \"7-day rolling average\": \"7-day rolling average\"}, {\"Dates\": \"2020-04-03\", \"New_deaths\": 0, \"Rolling\": 0.0, \"Daily confirmed deaths\": \"Daily confirmed deaths\", \"7-day rolling average\": \"7-day rolling average\"}, {\"Dates\": \"2020-04-04\", \"New_deaths\": 0, \"Rolling\": 0.0, \"Daily confirmed deaths\": \"Daily confirmed deaths\", \"7-day rolling average\": \"7-day rolling average\"}, {\"Dates\": \"2020-04-05\", \"New_deaths\": 0, \"Rolling\": 0.0, \"Daily confirmed deaths\": \"Daily confirmed deaths\", \"7-day rolling average\": \"7-day rolling average\"}, {\"Dates\": \"2020-04-06\", \"New_deaths\": 0, \"Rolling\": 0.0, \"Daily confirmed deaths\": \"Daily confirmed deaths\", \"7-day rolling average\": \"7-day rolling average\"}, {\"Dates\": \"2020-04-07\", \"New_deaths\": 0, \"Rolling\": 0.0, \"Daily confirmed deaths\": \"Daily confirmed deaths\", \"7-day rolling average\": \"7-day rolling average\"}, {\"Dates\": \"2020-04-08\", \"New_deaths\": 0, \"Rolling\": 0.0, \"Daily confirmed deaths\": \"Daily confirmed deaths\", \"7-day rolling average\": \"7-day rolling average\"}, {\"Dates\": \"2020-04-09\", \"New_deaths\": 0, \"Rolling\": 0.0, \"Daily confirmed deaths\": \"Daily confirmed deaths\", \"7-day rolling average\": \"7-day rolling average\"}, {\"Dates\": \"2020-04-10\", \"New_deaths\": 0, \"Rolling\": 0.0, \"Daily confirmed deaths\": \"Daily confirmed deaths\", \"7-day rolling average\": \"7-day rolling average\"}, {\"Dates\": \"2020-04-11\", \"New_deaths\": 0, \"Rolling\": 0.0, \"Daily confirmed deaths\": \"Daily confirmed deaths\", \"7-day rolling average\": \"7-day rolling average\"}, {\"Dates\": \"2020-04-12\", \"New_deaths\": 0, \"Rolling\": 0.0, \"Daily confirmed deaths\": \"Daily confirmed deaths\", \"7-day rolling average\": \"7-day rolling average\"}, {\"Dates\": \"2020-04-13\", \"New_deaths\": 0, \"Rolling\": 0.0, \"Daily confirmed deaths\": \"Daily confirmed deaths\", \"7-day rolling average\": \"7-day rolling average\"}, {\"Dates\": \"2020-04-14\", \"New_deaths\": 0, \"Rolling\": 0.0, \"Daily confirmed deaths\": \"Daily confirmed deaths\", \"7-day rolling average\": \"7-day rolling average\"}, {\"Dates\": \"2020-04-15\", \"New_deaths\": 0, \"Rolling\": 0.0, \"Daily confirmed deaths\": \"Daily confirmed deaths\", \"7-day rolling average\": \"7-day rolling average\"}, {\"Dates\": \"2020-04-16\", \"New_deaths\": 0, \"Rolling\": 0.0, \"Daily confirmed deaths\": \"Daily confirmed deaths\", \"7-day rolling average\": \"7-day rolling average\"}, {\"Dates\": \"2020-04-17\", \"New_deaths\": 0, \"Rolling\": 0.0, \"Daily confirmed deaths\": \"Daily confirmed deaths\", \"7-day rolling average\": \"7-day rolling average\"}, {\"Dates\": \"2020-04-18\", \"New_deaths\": 0, \"Rolling\": 0.0, \"Daily confirmed deaths\": \"Daily confirmed deaths\", \"7-day rolling average\": \"7-day rolling average\"}, {\"Dates\": \"2020-04-19\", \"New_deaths\": 0, \"Rolling\": 0.0, \"Daily confirmed deaths\": \"Daily confirmed deaths\", \"7-day rolling average\": \"7-day rolling average\"}, {\"Dates\": \"2020-04-20\", \"New_deaths\": 0, \"Rolling\": 0.0, \"Daily confirmed deaths\": \"Daily confirmed deaths\", \"7-day rolling average\": \"7-day rolling average\"}, {\"Dates\": \"2020-04-21\", \"New_deaths\": 0, \"Rolling\": 0.0, \"Daily confirmed deaths\": \"Daily confirmed deaths\", \"7-day rolling average\": \"7-day rolling average\"}, {\"Dates\": \"2020-04-22\", \"New_deaths\": 0, \"Rolling\": 0.0, \"Daily confirmed deaths\": \"Daily confirmed deaths\", \"7-day rolling average\": \"7-day rolling average\"}, {\"Dates\": \"2020-04-23\", \"New_deaths\": 0, \"Rolling\": 0.0, \"Daily confirmed deaths\": \"Daily confirmed deaths\", \"7-day rolling average\": \"7-day rolling average\"}, {\"Dates\": \"2020-04-24\", \"New_deaths\": 0, \"Rolling\": 0.0, \"Daily confirmed deaths\": \"Daily confirmed deaths\", \"7-day rolling average\": \"7-day rolling average\"}, {\"Dates\": \"2020-04-25\", \"New_deaths\": 0, \"Rolling\": 0.0, \"Daily confirmed deaths\": \"Daily confirmed deaths\", \"7-day rolling average\": \"7-day rolling average\"}, {\"Dates\": \"2020-04-26\", \"New_deaths\": 0, \"Rolling\": 0.0, \"Daily confirmed deaths\": \"Daily confirmed deaths\", \"7-day rolling average\": \"7-day rolling average\"}, {\"Dates\": \"2020-04-27\", \"New_deaths\": 0, \"Rolling\": 0.0, \"Daily confirmed deaths\": \"Daily confirmed deaths\", \"7-day rolling average\": \"7-day rolling average\"}]}}, {\"mode\": \"vega-lite\"});\n",
       "</script>"
      ],
      "text/plain": [
       "alt.LayerChart(...)"
      ]
     },
     "execution_count": 84,
     "metadata": {},
     "output_type": "execute_result"
    }
   ],
   "source": [
    "#hide_input\n",
    "bars, line = my_deaths_plot(region)\n",
    "(bars + line).properties(\n",
    "    title=f'COVID-19 in Chile: Daily confirmed deaths in {region}',\n",
    "    width=600\n",
    ")"
   ]
  },
  {
   "cell_type": "markdown",
   "metadata": {
    "papermill": {
     "duration": 0.098711,
     "end_time": "2020-04-28T12:16:56.220598",
     "exception": false,
     "start_time": "2020-04-28T12:16:56.121887",
     "status": "completed"
    },
    "tags": []
   },
   "source": [
    "## Valparaíso"
   ]
  },
  {
   "cell_type": "code",
   "execution_count": 85,
   "metadata": {
    "execution": {
     "iopub.execute_input": "2020-04-28T12:16:56.426522Z",
     "iopub.status.busy": "2020-04-28T12:16:56.425891Z",
     "iopub.status.idle": "2020-04-28T12:16:56.427781Z",
     "shell.execute_reply": "2020-04-28T12:16:56.428234Z"
    },
    "papermill": {
     "duration": 0.109468,
     "end_time": "2020-04-28T12:16:56.428368",
     "exception": false,
     "start_time": "2020-04-28T12:16:56.318900",
     "status": "completed"
    },
    "scrolled": false,
    "tags": []
   },
   "outputs": [],
   "source": [
    "#hide\n",
    "region = \"Valparaíso\""
   ]
  },
  {
   "cell_type": "code",
   "execution_count": 86,
   "metadata": {
    "execution": {
     "iopub.execute_input": "2020-04-28T12:16:56.661857Z",
     "iopub.status.busy": "2020-04-28T12:16:56.651634Z",
     "iopub.status.idle": "2020-04-28T12:16:56.682624Z",
     "shell.execute_reply": "2020-04-28T12:16:56.690527Z"
    },
    "papermill": {
     "duration": 0.1593,
     "end_time": "2020-04-28T12:16:56.691295",
     "exception": false,
     "start_time": "2020-04-28T12:16:56.531995",
     "status": "completed"
    },
    "tags": []
   },
   "outputs": [
    {
     "data": {
      "text/html": [
       "\n",
       "<div id=\"altair-viz-73bf96b3859a48968fe341c06cff17cf\"></div>\n",
       "<script type=\"text/javascript\">\n",
       "  (function(spec, embedOpt){\n",
       "    let outputDiv = document.currentScript.previousElementSibling;\n",
       "    if (outputDiv.id !== \"altair-viz-73bf96b3859a48968fe341c06cff17cf\") {\n",
       "      outputDiv = document.getElementById(\"altair-viz-73bf96b3859a48968fe341c06cff17cf\");\n",
       "    }\n",
       "    const paths = {\n",
       "      \"vega\": \"https://cdn.jsdelivr.net/npm//vega@5?noext\",\n",
       "      \"vega-lib\": \"https://cdn.jsdelivr.net/npm//vega-lib?noext\",\n",
       "      \"vega-lite\": \"https://cdn.jsdelivr.net/npm//vega-lite@4.8.1?noext\",\n",
       "      \"vega-embed\": \"https://cdn.jsdelivr.net/npm//vega-embed@6?noext\",\n",
       "    };\n",
       "\n",
       "    function loadScript(lib) {\n",
       "      return new Promise(function(resolve, reject) {\n",
       "        var s = document.createElement('script');\n",
       "        s.src = paths[lib];\n",
       "        s.async = true;\n",
       "        s.onload = () => resolve(paths[lib]);\n",
       "        s.onerror = () => reject(`Error loading script: ${paths[lib]}`);\n",
       "        document.getElementsByTagName(\"head\")[0].appendChild(s);\n",
       "      });\n",
       "    }\n",
       "\n",
       "    function showError(err) {\n",
       "      outputDiv.innerHTML = `<div class=\"error\" style=\"color:red;\">${err}</div>`;\n",
       "      throw err;\n",
       "    }\n",
       "\n",
       "    function displayChart(vegaEmbed) {\n",
       "      vegaEmbed(outputDiv, spec, embedOpt)\n",
       "        .catch(err => showError(`Javascript Error: ${err.message}<br>This usually means there's a typo in your chart specification. See the javascript console for the full traceback.`));\n",
       "    }\n",
       "\n",
       "    if(typeof define === \"function\" && define.amd) {\n",
       "      requirejs.config({paths});\n",
       "      require([\"vega-embed\"], displayChart, err => showError(`Error loading script: ${err.message}`));\n",
       "    } else if (typeof vegaEmbed === \"function\") {\n",
       "      displayChart(vegaEmbed);\n",
       "    } else {\n",
       "      loadScript(\"vega\")\n",
       "        .then(() => loadScript(\"vega-lite\"))\n",
       "        .then(() => loadScript(\"vega-embed\"))\n",
       "        .catch(showError)\n",
       "        .then(() => displayChart(vegaEmbed));\n",
       "    }\n",
       "  })({\"config\": {\"view\": {\"continuousWidth\": 400, \"continuousHeight\": 300}}, \"layer\": [{\"mark\": {\"type\": \"bar\", \"color\": \"firebrick\", \"opacity\": 0.7}, \"encoding\": {\"opacity\": {\"type\": \"nominal\", \"field\": \"Daily confirmed deaths\", \"legend\": {\"title\": \"\"}}, \"tooltip\": [{\"type\": \"nominal\", \"field\": \"Dates\"}, {\"type\": \"quantitative\", \"field\": \"New_deaths\"}], \"x\": {\"type\": \"nominal\", \"axis\": {\"title\": \"Date\"}, \"field\": \"Dates\"}, \"y\": {\"type\": \"quantitative\", \"axis\": {\"title\": \"Daily confirmed deaths\"}, \"field\": \"New_deaths\"}}}, {\"mark\": {\"type\": \"line\", \"color\": \"firebrick\", \"point\": {\"filled\": true, \"fill\": \"firebrick\"}}, \"encoding\": {\"shape\": {\"type\": \"nominal\", \"field\": \"7-day rolling average\", \"legend\": {\"title\": \"\"}}, \"x\": {\"type\": \"nominal\", \"axis\": {\"title\": \"Date\"}, \"field\": \"Dates\"}, \"y\": {\"type\": \"quantitative\", \"field\": \"Rolling\"}}}], \"data\": {\"name\": \"data-3ccbbd59cd3afed9b55bd90806fed201\"}, \"title\": \"COVID-19 in Chile: Daily confirmed deaths in Valpara\\u00edso\", \"width\": 600, \"$schema\": \"https://vega.github.io/schema/vega-lite/v4.8.1.json\", \"datasets\": {\"data-3ccbbd59cd3afed9b55bd90806fed201\": [{\"Dates\": \"2020-03-25\", \"New_deaths\": 0, \"Rolling\": null, \"Daily confirmed deaths\": \"Daily confirmed deaths\", \"7-day rolling average\": \"7-day rolling average\"}, {\"Dates\": \"2020-03-26\", \"New_deaths\": 0, \"Rolling\": null, \"Daily confirmed deaths\": \"Daily confirmed deaths\", \"7-day rolling average\": \"7-day rolling average\"}, {\"Dates\": \"2020-03-27\", \"New_deaths\": 0, \"Rolling\": null, \"Daily confirmed deaths\": \"Daily confirmed deaths\", \"7-day rolling average\": \"7-day rolling average\"}, {\"Dates\": \"2020-03-28\", \"New_deaths\": 0, \"Rolling\": null, \"Daily confirmed deaths\": \"Daily confirmed deaths\", \"7-day rolling average\": \"7-day rolling average\"}, {\"Dates\": \"2020-03-29\", \"New_deaths\": 0, \"Rolling\": null, \"Daily confirmed deaths\": \"Daily confirmed deaths\", \"7-day rolling average\": \"7-day rolling average\"}, {\"Dates\": \"2020-03-30\", \"New_deaths\": 0, \"Rolling\": null, \"Daily confirmed deaths\": \"Daily confirmed deaths\", \"7-day rolling average\": \"7-day rolling average\"}, {\"Dates\": \"2020-03-31\", \"New_deaths\": 1, \"Rolling\": 0.14285714285714285, \"Daily confirmed deaths\": \"Daily confirmed deaths\", \"7-day rolling average\": \"7-day rolling average\"}, {\"Dates\": \"2020-04-01\", \"New_deaths\": 0, \"Rolling\": 0.14285714285714285, \"Daily confirmed deaths\": \"Daily confirmed deaths\", \"7-day rolling average\": \"7-day rolling average\"}, {\"Dates\": \"2020-04-02\", \"New_deaths\": 0, \"Rolling\": 0.14285714285714285, \"Daily confirmed deaths\": \"Daily confirmed deaths\", \"7-day rolling average\": \"7-day rolling average\"}, {\"Dates\": \"2020-04-03\", \"New_deaths\": 0, \"Rolling\": 0.14285714285714285, \"Daily confirmed deaths\": \"Daily confirmed deaths\", \"7-day rolling average\": \"7-day rolling average\"}, {\"Dates\": \"2020-04-04\", \"New_deaths\": 0, \"Rolling\": 0.14285714285714285, \"Daily confirmed deaths\": \"Daily confirmed deaths\", \"7-day rolling average\": \"7-day rolling average\"}, {\"Dates\": \"2020-04-05\", \"New_deaths\": 0, \"Rolling\": 0.14285714285714285, \"Daily confirmed deaths\": \"Daily confirmed deaths\", \"7-day rolling average\": \"7-day rolling average\"}, {\"Dates\": \"2020-04-06\", \"New_deaths\": 0, \"Rolling\": 0.14285714285714285, \"Daily confirmed deaths\": \"Daily confirmed deaths\", \"7-day rolling average\": \"7-day rolling average\"}, {\"Dates\": \"2020-04-07\", \"New_deaths\": 0, \"Rolling\": 0.0, \"Daily confirmed deaths\": \"Daily confirmed deaths\", \"7-day rolling average\": \"7-day rolling average\"}, {\"Dates\": \"2020-04-08\", \"New_deaths\": 1, \"Rolling\": 0.14285714285714285, \"Daily confirmed deaths\": \"Daily confirmed deaths\", \"7-day rolling average\": \"7-day rolling average\"}, {\"Dates\": \"2020-04-09\", \"New_deaths\": 0, \"Rolling\": 0.14285714285714285, \"Daily confirmed deaths\": \"Daily confirmed deaths\", \"7-day rolling average\": \"7-day rolling average\"}, {\"Dates\": \"2020-04-10\", \"New_deaths\": 0, \"Rolling\": 0.14285714285714285, \"Daily confirmed deaths\": \"Daily confirmed deaths\", \"7-day rolling average\": \"7-day rolling average\"}, {\"Dates\": \"2020-04-11\", \"New_deaths\": 0, \"Rolling\": 0.14285714285714285, \"Daily confirmed deaths\": \"Daily confirmed deaths\", \"7-day rolling average\": \"7-day rolling average\"}, {\"Dates\": \"2020-04-12\", \"New_deaths\": 0, \"Rolling\": 0.14285714285714285, \"Daily confirmed deaths\": \"Daily confirmed deaths\", \"7-day rolling average\": \"7-day rolling average\"}, {\"Dates\": \"2020-04-13\", \"New_deaths\": 0, \"Rolling\": 0.14285714285714285, \"Daily confirmed deaths\": \"Daily confirmed deaths\", \"7-day rolling average\": \"7-day rolling average\"}, {\"Dates\": \"2020-04-14\", \"New_deaths\": 0, \"Rolling\": 0.14285714285714285, \"Daily confirmed deaths\": \"Daily confirmed deaths\", \"7-day rolling average\": \"7-day rolling average\"}, {\"Dates\": \"2020-04-15\", \"New_deaths\": 0, \"Rolling\": 0.0, \"Daily confirmed deaths\": \"Daily confirmed deaths\", \"7-day rolling average\": \"7-day rolling average\"}, {\"Dates\": \"2020-04-16\", \"New_deaths\": 2, \"Rolling\": 0.2857142857142857, \"Daily confirmed deaths\": \"Daily confirmed deaths\", \"7-day rolling average\": \"7-day rolling average\"}, {\"Dates\": \"2020-04-17\", \"New_deaths\": 0, \"Rolling\": 0.2857142857142857, \"Daily confirmed deaths\": \"Daily confirmed deaths\", \"7-day rolling average\": \"7-day rolling average\"}, {\"Dates\": \"2020-04-18\", \"New_deaths\": 0, \"Rolling\": 0.2857142857142857, \"Daily confirmed deaths\": \"Daily confirmed deaths\", \"7-day rolling average\": \"7-day rolling average\"}, {\"Dates\": \"2020-04-19\", \"New_deaths\": 1, \"Rolling\": 0.42857142857142855, \"Daily confirmed deaths\": \"Daily confirmed deaths\", \"7-day rolling average\": \"7-day rolling average\"}, {\"Dates\": \"2020-04-20\", \"New_deaths\": 0, \"Rolling\": 0.42857142857142855, \"Daily confirmed deaths\": \"Daily confirmed deaths\", \"7-day rolling average\": \"7-day rolling average\"}, {\"Dates\": \"2020-04-21\", \"New_deaths\": 1, \"Rolling\": 0.5714285714285714, \"Daily confirmed deaths\": \"Daily confirmed deaths\", \"7-day rolling average\": \"7-day rolling average\"}, {\"Dates\": \"2020-04-22\", \"New_deaths\": 1, \"Rolling\": 0.7142857142857143, \"Daily confirmed deaths\": \"Daily confirmed deaths\", \"7-day rolling average\": \"7-day rolling average\"}, {\"Dates\": \"2020-04-23\", \"New_deaths\": 0, \"Rolling\": 0.42857142857142855, \"Daily confirmed deaths\": \"Daily confirmed deaths\", \"7-day rolling average\": \"7-day rolling average\"}, {\"Dates\": \"2020-04-24\", \"New_deaths\": 1, \"Rolling\": 0.5714285714285714, \"Daily confirmed deaths\": \"Daily confirmed deaths\", \"7-day rolling average\": \"7-day rolling average\"}, {\"Dates\": \"2020-04-25\", \"New_deaths\": 1, \"Rolling\": 0.7142857142857143, \"Daily confirmed deaths\": \"Daily confirmed deaths\", \"7-day rolling average\": \"7-day rolling average\"}, {\"Dates\": \"2020-04-26\", \"New_deaths\": 0, \"Rolling\": 0.5714285714285714, \"Daily confirmed deaths\": \"Daily confirmed deaths\", \"7-day rolling average\": \"7-day rolling average\"}, {\"Dates\": \"2020-04-27\", \"New_deaths\": 0, \"Rolling\": 0.5714285714285714, \"Daily confirmed deaths\": \"Daily confirmed deaths\", \"7-day rolling average\": \"7-day rolling average\"}]}}, {\"mode\": \"vega-lite\"});\n",
       "</script>"
      ],
      "text/plain": [
       "alt.LayerChart(...)"
      ]
     },
     "execution_count": 86,
     "metadata": {},
     "output_type": "execute_result"
    }
   ],
   "source": [
    "#hide_input\n",
    "bars, line = my_deaths_plot(region)\n",
    "(bars + line).properties(\n",
    "    title=f'COVID-19 in Chile: Daily confirmed deaths in {region}',\n",
    "    width=600\n",
    ")"
   ]
  },
  {
   "cell_type": "markdown",
   "metadata": {
    "papermill": {
     "duration": 0.098405,
     "end_time": "2020-04-28T12:16:56.892324",
     "exception": false,
     "start_time": "2020-04-28T12:16:56.793919",
     "status": "completed"
    },
    "tags": []
   },
   "source": [
    "## Metropolitana"
   ]
  },
  {
   "cell_type": "code",
   "execution_count": 87,
   "metadata": {
    "execution": {
     "iopub.execute_input": "2020-04-28T12:16:57.095527Z",
     "iopub.status.busy": "2020-04-28T12:16:57.094883Z",
     "iopub.status.idle": "2020-04-28T12:16:57.097767Z",
     "shell.execute_reply": "2020-04-28T12:16:57.097258Z"
    },
    "papermill": {
     "duration": 0.10668,
     "end_time": "2020-04-28T12:16:57.097875",
     "exception": false,
     "start_time": "2020-04-28T12:16:56.991195",
     "status": "completed"
    },
    "scrolled": true,
    "tags": []
   },
   "outputs": [],
   "source": [
    "#hide\n",
    "region = \"Metropolitana\""
   ]
  },
  {
   "cell_type": "code",
   "execution_count": 88,
   "metadata": {
    "execution": {
     "iopub.execute_input": "2020-04-28T12:16:57.323716Z",
     "iopub.status.busy": "2020-04-28T12:16:57.318565Z",
     "iopub.status.idle": "2020-04-28T12:16:57.350109Z",
     "shell.execute_reply": "2020-04-28T12:16:57.349356Z"
    },
    "papermill": {
     "duration": 0.149437,
     "end_time": "2020-04-28T12:16:57.350224",
     "exception": false,
     "start_time": "2020-04-28T12:16:57.200787",
     "status": "completed"
    },
    "tags": []
   },
   "outputs": [
    {
     "data": {
      "text/html": [
       "\n",
       "<div id=\"altair-viz-628b16e2bb1b49c6b165454d99f7d142\"></div>\n",
       "<script type=\"text/javascript\">\n",
       "  (function(spec, embedOpt){\n",
       "    let outputDiv = document.currentScript.previousElementSibling;\n",
       "    if (outputDiv.id !== \"altair-viz-628b16e2bb1b49c6b165454d99f7d142\") {\n",
       "      outputDiv = document.getElementById(\"altair-viz-628b16e2bb1b49c6b165454d99f7d142\");\n",
       "    }\n",
       "    const paths = {\n",
       "      \"vega\": \"https://cdn.jsdelivr.net/npm//vega@5?noext\",\n",
       "      \"vega-lib\": \"https://cdn.jsdelivr.net/npm//vega-lib?noext\",\n",
       "      \"vega-lite\": \"https://cdn.jsdelivr.net/npm//vega-lite@4.8.1?noext\",\n",
       "      \"vega-embed\": \"https://cdn.jsdelivr.net/npm//vega-embed@6?noext\",\n",
       "    };\n",
       "\n",
       "    function loadScript(lib) {\n",
       "      return new Promise(function(resolve, reject) {\n",
       "        var s = document.createElement('script');\n",
       "        s.src = paths[lib];\n",
       "        s.async = true;\n",
       "        s.onload = () => resolve(paths[lib]);\n",
       "        s.onerror = () => reject(`Error loading script: ${paths[lib]}`);\n",
       "        document.getElementsByTagName(\"head\")[0].appendChild(s);\n",
       "      });\n",
       "    }\n",
       "\n",
       "    function showError(err) {\n",
       "      outputDiv.innerHTML = `<div class=\"error\" style=\"color:red;\">${err}</div>`;\n",
       "      throw err;\n",
       "    }\n",
       "\n",
       "    function displayChart(vegaEmbed) {\n",
       "      vegaEmbed(outputDiv, spec, embedOpt)\n",
       "        .catch(err => showError(`Javascript Error: ${err.message}<br>This usually means there's a typo in your chart specification. See the javascript console for the full traceback.`));\n",
       "    }\n",
       "\n",
       "    if(typeof define === \"function\" && define.amd) {\n",
       "      requirejs.config({paths});\n",
       "      require([\"vega-embed\"], displayChart, err => showError(`Error loading script: ${err.message}`));\n",
       "    } else if (typeof vegaEmbed === \"function\") {\n",
       "      displayChart(vegaEmbed);\n",
       "    } else {\n",
       "      loadScript(\"vega\")\n",
       "        .then(() => loadScript(\"vega-lite\"))\n",
       "        .then(() => loadScript(\"vega-embed\"))\n",
       "        .catch(showError)\n",
       "        .then(() => displayChart(vegaEmbed));\n",
       "    }\n",
       "  })({\"config\": {\"view\": {\"continuousWidth\": 400, \"continuousHeight\": 300}}, \"layer\": [{\"mark\": {\"type\": \"bar\", \"color\": \"firebrick\", \"opacity\": 0.7}, \"encoding\": {\"opacity\": {\"type\": \"nominal\", \"field\": \"Daily confirmed deaths\", \"legend\": {\"title\": \"\"}}, \"tooltip\": [{\"type\": \"nominal\", \"field\": \"Dates\"}, {\"type\": \"quantitative\", \"field\": \"New_deaths\"}], \"x\": {\"type\": \"nominal\", \"axis\": {\"title\": \"Date\"}, \"field\": \"Dates\"}, \"y\": {\"type\": \"quantitative\", \"axis\": {\"title\": \"Daily confirmed deaths\"}, \"field\": \"New_deaths\"}}}, {\"mark\": {\"type\": \"line\", \"color\": \"firebrick\", \"point\": {\"filled\": true, \"fill\": \"firebrick\"}}, \"encoding\": {\"shape\": {\"type\": \"nominal\", \"field\": \"7-day rolling average\", \"legend\": {\"title\": \"\"}}, \"x\": {\"type\": \"nominal\", \"axis\": {\"title\": \"Date\"}, \"field\": \"Dates\"}, \"y\": {\"type\": \"quantitative\", \"field\": \"Rolling\"}}}], \"data\": {\"name\": \"data-696474af79d73e1becf80420a186967e\"}, \"title\": \"COVID-19 in Chile: Daily confirmed deaths in Metropolitana\", \"width\": 600, \"$schema\": \"https://vega.github.io/schema/vega-lite/v4.8.1.json\", \"datasets\": {\"data-696474af79d73e1becf80420a186967e\": [{\"Dates\": \"2020-03-25\", \"New_deaths\": 0, \"Rolling\": null, \"Daily confirmed deaths\": \"Daily confirmed deaths\", \"7-day rolling average\": \"7-day rolling average\"}, {\"Dates\": \"2020-03-26\", \"New_deaths\": 1, \"Rolling\": null, \"Daily confirmed deaths\": \"Daily confirmed deaths\", \"7-day rolling average\": \"7-day rolling average\"}, {\"Dates\": \"2020-03-27\", \"New_deaths\": 0, \"Rolling\": null, \"Daily confirmed deaths\": \"Daily confirmed deaths\", \"7-day rolling average\": \"7-day rolling average\"}, {\"Dates\": \"2020-03-28\", \"New_deaths\": 0, \"Rolling\": null, \"Daily confirmed deaths\": \"Daily confirmed deaths\", \"7-day rolling average\": \"7-day rolling average\"}, {\"Dates\": \"2020-03-29\", \"New_deaths\": 0, \"Rolling\": null, \"Daily confirmed deaths\": \"Daily confirmed deaths\", \"7-day rolling average\": \"7-day rolling average\"}, {\"Dates\": \"2020-03-30\", \"New_deaths\": 0, \"Rolling\": null, \"Daily confirmed deaths\": \"Daily confirmed deaths\", \"7-day rolling average\": \"7-day rolling average\"}, {\"Dates\": \"2020-03-31\", \"New_deaths\": 1, \"Rolling\": 0.2857142857142857, \"Daily confirmed deaths\": \"Daily confirmed deaths\", \"7-day rolling average\": \"7-day rolling average\"}, {\"Dates\": \"2020-04-01\", \"New_deaths\": 1, \"Rolling\": 0.42857142857142855, \"Daily confirmed deaths\": \"Daily confirmed deaths\", \"7-day rolling average\": \"7-day rolling average\"}, {\"Dates\": \"2020-04-02\", \"New_deaths\": 1, \"Rolling\": 0.42857142857142855, \"Daily confirmed deaths\": \"Daily confirmed deaths\", \"7-day rolling average\": \"7-day rolling average\"}, {\"Dates\": \"2020-04-03\", \"New_deaths\": 2, \"Rolling\": 0.7142857142857143, \"Daily confirmed deaths\": \"Daily confirmed deaths\", \"7-day rolling average\": \"7-day rolling average\"}, {\"Dates\": \"2020-04-04\", \"New_deaths\": 1, \"Rolling\": 0.8571428571428571, \"Daily confirmed deaths\": \"Daily confirmed deaths\", \"7-day rolling average\": \"7-day rolling average\"}, {\"Dates\": \"2020-04-05\", \"New_deaths\": 1, \"Rolling\": 1.0, \"Daily confirmed deaths\": \"Daily confirmed deaths\", \"7-day rolling average\": \"7-day rolling average\"}, {\"Dates\": \"2020-04-06\", \"New_deaths\": 0, \"Rolling\": 1.0, \"Daily confirmed deaths\": \"Daily confirmed deaths\", \"7-day rolling average\": \"7-day rolling average\"}, {\"Dates\": \"2020-04-07\", \"New_deaths\": 2, \"Rolling\": 1.1428571428571428, \"Daily confirmed deaths\": \"Daily confirmed deaths\", \"7-day rolling average\": \"7-day rolling average\"}, {\"Dates\": \"2020-04-08\", \"New_deaths\": 2, \"Rolling\": 1.2857142857142858, \"Daily confirmed deaths\": \"Daily confirmed deaths\", \"7-day rolling average\": \"7-day rolling average\"}, {\"Dates\": \"2020-04-09\", \"New_deaths\": 7, \"Rolling\": 2.142857142857143, \"Daily confirmed deaths\": \"Daily confirmed deaths\", \"7-day rolling average\": \"7-day rolling average\"}, {\"Dates\": \"2020-04-10\", \"New_deaths\": 8, \"Rolling\": 3.0, \"Daily confirmed deaths\": \"Daily confirmed deaths\", \"7-day rolling average\": \"7-day rolling average\"}, {\"Dates\": \"2020-04-11\", \"New_deaths\": 3, \"Rolling\": 3.2857142857142856, \"Daily confirmed deaths\": \"Daily confirmed deaths\", \"7-day rolling average\": \"7-day rolling average\"}, {\"Dates\": \"2020-04-12\", \"New_deaths\": 3, \"Rolling\": 3.5714285714285716, \"Daily confirmed deaths\": \"Daily confirmed deaths\", \"7-day rolling average\": \"7-day rolling average\"}, {\"Dates\": \"2020-04-13\", \"New_deaths\": 1, \"Rolling\": 3.7142857142857144, \"Daily confirmed deaths\": \"Daily confirmed deaths\", \"7-day rolling average\": \"7-day rolling average\"}, {\"Dates\": \"2020-04-14\", \"New_deaths\": 4, \"Rolling\": 4.0, \"Daily confirmed deaths\": \"Daily confirmed deaths\", \"7-day rolling average\": \"7-day rolling average\"}, {\"Dates\": \"2020-04-15\", \"New_deaths\": 1, \"Rolling\": 3.857142857142857, \"Daily confirmed deaths\": \"Daily confirmed deaths\", \"7-day rolling average\": \"7-day rolling average\"}, {\"Dates\": \"2020-04-16\", \"New_deaths\": 7, \"Rolling\": 3.857142857142857, \"Daily confirmed deaths\": \"Daily confirmed deaths\", \"7-day rolling average\": \"7-day rolling average\"}, {\"Dates\": \"2020-04-17\", \"New_deaths\": 3, \"Rolling\": 3.142857142857143, \"Daily confirmed deaths\": \"Daily confirmed deaths\", \"7-day rolling average\": \"7-day rolling average\"}, {\"Dates\": \"2020-04-18\", \"New_deaths\": 7, \"Rolling\": 3.7142857142857144, \"Daily confirmed deaths\": \"Daily confirmed deaths\", \"7-day rolling average\": \"7-day rolling average\"}, {\"Dates\": \"2020-04-19\", \"New_deaths\": 5, \"Rolling\": 4.0, \"Daily confirmed deaths\": \"Daily confirmed deaths\", \"7-day rolling average\": \"7-day rolling average\"}, {\"Dates\": \"2020-04-20\", \"New_deaths\": 4, \"Rolling\": 4.428571428571429, \"Daily confirmed deaths\": \"Daily confirmed deaths\", \"7-day rolling average\": \"7-day rolling average\"}, {\"Dates\": \"2020-04-21\", \"New_deaths\": 2, \"Rolling\": 4.142857142857143, \"Daily confirmed deaths\": \"Daily confirmed deaths\", \"7-day rolling average\": \"7-day rolling average\"}, {\"Dates\": \"2020-04-22\", \"New_deaths\": 9, \"Rolling\": 5.285714285714286, \"Daily confirmed deaths\": \"Daily confirmed deaths\", \"7-day rolling average\": \"7-day rolling average\"}, {\"Dates\": \"2020-04-23\", \"New_deaths\": 7, \"Rolling\": 5.285714285714286, \"Daily confirmed deaths\": \"Daily confirmed deaths\", \"7-day rolling average\": \"7-day rolling average\"}, {\"Dates\": \"2020-04-24\", \"New_deaths\": 1, \"Rolling\": 5.0, \"Daily confirmed deaths\": \"Daily confirmed deaths\", \"7-day rolling average\": \"7-day rolling average\"}, {\"Dates\": \"2020-04-25\", \"New_deaths\": 3, \"Rolling\": 4.428571428571429, \"Daily confirmed deaths\": \"Daily confirmed deaths\", \"7-day rolling average\": \"7-day rolling average\"}, {\"Dates\": \"2020-04-26\", \"New_deaths\": 2, \"Rolling\": 4.0, \"Daily confirmed deaths\": \"Daily confirmed deaths\", \"7-day rolling average\": \"7-day rolling average\"}, {\"Dates\": \"2020-04-27\", \"New_deaths\": 4, \"Rolling\": 4.0, \"Daily confirmed deaths\": \"Daily confirmed deaths\", \"7-day rolling average\": \"7-day rolling average\"}]}}, {\"mode\": \"vega-lite\"});\n",
       "</script>"
      ],
      "text/plain": [
       "alt.LayerChart(...)"
      ]
     },
     "execution_count": 88,
     "metadata": {},
     "output_type": "execute_result"
    }
   ],
   "source": [
    "#hide_input\n",
    "bars, line = my_deaths_plot(region)\n",
    "(bars + line).properties(\n",
    "    title=f'COVID-19 in Chile: Daily confirmed deaths in {region}',\n",
    "    width=600\n",
    ")"
   ]
  },
  {
   "cell_type": "markdown",
   "metadata": {
    "papermill": {
     "duration": 0.09933,
     "end_time": "2020-04-28T12:16:57.549293",
     "exception": false,
     "start_time": "2020-04-28T12:16:57.449963",
     "status": "completed"
    },
    "tags": []
   },
   "source": [
    "## O’Higgins"
   ]
  },
  {
   "cell_type": "code",
   "execution_count": 89,
   "metadata": {
    "execution": {
     "iopub.execute_input": "2020-04-28T12:16:57.755890Z",
     "iopub.status.busy": "2020-04-28T12:16:57.755262Z",
     "iopub.status.idle": "2020-04-28T12:16:57.758639Z",
     "shell.execute_reply": "2020-04-28T12:16:57.757867Z"
    },
    "papermill": {
     "duration": 0.109239,
     "end_time": "2020-04-28T12:16:57.758759",
     "exception": false,
     "start_time": "2020-04-28T12:16:57.649520",
     "status": "completed"
    },
    "scrolled": true,
    "tags": []
   },
   "outputs": [],
   "source": [
    "#hide\n",
    "region = \"O’Higgins\""
   ]
  },
  {
   "cell_type": "code",
   "execution_count": 90,
   "metadata": {
    "execution": {
     "iopub.execute_input": "2020-04-28T12:16:57.977341Z",
     "iopub.status.busy": "2020-04-28T12:16:57.976547Z",
     "iopub.status.idle": "2020-04-28T12:16:58.014656Z",
     "shell.execute_reply": "2020-04-28T12:16:58.015498Z"
    },
    "papermill": {
     "duration": 0.154338,
     "end_time": "2020-04-28T12:16:58.015704",
     "exception": false,
     "start_time": "2020-04-28T12:16:57.861366",
     "status": "completed"
    },
    "tags": []
   },
   "outputs": [
    {
     "data": {
      "text/html": [
       "\n",
       "<div id=\"altair-viz-4693b5002c3443cf8077dd9e50f7919f\"></div>\n",
       "<script type=\"text/javascript\">\n",
       "  (function(spec, embedOpt){\n",
       "    let outputDiv = document.currentScript.previousElementSibling;\n",
       "    if (outputDiv.id !== \"altair-viz-4693b5002c3443cf8077dd9e50f7919f\") {\n",
       "      outputDiv = document.getElementById(\"altair-viz-4693b5002c3443cf8077dd9e50f7919f\");\n",
       "    }\n",
       "    const paths = {\n",
       "      \"vega\": \"https://cdn.jsdelivr.net/npm//vega@5?noext\",\n",
       "      \"vega-lib\": \"https://cdn.jsdelivr.net/npm//vega-lib?noext\",\n",
       "      \"vega-lite\": \"https://cdn.jsdelivr.net/npm//vega-lite@4.8.1?noext\",\n",
       "      \"vega-embed\": \"https://cdn.jsdelivr.net/npm//vega-embed@6?noext\",\n",
       "    };\n",
       "\n",
       "    function loadScript(lib) {\n",
       "      return new Promise(function(resolve, reject) {\n",
       "        var s = document.createElement('script');\n",
       "        s.src = paths[lib];\n",
       "        s.async = true;\n",
       "        s.onload = () => resolve(paths[lib]);\n",
       "        s.onerror = () => reject(`Error loading script: ${paths[lib]}`);\n",
       "        document.getElementsByTagName(\"head\")[0].appendChild(s);\n",
       "      });\n",
       "    }\n",
       "\n",
       "    function showError(err) {\n",
       "      outputDiv.innerHTML = `<div class=\"error\" style=\"color:red;\">${err}</div>`;\n",
       "      throw err;\n",
       "    }\n",
       "\n",
       "    function displayChart(vegaEmbed) {\n",
       "      vegaEmbed(outputDiv, spec, embedOpt)\n",
       "        .catch(err => showError(`Javascript Error: ${err.message}<br>This usually means there's a typo in your chart specification. See the javascript console for the full traceback.`));\n",
       "    }\n",
       "\n",
       "    if(typeof define === \"function\" && define.amd) {\n",
       "      requirejs.config({paths});\n",
       "      require([\"vega-embed\"], displayChart, err => showError(`Error loading script: ${err.message}`));\n",
       "    } else if (typeof vegaEmbed === \"function\") {\n",
       "      displayChart(vegaEmbed);\n",
       "    } else {\n",
       "      loadScript(\"vega\")\n",
       "        .then(() => loadScript(\"vega-lite\"))\n",
       "        .then(() => loadScript(\"vega-embed\"))\n",
       "        .catch(showError)\n",
       "        .then(() => displayChart(vegaEmbed));\n",
       "    }\n",
       "  })({\"config\": {\"view\": {\"continuousWidth\": 400, \"continuousHeight\": 300}}, \"layer\": [{\"mark\": {\"type\": \"bar\", \"color\": \"firebrick\", \"opacity\": 0.7}, \"encoding\": {\"opacity\": {\"type\": \"nominal\", \"field\": \"Daily confirmed deaths\", \"legend\": {\"title\": \"\"}}, \"tooltip\": [{\"type\": \"nominal\", \"field\": \"Dates\"}, {\"type\": \"quantitative\", \"field\": \"New_deaths\"}], \"x\": {\"type\": \"nominal\", \"axis\": {\"title\": \"Date\"}, \"field\": \"Dates\"}, \"y\": {\"type\": \"quantitative\", \"axis\": {\"title\": \"Daily confirmed deaths\"}, \"field\": \"New_deaths\"}}}, {\"mark\": {\"type\": \"line\", \"color\": \"firebrick\", \"point\": {\"filled\": true, \"fill\": \"firebrick\"}}, \"encoding\": {\"shape\": {\"type\": \"nominal\", \"field\": \"7-day rolling average\", \"legend\": {\"title\": \"\"}}, \"x\": {\"type\": \"nominal\", \"axis\": {\"title\": \"Date\"}, \"field\": \"Dates\"}, \"y\": {\"type\": \"quantitative\", \"field\": \"Rolling\"}}}], \"data\": {\"name\": \"data-6c267b58afeeeb44d8603901eb471792\"}, \"title\": \"COVID-19 in Chile: Daily confirmed deaths in O\\u2019Higgins\", \"width\": 600, \"$schema\": \"https://vega.github.io/schema/vega-lite/v4.8.1.json\", \"datasets\": {\"data-6c267b58afeeeb44d8603901eb471792\": [{\"Dates\": \"2020-03-25\", \"New_deaths\": 0, \"Rolling\": null, \"Daily confirmed deaths\": \"Daily confirmed deaths\", \"7-day rolling average\": \"7-day rolling average\"}, {\"Dates\": \"2020-03-26\", \"New_deaths\": 0, \"Rolling\": null, \"Daily confirmed deaths\": \"Daily confirmed deaths\", \"7-day rolling average\": \"7-day rolling average\"}, {\"Dates\": \"2020-03-27\", \"New_deaths\": 0, \"Rolling\": null, \"Daily confirmed deaths\": \"Daily confirmed deaths\", \"7-day rolling average\": \"7-day rolling average\"}, {\"Dates\": \"2020-03-28\", \"New_deaths\": 0, \"Rolling\": null, \"Daily confirmed deaths\": \"Daily confirmed deaths\", \"7-day rolling average\": \"7-day rolling average\"}, {\"Dates\": \"2020-03-29\", \"New_deaths\": 0, \"Rolling\": null, \"Daily confirmed deaths\": \"Daily confirmed deaths\", \"7-day rolling average\": \"7-day rolling average\"}, {\"Dates\": \"2020-03-30\", \"New_deaths\": 0, \"Rolling\": null, \"Daily confirmed deaths\": \"Daily confirmed deaths\", \"7-day rolling average\": \"7-day rolling average\"}, {\"Dates\": \"2020-03-31\", \"New_deaths\": 0, \"Rolling\": 0.0, \"Daily confirmed deaths\": \"Daily confirmed deaths\", \"7-day rolling average\": \"7-day rolling average\"}, {\"Dates\": \"2020-04-01\", \"New_deaths\": 0, \"Rolling\": 0.0, \"Daily confirmed deaths\": \"Daily confirmed deaths\", \"7-day rolling average\": \"7-day rolling average\"}, {\"Dates\": \"2020-04-02\", \"New_deaths\": 0, \"Rolling\": 0.0, \"Daily confirmed deaths\": \"Daily confirmed deaths\", \"7-day rolling average\": \"7-day rolling average\"}, {\"Dates\": \"2020-04-03\", \"New_deaths\": 0, \"Rolling\": 0.0, \"Daily confirmed deaths\": \"Daily confirmed deaths\", \"7-day rolling average\": \"7-day rolling average\"}, {\"Dates\": \"2020-04-04\", \"New_deaths\": 0, \"Rolling\": 0.0, \"Daily confirmed deaths\": \"Daily confirmed deaths\", \"7-day rolling average\": \"7-day rolling average\"}, {\"Dates\": \"2020-04-05\", \"New_deaths\": 0, \"Rolling\": 0.0, \"Daily confirmed deaths\": \"Daily confirmed deaths\", \"7-day rolling average\": \"7-day rolling average\"}, {\"Dates\": \"2020-04-06\", \"New_deaths\": 0, \"Rolling\": 0.0, \"Daily confirmed deaths\": \"Daily confirmed deaths\", \"7-day rolling average\": \"7-day rolling average\"}, {\"Dates\": \"2020-04-07\", \"New_deaths\": 0, \"Rolling\": 0.0, \"Daily confirmed deaths\": \"Daily confirmed deaths\", \"7-day rolling average\": \"7-day rolling average\"}, {\"Dates\": \"2020-04-08\", \"New_deaths\": 0, \"Rolling\": 0.0, \"Daily confirmed deaths\": \"Daily confirmed deaths\", \"7-day rolling average\": \"7-day rolling average\"}, {\"Dates\": \"2020-04-09\", \"New_deaths\": 0, \"Rolling\": 0.0, \"Daily confirmed deaths\": \"Daily confirmed deaths\", \"7-day rolling average\": \"7-day rolling average\"}, {\"Dates\": \"2020-04-10\", \"New_deaths\": 0, \"Rolling\": 0.0, \"Daily confirmed deaths\": \"Daily confirmed deaths\", \"7-day rolling average\": \"7-day rolling average\"}, {\"Dates\": \"2020-04-11\", \"New_deaths\": 0, \"Rolling\": 0.0, \"Daily confirmed deaths\": \"Daily confirmed deaths\", \"7-day rolling average\": \"7-day rolling average\"}, {\"Dates\": \"2020-04-12\", \"New_deaths\": 0, \"Rolling\": 0.0, \"Daily confirmed deaths\": \"Daily confirmed deaths\", \"7-day rolling average\": \"7-day rolling average\"}, {\"Dates\": \"2020-04-13\", \"New_deaths\": 0, \"Rolling\": 0.0, \"Daily confirmed deaths\": \"Daily confirmed deaths\", \"7-day rolling average\": \"7-day rolling average\"}, {\"Dates\": \"2020-04-14\", \"New_deaths\": 0, \"Rolling\": 0.0, \"Daily confirmed deaths\": \"Daily confirmed deaths\", \"7-day rolling average\": \"7-day rolling average\"}, {\"Dates\": \"2020-04-15\", \"New_deaths\": 0, \"Rolling\": 0.0, \"Daily confirmed deaths\": \"Daily confirmed deaths\", \"7-day rolling average\": \"7-day rolling average\"}, {\"Dates\": \"2020-04-16\", \"New_deaths\": 0, \"Rolling\": 0.0, \"Daily confirmed deaths\": \"Daily confirmed deaths\", \"7-day rolling average\": \"7-day rolling average\"}, {\"Dates\": \"2020-04-17\", \"New_deaths\": 0, \"Rolling\": 0.0, \"Daily confirmed deaths\": \"Daily confirmed deaths\", \"7-day rolling average\": \"7-day rolling average\"}, {\"Dates\": \"2020-04-18\", \"New_deaths\": 0, \"Rolling\": 0.0, \"Daily confirmed deaths\": \"Daily confirmed deaths\", \"7-day rolling average\": \"7-day rolling average\"}, {\"Dates\": \"2020-04-19\", \"New_deaths\": 0, \"Rolling\": 0.0, \"Daily confirmed deaths\": \"Daily confirmed deaths\", \"7-day rolling average\": \"7-day rolling average\"}, {\"Dates\": \"2020-04-20\", \"New_deaths\": 0, \"Rolling\": 0.0, \"Daily confirmed deaths\": \"Daily confirmed deaths\", \"7-day rolling average\": \"7-day rolling average\"}, {\"Dates\": \"2020-04-21\", \"New_deaths\": 1, \"Rolling\": 0.14285714285714285, \"Daily confirmed deaths\": \"Daily confirmed deaths\", \"7-day rolling average\": \"7-day rolling average\"}, {\"Dates\": \"2020-04-22\", \"New_deaths\": 0, \"Rolling\": 0.14285714285714285, \"Daily confirmed deaths\": \"Daily confirmed deaths\", \"7-day rolling average\": \"7-day rolling average\"}, {\"Dates\": \"2020-04-23\", \"New_deaths\": 0, \"Rolling\": 0.14285714285714285, \"Daily confirmed deaths\": \"Daily confirmed deaths\", \"7-day rolling average\": \"7-day rolling average\"}, {\"Dates\": \"2020-04-24\", \"New_deaths\": 0, \"Rolling\": 0.14285714285714285, \"Daily confirmed deaths\": \"Daily confirmed deaths\", \"7-day rolling average\": \"7-day rolling average\"}, {\"Dates\": \"2020-04-25\", \"New_deaths\": 0, \"Rolling\": 0.14285714285714285, \"Daily confirmed deaths\": \"Daily confirmed deaths\", \"7-day rolling average\": \"7-day rolling average\"}, {\"Dates\": \"2020-04-26\", \"New_deaths\": 0, \"Rolling\": 0.14285714285714285, \"Daily confirmed deaths\": \"Daily confirmed deaths\", \"7-day rolling average\": \"7-day rolling average\"}, {\"Dates\": \"2020-04-27\", \"New_deaths\": 0, \"Rolling\": 0.14285714285714285, \"Daily confirmed deaths\": \"Daily confirmed deaths\", \"7-day rolling average\": \"7-day rolling average\"}]}}, {\"mode\": \"vega-lite\"});\n",
       "</script>"
      ],
      "text/plain": [
       "alt.LayerChart(...)"
      ]
     },
     "execution_count": 90,
     "metadata": {},
     "output_type": "execute_result"
    }
   ],
   "source": [
    "#hide_input\n",
    "bars, line = my_deaths_plot(region)\n",
    "(bars + line).properties(\n",
    "    title=f'COVID-19 in Chile: Daily confirmed deaths in {region}',\n",
    "    width=600\n",
    ")"
   ]
  },
  {
   "cell_type": "markdown",
   "metadata": {
    "papermill": {
     "duration": 0.101506,
     "end_time": "2020-04-28T12:16:58.223527",
     "exception": false,
     "start_time": "2020-04-28T12:16:58.122021",
     "status": "completed"
    },
    "tags": []
   },
   "source": [
    "## Maule"
   ]
  },
  {
   "cell_type": "code",
   "execution_count": 91,
   "metadata": {
    "execution": {
     "iopub.execute_input": "2020-04-28T12:16:58.429636Z",
     "iopub.status.busy": "2020-04-28T12:16:58.429005Z",
     "iopub.status.idle": "2020-04-28T12:16:58.431229Z",
     "shell.execute_reply": "2020-04-28T12:16:58.430701Z"
    },
    "papermill": {
     "duration": 0.107224,
     "end_time": "2020-04-28T12:16:58.431344",
     "exception": false,
     "start_time": "2020-04-28T12:16:58.324120",
     "status": "completed"
    },
    "scrolled": true,
    "tags": []
   },
   "outputs": [],
   "source": [
    "#hide\n",
    "region = \"Maule\""
   ]
  },
  {
   "cell_type": "code",
   "execution_count": 92,
   "metadata": {
    "execution": {
     "iopub.execute_input": "2020-04-28T12:16:58.643446Z",
     "iopub.status.busy": "2020-04-28T12:16:58.642366Z",
     "iopub.status.idle": "2020-04-28T12:16:58.682568Z",
     "shell.execute_reply": "2020-04-28T12:16:58.683413Z"
    },
    "papermill": {
     "duration": 0.152628,
     "end_time": "2020-04-28T12:16:58.683621",
     "exception": false,
     "start_time": "2020-04-28T12:16:58.530993",
     "status": "completed"
    },
    "tags": []
   },
   "outputs": [
    {
     "data": {
      "text/html": [
       "\n",
       "<div id=\"altair-viz-d55d65f6e1e9446d800647bbf296d11d\"></div>\n",
       "<script type=\"text/javascript\">\n",
       "  (function(spec, embedOpt){\n",
       "    let outputDiv = document.currentScript.previousElementSibling;\n",
       "    if (outputDiv.id !== \"altair-viz-d55d65f6e1e9446d800647bbf296d11d\") {\n",
       "      outputDiv = document.getElementById(\"altair-viz-d55d65f6e1e9446d800647bbf296d11d\");\n",
       "    }\n",
       "    const paths = {\n",
       "      \"vega\": \"https://cdn.jsdelivr.net/npm//vega@5?noext\",\n",
       "      \"vega-lib\": \"https://cdn.jsdelivr.net/npm//vega-lib?noext\",\n",
       "      \"vega-lite\": \"https://cdn.jsdelivr.net/npm//vega-lite@4.8.1?noext\",\n",
       "      \"vega-embed\": \"https://cdn.jsdelivr.net/npm//vega-embed@6?noext\",\n",
       "    };\n",
       "\n",
       "    function loadScript(lib) {\n",
       "      return new Promise(function(resolve, reject) {\n",
       "        var s = document.createElement('script');\n",
       "        s.src = paths[lib];\n",
       "        s.async = true;\n",
       "        s.onload = () => resolve(paths[lib]);\n",
       "        s.onerror = () => reject(`Error loading script: ${paths[lib]}`);\n",
       "        document.getElementsByTagName(\"head\")[0].appendChild(s);\n",
       "      });\n",
       "    }\n",
       "\n",
       "    function showError(err) {\n",
       "      outputDiv.innerHTML = `<div class=\"error\" style=\"color:red;\">${err}</div>`;\n",
       "      throw err;\n",
       "    }\n",
       "\n",
       "    function displayChart(vegaEmbed) {\n",
       "      vegaEmbed(outputDiv, spec, embedOpt)\n",
       "        .catch(err => showError(`Javascript Error: ${err.message}<br>This usually means there's a typo in your chart specification. See the javascript console for the full traceback.`));\n",
       "    }\n",
       "\n",
       "    if(typeof define === \"function\" && define.amd) {\n",
       "      requirejs.config({paths});\n",
       "      require([\"vega-embed\"], displayChart, err => showError(`Error loading script: ${err.message}`));\n",
       "    } else if (typeof vegaEmbed === \"function\") {\n",
       "      displayChart(vegaEmbed);\n",
       "    } else {\n",
       "      loadScript(\"vega\")\n",
       "        .then(() => loadScript(\"vega-lite\"))\n",
       "        .then(() => loadScript(\"vega-embed\"))\n",
       "        .catch(showError)\n",
       "        .then(() => displayChart(vegaEmbed));\n",
       "    }\n",
       "  })({\"config\": {\"view\": {\"continuousWidth\": 400, \"continuousHeight\": 300}}, \"layer\": [{\"mark\": {\"type\": \"bar\", \"color\": \"firebrick\", \"opacity\": 0.7}, \"encoding\": {\"opacity\": {\"type\": \"nominal\", \"field\": \"Daily confirmed deaths\", \"legend\": {\"title\": \"\"}}, \"tooltip\": [{\"type\": \"nominal\", \"field\": \"Dates\"}, {\"type\": \"quantitative\", \"field\": \"New_deaths\"}], \"x\": {\"type\": \"nominal\", \"axis\": {\"title\": \"Date\"}, \"field\": \"Dates\"}, \"y\": {\"type\": \"quantitative\", \"axis\": {\"title\": \"Daily confirmed deaths\"}, \"field\": \"New_deaths\"}}}, {\"mark\": {\"type\": \"line\", \"color\": \"firebrick\", \"point\": {\"filled\": true, \"fill\": \"firebrick\"}}, \"encoding\": {\"shape\": {\"type\": \"nominal\", \"field\": \"7-day rolling average\", \"legend\": {\"title\": \"\"}}, \"x\": {\"type\": \"nominal\", \"axis\": {\"title\": \"Date\"}, \"field\": \"Dates\"}, \"y\": {\"type\": \"quantitative\", \"field\": \"Rolling\"}}}], \"data\": {\"name\": \"data-ce1ca1021d5d469a8889f55e681ee7a1\"}, \"title\": \"COVID-19 in Chile: Daily confirmed deaths in Maule\", \"width\": 600, \"$schema\": \"https://vega.github.io/schema/vega-lite/v4.8.1.json\", \"datasets\": {\"data-ce1ca1021d5d469a8889f55e681ee7a1\": [{\"Dates\": \"2020-03-25\", \"New_deaths\": 0, \"Rolling\": null, \"Daily confirmed deaths\": \"Daily confirmed deaths\", \"7-day rolling average\": \"7-day rolling average\"}, {\"Dates\": \"2020-03-26\", \"New_deaths\": 0, \"Rolling\": null, \"Daily confirmed deaths\": \"Daily confirmed deaths\", \"7-day rolling average\": \"7-day rolling average\"}, {\"Dates\": \"2020-03-27\", \"New_deaths\": 0, \"Rolling\": null, \"Daily confirmed deaths\": \"Daily confirmed deaths\", \"7-day rolling average\": \"7-day rolling average\"}, {\"Dates\": \"2020-03-28\", \"New_deaths\": 0, \"Rolling\": null, \"Daily confirmed deaths\": \"Daily confirmed deaths\", \"7-day rolling average\": \"7-day rolling average\"}, {\"Dates\": \"2020-03-29\", \"New_deaths\": 0, \"Rolling\": null, \"Daily confirmed deaths\": \"Daily confirmed deaths\", \"7-day rolling average\": \"7-day rolling average\"}, {\"Dates\": \"2020-03-30\", \"New_deaths\": 1, \"Rolling\": null, \"Daily confirmed deaths\": \"Daily confirmed deaths\", \"7-day rolling average\": \"7-day rolling average\"}, {\"Dates\": \"2020-03-31\", \"New_deaths\": 0, \"Rolling\": 0.14285714285714285, \"Daily confirmed deaths\": \"Daily confirmed deaths\", \"7-day rolling average\": \"7-day rolling average\"}, {\"Dates\": \"2020-04-01\", \"New_deaths\": 0, \"Rolling\": 0.14285714285714285, \"Daily confirmed deaths\": \"Daily confirmed deaths\", \"7-day rolling average\": \"7-day rolling average\"}, {\"Dates\": \"2020-04-02\", \"New_deaths\": 0, \"Rolling\": 0.14285714285714285, \"Daily confirmed deaths\": \"Daily confirmed deaths\", \"7-day rolling average\": \"7-day rolling average\"}, {\"Dates\": \"2020-04-03\", \"New_deaths\": 0, \"Rolling\": 0.14285714285714285, \"Daily confirmed deaths\": \"Daily confirmed deaths\", \"7-day rolling average\": \"7-day rolling average\"}, {\"Dates\": \"2020-04-04\", \"New_deaths\": 0, \"Rolling\": 0.14285714285714285, \"Daily confirmed deaths\": \"Daily confirmed deaths\", \"7-day rolling average\": \"7-day rolling average\"}, {\"Dates\": \"2020-04-05\", \"New_deaths\": 0, \"Rolling\": 0.14285714285714285, \"Daily confirmed deaths\": \"Daily confirmed deaths\", \"7-day rolling average\": \"7-day rolling average\"}, {\"Dates\": \"2020-04-06\", \"New_deaths\": 0, \"Rolling\": 0.0, \"Daily confirmed deaths\": \"Daily confirmed deaths\", \"7-day rolling average\": \"7-day rolling average\"}, {\"Dates\": \"2020-04-07\", \"New_deaths\": 1, \"Rolling\": 0.14285714285714285, \"Daily confirmed deaths\": \"Daily confirmed deaths\", \"7-day rolling average\": \"7-day rolling average\"}, {\"Dates\": \"2020-04-08\", \"New_deaths\": 0, \"Rolling\": 0.14285714285714285, \"Daily confirmed deaths\": \"Daily confirmed deaths\", \"7-day rolling average\": \"7-day rolling average\"}, {\"Dates\": \"2020-04-09\", \"New_deaths\": 0, \"Rolling\": 0.14285714285714285, \"Daily confirmed deaths\": \"Daily confirmed deaths\", \"7-day rolling average\": \"7-day rolling average\"}, {\"Dates\": \"2020-04-10\", \"New_deaths\": 0, \"Rolling\": 0.14285714285714285, \"Daily confirmed deaths\": \"Daily confirmed deaths\", \"7-day rolling average\": \"7-day rolling average\"}, {\"Dates\": \"2020-04-11\", \"New_deaths\": 1, \"Rolling\": 0.2857142857142857, \"Daily confirmed deaths\": \"Daily confirmed deaths\", \"7-day rolling average\": \"7-day rolling average\"}, {\"Dates\": \"2020-04-12\", \"New_deaths\": 0, \"Rolling\": 0.2857142857142857, \"Daily confirmed deaths\": \"Daily confirmed deaths\", \"7-day rolling average\": \"7-day rolling average\"}, {\"Dates\": \"2020-04-13\", \"New_deaths\": 0, \"Rolling\": 0.2857142857142857, \"Daily confirmed deaths\": \"Daily confirmed deaths\", \"7-day rolling average\": \"7-day rolling average\"}, {\"Dates\": \"2020-04-14\", \"New_deaths\": 1, \"Rolling\": 0.2857142857142857, \"Daily confirmed deaths\": \"Daily confirmed deaths\", \"7-day rolling average\": \"7-day rolling average\"}, {\"Dates\": \"2020-04-15\", \"New_deaths\": 0, \"Rolling\": 0.2857142857142857, \"Daily confirmed deaths\": \"Daily confirmed deaths\", \"7-day rolling average\": \"7-day rolling average\"}, {\"Dates\": \"2020-04-16\", \"New_deaths\": 0, \"Rolling\": 0.2857142857142857, \"Daily confirmed deaths\": \"Daily confirmed deaths\", \"7-day rolling average\": \"7-day rolling average\"}, {\"Dates\": \"2020-04-17\", \"New_deaths\": 3, \"Rolling\": 0.7142857142857143, \"Daily confirmed deaths\": \"Daily confirmed deaths\", \"7-day rolling average\": \"7-day rolling average\"}, {\"Dates\": \"2020-04-18\", \"New_deaths\": 1, \"Rolling\": 0.7142857142857143, \"Daily confirmed deaths\": \"Daily confirmed deaths\", \"7-day rolling average\": \"7-day rolling average\"}, {\"Dates\": \"2020-04-19\", \"New_deaths\": 0, \"Rolling\": 0.7142857142857143, \"Daily confirmed deaths\": \"Daily confirmed deaths\", \"7-day rolling average\": \"7-day rolling average\"}, {\"Dates\": \"2020-04-20\", \"New_deaths\": 2, \"Rolling\": 1.0, \"Daily confirmed deaths\": \"Daily confirmed deaths\", \"7-day rolling average\": \"7-day rolling average\"}, {\"Dates\": \"2020-04-21\", \"New_deaths\": 0, \"Rolling\": 0.8571428571428571, \"Daily confirmed deaths\": \"Daily confirmed deaths\", \"7-day rolling average\": \"7-day rolling average\"}, {\"Dates\": \"2020-04-22\", \"New_deaths\": 0, \"Rolling\": 0.8571428571428571, \"Daily confirmed deaths\": \"Daily confirmed deaths\", \"7-day rolling average\": \"7-day rolling average\"}, {\"Dates\": \"2020-04-23\", \"New_deaths\": 0, \"Rolling\": 0.8571428571428571, \"Daily confirmed deaths\": \"Daily confirmed deaths\", \"7-day rolling average\": \"7-day rolling average\"}, {\"Dates\": \"2020-04-24\", \"New_deaths\": 0, \"Rolling\": 0.42857142857142855, \"Daily confirmed deaths\": \"Daily confirmed deaths\", \"7-day rolling average\": \"7-day rolling average\"}, {\"Dates\": \"2020-04-25\", \"New_deaths\": 0, \"Rolling\": 0.2857142857142857, \"Daily confirmed deaths\": \"Daily confirmed deaths\", \"7-day rolling average\": \"7-day rolling average\"}, {\"Dates\": \"2020-04-26\", \"New_deaths\": 1, \"Rolling\": 0.42857142857142855, \"Daily confirmed deaths\": \"Daily confirmed deaths\", \"7-day rolling average\": \"7-day rolling average\"}, {\"Dates\": \"2020-04-27\", \"New_deaths\": 1, \"Rolling\": 0.2857142857142857, \"Daily confirmed deaths\": \"Daily confirmed deaths\", \"7-day rolling average\": \"7-day rolling average\"}]}}, {\"mode\": \"vega-lite\"});\n",
       "</script>"
      ],
      "text/plain": [
       "alt.LayerChart(...)"
      ]
     },
     "execution_count": 92,
     "metadata": {},
     "output_type": "execute_result"
    }
   ],
   "source": [
    "#hide_input\n",
    "bars, line = my_deaths_plot(region)\n",
    "(bars + line).properties(\n",
    "    title=f'COVID-19 in Chile: Daily confirmed deaths in {region}',\n",
    "    width=600\n",
    ")"
   ]
  },
  {
   "cell_type": "markdown",
   "metadata": {
    "papermill": {
     "duration": 0.101641,
     "end_time": "2020-04-28T12:16:58.887402",
     "exception": false,
     "start_time": "2020-04-28T12:16:58.785761",
     "status": "completed"
    },
    "tags": []
   },
   "source": [
    "## Ñuble"
   ]
  },
  {
   "cell_type": "code",
   "execution_count": 93,
   "metadata": {
    "execution": {
     "iopub.execute_input": "2020-04-28T12:16:59.116852Z",
     "iopub.status.busy": "2020-04-28T12:16:59.116181Z",
     "iopub.status.idle": "2020-04-28T12:16:59.119182Z",
     "shell.execute_reply": "2020-04-28T12:16:59.118613Z"
    },
    "papermill": {
     "duration": 0.109296,
     "end_time": "2020-04-28T12:16:59.119296",
     "exception": false,
     "start_time": "2020-04-28T12:16:59.010000",
     "status": "completed"
    },
    "scrolled": true,
    "tags": []
   },
   "outputs": [],
   "source": [
    "#hide\n",
    "region = \"Ñuble\""
   ]
  },
  {
   "cell_type": "code",
   "execution_count": 94,
   "metadata": {
    "execution": {
     "iopub.execute_input": "2020-04-28T12:16:59.350454Z",
     "iopub.status.busy": "2020-04-28T12:16:59.345411Z",
     "iopub.status.idle": "2020-04-28T12:16:59.375628Z",
     "shell.execute_reply": "2020-04-28T12:16:59.376157Z"
    },
    "papermill": {
     "duration": 0.156472,
     "end_time": "2020-04-28T12:16:59.376294",
     "exception": false,
     "start_time": "2020-04-28T12:16:59.219822",
     "status": "completed"
    },
    "tags": []
   },
   "outputs": [
    {
     "data": {
      "text/html": [
       "\n",
       "<div id=\"altair-viz-66b03e18cc054320968a28a851495d85\"></div>\n",
       "<script type=\"text/javascript\">\n",
       "  (function(spec, embedOpt){\n",
       "    let outputDiv = document.currentScript.previousElementSibling;\n",
       "    if (outputDiv.id !== \"altair-viz-66b03e18cc054320968a28a851495d85\") {\n",
       "      outputDiv = document.getElementById(\"altair-viz-66b03e18cc054320968a28a851495d85\");\n",
       "    }\n",
       "    const paths = {\n",
       "      \"vega\": \"https://cdn.jsdelivr.net/npm//vega@5?noext\",\n",
       "      \"vega-lib\": \"https://cdn.jsdelivr.net/npm//vega-lib?noext\",\n",
       "      \"vega-lite\": \"https://cdn.jsdelivr.net/npm//vega-lite@4.8.1?noext\",\n",
       "      \"vega-embed\": \"https://cdn.jsdelivr.net/npm//vega-embed@6?noext\",\n",
       "    };\n",
       "\n",
       "    function loadScript(lib) {\n",
       "      return new Promise(function(resolve, reject) {\n",
       "        var s = document.createElement('script');\n",
       "        s.src = paths[lib];\n",
       "        s.async = true;\n",
       "        s.onload = () => resolve(paths[lib]);\n",
       "        s.onerror = () => reject(`Error loading script: ${paths[lib]}`);\n",
       "        document.getElementsByTagName(\"head\")[0].appendChild(s);\n",
       "      });\n",
       "    }\n",
       "\n",
       "    function showError(err) {\n",
       "      outputDiv.innerHTML = `<div class=\"error\" style=\"color:red;\">${err}</div>`;\n",
       "      throw err;\n",
       "    }\n",
       "\n",
       "    function displayChart(vegaEmbed) {\n",
       "      vegaEmbed(outputDiv, spec, embedOpt)\n",
       "        .catch(err => showError(`Javascript Error: ${err.message}<br>This usually means there's a typo in your chart specification. See the javascript console for the full traceback.`));\n",
       "    }\n",
       "\n",
       "    if(typeof define === \"function\" && define.amd) {\n",
       "      requirejs.config({paths});\n",
       "      require([\"vega-embed\"], displayChart, err => showError(`Error loading script: ${err.message}`));\n",
       "    } else if (typeof vegaEmbed === \"function\") {\n",
       "      displayChart(vegaEmbed);\n",
       "    } else {\n",
       "      loadScript(\"vega\")\n",
       "        .then(() => loadScript(\"vega-lite\"))\n",
       "        .then(() => loadScript(\"vega-embed\"))\n",
       "        .catch(showError)\n",
       "        .then(() => displayChart(vegaEmbed));\n",
       "    }\n",
       "  })({\"config\": {\"view\": {\"continuousWidth\": 400, \"continuousHeight\": 300}}, \"layer\": [{\"mark\": {\"type\": \"bar\", \"color\": \"firebrick\", \"opacity\": 0.7}, \"encoding\": {\"opacity\": {\"type\": \"nominal\", \"field\": \"Daily confirmed deaths\", \"legend\": {\"title\": \"\"}}, \"tooltip\": [{\"type\": \"nominal\", \"field\": \"Dates\"}, {\"type\": \"quantitative\", \"field\": \"New_deaths\"}], \"x\": {\"type\": \"nominal\", \"axis\": {\"title\": \"Date\"}, \"field\": \"Dates\"}, \"y\": {\"type\": \"quantitative\", \"axis\": {\"title\": \"Daily confirmed deaths\"}, \"field\": \"New_deaths\"}}}, {\"mark\": {\"type\": \"line\", \"color\": \"firebrick\", \"point\": {\"filled\": true, \"fill\": \"firebrick\"}}, \"encoding\": {\"shape\": {\"type\": \"nominal\", \"field\": \"7-day rolling average\", \"legend\": {\"title\": \"\"}}, \"x\": {\"type\": \"nominal\", \"axis\": {\"title\": \"Date\"}, \"field\": \"Dates\"}, \"y\": {\"type\": \"quantitative\", \"field\": \"Rolling\"}}}], \"data\": {\"name\": \"data-3e2574b954cb00482eed62a10ec86b9b\"}, \"title\": \"COVID-19 in Chile: Daily confirmed deaths in \\u00d1uble\", \"width\": 600, \"$schema\": \"https://vega.github.io/schema/vega-lite/v4.8.1.json\", \"datasets\": {\"data-3e2574b954cb00482eed62a10ec86b9b\": [{\"Dates\": \"2020-03-25\", \"New_deaths\": 0, \"Rolling\": null, \"Daily confirmed deaths\": \"Daily confirmed deaths\", \"7-day rolling average\": \"7-day rolling average\"}, {\"Dates\": \"2020-03-26\", \"New_deaths\": 0, \"Rolling\": null, \"Daily confirmed deaths\": \"Daily confirmed deaths\", \"7-day rolling average\": \"7-day rolling average\"}, {\"Dates\": \"2020-03-27\", \"New_deaths\": 0, \"Rolling\": null, \"Daily confirmed deaths\": \"Daily confirmed deaths\", \"7-day rolling average\": \"7-day rolling average\"}, {\"Dates\": \"2020-03-28\", \"New_deaths\": 0, \"Rolling\": null, \"Daily confirmed deaths\": \"Daily confirmed deaths\", \"7-day rolling average\": \"7-day rolling average\"}, {\"Dates\": \"2020-03-29\", \"New_deaths\": 0, \"Rolling\": null, \"Daily confirmed deaths\": \"Daily confirmed deaths\", \"7-day rolling average\": \"7-day rolling average\"}, {\"Dates\": \"2020-03-30\", \"New_deaths\": 0, \"Rolling\": null, \"Daily confirmed deaths\": \"Daily confirmed deaths\", \"7-day rolling average\": \"7-day rolling average\"}, {\"Dates\": \"2020-03-31\", \"New_deaths\": 0, \"Rolling\": 0.0, \"Daily confirmed deaths\": \"Daily confirmed deaths\", \"7-day rolling average\": \"7-day rolling average\"}, {\"Dates\": \"2020-04-01\", \"New_deaths\": 0, \"Rolling\": 0.0, \"Daily confirmed deaths\": \"Daily confirmed deaths\", \"7-day rolling average\": \"7-day rolling average\"}, {\"Dates\": \"2020-04-02\", \"New_deaths\": 0, \"Rolling\": 0.0, \"Daily confirmed deaths\": \"Daily confirmed deaths\", \"7-day rolling average\": \"7-day rolling average\"}, {\"Dates\": \"2020-04-03\", \"New_deaths\": 1, \"Rolling\": 0.14285714285714285, \"Daily confirmed deaths\": \"Daily confirmed deaths\", \"7-day rolling average\": \"7-day rolling average\"}, {\"Dates\": \"2020-04-04\", \"New_deaths\": 1, \"Rolling\": 0.2857142857142857, \"Daily confirmed deaths\": \"Daily confirmed deaths\", \"7-day rolling average\": \"7-day rolling average\"}, {\"Dates\": \"2020-04-05\", \"New_deaths\": 1, \"Rolling\": 0.42857142857142855, \"Daily confirmed deaths\": \"Daily confirmed deaths\", \"7-day rolling average\": \"7-day rolling average\"}, {\"Dates\": \"2020-04-06\", \"New_deaths\": 1, \"Rolling\": 0.5714285714285714, \"Daily confirmed deaths\": \"Daily confirmed deaths\", \"7-day rolling average\": \"7-day rolling average\"}, {\"Dates\": \"2020-04-07\", \"New_deaths\": 1, \"Rolling\": 0.7142857142857143, \"Daily confirmed deaths\": \"Daily confirmed deaths\", \"7-day rolling average\": \"7-day rolling average\"}, {\"Dates\": \"2020-04-08\", \"New_deaths\": 0, \"Rolling\": 0.7142857142857143, \"Daily confirmed deaths\": \"Daily confirmed deaths\", \"7-day rolling average\": \"7-day rolling average\"}, {\"Dates\": \"2020-04-09\", \"New_deaths\": 1, \"Rolling\": 0.8571428571428571, \"Daily confirmed deaths\": \"Daily confirmed deaths\", \"7-day rolling average\": \"7-day rolling average\"}, {\"Dates\": \"2020-04-10\", \"New_deaths\": 0, \"Rolling\": 0.7142857142857143, \"Daily confirmed deaths\": \"Daily confirmed deaths\", \"7-day rolling average\": \"7-day rolling average\"}, {\"Dates\": \"2020-04-11\", \"New_deaths\": 0, \"Rolling\": 0.5714285714285714, \"Daily confirmed deaths\": \"Daily confirmed deaths\", \"7-day rolling average\": \"7-day rolling average\"}, {\"Dates\": \"2020-04-12\", \"New_deaths\": 1, \"Rolling\": 0.5714285714285714, \"Daily confirmed deaths\": \"Daily confirmed deaths\", \"7-day rolling average\": \"7-day rolling average\"}, {\"Dates\": \"2020-04-13\", \"New_deaths\": 0, \"Rolling\": 0.42857142857142855, \"Daily confirmed deaths\": \"Daily confirmed deaths\", \"7-day rolling average\": \"7-day rolling average\"}, {\"Dates\": \"2020-04-14\", \"New_deaths\": 1, \"Rolling\": 0.42857142857142855, \"Daily confirmed deaths\": \"Daily confirmed deaths\", \"7-day rolling average\": \"7-day rolling average\"}, {\"Dates\": \"2020-04-15\", \"New_deaths\": 0, \"Rolling\": 0.42857142857142855, \"Daily confirmed deaths\": \"Daily confirmed deaths\", \"7-day rolling average\": \"7-day rolling average\"}, {\"Dates\": \"2020-04-16\", \"New_deaths\": 2, \"Rolling\": 0.5714285714285714, \"Daily confirmed deaths\": \"Daily confirmed deaths\", \"7-day rolling average\": \"7-day rolling average\"}, {\"Dates\": \"2020-04-17\", \"New_deaths\": 1, \"Rolling\": 0.7142857142857143, \"Daily confirmed deaths\": \"Daily confirmed deaths\", \"7-day rolling average\": \"7-day rolling average\"}, {\"Dates\": \"2020-04-18\", \"New_deaths\": 1, \"Rolling\": 0.8571428571428571, \"Daily confirmed deaths\": \"Daily confirmed deaths\", \"7-day rolling average\": \"7-day rolling average\"}, {\"Dates\": \"2020-04-19\", \"New_deaths\": 1, \"Rolling\": 0.8571428571428571, \"Daily confirmed deaths\": \"Daily confirmed deaths\", \"7-day rolling average\": \"7-day rolling average\"}, {\"Dates\": \"2020-04-20\", \"New_deaths\": 0, \"Rolling\": 0.8571428571428571, \"Daily confirmed deaths\": \"Daily confirmed deaths\", \"7-day rolling average\": \"7-day rolling average\"}, {\"Dates\": \"2020-04-21\", \"New_deaths\": 0, \"Rolling\": 0.7142857142857143, \"Daily confirmed deaths\": \"Daily confirmed deaths\", \"7-day rolling average\": \"7-day rolling average\"}, {\"Dates\": \"2020-04-22\", \"New_deaths\": 0, \"Rolling\": 0.7142857142857143, \"Daily confirmed deaths\": \"Daily confirmed deaths\", \"7-day rolling average\": \"7-day rolling average\"}, {\"Dates\": \"2020-04-23\", \"New_deaths\": 0, \"Rolling\": 0.42857142857142855, \"Daily confirmed deaths\": \"Daily confirmed deaths\", \"7-day rolling average\": \"7-day rolling average\"}, {\"Dates\": \"2020-04-24\", \"New_deaths\": 1, \"Rolling\": 0.42857142857142855, \"Daily confirmed deaths\": \"Daily confirmed deaths\", \"7-day rolling average\": \"7-day rolling average\"}, {\"Dates\": \"2020-04-25\", \"New_deaths\": 0, \"Rolling\": 0.2857142857142857, \"Daily confirmed deaths\": \"Daily confirmed deaths\", \"7-day rolling average\": \"7-day rolling average\"}, {\"Dates\": \"2020-04-26\", \"New_deaths\": 0, \"Rolling\": 0.14285714285714285, \"Daily confirmed deaths\": \"Daily confirmed deaths\", \"7-day rolling average\": \"7-day rolling average\"}, {\"Dates\": \"2020-04-27\", \"New_deaths\": 0, \"Rolling\": 0.14285714285714285, \"Daily confirmed deaths\": \"Daily confirmed deaths\", \"7-day rolling average\": \"7-day rolling average\"}]}}, {\"mode\": \"vega-lite\"});\n",
       "</script>"
      ],
      "text/plain": [
       "alt.LayerChart(...)"
      ]
     },
     "execution_count": 94,
     "metadata": {},
     "output_type": "execute_result"
    }
   ],
   "source": [
    "#hide_input\n",
    "bars, line = my_deaths_plot(region)\n",
    "(bars + line).properties(\n",
    "    title=f'COVID-19 in Chile: Daily confirmed deaths in {region}',\n",
    "    width=600\n",
    ")"
   ]
  },
  {
   "cell_type": "markdown",
   "metadata": {
    "papermill": {
     "duration": 0.100043,
     "end_time": "2020-04-28T12:16:59.577508",
     "exception": false,
     "start_time": "2020-04-28T12:16:59.477465",
     "status": "completed"
    },
    "tags": []
   },
   "source": [
    "## Biobío"
   ]
  },
  {
   "cell_type": "code",
   "execution_count": 95,
   "metadata": {
    "execution": {
     "iopub.execute_input": "2020-04-28T12:16:59.783023Z",
     "iopub.status.busy": "2020-04-28T12:16:59.782387Z",
     "iopub.status.idle": "2020-04-28T12:16:59.784660Z",
     "shell.execute_reply": "2020-04-28T12:16:59.784140Z"
    },
    "papermill": {
     "duration": 0.107752,
     "end_time": "2020-04-28T12:16:59.784768",
     "exception": false,
     "start_time": "2020-04-28T12:16:59.677016",
     "status": "completed"
    },
    "scrolled": true,
    "tags": []
   },
   "outputs": [],
   "source": [
    "#hide\n",
    "region = \"Biobío\""
   ]
  },
  {
   "cell_type": "code",
   "execution_count": 96,
   "metadata": {
    "execution": {
     "iopub.execute_input": "2020-04-28T12:17:00.000176Z",
     "iopub.status.busy": "2020-04-28T12:16:59.999568Z",
     "iopub.status.idle": "2020-04-28T12:17:00.035498Z",
     "shell.execute_reply": "2020-04-28T12:17:00.035984Z"
    },
    "papermill": {
     "duration": 0.147375,
     "end_time": "2020-04-28T12:17:00.036116",
     "exception": false,
     "start_time": "2020-04-28T12:16:59.888741",
     "status": "completed"
    },
    "tags": []
   },
   "outputs": [
    {
     "data": {
      "text/html": [
       "\n",
       "<div id=\"altair-viz-7a3840f9fd0a4c0786e88719c0af0617\"></div>\n",
       "<script type=\"text/javascript\">\n",
       "  (function(spec, embedOpt){\n",
       "    let outputDiv = document.currentScript.previousElementSibling;\n",
       "    if (outputDiv.id !== \"altair-viz-7a3840f9fd0a4c0786e88719c0af0617\") {\n",
       "      outputDiv = document.getElementById(\"altair-viz-7a3840f9fd0a4c0786e88719c0af0617\");\n",
       "    }\n",
       "    const paths = {\n",
       "      \"vega\": \"https://cdn.jsdelivr.net/npm//vega@5?noext\",\n",
       "      \"vega-lib\": \"https://cdn.jsdelivr.net/npm//vega-lib?noext\",\n",
       "      \"vega-lite\": \"https://cdn.jsdelivr.net/npm//vega-lite@4.8.1?noext\",\n",
       "      \"vega-embed\": \"https://cdn.jsdelivr.net/npm//vega-embed@6?noext\",\n",
       "    };\n",
       "\n",
       "    function loadScript(lib) {\n",
       "      return new Promise(function(resolve, reject) {\n",
       "        var s = document.createElement('script');\n",
       "        s.src = paths[lib];\n",
       "        s.async = true;\n",
       "        s.onload = () => resolve(paths[lib]);\n",
       "        s.onerror = () => reject(`Error loading script: ${paths[lib]}`);\n",
       "        document.getElementsByTagName(\"head\")[0].appendChild(s);\n",
       "      });\n",
       "    }\n",
       "\n",
       "    function showError(err) {\n",
       "      outputDiv.innerHTML = `<div class=\"error\" style=\"color:red;\">${err}</div>`;\n",
       "      throw err;\n",
       "    }\n",
       "\n",
       "    function displayChart(vegaEmbed) {\n",
       "      vegaEmbed(outputDiv, spec, embedOpt)\n",
       "        .catch(err => showError(`Javascript Error: ${err.message}<br>This usually means there's a typo in your chart specification. See the javascript console for the full traceback.`));\n",
       "    }\n",
       "\n",
       "    if(typeof define === \"function\" && define.amd) {\n",
       "      requirejs.config({paths});\n",
       "      require([\"vega-embed\"], displayChart, err => showError(`Error loading script: ${err.message}`));\n",
       "    } else if (typeof vegaEmbed === \"function\") {\n",
       "      displayChart(vegaEmbed);\n",
       "    } else {\n",
       "      loadScript(\"vega\")\n",
       "        .then(() => loadScript(\"vega-lite\"))\n",
       "        .then(() => loadScript(\"vega-embed\"))\n",
       "        .catch(showError)\n",
       "        .then(() => displayChart(vegaEmbed));\n",
       "    }\n",
       "  })({\"config\": {\"view\": {\"continuousWidth\": 400, \"continuousHeight\": 300}}, \"layer\": [{\"mark\": {\"type\": \"bar\", \"color\": \"firebrick\", \"opacity\": 0.7}, \"encoding\": {\"opacity\": {\"type\": \"nominal\", \"field\": \"Daily confirmed deaths\", \"legend\": {\"title\": \"\"}}, \"tooltip\": [{\"type\": \"nominal\", \"field\": \"Dates\"}, {\"type\": \"quantitative\", \"field\": \"New_deaths\"}], \"x\": {\"type\": \"nominal\", \"axis\": {\"title\": \"Date\"}, \"field\": \"Dates\"}, \"y\": {\"type\": \"quantitative\", \"axis\": {\"title\": \"Daily confirmed deaths\"}, \"field\": \"New_deaths\"}}}, {\"mark\": {\"type\": \"line\", \"color\": \"firebrick\", \"point\": {\"filled\": true, \"fill\": \"firebrick\"}}, \"encoding\": {\"shape\": {\"type\": \"nominal\", \"field\": \"7-day rolling average\", \"legend\": {\"title\": \"\"}}, \"x\": {\"type\": \"nominal\", \"axis\": {\"title\": \"Date\"}, \"field\": \"Dates\"}, \"y\": {\"type\": \"quantitative\", \"field\": \"Rolling\"}}}], \"data\": {\"name\": \"data-f999e4c73fbe635ec3b4b392b1c593d3\"}, \"title\": \"COVID-19 in Chile: Daily confirmed deaths in Biob\\u00edo\", \"width\": 600, \"$schema\": \"https://vega.github.io/schema/vega-lite/v4.8.1.json\", \"datasets\": {\"data-f999e4c73fbe635ec3b4b392b1c593d3\": [{\"Dates\": \"2020-03-25\", \"New_deaths\": 1, \"Rolling\": null, \"Daily confirmed deaths\": \"Daily confirmed deaths\", \"7-day rolling average\": \"7-day rolling average\"}, {\"Dates\": \"2020-03-26\", \"New_deaths\": 0, \"Rolling\": null, \"Daily confirmed deaths\": \"Daily confirmed deaths\", \"7-day rolling average\": \"7-day rolling average\"}, {\"Dates\": \"2020-03-27\", \"New_deaths\": 1, \"Rolling\": null, \"Daily confirmed deaths\": \"Daily confirmed deaths\", \"7-day rolling average\": \"7-day rolling average\"}, {\"Dates\": \"2020-03-28\", \"New_deaths\": 0, \"Rolling\": null, \"Daily confirmed deaths\": \"Daily confirmed deaths\", \"7-day rolling average\": \"7-day rolling average\"}, {\"Dates\": \"2020-03-29\", \"New_deaths\": 0, \"Rolling\": null, \"Daily confirmed deaths\": \"Daily confirmed deaths\", \"7-day rolling average\": \"7-day rolling average\"}, {\"Dates\": \"2020-03-30\", \"New_deaths\": 0, \"Rolling\": null, \"Daily confirmed deaths\": \"Daily confirmed deaths\", \"7-day rolling average\": \"7-day rolling average\"}, {\"Dates\": \"2020-03-31\", \"New_deaths\": 0, \"Rolling\": 0.2857142857142857, \"Daily confirmed deaths\": \"Daily confirmed deaths\", \"7-day rolling average\": \"7-day rolling average\"}, {\"Dates\": \"2020-04-01\", \"New_deaths\": 0, \"Rolling\": 0.14285714285714285, \"Daily confirmed deaths\": \"Daily confirmed deaths\", \"7-day rolling average\": \"7-day rolling average\"}, {\"Dates\": \"2020-04-02\", \"New_deaths\": 0, \"Rolling\": 0.14285714285714285, \"Daily confirmed deaths\": \"Daily confirmed deaths\", \"7-day rolling average\": \"7-day rolling average\"}, {\"Dates\": \"2020-04-03\", \"New_deaths\": 0, \"Rolling\": 0.0, \"Daily confirmed deaths\": \"Daily confirmed deaths\", \"7-day rolling average\": \"7-day rolling average\"}, {\"Dates\": \"2020-04-04\", \"New_deaths\": 0, \"Rolling\": 0.0, \"Daily confirmed deaths\": \"Daily confirmed deaths\", \"7-day rolling average\": \"7-day rolling average\"}, {\"Dates\": \"2020-04-05\", \"New_deaths\": 0, \"Rolling\": 0.0, \"Daily confirmed deaths\": \"Daily confirmed deaths\", \"7-day rolling average\": \"7-day rolling average\"}, {\"Dates\": \"2020-04-06\", \"New_deaths\": 0, \"Rolling\": 0.0, \"Daily confirmed deaths\": \"Daily confirmed deaths\", \"7-day rolling average\": \"7-day rolling average\"}, {\"Dates\": \"2020-04-07\", \"New_deaths\": 0, \"Rolling\": 0.0, \"Daily confirmed deaths\": \"Daily confirmed deaths\", \"7-day rolling average\": \"7-day rolling average\"}, {\"Dates\": \"2020-04-08\", \"New_deaths\": 0, \"Rolling\": 0.0, \"Daily confirmed deaths\": \"Daily confirmed deaths\", \"7-day rolling average\": \"7-day rolling average\"}, {\"Dates\": \"2020-04-09\", \"New_deaths\": 0, \"Rolling\": 0.0, \"Daily confirmed deaths\": \"Daily confirmed deaths\", \"7-day rolling average\": \"7-day rolling average\"}, {\"Dates\": \"2020-04-10\", \"New_deaths\": 0, \"Rolling\": 0.0, \"Daily confirmed deaths\": \"Daily confirmed deaths\", \"7-day rolling average\": \"7-day rolling average\"}, {\"Dates\": \"2020-04-11\", \"New_deaths\": 0, \"Rolling\": 0.0, \"Daily confirmed deaths\": \"Daily confirmed deaths\", \"7-day rolling average\": \"7-day rolling average\"}, {\"Dates\": \"2020-04-12\", \"New_deaths\": 0, \"Rolling\": 0.0, \"Daily confirmed deaths\": \"Daily confirmed deaths\", \"7-day rolling average\": \"7-day rolling average\"}, {\"Dates\": \"2020-04-13\", \"New_deaths\": 0, \"Rolling\": 0.0, \"Daily confirmed deaths\": \"Daily confirmed deaths\", \"7-day rolling average\": \"7-day rolling average\"}, {\"Dates\": \"2020-04-14\", \"New_deaths\": 0, \"Rolling\": 0.0, \"Daily confirmed deaths\": \"Daily confirmed deaths\", \"7-day rolling average\": \"7-day rolling average\"}, {\"Dates\": \"2020-04-15\", \"New_deaths\": 0, \"Rolling\": 0.0, \"Daily confirmed deaths\": \"Daily confirmed deaths\", \"7-day rolling average\": \"7-day rolling average\"}, {\"Dates\": \"2020-04-16\", \"New_deaths\": 0, \"Rolling\": 0.0, \"Daily confirmed deaths\": \"Daily confirmed deaths\", \"7-day rolling average\": \"7-day rolling average\"}, {\"Dates\": \"2020-04-17\", \"New_deaths\": 1, \"Rolling\": 0.14285714285714285, \"Daily confirmed deaths\": \"Daily confirmed deaths\", \"7-day rolling average\": \"7-day rolling average\"}, {\"Dates\": \"2020-04-18\", \"New_deaths\": 0, \"Rolling\": 0.14285714285714285, \"Daily confirmed deaths\": \"Daily confirmed deaths\", \"7-day rolling average\": \"7-day rolling average\"}, {\"Dates\": \"2020-04-19\", \"New_deaths\": 0, \"Rolling\": 0.14285714285714285, \"Daily confirmed deaths\": \"Daily confirmed deaths\", \"7-day rolling average\": \"7-day rolling average\"}, {\"Dates\": \"2020-04-20\", \"New_deaths\": 0, \"Rolling\": 0.14285714285714285, \"Daily confirmed deaths\": \"Daily confirmed deaths\", \"7-day rolling average\": \"7-day rolling average\"}, {\"Dates\": \"2020-04-21\", \"New_deaths\": 1, \"Rolling\": 0.2857142857142857, \"Daily confirmed deaths\": \"Daily confirmed deaths\", \"7-day rolling average\": \"7-day rolling average\"}, {\"Dates\": \"2020-04-22\", \"New_deaths\": 1, \"Rolling\": 0.42857142857142855, \"Daily confirmed deaths\": \"Daily confirmed deaths\", \"7-day rolling average\": \"7-day rolling average\"}, {\"Dates\": \"2020-04-23\", \"New_deaths\": 0, \"Rolling\": 0.42857142857142855, \"Daily confirmed deaths\": \"Daily confirmed deaths\", \"7-day rolling average\": \"7-day rolling average\"}, {\"Dates\": \"2020-04-24\", \"New_deaths\": 0, \"Rolling\": 0.2857142857142857, \"Daily confirmed deaths\": \"Daily confirmed deaths\", \"7-day rolling average\": \"7-day rolling average\"}, {\"Dates\": \"2020-04-25\", \"New_deaths\": 0, \"Rolling\": 0.2857142857142857, \"Daily confirmed deaths\": \"Daily confirmed deaths\", \"7-day rolling average\": \"7-day rolling average\"}, {\"Dates\": \"2020-04-26\", \"New_deaths\": 1, \"Rolling\": 0.42857142857142855, \"Daily confirmed deaths\": \"Daily confirmed deaths\", \"7-day rolling average\": \"7-day rolling average\"}, {\"Dates\": \"2020-04-27\", \"New_deaths\": 0, \"Rolling\": 0.42857142857142855, \"Daily confirmed deaths\": \"Daily confirmed deaths\", \"7-day rolling average\": \"7-day rolling average\"}]}}, {\"mode\": \"vega-lite\"});\n",
       "</script>"
      ],
      "text/plain": [
       "alt.LayerChart(...)"
      ]
     },
     "execution_count": 96,
     "metadata": {},
     "output_type": "execute_result"
    }
   ],
   "source": [
    "#hide_input\n",
    "bars, line = my_deaths_plot(region)\n",
    "(bars + line).properties(\n",
    "    title=f'COVID-19 in Chile: Daily confirmed deaths in {region}',\n",
    "    width=600\n",
    ")"
   ]
  },
  {
   "cell_type": "markdown",
   "metadata": {
    "papermill": {
     "duration": 0.100891,
     "end_time": "2020-04-28T12:17:00.239243",
     "exception": false,
     "start_time": "2020-04-28T12:17:00.138352",
     "status": "completed"
    },
    "tags": []
   },
   "source": [
    "## Araucanía"
   ]
  },
  {
   "cell_type": "code",
   "execution_count": 97,
   "metadata": {
    "execution": {
     "iopub.execute_input": "2020-04-28T12:17:00.455531Z",
     "iopub.status.busy": "2020-04-28T12:17:00.454885Z",
     "iopub.status.idle": "2020-04-28T12:17:00.457983Z",
     "shell.execute_reply": "2020-04-28T12:17:00.457390Z"
    },
    "papermill": {
     "duration": 0.116691,
     "end_time": "2020-04-28T12:17:00.458092",
     "exception": false,
     "start_time": "2020-04-28T12:17:00.341401",
     "status": "completed"
    },
    "scrolled": true,
    "tags": []
   },
   "outputs": [],
   "source": [
    "#hide\n",
    "region = \"Araucanía\""
   ]
  },
  {
   "cell_type": "code",
   "execution_count": 98,
   "metadata": {
    "execution": {
     "iopub.execute_input": "2020-04-28T12:17:00.671602Z",
     "iopub.status.busy": "2020-04-28T12:17:00.668633Z",
     "iopub.status.idle": "2020-04-28T12:17:00.709039Z",
     "shell.execute_reply": "2020-04-28T12:17:00.708521Z"
    },
    "papermill": {
     "duration": 0.150686,
     "end_time": "2020-04-28T12:17:00.709151",
     "exception": false,
     "start_time": "2020-04-28T12:17:00.558465",
     "status": "completed"
    },
    "tags": []
   },
   "outputs": [
    {
     "data": {
      "text/html": [
       "\n",
       "<div id=\"altair-viz-d7bd277bea6b450ca7f57393f3246a71\"></div>\n",
       "<script type=\"text/javascript\">\n",
       "  (function(spec, embedOpt){\n",
       "    let outputDiv = document.currentScript.previousElementSibling;\n",
       "    if (outputDiv.id !== \"altair-viz-d7bd277bea6b450ca7f57393f3246a71\") {\n",
       "      outputDiv = document.getElementById(\"altair-viz-d7bd277bea6b450ca7f57393f3246a71\");\n",
       "    }\n",
       "    const paths = {\n",
       "      \"vega\": \"https://cdn.jsdelivr.net/npm//vega@5?noext\",\n",
       "      \"vega-lib\": \"https://cdn.jsdelivr.net/npm//vega-lib?noext\",\n",
       "      \"vega-lite\": \"https://cdn.jsdelivr.net/npm//vega-lite@4.8.1?noext\",\n",
       "      \"vega-embed\": \"https://cdn.jsdelivr.net/npm//vega-embed@6?noext\",\n",
       "    };\n",
       "\n",
       "    function loadScript(lib) {\n",
       "      return new Promise(function(resolve, reject) {\n",
       "        var s = document.createElement('script');\n",
       "        s.src = paths[lib];\n",
       "        s.async = true;\n",
       "        s.onload = () => resolve(paths[lib]);\n",
       "        s.onerror = () => reject(`Error loading script: ${paths[lib]}`);\n",
       "        document.getElementsByTagName(\"head\")[0].appendChild(s);\n",
       "      });\n",
       "    }\n",
       "\n",
       "    function showError(err) {\n",
       "      outputDiv.innerHTML = `<div class=\"error\" style=\"color:red;\">${err}</div>`;\n",
       "      throw err;\n",
       "    }\n",
       "\n",
       "    function displayChart(vegaEmbed) {\n",
       "      vegaEmbed(outputDiv, spec, embedOpt)\n",
       "        .catch(err => showError(`Javascript Error: ${err.message}<br>This usually means there's a typo in your chart specification. See the javascript console for the full traceback.`));\n",
       "    }\n",
       "\n",
       "    if(typeof define === \"function\" && define.amd) {\n",
       "      requirejs.config({paths});\n",
       "      require([\"vega-embed\"], displayChart, err => showError(`Error loading script: ${err.message}`));\n",
       "    } else if (typeof vegaEmbed === \"function\") {\n",
       "      displayChart(vegaEmbed);\n",
       "    } else {\n",
       "      loadScript(\"vega\")\n",
       "        .then(() => loadScript(\"vega-lite\"))\n",
       "        .then(() => loadScript(\"vega-embed\"))\n",
       "        .catch(showError)\n",
       "        .then(() => displayChart(vegaEmbed));\n",
       "    }\n",
       "  })({\"config\": {\"view\": {\"continuousWidth\": 400, \"continuousHeight\": 300}}, \"layer\": [{\"mark\": {\"type\": \"bar\", \"color\": \"firebrick\", \"opacity\": 0.7}, \"encoding\": {\"opacity\": {\"type\": \"nominal\", \"field\": \"Daily confirmed deaths\", \"legend\": {\"title\": \"\"}}, \"tooltip\": [{\"type\": \"nominal\", \"field\": \"Dates\"}, {\"type\": \"quantitative\", \"field\": \"New_deaths\"}], \"x\": {\"type\": \"nominal\", \"axis\": {\"title\": \"Date\"}, \"field\": \"Dates\"}, \"y\": {\"type\": \"quantitative\", \"axis\": {\"title\": \"Daily confirmed deaths\"}, \"field\": \"New_deaths\"}}}, {\"mark\": {\"type\": \"line\", \"color\": \"firebrick\", \"point\": {\"filled\": true, \"fill\": \"firebrick\"}}, \"encoding\": {\"shape\": {\"type\": \"nominal\", \"field\": \"7-day rolling average\", \"legend\": {\"title\": \"\"}}, \"x\": {\"type\": \"nominal\", \"axis\": {\"title\": \"Date\"}, \"field\": \"Dates\"}, \"y\": {\"type\": \"quantitative\", \"field\": \"Rolling\"}}}], \"data\": {\"name\": \"data-b609f7a66eab95dadb97892b0782b2f1\"}, \"title\": \"COVID-19 in Chile: Daily confirmed deaths in Araucan\\u00eda\", \"width\": 600, \"$schema\": \"https://vega.github.io/schema/vega-lite/v4.8.1.json\", \"datasets\": {\"data-b609f7a66eab95dadb97892b0782b2f1\": [{\"Dates\": \"2020-03-25\", \"New_deaths\": 0, \"Rolling\": null, \"Daily confirmed deaths\": \"Daily confirmed deaths\", \"7-day rolling average\": \"7-day rolling average\"}, {\"Dates\": \"2020-03-26\", \"New_deaths\": 0, \"Rolling\": null, \"Daily confirmed deaths\": \"Daily confirmed deaths\", \"7-day rolling average\": \"7-day rolling average\"}, {\"Dates\": \"2020-03-27\", \"New_deaths\": 0, \"Rolling\": null, \"Daily confirmed deaths\": \"Daily confirmed deaths\", \"7-day rolling average\": \"7-day rolling average\"}, {\"Dates\": \"2020-03-28\", \"New_deaths\": 1, \"Rolling\": null, \"Daily confirmed deaths\": \"Daily confirmed deaths\", \"7-day rolling average\": \"7-day rolling average\"}, {\"Dates\": \"2020-03-29\", \"New_deaths\": 1, \"Rolling\": null, \"Daily confirmed deaths\": \"Daily confirmed deaths\", \"7-day rolling average\": \"7-day rolling average\"}, {\"Dates\": \"2020-03-30\", \"New_deaths\": 0, \"Rolling\": null, \"Daily confirmed deaths\": \"Daily confirmed deaths\", \"7-day rolling average\": \"7-day rolling average\"}, {\"Dates\": \"2020-03-31\", \"New_deaths\": 2, \"Rolling\": 0.5714285714285714, \"Daily confirmed deaths\": \"Daily confirmed deaths\", \"7-day rolling average\": \"7-day rolling average\"}, {\"Dates\": \"2020-04-01\", \"New_deaths\": 2, \"Rolling\": 0.8571428571428571, \"Daily confirmed deaths\": \"Daily confirmed deaths\", \"7-day rolling average\": \"7-day rolling average\"}, {\"Dates\": \"2020-04-02\", \"New_deaths\": 1, \"Rolling\": 1.0, \"Daily confirmed deaths\": \"Daily confirmed deaths\", \"7-day rolling average\": \"7-day rolling average\"}, {\"Dates\": \"2020-04-03\", \"New_deaths\": 0, \"Rolling\": 1.0, \"Daily confirmed deaths\": \"Daily confirmed deaths\", \"7-day rolling average\": \"7-day rolling average\"}, {\"Dates\": \"2020-04-04\", \"New_deaths\": 2, \"Rolling\": 1.1428571428571428, \"Daily confirmed deaths\": \"Daily confirmed deaths\", \"7-day rolling average\": \"7-day rolling average\"}, {\"Dates\": \"2020-04-05\", \"New_deaths\": 4, \"Rolling\": 1.5714285714285714, \"Daily confirmed deaths\": \"Daily confirmed deaths\", \"7-day rolling average\": \"7-day rolling average\"}, {\"Dates\": \"2020-04-06\", \"New_deaths\": 1, \"Rolling\": 1.7142857142857142, \"Daily confirmed deaths\": \"Daily confirmed deaths\", \"7-day rolling average\": \"7-day rolling average\"}, {\"Dates\": \"2020-04-07\", \"New_deaths\": 0, \"Rolling\": 1.4285714285714286, \"Daily confirmed deaths\": \"Daily confirmed deaths\", \"7-day rolling average\": \"7-day rolling average\"}, {\"Dates\": \"2020-04-08\", \"New_deaths\": 1, \"Rolling\": 1.2857142857142858, \"Daily confirmed deaths\": \"Daily confirmed deaths\", \"7-day rolling average\": \"7-day rolling average\"}, {\"Dates\": \"2020-04-09\", \"New_deaths\": 1, \"Rolling\": 1.2857142857142858, \"Daily confirmed deaths\": \"Daily confirmed deaths\", \"7-day rolling average\": \"7-day rolling average\"}, {\"Dates\": \"2020-04-10\", \"New_deaths\": 0, \"Rolling\": 1.2857142857142858, \"Daily confirmed deaths\": \"Daily confirmed deaths\", \"7-day rolling average\": \"7-day rolling average\"}, {\"Dates\": \"2020-04-11\", \"New_deaths\": 1, \"Rolling\": 1.1428571428571428, \"Daily confirmed deaths\": \"Daily confirmed deaths\", \"7-day rolling average\": \"7-day rolling average\"}, {\"Dates\": \"2020-04-12\", \"New_deaths\": 0, \"Rolling\": 0.5714285714285714, \"Daily confirmed deaths\": \"Daily confirmed deaths\", \"7-day rolling average\": \"7-day rolling average\"}, {\"Dates\": \"2020-04-13\", \"New_deaths\": 0, \"Rolling\": 0.42857142857142855, \"Daily confirmed deaths\": \"Daily confirmed deaths\", \"7-day rolling average\": \"7-day rolling average\"}, {\"Dates\": \"2020-04-14\", \"New_deaths\": 3, \"Rolling\": 0.8571428571428571, \"Daily confirmed deaths\": \"Daily confirmed deaths\", \"7-day rolling average\": \"7-day rolling average\"}, {\"Dates\": \"2020-04-15\", \"New_deaths\": 1, \"Rolling\": 0.8571428571428571, \"Daily confirmed deaths\": \"Daily confirmed deaths\", \"7-day rolling average\": \"7-day rolling average\"}, {\"Dates\": \"2020-04-16\", \"New_deaths\": 0, \"Rolling\": 0.7142857142857143, \"Daily confirmed deaths\": \"Daily confirmed deaths\", \"7-day rolling average\": \"7-day rolling average\"}, {\"Dates\": \"2020-04-17\", \"New_deaths\": 1, \"Rolling\": 0.8571428571428571, \"Daily confirmed deaths\": \"Daily confirmed deaths\", \"7-day rolling average\": \"7-day rolling average\"}, {\"Dates\": \"2020-04-18\", \"New_deaths\": 1, \"Rolling\": 0.8571428571428571, \"Daily confirmed deaths\": \"Daily confirmed deaths\", \"7-day rolling average\": \"7-day rolling average\"}, {\"Dates\": \"2020-04-19\", \"New_deaths\": 0, \"Rolling\": 0.8571428571428571, \"Daily confirmed deaths\": \"Daily confirmed deaths\", \"7-day rolling average\": \"7-day rolling average\"}, {\"Dates\": \"2020-04-20\", \"New_deaths\": 0, \"Rolling\": 0.8571428571428571, \"Daily confirmed deaths\": \"Daily confirmed deaths\", \"7-day rolling average\": \"7-day rolling average\"}, {\"Dates\": \"2020-04-21\", \"New_deaths\": 2, \"Rolling\": 0.7142857142857143, \"Daily confirmed deaths\": \"Daily confirmed deaths\", \"7-day rolling average\": \"7-day rolling average\"}, {\"Dates\": \"2020-04-22\", \"New_deaths\": 1, \"Rolling\": 0.7142857142857143, \"Daily confirmed deaths\": \"Daily confirmed deaths\", \"7-day rolling average\": \"7-day rolling average\"}, {\"Dates\": \"2020-04-23\", \"New_deaths\": 0, \"Rolling\": 0.7142857142857143, \"Daily confirmed deaths\": \"Daily confirmed deaths\", \"7-day rolling average\": \"7-day rolling average\"}, {\"Dates\": \"2020-04-24\", \"New_deaths\": 0, \"Rolling\": 0.5714285714285714, \"Daily confirmed deaths\": \"Daily confirmed deaths\", \"7-day rolling average\": \"7-day rolling average\"}, {\"Dates\": \"2020-04-25\", \"New_deaths\": 1, \"Rolling\": 0.5714285714285714, \"Daily confirmed deaths\": \"Daily confirmed deaths\", \"7-day rolling average\": \"7-day rolling average\"}, {\"Dates\": \"2020-04-26\", \"New_deaths\": 2, \"Rolling\": 0.8571428571428571, \"Daily confirmed deaths\": \"Daily confirmed deaths\", \"7-day rolling average\": \"7-day rolling average\"}, {\"Dates\": \"2020-04-27\", \"New_deaths\": 3, \"Rolling\": 1.2857142857142858, \"Daily confirmed deaths\": \"Daily confirmed deaths\", \"7-day rolling average\": \"7-day rolling average\"}]}}, {\"mode\": \"vega-lite\"});\n",
       "</script>"
      ],
      "text/plain": [
       "alt.LayerChart(...)"
      ]
     },
     "execution_count": 98,
     "metadata": {},
     "output_type": "execute_result"
    }
   ],
   "source": [
    "#hide_input\n",
    "bars, line = my_deaths_plot(region)\n",
    "(bars + line).properties(\n",
    "    title=f'COVID-19 in Chile: Daily confirmed deaths in {region}',\n",
    "    width=600\n",
    ")"
   ]
  },
  {
   "cell_type": "markdown",
   "metadata": {
    "papermill": {
     "duration": 0.103094,
     "end_time": "2020-04-28T12:17:00.913964",
     "exception": false,
     "start_time": "2020-04-28T12:17:00.810870",
     "status": "completed"
    },
    "tags": []
   },
   "source": [
    "## Los Ríos"
   ]
  },
  {
   "cell_type": "code",
   "execution_count": 99,
   "metadata": {
    "execution": {
     "iopub.execute_input": "2020-04-28T12:17:01.130352Z",
     "iopub.status.busy": "2020-04-28T12:17:01.129747Z",
     "iopub.status.idle": "2020-04-28T12:17:01.131461Z",
     "shell.execute_reply": "2020-04-28T12:17:01.131937Z"
    },
    "papermill": {
     "duration": 0.111561,
     "end_time": "2020-04-28T12:17:01.132063",
     "exception": false,
     "start_time": "2020-04-28T12:17:01.020502",
     "status": "completed"
    },
    "scrolled": true,
    "tags": []
   },
   "outputs": [],
   "source": [
    "#hide\n",
    "region = \"Los Ríos\""
   ]
  },
  {
   "cell_type": "code",
   "execution_count": 100,
   "metadata": {
    "execution": {
     "iopub.execute_input": "2020-04-28T12:17:01.373002Z",
     "iopub.status.busy": "2020-04-28T12:17:01.361115Z",
     "iopub.status.idle": "2020-04-28T12:17:01.398254Z",
     "shell.execute_reply": "2020-04-28T12:17:01.397603Z"
    },
    "papermill": {
     "duration": 0.160251,
     "end_time": "2020-04-28T12:17:01.398382",
     "exception": false,
     "start_time": "2020-04-28T12:17:01.238131",
     "status": "completed"
    },
    "tags": []
   },
   "outputs": [
    {
     "data": {
      "text/html": [
       "\n",
       "<div id=\"altair-viz-c1d8da5684a6446990764c788f1a3305\"></div>\n",
       "<script type=\"text/javascript\">\n",
       "  (function(spec, embedOpt){\n",
       "    let outputDiv = document.currentScript.previousElementSibling;\n",
       "    if (outputDiv.id !== \"altair-viz-c1d8da5684a6446990764c788f1a3305\") {\n",
       "      outputDiv = document.getElementById(\"altair-viz-c1d8da5684a6446990764c788f1a3305\");\n",
       "    }\n",
       "    const paths = {\n",
       "      \"vega\": \"https://cdn.jsdelivr.net/npm//vega@5?noext\",\n",
       "      \"vega-lib\": \"https://cdn.jsdelivr.net/npm//vega-lib?noext\",\n",
       "      \"vega-lite\": \"https://cdn.jsdelivr.net/npm//vega-lite@4.8.1?noext\",\n",
       "      \"vega-embed\": \"https://cdn.jsdelivr.net/npm//vega-embed@6?noext\",\n",
       "    };\n",
       "\n",
       "    function loadScript(lib) {\n",
       "      return new Promise(function(resolve, reject) {\n",
       "        var s = document.createElement('script');\n",
       "        s.src = paths[lib];\n",
       "        s.async = true;\n",
       "        s.onload = () => resolve(paths[lib]);\n",
       "        s.onerror = () => reject(`Error loading script: ${paths[lib]}`);\n",
       "        document.getElementsByTagName(\"head\")[0].appendChild(s);\n",
       "      });\n",
       "    }\n",
       "\n",
       "    function showError(err) {\n",
       "      outputDiv.innerHTML = `<div class=\"error\" style=\"color:red;\">${err}</div>`;\n",
       "      throw err;\n",
       "    }\n",
       "\n",
       "    function displayChart(vegaEmbed) {\n",
       "      vegaEmbed(outputDiv, spec, embedOpt)\n",
       "        .catch(err => showError(`Javascript Error: ${err.message}<br>This usually means there's a typo in your chart specification. See the javascript console for the full traceback.`));\n",
       "    }\n",
       "\n",
       "    if(typeof define === \"function\" && define.amd) {\n",
       "      requirejs.config({paths});\n",
       "      require([\"vega-embed\"], displayChart, err => showError(`Error loading script: ${err.message}`));\n",
       "    } else if (typeof vegaEmbed === \"function\") {\n",
       "      displayChart(vegaEmbed);\n",
       "    } else {\n",
       "      loadScript(\"vega\")\n",
       "        .then(() => loadScript(\"vega-lite\"))\n",
       "        .then(() => loadScript(\"vega-embed\"))\n",
       "        .catch(showError)\n",
       "        .then(() => displayChart(vegaEmbed));\n",
       "    }\n",
       "  })({\"config\": {\"view\": {\"continuousWidth\": 400, \"continuousHeight\": 300}}, \"layer\": [{\"mark\": {\"type\": \"bar\", \"color\": \"firebrick\", \"opacity\": 0.7}, \"encoding\": {\"opacity\": {\"type\": \"nominal\", \"field\": \"Daily confirmed deaths\", \"legend\": {\"title\": \"\"}}, \"tooltip\": [{\"type\": \"nominal\", \"field\": \"Dates\"}, {\"type\": \"quantitative\", \"field\": \"New_deaths\"}], \"x\": {\"type\": \"nominal\", \"axis\": {\"title\": \"Date\"}, \"field\": \"Dates\"}, \"y\": {\"type\": \"quantitative\", \"axis\": {\"title\": \"Daily confirmed deaths\"}, \"field\": \"New_deaths\"}}}, {\"mark\": {\"type\": \"line\", \"color\": \"firebrick\", \"point\": {\"filled\": true, \"fill\": \"firebrick\"}}, \"encoding\": {\"shape\": {\"type\": \"nominal\", \"field\": \"7-day rolling average\", \"legend\": {\"title\": \"\"}}, \"x\": {\"type\": \"nominal\", \"axis\": {\"title\": \"Date\"}, \"field\": \"Dates\"}, \"y\": {\"type\": \"quantitative\", \"field\": \"Rolling\"}}}], \"data\": {\"name\": \"data-01dd2f55ce3b07c6c7d406aab1134e20\"}, \"title\": \"COVID-19 in Chile: Daily confirmed deaths in Los R\\u00edos\", \"width\": 600, \"$schema\": \"https://vega.github.io/schema/vega-lite/v4.8.1.json\", \"datasets\": {\"data-01dd2f55ce3b07c6c7d406aab1134e20\": [{\"Dates\": \"2020-03-25\", \"New_deaths\": 0, \"Rolling\": null, \"Daily confirmed deaths\": \"Daily confirmed deaths\", \"7-day rolling average\": \"7-day rolling average\"}, {\"Dates\": \"2020-03-26\", \"New_deaths\": 0, \"Rolling\": null, \"Daily confirmed deaths\": \"Daily confirmed deaths\", \"7-day rolling average\": \"7-day rolling average\"}, {\"Dates\": \"2020-03-27\", \"New_deaths\": 0, \"Rolling\": null, \"Daily confirmed deaths\": \"Daily confirmed deaths\", \"7-day rolling average\": \"7-day rolling average\"}, {\"Dates\": \"2020-03-28\", \"New_deaths\": 0, \"Rolling\": null, \"Daily confirmed deaths\": \"Daily confirmed deaths\", \"7-day rolling average\": \"7-day rolling average\"}, {\"Dates\": \"2020-03-29\", \"New_deaths\": 0, \"Rolling\": null, \"Daily confirmed deaths\": \"Daily confirmed deaths\", \"7-day rolling average\": \"7-day rolling average\"}, {\"Dates\": \"2020-03-30\", \"New_deaths\": 0, \"Rolling\": null, \"Daily confirmed deaths\": \"Daily confirmed deaths\", \"7-day rolling average\": \"7-day rolling average\"}, {\"Dates\": \"2020-03-31\", \"New_deaths\": 0, \"Rolling\": 0.0, \"Daily confirmed deaths\": \"Daily confirmed deaths\", \"7-day rolling average\": \"7-day rolling average\"}, {\"Dates\": \"2020-04-01\", \"New_deaths\": 1, \"Rolling\": 0.14285714285714285, \"Daily confirmed deaths\": \"Daily confirmed deaths\", \"7-day rolling average\": \"7-day rolling average\"}, {\"Dates\": \"2020-04-02\", \"New_deaths\": 0, \"Rolling\": 0.14285714285714285, \"Daily confirmed deaths\": \"Daily confirmed deaths\", \"7-day rolling average\": \"7-day rolling average\"}, {\"Dates\": \"2020-04-03\", \"New_deaths\": 0, \"Rolling\": 0.14285714285714285, \"Daily confirmed deaths\": \"Daily confirmed deaths\", \"7-day rolling average\": \"7-day rolling average\"}, {\"Dates\": \"2020-04-04\", \"New_deaths\": 0, \"Rolling\": 0.14285714285714285, \"Daily confirmed deaths\": \"Daily confirmed deaths\", \"7-day rolling average\": \"7-day rolling average\"}, {\"Dates\": \"2020-04-05\", \"New_deaths\": 0, \"Rolling\": 0.14285714285714285, \"Daily confirmed deaths\": \"Daily confirmed deaths\", \"7-day rolling average\": \"7-day rolling average\"}, {\"Dates\": \"2020-04-06\", \"New_deaths\": 0, \"Rolling\": 0.14285714285714285, \"Daily confirmed deaths\": \"Daily confirmed deaths\", \"7-day rolling average\": \"7-day rolling average\"}, {\"Dates\": \"2020-04-07\", \"New_deaths\": 1, \"Rolling\": 0.2857142857142857, \"Daily confirmed deaths\": \"Daily confirmed deaths\", \"7-day rolling average\": \"7-day rolling average\"}, {\"Dates\": \"2020-04-08\", \"New_deaths\": 0, \"Rolling\": 0.14285714285714285, \"Daily confirmed deaths\": \"Daily confirmed deaths\", \"7-day rolling average\": \"7-day rolling average\"}, {\"Dates\": \"2020-04-09\", \"New_deaths\": 0, \"Rolling\": 0.14285714285714285, \"Daily confirmed deaths\": \"Daily confirmed deaths\", \"7-day rolling average\": \"7-day rolling average\"}, {\"Dates\": \"2020-04-10\", \"New_deaths\": 0, \"Rolling\": 0.14285714285714285, \"Daily confirmed deaths\": \"Daily confirmed deaths\", \"7-day rolling average\": \"7-day rolling average\"}, {\"Dates\": \"2020-04-11\", \"New_deaths\": 0, \"Rolling\": 0.14285714285714285, \"Daily confirmed deaths\": \"Daily confirmed deaths\", \"7-day rolling average\": \"7-day rolling average\"}, {\"Dates\": \"2020-04-12\", \"New_deaths\": 1, \"Rolling\": 0.2857142857142857, \"Daily confirmed deaths\": \"Daily confirmed deaths\", \"7-day rolling average\": \"7-day rolling average\"}, {\"Dates\": \"2020-04-13\", \"New_deaths\": 0, \"Rolling\": 0.2857142857142857, \"Daily confirmed deaths\": \"Daily confirmed deaths\", \"7-day rolling average\": \"7-day rolling average\"}, {\"Dates\": \"2020-04-14\", \"New_deaths\": 0, \"Rolling\": 0.14285714285714285, \"Daily confirmed deaths\": \"Daily confirmed deaths\", \"7-day rolling average\": \"7-day rolling average\"}, {\"Dates\": \"2020-04-15\", \"New_deaths\": 0, \"Rolling\": 0.14285714285714285, \"Daily confirmed deaths\": \"Daily confirmed deaths\", \"7-day rolling average\": \"7-day rolling average\"}, {\"Dates\": \"2020-04-16\", \"New_deaths\": 0, \"Rolling\": 0.14285714285714285, \"Daily confirmed deaths\": \"Daily confirmed deaths\", \"7-day rolling average\": \"7-day rolling average\"}, {\"Dates\": \"2020-04-17\", \"New_deaths\": 0, \"Rolling\": 0.14285714285714285, \"Daily confirmed deaths\": \"Daily confirmed deaths\", \"7-day rolling average\": \"7-day rolling average\"}, {\"Dates\": \"2020-04-18\", \"New_deaths\": 0, \"Rolling\": 0.14285714285714285, \"Daily confirmed deaths\": \"Daily confirmed deaths\", \"7-day rolling average\": \"7-day rolling average\"}, {\"Dates\": \"2020-04-19\", \"New_deaths\": 0, \"Rolling\": 0.0, \"Daily confirmed deaths\": \"Daily confirmed deaths\", \"7-day rolling average\": \"7-day rolling average\"}, {\"Dates\": \"2020-04-20\", \"New_deaths\": 0, \"Rolling\": 0.0, \"Daily confirmed deaths\": \"Daily confirmed deaths\", \"7-day rolling average\": \"7-day rolling average\"}, {\"Dates\": \"2020-04-21\", \"New_deaths\": 0, \"Rolling\": 0.0, \"Daily confirmed deaths\": \"Daily confirmed deaths\", \"7-day rolling average\": \"7-day rolling average\"}, {\"Dates\": \"2020-04-22\", \"New_deaths\": 0, \"Rolling\": 0.0, \"Daily confirmed deaths\": \"Daily confirmed deaths\", \"7-day rolling average\": \"7-day rolling average\"}, {\"Dates\": \"2020-04-23\", \"New_deaths\": 0, \"Rolling\": 0.0, \"Daily confirmed deaths\": \"Daily confirmed deaths\", \"7-day rolling average\": \"7-day rolling average\"}, {\"Dates\": \"2020-04-24\", \"New_deaths\": 0, \"Rolling\": 0.0, \"Daily confirmed deaths\": \"Daily confirmed deaths\", \"7-day rolling average\": \"7-day rolling average\"}, {\"Dates\": \"2020-04-25\", \"New_deaths\": 0, \"Rolling\": 0.0, \"Daily confirmed deaths\": \"Daily confirmed deaths\", \"7-day rolling average\": \"7-day rolling average\"}, {\"Dates\": \"2020-04-26\", \"New_deaths\": 0, \"Rolling\": 0.0, \"Daily confirmed deaths\": \"Daily confirmed deaths\", \"7-day rolling average\": \"7-day rolling average\"}, {\"Dates\": \"2020-04-27\", \"New_deaths\": 0, \"Rolling\": 0.0, \"Daily confirmed deaths\": \"Daily confirmed deaths\", \"7-day rolling average\": \"7-day rolling average\"}]}}, {\"mode\": \"vega-lite\"});\n",
       "</script>"
      ],
      "text/plain": [
       "alt.LayerChart(...)"
      ]
     },
     "execution_count": 100,
     "metadata": {},
     "output_type": "execute_result"
    }
   ],
   "source": [
    "#hide_input\n",
    "bars, line = my_deaths_plot(region)\n",
    "(bars + line).properties(\n",
    "    title=f'COVID-19 in Chile: Daily confirmed deaths in {region}',\n",
    "    width=600\n",
    ")"
   ]
  },
  {
   "cell_type": "markdown",
   "metadata": {
    "papermill": {
     "duration": 0.102008,
     "end_time": "2020-04-28T12:17:01.602982",
     "exception": false,
     "start_time": "2020-04-28T12:17:01.500974",
     "status": "completed"
    },
    "tags": []
   },
   "source": [
    "## Los Lagos"
   ]
  },
  {
   "cell_type": "code",
   "execution_count": 101,
   "metadata": {
    "execution": {
     "iopub.execute_input": "2020-04-28T12:17:01.813402Z",
     "iopub.status.busy": "2020-04-28T12:17:01.812793Z",
     "iopub.status.idle": "2020-04-28T12:17:01.815877Z",
     "shell.execute_reply": "2020-04-28T12:17:01.815262Z"
    },
    "papermill": {
     "duration": 0.111066,
     "end_time": "2020-04-28T12:17:01.815985",
     "exception": false,
     "start_time": "2020-04-28T12:17:01.704919",
     "status": "completed"
    },
    "scrolled": true,
    "tags": []
   },
   "outputs": [],
   "source": [
    "#hide\n",
    "region = \"Los Lagos\""
   ]
  },
  {
   "cell_type": "code",
   "execution_count": 102,
   "metadata": {
    "execution": {
     "iopub.execute_input": "2020-04-28T12:17:02.041749Z",
     "iopub.status.busy": "2020-04-28T12:17:02.041134Z",
     "iopub.status.idle": "2020-04-28T12:17:02.065005Z",
     "shell.execute_reply": "2020-04-28T12:17:02.064510Z"
    },
    "papermill": {
     "duration": 0.147005,
     "end_time": "2020-04-28T12:17:02.065122",
     "exception": false,
     "start_time": "2020-04-28T12:17:01.918117",
     "status": "completed"
    },
    "tags": []
   },
   "outputs": [
    {
     "data": {
      "text/html": [
       "\n",
       "<div id=\"altair-viz-b840538cf66348498663b9548562ad38\"></div>\n",
       "<script type=\"text/javascript\">\n",
       "  (function(spec, embedOpt){\n",
       "    let outputDiv = document.currentScript.previousElementSibling;\n",
       "    if (outputDiv.id !== \"altair-viz-b840538cf66348498663b9548562ad38\") {\n",
       "      outputDiv = document.getElementById(\"altair-viz-b840538cf66348498663b9548562ad38\");\n",
       "    }\n",
       "    const paths = {\n",
       "      \"vega\": \"https://cdn.jsdelivr.net/npm//vega@5?noext\",\n",
       "      \"vega-lib\": \"https://cdn.jsdelivr.net/npm//vega-lib?noext\",\n",
       "      \"vega-lite\": \"https://cdn.jsdelivr.net/npm//vega-lite@4.8.1?noext\",\n",
       "      \"vega-embed\": \"https://cdn.jsdelivr.net/npm//vega-embed@6?noext\",\n",
       "    };\n",
       "\n",
       "    function loadScript(lib) {\n",
       "      return new Promise(function(resolve, reject) {\n",
       "        var s = document.createElement('script');\n",
       "        s.src = paths[lib];\n",
       "        s.async = true;\n",
       "        s.onload = () => resolve(paths[lib]);\n",
       "        s.onerror = () => reject(`Error loading script: ${paths[lib]}`);\n",
       "        document.getElementsByTagName(\"head\")[0].appendChild(s);\n",
       "      });\n",
       "    }\n",
       "\n",
       "    function showError(err) {\n",
       "      outputDiv.innerHTML = `<div class=\"error\" style=\"color:red;\">${err}</div>`;\n",
       "      throw err;\n",
       "    }\n",
       "\n",
       "    function displayChart(vegaEmbed) {\n",
       "      vegaEmbed(outputDiv, spec, embedOpt)\n",
       "        .catch(err => showError(`Javascript Error: ${err.message}<br>This usually means there's a typo in your chart specification. See the javascript console for the full traceback.`));\n",
       "    }\n",
       "\n",
       "    if(typeof define === \"function\" && define.amd) {\n",
       "      requirejs.config({paths});\n",
       "      require([\"vega-embed\"], displayChart, err => showError(`Error loading script: ${err.message}`));\n",
       "    } else if (typeof vegaEmbed === \"function\") {\n",
       "      displayChart(vegaEmbed);\n",
       "    } else {\n",
       "      loadScript(\"vega\")\n",
       "        .then(() => loadScript(\"vega-lite\"))\n",
       "        .then(() => loadScript(\"vega-embed\"))\n",
       "        .catch(showError)\n",
       "        .then(() => displayChart(vegaEmbed));\n",
       "    }\n",
       "  })({\"config\": {\"view\": {\"continuousWidth\": 400, \"continuousHeight\": 300}}, \"layer\": [{\"mark\": {\"type\": \"bar\", \"color\": \"firebrick\", \"opacity\": 0.7}, \"encoding\": {\"opacity\": {\"type\": \"nominal\", \"field\": \"Daily confirmed deaths\", \"legend\": {\"title\": \"\"}}, \"tooltip\": [{\"type\": \"nominal\", \"field\": \"Dates\"}, {\"type\": \"quantitative\", \"field\": \"New_deaths\"}], \"x\": {\"type\": \"nominal\", \"axis\": {\"title\": \"Date\"}, \"field\": \"Dates\"}, \"y\": {\"type\": \"quantitative\", \"axis\": {\"title\": \"Daily confirmed deaths\"}, \"field\": \"New_deaths\"}}}, {\"mark\": {\"type\": \"line\", \"color\": \"firebrick\", \"point\": {\"filled\": true, \"fill\": \"firebrick\"}}, \"encoding\": {\"shape\": {\"type\": \"nominal\", \"field\": \"7-day rolling average\", \"legend\": {\"title\": \"\"}}, \"x\": {\"type\": \"nominal\", \"axis\": {\"title\": \"Date\"}, \"field\": \"Dates\"}, \"y\": {\"type\": \"quantitative\", \"field\": \"Rolling\"}}}], \"data\": {\"name\": \"data-42b842d04bd934023282645b7e367213\"}, \"title\": \"COVID-19 in Chile: Daily confirmed deaths in Los Lagos\", \"width\": 600, \"$schema\": \"https://vega.github.io/schema/vega-lite/v4.8.1.json\", \"datasets\": {\"data-42b842d04bd934023282645b7e367213\": [{\"Dates\": \"2020-03-25\", \"New_deaths\": 0, \"Rolling\": null, \"Daily confirmed deaths\": \"Daily confirmed deaths\", \"7-day rolling average\": \"7-day rolling average\"}, {\"Dates\": \"2020-03-26\", \"New_deaths\": 0, \"Rolling\": null, \"Daily confirmed deaths\": \"Daily confirmed deaths\", \"7-day rolling average\": \"7-day rolling average\"}, {\"Dates\": \"2020-03-27\", \"New_deaths\": 0, \"Rolling\": null, \"Daily confirmed deaths\": \"Daily confirmed deaths\", \"7-day rolling average\": \"7-day rolling average\"}, {\"Dates\": \"2020-03-28\", \"New_deaths\": 0, \"Rolling\": null, \"Daily confirmed deaths\": \"Daily confirmed deaths\", \"7-day rolling average\": \"7-day rolling average\"}, {\"Dates\": \"2020-03-29\", \"New_deaths\": 0, \"Rolling\": null, \"Daily confirmed deaths\": \"Daily confirmed deaths\", \"7-day rolling average\": \"7-day rolling average\"}, {\"Dates\": \"2020-03-30\", \"New_deaths\": 0, \"Rolling\": null, \"Daily confirmed deaths\": \"Daily confirmed deaths\", \"7-day rolling average\": \"7-day rolling average\"}, {\"Dates\": \"2020-03-31\", \"New_deaths\": 0, \"Rolling\": 0.0, \"Daily confirmed deaths\": \"Daily confirmed deaths\", \"7-day rolling average\": \"7-day rolling average\"}, {\"Dates\": \"2020-04-01\", \"New_deaths\": 0, \"Rolling\": 0.0, \"Daily confirmed deaths\": \"Daily confirmed deaths\", \"7-day rolling average\": \"7-day rolling average\"}, {\"Dates\": \"2020-04-02\", \"New_deaths\": 0, \"Rolling\": 0.0, \"Daily confirmed deaths\": \"Daily confirmed deaths\", \"7-day rolling average\": \"7-day rolling average\"}, {\"Dates\": \"2020-04-03\", \"New_deaths\": 0, \"Rolling\": 0.0, \"Daily confirmed deaths\": \"Daily confirmed deaths\", \"7-day rolling average\": \"7-day rolling average\"}, {\"Dates\": \"2020-04-04\", \"New_deaths\": 0, \"Rolling\": 0.0, \"Daily confirmed deaths\": \"Daily confirmed deaths\", \"7-day rolling average\": \"7-day rolling average\"}, {\"Dates\": \"2020-04-05\", \"New_deaths\": 1, \"Rolling\": 0.14285714285714285, \"Daily confirmed deaths\": \"Daily confirmed deaths\", \"7-day rolling average\": \"7-day rolling average\"}, {\"Dates\": \"2020-04-06\", \"New_deaths\": 1, \"Rolling\": 0.2857142857142857, \"Daily confirmed deaths\": \"Daily confirmed deaths\", \"7-day rolling average\": \"7-day rolling average\"}, {\"Dates\": \"2020-04-07\", \"New_deaths\": 0, \"Rolling\": 0.2857142857142857, \"Daily confirmed deaths\": \"Daily confirmed deaths\", \"7-day rolling average\": \"7-day rolling average\"}, {\"Dates\": \"2020-04-08\", \"New_deaths\": 0, \"Rolling\": 0.2857142857142857, \"Daily confirmed deaths\": \"Daily confirmed deaths\", \"7-day rolling average\": \"7-day rolling average\"}, {\"Dates\": \"2020-04-09\", \"New_deaths\": 0, \"Rolling\": 0.2857142857142857, \"Daily confirmed deaths\": \"Daily confirmed deaths\", \"7-day rolling average\": \"7-day rolling average\"}, {\"Dates\": \"2020-04-10\", \"New_deaths\": 0, \"Rolling\": 0.2857142857142857, \"Daily confirmed deaths\": \"Daily confirmed deaths\", \"7-day rolling average\": \"7-day rolling average\"}, {\"Dates\": \"2020-04-11\", \"New_deaths\": 3, \"Rolling\": 0.7142857142857143, \"Daily confirmed deaths\": \"Daily confirmed deaths\", \"7-day rolling average\": \"7-day rolling average\"}, {\"Dates\": \"2020-04-12\", \"New_deaths\": 0, \"Rolling\": 0.5714285714285714, \"Daily confirmed deaths\": \"Daily confirmed deaths\", \"7-day rolling average\": \"7-day rolling average\"}, {\"Dates\": \"2020-04-13\", \"New_deaths\": 0, \"Rolling\": 0.42857142857142855, \"Daily confirmed deaths\": \"Daily confirmed deaths\", \"7-day rolling average\": \"7-day rolling average\"}, {\"Dates\": \"2020-04-14\", \"New_deaths\": 0, \"Rolling\": 0.42857142857142855, \"Daily confirmed deaths\": \"Daily confirmed deaths\", \"7-day rolling average\": \"7-day rolling average\"}, {\"Dates\": \"2020-04-15\", \"New_deaths\": 0, \"Rolling\": 0.42857142857142855, \"Daily confirmed deaths\": \"Daily confirmed deaths\", \"7-day rolling average\": \"7-day rolling average\"}, {\"Dates\": \"2020-04-16\", \"New_deaths\": 0, \"Rolling\": 0.42857142857142855, \"Daily confirmed deaths\": \"Daily confirmed deaths\", \"7-day rolling average\": \"7-day rolling average\"}, {\"Dates\": \"2020-04-17\", \"New_deaths\": 1, \"Rolling\": 0.5714285714285714, \"Daily confirmed deaths\": \"Daily confirmed deaths\", \"7-day rolling average\": \"7-day rolling average\"}, {\"Dates\": \"2020-04-18\", \"New_deaths\": 0, \"Rolling\": 0.14285714285714285, \"Daily confirmed deaths\": \"Daily confirmed deaths\", \"7-day rolling average\": \"7-day rolling average\"}, {\"Dates\": \"2020-04-19\", \"New_deaths\": 0, \"Rolling\": 0.14285714285714285, \"Daily confirmed deaths\": \"Daily confirmed deaths\", \"7-day rolling average\": \"7-day rolling average\"}, {\"Dates\": \"2020-04-20\", \"New_deaths\": 0, \"Rolling\": 0.14285714285714285, \"Daily confirmed deaths\": \"Daily confirmed deaths\", \"7-day rolling average\": \"7-day rolling average\"}, {\"Dates\": \"2020-04-21\", \"New_deaths\": 0, \"Rolling\": 0.14285714285714285, \"Daily confirmed deaths\": \"Daily confirmed deaths\", \"7-day rolling average\": \"7-day rolling average\"}, {\"Dates\": \"2020-04-22\", \"New_deaths\": 0, \"Rolling\": 0.14285714285714285, \"Daily confirmed deaths\": \"Daily confirmed deaths\", \"7-day rolling average\": \"7-day rolling average\"}, {\"Dates\": \"2020-04-23\", \"New_deaths\": 1, \"Rolling\": 0.2857142857142857, \"Daily confirmed deaths\": \"Daily confirmed deaths\", \"7-day rolling average\": \"7-day rolling average\"}, {\"Dates\": \"2020-04-24\", \"New_deaths\": 1, \"Rolling\": 0.2857142857142857, \"Daily confirmed deaths\": \"Daily confirmed deaths\", \"7-day rolling average\": \"7-day rolling average\"}, {\"Dates\": \"2020-04-25\", \"New_deaths\": 0, \"Rolling\": 0.2857142857142857, \"Daily confirmed deaths\": \"Daily confirmed deaths\", \"7-day rolling average\": \"7-day rolling average\"}, {\"Dates\": \"2020-04-26\", \"New_deaths\": 0, \"Rolling\": 0.2857142857142857, \"Daily confirmed deaths\": \"Daily confirmed deaths\", \"7-day rolling average\": \"7-day rolling average\"}, {\"Dates\": \"2020-04-27\", \"New_deaths\": 0, \"Rolling\": 0.2857142857142857, \"Daily confirmed deaths\": \"Daily confirmed deaths\", \"7-day rolling average\": \"7-day rolling average\"}]}}, {\"mode\": \"vega-lite\"});\n",
       "</script>"
      ],
      "text/plain": [
       "alt.LayerChart(...)"
      ]
     },
     "execution_count": 102,
     "metadata": {},
     "output_type": "execute_result"
    }
   ],
   "source": [
    "#hide_input\n",
    "bars, line = my_deaths_plot(region)\n",
    "(bars + line).properties(\n",
    "    title=f'COVID-19 in Chile: Daily confirmed deaths in {region}',\n",
    "    width=600\n",
    ")"
   ]
  },
  {
   "cell_type": "markdown",
   "metadata": {
    "papermill": {
     "duration": 0.10654,
     "end_time": "2020-04-28T12:17:02.274043",
     "exception": false,
     "start_time": "2020-04-28T12:17:02.167503",
     "status": "completed"
    },
    "tags": []
   },
   "source": [
    "## Aysén"
   ]
  },
  {
   "cell_type": "code",
   "execution_count": 103,
   "metadata": {
    "execution": {
     "iopub.execute_input": "2020-04-28T12:17:02.490064Z",
     "iopub.status.busy": "2020-04-28T12:17:02.489464Z",
     "iopub.status.idle": "2020-04-28T12:17:02.492739Z",
     "shell.execute_reply": "2020-04-28T12:17:02.492224Z"
    },
    "papermill": {
     "duration": 0.109695,
     "end_time": "2020-04-28T12:17:02.492847",
     "exception": false,
     "start_time": "2020-04-28T12:17:02.383152",
     "status": "completed"
    },
    "scrolled": true,
    "tags": []
   },
   "outputs": [],
   "source": [
    "#hide\n",
    "region = \"Aysén\""
   ]
  },
  {
   "cell_type": "code",
   "execution_count": 104,
   "metadata": {
    "execution": {
     "iopub.execute_input": "2020-04-28T12:17:02.742816Z",
     "iopub.status.busy": "2020-04-28T12:17:02.714766Z",
     "iopub.status.idle": "2020-04-28T12:17:02.747588Z",
     "shell.execute_reply": "2020-04-28T12:17:02.748075Z"
    },
    "papermill": {
     "duration": 0.151683,
     "end_time": "2020-04-28T12:17:02.748208",
     "exception": false,
     "start_time": "2020-04-28T12:17:02.596525",
     "status": "completed"
    },
    "tags": []
   },
   "outputs": [
    {
     "data": {
      "text/html": [
       "\n",
       "<div id=\"altair-viz-88f2dc0e26ca4527bddaea4edb73a540\"></div>\n",
       "<script type=\"text/javascript\">\n",
       "  (function(spec, embedOpt){\n",
       "    let outputDiv = document.currentScript.previousElementSibling;\n",
       "    if (outputDiv.id !== \"altair-viz-88f2dc0e26ca4527bddaea4edb73a540\") {\n",
       "      outputDiv = document.getElementById(\"altair-viz-88f2dc0e26ca4527bddaea4edb73a540\");\n",
       "    }\n",
       "    const paths = {\n",
       "      \"vega\": \"https://cdn.jsdelivr.net/npm//vega@5?noext\",\n",
       "      \"vega-lib\": \"https://cdn.jsdelivr.net/npm//vega-lib?noext\",\n",
       "      \"vega-lite\": \"https://cdn.jsdelivr.net/npm//vega-lite@4.8.1?noext\",\n",
       "      \"vega-embed\": \"https://cdn.jsdelivr.net/npm//vega-embed@6?noext\",\n",
       "    };\n",
       "\n",
       "    function loadScript(lib) {\n",
       "      return new Promise(function(resolve, reject) {\n",
       "        var s = document.createElement('script');\n",
       "        s.src = paths[lib];\n",
       "        s.async = true;\n",
       "        s.onload = () => resolve(paths[lib]);\n",
       "        s.onerror = () => reject(`Error loading script: ${paths[lib]}`);\n",
       "        document.getElementsByTagName(\"head\")[0].appendChild(s);\n",
       "      });\n",
       "    }\n",
       "\n",
       "    function showError(err) {\n",
       "      outputDiv.innerHTML = `<div class=\"error\" style=\"color:red;\">${err}</div>`;\n",
       "      throw err;\n",
       "    }\n",
       "\n",
       "    function displayChart(vegaEmbed) {\n",
       "      vegaEmbed(outputDiv, spec, embedOpt)\n",
       "        .catch(err => showError(`Javascript Error: ${err.message}<br>This usually means there's a typo in your chart specification. See the javascript console for the full traceback.`));\n",
       "    }\n",
       "\n",
       "    if(typeof define === \"function\" && define.amd) {\n",
       "      requirejs.config({paths});\n",
       "      require([\"vega-embed\"], displayChart, err => showError(`Error loading script: ${err.message}`));\n",
       "    } else if (typeof vegaEmbed === \"function\") {\n",
       "      displayChart(vegaEmbed);\n",
       "    } else {\n",
       "      loadScript(\"vega\")\n",
       "        .then(() => loadScript(\"vega-lite\"))\n",
       "        .then(() => loadScript(\"vega-embed\"))\n",
       "        .catch(showError)\n",
       "        .then(() => displayChart(vegaEmbed));\n",
       "    }\n",
       "  })({\"config\": {\"view\": {\"continuousWidth\": 400, \"continuousHeight\": 300}}, \"layer\": [{\"mark\": {\"type\": \"bar\", \"color\": \"firebrick\", \"opacity\": 0.7}, \"encoding\": {\"opacity\": {\"type\": \"nominal\", \"field\": \"Daily confirmed deaths\", \"legend\": {\"title\": \"\"}}, \"tooltip\": [{\"type\": \"nominal\", \"field\": \"Dates\"}, {\"type\": \"quantitative\", \"field\": \"New_deaths\"}], \"x\": {\"type\": \"nominal\", \"axis\": {\"title\": \"Date\"}, \"field\": \"Dates\"}, \"y\": {\"type\": \"quantitative\", \"axis\": {\"title\": \"Daily confirmed deaths\"}, \"field\": \"New_deaths\"}}}, {\"mark\": {\"type\": \"line\", \"color\": \"firebrick\", \"point\": {\"filled\": true, \"fill\": \"firebrick\"}}, \"encoding\": {\"shape\": {\"type\": \"nominal\", \"field\": \"7-day rolling average\", \"legend\": {\"title\": \"\"}}, \"x\": {\"type\": \"nominal\", \"axis\": {\"title\": \"Date\"}, \"field\": \"Dates\"}, \"y\": {\"type\": \"quantitative\", \"field\": \"Rolling\"}}}], \"data\": {\"name\": \"data-89564600f842dbd2546063583189a8b0\"}, \"title\": \"COVID-19 in Chile: Daily confirmed deaths in Ays\\u00e9n\", \"width\": 600, \"$schema\": \"https://vega.github.io/schema/vega-lite/v4.8.1.json\", \"datasets\": {\"data-89564600f842dbd2546063583189a8b0\": [{\"Dates\": \"2020-03-25\", \"New_deaths\": 0, \"Rolling\": null, \"Daily confirmed deaths\": \"Daily confirmed deaths\", \"7-day rolling average\": \"7-day rolling average\"}, {\"Dates\": \"2020-03-26\", \"New_deaths\": 0, \"Rolling\": null, \"Daily confirmed deaths\": \"Daily confirmed deaths\", \"7-day rolling average\": \"7-day rolling average\"}, {\"Dates\": \"2020-03-27\", \"New_deaths\": 0, \"Rolling\": null, \"Daily confirmed deaths\": \"Daily confirmed deaths\", \"7-day rolling average\": \"7-day rolling average\"}, {\"Dates\": \"2020-03-28\", \"New_deaths\": 0, \"Rolling\": null, \"Daily confirmed deaths\": \"Daily confirmed deaths\", \"7-day rolling average\": \"7-day rolling average\"}, {\"Dates\": \"2020-03-29\", \"New_deaths\": 0, \"Rolling\": null, \"Daily confirmed deaths\": \"Daily confirmed deaths\", \"7-day rolling average\": \"7-day rolling average\"}, {\"Dates\": \"2020-03-30\", \"New_deaths\": 0, \"Rolling\": null, \"Daily confirmed deaths\": \"Daily confirmed deaths\", \"7-day rolling average\": \"7-day rolling average\"}, {\"Dates\": \"2020-03-31\", \"New_deaths\": 0, \"Rolling\": 0.0, \"Daily confirmed deaths\": \"Daily confirmed deaths\", \"7-day rolling average\": \"7-day rolling average\"}, {\"Dates\": \"2020-04-01\", \"New_deaths\": 0, \"Rolling\": 0.0, \"Daily confirmed deaths\": \"Daily confirmed deaths\", \"7-day rolling average\": \"7-day rolling average\"}, {\"Dates\": \"2020-04-02\", \"New_deaths\": 0, \"Rolling\": 0.0, \"Daily confirmed deaths\": \"Daily confirmed deaths\", \"7-day rolling average\": \"7-day rolling average\"}, {\"Dates\": \"2020-04-03\", \"New_deaths\": 0, \"Rolling\": 0.0, \"Daily confirmed deaths\": \"Daily confirmed deaths\", \"7-day rolling average\": \"7-day rolling average\"}, {\"Dates\": \"2020-04-04\", \"New_deaths\": 0, \"Rolling\": 0.0, \"Daily confirmed deaths\": \"Daily confirmed deaths\", \"7-day rolling average\": \"7-day rolling average\"}, {\"Dates\": \"2020-04-05\", \"New_deaths\": 0, \"Rolling\": 0.0, \"Daily confirmed deaths\": \"Daily confirmed deaths\", \"7-day rolling average\": \"7-day rolling average\"}, {\"Dates\": \"2020-04-06\", \"New_deaths\": 0, \"Rolling\": 0.0, \"Daily confirmed deaths\": \"Daily confirmed deaths\", \"7-day rolling average\": \"7-day rolling average\"}, {\"Dates\": \"2020-04-07\", \"New_deaths\": 0, \"Rolling\": 0.0, \"Daily confirmed deaths\": \"Daily confirmed deaths\", \"7-day rolling average\": \"7-day rolling average\"}, {\"Dates\": \"2020-04-08\", \"New_deaths\": 0, \"Rolling\": 0.0, \"Daily confirmed deaths\": \"Daily confirmed deaths\", \"7-day rolling average\": \"7-day rolling average\"}, {\"Dates\": \"2020-04-09\", \"New_deaths\": 0, \"Rolling\": 0.0, \"Daily confirmed deaths\": \"Daily confirmed deaths\", \"7-day rolling average\": \"7-day rolling average\"}, {\"Dates\": \"2020-04-10\", \"New_deaths\": 0, \"Rolling\": 0.0, \"Daily confirmed deaths\": \"Daily confirmed deaths\", \"7-day rolling average\": \"7-day rolling average\"}, {\"Dates\": \"2020-04-11\", \"New_deaths\": 0, \"Rolling\": 0.0, \"Daily confirmed deaths\": \"Daily confirmed deaths\", \"7-day rolling average\": \"7-day rolling average\"}, {\"Dates\": \"2020-04-12\", \"New_deaths\": 0, \"Rolling\": 0.0, \"Daily confirmed deaths\": \"Daily confirmed deaths\", \"7-day rolling average\": \"7-day rolling average\"}, {\"Dates\": \"2020-04-13\", \"New_deaths\": 0, \"Rolling\": 0.0, \"Daily confirmed deaths\": \"Daily confirmed deaths\", \"7-day rolling average\": \"7-day rolling average\"}, {\"Dates\": \"2020-04-14\", \"New_deaths\": 0, \"Rolling\": 0.0, \"Daily confirmed deaths\": \"Daily confirmed deaths\", \"7-day rolling average\": \"7-day rolling average\"}, {\"Dates\": \"2020-04-15\", \"New_deaths\": 0, \"Rolling\": 0.0, \"Daily confirmed deaths\": \"Daily confirmed deaths\", \"7-day rolling average\": \"7-day rolling average\"}, {\"Dates\": \"2020-04-16\", \"New_deaths\": 0, \"Rolling\": 0.0, \"Daily confirmed deaths\": \"Daily confirmed deaths\", \"7-day rolling average\": \"7-day rolling average\"}, {\"Dates\": \"2020-04-17\", \"New_deaths\": 0, \"Rolling\": 0.0, \"Daily confirmed deaths\": \"Daily confirmed deaths\", \"7-day rolling average\": \"7-day rolling average\"}, {\"Dates\": \"2020-04-18\", \"New_deaths\": 0, \"Rolling\": 0.0, \"Daily confirmed deaths\": \"Daily confirmed deaths\", \"7-day rolling average\": \"7-day rolling average\"}, {\"Dates\": \"2020-04-19\", \"New_deaths\": 0, \"Rolling\": 0.0, \"Daily confirmed deaths\": \"Daily confirmed deaths\", \"7-day rolling average\": \"7-day rolling average\"}, {\"Dates\": \"2020-04-20\", \"New_deaths\": 0, \"Rolling\": 0.0, \"Daily confirmed deaths\": \"Daily confirmed deaths\", \"7-day rolling average\": \"7-day rolling average\"}, {\"Dates\": \"2020-04-21\", \"New_deaths\": 0, \"Rolling\": 0.0, \"Daily confirmed deaths\": \"Daily confirmed deaths\", \"7-day rolling average\": \"7-day rolling average\"}, {\"Dates\": \"2020-04-22\", \"New_deaths\": 0, \"Rolling\": 0.0, \"Daily confirmed deaths\": \"Daily confirmed deaths\", \"7-day rolling average\": \"7-day rolling average\"}, {\"Dates\": \"2020-04-23\", \"New_deaths\": 0, \"Rolling\": 0.0, \"Daily confirmed deaths\": \"Daily confirmed deaths\", \"7-day rolling average\": \"7-day rolling average\"}, {\"Dates\": \"2020-04-24\", \"New_deaths\": 0, \"Rolling\": 0.0, \"Daily confirmed deaths\": \"Daily confirmed deaths\", \"7-day rolling average\": \"7-day rolling average\"}, {\"Dates\": \"2020-04-25\", \"New_deaths\": 0, \"Rolling\": 0.0, \"Daily confirmed deaths\": \"Daily confirmed deaths\", \"7-day rolling average\": \"7-day rolling average\"}, {\"Dates\": \"2020-04-26\", \"New_deaths\": 0, \"Rolling\": 0.0, \"Daily confirmed deaths\": \"Daily confirmed deaths\", \"7-day rolling average\": \"7-day rolling average\"}, {\"Dates\": \"2020-04-27\", \"New_deaths\": 0, \"Rolling\": 0.0, \"Daily confirmed deaths\": \"Daily confirmed deaths\", \"7-day rolling average\": \"7-day rolling average\"}]}}, {\"mode\": \"vega-lite\"});\n",
       "</script>"
      ],
      "text/plain": [
       "alt.LayerChart(...)"
      ]
     },
     "execution_count": 104,
     "metadata": {},
     "output_type": "execute_result"
    }
   ],
   "source": [
    "#hide_input\n",
    "bars, line = my_deaths_plot(region)\n",
    "(bars + line).properties(\n",
    "    title=f'COVID-19 in Chile: Daily confirmed deaths in {region}',\n",
    "    width=600\n",
    ")"
   ]
  },
  {
   "cell_type": "markdown",
   "metadata": {
    "papermill": {
     "duration": 0.104388,
     "end_time": "2020-04-28T12:17:02.956451",
     "exception": false,
     "start_time": "2020-04-28T12:17:02.852063",
     "status": "completed"
    },
    "tags": []
   },
   "source": [
    "## Magallanes"
   ]
  },
  {
   "cell_type": "code",
   "execution_count": 105,
   "metadata": {
    "execution": {
     "iopub.execute_input": "2020-04-28T12:17:03.170753Z",
     "iopub.status.busy": "2020-04-28T12:17:03.170156Z",
     "iopub.status.idle": "2020-04-28T12:17:03.173477Z",
     "shell.execute_reply": "2020-04-28T12:17:03.172868Z"
    },
    "papermill": {
     "duration": 0.113074,
     "end_time": "2020-04-28T12:17:03.173599",
     "exception": false,
     "start_time": "2020-04-28T12:17:03.060525",
     "status": "completed"
    },
    "scrolled": true,
    "tags": []
   },
   "outputs": [],
   "source": [
    "#hide\n",
    "region = \"Magallanes\""
   ]
  },
  {
   "cell_type": "code",
   "execution_count": 106,
   "metadata": {
    "execution": {
     "iopub.execute_input": "2020-04-28T12:17:03.407724Z",
     "iopub.status.busy": "2020-04-28T12:17:03.397396Z",
     "iopub.status.idle": "2020-04-28T12:17:03.426954Z",
     "shell.execute_reply": "2020-04-28T12:17:03.427447Z"
    },
    "papermill": {
     "duration": 0.151125,
     "end_time": "2020-04-28T12:17:03.427583",
     "exception": false,
     "start_time": "2020-04-28T12:17:03.276458",
     "status": "completed"
    },
    "tags": []
   },
   "outputs": [
    {
     "data": {
      "text/html": [
       "\n",
       "<div id=\"altair-viz-bd98b7b105854258a685354757943a82\"></div>\n",
       "<script type=\"text/javascript\">\n",
       "  (function(spec, embedOpt){\n",
       "    let outputDiv = document.currentScript.previousElementSibling;\n",
       "    if (outputDiv.id !== \"altair-viz-bd98b7b105854258a685354757943a82\") {\n",
       "      outputDiv = document.getElementById(\"altair-viz-bd98b7b105854258a685354757943a82\");\n",
       "    }\n",
       "    const paths = {\n",
       "      \"vega\": \"https://cdn.jsdelivr.net/npm//vega@5?noext\",\n",
       "      \"vega-lib\": \"https://cdn.jsdelivr.net/npm//vega-lib?noext\",\n",
       "      \"vega-lite\": \"https://cdn.jsdelivr.net/npm//vega-lite@4.8.1?noext\",\n",
       "      \"vega-embed\": \"https://cdn.jsdelivr.net/npm//vega-embed@6?noext\",\n",
       "    };\n",
       "\n",
       "    function loadScript(lib) {\n",
       "      return new Promise(function(resolve, reject) {\n",
       "        var s = document.createElement('script');\n",
       "        s.src = paths[lib];\n",
       "        s.async = true;\n",
       "        s.onload = () => resolve(paths[lib]);\n",
       "        s.onerror = () => reject(`Error loading script: ${paths[lib]}`);\n",
       "        document.getElementsByTagName(\"head\")[0].appendChild(s);\n",
       "      });\n",
       "    }\n",
       "\n",
       "    function showError(err) {\n",
       "      outputDiv.innerHTML = `<div class=\"error\" style=\"color:red;\">${err}</div>`;\n",
       "      throw err;\n",
       "    }\n",
       "\n",
       "    function displayChart(vegaEmbed) {\n",
       "      vegaEmbed(outputDiv, spec, embedOpt)\n",
       "        .catch(err => showError(`Javascript Error: ${err.message}<br>This usually means there's a typo in your chart specification. See the javascript console for the full traceback.`));\n",
       "    }\n",
       "\n",
       "    if(typeof define === \"function\" && define.amd) {\n",
       "      requirejs.config({paths});\n",
       "      require([\"vega-embed\"], displayChart, err => showError(`Error loading script: ${err.message}`));\n",
       "    } else if (typeof vegaEmbed === \"function\") {\n",
       "      displayChart(vegaEmbed);\n",
       "    } else {\n",
       "      loadScript(\"vega\")\n",
       "        .then(() => loadScript(\"vega-lite\"))\n",
       "        .then(() => loadScript(\"vega-embed\"))\n",
       "        .catch(showError)\n",
       "        .then(() => displayChart(vegaEmbed));\n",
       "    }\n",
       "  })({\"config\": {\"view\": {\"continuousWidth\": 400, \"continuousHeight\": 300}}, \"layer\": [{\"mark\": {\"type\": \"bar\", \"color\": \"firebrick\", \"opacity\": 0.7}, \"encoding\": {\"opacity\": {\"type\": \"nominal\", \"field\": \"Daily confirmed deaths\", \"legend\": {\"title\": \"\"}}, \"tooltip\": [{\"type\": \"nominal\", \"field\": \"Dates\"}, {\"type\": \"quantitative\", \"field\": \"New_deaths\"}], \"x\": {\"type\": \"nominal\", \"axis\": {\"title\": \"Date\"}, \"field\": \"Dates\"}, \"y\": {\"type\": \"quantitative\", \"axis\": {\"title\": \"Daily confirmed deaths\"}, \"field\": \"New_deaths\"}}}, {\"mark\": {\"type\": \"line\", \"color\": \"firebrick\", \"point\": {\"filled\": true, \"fill\": \"firebrick\"}}, \"encoding\": {\"shape\": {\"type\": \"nominal\", \"field\": \"7-day rolling average\", \"legend\": {\"title\": \"\"}}, \"x\": {\"type\": \"nominal\", \"axis\": {\"title\": \"Date\"}, \"field\": \"Dates\"}, \"y\": {\"type\": \"quantitative\", \"field\": \"Rolling\"}}}], \"data\": {\"name\": \"data-0c296c8d856dc607149b8d86355ad611\"}, \"title\": \"COVID-19 in Chile: Daily confirmed deaths in Magallanes\", \"width\": 600, \"$schema\": \"https://vega.github.io/schema/vega-lite/v4.8.1.json\", \"datasets\": {\"data-0c296c8d856dc607149b8d86355ad611\": [{\"Dates\": \"2020-03-25\", \"New_deaths\": 0, \"Rolling\": null, \"Daily confirmed deaths\": \"Daily confirmed deaths\", \"7-day rolling average\": \"7-day rolling average\"}, {\"Dates\": \"2020-03-26\", \"New_deaths\": 0, \"Rolling\": null, \"Daily confirmed deaths\": \"Daily confirmed deaths\", \"7-day rolling average\": \"7-day rolling average\"}, {\"Dates\": \"2020-03-27\", \"New_deaths\": 0, \"Rolling\": null, \"Daily confirmed deaths\": \"Daily confirmed deaths\", \"7-day rolling average\": \"7-day rolling average\"}, {\"Dates\": \"2020-03-28\", \"New_deaths\": 0, \"Rolling\": null, \"Daily confirmed deaths\": \"Daily confirmed deaths\", \"7-day rolling average\": \"7-day rolling average\"}, {\"Dates\": \"2020-03-29\", \"New_deaths\": 0, \"Rolling\": null, \"Daily confirmed deaths\": \"Daily confirmed deaths\", \"7-day rolling average\": \"7-day rolling average\"}, {\"Dates\": \"2020-03-30\", \"New_deaths\": 0, \"Rolling\": null, \"Daily confirmed deaths\": \"Daily confirmed deaths\", \"7-day rolling average\": \"7-day rolling average\"}, {\"Dates\": \"2020-03-31\", \"New_deaths\": 0, \"Rolling\": 0.0, \"Daily confirmed deaths\": \"Daily confirmed deaths\", \"7-day rolling average\": \"7-day rolling average\"}, {\"Dates\": \"2020-04-01\", \"New_deaths\": 0, \"Rolling\": 0.0, \"Daily confirmed deaths\": \"Daily confirmed deaths\", \"7-day rolling average\": \"7-day rolling average\"}, {\"Dates\": \"2020-04-02\", \"New_deaths\": 0, \"Rolling\": 0.0, \"Daily confirmed deaths\": \"Daily confirmed deaths\", \"7-day rolling average\": \"7-day rolling average\"}, {\"Dates\": \"2020-04-03\", \"New_deaths\": 1, \"Rolling\": 0.14285714285714285, \"Daily confirmed deaths\": \"Daily confirmed deaths\", \"7-day rolling average\": \"7-day rolling average\"}, {\"Dates\": \"2020-04-04\", \"New_deaths\": 1, \"Rolling\": 0.2857142857142857, \"Daily confirmed deaths\": \"Daily confirmed deaths\", \"7-day rolling average\": \"7-day rolling average\"}, {\"Dates\": \"2020-04-05\", \"New_deaths\": 0, \"Rolling\": 0.2857142857142857, \"Daily confirmed deaths\": \"Daily confirmed deaths\", \"7-day rolling average\": \"7-day rolling average\"}, {\"Dates\": \"2020-04-06\", \"New_deaths\": 0, \"Rolling\": 0.2857142857142857, \"Daily confirmed deaths\": \"Daily confirmed deaths\", \"7-day rolling average\": \"7-day rolling average\"}, {\"Dates\": \"2020-04-07\", \"New_deaths\": 0, \"Rolling\": 0.2857142857142857, \"Daily confirmed deaths\": \"Daily confirmed deaths\", \"7-day rolling average\": \"7-day rolling average\"}, {\"Dates\": \"2020-04-08\", \"New_deaths\": 1, \"Rolling\": 0.42857142857142855, \"Daily confirmed deaths\": \"Daily confirmed deaths\", \"7-day rolling average\": \"7-day rolling average\"}, {\"Dates\": \"2020-04-09\", \"New_deaths\": 0, \"Rolling\": 0.42857142857142855, \"Daily confirmed deaths\": \"Daily confirmed deaths\", \"7-day rolling average\": \"7-day rolling average\"}, {\"Dates\": \"2020-04-10\", \"New_deaths\": 0, \"Rolling\": 0.2857142857142857, \"Daily confirmed deaths\": \"Daily confirmed deaths\", \"7-day rolling average\": \"7-day rolling average\"}, {\"Dates\": \"2020-04-11\", \"New_deaths\": 0, \"Rolling\": 0.14285714285714285, \"Daily confirmed deaths\": \"Daily confirmed deaths\", \"7-day rolling average\": \"7-day rolling average\"}, {\"Dates\": \"2020-04-12\", \"New_deaths\": 1, \"Rolling\": 0.2857142857142857, \"Daily confirmed deaths\": \"Daily confirmed deaths\", \"7-day rolling average\": \"7-day rolling average\"}, {\"Dates\": \"2020-04-13\", \"New_deaths\": 1, \"Rolling\": 0.42857142857142855, \"Daily confirmed deaths\": \"Daily confirmed deaths\", \"7-day rolling average\": \"7-day rolling average\"}, {\"Dates\": \"2020-04-14\", \"New_deaths\": 1, \"Rolling\": 0.5714285714285714, \"Daily confirmed deaths\": \"Daily confirmed deaths\", \"7-day rolling average\": \"7-day rolling average\"}, {\"Dates\": \"2020-04-15\", \"New_deaths\": 0, \"Rolling\": 0.42857142857142855, \"Daily confirmed deaths\": \"Daily confirmed deaths\", \"7-day rolling average\": \"7-day rolling average\"}, {\"Dates\": \"2020-04-16\", \"New_deaths\": 0, \"Rolling\": 0.42857142857142855, \"Daily confirmed deaths\": \"Daily confirmed deaths\", \"7-day rolling average\": \"7-day rolling average\"}, {\"Dates\": \"2020-04-17\", \"New_deaths\": 0, \"Rolling\": 0.42857142857142855, \"Daily confirmed deaths\": \"Daily confirmed deaths\", \"7-day rolling average\": \"7-day rolling average\"}, {\"Dates\": \"2020-04-18\", \"New_deaths\": 0, \"Rolling\": 0.42857142857142855, \"Daily confirmed deaths\": \"Daily confirmed deaths\", \"7-day rolling average\": \"7-day rolling average\"}, {\"Dates\": \"2020-04-19\", \"New_deaths\": 0, \"Rolling\": 0.2857142857142857, \"Daily confirmed deaths\": \"Daily confirmed deaths\", \"7-day rolling average\": \"7-day rolling average\"}, {\"Dates\": \"2020-04-20\", \"New_deaths\": 0, \"Rolling\": 0.14285714285714285, \"Daily confirmed deaths\": \"Daily confirmed deaths\", \"7-day rolling average\": \"7-day rolling average\"}, {\"Dates\": \"2020-04-21\", \"New_deaths\": 1, \"Rolling\": 0.14285714285714285, \"Daily confirmed deaths\": \"Daily confirmed deaths\", \"7-day rolling average\": \"7-day rolling average\"}, {\"Dates\": \"2020-04-22\", \"New_deaths\": 0, \"Rolling\": 0.14285714285714285, \"Daily confirmed deaths\": \"Daily confirmed deaths\", \"7-day rolling average\": \"7-day rolling average\"}, {\"Dates\": \"2020-04-23\", \"New_deaths\": 0, \"Rolling\": 0.14285714285714285, \"Daily confirmed deaths\": \"Daily confirmed deaths\", \"7-day rolling average\": \"7-day rolling average\"}, {\"Dates\": \"2020-04-24\", \"New_deaths\": 1, \"Rolling\": 0.2857142857142857, \"Daily confirmed deaths\": \"Daily confirmed deaths\", \"7-day rolling average\": \"7-day rolling average\"}, {\"Dates\": \"2020-04-25\", \"New_deaths\": 0, \"Rolling\": 0.2857142857142857, \"Daily confirmed deaths\": \"Daily confirmed deaths\", \"7-day rolling average\": \"7-day rolling average\"}, {\"Dates\": \"2020-04-26\", \"New_deaths\": 1, \"Rolling\": 0.42857142857142855, \"Daily confirmed deaths\": \"Daily confirmed deaths\", \"7-day rolling average\": \"7-day rolling average\"}, {\"Dates\": \"2020-04-27\", \"New_deaths\": 1, \"Rolling\": 0.5714285714285714, \"Daily confirmed deaths\": \"Daily confirmed deaths\", \"7-day rolling average\": \"7-day rolling average\"}]}}, {\"mode\": \"vega-lite\"});\n",
       "</script>"
      ],
      "text/plain": [
       "alt.LayerChart(...)"
      ]
     },
     "execution_count": 106,
     "metadata": {},
     "output_type": "execute_result"
    }
   ],
   "source": [
    "#hide_input\n",
    "bars, line = my_deaths_plot(region)\n",
    "(bars + line).properties(\n",
    "    title=f'COVID-19 in Chile: Daily confirmed deaths in {region}',\n",
    "    width=600\n",
    ")"
   ]
  },
  {
   "cell_type": "code",
   "execution_count": null,
   "metadata": {
    "papermill": {
     "duration": 0.104187,
     "end_time": "2020-04-28T12:17:03.636286",
     "exception": false,
     "start_time": "2020-04-28T12:17:03.532099",
     "status": "completed"
    },
    "tags": []
   },
   "outputs": [],
   "source": []
  }
 ],
 "metadata": {
  "kernelspec": {
   "display_name": "visualization-curriculum-gF8wUgMm",
   "language": "python",
   "name": "visualization-curriculum-gf8wugmm"
  },
  "language_info": {
   "codemirror_mode": {
    "name": "ipython",
    "version": 3
   },
   "file_extension": ".py",
   "mimetype": "text/x-python",
   "name": "python",
   "nbconvert_exporter": "python",
   "pygments_lexer": "ipython3",
   "version": "3.6.7"
  },
  "papermill": {
   "duration": 36.860067,
   "end_time": "2020-04-28T12:17:03.848187",
   "environment_variables": {},
   "exception": null,
   "input_path": "2020-04-27-Covid-19-Overview-Chile.ipynb",
   "output_path": "2020-04-27-Covid-19-Overview-Chile.ipynb",
   "parameters": {},
   "start_time": "2020-04-28T12:16:26.988120",
   "version": "2.1.1"
  }
 },
 "nbformat": 4,
 "nbformat_minor": 2
}
